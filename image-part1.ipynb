{
 "cells": [
  {
   "cell_type": "markdown",
   "id": "3d466315",
   "metadata": {
    "id": "a7ff34cb",
    "papermill": {
     "duration": 0.01932,
     "end_time": "2024-04-18T01:18:45.540835",
     "exception": false,
     "start_time": "2024-04-18T01:18:45.521515",
     "status": "completed"
    },
    "tags": []
   },
   "source": [
    "<a href=\"https://www.kaggle.com/code/pes1ug22am164/image-part?scriptVersionId=171996997\" target=\"_blank\"><img align=\"left\" alt=\"Kaggle\" title=\"Open in Kaggle\" src=\"https://kaggle.com/static/images/open-in-kaggle.svg\"></a>"
   ]
  },
  {
   "cell_type": "markdown",
   "id": "bcfbd0a2",
   "metadata": {
    "id": "222a0f8e",
    "papermill": {
     "duration": 0.018495,
     "end_time": "2024-04-18T01:18:45.578307",
     "exception": false,
     "start_time": "2024-04-18T01:18:45.559812",
     "status": "completed"
    },
    "tags": []
   },
   "source": [
    "# uncomment on google colab, comment on kaggle."
   ]
  },
  {
   "cell_type": "code",
   "execution_count": 1,
   "id": "139a5355",
   "metadata": {
    "execution": {
     "iopub.execute_input": "2024-04-18T01:18:45.618184Z",
     "iopub.status.busy": "2024-04-18T01:18:45.617781Z",
     "iopub.status.idle": "2024-04-18T01:18:45.623059Z",
     "shell.execute_reply": "2024-04-18T01:18:45.622094Z"
    },
    "id": "730ebdb2",
    "outputId": "db526a1f-00de-401b-bf8a-d4dc1afed7fb",
    "papermill": {
     "duration": 0.026947,
     "end_time": "2024-04-18T01:18:45.625330",
     "exception": false,
     "start_time": "2024-04-18T01:18:45.598383",
     "status": "completed"
    },
    "tags": []
   },
   "outputs": [],
   "source": [
    "# !mkdir ~/.kaggle\n",
    "# from google.colab import files\n",
    "# files.upload()\n",
    "# !cp kaggle.json ~/.kaggle/\n",
    "# !chmod 600 ~/.kaggle/kaggle.json\n",
    "# !kaggle datasets download -d shusrith/betterer-preproc"
   ]
  },
  {
   "cell_type": "code",
   "execution_count": 2,
   "id": "1ab65607",
   "metadata": {
    "execution": {
     "iopub.execute_input": "2024-04-18T01:18:45.664311Z",
     "iopub.status.busy": "2024-04-18T01:18:45.663548Z",
     "iopub.status.idle": "2024-04-18T01:18:45.668118Z",
     "shell.execute_reply": "2024-04-18T01:18:45.667133Z"
    },
    "id": "d02ab8ba",
    "papermill": {
     "duration": 0.026644,
     "end_time": "2024-04-18T01:18:45.670390",
     "exception": false,
     "start_time": "2024-04-18T01:18:45.643746",
     "status": "completed"
    },
    "tags": []
   },
   "outputs": [],
   "source": [
    "# !unzip /content/betterer-preproc.zip"
   ]
  },
  {
   "cell_type": "code",
   "execution_count": 3,
   "id": "78a99b19",
   "metadata": {
    "execution": {
     "iopub.execute_input": "2024-04-18T01:18:45.710851Z",
     "iopub.status.busy": "2024-04-18T01:18:45.710154Z",
     "iopub.status.idle": "2024-04-18T01:18:45.714816Z",
     "shell.execute_reply": "2024-04-18T01:18:45.713778Z"
    },
    "id": "729247b8",
    "outputId": "2de840d7-51bd-4f6b-d92e-b46400cef0e9",
    "papermill": {
     "duration": 0.02783,
     "end_time": "2024-04-18T01:18:45.717133",
     "exception": false,
     "start_time": "2024-04-18T01:18:45.689303",
     "status": "completed"
    },
    "tags": []
   },
   "outputs": [],
   "source": [
    "# !kaggle datasets download -d tourist55/alzheimers-dataset-4-class-of-images"
   ]
  },
  {
   "cell_type": "code",
   "execution_count": 4,
   "id": "47405e72",
   "metadata": {
    "execution": {
     "iopub.execute_input": "2024-04-18T01:18:45.757678Z",
     "iopub.status.busy": "2024-04-18T01:18:45.756779Z",
     "iopub.status.idle": "2024-04-18T01:18:45.761539Z",
     "shell.execute_reply": "2024-04-18T01:18:45.760406Z"
    },
    "id": "de92906d",
    "papermill": {
     "duration": 0.027355,
     "end_time": "2024-04-18T01:18:45.763757",
     "exception": false,
     "start_time": "2024-04-18T01:18:45.736402",
     "status": "completed"
    },
    "tags": []
   },
   "outputs": [],
   "source": [
    "# !unzip /content/alzheimers-dataset-4-class-of-images.zip"
   ]
  },
  {
   "cell_type": "markdown",
   "id": "c5f8bfcf",
   "metadata": {
    "id": "beabf59f",
    "papermill": {
     "duration": 0.018614,
     "end_time": "2024-04-18T01:18:45.801494",
     "exception": false,
     "start_time": "2024-04-18T01:18:45.782880",
     "status": "completed"
    },
    "tags": []
   },
   "source": [
    "# PRE PROCESS\n",
    ".JPG TO .NPY"
   ]
  },
  {
   "cell_type": "code",
   "execution_count": 5,
   "id": "ba625ab6",
   "metadata": {
    "execution": {
     "iopub.execute_input": "2024-04-18T01:18:45.840619Z",
     "iopub.status.busy": "2024-04-18T01:18:45.839929Z",
     "iopub.status.idle": "2024-04-18T01:18:45.845115Z",
     "shell.execute_reply": "2024-04-18T01:18:45.844102Z"
    },
    "id": "9f788ed4",
    "papermill": {
     "duration": 0.027261,
     "end_time": "2024-04-18T01:18:45.847377",
     "exception": false,
     "start_time": "2024-04-18T01:18:45.820116",
     "status": "completed"
    },
    "tags": []
   },
   "outputs": [],
   "source": [
    "# import os\n",
    "# import cv2\n",
    "# import numpy as np\n",
    "\n",
    "# def jpg_to_npy_in_folders(input_folder, output_folder):\n",
    "#     os.makedirs(output_folder, exist_ok=True)\n",
    "#     for i, item in enumerate(os.listdir(input_folder)):\n",
    "#         item_path = os.path.join(input_folder, item)\n",
    "#         if os.path.isdir(item_path):\n",
    "#             jpg_to_npy_in_folders(item_path, output_folder)\n",
    "#         elif os.path.isfile(item_path) and item.endswith(\".jpg\"):\n",
    "#             img = cv2.imread(item_path)\n",
    "#             img_array = np.array(img)\n",
    "#             output_file_path = os.path.join(output_folder, os.path.splitext(item)[0] + '.npy')\n",
    "#             np.save(output_file_path, img_array)\n",
    "\n",
    "# # input_folder_path = \"/content/Alzheimer_s Dataset/train\"\n",
    "# input_folder_path = \"/kaggle/input/alzheimers-dataset-4-class-of-images/Alzheimer_s Dataset/train\"\n",
    "# output_folder_path = \"/kaggle/working/train\"\n",
    "\n",
    "# jpg_to_npy_in_folders(input_folder_path, output_folder_path)\n",
    "\n"
   ]
  },
  {
   "cell_type": "code",
   "execution_count": 6,
   "id": "100f1285",
   "metadata": {
    "_cell_guid": "b1076dfc-b9ad-4769-8c92-a6c4dae69d19",
    "_uuid": "8f2839f25d086af736a60e9eeb907d3b93b6e0e5",
    "execution": {
     "iopub.execute_input": "2024-04-18T01:18:45.886455Z",
     "iopub.status.busy": "2024-04-18T01:18:45.886083Z",
     "iopub.status.idle": "2024-04-18T01:18:45.891449Z",
     "shell.execute_reply": "2024-04-18T01:18:45.890565Z"
    },
    "id": "cc57fffe",
    "papermill": {
     "duration": 0.027296,
     "end_time": "2024-04-18T01:18:45.893651",
     "exception": false,
     "start_time": "2024-04-18T01:18:45.866355",
     "status": "completed"
    },
    "tags": []
   },
   "outputs": [],
   "source": [
    "# import os\n",
    "# import cv2\n",
    "# import numpy as np\n",
    "\n",
    "# def jpg_to_npy_in_folders(input_folder, output_folder):\n",
    "#     os.makedirs(output_folder, exist_ok=True)\n",
    "#     for i, item in enumerate(os.listdir(input_folder)):\n",
    "#         item_path = os.path.join(input_folder, item)\n",
    "#         if os.path.isdir(item_path):\n",
    "#             jpg_to_npy_in_folders(item_path, output_folder)\n",
    "#         elif os.path.isfile(item_path) and item.endswith(\".jpg\"):\n",
    "#             img = cv2.imread(item_path)\n",
    "#             img_array = np.array(img)\n",
    "#             folder = input_folder.split(\"/\")[-1]\n",
    "#             output_file_path = os.path.join(output_folder, f\"{folder}{i}.npy\")\n",
    "#             np.save(output_file_path, img_array)\n",
    "\n",
    "# # input_folder_path = \"/kaggle/input/alzheimers-dataset-4-class-of-images/Alzheimer_s Dataset/train\"\n",
    "# # output_folder_path = \"/kaggle/working/train\"\n",
    "\n",
    "# # jpg_to_npy_in_folders(input_folder_path, output_folder_path)\n",
    "# jpg_to_npy_in_folders(\"/kaggle/input/alzheimers-dataset-4-class-of-images/Alzheimer_s Dataset/test\", \"/kaggle/working/test\")\n",
    "# # jpg_to_npy_in_folders(\"/content/Alzheimer_s Dataset/test\", \"/kaggle/working/test\")\n",
    "\n"
   ]
  },
  {
   "cell_type": "code",
   "execution_count": 7,
   "id": "3285b891",
   "metadata": {
    "execution": {
     "iopub.execute_input": "2024-04-18T01:18:45.932777Z",
     "iopub.status.busy": "2024-04-18T01:18:45.932393Z",
     "iopub.status.idle": "2024-04-18T01:18:45.936846Z",
     "shell.execute_reply": "2024-04-18T01:18:45.935869Z"
    },
    "id": "45ed7ce8",
    "outputId": "865f1a6f-e95a-42b4-de37-e3d3980fe6e0",
    "papermill": {
     "duration": 0.027058,
     "end_time": "2024-04-18T01:18:45.939098",
     "exception": false,
     "start_time": "2024-04-18T01:18:45.912040",
     "status": "completed"
    },
    "tags": []
   },
   "outputs": [],
   "source": [
    "# import os\n",
    "# import numpy as np\n",
    "# directory = '/kaggle/working/train'\n",
    "\n",
    "# files = [file for file in os.listdir(directory) if file.endswith('.npy')]\n",
    "# len(files)\n"
   ]
  },
  {
   "cell_type": "code",
   "execution_count": 8,
   "id": "72c952a2",
   "metadata": {
    "execution": {
     "iopub.execute_input": "2024-04-18T01:18:45.977759Z",
     "iopub.status.busy": "2024-04-18T01:18:45.977355Z",
     "iopub.status.idle": "2024-04-18T01:18:45.981887Z",
     "shell.execute_reply": "2024-04-18T01:18:45.980947Z"
    },
    "id": "641639b4",
    "outputId": "eb52d6da-ee7a-4674-9631-2633c127ae61",
    "papermill": {
     "duration": 0.02634,
     "end_time": "2024-04-18T01:18:45.983998",
     "exception": false,
     "start_time": "2024-04-18T01:18:45.957658",
     "status": "completed"
    },
    "tags": []
   },
   "outputs": [],
   "source": [
    "# mildDem = [i for i in files if i.startswith(\"mildDem\")]\n",
    "# moderateDem = [i for i in files if \"moderateDem\" in i]\n",
    "# nonDem = [i for i in files if \"nonDem\" in i]\n",
    "# veryMild = [i for i in files if \"verymildDem\" in i]\n",
    "# print(len(mildDem), len(moderateDem), len(nonDem), len(veryMild))"
   ]
  },
  {
   "cell_type": "code",
   "execution_count": 9,
   "id": "3e104f6b",
   "metadata": {
    "execution": {
     "iopub.execute_input": "2024-04-18T01:18:46.024804Z",
     "iopub.status.busy": "2024-04-18T01:18:46.023821Z",
     "iopub.status.idle": "2024-04-18T01:18:46.029099Z",
     "shell.execute_reply": "2024-04-18T01:18:46.028134Z"
    },
    "id": "dce546ff",
    "papermill": {
     "duration": 0.028841,
     "end_time": "2024-04-18T01:18:46.031483",
     "exception": false,
     "start_time": "2024-04-18T01:18:46.002642",
     "status": "completed"
    },
    "tags": []
   },
   "outputs": [],
   "source": [
    "# import imgaug.augmenters as iaa\n",
    "\n",
    "# # Define the augmenter\n",
    "# augmenter = iaa.Sequential([\n",
    "#     iaa.Affine(rotate=(-10, 10)),  # Rotate the image by -10 to 10 degrees\n",
    "#     iaa.GaussianBlur(sigma=(0.0, 1.0)),  # Apply Gaussian blur with a sigma ranging from 0.0 to 1.0\n",
    "#     iaa.AdditiveGaussianNoise(scale=(0, 0.05*255)),  # Add Gaussian noise with a scale of 0 to 0.05 times 255\n",
    "#     iaa.Multiply((0.9, 1.1)),\n",
    "#     iaa.LinearContrast((0.9, 1.1)),\n",
    "# ])\n",
    "\n",
    "# augmented_images = []\n",
    "\n",
    "# for path in moderateDem:\n",
    "#     path = os.path.join(\"/kaggle/working/train\", path)\n",
    "#     image = np.load(path)\n",
    "\n",
    "#     for _ in range(35):\n",
    "#         augmented_image = augmenter.augment_image(image)\n",
    "#         augmented_images.append(augmented_image)\n",
    "# augmented_images = np.array(augmented_images)"
   ]
  },
  {
   "cell_type": "code",
   "execution_count": 10,
   "id": "e131f473",
   "metadata": {
    "execution": {
     "iopub.execute_input": "2024-04-18T01:18:46.069761Z",
     "iopub.status.busy": "2024-04-18T01:18:46.069390Z",
     "iopub.status.idle": "2024-04-18T01:18:46.073590Z",
     "shell.execute_reply": "2024-04-18T01:18:46.072662Z"
    },
    "id": "82cf94d7",
    "papermill": {
     "duration": 0.025843,
     "end_time": "2024-04-18T01:18:46.075674",
     "exception": false,
     "start_time": "2024-04-18T01:18:46.049831",
     "status": "completed"
    },
    "tags": []
   },
   "outputs": [],
   "source": [
    "# len(augmented_images)"
   ]
  },
  {
   "cell_type": "code",
   "execution_count": 11,
   "id": "45bf1659",
   "metadata": {
    "execution": {
     "iopub.execute_input": "2024-04-18T01:18:46.114455Z",
     "iopub.status.busy": "2024-04-18T01:18:46.114094Z",
     "iopub.status.idle": "2024-04-18T01:18:46.119094Z",
     "shell.execute_reply": "2024-04-18T01:18:46.118091Z"
    },
    "id": "23bca643",
    "papermill": {
     "duration": 0.027487,
     "end_time": "2024-04-18T01:18:46.121311",
     "exception": false,
     "start_time": "2024-04-18T01:18:46.093824",
     "status": "completed"
    },
    "tags": []
   },
   "outputs": [],
   "source": [
    "# import cv2\n",
    "# import os\n",
    "\n",
    "\n",
    "# output_directory = \"/kaggle/working/train\"\n",
    "\n",
    "# os.makedirs(output_directory, exist_ok=True)\n",
    "\n",
    "# for i, image in enumerate(augmented_images):\n",
    "#     output_path = os.path.join(output_directory, f\"moderateDem{i+53}.npy\")\n",
    "#     np.save(output_path, image)\n",
    "\n",
    "\n",
    "# print(\"Augmented images saved successfully.\")\n"
   ]
  },
  {
   "cell_type": "code",
   "execution_count": 12,
   "id": "ceec9ce8",
   "metadata": {
    "execution": {
     "iopub.execute_input": "2024-04-18T01:18:46.160605Z",
     "iopub.status.busy": "2024-04-18T01:18:46.159686Z",
     "iopub.status.idle": "2024-04-18T01:18:46.164349Z",
     "shell.execute_reply": "2024-04-18T01:18:46.163345Z"
    },
    "id": "7e6179eb",
    "papermill": {
     "duration": 0.026677,
     "end_time": "2024-04-18T01:18:46.166384",
     "exception": false,
     "start_time": "2024-04-18T01:18:46.139707",
     "status": "completed"
    },
    "tags": []
   },
   "outputs": [],
   "source": [
    "# augmented_images = []\n",
    "\n",
    "# for path in mildDem:\n",
    "#     path = os.path.join(\"/kaggle/working/train\", path)\n",
    "#     image = np.load(path)\n",
    "\n",
    "#     for _ in range(2):\n",
    "#         augmented_image = augmenter.augment_image(image)\n",
    "#         augmented_images.append(augmented_image)\n",
    "# augmented_images = np.array(augmented_images)"
   ]
  },
  {
   "cell_type": "code",
   "execution_count": 13,
   "id": "8db22427",
   "metadata": {
    "execution": {
     "iopub.execute_input": "2024-04-18T01:18:46.205815Z",
     "iopub.status.busy": "2024-04-18T01:18:46.205162Z",
     "iopub.status.idle": "2024-04-18T01:18:46.209470Z",
     "shell.execute_reply": "2024-04-18T01:18:46.208519Z"
    },
    "id": "1bd61403",
    "papermill": {
     "duration": 0.026772,
     "end_time": "2024-04-18T01:18:46.211750",
     "exception": false,
     "start_time": "2024-04-18T01:18:46.184978",
     "status": "completed"
    },
    "tags": []
   },
   "outputs": [],
   "source": [
    "# len(augmented_images)"
   ]
  },
  {
   "cell_type": "code",
   "execution_count": 14,
   "id": "c9fb32ea",
   "metadata": {
    "execution": {
     "iopub.execute_input": "2024-04-18T01:18:46.249929Z",
     "iopub.status.busy": "2024-04-18T01:18:46.249524Z",
     "iopub.status.idle": "2024-04-18T01:18:46.254090Z",
     "shell.execute_reply": "2024-04-18T01:18:46.253119Z"
    },
    "id": "0052f02c",
    "papermill": {
     "duration": 0.025987,
     "end_time": "2024-04-18T01:18:46.256244",
     "exception": false,
     "start_time": "2024-04-18T01:18:46.230257",
     "status": "completed"
    },
    "tags": []
   },
   "outputs": [],
   "source": [
    "# output_directory = \"/kaggle/working/train\"\n",
    "\n",
    "# os.makedirs(output_directory, exist_ok=True)\n",
    "\n",
    "# for i, image in enumerate(augmented_images):\n",
    "#     output_path = os.path.join(output_directory, f\"mildDem{i+718}.npy\")\n",
    "#     np.save(output_path, image)\n",
    "\n",
    "\n",
    "# print(\"Augmented images saved successfully.\")"
   ]
  },
  {
   "cell_type": "code",
   "execution_count": 15,
   "id": "a3a111c9",
   "metadata": {
    "execution": {
     "iopub.execute_input": "2024-04-18T01:18:46.295111Z",
     "iopub.status.busy": "2024-04-18T01:18:46.294440Z",
     "iopub.status.idle": "2024-04-18T01:18:46.299817Z",
     "shell.execute_reply": "2024-04-18T01:18:46.299039Z"
    },
    "id": "23ddd520",
    "outputId": "5166c6b8-c5df-4c8e-ddd3-e070143369aa",
    "papermill": {
     "duration": 0.027502,
     "end_time": "2024-04-18T01:18:46.302192",
     "exception": false,
     "start_time": "2024-04-18T01:18:46.274690",
     "status": "completed"
    },
    "tags": []
   },
   "outputs": [],
   "source": [
    "# import os\n",
    "# import numpy as np\n",
    "# directory = '/kaggle/working/train'\n",
    "\n",
    "# files = [file for file in os.listdir(directory) if file.endswith('.npy')]\n",
    "# len(files)"
   ]
  },
  {
   "cell_type": "code",
   "execution_count": 16,
   "id": "6f291489",
   "metadata": {
    "execution": {
     "iopub.execute_input": "2024-04-18T01:18:46.341171Z",
     "iopub.status.busy": "2024-04-18T01:18:46.340780Z",
     "iopub.status.idle": "2024-04-18T01:18:46.345468Z",
     "shell.execute_reply": "2024-04-18T01:18:46.344453Z"
    },
    "id": "a16db2fd",
    "outputId": "d87f5b28-535f-45c7-850a-9c6f6eed4db4",
    "papermill": {
     "duration": 0.026929,
     "end_time": "2024-04-18T01:18:46.347737",
     "exception": false,
     "start_time": "2024-04-18T01:18:46.320808",
     "status": "completed"
    },
    "tags": []
   },
   "outputs": [],
   "source": [
    "# mildDem = [i for i in files if i.startswith(\"mildDem\")]\n",
    "# moderateDem = [i for i in files if \"moderateDem\" in i]\n",
    "# nonDem = [i for i in files if \"nonDem\" in i]\n",
    "# veryMild = [i for i in files if \"verymildDem\" in i]\n",
    "# print(len(mildDem), len(moderateDem), len(nonDem), len(veryMild))"
   ]
  },
  {
   "cell_type": "code",
   "execution_count": 17,
   "id": "edf4e1ec",
   "metadata": {
    "execution": {
     "iopub.execute_input": "2024-04-18T01:18:46.386287Z",
     "iopub.status.busy": "2024-04-18T01:18:46.385918Z",
     "iopub.status.idle": "2024-04-18T01:18:46.390761Z",
     "shell.execute_reply": "2024-04-18T01:18:46.389779Z"
    },
    "id": "0c4848ad",
    "outputId": "fb174b0c-11cc-41a5-9c4e-36cafaba641f",
    "papermill": {
     "duration": 0.026824,
     "end_time": "2024-04-18T01:18:46.392876",
     "exception": false,
     "start_time": "2024-04-18T01:18:46.366052",
     "status": "completed"
    },
    "tags": []
   },
   "outputs": [],
   "source": [
    "# import pandas as pd\n",
    "# l = [[mildDem, 0], [moderateDem, 1], [nonDem, 2], [veryMild, 3]]\n",
    "# x = []\n",
    "# for i in l:\n",
    "#     for j in i[0]:\n",
    "#         path = os.path.join(\"/kaggle/working/train\", j)\n",
    "#         x.append([i[1], path])\n",
    "\n",
    "# df = pd.DataFrame(x, columns=[\"Class\", \"Path\"])\n",
    "# x = df[\"Class\"].value_counts()\n",
    "# x"
   ]
  },
  {
   "cell_type": "code",
   "execution_count": 18,
   "id": "1eef5406",
   "metadata": {
    "execution": {
     "iopub.execute_input": "2024-04-18T01:18:46.484454Z",
     "iopub.status.busy": "2024-04-18T01:18:46.483675Z",
     "iopub.status.idle": "2024-04-18T01:18:46.488006Z",
     "shell.execute_reply": "2024-04-18T01:18:46.486940Z"
    },
    "id": "a0d2912b",
    "papermill": {
     "duration": 0.0787,
     "end_time": "2024-04-18T01:18:46.490213",
     "exception": false,
     "start_time": "2024-04-18T01:18:46.411513",
     "status": "completed"
    },
    "tags": []
   },
   "outputs": [],
   "source": [
    "# images = []\n",
    "# for i in df[\"Path\"]:\n",
    "#     images.append(np.load(i))\n",
    "# images = np.array(images)"
   ]
  },
  {
   "cell_type": "code",
   "execution_count": 19,
   "id": "c55e472c",
   "metadata": {
    "execution": {
     "iopub.execute_input": "2024-04-18T01:18:46.529321Z",
     "iopub.status.busy": "2024-04-18T01:18:46.528959Z",
     "iopub.status.idle": "2024-04-18T01:18:46.533511Z",
     "shell.execute_reply": "2024-04-18T01:18:46.532556Z"
    },
    "id": "YXHLFv4QEPM_",
    "papermill": {
     "duration": 0.026275,
     "end_time": "2024-04-18T01:18:46.535739",
     "exception": false,
     "start_time": "2024-04-18T01:18:46.509464",
     "status": "completed"
    },
    "tags": []
   },
   "outputs": [],
   "source": [
    "# from imblearn.over_sampling import SMOTE\n",
    "\n",
    "# sm = SMOTE(random_state=42)\n",
    "# flattened_images = [image.flatten() for image in images]\n",
    "# image_shape = images[0].shape\n",
    "# X_res, y_res = sm.fit_resample(flattened_images, np.array(df[\"Class\"]))  # `labels` should be your list of class labels\n"
   ]
  },
  {
   "cell_type": "code",
   "execution_count": 20,
   "id": "9271758e",
   "metadata": {
    "execution": {
     "iopub.execute_input": "2024-04-18T01:18:46.574106Z",
     "iopub.status.busy": "2024-04-18T01:18:46.573196Z",
     "iopub.status.idle": "2024-04-18T01:18:46.577960Z",
     "shell.execute_reply": "2024-04-18T01:18:46.576941Z"
    },
    "id": "0hj8resmFvZW",
    "papermill": {
     "duration": 0.02631,
     "end_time": "2024-04-18T01:18:46.580144",
     "exception": false,
     "start_time": "2024-04-18T01:18:46.553834",
     "status": "completed"
    },
    "tags": []
   },
   "outputs": [],
   "source": [
    "# res_images = [np.array(x).reshape(image_shape) for x in X_res]"
   ]
  },
  {
   "cell_type": "code",
   "execution_count": 21,
   "id": "3cab4384",
   "metadata": {
    "execution": {
     "iopub.execute_input": "2024-04-18T01:18:46.618318Z",
     "iopub.status.busy": "2024-04-18T01:18:46.617969Z",
     "iopub.status.idle": "2024-04-18T01:18:46.622406Z",
     "shell.execute_reply": "2024-04-18T01:18:46.621435Z"
    },
    "papermill": {
     "duration": 0.026091,
     "end_time": "2024-04-18T01:18:46.624521",
     "exception": false,
     "start_time": "2024-04-18T01:18:46.598430",
     "status": "completed"
    },
    "tags": []
   },
   "outputs": [],
   "source": [
    "# !rm -rf /kaggle/working/train"
   ]
  },
  {
   "cell_type": "code",
   "execution_count": 22,
   "id": "da530466",
   "metadata": {
    "execution": {
     "iopub.execute_input": "2024-04-18T01:18:46.663248Z",
     "iopub.status.busy": "2024-04-18T01:18:46.662489Z",
     "iopub.status.idle": "2024-04-18T01:18:46.667098Z",
     "shell.execute_reply": "2024-04-18T01:18:46.666109Z"
    },
    "papermill": {
     "duration": 0.026441,
     "end_time": "2024-04-18T01:18:46.669331",
     "exception": false,
     "start_time": "2024-04-18T01:18:46.642890",
     "status": "completed"
    },
    "tags": []
   },
   "outputs": [],
   "source": [
    "# import os\n",
    "\n",
    "# names = {0:\"milDem\", 1:\"moderateDim\", 2:\"nonDem\", 3:\"veryMildDem\"}\n",
    "\n",
    "# # Create the directory if it doesn't exist\n",
    "# os.makedirs(\"/kaggle/working/train/\", exist_ok=True)\n",
    "\n",
    "# for i in range(len(y_res)):\n",
    "#     np.save(f\"/kaggle/working/train/{names[y_res[i]]}{i}.npy\", res_images[i])"
   ]
  },
  {
   "cell_type": "code",
   "execution_count": 23,
   "id": "f9de88d1",
   "metadata": {
    "execution": {
     "iopub.execute_input": "2024-04-18T01:18:46.708510Z",
     "iopub.status.busy": "2024-04-18T01:18:46.707579Z",
     "iopub.status.idle": "2024-04-18T01:18:46.712042Z",
     "shell.execute_reply": "2024-04-18T01:18:46.711066Z"
    },
    "id": "u7gI65mjEu7w",
    "papermill": {
     "duration": 0.026236,
     "end_time": "2024-04-18T01:18:46.714203",
     "exception": false,
     "start_time": "2024-04-18T01:18:46.687967",
     "status": "completed"
    },
    "tags": []
   },
   "outputs": [],
   "source": [
    "# import pandas as pd\n",
    "# labels = pd.DataFrame(y_res)\n",
    "# labels.value_counts()"
   ]
  },
  {
   "cell_type": "code",
   "execution_count": 24,
   "id": "4e4520fd",
   "metadata": {
    "execution": {
     "iopub.execute_input": "2024-04-18T01:18:46.752599Z",
     "iopub.status.busy": "2024-04-18T01:18:46.752238Z",
     "iopub.status.idle": "2024-04-18T01:18:46.756718Z",
     "shell.execute_reply": "2024-04-18T01:18:46.755722Z"
    },
    "papermill": {
     "duration": 0.026187,
     "end_time": "2024-04-18T01:18:46.759136",
     "exception": false,
     "start_time": "2024-04-18T01:18:46.732949",
     "status": "completed"
    },
    "tags": []
   },
   "outputs": [],
   "source": [
    "# images = np.array(res_images)"
   ]
  },
  {
   "cell_type": "code",
   "execution_count": 25,
   "id": "418dfabb",
   "metadata": {
    "execution": {
     "iopub.execute_input": "2024-04-18T01:18:46.799617Z",
     "iopub.status.busy": "2024-04-18T01:18:46.799269Z",
     "iopub.status.idle": "2024-04-18T01:18:47.252745Z",
     "shell.execute_reply": "2024-04-18T01:18:47.251710Z"
    },
    "papermill": {
     "duration": 0.475781,
     "end_time": "2024-04-18T01:18:47.254876",
     "exception": false,
     "start_time": "2024-04-18T01:18:46.779095",
     "status": "completed"
    },
    "tags": []
   },
   "outputs": [
    {
     "data": {
      "text/plain": [
       "10240"
      ]
     },
     "execution_count": 25,
     "metadata": {},
     "output_type": "execute_result"
    }
   ],
   "source": [
    "import os\n",
    "import numpy as np\n",
    "directory = '/kaggle/input/betterest-preproc/train'\n",
    "\n",
    "files = [file for file in os.listdir(directory) if file.endswith('.npy')]\n",
    "len(files)"
   ]
  },
  {
   "cell_type": "code",
   "execution_count": 26,
   "id": "a8dbc3e5",
   "metadata": {
    "execution": {
     "iopub.execute_input": "2024-04-18T01:18:47.294588Z",
     "iopub.status.busy": "2024-04-18T01:18:47.294128Z",
     "iopub.status.idle": "2024-04-18T01:18:47.306221Z",
     "shell.execute_reply": "2024-04-18T01:18:47.304971Z"
    },
    "papermill": {
     "duration": 0.034366,
     "end_time": "2024-04-18T01:18:47.308569",
     "exception": false,
     "start_time": "2024-04-18T01:18:47.274203",
     "status": "completed"
    },
    "tags": []
   },
   "outputs": [
    {
     "name": "stdout",
     "output_type": "stream",
     "text": [
      "2560 2560 2560 2560\n"
     ]
    }
   ],
   "source": [
    "mildDem = [i for i in files if i.startswith(\"milDem\")]\n",
    "moderateDem = [i for i in files if \"moderateDim\" in i]\n",
    "nonDem = [i for i in files if \"nonDem\" in i]\n",
    "veryMild = [i for i in files if \"veryMildDem\" in i]\n",
    "print(len(mildDem), len(moderateDem), len(nonDem), len(veryMild))"
   ]
  },
  {
   "cell_type": "code",
   "execution_count": 27,
   "id": "85e7a0cb",
   "metadata": {
    "execution": {
     "iopub.execute_input": "2024-04-18T01:18:47.348344Z",
     "iopub.status.busy": "2024-04-18T01:18:47.347994Z",
     "iopub.status.idle": "2024-04-18T01:18:48.133345Z",
     "shell.execute_reply": "2024-04-18T01:18:48.132318Z"
    },
    "papermill": {
     "duration": 0.807835,
     "end_time": "2024-04-18T01:18:48.135854",
     "exception": false,
     "start_time": "2024-04-18T01:18:47.328019",
     "status": "completed"
    },
    "tags": []
   },
   "outputs": [
    {
     "data": {
      "text/plain": [
       "Class\n",
       "0    2560\n",
       "1    2560\n",
       "2    2560\n",
       "3    2560\n",
       "Name: count, dtype: int64"
      ]
     },
     "execution_count": 27,
     "metadata": {},
     "output_type": "execute_result"
    }
   ],
   "source": [
    "import pandas as pd\n",
    "l = [[mildDem, 0], [moderateDem, 1], [nonDem, 2], [veryMild, 3]]\n",
    "x = []\n",
    "for i in l:\n",
    "    for j in i[0]:\n",
    "        path = os.path.join(\"/kaggle/input/betterest-preproc/train\", j)\n",
    "        x.append([i[1], path])\n",
    "\n",
    "df = pd.DataFrame(x, columns=[\"Class\", \"Path\"])\n",
    "x = df[\"Class\"].value_counts()\n",
    "x"
   ]
  },
  {
   "cell_type": "code",
   "execution_count": 28,
   "id": "33b1d727",
   "metadata": {
    "execution": {
     "iopub.execute_input": "2024-04-18T01:18:48.178252Z",
     "iopub.status.busy": "2024-04-18T01:18:48.177343Z",
     "iopub.status.idle": "2024-04-18T01:21:29.646551Z",
     "shell.execute_reply": "2024-04-18T01:21:29.645551Z"
    },
    "papermill": {
     "duration": 161.492664,
     "end_time": "2024-04-18T01:21:29.649418",
     "exception": false,
     "start_time": "2024-04-18T01:18:48.156754",
     "status": "completed"
    },
    "tags": []
   },
   "outputs": [],
   "source": [
    "images = []\n",
    "for i in df[\"Path\"]:\n",
    "    images.append(np.load(i))\n",
    "images = np.array(images)"
   ]
  },
  {
   "cell_type": "code",
   "execution_count": 29,
   "id": "7339a00d",
   "metadata": {
    "execution": {
     "iopub.execute_input": "2024-04-18T01:21:29.691277Z",
     "iopub.status.busy": "2024-04-18T01:21:29.690543Z",
     "iopub.status.idle": "2024-04-18T01:21:39.020627Z",
     "shell.execute_reply": "2024-04-18T01:21:39.019316Z"
    },
    "id": "42bc232c",
    "papermill": {
     "duration": 9.354319,
     "end_time": "2024-04-18T01:21:39.023660",
     "exception": false,
     "start_time": "2024-04-18T01:21:29.669341",
     "status": "completed"
    },
    "tags": []
   },
   "outputs": [],
   "source": [
    "from sklearn.model_selection import train_test_split\n",
    "labels = np.array(df[\"Class\"])\n",
    "train_images, test_images, train_labels, test_labels = train_test_split(images, labels, test_size=0.2, random_state=42)\n"
   ]
  },
  {
   "cell_type": "code",
   "execution_count": 30,
   "id": "10a9b1e9",
   "metadata": {
    "execution": {
     "iopub.execute_input": "2024-04-18T01:21:39.065400Z",
     "iopub.status.busy": "2024-04-18T01:21:39.064301Z",
     "iopub.status.idle": "2024-04-18T01:21:39.247079Z",
     "shell.execute_reply": "2024-04-18T01:21:39.246059Z"
    },
    "papermill": {
     "duration": 0.205554,
     "end_time": "2024-04-18T01:21:39.249217",
     "exception": false,
     "start_time": "2024-04-18T01:21:39.043663",
     "status": "completed"
    },
    "tags": []
   },
   "outputs": [
    {
     "data": {
      "text/plain": [
       "0"
      ]
     },
     "execution_count": 30,
     "metadata": {},
     "output_type": "execute_result"
    }
   ],
   "source": [
    "import gc\n",
    "\n",
    "# Assume `arr` is your numpy array\n",
    "del images\n",
    "\n",
    "# Run the garbage collector\n",
    "gc.collect()"
   ]
  },
  {
   "cell_type": "code",
   "execution_count": 31,
   "id": "94de1986",
   "metadata": {
    "execution": {
     "iopub.execute_input": "2024-04-18T01:21:39.290543Z",
     "iopub.status.busy": "2024-04-18T01:21:39.289627Z",
     "iopub.status.idle": "2024-04-18T01:21:39.299517Z",
     "shell.execute_reply": "2024-04-18T01:21:39.298344Z"
    },
    "id": "4b2c9685",
    "outputId": "db02cfbb-a35b-4584-d5a3-e7f69ad31ec6",
    "papermill": {
     "duration": 0.032782,
     "end_time": "2024-04-18T01:21:39.301700",
     "exception": false,
     "start_time": "2024-04-18T01:21:39.268918",
     "status": "completed"
    },
    "tags": []
   },
   "outputs": [
    {
     "name": "stdout",
     "output_type": "stream",
     "text": [
      "[0 2 0 ... 2 0 2]\n",
      "[1 2 1 ... 1 3 2]\n"
     ]
    }
   ],
   "source": [
    "from sklearn.preprocessing import LabelEncoder\n",
    "label_encoder = LabelEncoder()\n",
    "train_labels_encoded = label_encoder.fit_transform(train_labels)\n",
    "test_labels_encoded = label_encoder.transform(test_labels)\n",
    "\n",
    "# Verify the encoded labels\n",
    "print(train_labels_encoded)\n",
    "print(test_labels_encoded)"
   ]
  },
  {
   "cell_type": "code",
   "execution_count": 32,
   "id": "08a95098",
   "metadata": {
    "execution": {
     "iopub.execute_input": "2024-04-18T01:21:39.343803Z",
     "iopub.status.busy": "2024-04-18T01:21:39.342995Z",
     "iopub.status.idle": "2024-04-18T01:21:39.348700Z",
     "shell.execute_reply": "2024-04-18T01:21:39.347757Z"
    },
    "id": "57bb9b57",
    "outputId": "11fedfe4-f4b3-4f63-b745-56561109d4b9",
    "papermill": {
     "duration": 0.02962,
     "end_time": "2024-04-18T01:21:39.351227",
     "exception": false,
     "start_time": "2024-04-18T01:21:39.321607",
     "status": "completed"
    },
    "tags": []
   },
   "outputs": [
    {
     "name": "stdout",
     "output_type": "stream",
     "text": [
      "(8192, 208, 176, 3) (2048, 208, 176, 3) (8192,) (2048,)\n"
     ]
    }
   ],
   "source": [
    "print(train_images.shape, test_images.shape, train_labels_encoded.shape, test_labels_encoded.shape)"
   ]
  },
  {
   "cell_type": "code",
   "execution_count": 33,
   "id": "a45179d9",
   "metadata": {
    "execution": {
     "iopub.execute_input": "2024-04-18T01:21:39.392134Z",
     "iopub.status.busy": "2024-04-18T01:21:39.391653Z",
     "iopub.status.idle": "2024-04-18T01:21:39.399463Z",
     "shell.execute_reply": "2024-04-18T01:21:39.398331Z"
    },
    "id": "798b1b57",
    "outputId": "fcf36ea2-e3b4-4f55-e968-966f54b7e4b8",
    "papermill": {
     "duration": 0.031328,
     "end_time": "2024-04-18T01:21:39.402186",
     "exception": false,
     "start_time": "2024-04-18T01:21:39.370858",
     "status": "completed"
    },
    "tags": []
   },
   "outputs": [
    {
     "name": "stdout",
     "output_type": "stream",
     "text": [
      "[1 2 1 ... 1 3 2]\n"
     ]
    },
    {
     "data": {
      "text/plain": [
       "array([1, 2, 1, ..., 1, 3, 2])"
      ]
     },
     "execution_count": 33,
     "metadata": {},
     "output_type": "execute_result"
    }
   ],
   "source": [
    "print(test_labels)\n",
    "test_labels_encoded"
   ]
  },
  {
   "cell_type": "code",
   "execution_count": 34,
   "id": "b7951c6f",
   "metadata": {
    "execution": {
     "iopub.execute_input": "2024-04-18T01:21:39.443886Z",
     "iopub.status.busy": "2024-04-18T01:21:39.442964Z",
     "iopub.status.idle": "2024-04-18T01:21:39.447593Z",
     "shell.execute_reply": "2024-04-18T01:21:39.446515Z"
    },
    "id": "9edfb12a",
    "outputId": "120a904d-24c2-4cb1-9735-89770054f0ae",
    "papermill": {
     "duration": 0.028255,
     "end_time": "2024-04-18T01:21:39.450298",
     "exception": false,
     "start_time": "2024-04-18T01:21:39.422043",
     "status": "completed"
    },
    "tags": []
   },
   "outputs": [],
   "source": [
    "# print(x.index, x.values, x.array)"
   ]
  },
  {
   "cell_type": "code",
   "execution_count": 35,
   "id": "6486cb6e",
   "metadata": {
    "execution": {
     "iopub.execute_input": "2024-04-18T01:21:39.491880Z",
     "iopub.status.busy": "2024-04-18T01:21:39.491472Z",
     "iopub.status.idle": "2024-04-18T01:21:39.496156Z",
     "shell.execute_reply": "2024-04-18T01:21:39.495072Z"
    },
    "id": "3bcf626e",
    "outputId": "09122aba-716c-48c5-926e-964698fa9660",
    "papermill": {
     "duration": 0.028183,
     "end_time": "2024-04-18T01:21:39.498507",
     "exception": false,
     "start_time": "2024-04-18T01:21:39.470324",
     "status": "completed"
    },
    "tags": []
   },
   "outputs": [],
   "source": [
    "# s = x / len(files)\n",
    "# class_weights = {i:j for i, j in zip(s.index, s.values)}\n",
    "\n",
    "# class_weights\n",
    "# Optional normalization (weights sum to 1)\n",
    "# total_weight = sum(class_weights.values())\n",
    "# class_weights = {class_label: weight / total_weight for class_label, weight in class_weights.items()}\n"
   ]
  },
  {
   "cell_type": "code",
   "execution_count": 36,
   "id": "14b0906e",
   "metadata": {
    "execution": {
     "iopub.execute_input": "2024-04-18T01:21:39.540192Z",
     "iopub.status.busy": "2024-04-18T01:21:39.539314Z",
     "iopub.status.idle": "2024-04-18T01:21:52.675270Z",
     "shell.execute_reply": "2024-04-18T01:21:52.674337Z"
    },
    "id": "Vih39UdnN-bA",
    "papermill": {
     "duration": 13.159501,
     "end_time": "2024-04-18T01:21:52.677975",
     "exception": false,
     "start_time": "2024-04-18T01:21:39.518474",
     "status": "completed"
    },
    "tags": []
   },
   "outputs": [
    {
     "name": "stderr",
     "output_type": "stream",
     "text": [
      "2024-04-18 01:21:41.517828: E external/local_xla/xla/stream_executor/cuda/cuda_dnn.cc:9261] Unable to register cuDNN factory: Attempting to register factory for plugin cuDNN when one has already been registered\n",
      "2024-04-18 01:21:41.517975: E external/local_xla/xla/stream_executor/cuda/cuda_fft.cc:607] Unable to register cuFFT factory: Attempting to register factory for plugin cuFFT when one has already been registered\n",
      "2024-04-18 01:21:41.662440: E external/local_xla/xla/stream_executor/cuda/cuda_blas.cc:1515] Unable to register cuBLAS factory: Attempting to register factory for plugin cuBLAS when one has already been registered\n"
     ]
    }
   ],
   "source": [
    "from keras.models import Sequential\n",
    "from keras.layers import Conv2D, MaxPooling2D, Flatten, Dense, Dropout, Input, BatchNormalization\n",
    "from keras.callbacks import EarlyStopping, LearningRateScheduler\n",
    "from keras.utils import to_categorical\n",
    "from sklearn.utils.class_weight import compute_sample_weight\n",
    "from sklearn.model_selection import train_test_split\n",
    "import numpy as np\n",
    "\n",
    "def conv_block(filters, act='relu'):\n",
    "    \"\"\"Defining a Convolutional NN block for a Sequential CNN model. \"\"\"\n",
    "\n",
    "    block = Sequential()\n",
    "    block.add(Conv2D(filters, 3, activation=act, padding='same'))\n",
    "    block.add(Conv2D(filters, 3, activation=act, padding='same'))\n",
    "    block.add(BatchNormalization())\n",
    "    block.add(MaxPooling2D((2, 2)))\n",
    "\n",
    "    return block"
   ]
  },
  {
   "cell_type": "code",
   "execution_count": 37,
   "id": "09040e51",
   "metadata": {
    "execution": {
     "iopub.execute_input": "2024-04-18T01:21:52.720511Z",
     "iopub.status.busy": "2024-04-18T01:21:52.719856Z",
     "iopub.status.idle": "2024-04-18T01:21:52.726363Z",
     "shell.execute_reply": "2024-04-18T01:21:52.725251Z"
    },
    "id": "aU00auyBOHPp",
    "papermill": {
     "duration": 0.030403,
     "end_time": "2024-04-18T01:21:52.728744",
     "exception": false,
     "start_time": "2024-04-18T01:21:52.698341",
     "status": "completed"
    },
    "tags": []
   },
   "outputs": [],
   "source": [
    "def dense_block(units, dropout_rate, act='relu'):\n",
    "    \"\"\"Defining a Dense NN block for a Sequential CNN model. \"\"\"\n",
    "\n",
    "    block = Sequential()\n",
    "    block.add(Dense(units, activation=act))\n",
    "    block.add(BatchNormalization())\n",
    "    block.add(Dropout(dropout_rate))\n",
    "\n",
    "    return block"
   ]
  },
  {
   "cell_type": "code",
   "execution_count": 38,
   "id": "eee5be88",
   "metadata": {
    "execution": {
     "iopub.execute_input": "2024-04-18T01:21:52.770989Z",
     "iopub.status.busy": "2024-04-18T01:21:52.770169Z",
     "iopub.status.idle": "2024-04-18T01:21:52.774667Z",
     "shell.execute_reply": "2024-04-18T01:21:52.773668Z"
    },
    "id": "RJOIqi7iPHkI",
    "outputId": "02a2a89f-30e7-4b17-e07e-4d9db5271402",
    "papermill": {
     "duration": 0.028391,
     "end_time": "2024-04-18T01:21:52.776973",
     "exception": false,
     "start_time": "2024-04-18T01:21:52.748582",
     "status": "completed"
    },
    "tags": []
   },
   "outputs": [],
   "source": [
    "# !pip install tensorflow_addons\n"
   ]
  },
  {
   "cell_type": "code",
   "execution_count": 39,
   "id": "709a789b",
   "metadata": {
    "execution": {
     "iopub.execute_input": "2024-04-18T01:21:52.819468Z",
     "iopub.status.busy": "2024-04-18T01:21:52.818633Z",
     "iopub.status.idle": "2024-04-18T01:21:53.434480Z",
     "shell.execute_reply": "2024-04-18T01:21:53.433585Z"
    },
    "id": "MiJ3ybUQOTJH",
    "papermill": {
     "duration": 0.639998,
     "end_time": "2024-04-18T01:21:53.437192",
     "exception": false,
     "start_time": "2024-04-18T01:21:52.797194",
     "status": "completed"
    },
    "tags": []
   },
   "outputs": [],
   "source": [
    "import tensorflow as tf\n",
    "\n",
    "class F1Score(tf.keras.metrics.Metric):\n",
    "    def __init__(self, num_classes, **kwargs):\n",
    "        super(F1Score, self).__init__(**kwargs)\n",
    "        self.num_classes = num_classes\n",
    "        self.precision = tf.keras.metrics.Precision()\n",
    "        self.recall = tf.keras.metrics.Recall()\n",
    "\n",
    "    def update_state(self, y_true, y_pred, sample_weight=None):\n",
    "        self.precision.update_state(y_true, y_pred, sample_weight)\n",
    "        self.recall.update_state(y_true, y_pred, sample_weight)\n",
    "\n",
    "    def result(self):\n",
    "        precision = self.precision.result()\n",
    "        recall = self.recall.result()\n",
    "        return 2 * ((precision * recall) / (precision + recall + tf.keras.backend.epsilon()))\n",
    "\n",
    "    def reset_states(self):\n",
    "        self.precision.reset_states()\n",
    "        self.recall.reset_states()\n",
    "\n",
    "METRICS = [tf.keras.metrics.CategoricalAccuracy(name='acc'),\n",
    "           tf.keras.metrics.AUC(name='auc'),\n",
    "           F1Score(num_classes=4)]"
   ]
  },
  {
   "cell_type": "code",
   "execution_count": 40,
   "id": "537e522b",
   "metadata": {
    "execution": {
     "iopub.execute_input": "2024-04-18T01:21:53.479337Z",
     "iopub.status.busy": "2024-04-18T01:21:53.478948Z",
     "iopub.status.idle": "2024-04-18T01:21:53.485433Z",
     "shell.execute_reply": "2024-04-18T01:21:53.484486Z"
    },
    "id": "ZrFo4aLjObWp",
    "papermill": {
     "duration": 0.030003,
     "end_time": "2024-04-18T01:21:53.487579",
     "exception": false,
     "start_time": "2024-04-18T01:21:53.457576",
     "status": "completed"
    },
    "tags": []
   },
   "outputs": [],
   "source": [
    "input_shape = train_images[0].shape\n",
    "\n",
    "train_labels_encoded = to_categorical(train_labels, num_classes=4)\n",
    "test_labels_encoded = to_categorical(test_labels, num_classes=4)\n",
    "\n",
    "# sample_weights = compute_sample_weight(class_weight='balanced', y=np.argmax(train_labels_encoded, axis=1))"
   ]
  },
  {
   "cell_type": "code",
   "execution_count": 41,
   "id": "9f827ae0",
   "metadata": {
    "execution": {
     "iopub.execute_input": "2024-04-18T01:21:53.530086Z",
     "iopub.status.busy": "2024-04-18T01:21:53.528883Z",
     "iopub.status.idle": "2024-04-18T01:21:53.536485Z",
     "shell.execute_reply": "2024-04-18T01:21:53.535615Z"
    },
    "id": "BwhCHPnmOMuq",
    "papermill": {
     "duration": 0.031133,
     "end_time": "2024-04-18T01:21:53.538767",
     "exception": false,
     "start_time": "2024-04-18T01:21:53.507634",
     "status": "completed"
    },
    "tags": []
   },
   "outputs": [],
   "source": [
    "def construct_model(act='relu'):\n",
    "    \"\"\"Constructing a Sequential CNN architecture for performing the classification task. \"\"\"\n",
    "\n",
    "    model = Sequential([\n",
    "        Input(shape=(input_shape)),\n",
    "        conv_block(16),\n",
    "        conv_block(32),\n",
    "        conv_block(64),\n",
    "        conv_block(128),\n",
    "        Dropout(0.2),\n",
    "        conv_block(256),\n",
    "        Dropout(0.2),\n",
    "        Flatten(),\n",
    "        dense_block(512, 0.7),\n",
    "        dense_block(128, 0.5),\n",
    "        dense_block(64, 0.3),\n",
    "        Dense(4, activation='softmax')\n",
    "    ], name = \"cnn_model\")\n",
    "\n",
    "    return model"
   ]
  },
  {
   "cell_type": "code",
   "execution_count": 42,
   "id": "4908373f",
   "metadata": {
    "execution": {
     "iopub.execute_input": "2024-04-18T01:21:53.581197Z",
     "iopub.status.busy": "2024-04-18T01:21:53.580429Z",
     "iopub.status.idle": "2024-04-18T01:21:53.925453Z",
     "shell.execute_reply": "2024-04-18T01:21:53.924407Z"
    },
    "id": "GW5BFTBwPXbT",
    "outputId": "8f02dd19-e3dc-43fd-e03b-8d86c8034548",
    "papermill": {
     "duration": 0.368837,
     "end_time": "2024-04-18T01:21:53.927730",
     "exception": false,
     "start_time": "2024-04-18T01:21:53.558893",
     "status": "completed"
    },
    "tags": []
   },
   "outputs": [
    {
     "data": {
      "text/html": [
       "<pre style=\"white-space:pre;overflow-x:auto;line-height:normal;font-family:Menlo,'DejaVu Sans Mono',consolas,'Courier New',monospace\"><span style=\"font-weight: bold\">Model: \"cnn_model\"</span>\n",
       "</pre>\n"
      ],
      "text/plain": [
       "\u001b[1mModel: \"cnn_model\"\u001b[0m\n"
      ]
     },
     "metadata": {},
     "output_type": "display_data"
    },
    {
     "data": {
      "text/html": [
       "<pre style=\"white-space:pre;overflow-x:auto;line-height:normal;font-family:Menlo,'DejaVu Sans Mono',consolas,'Courier New',monospace\">┏━━━━━━━━━━━━━━━━━━━━━━━━━━━━━━━━━┳━━━━━━━━━━━━━━━━━━━━━━━━┳━━━━━━━━━━━━━━━┓\n",
       "┃<span style=\"font-weight: bold\"> Layer (type)                    </span>┃<span style=\"font-weight: bold\"> Output Shape           </span>┃<span style=\"font-weight: bold\">       Param # </span>┃\n",
       "┡━━━━━━━━━━━━━━━━━━━━━━━━━━━━━━━━━╇━━━━━━━━━━━━━━━━━━━━━━━━╇━━━━━━━━━━━━━━━┩\n",
       "│ sequential (<span style=\"color: #0087ff; text-decoration-color: #0087ff\">Sequential</span>)         │ (<span style=\"color: #00d7ff; text-decoration-color: #00d7ff\">None</span>, <span style=\"color: #00af00; text-decoration-color: #00af00\">104</span>, <span style=\"color: #00af00; text-decoration-color: #00af00\">88</span>, <span style=\"color: #00af00; text-decoration-color: #00af00\">16</span>)    │         <span style=\"color: #00af00; text-decoration-color: #00af00\">2,832</span> │\n",
       "├─────────────────────────────────┼────────────────────────┼───────────────┤\n",
       "│ sequential_1 (<span style=\"color: #0087ff; text-decoration-color: #0087ff\">Sequential</span>)       │ (<span style=\"color: #00d7ff; text-decoration-color: #00d7ff\">None</span>, <span style=\"color: #00af00; text-decoration-color: #00af00\">52</span>, <span style=\"color: #00af00; text-decoration-color: #00af00\">44</span>, <span style=\"color: #00af00; text-decoration-color: #00af00\">32</span>)     │        <span style=\"color: #00af00; text-decoration-color: #00af00\">14,016</span> │\n",
       "├─────────────────────────────────┼────────────────────────┼───────────────┤\n",
       "│ sequential_2 (<span style=\"color: #0087ff; text-decoration-color: #0087ff\">Sequential</span>)       │ (<span style=\"color: #00d7ff; text-decoration-color: #00d7ff\">None</span>, <span style=\"color: #00af00; text-decoration-color: #00af00\">26</span>, <span style=\"color: #00af00; text-decoration-color: #00af00\">22</span>, <span style=\"color: #00af00; text-decoration-color: #00af00\">64</span>)     │        <span style=\"color: #00af00; text-decoration-color: #00af00\">55,680</span> │\n",
       "├─────────────────────────────────┼────────────────────────┼───────────────┤\n",
       "│ sequential_3 (<span style=\"color: #0087ff; text-decoration-color: #0087ff\">Sequential</span>)       │ (<span style=\"color: #00d7ff; text-decoration-color: #00d7ff\">None</span>, <span style=\"color: #00af00; text-decoration-color: #00af00\">13</span>, <span style=\"color: #00af00; text-decoration-color: #00af00\">11</span>, <span style=\"color: #00af00; text-decoration-color: #00af00\">128</span>)    │       <span style=\"color: #00af00; text-decoration-color: #00af00\">221,952</span> │\n",
       "├─────────────────────────────────┼────────────────────────┼───────────────┤\n",
       "│ dropout (<span style=\"color: #0087ff; text-decoration-color: #0087ff\">Dropout</span>)               │ (<span style=\"color: #00d7ff; text-decoration-color: #00d7ff\">None</span>, <span style=\"color: #00af00; text-decoration-color: #00af00\">13</span>, <span style=\"color: #00af00; text-decoration-color: #00af00\">11</span>, <span style=\"color: #00af00; text-decoration-color: #00af00\">128</span>)    │             <span style=\"color: #00af00; text-decoration-color: #00af00\">0</span> │\n",
       "├─────────────────────────────────┼────────────────────────┼───────────────┤\n",
       "│ sequential_4 (<span style=\"color: #0087ff; text-decoration-color: #0087ff\">Sequential</span>)       │ (<span style=\"color: #00d7ff; text-decoration-color: #00d7ff\">None</span>, <span style=\"color: #00af00; text-decoration-color: #00af00\">6</span>, <span style=\"color: #00af00; text-decoration-color: #00af00\">5</span>, <span style=\"color: #00af00; text-decoration-color: #00af00\">256</span>)      │       <span style=\"color: #00af00; text-decoration-color: #00af00\">886,272</span> │\n",
       "├─────────────────────────────────┼────────────────────────┼───────────────┤\n",
       "│ dropout_1 (<span style=\"color: #0087ff; text-decoration-color: #0087ff\">Dropout</span>)             │ (<span style=\"color: #00d7ff; text-decoration-color: #00d7ff\">None</span>, <span style=\"color: #00af00; text-decoration-color: #00af00\">6</span>, <span style=\"color: #00af00; text-decoration-color: #00af00\">5</span>, <span style=\"color: #00af00; text-decoration-color: #00af00\">256</span>)      │             <span style=\"color: #00af00; text-decoration-color: #00af00\">0</span> │\n",
       "├─────────────────────────────────┼────────────────────────┼───────────────┤\n",
       "│ flatten (<span style=\"color: #0087ff; text-decoration-color: #0087ff\">Flatten</span>)               │ (<span style=\"color: #00d7ff; text-decoration-color: #00d7ff\">None</span>, <span style=\"color: #00af00; text-decoration-color: #00af00\">7680</span>)           │             <span style=\"color: #00af00; text-decoration-color: #00af00\">0</span> │\n",
       "├─────────────────────────────────┼────────────────────────┼───────────────┤\n",
       "│ sequential_5 (<span style=\"color: #0087ff; text-decoration-color: #0087ff\">Sequential</span>)       │ (<span style=\"color: #00d7ff; text-decoration-color: #00d7ff\">None</span>, <span style=\"color: #00af00; text-decoration-color: #00af00\">512</span>)            │     <span style=\"color: #00af00; text-decoration-color: #00af00\">3,934,720</span> │\n",
       "├─────────────────────────────────┼────────────────────────┼───────────────┤\n",
       "│ sequential_6 (<span style=\"color: #0087ff; text-decoration-color: #0087ff\">Sequential</span>)       │ (<span style=\"color: #00d7ff; text-decoration-color: #00d7ff\">None</span>, <span style=\"color: #00af00; text-decoration-color: #00af00\">128</span>)            │        <span style=\"color: #00af00; text-decoration-color: #00af00\">66,176</span> │\n",
       "├─────────────────────────────────┼────────────────────────┼───────────────┤\n",
       "│ sequential_7 (<span style=\"color: #0087ff; text-decoration-color: #0087ff\">Sequential</span>)       │ (<span style=\"color: #00d7ff; text-decoration-color: #00d7ff\">None</span>, <span style=\"color: #00af00; text-decoration-color: #00af00\">64</span>)             │         <span style=\"color: #00af00; text-decoration-color: #00af00\">8,512</span> │\n",
       "├─────────────────────────────────┼────────────────────────┼───────────────┤\n",
       "│ dense_3 (<span style=\"color: #0087ff; text-decoration-color: #0087ff\">Dense</span>)                 │ (<span style=\"color: #00d7ff; text-decoration-color: #00d7ff\">None</span>, <span style=\"color: #00af00; text-decoration-color: #00af00\">4</span>)              │           <span style=\"color: #00af00; text-decoration-color: #00af00\">260</span> │\n",
       "└─────────────────────────────────┴────────────────────────┴───────────────┘\n",
       "</pre>\n"
      ],
      "text/plain": [
       "┏━━━━━━━━━━━━━━━━━━━━━━━━━━━━━━━━━┳━━━━━━━━━━━━━━━━━━━━━━━━┳━━━━━━━━━━━━━━━┓\n",
       "┃\u001b[1m \u001b[0m\u001b[1mLayer (type)                   \u001b[0m\u001b[1m \u001b[0m┃\u001b[1m \u001b[0m\u001b[1mOutput Shape          \u001b[0m\u001b[1m \u001b[0m┃\u001b[1m \u001b[0m\u001b[1m      Param #\u001b[0m\u001b[1m \u001b[0m┃\n",
       "┡━━━━━━━━━━━━━━━━━━━━━━━━━━━━━━━━━╇━━━━━━━━━━━━━━━━━━━━━━━━╇━━━━━━━━━━━━━━━┩\n",
       "│ sequential (\u001b[38;5;33mSequential\u001b[0m)         │ (\u001b[38;5;45mNone\u001b[0m, \u001b[38;5;34m104\u001b[0m, \u001b[38;5;34m88\u001b[0m, \u001b[38;5;34m16\u001b[0m)    │         \u001b[38;5;34m2,832\u001b[0m │\n",
       "├─────────────────────────────────┼────────────────────────┼───────────────┤\n",
       "│ sequential_1 (\u001b[38;5;33mSequential\u001b[0m)       │ (\u001b[38;5;45mNone\u001b[0m, \u001b[38;5;34m52\u001b[0m, \u001b[38;5;34m44\u001b[0m, \u001b[38;5;34m32\u001b[0m)     │        \u001b[38;5;34m14,016\u001b[0m │\n",
       "├─────────────────────────────────┼────────────────────────┼───────────────┤\n",
       "│ sequential_2 (\u001b[38;5;33mSequential\u001b[0m)       │ (\u001b[38;5;45mNone\u001b[0m, \u001b[38;5;34m26\u001b[0m, \u001b[38;5;34m22\u001b[0m, \u001b[38;5;34m64\u001b[0m)     │        \u001b[38;5;34m55,680\u001b[0m │\n",
       "├─────────────────────────────────┼────────────────────────┼───────────────┤\n",
       "│ sequential_3 (\u001b[38;5;33mSequential\u001b[0m)       │ (\u001b[38;5;45mNone\u001b[0m, \u001b[38;5;34m13\u001b[0m, \u001b[38;5;34m11\u001b[0m, \u001b[38;5;34m128\u001b[0m)    │       \u001b[38;5;34m221,952\u001b[0m │\n",
       "├─────────────────────────────────┼────────────────────────┼───────────────┤\n",
       "│ dropout (\u001b[38;5;33mDropout\u001b[0m)               │ (\u001b[38;5;45mNone\u001b[0m, \u001b[38;5;34m13\u001b[0m, \u001b[38;5;34m11\u001b[0m, \u001b[38;5;34m128\u001b[0m)    │             \u001b[38;5;34m0\u001b[0m │\n",
       "├─────────────────────────────────┼────────────────────────┼───────────────┤\n",
       "│ sequential_4 (\u001b[38;5;33mSequential\u001b[0m)       │ (\u001b[38;5;45mNone\u001b[0m, \u001b[38;5;34m6\u001b[0m, \u001b[38;5;34m5\u001b[0m, \u001b[38;5;34m256\u001b[0m)      │       \u001b[38;5;34m886,272\u001b[0m │\n",
       "├─────────────────────────────────┼────────────────────────┼───────────────┤\n",
       "│ dropout_1 (\u001b[38;5;33mDropout\u001b[0m)             │ (\u001b[38;5;45mNone\u001b[0m, \u001b[38;5;34m6\u001b[0m, \u001b[38;5;34m5\u001b[0m, \u001b[38;5;34m256\u001b[0m)      │             \u001b[38;5;34m0\u001b[0m │\n",
       "├─────────────────────────────────┼────────────────────────┼───────────────┤\n",
       "│ flatten (\u001b[38;5;33mFlatten\u001b[0m)               │ (\u001b[38;5;45mNone\u001b[0m, \u001b[38;5;34m7680\u001b[0m)           │             \u001b[38;5;34m0\u001b[0m │\n",
       "├─────────────────────────────────┼────────────────────────┼───────────────┤\n",
       "│ sequential_5 (\u001b[38;5;33mSequential\u001b[0m)       │ (\u001b[38;5;45mNone\u001b[0m, \u001b[38;5;34m512\u001b[0m)            │     \u001b[38;5;34m3,934,720\u001b[0m │\n",
       "├─────────────────────────────────┼────────────────────────┼───────────────┤\n",
       "│ sequential_6 (\u001b[38;5;33mSequential\u001b[0m)       │ (\u001b[38;5;45mNone\u001b[0m, \u001b[38;5;34m128\u001b[0m)            │        \u001b[38;5;34m66,176\u001b[0m │\n",
       "├─────────────────────────────────┼────────────────────────┼───────────────┤\n",
       "│ sequential_7 (\u001b[38;5;33mSequential\u001b[0m)       │ (\u001b[38;5;45mNone\u001b[0m, \u001b[38;5;34m64\u001b[0m)             │         \u001b[38;5;34m8,512\u001b[0m │\n",
       "├─────────────────────────────────┼────────────────────────┼───────────────┤\n",
       "│ dense_3 (\u001b[38;5;33mDense\u001b[0m)                 │ (\u001b[38;5;45mNone\u001b[0m, \u001b[38;5;34m4\u001b[0m)              │           \u001b[38;5;34m260\u001b[0m │\n",
       "└─────────────────────────────────┴────────────────────────┴───────────────┘\n"
      ]
     },
     "metadata": {},
     "output_type": "display_data"
    },
    {
     "data": {
      "text/html": [
       "<pre style=\"white-space:pre;overflow-x:auto;line-height:normal;font-family:Menlo,'DejaVu Sans Mono',consolas,'Courier New',monospace\"><span style=\"font-weight: bold\"> Total params: </span><span style=\"color: #00af00; text-decoration-color: #00af00\">5,190,420</span> (19.80 MB)\n",
       "</pre>\n"
      ],
      "text/plain": [
       "\u001b[1m Total params: \u001b[0m\u001b[38;5;34m5,190,420\u001b[0m (19.80 MB)\n"
      ]
     },
     "metadata": {},
     "output_type": "display_data"
    },
    {
     "data": {
      "text/html": [
       "<pre style=\"white-space:pre;overflow-x:auto;line-height:normal;font-family:Menlo,'DejaVu Sans Mono',consolas,'Courier New',monospace\"><span style=\"font-weight: bold\"> Trainable params: </span><span style=\"color: #00af00; text-decoration-color: #00af00\">5,188,020</span> (19.79 MB)\n",
       "</pre>\n"
      ],
      "text/plain": [
       "\u001b[1m Trainable params: \u001b[0m\u001b[38;5;34m5,188,020\u001b[0m (19.79 MB)\n"
      ]
     },
     "metadata": {},
     "output_type": "display_data"
    },
    {
     "data": {
      "text/html": [
       "<pre style=\"white-space:pre;overflow-x:auto;line-height:normal;font-family:Menlo,'DejaVu Sans Mono',consolas,'Courier New',monospace\"><span style=\"font-weight: bold\"> Non-trainable params: </span><span style=\"color: #00af00; text-decoration-color: #00af00\">2,400</span> (9.38 KB)\n",
       "</pre>\n"
      ],
      "text/plain": [
       "\u001b[1m Non-trainable params: \u001b[0m\u001b[38;5;34m2,400\u001b[0m (9.38 KB)\n"
      ]
     },
     "metadata": {},
     "output_type": "display_data"
    }
   ],
   "source": [
    "model = construct_model()\n",
    "model.compile(optimizer='adam',\n",
    "              loss='categorical_crossentropy',\n",
    "              metrics=METRICS)\n",
    "\n",
    "model.summary()\n"
   ]
  },
  {
   "cell_type": "code",
   "execution_count": 43,
   "id": "d9974f58",
   "metadata": {
    "execution": {
     "iopub.execute_input": "2024-04-18T01:21:53.972702Z",
     "iopub.status.busy": "2024-04-18T01:21:53.971766Z",
     "iopub.status.idle": "2024-04-18T01:21:53.981807Z",
     "shell.execute_reply": "2024-04-18T01:21:53.980977Z"
    },
    "id": "-S4uJezqQPbH",
    "papermill": {
     "duration": 0.03506,
     "end_time": "2024-04-18T01:21:53.984122",
     "exception": false,
     "start_time": "2024-04-18T01:21:53.949062",
     "status": "completed"
    },
    "tags": []
   },
   "outputs": [],
   "source": [
    "from keras.optimizers import Adam\n",
    "def lr_schedule(epoch, learning_rate):\n",
    "    if epoch < 20:\n",
    "        return learning_rate\n",
    "    else:\n",
    "        if epoch % 2 == 0:\n",
    "          return learning_rate * 0.95\n",
    "        else:\n",
    "          return learning_rate\n",
    "\n",
    "lr_scheduler = LearningRateScheduler(lr_schedule, verbose=1)\n",
    "\n",
    "initial_learning_rate = 0.001\n",
    "optimizer = Adam(learning_rate=initial_learning_rate)"
   ]
  },
  {
   "cell_type": "code",
   "execution_count": 44,
   "id": "de00ffe0",
   "metadata": {
    "execution": {
     "iopub.execute_input": "2024-04-18T01:21:54.028749Z",
     "iopub.status.busy": "2024-04-18T01:21:54.028363Z",
     "iopub.status.idle": "2024-04-18T01:21:54.034845Z",
     "shell.execute_reply": "2024-04-18T01:21:54.033778Z"
    },
    "id": "Wm4LePTeUtVN",
    "papermill": {
     "duration": 0.031397,
     "end_time": "2024-04-18T01:21:54.037064",
     "exception": false,
     "start_time": "2024-04-18T01:21:54.005667",
     "status": "completed"
    },
    "tags": []
   },
   "outputs": [],
   "source": [
    "class MyCallback(tf.keras.callbacks.Callback):\n",
    "    def on_epoch_end(self, epoch, logs={}):\n",
    "        if logs.get('val_acc') > 0.995:\n",
    "            print(\"\\nReached accuracy threshold! Terminating training.\")\n",
    "            self.model.stop_training = True\n",
    "\n",
    "my_callback = MyCallback()\n",
    "\n",
    "CALLBACKS = [my_callback, lr_scheduler]"
   ]
  },
  {
   "cell_type": "code",
   "execution_count": 45,
   "id": "c1d8e0d1",
   "metadata": {
    "execution": {
     "iopub.execute_input": "2024-04-18T01:21:54.088244Z",
     "iopub.status.busy": "2024-04-18T01:21:54.087839Z",
     "iopub.status.idle": "2024-04-18T01:37:52.105369Z",
     "shell.execute_reply": "2024-04-18T01:37:52.104310Z"
    },
    "id": "tSNJSmmMP9zT",
    "outputId": "7d68c083-d5f4-4323-8514-204d0b2c4371",
    "papermill": {
     "duration": 958.043219,
     "end_time": "2024-04-18T01:37:52.108155",
     "exception": false,
     "start_time": "2024-04-18T01:21:54.064936",
     "status": "completed"
    },
    "tags": []
   },
   "outputs": [
    {
     "name": "stdout",
     "output_type": "stream",
     "text": [
      "\n",
      "Epoch 1: LearningRateScheduler setting learning rate to 0.0010000000474974513.\n",
      "Epoch 1/50\n",
      "\u001b[1m  1/256\u001b[0m \u001b[37m━━━━━━━━━━━━━━━━━━━━\u001b[0m \u001b[1m2:33:55\u001b[0m 36s/step - acc: 0.2500 - auc: 0.5129 - f1_score: 0.1154 - loss: 2.2188"
     ]
    },
    {
     "name": "stderr",
     "output_type": "stream",
     "text": [
      "WARNING: All log messages before absl::InitializeLog() is called are written to STDERR\n",
      "I0000 00:00:1713403368.188167      71 device_compiler.h:186] Compiled cluster using XLA!  This line is logged at most once for the lifetime of the process.\n",
      "W0000 00:00:1713403368.226328      71 graph_launch.cc:671] Fallback to op-by-op mode because memset node breaks graph update\n"
     ]
    },
    {
     "name": "stdout",
     "output_type": "stream",
     "text": [
      "\u001b[1m256/256\u001b[0m \u001b[32m━━━━━━━━━━━━━━━━━━━━\u001b[0m\u001b[37m\u001b[0m \u001b[1m0s\u001b[0m 62ms/step - acc: 0.3953 - auc: 0.6659 - f1_score: 0.3581 - loss: 1.6310"
     ]
    },
    {
     "name": "stderr",
     "output_type": "stream",
     "text": [
      "W0000 00:00:1713403390.718335      71 graph_launch.cc:671] Fallback to op-by-op mode because memset node breaks graph update\n"
     ]
    },
    {
     "name": "stdout",
     "output_type": "stream",
     "text": [
      "\u001b[1m256/256\u001b[0m \u001b[32m━━━━━━━━━━━━━━━━━━━━\u001b[0m\u001b[37m\u001b[0m \u001b[1m60s\u001b[0m 93ms/step - acc: 0.3954 - auc: 0.6661 - f1_score: 0.3582 - loss: 1.6302 - val_acc: 0.4575 - val_auc: 0.7604 - val_f1_score: 0.4480 - val_loss: 1.4533 - learning_rate: 0.0010\n",
      "\n",
      "Epoch 2: LearningRateScheduler setting learning rate to 0.0010000000474974513.\n",
      "Epoch 2/50\n",
      "\u001b[1m256/256\u001b[0m \u001b[32m━━━━━━━━━━━━━━━━━━━━\u001b[0m\u001b[37m\u001b[0m \u001b[1m17s\u001b[0m 68ms/step - acc: 0.4623 - auc: 0.7621 - f1_score: 0.4084 - loss: 1.1533 - val_acc: 0.4502 - val_auc: 0.7238 - val_f1_score: 0.3608 - val_loss: 1.7912 - learning_rate: 0.0010\n",
      "\n",
      "Epoch 3: LearningRateScheduler setting learning rate to 0.0010000000474974513.\n",
      "Epoch 3/50\n",
      "\u001b[1m256/256\u001b[0m \u001b[32m━━━━━━━━━━━━━━━━━━━━\u001b[0m\u001b[37m\u001b[0m \u001b[1m18s\u001b[0m 68ms/step - acc: 0.4780 - auc: 0.7814 - f1_score: 0.4004 - loss: 1.0828 - val_acc: 0.5063 - val_auc: 0.8061 - val_f1_score: 0.3681 - val_loss: 0.9947 - learning_rate: 0.0010\n",
      "\n",
      "Epoch 4: LearningRateScheduler setting learning rate to 0.0010000000474974513.\n",
      "Epoch 4/50\n",
      "\u001b[1m256/256\u001b[0m \u001b[32m━━━━━━━━━━━━━━━━━━━━\u001b[0m\u001b[37m\u001b[0m \u001b[1m18s\u001b[0m 69ms/step - acc: 0.4962 - auc: 0.8010 - f1_score: 0.3962 - loss: 1.0072 - val_acc: 0.5376 - val_auc: 0.8154 - val_f1_score: 0.2531 - val_loss: 0.9937 - learning_rate: 0.0010\n",
      "\n",
      "Epoch 5: LearningRateScheduler setting learning rate to 0.0010000000474974513.\n",
      "Epoch 5/50\n",
      "\u001b[1m256/256\u001b[0m \u001b[32m━━━━━━━━━━━━━━━━━━━━\u001b[0m\u001b[37m\u001b[0m \u001b[1m18s\u001b[0m 69ms/step - acc: 0.5346 - auc: 0.8168 - f1_score: 0.4344 - loss: 0.9798 - val_acc: 0.4985 - val_auc: 0.8100 - val_f1_score: 0.4057 - val_loss: 0.9889 - learning_rate: 0.0010\n",
      "\n",
      "Epoch 6: LearningRateScheduler setting learning rate to 0.0010000000474974513.\n",
      "Epoch 6/50\n",
      "\u001b[1m256/256\u001b[0m \u001b[32m━━━━━━━━━━━━━━━━━━━━\u001b[0m\u001b[37m\u001b[0m \u001b[1m18s\u001b[0m 69ms/step - acc: 0.5856 - auc: 0.8504 - f1_score: 0.5130 - loss: 0.8959 - val_acc: 0.3911 - val_auc: 0.7119 - val_f1_score: 0.3562 - val_loss: 1.5048 - learning_rate: 0.0010\n",
      "\n",
      "Epoch 7: LearningRateScheduler setting learning rate to 0.0010000000474974513.\n",
      "Epoch 7/50\n",
      "\u001b[1m256/256\u001b[0m \u001b[32m━━━━━━━━━━━━━━━━━━━━\u001b[0m\u001b[37m\u001b[0m \u001b[1m18s\u001b[0m 69ms/step - acc: 0.6205 - auc: 0.8739 - f1_score: 0.5690 - loss: 0.8287 - val_acc: 0.6299 - val_auc: 0.8840 - val_f1_score: 0.5869 - val_loss: 0.7884 - learning_rate: 0.0010\n",
      "\n",
      "Epoch 8: LearningRateScheduler setting learning rate to 0.0010000000474974513.\n",
      "Epoch 8/50\n",
      "\u001b[1m256/256\u001b[0m \u001b[32m━━━━━━━━━━━━━━━━━━━━\u001b[0m\u001b[37m\u001b[0m \u001b[1m18s\u001b[0m 69ms/step - acc: 0.6709 - auc: 0.9041 - f1_score: 0.6374 - loss: 0.7212 - val_acc: 0.5586 - val_auc: 0.7982 - val_f1_score: 0.5457 - val_loss: 1.3793 - learning_rate: 0.0010\n",
      "\n",
      "Epoch 9: LearningRateScheduler setting learning rate to 0.0010000000474974513.\n",
      "Epoch 9/50\n",
      "\u001b[1m256/256\u001b[0m \u001b[32m━━━━━━━━━━━━━━━━━━━━\u001b[0m\u001b[37m\u001b[0m \u001b[1m18s\u001b[0m 69ms/step - acc: 0.7252 - auc: 0.9275 - f1_score: 0.6966 - loss: 0.6279 - val_acc: 0.7256 - val_auc: 0.9218 - val_f1_score: 0.6932 - val_loss: 0.6780 - learning_rate: 0.0010\n",
      "\n",
      "Epoch 10: LearningRateScheduler setting learning rate to 0.0010000000474974513.\n",
      "Epoch 10/50\n",
      "\u001b[1m256/256\u001b[0m \u001b[32m━━━━━━━━━━━━━━━━━━━━\u001b[0m\u001b[37m\u001b[0m \u001b[1m18s\u001b[0m 70ms/step - acc: 0.7348 - auc: 0.9338 - f1_score: 0.7208 - loss: 0.5980 - val_acc: 0.4980 - val_auc: 0.8037 - val_f1_score: 0.5001 - val_loss: 1.4964 - learning_rate: 0.0010\n",
      "\n",
      "Epoch 11: LearningRateScheduler setting learning rate to 0.0010000000474974513.\n",
      "Epoch 11/50\n",
      "\u001b[1m256/256\u001b[0m \u001b[32m━━━━━━━━━━━━━━━━━━━━\u001b[0m\u001b[37m\u001b[0m \u001b[1m18s\u001b[0m 70ms/step - acc: 0.7671 - auc: 0.9471 - f1_score: 0.7633 - loss: 0.5356 - val_acc: 0.7275 - val_auc: 0.9381 - val_f1_score: 0.7249 - val_loss: 0.5764 - learning_rate: 0.0010\n",
      "\n",
      "Epoch 12: LearningRateScheduler setting learning rate to 0.0010000000474974513.\n",
      "Epoch 12/50\n",
      "\u001b[1m256/256\u001b[0m \u001b[32m━━━━━━━━━━━━━━━━━━━━\u001b[0m\u001b[37m\u001b[0m \u001b[1m18s\u001b[0m 70ms/step - acc: 0.7840 - auc: 0.9524 - f1_score: 0.7761 - loss: 0.5029 - val_acc: 0.7671 - val_auc: 0.9530 - val_f1_score: 0.7585 - val_loss: 0.4931 - learning_rate: 0.0010\n",
      "\n",
      "Epoch 13: LearningRateScheduler setting learning rate to 0.0010000000474974513.\n",
      "Epoch 13/50\n",
      "\u001b[1m256/256\u001b[0m \u001b[32m━━━━━━━━━━━━━━━━━━━━\u001b[0m\u001b[37m\u001b[0m \u001b[1m18s\u001b[0m 70ms/step - acc: 0.8111 - auc: 0.9623 - f1_score: 0.8080 - loss: 0.4471 - val_acc: 0.7490 - val_auc: 0.9451 - val_f1_score: 0.7471 - val_loss: 0.5481 - learning_rate: 0.0010\n",
      "\n",
      "Epoch 14: LearningRateScheduler setting learning rate to 0.0010000000474974513.\n",
      "Epoch 14/50\n",
      "\u001b[1m256/256\u001b[0m \u001b[32m━━━━━━━━━━━━━━━━━━━━\u001b[0m\u001b[37m\u001b[0m \u001b[1m18s\u001b[0m 70ms/step - acc: 0.8133 - auc: 0.9639 - f1_score: 0.8148 - loss: 0.4422 - val_acc: 0.7891 - val_auc: 0.9577 - val_f1_score: 0.7900 - val_loss: 0.4826 - learning_rate: 0.0010\n",
      "\n",
      "Epoch 15: LearningRateScheduler setting learning rate to 0.0010000000474974513.\n",
      "Epoch 15/50\n",
      "\u001b[1m256/256\u001b[0m \u001b[32m━━━━━━━━━━━━━━━━━━━━\u001b[0m\u001b[37m\u001b[0m \u001b[1m18s\u001b[0m 70ms/step - acc: 0.8570 - auc: 0.9766 - f1_score: 0.8553 - loss: 0.3502 - val_acc: 0.8247 - val_auc: 0.9684 - val_f1_score: 0.8241 - val_loss: 0.4178 - learning_rate: 0.0010\n",
      "\n",
      "Epoch 16: LearningRateScheduler setting learning rate to 0.0010000000474974513.\n",
      "Epoch 16/50\n",
      "\u001b[1m256/256\u001b[0m \u001b[32m━━━━━━━━━━━━━━━━━━━━\u001b[0m\u001b[37m\u001b[0m \u001b[1m18s\u001b[0m 70ms/step - acc: 0.8769 - auc: 0.9816 - f1_score: 0.8753 - loss: 0.3110 - val_acc: 0.8511 - val_auc: 0.9769 - val_f1_score: 0.8503 - val_loss: 0.3570 - learning_rate: 0.0010\n",
      "\n",
      "Epoch 17: LearningRateScheduler setting learning rate to 0.0010000000474974513.\n",
      "Epoch 17/50\n",
      "\u001b[1m256/256\u001b[0m \u001b[32m━━━━━━━━━━━━━━━━━━━━\u001b[0m\u001b[37m\u001b[0m \u001b[1m18s\u001b[0m 70ms/step - acc: 0.9052 - auc: 0.9878 - f1_score: 0.9045 - loss: 0.2504 - val_acc: 0.7251 - val_auc: 0.9398 - val_f1_score: 0.7229 - val_loss: 0.6808 - learning_rate: 0.0010\n",
      "\n",
      "Epoch 18: LearningRateScheduler setting learning rate to 0.0010000000474974513.\n",
      "Epoch 18/50\n",
      "\u001b[1m256/256\u001b[0m \u001b[32m━━━━━━━━━━━━━━━━━━━━\u001b[0m\u001b[37m\u001b[0m \u001b[1m18s\u001b[0m 70ms/step - acc: 0.9102 - auc: 0.9889 - f1_score: 0.9113 - loss: 0.2381 - val_acc: 0.8599 - val_auc: 0.9795 - val_f1_score: 0.8594 - val_loss: 0.3342 - learning_rate: 0.0010\n",
      "\n",
      "Epoch 19: LearningRateScheduler setting learning rate to 0.0010000000474974513.\n",
      "Epoch 19/50\n",
      "\u001b[1m256/256\u001b[0m \u001b[32m━━━━━━━━━━━━━━━━━━━━\u001b[0m\u001b[37m\u001b[0m \u001b[1m18s\u001b[0m 70ms/step - acc: 0.9373 - auc: 0.9930 - f1_score: 0.9364 - loss: 0.1829 - val_acc: 0.7344 - val_auc: 0.9208 - val_f1_score: 0.7350 - val_loss: 0.9481 - learning_rate: 0.0010\n",
      "\n",
      "Epoch 20: LearningRateScheduler setting learning rate to 0.0010000000474974513.\n",
      "Epoch 20/50\n",
      "\u001b[1m256/256\u001b[0m \u001b[32m━━━━━━━━━━━━━━━━━━━━\u001b[0m\u001b[37m\u001b[0m \u001b[1m18s\u001b[0m 70ms/step - acc: 0.9401 - auc: 0.9930 - f1_score: 0.9401 - loss: 0.1755 - val_acc: 0.7427 - val_auc: 0.9274 - val_f1_score: 0.7433 - val_loss: 0.7403 - learning_rate: 0.0010\n",
      "\n",
      "Epoch 21: LearningRateScheduler setting learning rate to 0.0009500000451225787.\n",
      "Epoch 21/50\n",
      "\u001b[1m256/256\u001b[0m \u001b[32m━━━━━━━━━━━━━━━━━━━━\u001b[0m\u001b[37m\u001b[0m \u001b[1m18s\u001b[0m 70ms/step - acc: 0.9353 - auc: 0.9927 - f1_score: 0.9372 - loss: 0.1833 - val_acc: 0.8940 - val_auc: 0.9851 - val_f1_score: 0.8953 - val_loss: 0.2902 - learning_rate: 9.5000e-04\n",
      "\n",
      "Epoch 22: LearningRateScheduler setting learning rate to 0.0009500000160187483.\n",
      "Epoch 22/50\n",
      "\u001b[1m256/256\u001b[0m \u001b[32m━━━━━━━━━━━━━━━━━━━━\u001b[0m\u001b[37m\u001b[0m \u001b[1m18s\u001b[0m 70ms/step - acc: 0.9599 - auc: 0.9967 - f1_score: 0.9592 - loss: 0.1206 - val_acc: 0.7061 - val_auc: 0.9177 - val_f1_score: 0.7084 - val_loss: 0.9773 - learning_rate: 9.5000e-04\n",
      "\n",
      "Epoch 23: LearningRateScheduler setting learning rate to 0.0009025000152178108.\n",
      "Epoch 23/50\n",
      "\u001b[1m256/256\u001b[0m \u001b[32m━━━━━━━━━━━━━━━━━━━━\u001b[0m\u001b[37m\u001b[0m \u001b[1m18s\u001b[0m 70ms/step - acc: 0.9685 - auc: 0.9980 - f1_score: 0.9686 - loss: 0.0927 - val_acc: 0.8804 - val_auc: 0.9813 - val_f1_score: 0.8808 - val_loss: 0.3567 - learning_rate: 9.0250e-04\n",
      "\n",
      "Epoch 24: LearningRateScheduler setting learning rate to 0.0009025000035762787.\n",
      "Epoch 24/50\n",
      "\u001b[1m256/256\u001b[0m \u001b[32m━━━━━━━━━━━━━━━━━━━━\u001b[0m\u001b[37m\u001b[0m \u001b[1m18s\u001b[0m 70ms/step - acc: 0.9730 - auc: 0.9983 - f1_score: 0.9738 - loss: 0.0826 - val_acc: 0.8730 - val_auc: 0.9808 - val_f1_score: 0.8732 - val_loss: 0.3622 - learning_rate: 9.0250e-04\n",
      "\n",
      "Epoch 25: LearningRateScheduler setting learning rate to 0.0008573750033974647.\n",
      "Epoch 25/50\n",
      "\u001b[1m256/256\u001b[0m \u001b[32m━━━━━━━━━━━━━━━━━━━━\u001b[0m\u001b[37m\u001b[0m \u001b[1m18s\u001b[0m 70ms/step - acc: 0.9670 - auc: 0.9980 - f1_score: 0.9668 - loss: 0.0943 - val_acc: 0.9351 - val_auc: 0.9920 - val_f1_score: 0.9357 - val_loss: 0.2008 - learning_rate: 8.5737e-04\n",
      "\n",
      "Epoch 26: LearningRateScheduler setting learning rate to 0.0008573749801144004.\n",
      "Epoch 26/50\n",
      "\u001b[1m256/256\u001b[0m \u001b[32m━━━━━━━━━━━━━━━━━━━━\u001b[0m\u001b[37m\u001b[0m \u001b[1m18s\u001b[0m 70ms/step - acc: 0.9724 - auc: 0.9982 - f1_score: 0.9722 - loss: 0.0802 - val_acc: 0.8789 - val_auc: 0.9774 - val_f1_score: 0.8792 - val_loss: 0.3974 - learning_rate: 8.5737e-04\n",
      "\n",
      "Epoch 27: LearningRateScheduler setting learning rate to 0.0008145062311086804.\n",
      "Epoch 27/50\n",
      "\u001b[1m256/256\u001b[0m \u001b[32m━━━━━━━━━━━━━━━━━━━━\u001b[0m\u001b[37m\u001b[0m \u001b[1m18s\u001b[0m 70ms/step - acc: 0.9669 - auc: 0.9971 - f1_score: 0.9670 - loss: 0.1006 - val_acc: 0.9395 - val_auc: 0.9917 - val_f1_score: 0.9394 - val_loss: 0.1981 - learning_rate: 8.1451e-04\n",
      "\n",
      "Epoch 28: LearningRateScheduler setting learning rate to 0.0008145062020048499.\n",
      "Epoch 28/50\n",
      "\u001b[1m256/256\u001b[0m \u001b[32m━━━━━━━━━━━━━━━━━━━━\u001b[0m\u001b[37m\u001b[0m \u001b[1m18s\u001b[0m 70ms/step - acc: 0.9785 - auc: 0.9988 - f1_score: 0.9783 - loss: 0.0649 - val_acc: 0.9302 - val_auc: 0.9887 - val_f1_score: 0.9299 - val_loss: 0.2288 - learning_rate: 8.1451e-04\n",
      "\n",
      "Epoch 29: LearningRateScheduler setting learning rate to 0.0007737808919046074.\n",
      "Epoch 29/50\n",
      "\u001b[1m256/256\u001b[0m \u001b[32m━━━━━━━━━━━━━━━━━━━━\u001b[0m\u001b[37m\u001b[0m \u001b[1m18s\u001b[0m 70ms/step - acc: 0.9843 - auc: 0.9990 - f1_score: 0.9845 - loss: 0.0518 - val_acc: 0.9429 - val_auc: 0.9926 - val_f1_score: 0.9431 - val_loss: 0.1907 - learning_rate: 7.7378e-04\n",
      "\n",
      "Epoch 30: LearningRateScheduler setting learning rate to 0.000773780862800777.\n",
      "Epoch 30/50\n",
      "\u001b[1m256/256\u001b[0m \u001b[32m━━━━━━━━━━━━━━━━━━━━\u001b[0m\u001b[37m\u001b[0m \u001b[1m18s\u001b[0m 70ms/step - acc: 0.9787 - auc: 0.9986 - f1_score: 0.9794 - loss: 0.0615 - val_acc: 0.9277 - val_auc: 0.9883 - val_f1_score: 0.9277 - val_loss: 0.2293 - learning_rate: 7.7378e-04\n",
      "\n",
      "Epoch 31: LearningRateScheduler setting learning rate to 0.000735091819660738.\n",
      "Epoch 31/50\n",
      "\u001b[1m256/256\u001b[0m \u001b[32m━━━━━━━━━━━━━━━━━━━━\u001b[0m\u001b[37m\u001b[0m \u001b[1m18s\u001b[0m 70ms/step - acc: 0.9820 - auc: 0.9992 - f1_score: 0.9820 - loss: 0.0567 - val_acc: 0.9355 - val_auc: 0.9906 - val_f1_score: 0.9348 - val_loss: 0.2198 - learning_rate: 7.3509e-04\n",
      "\n",
      "Epoch 32: LearningRateScheduler setting learning rate to 0.0007350918021984398.\n",
      "Epoch 32/50\n",
      "\u001b[1m256/256\u001b[0m \u001b[32m━━━━━━━━━━━━━━━━━━━━\u001b[0m\u001b[37m\u001b[0m \u001b[1m18s\u001b[0m 70ms/step - acc: 0.9839 - auc: 0.9992 - f1_score: 0.9840 - loss: 0.0461 - val_acc: 0.9590 - val_auc: 0.9930 - val_f1_score: 0.9590 - val_loss: 0.1505 - learning_rate: 7.3509e-04\n",
      "\n",
      "Epoch 33: LearningRateScheduler setting learning rate to 0.0006983372120885178.\n",
      "Epoch 33/50\n",
      "\u001b[1m256/256\u001b[0m \u001b[32m━━━━━━━━━━━━━━━━━━━━\u001b[0m\u001b[37m\u001b[0m \u001b[1m18s\u001b[0m 70ms/step - acc: 0.9893 - auc: 0.9988 - f1_score: 0.9894 - loss: 0.0399 - val_acc: 0.9585 - val_auc: 0.9935 - val_f1_score: 0.9585 - val_loss: 0.1434 - learning_rate: 6.9834e-04\n",
      "\n",
      "Epoch 34: LearningRateScheduler setting learning rate to 0.0006983372149989009.\n",
      "Epoch 34/50\n",
      "\u001b[1m256/256\u001b[0m \u001b[32m━━━━━━━━━━━━━━━━━━━━\u001b[0m\u001b[37m\u001b[0m \u001b[1m18s\u001b[0m 70ms/step - acc: 0.9914 - auc: 0.9991 - f1_score: 0.9913 - loss: 0.0335 - val_acc: 0.9194 - val_auc: 0.9850 - val_f1_score: 0.9198 - val_loss: 0.2799 - learning_rate: 6.9834e-04\n",
      "\n",
      "Epoch 35: LearningRateScheduler setting learning rate to 0.0006634203542489559.\n",
      "Epoch 35/50\n",
      "\u001b[1m256/256\u001b[0m \u001b[32m━━━━━━━━━━━━━━━━━━━━\u001b[0m\u001b[37m\u001b[0m \u001b[1m18s\u001b[0m 70ms/step - acc: 0.9880 - auc: 0.9985 - f1_score: 0.9880 - loss: 0.0474 - val_acc: 0.9556 - val_auc: 0.9919 - val_f1_score: 0.9556 - val_loss: 0.1652 - learning_rate: 6.6342e-04\n",
      "\n",
      "Epoch 36: LearningRateScheduler setting learning rate to 0.0006634203600697219.\n",
      "Epoch 36/50\n",
      "\u001b[1m256/256\u001b[0m \u001b[32m━━━━━━━━━━━━━━━━━━━━\u001b[0m\u001b[37m\u001b[0m \u001b[1m18s\u001b[0m 70ms/step - acc: 0.9875 - auc: 0.9995 - f1_score: 0.9873 - loss: 0.0419 - val_acc: 0.8540 - val_auc: 0.9554 - val_f1_score: 0.8529 - val_loss: 0.6228 - learning_rate: 6.6342e-04\n",
      "\n",
      "Epoch 37: LearningRateScheduler setting learning rate to 0.0006302493420662358.\n",
      "Epoch 37/50\n",
      "\u001b[1m256/256\u001b[0m \u001b[32m━━━━━━━━━━━━━━━━━━━━\u001b[0m\u001b[37m\u001b[0m \u001b[1m18s\u001b[0m 70ms/step - acc: 0.9880 - auc: 0.9992 - f1_score: 0.9879 - loss: 0.0400 - val_acc: 0.9609 - val_auc: 0.9955 - val_f1_score: 0.9612 - val_loss: 0.1270 - learning_rate: 6.3025e-04\n",
      "\n",
      "Epoch 38: LearningRateScheduler setting learning rate to 0.0006302493275143206.\n",
      "Epoch 38/50\n",
      "\u001b[1m256/256\u001b[0m \u001b[32m━━━━━━━━━━━━━━━━━━━━\u001b[0m\u001b[37m\u001b[0m \u001b[1m18s\u001b[0m 70ms/step - acc: 0.9938 - auc: 0.9998 - f1_score: 0.9939 - loss: 0.0221 - val_acc: 0.9321 - val_auc: 0.9843 - val_f1_score: 0.9319 - val_loss: 0.2748 - learning_rate: 6.3025e-04\n",
      "\n",
      "Epoch 39: LearningRateScheduler setting learning rate to 0.0005987368611386045.\n",
      "Epoch 39/50\n",
      "\u001b[1m256/256\u001b[0m \u001b[32m━━━━━━━━━━━━━━━━━━━━\u001b[0m\u001b[37m\u001b[0m \u001b[1m18s\u001b[0m 70ms/step - acc: 0.9893 - auc: 0.9995 - f1_score: 0.9895 - loss: 0.0311 - val_acc: 0.9453 - val_auc: 0.9857 - val_f1_score: 0.9458 - val_loss: 0.2337 - learning_rate: 5.9874e-04\n",
      "\n",
      "Epoch 40: LearningRateScheduler setting learning rate to 0.0005987368640489876.\n",
      "Epoch 40/50\n",
      "\u001b[1m256/256\u001b[0m \u001b[32m━━━━━━━━━━━━━━━━━━━━\u001b[0m\u001b[37m\u001b[0m \u001b[1m18s\u001b[0m 70ms/step - acc: 0.9877 - auc: 0.9991 - f1_score: 0.9877 - loss: 0.0394 - val_acc: 0.9512 - val_auc: 0.9899 - val_f1_score: 0.9516 - val_loss: 0.1802 - learning_rate: 5.9874e-04\n",
      "\n",
      "Epoch 41: LearningRateScheduler setting learning rate to 0.0005688000208465382.\n",
      "Epoch 41/50\n",
      "\u001b[1m256/256\u001b[0m \u001b[32m━━━━━━━━━━━━━━━━━━━━\u001b[0m\u001b[37m\u001b[0m \u001b[1m18s\u001b[0m 70ms/step - acc: 0.9940 - auc: 0.9997 - f1_score: 0.9937 - loss: 0.0215 - val_acc: 0.9551 - val_auc: 0.9923 - val_f1_score: 0.9548 - val_loss: 0.1630 - learning_rate: 5.6880e-04\n",
      "\n",
      "Epoch 42: LearningRateScheduler setting learning rate to 0.0005688000237569213.\n",
      "Epoch 42/50\n",
      "\u001b[1m256/256\u001b[0m \u001b[32m━━━━━━━━━━━━━━━━━━━━\u001b[0m\u001b[37m\u001b[0m \u001b[1m18s\u001b[0m 70ms/step - acc: 0.9829 - auc: 0.9987 - f1_score: 0.9827 - loss: 0.0577 - val_acc: 0.9521 - val_auc: 0.9928 - val_f1_score: 0.9519 - val_loss: 0.1544 - learning_rate: 5.6880e-04\n",
      "\n",
      "Epoch 43: LearningRateScheduler setting learning rate to 0.0005403600225690752.\n",
      "Epoch 43/50\n",
      "\u001b[1m256/256\u001b[0m \u001b[32m━━━━━━━━━━━━━━━━━━━━\u001b[0m\u001b[37m\u001b[0m \u001b[1m18s\u001b[0m 70ms/step - acc: 0.9952 - auc: 0.9999 - f1_score: 0.9952 - loss: 0.0166 - val_acc: 0.9023 - val_auc: 0.9794 - val_f1_score: 0.9013 - val_loss: 0.3519 - learning_rate: 5.4036e-04\n",
      "\n",
      "Epoch 44: LearningRateScheduler setting learning rate to 0.0005403599934652448.\n",
      "Epoch 44/50\n",
      "\u001b[1m256/256\u001b[0m \u001b[32m━━━━━━━━━━━━━━━━━━━━\u001b[0m\u001b[37m\u001b[0m \u001b[1m18s\u001b[0m 70ms/step - acc: 0.9937 - auc: 0.9993 - f1_score: 0.9938 - loss: 0.0263 - val_acc: 0.9614 - val_auc: 0.9926 - val_f1_score: 0.9614 - val_loss: 0.1407 - learning_rate: 5.4036e-04\n",
      "\n",
      "Epoch 45: LearningRateScheduler setting learning rate to 0.0005133419937919825.\n",
      "Epoch 45/50\n",
      "\u001b[1m256/256\u001b[0m \u001b[32m━━━━━━━━━━━━━━━━━━━━\u001b[0m\u001b[37m\u001b[0m \u001b[1m18s\u001b[0m 70ms/step - acc: 0.9929 - auc: 0.9995 - f1_score: 0.9928 - loss: 0.0283 - val_acc: 0.9595 - val_auc: 0.9895 - val_f1_score: 0.9599 - val_loss: 0.1809 - learning_rate: 5.1334e-04\n",
      "\n",
      "Epoch 46: LearningRateScheduler setting learning rate to 0.0005133419763296843.\n",
      "Epoch 46/50\n",
      "\u001b[1m256/256\u001b[0m \u001b[32m━━━━━━━━━━━━━━━━━━━━\u001b[0m\u001b[37m\u001b[0m \u001b[1m18s\u001b[0m 70ms/step - acc: 0.9944 - auc: 0.9999 - f1_score: 0.9944 - loss: 0.0162 - val_acc: 0.9609 - val_auc: 0.9895 - val_f1_score: 0.9607 - val_loss: 0.1800 - learning_rate: 5.1334e-04\n",
      "\n",
      "Epoch 47: LearningRateScheduler setting learning rate to 0.0004876748775132.\n",
      "Epoch 47/50\n",
      "\u001b[1m256/256\u001b[0m \u001b[32m━━━━━━━━━━━━━━━━━━━━\u001b[0m\u001b[37m\u001b[0m \u001b[1m18s\u001b[0m 70ms/step - acc: 0.9960 - auc: 0.9999 - f1_score: 0.9959 - loss: 0.0137 - val_acc: 0.8882 - val_auc: 0.9747 - val_f1_score: 0.8882 - val_loss: 0.4331 - learning_rate: 4.8767e-04\n",
      "\n",
      "Epoch 48: LearningRateScheduler setting learning rate to 0.00048767487169243395.\n",
      "Epoch 48/50\n",
      "\u001b[1m256/256\u001b[0m \u001b[32m━━━━━━━━━━━━━━━━━━━━\u001b[0m\u001b[37m\u001b[0m \u001b[1m18s\u001b[0m 70ms/step - acc: 0.9945 - auc: 0.9994 - f1_score: 0.9947 - loss: 0.0188 - val_acc: 0.9424 - val_auc: 0.9814 - val_f1_score: 0.9424 - val_loss: 0.2822 - learning_rate: 4.8767e-04\n",
      "\n",
      "Epoch 49: LearningRateScheduler setting learning rate to 0.00046329112810781223.\n",
      "Epoch 49/50\n",
      "\u001b[1m256/256\u001b[0m \u001b[32m━━━━━━━━━━━━━━━━━━━━\u001b[0m\u001b[37m\u001b[0m \u001b[1m18s\u001b[0m 70ms/step - acc: 0.9951 - auc: 0.9997 - f1_score: 0.9946 - loss: 0.0164 - val_acc: 0.9268 - val_auc: 0.9854 - val_f1_score: 0.9269 - val_loss: 0.2707 - learning_rate: 4.6329e-04\n",
      "\n",
      "Epoch 50: LearningRateScheduler setting learning rate to 0.0004632911295630038.\n",
      "Epoch 50/50\n",
      "\u001b[1m256/256\u001b[0m \u001b[32m━━━━━━━━━━━━━━━━━━━━\u001b[0m\u001b[37m\u001b[0m \u001b[1m18s\u001b[0m 70ms/step - acc: 0.9937 - auc: 0.9998 - f1_score: 0.9934 - loss: 0.0206 - val_acc: 0.9502 - val_auc: 0.9861 - val_f1_score: 0.9502 - val_loss: 0.2295 - learning_rate: 4.6329e-04\n"
     ]
    }
   ],
   "source": [
    "EPOCHS = 50\n",
    "\n",
    "history = model.fit(train_images, train_labels_encoded, validation_data=(test_images, test_labels_encoded), callbacks=CALLBACKS, epochs=EPOCHS)"
   ]
  },
  {
   "cell_type": "code",
   "execution_count": 46,
   "id": "f4d19420",
   "metadata": {
    "execution": {
     "iopub.execute_input": "2024-04-18T01:37:54.697260Z",
     "iopub.status.busy": "2024-04-18T01:37:54.684719Z",
     "iopub.status.idle": "2024-04-18T01:37:54.701709Z",
     "shell.execute_reply": "2024-04-18T01:37:54.700819Z"
    },
    "id": "e7251e1c",
    "papermill": {
     "duration": 1.347366,
     "end_time": "2024-04-18T01:37:54.703879",
     "exception": false,
     "start_time": "2024-04-18T01:37:53.356513",
     "status": "completed"
    },
    "tags": []
   },
   "outputs": [],
   "source": [
    "\n",
    "\n",
    "# # Assuming train_images and test_images are your input image data\n",
    "\n",
    "\n",
    "# model = Sequential()\n",
    "# model.add(Input(shape=input_shape))\n",
    "# model.add(Conv2D(64, (3, 3), activation='relu'))\n",
    "# model.add(MaxPooling2D((2, 2)))\n",
    "# model.add(Conv2D(128, (3, 3), activation='relu'))\n",
    "# model.add(MaxPooling2D((2, 2)))\n",
    "# model.add(Conv2D(256, (3, 3), activation='relu'))\n",
    "# model.add(MaxPooling2D((2, 2)))\n",
    "# model.add(Dropout(0.2))\n",
    "# model.add(Flatten())\n",
    "# model.add(Dense(512, activation='relu'))\n",
    "# model.add(Dropout(0.5))\n",
    "# model.add(Dense(4, activation='softmax'))\n"
   ]
  },
  {
   "cell_type": "code",
   "execution_count": null,
   "id": "1d3a8302",
   "metadata": {
    "id": "6a21f88e",
    "papermill": {
     "duration": 1.250389,
     "end_time": "2024-04-18T01:37:57.271491",
     "exception": false,
     "start_time": "2024-04-18T01:37:56.021102",
     "status": "completed"
    },
    "tags": []
   },
   "outputs": [],
   "source": []
  },
  {
   "cell_type": "code",
   "execution_count": 47,
   "id": "14962bf5",
   "metadata": {
    "execution": {
     "iopub.execute_input": "2024-04-18T01:37:59.936856Z",
     "iopub.status.busy": "2024-04-18T01:37:59.935843Z",
     "iopub.status.idle": "2024-04-18T01:37:59.940862Z",
     "shell.execute_reply": "2024-04-18T01:37:59.939859Z"
    },
    "id": "743ad80f",
    "papermill": {
     "duration": 1.272687,
     "end_time": "2024-04-18T01:37:59.943217",
     "exception": false,
     "start_time": "2024-04-18T01:37:58.670530",
     "status": "completed"
    },
    "tags": []
   },
   "outputs": [],
   "source": [
    "# import math\n",
    "# model.compile(optimizer=optimizer, loss='categorical_crossentropy', metrics=['accuracy'])\n",
    "\n",
    "# history = model.fit(train_images, train_labels_encoded,\n",
    "#                     steps_per_epoch = int(len(train_images) / 32),\n",
    "#                     epochs=50,\n",
    "#                     validation_data=(test_images, test_labels_encoded),\n",
    "#                     sample_weight=sample_weights,\n",
    "#                     callbacks=[lr_scheduler])"
   ]
  },
  {
   "cell_type": "code",
   "execution_count": 48,
   "id": "8d99154e",
   "metadata": {
    "execution": {
     "iopub.execute_input": "2024-04-18T01:38:02.519148Z",
     "iopub.status.busy": "2024-04-18T01:38:02.518336Z",
     "iopub.status.idle": "2024-04-18T01:38:09.303230Z",
     "shell.execute_reply": "2024-04-18T01:38:09.301952Z"
    },
    "id": "1dbe1778",
    "outputId": "a6c97217-ae85-4fa9-9dbb-66453758299a",
    "papermill": {
     "duration": 8.09917,
     "end_time": "2024-04-18T01:38:09.305849",
     "exception": false,
     "start_time": "2024-04-18T01:38:01.206679",
     "status": "completed"
    },
    "tags": []
   },
   "outputs": [
    {
     "name": "stdout",
     "output_type": "stream",
     "text": [
      "\u001b[1m10/64\u001b[0m \u001b[32m━━━\u001b[0m\u001b[37m━━━━━━━━━━━━━━━━━\u001b[0m \u001b[1m1s\u001b[0m 19ms/step"
     ]
    },
    {
     "name": "stderr",
     "output_type": "stream",
     "text": [
      "W0000 00:00:1713404288.107501      73 graph_launch.cc:671] Fallback to op-by-op mode because memset node breaks graph update\n"
     ]
    },
    {
     "name": "stdout",
     "output_type": "stream",
     "text": [
      "\u001b[1m64/64\u001b[0m \u001b[32m━━━━━━━━━━━━━━━━━━━━\u001b[0m\u001b[37m\u001b[0m \u001b[1m2s\u001b[0m 15ms/step\n",
      "ROC AUC: 0.9948394783364186\n"
     ]
    }
   ],
   "source": [
    "import tensorflow as tf\n",
    "import numpy as np\n",
    "from sklearn.metrics import roc_auc_score\n",
    "\n",
    "y_prob = model.predict(test_images)\n",
    "y_prob = tf.nn.softmax(y_prob).numpy()\n",
    "\n",
    "# Compute ROC AUC for each class\n",
    "roc_auc = roc_auc_score(test_labels_encoded, y_prob, average='macro')\n",
    "\n",
    "print(\"ROC AUC:\", roc_auc)"
   ]
  },
  {
   "cell_type": "code",
   "execution_count": 49,
   "id": "61831706",
   "metadata": {
    "execution": {
     "iopub.execute_input": "2024-04-18T01:38:11.938739Z",
     "iopub.status.busy": "2024-04-18T01:38:11.937769Z",
     "iopub.status.idle": "2024-04-18T01:38:12.243354Z",
     "shell.execute_reply": "2024-04-18T01:38:12.242271Z"
    },
    "id": "2bfe3e43",
    "outputId": "78eb29de-2ce9-4393-a4db-d7b849f30bf5",
    "papermill": {
     "duration": 1.622052,
     "end_time": "2024-04-18T01:38:12.245687",
     "exception": false,
     "start_time": "2024-04-18T01:38:10.623635",
     "status": "completed"
    },
    "tags": []
   },
   "outputs": [
    {
     "data": {
      "text/plain": [
       "1279"
      ]
     },
     "execution_count": 49,
     "metadata": {},
     "output_type": "execute_result"
    }
   ],
   "source": [
    "import os\n",
    "import numpy as np\n",
    "directory = '/kaggle/input/betterest-preproc/test'\n",
    "\n",
    "files = [file for file in os.listdir(directory) if file.endswith('.npy')]\n",
    "len(files)"
   ]
  },
  {
   "cell_type": "code",
   "execution_count": 50,
   "id": "7e69acac",
   "metadata": {
    "execution": {
     "iopub.execute_input": "2024-04-18T01:38:14.798424Z",
     "iopub.status.busy": "2024-04-18T01:38:14.798000Z",
     "iopub.status.idle": "2024-04-18T01:38:14.805725Z",
     "shell.execute_reply": "2024-04-18T01:38:14.804706Z"
    },
    "id": "46171fd0",
    "outputId": "1d798d80-7117-4d28-d9d0-9a15e7d9b252",
    "papermill": {
     "duration": 1.257941,
     "end_time": "2024-04-18T01:38:14.808433",
     "exception": false,
     "start_time": "2024-04-18T01:38:13.550492",
     "status": "completed"
    },
    "tags": []
   },
   "outputs": [
    {
     "name": "stdout",
     "output_type": "stream",
     "text": [
      "179 12 640 448\n"
     ]
    }
   ],
   "source": [
    "mildDem = [i for i in files if i.startswith(\"MildDem\")]\n",
    "moderateDem = [i for i in files if \"ModerateDem\" in i]\n",
    "nonDem = [i for i in files if \"NonDem\" in i]\n",
    "veryMild = [i for i in files if \"VeryMildDem\" in i]\n",
    "print(len(mildDem), len(moderateDem), len(nonDem), len(veryMild))"
   ]
  },
  {
   "cell_type": "code",
   "execution_count": 51,
   "id": "95b4c869",
   "metadata": {
    "execution": {
     "iopub.execute_input": "2024-04-18T01:38:17.368178Z",
     "iopub.status.busy": "2024-04-18T01:38:17.367330Z",
     "iopub.status.idle": "2024-04-18T01:38:17.390548Z",
     "shell.execute_reply": "2024-04-18T01:38:17.389426Z"
    },
    "id": "e5d590d6",
    "outputId": "600c6f73-20c8-4423-b079-cfffcbc16536",
    "papermill": {
     "duration": 1.266617,
     "end_time": "2024-04-18T01:38:17.392761",
     "exception": false,
     "start_time": "2024-04-18T01:38:16.126144",
     "status": "completed"
    },
    "tags": []
   },
   "outputs": [
    {
     "data": {
      "text/plain": [
       "Class\n",
       "2    640\n",
       "3    448\n",
       "0    179\n",
       "1     12\n",
       "Name: count, dtype: int64"
      ]
     },
     "execution_count": 51,
     "metadata": {},
     "output_type": "execute_result"
    }
   ],
   "source": [
    "import pandas as pd\n",
    "l = [[mildDem, 0], [moderateDem, 1], [nonDem, 2], [veryMild, 3]]\n",
    "x = []\n",
    "for i in l:\n",
    "    for j in i[0]:\n",
    "        path = os.path.join(\"/kaggle/input/betterest-preproc/test\", j)\n",
    "        x.append([i[1], path])\n",
    "\n",
    "df = pd.DataFrame(x, columns=[\"Class\", \"Path\"])\n",
    "df[\"Class\"].value_counts()\n"
   ]
  },
  {
   "cell_type": "code",
   "execution_count": 52,
   "id": "5a167c18",
   "metadata": {
    "execution": {
     "iopub.execute_input": "2024-04-18T01:38:20.002869Z",
     "iopub.status.busy": "2024-04-18T01:38:20.002463Z",
     "iopub.status.idle": "2024-04-18T01:38:28.292704Z",
     "shell.execute_reply": "2024-04-18T01:38:28.291750Z"
    },
    "id": "e8bf69dd",
    "papermill": {
     "duration": 9.540739,
     "end_time": "2024-04-18T01:38:28.295553",
     "exception": false,
     "start_time": "2024-04-18T01:38:18.754814",
     "status": "completed"
    },
    "tags": []
   },
   "outputs": [],
   "source": [
    "images = []\n",
    "for i in df[\"Path\"]:\n",
    "    images.append(np.load(i))\n",
    "images = np.array(images)"
   ]
  },
  {
   "cell_type": "code",
   "execution_count": 53,
   "id": "b8e3ac88",
   "metadata": {
    "execution": {
     "iopub.execute_input": "2024-04-18T01:38:30.946302Z",
     "iopub.status.busy": "2024-04-18T01:38:30.945894Z",
     "iopub.status.idle": "2024-04-18T01:38:30.952486Z",
     "shell.execute_reply": "2024-04-18T01:38:30.951361Z"
    },
    "id": "c76f8fe5",
    "outputId": "2ce8d7b7-02bb-4732-ce0b-bd1af44e996d",
    "papermill": {
     "duration": 1.351625,
     "end_time": "2024-04-18T01:38:30.955453",
     "exception": false,
     "start_time": "2024-04-18T01:38:29.603828",
     "status": "completed"
    },
    "tags": []
   },
   "outputs": [
    {
     "name": "stdout",
     "output_type": "stream",
     "text": [
      "(1279, 4)\n"
     ]
    }
   ],
   "source": [
    "labels = df[\"Class\"]\n",
    "labels = to_categorical(labels, num_classes=4)\n",
    "print(labels.shape)"
   ]
  },
  {
   "cell_type": "code",
   "execution_count": 54,
   "id": "5a1583e7",
   "metadata": {
    "execution": {
     "iopub.execute_input": "2024-04-18T01:38:33.531338Z",
     "iopub.status.busy": "2024-04-18T01:38:33.530376Z",
     "iopub.status.idle": "2024-04-18T01:38:33.539043Z",
     "shell.execute_reply": "2024-04-18T01:38:33.537985Z"
    },
    "id": "455f8eba",
    "papermill": {
     "duration": 1.332922,
     "end_time": "2024-04-18T01:38:33.541446",
     "exception": false,
     "start_time": "2024-04-18T01:38:32.208524",
     "status": "completed"
    },
    "tags": []
   },
   "outputs": [],
   "source": [
    "l = []\n",
    "for i in labels:\n",
    "  for j in range(4):\n",
    "    if i[j] == 1:\n",
    "      l.append(j)\n"
   ]
  },
  {
   "cell_type": "code",
   "execution_count": 55,
   "id": "96b6e96e",
   "metadata": {
    "execution": {
     "iopub.execute_input": "2024-04-18T01:38:36.108445Z",
     "iopub.status.busy": "2024-04-18T01:38:36.107985Z",
     "iopub.status.idle": "2024-04-18T01:38:43.099956Z",
     "shell.execute_reply": "2024-04-18T01:38:43.098725Z"
    },
    "id": "7d699874",
    "outputId": "13d0fabc-bc85-4107-f986-f80a12e537d2",
    "papermill": {
     "duration": 8.253867,
     "end_time": "2024-04-18T01:38:43.102603",
     "exception": false,
     "start_time": "2024-04-18T01:38:34.848736",
     "status": "completed"
    },
    "tags": []
   },
   "outputs": [
    {
     "name": "stdout",
     "output_type": "stream",
     "text": [
      "\u001b[1m12/40\u001b[0m \u001b[32m━━━━━━\u001b[0m\u001b[37m━━━━━━━━━━━━━━\u001b[0m \u001b[1m0s\u001b[0m 15ms/step"
     ]
    },
    {
     "name": "stderr",
     "output_type": "stream",
     "text": [
      "W0000 00:00:1713404317.523468      74 graph_launch.cc:671] Fallback to op-by-op mode because memset node breaks graph update\n"
     ]
    },
    {
     "name": "stdout",
     "output_type": "stream",
     "text": [
      "\u001b[1m40/40\u001b[0m \u001b[32m━━━━━━━━━━━━━━━━━━━━\u001b[0m\u001b[37m\u001b[0m \u001b[1m7s\u001b[0m 142ms/step\n"
     ]
    },
    {
     "name": "stderr",
     "output_type": "stream",
     "text": [
      "W0000 00:00:1713404323.045520      73 graph_launch.cc:671] Fallback to op-by-op mode because memset node breaks graph update\n"
     ]
    }
   ],
   "source": [
    "y_prob = model.predict(images)\n",
    "\n",
    "# y_prob = tf.nn.softmax(y_prob).numpy()\n",
    "# Get the class with the highest probability for each prediction\n",
    "y_prob = np.argmax(y_prob, axis=1)  # Argmax gives index of max value\n",
    "# for i in range(len(labels)):\n",
    "#   print(l[i], y_prob[i])"
   ]
  },
  {
   "cell_type": "code",
   "execution_count": null,
   "id": "37cb8c0a",
   "metadata": {
    "id": "41441148",
    "papermill": {
     "duration": 1.310798,
     "end_time": "2024-04-18T01:38:45.716692",
     "exception": false,
     "start_time": "2024-04-18T01:38:44.405894",
     "status": "completed"
    },
    "tags": []
   },
   "outputs": [],
   "source": []
  },
  {
   "cell_type": "code",
   "execution_count": 56,
   "id": "11eb225d",
   "metadata": {
    "execution": {
     "iopub.execute_input": "2024-04-18T01:38:48.262872Z",
     "iopub.status.busy": "2024-04-18T01:38:48.262179Z",
     "iopub.status.idle": "2024-04-18T01:38:48.279584Z",
     "shell.execute_reply": "2024-04-18T01:38:48.278481Z"
    },
    "id": "155be648",
    "outputId": "b58d3646-b9ba-44d2-be24-016c617430ce",
    "papermill": {
     "duration": 1.324143,
     "end_time": "2024-04-18T01:38:48.281680",
     "exception": false,
     "start_time": "2024-04-18T01:38:46.957537",
     "status": "completed"
    },
    "tags": []
   },
   "outputs": [
    {
     "name": "stdout",
     "output_type": "stream",
     "text": [
      "0 {'precision': 0.6181818181818182, 'recall': 0.5698324022346368, 'f1-score': 0.5930232558139535, 'support': 179}\n",
      "1 {'precision': 1.0, 'recall': 0.4166666666666667, 'f1-score': 0.5882352941176471, 'support': 12}\n",
      "2 {'precision': 0.8808510638297873, 'recall': 0.646875, 'f1-score': 0.745945945945946, 'support': 640}\n",
      "3 {'precision': 0.5758998435054773, 'recall': 0.8214285714285714, 'f1-score': 0.6770929162833487, 'support': 448}\n",
      "accuracy 0.6950742767787333\n",
      "macro avg {'precision': 0.7687331813792707, 'recall': 0.6137006600824688, 'f1-score': 0.6510743530402239, 'support': 1279}\n",
      "weighted avg {'precision': 0.7383912089101353, 'recall': 0.6950742767787333, 'f1-score': 0.6989468477095035, 'support': 1279}\n"
     ]
    }
   ],
   "source": [
    "from sklearn.metrics import classification_report\n",
    "\n",
    "# Assuming you have predicted labels (predicted_classes) and true labels (test_labels_encoded)\n",
    "report = classification_report(l, y_prob, output_dict=True)\n",
    "for i in report:\n",
    "  print(i, report[i])"
   ]
  },
  {
   "cell_type": "code",
   "execution_count": 57,
   "id": "2bbe14d4",
   "metadata": {
    "execution": {
     "iopub.execute_input": "2024-04-18T01:38:50.886266Z",
     "iopub.status.busy": "2024-04-18T01:38:50.885805Z",
     "iopub.status.idle": "2024-04-18T01:38:57.230951Z",
     "shell.execute_reply": "2024-04-18T01:38:57.229982Z"
    },
    "id": "073a1d9c",
    "outputId": "06e42a36-c108-4950-d57e-0a0bad14d8aa",
    "papermill": {
     "duration": 7.624685,
     "end_time": "2024-04-18T01:38:57.233503",
     "exception": false,
     "start_time": "2024-04-18T01:38:49.608818",
     "status": "completed"
    },
    "tags": []
   },
   "outputs": [
    {
     "name": "stdout",
     "output_type": "stream",
     "text": [
      "\u001b[1m10/40\u001b[0m \u001b[32m━━━━━\u001b[0m\u001b[37m━━━━━━━━━━━━━━━\u001b[0m \u001b[1m0s\u001b[0m 20ms/step - acc: 0.5942 - auc: 0.8107 - f1_score: 0.5971 - loss: 2.0702"
     ]
    },
    {
     "name": "stderr",
     "output_type": "stream",
     "text": [
      "W0000 00:00:1713404333.174693      71 graph_launch.cc:671] Fallback to op-by-op mode because memset node breaks graph update\n"
     ]
    },
    {
     "name": "stdout",
     "output_type": "stream",
     "text": [
      "\u001b[1m40/40\u001b[0m \u001b[32m━━━━━━━━━━━━━━━━━━━━\u001b[0m\u001b[37m\u001b[0m \u001b[1m4s\u001b[0m 42ms/step - acc: 0.6305 - auc: 0.8253 - f1_score: 0.6318 - loss: 1.9542\n"
     ]
    },
    {
     "name": "stderr",
     "output_type": "stream",
     "text": [
      "W0000 00:00:1713404334.809564      72 graph_launch.cc:671] Fallback to op-by-op mode because memset node breaks graph update\n"
     ]
    },
    {
     "data": {
      "text/plain": [
       "[1.5857348442077637, 0.6950742602348328, 0.8619475960731506, 0.695924699306488]"
      ]
     },
     "execution_count": 57,
     "metadata": {},
     "output_type": "execute_result"
    }
   ],
   "source": [
    "model.evaluate(images, labels)"
   ]
  },
  {
   "cell_type": "code",
   "execution_count": null,
   "id": "36dd20d0",
   "metadata": {
    "id": "UDNIyngOUCWk",
    "papermill": {
     "duration": 1.330888,
     "end_time": "2024-04-18T01:38:59.877010",
     "exception": false,
     "start_time": "2024-04-18T01:38:58.546122",
     "status": "completed"
    },
    "tags": []
   },
   "outputs": [],
   "source": []
  }
 ],
 "metadata": {
  "accelerator": "GPU",
  "colab": {
   "gpuType": "T4",
   "provenance": []
  },
  "kaggle": {
   "accelerator": "nvidiaTeslaT4",
   "dataSources": [
    {
     "datasetId": 457093,
     "sourceId": 861496,
     "sourceType": "datasetVersion"
    },
    {
     "datasetId": 4817485,
     "sourceId": 8149433,
     "sourceType": "datasetVersion"
    }
   ],
   "dockerImageVersionId": 30684,
   "isGpuEnabled": true,
   "isInternetEnabled": false,
   "language": "python",
   "sourceType": "notebook"
  },
  "kernelspec": {
   "display_name": "Python 3",
   "language": "python",
   "name": "python3"
  },
  "language_info": {
   "codemirror_mode": {
    "name": "ipython",
    "version": 3
   },
   "file_extension": ".py",
   "mimetype": "text/x-python",
   "name": "python",
   "nbconvert_exporter": "python",
   "pygments_lexer": "ipython3",
   "version": "3.10.13"
  },
  "papermill": {
   "default_parameters": {},
   "duration": 1222.732338,
   "end_time": "2024-04-18T01:39:05.242589",
   "environment_variables": {},
   "exception": null,
   "input_path": "__notebook__.ipynb",
   "output_path": "__notebook__.ipynb",
   "parameters": {},
   "start_time": "2024-04-18T01:18:42.510251",
   "version": "2.5.0"
  }
 },
 "nbformat": 4,
 "nbformat_minor": 5
}
