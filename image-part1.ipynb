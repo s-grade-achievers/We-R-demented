{
  "cells": [
    {
      "cell_type": "markdown",
      "id": "a7ff34cb",
      "metadata": {
        "id": "a7ff34cb",
        "papermill": {
          "duration": 0.013811,
          "end_time": "2024-04-16T17:20:15.166413",
          "exception": false,
          "start_time": "2024-04-16T17:20:15.152602",
          "status": "completed"
        },
        "tags": []
      },
      "source": [
        "<a href=\"https://www.kaggle.com/code/pes1ug22am164/image-part?scriptVersionId=171996997\" target=\"_blank\"><img align=\"left\" alt=\"Kaggle\" title=\"Open in Kaggle\" src=\"https://kaggle.com/static/images/open-in-kaggle.svg\"></a>"
      ]
    },
    {
      "cell_type": "markdown",
      "id": "222a0f8e",
      "metadata": {
        "papermill": {
          "duration": 0.012305,
          "end_time": "2024-04-16T17:20:15.192283",
          "exception": false,
          "start_time": "2024-04-16T17:20:15.179978",
          "status": "completed"
        },
        "tags": [],
        "id": "222a0f8e"
      },
      "source": [
        "# uncomment on google colab, comment on kaggle."
      ]
    },
    {
      "cell_type": "code",
      "execution_count": 1,
      "id": "730ebdb2",
      "metadata": {
        "execution": {
          "iopub.execute_input": "2024-04-16T17:20:15.219605Z",
          "iopub.status.busy": "2024-04-16T17:20:15.218627Z",
          "iopub.status.idle": "2024-04-16T17:20:15.224308Z",
          "shell.execute_reply": "2024-04-16T17:20:15.223461Z"
        },
        "id": "730ebdb2",
        "outputId": "db526a1f-00de-401b-bf8a-d4dc1afed7fb",
        "papermill": {
          "duration": 0.021618,
          "end_time": "2024-04-16T17:20:15.226440",
          "exception": false,
          "start_time": "2024-04-16T17:20:15.204822",
          "status": "completed"
        },
        "tags": [],
        "colab": {
          "base_uri": "https://localhost:8080/",
          "height": 126
        }
      },
      "outputs": [
        {
          "output_type": "display_data",
          "data": {
            "text/plain": [
              "<IPython.core.display.HTML object>"
            ],
            "text/html": [
              "\n",
              "     <input type=\"file\" id=\"files-764022e7-5738-4ba9-95fd-54f06526d3b6\" name=\"files[]\" multiple disabled\n",
              "        style=\"border:none\" />\n",
              "     <output id=\"result-764022e7-5738-4ba9-95fd-54f06526d3b6\">\n",
              "      Upload widget is only available when the cell has been executed in the\n",
              "      current browser session. Please rerun this cell to enable.\n",
              "      </output>\n",
              "      <script>// Copyright 2017 Google LLC\n",
              "//\n",
              "// Licensed under the Apache License, Version 2.0 (the \"License\");\n",
              "// you may not use this file except in compliance with the License.\n",
              "// You may obtain a copy of the License at\n",
              "//\n",
              "//      http://www.apache.org/licenses/LICENSE-2.0\n",
              "//\n",
              "// Unless required by applicable law or agreed to in writing, software\n",
              "// distributed under the License is distributed on an \"AS IS\" BASIS,\n",
              "// WITHOUT WARRANTIES OR CONDITIONS OF ANY KIND, either express or implied.\n",
              "// See the License for the specific language governing permissions and\n",
              "// limitations under the License.\n",
              "\n",
              "/**\n",
              " * @fileoverview Helpers for google.colab Python module.\n",
              " */\n",
              "(function(scope) {\n",
              "function span(text, styleAttributes = {}) {\n",
              "  const element = document.createElement('span');\n",
              "  element.textContent = text;\n",
              "  for (const key of Object.keys(styleAttributes)) {\n",
              "    element.style[key] = styleAttributes[key];\n",
              "  }\n",
              "  return element;\n",
              "}\n",
              "\n",
              "// Max number of bytes which will be uploaded at a time.\n",
              "const MAX_PAYLOAD_SIZE = 100 * 1024;\n",
              "\n",
              "function _uploadFiles(inputId, outputId) {\n",
              "  const steps = uploadFilesStep(inputId, outputId);\n",
              "  const outputElement = document.getElementById(outputId);\n",
              "  // Cache steps on the outputElement to make it available for the next call\n",
              "  // to uploadFilesContinue from Python.\n",
              "  outputElement.steps = steps;\n",
              "\n",
              "  return _uploadFilesContinue(outputId);\n",
              "}\n",
              "\n",
              "// This is roughly an async generator (not supported in the browser yet),\n",
              "// where there are multiple asynchronous steps and the Python side is going\n",
              "// to poll for completion of each step.\n",
              "// This uses a Promise to block the python side on completion of each step,\n",
              "// then passes the result of the previous step as the input to the next step.\n",
              "function _uploadFilesContinue(outputId) {\n",
              "  const outputElement = document.getElementById(outputId);\n",
              "  const steps = outputElement.steps;\n",
              "\n",
              "  const next = steps.next(outputElement.lastPromiseValue);\n",
              "  return Promise.resolve(next.value.promise).then((value) => {\n",
              "    // Cache the last promise value to make it available to the next\n",
              "    // step of the generator.\n",
              "    outputElement.lastPromiseValue = value;\n",
              "    return next.value.response;\n",
              "  });\n",
              "}\n",
              "\n",
              "/**\n",
              " * Generator function which is called between each async step of the upload\n",
              " * process.\n",
              " * @param {string} inputId Element ID of the input file picker element.\n",
              " * @param {string} outputId Element ID of the output display.\n",
              " * @return {!Iterable<!Object>} Iterable of next steps.\n",
              " */\n",
              "function* uploadFilesStep(inputId, outputId) {\n",
              "  const inputElement = document.getElementById(inputId);\n",
              "  inputElement.disabled = false;\n",
              "\n",
              "  const outputElement = document.getElementById(outputId);\n",
              "  outputElement.innerHTML = '';\n",
              "\n",
              "  const pickedPromise = new Promise((resolve) => {\n",
              "    inputElement.addEventListener('change', (e) => {\n",
              "      resolve(e.target.files);\n",
              "    });\n",
              "  });\n",
              "\n",
              "  const cancel = document.createElement('button');\n",
              "  inputElement.parentElement.appendChild(cancel);\n",
              "  cancel.textContent = 'Cancel upload';\n",
              "  const cancelPromise = new Promise((resolve) => {\n",
              "    cancel.onclick = () => {\n",
              "      resolve(null);\n",
              "    };\n",
              "  });\n",
              "\n",
              "  // Wait for the user to pick the files.\n",
              "  const files = yield {\n",
              "    promise: Promise.race([pickedPromise, cancelPromise]),\n",
              "    response: {\n",
              "      action: 'starting',\n",
              "    }\n",
              "  };\n",
              "\n",
              "  cancel.remove();\n",
              "\n",
              "  // Disable the input element since further picks are not allowed.\n",
              "  inputElement.disabled = true;\n",
              "\n",
              "  if (!files) {\n",
              "    return {\n",
              "      response: {\n",
              "        action: 'complete',\n",
              "      }\n",
              "    };\n",
              "  }\n",
              "\n",
              "  for (const file of files) {\n",
              "    const li = document.createElement('li');\n",
              "    li.append(span(file.name, {fontWeight: 'bold'}));\n",
              "    li.append(span(\n",
              "        `(${file.type || 'n/a'}) - ${file.size} bytes, ` +\n",
              "        `last modified: ${\n",
              "            file.lastModifiedDate ? file.lastModifiedDate.toLocaleDateString() :\n",
              "                                    'n/a'} - `));\n",
              "    const percent = span('0% done');\n",
              "    li.appendChild(percent);\n",
              "\n",
              "    outputElement.appendChild(li);\n",
              "\n",
              "    const fileDataPromise = new Promise((resolve) => {\n",
              "      const reader = new FileReader();\n",
              "      reader.onload = (e) => {\n",
              "        resolve(e.target.result);\n",
              "      };\n",
              "      reader.readAsArrayBuffer(file);\n",
              "    });\n",
              "    // Wait for the data to be ready.\n",
              "    let fileData = yield {\n",
              "      promise: fileDataPromise,\n",
              "      response: {\n",
              "        action: 'continue',\n",
              "      }\n",
              "    };\n",
              "\n",
              "    // Use a chunked sending to avoid message size limits. See b/62115660.\n",
              "    let position = 0;\n",
              "    do {\n",
              "      const length = Math.min(fileData.byteLength - position, MAX_PAYLOAD_SIZE);\n",
              "      const chunk = new Uint8Array(fileData, position, length);\n",
              "      position += length;\n",
              "\n",
              "      const base64 = btoa(String.fromCharCode.apply(null, chunk));\n",
              "      yield {\n",
              "        response: {\n",
              "          action: 'append',\n",
              "          file: file.name,\n",
              "          data: base64,\n",
              "        },\n",
              "      };\n",
              "\n",
              "      let percentDone = fileData.byteLength === 0 ?\n",
              "          100 :\n",
              "          Math.round((position / fileData.byteLength) * 100);\n",
              "      percent.textContent = `${percentDone}% done`;\n",
              "\n",
              "    } while (position < fileData.byteLength);\n",
              "  }\n",
              "\n",
              "  // All done.\n",
              "  yield {\n",
              "    response: {\n",
              "      action: 'complete',\n",
              "    }\n",
              "  };\n",
              "}\n",
              "\n",
              "scope.google = scope.google || {};\n",
              "scope.google.colab = scope.google.colab || {};\n",
              "scope.google.colab._files = {\n",
              "  _uploadFiles,\n",
              "  _uploadFilesContinue,\n",
              "};\n",
              "})(self);\n",
              "</script> "
            ]
          },
          "metadata": {}
        },
        {
          "output_type": "stream",
          "name": "stdout",
          "text": [
            "Saving kaggle.json to kaggle.json\n",
            "Downloading betterer-preproc.zip to /content\n",
            " 96% 198M/206M [00:03<00:00, 79.8MB/s]\n",
            "100% 206M/206M [00:03<00:00, 58.8MB/s]\n"
          ]
        }
      ],
      "source": [
        "!mkdir ~/.kaggle\n",
        "from google.colab import files\n",
        "files.upload()\n",
        "!cp kaggle.json ~/.kaggle/\n",
        "!chmod 600 ~/.kaggle/kaggle.json\n",
        "!kaggle datasets download -d shusrith/betterer-preproc"
      ]
    },
    {
      "cell_type": "code",
      "execution_count": null,
      "id": "d02ab8ba",
      "metadata": {
        "execution": {
          "iopub.execute_input": "2024-04-16T17:20:15.253250Z",
          "iopub.status.busy": "2024-04-16T17:20:15.252913Z",
          "iopub.status.idle": "2024-04-16T17:20:15.257091Z",
          "shell.execute_reply": "2024-04-16T17:20:15.256146Z"
        },
        "id": "d02ab8ba",
        "papermill": {
          "duration": 0.019594,
          "end_time": "2024-04-16T17:20:15.259161",
          "exception": false,
          "start_time": "2024-04-16T17:20:15.239567",
          "status": "completed"
        },
        "tags": []
      },
      "outputs": [],
      "source": [
        "# !unzip /content/betterer-preproc.zip"
      ]
    },
    {
      "cell_type": "code",
      "execution_count": 2,
      "id": "729247b8",
      "metadata": {
        "execution": {
          "iopub.execute_input": "2024-04-16T17:20:15.286220Z",
          "iopub.status.busy": "2024-04-16T17:20:15.285863Z",
          "iopub.status.idle": "2024-04-16T17:20:15.289970Z",
          "shell.execute_reply": "2024-04-16T17:20:15.289005Z"
        },
        "id": "729247b8",
        "outputId": "2de840d7-51bd-4f6b-d92e-b46400cef0e9",
        "papermill": {
          "duration": 0.020512,
          "end_time": "2024-04-16T17:20:15.292253",
          "exception": false,
          "start_time": "2024-04-16T17:20:15.271741",
          "status": "completed"
        },
        "tags": [],
        "colab": {
          "base_uri": "https://localhost:8080/"
        }
      },
      "outputs": [
        {
          "output_type": "stream",
          "name": "stdout",
          "text": [
            "Downloading alzheimers-dataset-4-class-of-images.zip to /content\n",
            " 97% 33.0M/34.1M [00:00<00:00, 157MB/s]\n",
            "100% 34.1M/34.1M [00:00<00:00, 157MB/s]\n"
          ]
        }
      ],
      "source": [
        "!kaggle datasets download -d tourist55/alzheimers-dataset-4-class-of-images"
      ]
    },
    {
      "cell_type": "code",
      "execution_count": null,
      "id": "de92906d",
      "metadata": {
        "execution": {
          "iopub.execute_input": "2024-04-16T17:20:15.319875Z",
          "iopub.status.busy": "2024-04-16T17:20:15.319552Z",
          "iopub.status.idle": "2024-04-16T17:20:15.323797Z",
          "shell.execute_reply": "2024-04-16T17:20:15.322858Z"
        },
        "id": "de92906d",
        "papermill": {
          "duration": 0.020272,
          "end_time": "2024-04-16T17:20:15.325883",
          "exception": false,
          "start_time": "2024-04-16T17:20:15.305611",
          "status": "completed"
        },
        "tags": []
      },
      "outputs": [],
      "source": [
        "!unzip /content/alzheimers-dataset-4-class-of-images.zip"
      ]
    },
    {
      "cell_type": "markdown",
      "id": "beabf59f",
      "metadata": {
        "id": "beabf59f",
        "papermill": {
          "duration": 0.012583,
          "end_time": "2024-04-16T17:20:15.351469",
          "exception": false,
          "start_time": "2024-04-16T17:20:15.338886",
          "status": "completed"
        },
        "tags": []
      },
      "source": [
        "# PRE PROCESS\n",
        ".JPG TO .NPY"
      ]
    },
    {
      "cell_type": "code",
      "execution_count": 4,
      "id": "9f788ed4",
      "metadata": {
        "execution": {
          "iopub.execute_input": "2024-04-16T17:20:15.378626Z",
          "iopub.status.busy": "2024-04-16T17:20:15.378264Z",
          "iopub.status.idle": "2024-04-16T17:20:44.197916Z",
          "shell.execute_reply": "2024-04-16T17:20:44.197000Z"
        },
        "id": "9f788ed4",
        "papermill": {
          "duration": 28.836468,
          "end_time": "2024-04-16T17:20:44.200647",
          "exception": false,
          "start_time": "2024-04-16T17:20:15.364179",
          "status": "completed"
        },
        "tags": []
      },
      "outputs": [],
      "source": [
        "import os\n",
        "import cv2\n",
        "import numpy as np\n",
        "\n",
        "def jpg_to_npy_in_folders(input_folder, output_folder):\n",
        "    os.makedirs(output_folder, exist_ok=True)\n",
        "    for i, item in enumerate(os.listdir(input_folder)):\n",
        "        item_path = os.path.join(input_folder, item)\n",
        "        if os.path.isdir(item_path):\n",
        "            jpg_to_npy_in_folders(item_path, output_folder)\n",
        "        elif os.path.isfile(item_path) and item.endswith(\".jpg\"):\n",
        "            img = cv2.imread(item_path)\n",
        "            img_array = np.array(img)\n",
        "            output_file_path = os.path.join(output_folder, os.path.splitext(item)[0] + '.npy')\n",
        "            np.save(output_file_path, img_array)\n",
        "\n",
        "input_folder_path = \"/content/Alzheimer_s Dataset/train\"\n",
        "output_folder_path = \"/kaggle/working/train\"\n",
        "\n",
        "jpg_to_npy_in_folders(input_folder_path, output_folder_path)\n",
        "\n"
      ]
    },
    {
      "cell_type": "code",
      "execution_count": 5,
      "id": "cc57fffe",
      "metadata": {
        "_cell_guid": "b1076dfc-b9ad-4769-8c92-a6c4dae69d19",
        "_uuid": "8f2839f25d086af736a60e9eeb907d3b93b6e0e5",
        "execution": {
          "iopub.execute_input": "2024-04-16T17:20:44.229384Z",
          "iopub.status.busy": "2024-04-16T17:20:44.228810Z",
          "iopub.status.idle": "2024-04-16T17:20:51.140811Z",
          "shell.execute_reply": "2024-04-16T17:20:51.139899Z"
        },
        "id": "cc57fffe",
        "papermill": {
          "duration": 6.928932,
          "end_time": "2024-04-16T17:20:51.143470",
          "exception": false,
          "start_time": "2024-04-16T17:20:44.214538",
          "status": "completed"
        },
        "tags": []
      },
      "outputs": [],
      "source": [
        "import os\n",
        "import cv2\n",
        "import numpy as np\n",
        "\n",
        "def jpg_to_npy_in_folders(input_folder, output_folder):\n",
        "    os.makedirs(output_folder, exist_ok=True)\n",
        "    for i, item in enumerate(os.listdir(input_folder)):\n",
        "        item_path = os.path.join(input_folder, item)\n",
        "        if os.path.isdir(item_path):\n",
        "            jpg_to_npy_in_folders(item_path, output_folder)\n",
        "        elif os.path.isfile(item_path) and item.endswith(\".jpg\"):\n",
        "            img = cv2.imread(item_path)\n",
        "            img_array = np.array(img)\n",
        "            folder = input_folder.split(\"/\")[-1]\n",
        "            output_file_path = os.path.join(output_folder, f\"{folder}{i}.npy\")\n",
        "            np.save(output_file_path, img_array)\n",
        "\n",
        "# input_folder_path = \"/kaggle/input/alzheimers-dataset-4-class-of-images/Alzheimer_s Dataset/train\"\n",
        "# output_folder_path = \"/kaggle/working/train\"\n",
        "\n",
        "# jpg_to_npy_in_folders(input_folder_path, output_folder_path)\n",
        "jpg_to_npy_in_folders(\"/content/Alzheimer_s Dataset/test\", \"/kaggle/working/test\")\n",
        "\n"
      ]
    },
    {
      "cell_type": "code",
      "execution_count": 1,
      "id": "45ed7ce8",
      "metadata": {
        "execution": {
          "iopub.execute_input": "2024-04-16T17:20:51.172260Z",
          "iopub.status.busy": "2024-04-16T17:20:51.171869Z",
          "iopub.status.idle": "2024-04-16T17:20:51.185376Z",
          "shell.execute_reply": "2024-04-16T17:20:51.184379Z"
        },
        "id": "45ed7ce8",
        "outputId": "865f1a6f-e95a-42b4-de37-e3d3980fe6e0",
        "papermill": {
          "duration": 0.030291,
          "end_time": "2024-04-16T17:20:51.187757",
          "exception": false,
          "start_time": "2024-04-16T17:20:51.157466",
          "status": "completed"
        },
        "tags": [],
        "colab": {
          "base_uri": "https://localhost:8080/"
        }
      },
      "outputs": [
        {
          "output_type": "execute_result",
          "data": {
            "text/plain": [
              "5121"
            ]
          },
          "metadata": {},
          "execution_count": 1
        }
      ],
      "source": [
        "import os\n",
        "import numpy as np\n",
        "directory = '/kaggle/working/train'\n",
        "\n",
        "files = [file for file in os.listdir(directory) if file.endswith('.npy')]\n",
        "len(files)\n"
      ]
    },
    {
      "cell_type": "code",
      "execution_count": 2,
      "id": "641639b4",
      "metadata": {
        "execution": {
          "iopub.execute_input": "2024-04-16T17:20:51.215724Z",
          "iopub.status.busy": "2024-04-16T17:20:51.214920Z",
          "iopub.status.idle": "2024-04-16T17:20:51.223736Z",
          "shell.execute_reply": "2024-04-16T17:20:51.222762Z"
        },
        "id": "641639b4",
        "outputId": "eb52d6da-ee7a-4674-9631-2633c127ae61",
        "papermill": {
          "duration": 0.025567,
          "end_time": "2024-04-16T17:20:51.226239",
          "exception": false,
          "start_time": "2024-04-16T17:20:51.200672",
          "status": "completed"
        },
        "tags": [],
        "colab": {
          "base_uri": "https://localhost:8080/"
        }
      },
      "outputs": [
        {
          "output_type": "stream",
          "name": "stdout",
          "text": [
            "717 52 2560 1792\n"
          ]
        }
      ],
      "source": [
        "mildDem = [i for i in files if i.startswith(\"mildDem\")]\n",
        "moderateDem = [i for i in files if \"moderateDem\" in i]\n",
        "nonDem = [i for i in files if \"nonDem\" in i]\n",
        "veryMild = [i for i in files if \"verymildDem\" in i]\n",
        "print(len(mildDem), len(moderateDem), len(nonDem), len(veryMild))"
      ]
    },
    {
      "cell_type": "code",
      "execution_count": 3,
      "id": "dce546ff",
      "metadata": {
        "execution": {
          "iopub.execute_input": "2024-04-16T17:20:51.253980Z",
          "iopub.status.busy": "2024-04-16T17:20:51.253628Z",
          "iopub.status.idle": "2024-04-16T17:21:01.685688Z",
          "shell.execute_reply": "2024-04-16T17:21:01.684631Z"
        },
        "id": "dce546ff",
        "papermill": {
          "duration": 10.449112,
          "end_time": "2024-04-16T17:21:01.688380",
          "exception": false,
          "start_time": "2024-04-16T17:20:51.239268",
          "status": "completed"
        },
        "tags": []
      },
      "outputs": [],
      "source": [
        "# import imgaug.augmenters as iaa\n",
        "\n",
        "# # Define the augmenter\n",
        "# augmenter = iaa.Sequential([\n",
        "#     iaa.Affine(rotate=(-10, 10)),  # Rotate the image by -10 to 10 degrees\n",
        "#     iaa.GaussianBlur(sigma=(0.0, 1.0)),  # Apply Gaussian blur with a sigma ranging from 0.0 to 1.0\n",
        "#     iaa.AdditiveGaussianNoise(scale=(0, 0.05*255)),  # Add Gaussian noise with a scale of 0 to 0.05 times 255\n",
        "#     iaa.Multiply((0.9, 1.1)),\n",
        "#     iaa.LinearContrast((0.9, 1.1)),\n",
        "# ])\n",
        "\n",
        "# augmented_images = []\n",
        "\n",
        "# for path in moderateDem:\n",
        "#     path = os.path.join(\"/kaggle/working/train\", path)\n",
        "#     image = np.load(path)\n",
        "\n",
        "#     for _ in range(35):\n",
        "#         augmented_image = augmenter.augment_image(image)\n",
        "#         augmented_images.append(augmented_image)\n",
        "# augmented_images = np.array(augmented_images)"
      ]
    },
    {
      "cell_type": "code",
      "execution_count": 4,
      "id": "82cf94d7",
      "metadata": {
        "execution": {
          "iopub.execute_input": "2024-04-16T17:21:01.717050Z",
          "iopub.status.busy": "2024-04-16T17:21:01.716574Z",
          "iopub.status.idle": "2024-04-16T17:21:01.722974Z",
          "shell.execute_reply": "2024-04-16T17:21:01.722064Z"
        },
        "id": "82cf94d7",
        "papermill": {
          "duration": 0.023054,
          "end_time": "2024-04-16T17:21:01.725232",
          "exception": false,
          "start_time": "2024-04-16T17:21:01.702178",
          "status": "completed"
        },
        "tags": []
      },
      "outputs": [],
      "source": [
        "# len(augmented_images)"
      ]
    },
    {
      "cell_type": "code",
      "execution_count": 5,
      "id": "23bca643",
      "metadata": {
        "execution": {
          "iopub.execute_input": "2024-04-16T17:21:01.754065Z",
          "iopub.status.busy": "2024-04-16T17:21:01.753715Z",
          "iopub.status.idle": "2024-04-16T17:21:02.106311Z",
          "shell.execute_reply": "2024-04-16T17:21:02.105152Z"
        },
        "id": "23bca643",
        "papermill": {
          "duration": 0.370036,
          "end_time": "2024-04-16T17:21:02.108837",
          "exception": false,
          "start_time": "2024-04-16T17:21:01.738801",
          "status": "completed"
        },
        "tags": []
      },
      "outputs": [],
      "source": [
        "# import cv2\n",
        "# import os\n",
        "\n",
        "\n",
        "# output_directory = \"/kaggle/working/train\"\n",
        "\n",
        "# os.makedirs(output_directory, exist_ok=True)\n",
        "\n",
        "# for i, image in enumerate(augmented_images):\n",
        "#     output_path = os.path.join(output_directory, f\"moderateDem{i+53}.npy\")\n",
        "#     np.save(output_path, image)\n",
        "\n",
        "\n",
        "# print(\"Augmented images saved successfully.\")\n"
      ]
    },
    {
      "cell_type": "code",
      "execution_count": 6,
      "id": "7e6179eb",
      "metadata": {
        "execution": {
          "iopub.execute_input": "2024-04-16T17:21:02.137646Z",
          "iopub.status.busy": "2024-04-16T17:21:02.136820Z",
          "iopub.status.idle": "2024-04-16T17:21:13.477358Z",
          "shell.execute_reply": "2024-04-16T17:21:13.476409Z"
        },
        "id": "7e6179eb",
        "papermill": {
          "duration": 11.357323,
          "end_time": "2024-04-16T17:21:13.479924",
          "exception": false,
          "start_time": "2024-04-16T17:21:02.122601",
          "status": "completed"
        },
        "tags": []
      },
      "outputs": [],
      "source": [
        "# augmented_images = []\n",
        "\n",
        "# for path in mildDem:\n",
        "#     path = os.path.join(\"/kaggle/working/train\", path)\n",
        "#     image = np.load(path)\n",
        "\n",
        "#     for _ in range(2):\n",
        "#         augmented_image = augmenter.augment_image(image)\n",
        "#         augmented_images.append(augmented_image)\n",
        "# augmented_images = np.array(augmented_images)"
      ]
    },
    {
      "cell_type": "code",
      "execution_count": 7,
      "id": "1bd61403",
      "metadata": {
        "execution": {
          "iopub.execute_input": "2024-04-16T17:21:13.510064Z",
          "iopub.status.busy": "2024-04-16T17:21:13.509263Z",
          "iopub.status.idle": "2024-04-16T17:21:13.515586Z",
          "shell.execute_reply": "2024-04-16T17:21:13.514664Z"
        },
        "id": "1bd61403",
        "papermill": {
          "duration": 0.023796,
          "end_time": "2024-04-16T17:21:13.518133",
          "exception": false,
          "start_time": "2024-04-16T17:21:13.494337",
          "status": "completed"
        },
        "tags": []
      },
      "outputs": [],
      "source": [
        "# len(augmented_images)"
      ]
    },
    {
      "cell_type": "code",
      "execution_count": 8,
      "id": "0052f02c",
      "metadata": {
        "execution": {
          "iopub.execute_input": "2024-04-16T17:21:13.546513Z",
          "iopub.status.busy": "2024-04-16T17:21:13.545952Z",
          "iopub.status.idle": "2024-04-16T17:21:13.953403Z",
          "shell.execute_reply": "2024-04-16T17:21:13.952317Z"
        },
        "id": "0052f02c",
        "papermill": {
          "duration": 0.42422,
          "end_time": "2024-04-16T17:21:13.955795",
          "exception": false,
          "start_time": "2024-04-16T17:21:13.531575",
          "status": "completed"
        },
        "tags": []
      },
      "outputs": [],
      "source": [
        "# output_directory = \"/kaggle/working/train\"\n",
        "\n",
        "# os.makedirs(output_directory, exist_ok=True)\n",
        "\n",
        "# for i, image in enumerate(augmented_images):\n",
        "#     output_path = os.path.join(output_directory, f\"mildDem{i+718}.npy\")\n",
        "#     np.save(output_path, image)\n",
        "\n",
        "\n",
        "# print(\"Augmented images saved successfully.\")"
      ]
    },
    {
      "cell_type": "code",
      "execution_count": 9,
      "id": "23ddd520",
      "metadata": {
        "execution": {
          "iopub.execute_input": "2024-04-16T17:21:13.984102Z",
          "iopub.status.busy": "2024-04-16T17:21:13.983491Z",
          "iopub.status.idle": "2024-04-16T17:21:13.998557Z",
          "shell.execute_reply": "2024-04-16T17:21:13.997665Z"
        },
        "id": "23ddd520",
        "outputId": "5166c6b8-c5df-4c8e-ddd3-e070143369aa",
        "papermill": {
          "duration": 0.031173,
          "end_time": "2024-04-16T17:21:14.000601",
          "exception": false,
          "start_time": "2024-04-16T17:21:13.969428",
          "status": "completed"
        },
        "tags": [],
        "colab": {
          "base_uri": "https://localhost:8080/"
        }
      },
      "outputs": [
        {
          "output_type": "execute_result",
          "data": {
            "text/plain": [
              "5121"
            ]
          },
          "metadata": {},
          "execution_count": 9
        }
      ],
      "source": [
        "import os\n",
        "import numpy as np\n",
        "directory = '/kaggle/working/train'\n",
        "\n",
        "files = [file for file in os.listdir(directory) if file.endswith('.npy')]\n",
        "len(files)"
      ]
    },
    {
      "cell_type": "code",
      "execution_count": 10,
      "id": "a16db2fd",
      "metadata": {
        "execution": {
          "iopub.execute_input": "2024-04-16T17:21:14.029166Z",
          "iopub.status.busy": "2024-04-16T17:21:14.028608Z",
          "iopub.status.idle": "2024-04-16T17:21:14.039263Z",
          "shell.execute_reply": "2024-04-16T17:21:14.038052Z"
        },
        "id": "a16db2fd",
        "outputId": "d87f5b28-535f-45c7-850a-9c6f6eed4db4",
        "papermill": {
          "duration": 0.027484,
          "end_time": "2024-04-16T17:21:14.041576",
          "exception": false,
          "start_time": "2024-04-16T17:21:14.014092",
          "status": "completed"
        },
        "tags": [],
        "colab": {
          "base_uri": "https://localhost:8080/"
        }
      },
      "outputs": [
        {
          "output_type": "stream",
          "name": "stdout",
          "text": [
            "717 52 2560 1792\n"
          ]
        }
      ],
      "source": [
        "mildDem = [i for i in files if i.startswith(\"mildDem\")]\n",
        "moderateDem = [i for i in files if \"moderateDem\" in i]\n",
        "nonDem = [i for i in files if \"nonDem\" in i]\n",
        "veryMild = [i for i in files if \"verymildDem\" in i]\n",
        "print(len(mildDem), len(moderateDem), len(nonDem), len(veryMild))"
      ]
    },
    {
      "cell_type": "code",
      "execution_count": 11,
      "id": "0c4848ad",
      "metadata": {
        "execution": {
          "iopub.execute_input": "2024-04-16T17:21:14.072452Z",
          "iopub.status.busy": "2024-04-16T17:21:14.071877Z",
          "iopub.status.idle": "2024-04-16T17:21:14.856389Z",
          "shell.execute_reply": "2024-04-16T17:21:14.855262Z"
        },
        "id": "0c4848ad",
        "outputId": "fb174b0c-11cc-41a5-9c4e-36cafaba641f",
        "papermill": {
          "duration": 0.802352,
          "end_time": "2024-04-16T17:21:14.858733",
          "exception": false,
          "start_time": "2024-04-16T17:21:14.056381",
          "status": "completed"
        },
        "tags": [],
        "colab": {
          "base_uri": "https://localhost:8080/"
        }
      },
      "outputs": [
        {
          "output_type": "execute_result",
          "data": {
            "text/plain": [
              "Class\n",
              "2    2560\n",
              "3    1792\n",
              "0     717\n",
              "1      52\n",
              "Name: count, dtype: int64"
            ]
          },
          "metadata": {},
          "execution_count": 11
        }
      ],
      "source": [
        "import pandas as pd\n",
        "l = [[mildDem, 0], [moderateDem, 1], [nonDem, 2], [veryMild, 3]]\n",
        "x = []\n",
        "for i in l:\n",
        "    for j in i[0]:\n",
        "        path = os.path.join(\"/kaggle/working/train\", j)\n",
        "        x.append([i[1], path])\n",
        "\n",
        "df = pd.DataFrame(x, columns=[\"Class\", \"Path\"])\n",
        "x = df[\"Class\"].value_counts()\n",
        "x"
      ]
    },
    {
      "cell_type": "code",
      "execution_count": 12,
      "id": "a0d2912b",
      "metadata": {
        "execution": {
          "iopub.execute_input": "2024-04-16T17:21:14.888954Z",
          "iopub.status.busy": "2024-04-16T17:21:14.888381Z",
          "iopub.status.idle": "2024-04-16T17:21:16.974846Z",
          "shell.execute_reply": "2024-04-16T17:21:16.973842Z"
        },
        "id": "a0d2912b",
        "papermill": {
          "duration": 2.104529,
          "end_time": "2024-04-16T17:21:16.977341",
          "exception": false,
          "start_time": "2024-04-16T17:21:14.872812",
          "status": "completed"
        },
        "tags": []
      },
      "outputs": [],
      "source": [
        "images = []\n",
        "for i in df[\"Path\"]:\n",
        "    images.append(np.load(i))\n",
        "images = np.array(images)"
      ]
    },
    {
      "cell_type": "code",
      "source": [],
      "metadata": {
        "id": "icyk7OGZFo0y"
      },
      "id": "icyk7OGZFo0y",
      "execution_count": 12,
      "outputs": []
    },
    {
      "cell_type": "code",
      "source": [
        "from imblearn.over_sampling import SMOTE\n",
        "\n",
        "sm = SMOTE(random_state=42)\n",
        "flattened_images = [image.flatten() for image in images]\n",
        "image_shape = images[0].shape\n",
        "X_res, y_res = sm.fit_resample(flattened_images, np.array(df[\"Class\"]))  # `labels` should be your list of class labels\n"
      ],
      "metadata": {
        "id": "YXHLFv4QEPM_"
      },
      "id": "YXHLFv4QEPM_",
      "execution_count": 13,
      "outputs": []
    },
    {
      "cell_type": "code",
      "source": [
        "res_images = [np.array(x).reshape(image_shape) for x in X_res]"
      ],
      "metadata": {
        "id": "0hj8resmFvZW"
      },
      "id": "0hj8resmFvZW",
      "execution_count": null,
      "outputs": []
    },
    {
      "cell_type": "code",
      "source": [
        "import pandas as pd\n",
        "labels = pd.DataFrame(y_res)\n",
        "labels.value_counts()"
      ],
      "metadata": {
        "id": "u7gI65mjEu7w"
      },
      "id": "u7gI65mjEu7w",
      "execution_count": null,
      "outputs": []
    },
    {
      "cell_type": "code",
      "execution_count": null,
      "id": "42bc232c",
      "metadata": {
        "execution": {
          "iopub.execute_input": "2024-04-16T17:21:17.011367Z",
          "iopub.status.busy": "2024-04-16T17:21:17.010985Z",
          "iopub.status.idle": "2024-04-16T17:21:17.475567Z",
          "shell.execute_reply": "2024-04-16T17:21:17.474645Z"
        },
        "id": "42bc232c",
        "papermill": {
          "duration": 0.487016,
          "end_time": "2024-04-16T17:21:17.478150",
          "exception": false,
          "start_time": "2024-04-16T17:21:16.991134",
          "status": "completed"
        },
        "tags": []
      },
      "outputs": [],
      "source": [
        "from sklearn.model_selection import train_test_split\n",
        "labels = np.array(df[\"Class\"])\n",
        "train_images, test_images, train_labels, test_labels = train_test_split(images, labels, test_size=0.2, random_state=42)\n"
      ]
    },
    {
      "cell_type": "code",
      "execution_count": null,
      "id": "4b2c9685",
      "metadata": {
        "execution": {
          "iopub.execute_input": "2024-04-16T17:21:17.507149Z",
          "iopub.status.busy": "2024-04-16T17:21:17.506708Z",
          "iopub.status.idle": "2024-04-16T17:21:17.515642Z",
          "shell.execute_reply": "2024-04-16T17:21:17.514481Z"
        },
        "id": "4b2c9685",
        "outputId": "db02cfbb-a35b-4584-d5a3-e7f69ad31ec6",
        "papermill": {
          "duration": 0.025671,
          "end_time": "2024-04-16T17:21:17.518017",
          "exception": false,
          "start_time": "2024-04-16T17:21:17.492346",
          "status": "completed"
        },
        "tags": [],
        "colab": {
          "base_uri": "https://localhost:8080/"
        }
      },
      "outputs": [
        {
          "output_type": "stream",
          "name": "stdout",
          "text": [
            "[2 3 0 ... 2 0 3]\n",
            "[2 3 1 ... 0 1 2]\n"
          ]
        }
      ],
      "source": [
        "from sklearn.preprocessing import LabelEncoder\n",
        "label_encoder = LabelEncoder()\n",
        "train_labels_encoded = label_encoder.fit_transform(train_labels)\n",
        "test_labels_encoded = label_encoder.transform(test_labels)\n",
        "\n",
        "# Verify the encoded labels\n",
        "print(train_labels_encoded)\n",
        "print(test_labels_encoded)"
      ]
    },
    {
      "cell_type": "code",
      "execution_count": null,
      "id": "57bb9b57",
      "metadata": {
        "execution": {
          "iopub.execute_input": "2024-04-16T17:21:17.547317Z",
          "iopub.status.busy": "2024-04-16T17:21:17.547027Z",
          "iopub.status.idle": "2024-04-16T17:21:17.551803Z",
          "shell.execute_reply": "2024-04-16T17:21:17.550976Z"
        },
        "id": "57bb9b57",
        "outputId": "11fedfe4-f4b3-4f63-b745-56561109d4b9",
        "papermill": {
          "duration": 0.021989,
          "end_time": "2024-04-16T17:21:17.554389",
          "exception": false,
          "start_time": "2024-04-16T17:21:17.532400",
          "status": "completed"
        },
        "tags": [],
        "colab": {
          "base_uri": "https://localhost:8080/"
        }
      },
      "outputs": [
        {
          "output_type": "stream",
          "name": "stdout",
          "text": [
            "(6700, 208, 176, 3) (1675, 208, 176, 3) (6700,) (1675,)\n"
          ]
        }
      ],
      "source": [
        "print(train_images.shape, test_images.shape, train_labels_encoded.shape, test_labels_encoded.shape)"
      ]
    },
    {
      "cell_type": "code",
      "execution_count": null,
      "id": "798b1b57",
      "metadata": {
        "execution": {
          "iopub.execute_input": "2024-04-16T17:21:17.582988Z",
          "iopub.status.busy": "2024-04-16T17:21:17.582655Z",
          "iopub.status.idle": "2024-04-16T17:21:17.589917Z",
          "shell.execute_reply": "2024-04-16T17:21:17.588761Z"
        },
        "id": "798b1b57",
        "outputId": "fcf36ea2-e3b4-4f55-e968-966f54b7e4b8",
        "papermill": {
          "duration": 0.024631,
          "end_time": "2024-04-16T17:21:17.593021",
          "exception": false,
          "start_time": "2024-04-16T17:21:17.568390",
          "status": "completed"
        },
        "tags": [],
        "colab": {
          "base_uri": "https://localhost:8080/"
        }
      },
      "outputs": [
        {
          "output_type": "stream",
          "name": "stdout",
          "text": [
            "[2 3 1 ... 0 1 2]\n"
          ]
        },
        {
          "output_type": "execute_result",
          "data": {
            "text/plain": [
              "array([2, 3, 1, ..., 0, 1, 2])"
            ]
          },
          "metadata": {},
          "execution_count": 24
        }
      ],
      "source": [
        "print(test_labels)\n",
        "test_labels_encoded"
      ]
    },
    {
      "cell_type": "code",
      "execution_count": null,
      "id": "9edfb12a",
      "metadata": {
        "execution": {
          "iopub.execute_input": "2024-04-16T17:21:17.623995Z",
          "iopub.status.busy": "2024-04-16T17:21:17.623679Z",
          "iopub.status.idle": "2024-04-16T17:21:17.628862Z",
          "shell.execute_reply": "2024-04-16T17:21:17.627838Z"
        },
        "id": "9edfb12a",
        "outputId": "120a904d-24c2-4cb1-9735-89770054f0ae",
        "papermill": {
          "duration": 0.022896,
          "end_time": "2024-04-16T17:21:17.631504",
          "exception": false,
          "start_time": "2024-04-16T17:21:17.608608",
          "status": "completed"
        },
        "tags": [],
        "colab": {
          "base_uri": "https://localhost:8080/"
        }
      },
      "outputs": [
        {
          "output_type": "stream",
          "name": "stdout",
          "text": [
            "Index([2, 0, 1, 3], dtype='int64', name='Class') [2560 2151 1872 1792] <PandasArray>\n",
            "[2560, 2151, 1872, 1792]\n",
            "Length: 4, dtype: int64\n"
          ]
        }
      ],
      "source": [
        "print(x.index, x.values, x.array)"
      ]
    },
    {
      "cell_type": "code",
      "execution_count": null,
      "id": "3bcf626e",
      "metadata": {
        "execution": {
          "iopub.execute_input": "2024-04-16T17:21:17.661544Z",
          "iopub.status.busy": "2024-04-16T17:21:17.661257Z",
          "iopub.status.idle": "2024-04-16T17:21:17.668238Z",
          "shell.execute_reply": "2024-04-16T17:21:17.667311Z"
        },
        "id": "3bcf626e",
        "outputId": "09122aba-716c-48c5-926e-964698fa9660",
        "papermill": {
          "duration": 0.024422,
          "end_time": "2024-04-16T17:21:17.670437",
          "exception": false,
          "start_time": "2024-04-16T17:21:17.646015",
          "status": "completed"
        },
        "tags": [],
        "colab": {
          "base_uri": "https://localhost:8080/"
        }
      },
      "outputs": [
        {
          "output_type": "execute_result",
          "data": {
            "text/plain": [
              "{2: 0.3056716417910448,\n",
              " 0: 0.25683582089552237,\n",
              " 1: 0.22352238805970148,\n",
              " 3: 0.21397014925373134}"
            ]
          },
          "metadata": {},
          "execution_count": 26
        }
      ],
      "source": [
        "s = x / len(files)\n",
        "class_weights = {i:j for i, j in zip(s.index, s.values)}\n",
        "\n",
        "class_weights\n",
        "# Optional normalization (weights sum to 1)\n",
        "# total_weight = sum(class_weights.values())\n",
        "# class_weights = {class_label: weight / total_weight for class_label, weight in class_weights.items()}\n"
      ]
    },
    {
      "cell_type": "code",
      "source": [
        "from keras.models import Sequential\n",
        "from keras.layers import Conv2D, MaxPooling2D, Flatten, Dense, Dropout, Input, BatchNormalization\n",
        "from keras.callbacks import EarlyStopping, LearningRateScheduler\n",
        "from keras.utils import to_categorical\n",
        "from sklearn.utils.class_weight import compute_sample_weight\n",
        "from sklearn.model_selection import train_test_split\n",
        "import numpy as np\n",
        "\n",
        "def conv_block(filters, act='relu'):\n",
        "    \"\"\"Defining a Convolutional NN block for a Sequential CNN model. \"\"\"\n",
        "\n",
        "    block = Sequential()\n",
        "    block.add(Conv2D(filters, 3, activation=act, padding='same'))\n",
        "    block.add(Conv2D(filters, 3, activation=act, padding='same'))\n",
        "    block.add(BatchNormalization())\n",
        "    block.add(MaxPooling2D((2, 2)))\n",
        "\n",
        "    return block"
      ],
      "metadata": {
        "id": "Vih39UdnN-bA"
      },
      "id": "Vih39UdnN-bA",
      "execution_count": null,
      "outputs": []
    },
    {
      "cell_type": "code",
      "source": [
        "def dense_block(units, dropout_rate, act='relu'):\n",
        "    \"\"\"Defining a Dense NN block for a Sequential CNN model. \"\"\"\n",
        "\n",
        "    block = Sequential()\n",
        "    block.add(Dense(units, activation=act))\n",
        "    block.add(BatchNormalization())\n",
        "    block.add(Dropout(dropout_rate))\n",
        "\n",
        "    return block"
      ],
      "metadata": {
        "id": "aU00auyBOHPp"
      },
      "id": "aU00auyBOHPp",
      "execution_count": null,
      "outputs": []
    },
    {
      "cell_type": "code",
      "source": [
        "!pip install tensorflow_addons\n"
      ],
      "metadata": {
        "id": "RJOIqi7iPHkI",
        "outputId": "02a2a89f-30e7-4b17-e07e-4d9db5271402",
        "colab": {
          "base_uri": "https://localhost:8080/"
        }
      },
      "id": "RJOIqi7iPHkI",
      "execution_count": null,
      "outputs": [
        {
          "output_type": "stream",
          "name": "stdout",
          "text": [
            "Collecting tensorflow_addons\n",
            "  Downloading tensorflow_addons-0.23.0-cp310-cp310-manylinux_2_17_x86_64.manylinux2014_x86_64.whl (611 kB)\n",
            "\u001b[2K     \u001b[90m━━━━━━━━━━━━━━━━━━━━━━━━━━━━━━━━━━━━━━━━\u001b[0m \u001b[32m611.8/611.8 kB\u001b[0m \u001b[31m8.9 MB/s\u001b[0m eta \u001b[36m0:00:00\u001b[0m\n",
            "\u001b[?25hRequirement already satisfied: packaging in /usr/local/lib/python3.10/dist-packages (from tensorflow_addons) (24.0)\n",
            "Collecting typeguard<3.0.0,>=2.7 (from tensorflow_addons)\n",
            "  Downloading typeguard-2.13.3-py3-none-any.whl (17 kB)\n",
            "Installing collected packages: typeguard, tensorflow_addons\n",
            "Successfully installed tensorflow_addons-0.23.0 typeguard-2.13.3\n"
          ]
        }
      ]
    },
    {
      "cell_type": "code",
      "source": [
        "import tensorflow as tf\n",
        "import tensorflow_addons as tfa\n",
        "METRICS = [tf.keras.metrics.CategoricalAccuracy(name='acc'),\n",
        "           tf.keras.metrics.AUC(name='auc'),\n",
        "           tfa.metrics.F1Score(num_classes=4)]"
      ],
      "metadata": {
        "id": "MiJ3ybUQOTJH"
      },
      "id": "MiJ3ybUQOTJH",
      "execution_count": null,
      "outputs": []
    },
    {
      "cell_type": "code",
      "source": [
        "input_shape = train_images[0].shape\n",
        "\n",
        "train_labels_encoded = to_categorical(train_labels, num_classes=4)\n",
        "test_labels_encoded = to_categorical(test_labels, num_classes=4)\n",
        "\n",
        "sample_weights = compute_sample_weight(class_weight='balanced', y=np.argmax(train_labels_encoded, axis=1))"
      ],
      "metadata": {
        "id": "ZrFo4aLjObWp"
      },
      "id": "ZrFo4aLjObWp",
      "execution_count": null,
      "outputs": []
    },
    {
      "cell_type": "code",
      "source": [
        "def construct_model(act='relu'):\n",
        "    \"\"\"Constructing a Sequential CNN architecture for performing the classification task. \"\"\"\n",
        "\n",
        "    model = Sequential([\n",
        "        Input(shape=(input_shape)),\n",
        "        Conv2D(16, 3, activation=act, padding='same'),\n",
        "        Conv2D(16, 3, activation=act, padding='same'),\n",
        "        MaxPooling2D((2, 2)),\n",
        "        conv_block(32),\n",
        "        conv_block(64),\n",
        "        conv_block(128),\n",
        "        Dropout(0.2),\n",
        "        conv_block(256),\n",
        "        Dropout(0.2),\n",
        "        Flatten(),\n",
        "        dense_block(512, 0.7),\n",
        "        dense_block(128, 0.5),\n",
        "        dense_block(64, 0.3),\n",
        "        Dense(4, activation='softmax')\n",
        "    ], name = \"cnn_model\")\n",
        "\n",
        "    return model"
      ],
      "metadata": {
        "id": "BwhCHPnmOMuq"
      },
      "id": "BwhCHPnmOMuq",
      "execution_count": null,
      "outputs": []
    },
    {
      "cell_type": "code",
      "source": [
        "model = construct_model()\n",
        "model.compile(optimizer='adam',\n",
        "              loss='categorical_crossentropy',\n",
        "              metrics=METRICS)\n",
        "\n",
        "model.summary()\n"
      ],
      "metadata": {
        "id": "GW5BFTBwPXbT",
        "outputId": "8f02dd19-e3dc-43fd-e03b-8d86c8034548",
        "colab": {
          "base_uri": "https://localhost:8080/"
        }
      },
      "id": "GW5BFTBwPXbT",
      "execution_count": null,
      "outputs": [
        {
          "output_type": "stream",
          "name": "stdout",
          "text": [
            "Model: \"cnn_model\"\n",
            "_________________________________________________________________\n",
            " Layer (type)                Output Shape              Param #   \n",
            "=================================================================\n",
            " conv2d_18 (Conv2D)          (None, 208, 176, 16)      448       \n",
            "                                                                 \n",
            " conv2d_19 (Conv2D)          (None, 208, 176, 16)      2320      \n",
            "                                                                 \n",
            " max_pooling2d_11 (MaxPooli  (None, 104, 88, 16)       0         \n",
            " ng2D)                                                           \n",
            "                                                                 \n",
            " sequential_9 (Sequential)   (None, 52, 44, 32)        14016     \n",
            "                                                                 \n",
            " sequential_10 (Sequential)  (None, 26, 22, 64)        55680     \n",
            "                                                                 \n",
            " sequential_11 (Sequential)  (None, 13, 11, 128)       221952    \n",
            "                                                                 \n",
            " dropout_9 (Dropout)         (None, 13, 11, 128)       0         \n",
            "                                                                 \n",
            " sequential_12 (Sequential)  (None, 6, 5, 256)         886272    \n",
            "                                                                 \n",
            " dropout_10 (Dropout)        (None, 6, 5, 256)         0         \n",
            "                                                                 \n",
            " flatten_3 (Flatten)         (None, 7680)              0         \n",
            "                                                                 \n",
            " sequential_13 (Sequential)  (None, 512)               3934720   \n",
            "                                                                 \n",
            " sequential_14 (Sequential)  (None, 128)               66176     \n",
            "                                                                 \n",
            " sequential_15 (Sequential)  (None, 64)                8512      \n",
            "                                                                 \n",
            " dense_11 (Dense)            (None, 4)                 260       \n",
            "                                                                 \n",
            "=================================================================\n",
            "Total params: 5190356 (19.80 MB)\n",
            "Trainable params: 5187988 (19.79 MB)\n",
            "Non-trainable params: 2368 (9.25 KB)\n",
            "_________________________________________________________________\n"
          ]
        }
      ]
    },
    {
      "cell_type": "code",
      "source": [
        "from keras.optimizers import Adam\n",
        "def lr_schedule(epoch, learning_rate):\n",
        "    if epoch < 20:\n",
        "        return learning_rate\n",
        "    else:\n",
        "        if epoch % 2 == 0:\n",
        "          return learning_rate * 0.95\n",
        "        else:\n",
        "          return learning_rate\n",
        "\n",
        "lr_scheduler = LearningRateScheduler(lr_schedule, verbose=1)\n",
        "\n",
        "initial_learning_rate = 0.001\n",
        "optimizer = Adam(learning_rate=initial_learning_rate)"
      ],
      "metadata": {
        "id": "-S4uJezqQPbH"
      },
      "id": "-S4uJezqQPbH",
      "execution_count": null,
      "outputs": []
    },
    {
      "cell_type": "code",
      "source": [
        "class MyCallback(tf.keras.callbacks.Callback):\n",
        "    def on_epoch_end(self, epoch, logs={}):\n",
        "        if logs.get('val_acc') > 0.995:\n",
        "            print(\"\\nReached accuracy threshold! Terminating training.\")\n",
        "            self.model.stop_training = True\n",
        "\n",
        "my_callback = MyCallback()\n",
        "\n",
        "CALLBACKS = [my_callback, lr_scheduler]"
      ],
      "metadata": {
        "id": "Wm4LePTeUtVN"
      },
      "id": "Wm4LePTeUtVN",
      "execution_count": null,
      "outputs": []
    },
    {
      "cell_type": "code",
      "source": [
        "EPOCHS = 50\n",
        "\n",
        "history = model.fit(train_images, train_labels_encoded, validation_data=(test_images, test_labels_encoded), callbacks=CALLBACKS, epochs=EPOCHS)"
      ],
      "metadata": {
        "id": "tSNJSmmMP9zT",
        "outputId": "7d68c083-d5f4-4323-8514-204d0b2c4371",
        "colab": {
          "base_uri": "https://localhost:8080/"
        }
      },
      "id": "tSNJSmmMP9zT",
      "execution_count": null,
      "outputs": [
        {
          "output_type": "stream",
          "name": "stdout",
          "text": [
            "\n",
            "Epoch 1: LearningRateScheduler setting learning rate to 0.0010000000474974513.\n",
            "Epoch 1/50\n",
            "  6/210 [..............................] - ETA: 18s - loss: 2.2209 - acc: 0.6186 - auc: 0.8348 - f1_score: 0.4455"
          ]
        },
        {
          "output_type": "stream",
          "name": "stderr",
          "text": [
            "WARNING:tensorflow:Callback method `on_train_batch_end` is slow compared to the batch time (batch time: 0.0325s vs `on_train_batch_end` time: 0.0492s). Check your callbacks.\n"
          ]
        },
        {
          "output_type": "stream",
          "name": "stdout",
          "text": [
            "210/210 [==============================] - 25s 87ms/step - loss: 1.3041 - acc: 0.4928 - auc: 0.7612 - f1_score: 0.4740 - val_loss: 2.0422 - val_acc: 0.3672 - val_auc: 0.6383 - val_f1_score: 0.2992 - lr: 0.0010\n",
            "\n",
            "Epoch 2: LearningRateScheduler setting learning rate to 0.0010000000474974513.\n",
            "Epoch 2/50\n",
            "210/210 [==============================] - 17s 81ms/step - loss: 0.9014 - acc: 0.5797 - auc: 0.8528 - f1_score: 0.5730 - val_loss: 2.4661 - val_acc: 0.4101 - val_auc: 0.6495 - val_f1_score: 0.3435 - lr: 0.0010\n",
            "\n",
            "Epoch 3: LearningRateScheduler setting learning rate to 0.0010000000474974513.\n",
            "Epoch 3/50\n",
            "210/210 [==============================] - 17s 81ms/step - loss: 0.6899 - acc: 0.6825 - auc: 0.9127 - f1_score: 0.6769 - val_loss: 1.5833 - val_acc: 0.4621 - val_auc: 0.7925 - val_f1_score: 0.2870 - lr: 0.0010\n",
            "\n",
            "Epoch 4: LearningRateScheduler setting learning rate to 0.0010000000474974513.\n",
            "Epoch 4/50\n",
            "210/210 [==============================] - 18s 85ms/step - loss: 0.6224 - acc: 0.7157 - auc: 0.9284 - f1_score: 0.7141 - val_loss: 1.5378 - val_acc: 0.5809 - val_auc: 0.8036 - val_f1_score: 0.5088 - lr: 0.0010\n",
            "\n",
            "Epoch 5: LearningRateScheduler setting learning rate to 0.0010000000474974513.\n",
            "Epoch 5/50\n",
            "210/210 [==============================] - 18s 86ms/step - loss: 0.5600 - acc: 0.7382 - auc: 0.9417 - f1_score: 0.7405 - val_loss: 2.6149 - val_acc: 0.3469 - val_auc: 0.6982 - val_f1_score: 0.2369 - lr: 0.0010\n",
            "\n",
            "Epoch 6: LearningRateScheduler setting learning rate to 0.0010000000474974513.\n",
            "Epoch 6/50\n",
            "210/210 [==============================] - 18s 85ms/step - loss: 0.5230 - acc: 0.7624 - auc: 0.9494 - f1_score: 0.7627 - val_loss: 0.5888 - val_acc: 0.6955 - val_auc: 0.9326 - val_f1_score: 0.7066 - lr: 0.0010\n",
            "\n",
            "Epoch 7: LearningRateScheduler setting learning rate to 0.0010000000474974513.\n",
            "Epoch 7/50\n",
            "210/210 [==============================] - 18s 85ms/step - loss: 0.4963 - acc: 0.7767 - auc: 0.9545 - f1_score: 0.7767 - val_loss: 1.1068 - val_acc: 0.5642 - val_auc: 0.8394 - val_f1_score: 0.5438 - lr: 0.0010\n",
            "\n",
            "Epoch 8: LearningRateScheduler setting learning rate to 0.0010000000474974513.\n",
            "Epoch 8/50\n",
            "210/210 [==============================] - 18s 84ms/step - loss: 0.4699 - acc: 0.7890 - auc: 0.9594 - f1_score: 0.7894 - val_loss: 0.8029 - val_acc: 0.6884 - val_auc: 0.8995 - val_f1_score: 0.7085 - lr: 0.0010\n",
            "\n",
            "Epoch 9: LearningRateScheduler setting learning rate to 0.0010000000474974513.\n",
            "Epoch 9/50\n",
            "210/210 [==============================] - 18s 85ms/step - loss: 0.4632 - acc: 0.7988 - auc: 0.9611 - f1_score: 0.7982 - val_loss: 1.2268 - val_acc: 0.5212 - val_auc: 0.8033 - val_f1_score: 0.5260 - lr: 0.0010\n",
            "\n",
            "Epoch 10: LearningRateScheduler setting learning rate to 0.0010000000474974513.\n",
            "Epoch 10/50\n",
            "210/210 [==============================] - 18s 85ms/step - loss: 0.4079 - acc: 0.8297 - auc: 0.9699 - f1_score: 0.8299 - val_loss: 0.8292 - val_acc: 0.6448 - val_auc: 0.9047 - val_f1_score: 0.6034 - lr: 0.0010\n",
            "\n",
            "Epoch 11: LearningRateScheduler setting learning rate to 0.0010000000474974513.\n",
            "Epoch 11/50\n",
            "210/210 [==============================] - 18s 85ms/step - loss: 0.3565 - acc: 0.8557 - auc: 0.9767 - f1_score: 0.8552 - val_loss: 0.3807 - val_acc: 0.8406 - val_auc: 0.9742 - val_f1_score: 0.8338 - lr: 0.0010\n",
            "\n",
            "Epoch 12: LearningRateScheduler setting learning rate to 0.0010000000474974513.\n",
            "Epoch 12/50\n",
            "210/210 [==============================] - 18s 84ms/step - loss: 0.3168 - acc: 0.8791 - auc: 0.9814 - f1_score: 0.8783 - val_loss: 0.3608 - val_acc: 0.8472 - val_auc: 0.9773 - val_f1_score: 0.8368 - lr: 0.0010\n",
            "\n",
            "Epoch 13: LearningRateScheduler setting learning rate to 0.0010000000474974513.\n",
            "Epoch 13/50\n",
            "210/210 [==============================] - 18s 85ms/step - loss: 0.2798 - acc: 0.8942 - auc: 0.9854 - f1_score: 0.8930 - val_loss: 0.4532 - val_acc: 0.8197 - val_auc: 0.9719 - val_f1_score: 0.7757 - lr: 0.0010\n",
            "\n",
            "Epoch 14: LearningRateScheduler setting learning rate to 0.0010000000474974513.\n",
            "Epoch 14/50\n",
            "210/210 [==============================] - 17s 82ms/step - loss: 0.2337 - acc: 0.9142 - auc: 0.9893 - f1_score: 0.9130 - val_loss: 0.6591 - val_acc: 0.7839 - val_auc: 0.9558 - val_f1_score: 0.7232 - lr: 0.0010\n",
            "\n",
            "Epoch 15: LearningRateScheduler setting learning rate to 0.0010000000474974513.\n",
            "Epoch 15/50\n",
            "210/210 [==============================] - 18s 85ms/step - loss: 0.2134 - acc: 0.9210 - auc: 0.9909 - f1_score: 0.9197 - val_loss: 1.4488 - val_acc: 0.5045 - val_auc: 0.8438 - val_f1_score: 0.4793 - lr: 0.0010\n",
            "\n",
            "Epoch 16: LearningRateScheduler setting learning rate to 0.0010000000474974513.\n",
            "Epoch 16/50\n",
            "210/210 [==============================] - 17s 82ms/step - loss: 0.1691 - acc: 0.9401 - auc: 0.9941 - f1_score: 0.9395 - val_loss: 1.0494 - val_acc: 0.6603 - val_auc: 0.8987 - val_f1_score: 0.6554 - lr: 0.0010\n",
            "\n",
            "Epoch 17: LearningRateScheduler setting learning rate to 0.0010000000474974513.\n",
            "Epoch 17/50\n",
            "210/210 [==============================] - 17s 82ms/step - loss: 0.1782 - acc: 0.9355 - auc: 0.9935 - f1_score: 0.9347 - val_loss: 0.3757 - val_acc: 0.8549 - val_auc: 0.9804 - val_f1_score: 0.8403 - lr: 0.0010\n",
            "\n",
            "Epoch 18: LearningRateScheduler setting learning rate to 0.0010000000474974513.\n",
            "Epoch 18/50\n",
            "210/210 [==============================] - 18s 84ms/step - loss: 0.1383 - acc: 0.9542 - auc: 0.9957 - f1_score: 0.9535 - val_loss: 0.4558 - val_acc: 0.8460 - val_auc: 0.9711 - val_f1_score: 0.8481 - lr: 0.0010\n",
            "\n",
            "Epoch 19: LearningRateScheduler setting learning rate to 0.0010000000474974513.\n",
            "Epoch 19/50\n",
            "210/210 [==============================] - 17s 81ms/step - loss: 0.1058 - acc: 0.9657 - auc: 0.9972 - f1_score: 0.9655 - val_loss: 0.4483 - val_acc: 0.8490 - val_auc: 0.9751 - val_f1_score: 0.8518 - lr: 0.0010\n",
            "\n",
            "Epoch 20: LearningRateScheduler setting learning rate to 0.0010000000474974513.\n",
            "Epoch 20/50\n",
            "210/210 [==============================] - 17s 82ms/step - loss: 0.1233 - acc: 0.9582 - auc: 0.9963 - f1_score: 0.9578 - val_loss: 0.5225 - val_acc: 0.8209 - val_auc: 0.9689 - val_f1_score: 0.8268 - lr: 0.0010\n",
            "\n",
            "Epoch 21: LearningRateScheduler setting learning rate to 0.0009500000451225787.\n",
            "Epoch 21/50\n",
            "210/210 [==============================] - 18s 84ms/step - loss: 0.0969 - acc: 0.9667 - auc: 0.9977 - f1_score: 0.9664 - val_loss: 1.1192 - val_acc: 0.6919 - val_auc: 0.9186 - val_f1_score: 0.7015 - lr: 9.5000e-04\n",
            "\n",
            "Epoch 22: LearningRateScheduler setting learning rate to 0.0009500000160187483.\n",
            "Epoch 22/50\n",
            "210/210 [==============================] - 18s 84ms/step - loss: 0.0828 - acc: 0.9734 - auc: 0.9979 - f1_score: 0.9732 - val_loss: 0.1002 - val_acc: 0.9630 - val_auc: 0.9984 - val_f1_score: 0.9632 - lr: 9.5000e-04\n",
            "\n",
            "Epoch 23: LearningRateScheduler setting learning rate to 0.0009025000152178108.\n",
            "Epoch 23/50\n",
            "210/210 [==============================] - 17s 82ms/step - loss: 0.1103 - acc: 0.9628 - auc: 0.9963 - f1_score: 0.9621 - val_loss: 0.0512 - val_acc: 0.9809 - val_auc: 0.9995 - val_f1_score: 0.9806 - lr: 9.0250e-04\n",
            "\n",
            "Epoch 24: LearningRateScheduler setting learning rate to 0.0009025000035762787.\n",
            "Epoch 24/50\n",
            "210/210 [==============================] - 18s 84ms/step - loss: 0.0823 - acc: 0.9733 - auc: 0.9980 - f1_score: 0.9729 - val_loss: 0.3238 - val_acc: 0.8997 - val_auc: 0.9852 - val_f1_score: 0.8972 - lr: 9.0250e-04\n",
            "\n",
            "Epoch 25: LearningRateScheduler setting learning rate to 0.0008573750033974647.\n",
            "Epoch 25/50\n",
            "210/210 [==============================] - 18s 84ms/step - loss: 0.0657 - acc: 0.9782 - auc: 0.9990 - f1_score: 0.9781 - val_loss: 0.3198 - val_acc: 0.8967 - val_auc: 0.9879 - val_f1_score: 0.8853 - lr: 8.5737e-04\n",
            "\n",
            "Epoch 26: LearningRateScheduler setting learning rate to 0.0008573749801144004.\n",
            "Epoch 26/50\n",
            "210/210 [==============================] - 18s 84ms/step - loss: 0.0560 - acc: 0.9822 - auc: 0.9985 - f1_score: 0.9819 - val_loss: 0.5264 - val_acc: 0.8490 - val_auc: 0.9671 - val_f1_score: 0.8554 - lr: 8.5737e-04\n",
            "\n",
            "Epoch 27: LearningRateScheduler setting learning rate to 0.0008145062311086804.\n",
            "Epoch 27/50\n",
            "210/210 [==============================] - 17s 82ms/step - loss: 0.0677 - acc: 0.9770 - auc: 0.9985 - f1_score: 0.9771 - val_loss: 0.1398 - val_acc: 0.9457 - val_auc: 0.9969 - val_f1_score: 0.9461 - lr: 8.1451e-04\n",
            "\n",
            "Epoch 28: LearningRateScheduler setting learning rate to 0.0008145062020048499.\n",
            "Epoch 28/50\n",
            "210/210 [==============================] - 18s 84ms/step - loss: 0.0659 - acc: 0.9807 - auc: 0.9986 - f1_score: 0.9805 - val_loss: 0.3304 - val_acc: 0.8955 - val_auc: 0.9830 - val_f1_score: 0.8980 - lr: 8.1451e-04\n",
            "\n",
            "Epoch 29: LearningRateScheduler setting learning rate to 0.0007737808919046074.\n",
            "Epoch 29/50\n",
            "210/210 [==============================] - 18s 84ms/step - loss: 0.0520 - acc: 0.9813 - auc: 0.9992 - f1_score: 0.9812 - val_loss: 0.1570 - val_acc: 0.9493 - val_auc: 0.9954 - val_f1_score: 0.9486 - lr: 7.7378e-04\n",
            "\n",
            "Epoch 30: LearningRateScheduler setting learning rate to 0.000773780862800777.\n",
            "Epoch 30/50\n",
            "210/210 [==============================] - 18s 84ms/step - loss: 0.0478 - acc: 0.9837 - auc: 0.9990 - f1_score: 0.9836 - val_loss: 0.0999 - val_acc: 0.9678 - val_auc: 0.9971 - val_f1_score: 0.9684 - lr: 7.7378e-04\n",
            "\n",
            "Epoch 31: LearningRateScheduler setting learning rate to 0.000735091819660738.\n",
            "Epoch 31/50\n",
            "210/210 [==============================] - 18s 84ms/step - loss: 0.0302 - acc: 0.9903 - auc: 0.9998 - f1_score: 0.9903 - val_loss: 0.1405 - val_acc: 0.9564 - val_auc: 0.9950 - val_f1_score: 0.9579 - lr: 7.3509e-04\n",
            "\n",
            "Epoch 32: LearningRateScheduler setting learning rate to 0.0007350918021984398.\n",
            "Epoch 32/50\n",
            "210/210 [==============================] - 18s 84ms/step - loss: 0.0369 - acc: 0.9893 - auc: 0.9992 - f1_score: 0.9892 - val_loss: 0.1181 - val_acc: 0.9660 - val_auc: 0.9957 - val_f1_score: 0.9653 - lr: 7.3509e-04\n",
            "\n",
            "Epoch 33: LearningRateScheduler setting learning rate to 0.0006983372120885178.\n",
            "Epoch 33/50\n",
            "210/210 [==============================] - 17s 81ms/step - loss: 0.0665 - acc: 0.9801 - auc: 0.9981 - f1_score: 0.9801 - val_loss: 0.1241 - val_acc: 0.9534 - val_auc: 0.9976 - val_f1_score: 0.9534 - lr: 6.9834e-04\n",
            "\n",
            "Epoch 34: LearningRateScheduler setting learning rate to 0.0006983372149989009.\n",
            "Epoch 34/50\n",
            "210/210 [==============================] - 17s 82ms/step - loss: 0.0354 - acc: 0.9896 - auc: 0.9992 - f1_score: 0.9895 - val_loss: 0.1529 - val_acc: 0.9552 - val_auc: 0.9936 - val_f1_score: 0.9544 - lr: 6.9834e-04\n",
            "\n",
            "Epoch 35: LearningRateScheduler setting learning rate to 0.0006634203542489559.\n",
            "Epoch 35/50\n",
            "210/210 [==============================] - 17s 81ms/step - loss: 0.0363 - acc: 0.9891 - auc: 0.9991 - f1_score: 0.9891 - val_loss: 0.1173 - val_acc: 0.9618 - val_auc: 0.9957 - val_f1_score: 0.9614 - lr: 6.6342e-04\n",
            "\n",
            "Epoch 36: LearningRateScheduler setting learning rate to 0.0006634203600697219.\n",
            "Epoch 36/50\n",
            "210/210 [==============================] - 17s 81ms/step - loss: 0.0373 - acc: 0.9885 - auc: 0.9992 - f1_score: 0.9883 - val_loss: 0.2737 - val_acc: 0.9152 - val_auc: 0.9882 - val_f1_score: 0.9062 - lr: 6.6342e-04\n",
            "\n",
            "Epoch 37: LearningRateScheduler setting learning rate to 0.0006302493420662358.\n",
            "Epoch 37/50\n",
            "210/210 [==============================] - 18s 84ms/step - loss: 0.0523 - acc: 0.9842 - auc: 0.9988 - f1_score: 0.9839 - val_loss: 0.0319 - val_acc: 0.9887 - val_auc: 0.9998 - val_f1_score: 0.9888 - lr: 6.3025e-04\n",
            "\n",
            "Epoch 38: LearningRateScheduler setting learning rate to 0.0006302493275143206.\n",
            "Epoch 38/50\n",
            "210/210 [==============================] - 17s 81ms/step - loss: 0.0336 - acc: 0.9893 - auc: 0.9994 - f1_score: 0.9892 - val_loss: 0.0410 - val_acc: 0.9899 - val_auc: 0.9982 - val_f1_score: 0.9901 - lr: 6.3025e-04\n",
            "\n",
            "Epoch 39: LearningRateScheduler setting learning rate to 0.0005987368611386045.\n",
            "Epoch 39/50\n",
            "210/210 [==============================] - 18s 84ms/step - loss: 0.0297 - acc: 0.9910 - auc: 0.9996 - f1_score: 0.9909 - val_loss: 0.0297 - val_acc: 0.9922 - val_auc: 0.9988 - val_f1_score: 0.9924 - lr: 5.9874e-04\n",
            "\n",
            "Epoch 40: LearningRateScheduler setting learning rate to 0.0005987368640489876.\n",
            "Epoch 40/50\n",
            "210/210 [==============================] - 17s 82ms/step - loss: 0.0211 - acc: 0.9940 - auc: 0.9997 - f1_score: 0.9940 - val_loss: 0.0244 - val_acc: 0.9910 - val_auc: 0.9995 - val_f1_score: 0.9909 - lr: 5.9874e-04\n",
            "\n",
            "Epoch 41: LearningRateScheduler setting learning rate to 0.0005688000208465382.\n",
            "Epoch 41/50\n",
            "210/210 [==============================] - 18s 84ms/step - loss: 0.0160 - acc: 0.9958 - auc: 0.9996 - f1_score: 0.9959 - val_loss: 0.0166 - val_acc: 0.9934 - val_auc: 1.0000 - val_f1_score: 0.9936 - lr: 5.6880e-04\n",
            "\n",
            "Epoch 42: LearningRateScheduler setting learning rate to 0.0005688000237569213.\n",
            "Epoch 42/50\n",
            "210/210 [==============================] - 18s 84ms/step - loss: 0.0233 - acc: 0.9939 - auc: 0.9996 - f1_score: 0.9939 - val_loss: 0.1087 - val_acc: 0.9690 - val_auc: 0.9942 - val_f1_score: 0.9687 - lr: 5.6880e-04\n",
            "\n",
            "Epoch 43: LearningRateScheduler setting learning rate to 0.0005403600225690752.\n",
            "Epoch 43/50\n",
            "210/210 [==============================] - 18s 84ms/step - loss: 0.0133 - acc: 0.9969 - auc: 0.9998 - f1_score: 0.9969 - val_loss: 0.0436 - val_acc: 0.9899 - val_auc: 0.9986 - val_f1_score: 0.9903 - lr: 5.4036e-04\n",
            "\n",
            "Epoch 44: LearningRateScheduler setting learning rate to 0.0005403599934652448.\n",
            "Epoch 44/50\n",
            "210/210 [==============================] - 17s 81ms/step - loss: 0.0110 - acc: 0.9966 - auc: 1.0000 - f1_score: 0.9966 - val_loss: 0.0492 - val_acc: 0.9851 - val_auc: 0.9982 - val_f1_score: 0.9851 - lr: 5.4036e-04\n",
            "\n",
            "Epoch 45: LearningRateScheduler setting learning rate to 0.0005133419937919825.\n",
            "Epoch 45/50\n",
            "210/210 [==============================] - 18s 84ms/step - loss: 0.0190 - acc: 0.9948 - auc: 0.9996 - f1_score: 0.9948 - val_loss: 0.2067 - val_acc: 0.9427 - val_auc: 0.9893 - val_f1_score: 0.9406 - lr: 5.1334e-04\n",
            "\n",
            "Epoch 46: LearningRateScheduler setting learning rate to 0.0005133419763296843.\n",
            "Epoch 46/50\n",
            "210/210 [==============================] - 17s 82ms/step - loss: 0.0273 - acc: 0.9918 - auc: 0.9995 - f1_score: 0.9917 - val_loss: 0.0771 - val_acc: 0.9761 - val_auc: 0.9975 - val_f1_score: 0.9761 - lr: 5.1334e-04\n",
            "\n",
            "Epoch 47: LearningRateScheduler setting learning rate to 0.0004876748775132.\n",
            "Epoch 47/50\n",
            "210/210 [==============================] - 18s 84ms/step - loss: 0.0156 - acc: 0.9952 - auc: 0.9997 - f1_score: 0.9951 - val_loss: 0.0536 - val_acc: 0.9803 - val_auc: 0.9986 - val_f1_score: 0.9804 - lr: 4.8767e-04\n",
            "\n",
            "Epoch 48: LearningRateScheduler setting learning rate to 0.00048767487169243395.\n",
            "Epoch 48/50\n",
            "210/210 [==============================] - 18s 84ms/step - loss: 0.0203 - acc: 0.9939 - auc: 0.9999 - f1_score: 0.9938 - val_loss: 0.2527 - val_acc: 0.9355 - val_auc: 0.9879 - val_f1_score: 0.9378 - lr: 4.8767e-04\n",
            "\n",
            "Epoch 49: LearningRateScheduler setting learning rate to 0.00046329112810781223.\n",
            "Epoch 49/50\n",
            "210/210 [==============================] - 17s 81ms/step - loss: 0.0243 - acc: 0.9922 - auc: 0.9994 - f1_score: 0.9923 - val_loss: 0.0311 - val_acc: 0.9887 - val_auc: 0.9999 - val_f1_score: 0.9889 - lr: 4.6329e-04\n",
            "\n",
            "Epoch 50: LearningRateScheduler setting learning rate to 0.0004632911295630038.\n",
            "Epoch 50/50\n",
            "210/210 [==============================] - 17s 83ms/step - loss: 0.0209 - acc: 0.9936 - auc: 0.9995 - f1_score: 0.9935 - val_loss: 0.0631 - val_acc: 0.9779 - val_auc: 0.9987 - val_f1_score: 0.9783 - lr: 4.6329e-04\n"
          ]
        }
      ]
    },
    {
      "cell_type": "code",
      "execution_count": null,
      "id": "e7251e1c",
      "metadata": {
        "execution": {
          "iopub.execute_input": "2024-04-16T17:21:17.700732Z",
          "iopub.status.busy": "2024-04-16T17:21:17.700439Z",
          "iopub.status.idle": "2024-04-16T17:21:29.892883Z",
          "shell.execute_reply": "2024-04-16T17:21:29.891991Z"
        },
        "id": "e7251e1c",
        "papermill": {
          "duration": 12.210551,
          "end_time": "2024-04-16T17:21:29.895500",
          "exception": false,
          "start_time": "2024-04-16T17:21:17.684949",
          "status": "completed"
        },
        "tags": []
      },
      "outputs": [],
      "source": [
        "\n",
        "\n",
        "# # Assuming train_images and test_images are your input image data\n",
        "\n",
        "\n",
        "# model = Sequential()\n",
        "# model.add(Input(shape=input_shape))\n",
        "# model.add(Conv2D(64, (3, 3), activation='relu'))\n",
        "# model.add(MaxPooling2D((2, 2)))\n",
        "# model.add(Conv2D(128, (3, 3), activation='relu'))\n",
        "# model.add(MaxPooling2D((2, 2)))\n",
        "# model.add(Conv2D(256, (3, 3), activation='relu'))\n",
        "# model.add(MaxPooling2D((2, 2)))\n",
        "# model.add(Dropout(0.2))\n",
        "# model.add(Flatten())\n",
        "# model.add(Dense(512, activation='relu'))\n",
        "# model.add(Dropout(0.5))\n",
        "# model.add(Dense(4, activation='softmax'))\n"
      ]
    },
    {
      "cell_type": "code",
      "execution_count": null,
      "id": "6a21f88e",
      "metadata": {
        "execution": {
          "iopub.execute_input": "2024-04-16T17:21:29.933009Z",
          "iopub.status.busy": "2024-04-16T17:21:29.932077Z",
          "iopub.status.idle": "2024-04-16T17:21:29.945755Z",
          "shell.execute_reply": "2024-04-16T17:21:29.944971Z"
        },
        "id": "6a21f88e",
        "papermill": {
          "duration": 0.032957,
          "end_time": "2024-04-16T17:21:29.947818",
          "exception": false,
          "start_time": "2024-04-16T17:21:29.914861",
          "status": "completed"
        },
        "tags": []
      },
      "outputs": [],
      "source": []
    },
    {
      "cell_type": "code",
      "execution_count": null,
      "id": "743ad80f",
      "metadata": {
        "execution": {
          "iopub.execute_input": "2024-04-16T17:21:29.985614Z",
          "iopub.status.busy": "2024-04-16T17:21:29.985094Z",
          "iopub.status.idle": "2024-04-16T17:39:10.366082Z",
          "shell.execute_reply": "2024-04-16T17:39:10.365133Z"
        },
        "id": "743ad80f",
        "papermill": {
          "duration": 1060.40561,
          "end_time": "2024-04-16T17:39:10.368468",
          "exception": false,
          "start_time": "2024-04-16T17:21:29.962858",
          "status": "completed"
        },
        "tags": []
      },
      "outputs": [],
      "source": [
        "# import math\n",
        "# model.compile(optimizer=optimizer, loss='categorical_crossentropy', metrics=['accuracy'])\n",
        "\n",
        "# history = model.fit(train_images, train_labels_encoded,\n",
        "#                     steps_per_epoch = int(len(train_images) / 32),\n",
        "#                     epochs=50,\n",
        "#                     validation_data=(test_images, test_labels_encoded),\n",
        "#                     sample_weight=sample_weights,\n",
        "#                     callbacks=[lr_scheduler])"
      ]
    },
    {
      "cell_type": "code",
      "execution_count": null,
      "id": "1dbe1778",
      "metadata": {
        "execution": {
          "iopub.execute_input": "2024-04-16T17:39:12.463051Z",
          "iopub.status.busy": "2024-04-16T17:39:12.462327Z",
          "iopub.status.idle": "2024-04-16T17:39:14.847443Z",
          "shell.execute_reply": "2024-04-16T17:39:14.846342Z"
        },
        "id": "1dbe1778",
        "outputId": "a6c97217-ae85-4fa9-9dbb-66453758299a",
        "papermill": {
          "duration": 3.401025,
          "end_time": "2024-04-16T17:39:14.850159",
          "exception": false,
          "start_time": "2024-04-16T17:39:11.449134",
          "status": "completed"
        },
        "tags": [],
        "colab": {
          "base_uri": "https://localhost:8080/"
        }
      },
      "outputs": [
        {
          "output_type": "stream",
          "name": "stdout",
          "text": [
            "53/53 [==============================] - 1s 14ms/step\n",
            "ROC AUC: 0.9982698320706782\n"
          ]
        }
      ],
      "source": [
        "import tensorflow as tf\n",
        "import numpy as np\n",
        "from sklearn.metrics import roc_auc_score\n",
        "\n",
        "y_prob = model.predict(test_images)\n",
        "y_prob = tf.nn.softmax(y_prob).numpy()\n",
        "\n",
        "# Compute ROC AUC for each class\n",
        "roc_auc = roc_auc_score(test_labels_encoded, y_prob, average='macro')\n",
        "\n",
        "print(\"ROC AUC:\", roc_auc)"
      ]
    },
    {
      "cell_type": "code",
      "source": [],
      "metadata": {
        "id": "2ksaZhYAQyQU"
      },
      "id": "2ksaZhYAQyQU",
      "execution_count": null,
      "outputs": []
    },
    {
      "cell_type": "code",
      "execution_count": null,
      "id": "748371f9",
      "metadata": {
        "execution": {
          "iopub.execute_input": "2024-04-16T17:39:16.994395Z",
          "iopub.status.busy": "2024-04-16T17:39:16.993265Z",
          "iopub.status.idle": "2024-04-16T17:39:18.597653Z",
          "shell.execute_reply": "2024-04-16T17:39:18.596762Z"
        },
        "id": "748371f9",
        "outputId": "36096934-87da-4961-a66e-526fbc407ea7",
        "papermill": {
          "duration": 2.612626,
          "end_time": "2024-04-16T17:39:18.600243",
          "exception": false,
          "start_time": "2024-04-16T17:39:15.987617",
          "status": "completed"
        },
        "tags": [],
        "colab": {
          "base_uri": "https://localhost:8080/"
        }
      },
      "outputs": [
        {
          "output_type": "stream",
          "name": "stderr",
          "text": [
            "/usr/local/lib/python3.10/dist-packages/keras/src/engine/training.py:3103: UserWarning: You are saving your model as an HDF5 file via `model.save()`. This file format is considered legacy. We recommend using instead the native Keras format, e.g. `model.save('my_model.keras')`.\n",
            "  saving_api.save_model(\n"
          ]
        }
      ],
      "source": [
        "# Save the model\n",
        "model.save(\"my_cnn_model.h5\")\n"
      ]
    },
    {
      "cell_type": "code",
      "execution_count": null,
      "id": "2bfe3e43",
      "metadata": {
        "execution": {
          "iopub.execute_input": "2024-04-16T17:39:20.797763Z",
          "iopub.status.busy": "2024-04-16T17:39:20.797350Z",
          "iopub.status.idle": "2024-04-16T17:39:20.807158Z",
          "shell.execute_reply": "2024-04-16T17:39:20.805978Z"
        },
        "id": "2bfe3e43",
        "outputId": "78eb29de-2ce9-4393-a4db-d7b849f30bf5",
        "papermill": {
          "duration": 1.073248,
          "end_time": "2024-04-16T17:39:20.809527",
          "exception": false,
          "start_time": "2024-04-16T17:39:19.736279",
          "status": "completed"
        },
        "tags": [],
        "colab": {
          "base_uri": "https://localhost:8080/"
        }
      },
      "outputs": [
        {
          "output_type": "execute_result",
          "data": {
            "text/plain": [
              "1279"
            ]
          },
          "metadata": {},
          "execution_count": 54
        }
      ],
      "source": [
        "import os\n",
        "import numpy as np\n",
        "directory = '/kaggle/working/test'\n",
        "\n",
        "files = [file for file in os.listdir(directory) if file.endswith('.npy')]\n",
        "len(files)"
      ]
    },
    {
      "cell_type": "code",
      "execution_count": null,
      "id": "46171fd0",
      "metadata": {
        "execution": {
          "iopub.execute_input": "2024-04-16T17:39:22.963847Z",
          "iopub.status.busy": "2024-04-16T17:39:22.963035Z",
          "iopub.status.idle": "2024-04-16T17:39:22.970920Z",
          "shell.execute_reply": "2024-04-16T17:39:22.969988Z"
        },
        "id": "46171fd0",
        "outputId": "1d798d80-7117-4d28-d9d0-9a15e7d9b252",
        "papermill": {
          "duration": 1.065183,
          "end_time": "2024-04-16T17:39:22.973391",
          "exception": false,
          "start_time": "2024-04-16T17:39:21.908208",
          "status": "completed"
        },
        "tags": [],
        "colab": {
          "base_uri": "https://localhost:8080/"
        }
      },
      "outputs": [
        {
          "output_type": "stream",
          "name": "stdout",
          "text": [
            "179 12 640 448\n"
          ]
        }
      ],
      "source": [
        "mildDem = [i for i in files if i.startswith(\"MildDem\")]\n",
        "moderateDem = [i for i in files if \"ModerateDem\" in i]\n",
        "nonDem = [i for i in files if \"NonDem\" in i]\n",
        "veryMild = [i for i in files if \"VeryMildDem\" in i]\n",
        "print(len(mildDem), len(moderateDem), len(nonDem), len(veryMild))"
      ]
    },
    {
      "cell_type": "code",
      "execution_count": null,
      "id": "e5d590d6",
      "metadata": {
        "execution": {
          "iopub.execute_input": "2024-04-16T17:39:25.079272Z",
          "iopub.status.busy": "2024-04-16T17:39:25.078554Z",
          "iopub.status.idle": "2024-04-16T17:39:25.095545Z",
          "shell.execute_reply": "2024-04-16T17:39:25.094509Z"
        },
        "id": "e5d590d6",
        "outputId": "600c6f73-20c8-4423-b079-cfffcbc16536",
        "papermill": {
          "duration": 1.098865,
          "end_time": "2024-04-16T17:39:25.097861",
          "exception": false,
          "start_time": "2024-04-16T17:39:23.998996",
          "status": "completed"
        },
        "tags": [],
        "colab": {
          "base_uri": "https://localhost:8080/"
        }
      },
      "outputs": [
        {
          "output_type": "execute_result",
          "data": {
            "text/plain": [
              "Class\n",
              "2    640\n",
              "3    448\n",
              "0    179\n",
              "1     12\n",
              "Name: count, dtype: int64"
            ]
          },
          "metadata": {},
          "execution_count": 56
        }
      ],
      "source": [
        "import pandas as pd\n",
        "l = [[mildDem, 0], [moderateDem, 1], [nonDem, 2], [veryMild, 3]]\n",
        "x = []\n",
        "for i in l:\n",
        "    for j in i[0]:\n",
        "        path = os.path.join(\"/kaggle/working/test\", j)\n",
        "        x.append([i[1], path])\n",
        "\n",
        "df = pd.DataFrame(x, columns=[\"Class\", \"Path\"])\n",
        "df[\"Class\"].value_counts()\n"
      ]
    },
    {
      "cell_type": "code",
      "execution_count": null,
      "id": "e8bf69dd",
      "metadata": {
        "execution": {
          "iopub.execute_input": "2024-04-16T17:39:27.227175Z",
          "iopub.status.busy": "2024-04-16T17:39:27.226318Z",
          "iopub.status.idle": "2024-04-16T17:39:27.478422Z",
          "shell.execute_reply": "2024-04-16T17:39:27.476993Z"
        },
        "id": "e8bf69dd",
        "papermill": {
          "duration": 1.338383,
          "end_time": "2024-04-16T17:39:27.481412",
          "exception": false,
          "start_time": "2024-04-16T17:39:26.143029",
          "status": "completed"
        },
        "tags": []
      },
      "outputs": [],
      "source": [
        "images = []\n",
        "for i in df[\"Path\"]:\n",
        "    images.append(np.load(i))\n",
        "images = np.array(images)"
      ]
    },
    {
      "cell_type": "code",
      "execution_count": null,
      "id": "c76f8fe5",
      "metadata": {
        "execution": {
          "iopub.execute_input": "2024-04-16T17:39:29.559501Z",
          "iopub.status.busy": "2024-04-16T17:39:29.559102Z",
          "iopub.status.idle": "2024-04-16T17:39:29.565365Z",
          "shell.execute_reply": "2024-04-16T17:39:29.564332Z"
        },
        "id": "c76f8fe5",
        "outputId": "2ce8d7b7-02bb-4732-ce0b-bd1af44e996d",
        "papermill": {
          "duration": 1.073303,
          "end_time": "2024-04-16T17:39:29.567606",
          "exception": false,
          "start_time": "2024-04-16T17:39:28.494303",
          "status": "completed"
        },
        "tags": [],
        "colab": {
          "base_uri": "https://localhost:8080/"
        }
      },
      "outputs": [
        {
          "output_type": "stream",
          "name": "stdout",
          "text": [
            "(1279, 4)\n"
          ]
        }
      ],
      "source": [
        "labels = df[\"Class\"]\n",
        "labels = to_categorical(labels, num_classes=4)\n",
        "# Verify the encoded labels\n",
        "print(labels.shape)"
      ]
    },
    {
      "cell_type": "code",
      "execution_count": null,
      "id": "455f8eba",
      "metadata": {
        "execution": {
          "iopub.execute_input": "2024-04-16T17:39:31.669213Z",
          "iopub.status.busy": "2024-04-16T17:39:31.668781Z",
          "iopub.status.idle": "2024-04-16T17:39:31.677247Z",
          "shell.execute_reply": "2024-04-16T17:39:31.676227Z"
        },
        "id": "455f8eba",
        "papermill": {
          "duration": 1.097339,
          "end_time": "2024-04-16T17:39:31.679432",
          "exception": false,
          "start_time": "2024-04-16T17:39:30.582093",
          "status": "completed"
        },
        "tags": []
      },
      "outputs": [],
      "source": [
        "l = []\n",
        "for i in labels:\n",
        "  for j in range(4):\n",
        "    if i[j] == 1:\n",
        "      l.append(j)\n"
      ]
    },
    {
      "cell_type": "code",
      "execution_count": null,
      "id": "7d699874",
      "metadata": {
        "execution": {
          "iopub.execute_input": "2024-04-16T17:39:33.728882Z",
          "iopub.status.busy": "2024-04-16T17:39:33.728474Z",
          "iopub.status.idle": "2024-04-16T17:39:40.245573Z",
          "shell.execute_reply": "2024-04-16T17:39:40.244437Z"
        },
        "id": "7d699874",
        "papermill": {
          "duration": 7.534324,
          "end_time": "2024-04-16T17:39:40.248052",
          "exception": false,
          "start_time": "2024-04-16T17:39:32.713728",
          "status": "completed"
        },
        "tags": [],
        "outputId": "13d0fabc-bc85-4107-f986-f80a12e537d2",
        "colab": {
          "base_uri": "https://localhost:8080/"
        }
      },
      "outputs": [
        {
          "output_type": "stream",
          "name": "stdout",
          "text": [
            "40/40 [==============================] - 1s 15ms/step\n"
          ]
        }
      ],
      "source": [
        "y_prob = model.predict(images)\n",
        "\n",
        "# y_prob = tf.nn.softmax(y_prob).numpy()\n",
        "# Get the class with the highest probability for each prediction\n",
        "y_prob = np.argmax(y_prob, axis=1)  # Argmax gives index of max value\n",
        "# for i in range(len(labels)):\n",
        "#   print(l[i], y_prob[i])"
      ]
    },
    {
      "cell_type": "code",
      "execution_count": null,
      "id": "41441148",
      "metadata": {
        "id": "41441148",
        "papermill": {
          "duration": 1.017901,
          "end_time": "2024-04-16T17:39:42.357144",
          "exception": false,
          "start_time": "2024-04-16T17:39:41.339243",
          "status": "completed"
        },
        "tags": []
      },
      "outputs": [],
      "source": []
    },
    {
      "cell_type": "code",
      "execution_count": null,
      "id": "155be648",
      "metadata": {
        "execution": {
          "iopub.execute_input": "2024-04-16T17:39:44.416490Z",
          "iopub.status.busy": "2024-04-16T17:39:44.416082Z",
          "iopub.status.idle": "2024-04-16T17:39:44.432416Z",
          "shell.execute_reply": "2024-04-16T17:39:44.431286Z"
        },
        "id": "155be648",
        "outputId": "b58d3646-b9ba-44d2-be24-016c617430ce",
        "papermill": {
          "duration": 1.014604,
          "end_time": "2024-04-16T17:39:44.434644",
          "exception": false,
          "start_time": "2024-04-16T17:39:43.420040",
          "status": "completed"
        },
        "tags": [],
        "colab": {
          "base_uri": "https://localhost:8080/"
        }
      },
      "outputs": [
        {
          "output_type": "stream",
          "name": "stdout",
          "text": [
            "0 {'precision': 0.9743589743589743, 'recall': 0.2122905027932961, 'f1-score': 0.3486238532110092, 'support': 179}\n",
            "1 {'precision': 1.0, 'recall': 0.5833333333333334, 'f1-score': 0.7368421052631579, 'support': 12}\n",
            "2 {'precision': 0.9041916167664671, 'recall': 0.471875, 'f1-score': 0.620123203285421, 'support': 640}\n",
            "3 {'precision': 0.4860956618464961, 'recall': 0.9754464285714286, 'f1-score': 0.6488492947290274, 'support': 448}\n",
            "accuracy 0.6129788897576232\n",
            "macro avg {'precision': 0.8411615632429844, 'recall': 0.5607363161745145, 'f1-score': 0.588609614122154, 'support': 1279}\n",
            "weighted avg {'precision': 0.7684626643065094, 'recall': 0.6129788897576232, 'f1-score': 0.5932831189438642, 'support': 1279}\n"
          ]
        }
      ],
      "source": [
        "from sklearn.metrics import classification_report\n",
        "\n",
        "# Assuming you have predicted labels (predicted_classes) and true labels (test_labels_encoded)\n",
        "report = classification_report(l, y_prob, output_dict=True)\n",
        "for i in report:\n",
        "  print(i, report[i])"
      ]
    },
    {
      "cell_type": "code",
      "execution_count": null,
      "id": "073a1d9c",
      "metadata": {
        "execution": {
          "iopub.execute_input": "2024-04-16T17:39:46.565515Z",
          "iopub.status.busy": "2024-04-16T17:39:46.565110Z",
          "iopub.status.idle": "2024-04-16T17:39:48.199234Z",
          "shell.execute_reply": "2024-04-16T17:39:48.198134Z"
        },
        "id": "073a1d9c",
        "outputId": "06e42a36-c108-4950-d57e-0a0bad14d8aa",
        "papermill": {
          "duration": 2.695718,
          "end_time": "2024-04-16T17:39:48.201841",
          "exception": false,
          "start_time": "2024-04-16T17:39:45.506123",
          "status": "completed"
        },
        "tags": [],
        "colab": {
          "base_uri": "https://localhost:8080/"
        }
      },
      "outputs": [
        {
          "output_type": "stream",
          "name": "stdout",
          "text": [
            "40/40 [==============================] - 1s 15ms/step - loss: 2.2908 - acc: 0.6130 - auc: 0.8029 - f1_score: 0.5886\n"
          ]
        },
        {
          "output_type": "execute_result",
          "data": {
            "text/plain": [
              "[2.29081130027771,\n",
              " 0.6129788756370544,\n",
              " 0.8029040694236755,\n",
              " array([0.34862384, 0.7368421 , 0.6201232 , 0.6488493 ], dtype=float32)]"
            ]
          },
          "metadata": {},
          "execution_count": 77
        }
      ],
      "source": [
        "model.evaluate(images, labels)"
      ]
    },
    {
      "cell_type": "code",
      "execution_count": null,
      "id": "6a5b0112",
      "metadata": {
        "id": "6a5b0112",
        "papermill": {
          "duration": 1.027321,
          "end_time": "2024-04-16T17:39:50.292072",
          "exception": false,
          "start_time": "2024-04-16T17:39:49.264751",
          "status": "completed"
        },
        "tags": [],
        "outputId": "03e67df0-f757-4c46-ce72-59efbf516df4",
        "colab": {
          "base_uri": "https://localhost:8080/"
        }
      },
      "outputs": [
        {
          "output_type": "stream",
          "name": "stdout",
          "text": [
            "40/40 [==============================] - 1s 13ms/step\n",
            "ROC AUC: 0.8089602223044418\n"
          ]
        }
      ],
      "source": [
        "\n",
        "import tensorflow as tf\n",
        "import numpy as np\n",
        "from sklearn.metrics import roc_auc_score\n",
        "\n",
        "y_prob = model.predict(images)\n",
        "y_prob = tf.nn.softmax(y_prob).numpy()\n",
        "\n",
        "# Compute ROC AUC for each class\n",
        "roc_auc = roc_auc_score(labels, y_prob, average='macro')\n",
        "\n",
        "print(\"ROC AUC:\", roc_auc)"
      ]
    },
    {
      "cell_type": "code",
      "source": [],
      "metadata": {
        "id": "UDNIyngOUCWk"
      },
      "id": "UDNIyngOUCWk",
      "execution_count": null,
      "outputs": []
    }
  ],
  "metadata": {
    "accelerator": "GPU",
    "colab": {
      "gpuType": "T4",
      "provenance": []
    },
    "kaggle": {
      "accelerator": "nvidiaTeslaT4",
      "dataSources": [
        {
          "datasetId": 457093,
          "sourceId": 861496,
          "sourceType": "datasetVersion"
        },
        {
          "datasetId": 4792690,
          "sourceId": 8112894,
          "sourceType": "datasetVersion"
        }
      ],
      "dockerImageVersionId": 30684,
      "isGpuEnabled": true,
      "isInternetEnabled": false,
      "language": "python",
      "sourceType": "notebook"
    },
    "kernelspec": {
      "display_name": "Python 3",
      "language": "python",
      "name": "python3"
    },
    "language_info": {
      "codemirror_mode": {
        "name": "ipython",
        "version": 3
      },
      "file_extension": ".py",
      "mimetype": "text/x-python",
      "name": "python",
      "nbconvert_exporter": "python",
      "pygments_lexer": "ipython3",
      "version": "3.10.13"
    },
    "papermill": {
      "default_parameters": {},
      "duration": 1182.305042,
      "end_time": "2024-04-16T17:39:54.651853",
      "environment_variables": {},
      "exception": null,
      "input_path": "__notebook__.ipynb",
      "output_path": "__notebook__.ipynb",
      "parameters": {},
      "start_time": "2024-04-16T17:20:12.346811",
      "version": "2.5.0"
    }
  },
  "nbformat": 4,
  "nbformat_minor": 5
}