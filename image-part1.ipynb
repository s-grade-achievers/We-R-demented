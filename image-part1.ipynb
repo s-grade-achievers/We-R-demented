{
 "cells": [
  {
   "cell_type": "markdown",
   "id": "eb29b7e3",
   "metadata": {
    "id": "a7ff34cb",
    "papermill": {
     "duration": 0.016741,
     "end_time": "2024-04-17T14:59:00.215142",
     "exception": false,
     "start_time": "2024-04-17T14:59:00.198401",
     "status": "completed"
    },
    "tags": []
   },
   "source": [
    "<a href=\"https://www.kaggle.com/code/pes1ug22am164/image-part?scriptVersionId=171996997\" target=\"_blank\"><img align=\"left\" alt=\"Kaggle\" title=\"Open in Kaggle\" src=\"https://kaggle.com/static/images/open-in-kaggle.svg\"></a>"
   ]
  },
  {
   "cell_type": "markdown",
   "id": "832a01ce",
   "metadata": {
    "id": "222a0f8e",
    "papermill": {
     "duration": 0.016312,
     "end_time": "2024-04-17T14:59:00.247690",
     "exception": false,
     "start_time": "2024-04-17T14:59:00.231378",
     "status": "completed"
    },
    "tags": []
   },
   "source": [
    "# uncomment on google colab, comment on kaggle."
   ]
  },
  {
   "cell_type": "code",
   "execution_count": 1,
   "id": "c6b5eeac",
   "metadata": {
    "execution": {
     "iopub.execute_input": "2024-04-17T14:59:00.287016Z",
     "iopub.status.busy": "2024-04-17T14:59:00.286636Z",
     "iopub.status.idle": "2024-04-17T14:59:00.291283Z",
     "shell.execute_reply": "2024-04-17T14:59:00.290506Z"
    },
    "id": "730ebdb2",
    "outputId": "db526a1f-00de-401b-bf8a-d4dc1afed7fb",
    "papermill": {
     "duration": 0.02554,
     "end_time": "2024-04-17T14:59:00.293218",
     "exception": false,
     "start_time": "2024-04-17T14:59:00.267678",
     "status": "completed"
    },
    "tags": []
   },
   "outputs": [],
   "source": [
    "# !mkdir ~/.kaggle\n",
    "# from google.colab import files\n",
    "# files.upload()\n",
    "# !cp kaggle.json ~/.kaggle/\n",
    "# !chmod 600 ~/.kaggle/kaggle.json\n",
    "# !kaggle datasets download -d shusrith/betterer-preproc"
   ]
  },
  {
   "cell_type": "code",
   "execution_count": 2,
   "id": "09727605",
   "metadata": {
    "execution": {
     "iopub.execute_input": "2024-04-17T14:59:00.330006Z",
     "iopub.status.busy": "2024-04-17T14:59:00.329702Z",
     "iopub.status.idle": "2024-04-17T14:59:00.333793Z",
     "shell.execute_reply": "2024-04-17T14:59:00.332679Z"
    },
    "id": "d02ab8ba",
    "papermill": {
     "duration": 0.024797,
     "end_time": "2024-04-17T14:59:00.336039",
     "exception": false,
     "start_time": "2024-04-17T14:59:00.311242",
     "status": "completed"
    },
    "tags": []
   },
   "outputs": [],
   "source": [
    "# !unzip /content/betterer-preproc.zip"
   ]
  },
  {
   "cell_type": "code",
   "execution_count": 3,
   "id": "3febda58",
   "metadata": {
    "execution": {
     "iopub.execute_input": "2024-04-17T14:59:00.375353Z",
     "iopub.status.busy": "2024-04-17T14:59:00.375066Z",
     "iopub.status.idle": "2024-04-17T14:59:00.379169Z",
     "shell.execute_reply": "2024-04-17T14:59:00.378285Z"
    },
    "id": "729247b8",
    "outputId": "2de840d7-51bd-4f6b-d92e-b46400cef0e9",
    "papermill": {
     "duration": 0.026081,
     "end_time": "2024-04-17T14:59:00.381176",
     "exception": false,
     "start_time": "2024-04-17T14:59:00.355095",
     "status": "completed"
    },
    "tags": []
   },
   "outputs": [],
   "source": [
    "# !kaggle datasets download -d tourist55/alzheimers-dataset-4-class-of-images"
   ]
  },
  {
   "cell_type": "code",
   "execution_count": 4,
   "id": "999e0d44",
   "metadata": {
    "execution": {
     "iopub.execute_input": "2024-04-17T14:59:00.418577Z",
     "iopub.status.busy": "2024-04-17T14:59:00.418333Z",
     "iopub.status.idle": "2024-04-17T14:59:00.421805Z",
     "shell.execute_reply": "2024-04-17T14:59:00.420985Z"
    },
    "id": "de92906d",
    "papermill": {
     "duration": 0.024308,
     "end_time": "2024-04-17T14:59:00.423927",
     "exception": false,
     "start_time": "2024-04-17T14:59:00.399619",
     "status": "completed"
    },
    "tags": []
   },
   "outputs": [],
   "source": [
    "# !unzip /content/alzheimers-dataset-4-class-of-images.zip"
   ]
  },
  {
   "cell_type": "markdown",
   "id": "a186cef5",
   "metadata": {
    "id": "beabf59f",
    "papermill": {
     "duration": 0.016319,
     "end_time": "2024-04-17T14:59:00.457534",
     "exception": false,
     "start_time": "2024-04-17T14:59:00.441215",
     "status": "completed"
    },
    "tags": []
   },
   "source": [
    "# PRE PROCESS\n",
    ".JPG TO .NPY"
   ]
  },
  {
   "cell_type": "code",
   "execution_count": 5,
   "id": "4313967a",
   "metadata": {
    "execution": {
     "iopub.execute_input": "2024-04-17T14:59:00.494082Z",
     "iopub.status.busy": "2024-04-17T14:59:00.493817Z",
     "iopub.status.idle": "2024-04-17T14:59:00.498545Z",
     "shell.execute_reply": "2024-04-17T14:59:00.497724Z"
    },
    "id": "9f788ed4",
    "papermill": {
     "duration": 0.0253,
     "end_time": "2024-04-17T14:59:00.500556",
     "exception": false,
     "start_time": "2024-04-17T14:59:00.475256",
     "status": "completed"
    },
    "tags": []
   },
   "outputs": [],
   "source": [
    "# import os\n",
    "# import cv2\n",
    "# import numpy as np\n",
    "\n",
    "# def jpg_to_npy_in_folders(input_folder, output_folder):\n",
    "#     os.makedirs(output_folder, exist_ok=True)\n",
    "#     for i, item in enumerate(os.listdir(input_folder)):\n",
    "#         item_path = os.path.join(input_folder, item)\n",
    "#         if os.path.isdir(item_path):\n",
    "#             jpg_to_npy_in_folders(item_path, output_folder)\n",
    "#         elif os.path.isfile(item_path) and item.endswith(\".jpg\"):\n",
    "#             img = cv2.imread(item_path)\n",
    "#             img_array = np.array(img)\n",
    "#             output_file_path = os.path.join(output_folder, os.path.splitext(item)[0] + '.npy')\n",
    "#             np.save(output_file_path, img_array)\n",
    "\n",
    "# # input_folder_path = \"/content/Alzheimer_s Dataset/train\"\n",
    "# input_folder_path = \"/kaggle/input/alzheimers-dataset-4-class-of-images/Alzheimer_s Dataset/train\"\n",
    "# output_folder_path = \"/kaggle/working/train\"\n",
    "\n",
    "# jpg_to_npy_in_folders(input_folder_path, output_folder_path)\n",
    "\n"
   ]
  },
  {
   "cell_type": "code",
   "execution_count": 6,
   "id": "904a9c49",
   "metadata": {
    "_cell_guid": "b1076dfc-b9ad-4769-8c92-a6c4dae69d19",
    "_uuid": "8f2839f25d086af736a60e9eeb907d3b93b6e0e5",
    "execution": {
     "iopub.execute_input": "2024-04-17T14:59:00.534830Z",
     "iopub.status.busy": "2024-04-17T14:59:00.534141Z",
     "iopub.status.idle": "2024-04-17T14:59:00.538698Z",
     "shell.execute_reply": "2024-04-17T14:59:00.537838Z"
    },
    "id": "cc57fffe",
    "papermill": {
     "duration": 0.02321,
     "end_time": "2024-04-17T14:59:00.540548",
     "exception": false,
     "start_time": "2024-04-17T14:59:00.517338",
     "status": "completed"
    },
    "tags": []
   },
   "outputs": [],
   "source": [
    "# import os\n",
    "# import cv2\n",
    "# import numpy as np\n",
    "\n",
    "# def jpg_to_npy_in_folders(input_folder, output_folder):\n",
    "#     os.makedirs(output_folder, exist_ok=True)\n",
    "#     for i, item in enumerate(os.listdir(input_folder)):\n",
    "#         item_path = os.path.join(input_folder, item)\n",
    "#         if os.path.isdir(item_path):\n",
    "#             jpg_to_npy_in_folders(item_path, output_folder)\n",
    "#         elif os.path.isfile(item_path) and item.endswith(\".jpg\"):\n",
    "#             img = cv2.imread(item_path)\n",
    "#             img_array = np.array(img)\n",
    "#             folder = input_folder.split(\"/\")[-1]\n",
    "#             output_file_path = os.path.join(output_folder, f\"{folder}{i}.npy\")\n",
    "#             np.save(output_file_path, img_array)\n",
    "\n",
    "# # input_folder_path = \"/kaggle/input/alzheimers-dataset-4-class-of-images/Alzheimer_s Dataset/train\"\n",
    "# # output_folder_path = \"/kaggle/working/train\"\n",
    "\n",
    "# # jpg_to_npy_in_folders(input_folder_path, output_folder_path)\n",
    "# jpg_to_npy_in_folders(\"/kaggle/input/alzheimers-dataset-4-class-of-images/Alzheimer_s Dataset/test\", \"/kaggle/working/test\")\n",
    "# # jpg_to_npy_in_folders(\"/content/Alzheimer_s Dataset/test\", \"/kaggle/working/test\")\n",
    "\n"
   ]
  },
  {
   "cell_type": "code",
   "execution_count": 7,
   "id": "3e065df4",
   "metadata": {
    "execution": {
     "iopub.execute_input": "2024-04-17T14:59:00.574784Z",
     "iopub.status.busy": "2024-04-17T14:59:00.574082Z",
     "iopub.status.idle": "2024-04-17T14:59:00.577734Z",
     "shell.execute_reply": "2024-04-17T14:59:00.576944Z"
    },
    "id": "45ed7ce8",
    "outputId": "865f1a6f-e95a-42b4-de37-e3d3980fe6e0",
    "papermill": {
     "duration": 0.02264,
     "end_time": "2024-04-17T14:59:00.579758",
     "exception": false,
     "start_time": "2024-04-17T14:59:00.557118",
     "status": "completed"
    },
    "tags": []
   },
   "outputs": [],
   "source": [
    "# import os\n",
    "# import numpy as np\n",
    "# directory = '/kaggle/working/train'\n",
    "\n",
    "# files = [file for file in os.listdir(directory) if file.endswith('.npy')]\n",
    "# len(files)\n"
   ]
  },
  {
   "cell_type": "code",
   "execution_count": 8,
   "id": "f022a0c2",
   "metadata": {
    "execution": {
     "iopub.execute_input": "2024-04-17T14:59:00.613761Z",
     "iopub.status.busy": "2024-04-17T14:59:00.613479Z",
     "iopub.status.idle": "2024-04-17T14:59:00.617191Z",
     "shell.execute_reply": "2024-04-17T14:59:00.616409Z"
    },
    "id": "641639b4",
    "outputId": "eb52d6da-ee7a-4674-9631-2633c127ae61",
    "papermill": {
     "duration": 0.022809,
     "end_time": "2024-04-17T14:59:00.618985",
     "exception": false,
     "start_time": "2024-04-17T14:59:00.596176",
     "status": "completed"
    },
    "tags": []
   },
   "outputs": [],
   "source": [
    "# mildDem = [i for i in files if i.startswith(\"mildDem\")]\n",
    "# moderateDem = [i for i in files if \"moderateDem\" in i]\n",
    "# nonDem = [i for i in files if \"nonDem\" in i]\n",
    "# veryMild = [i for i in files if \"verymildDem\" in i]\n",
    "# print(len(mildDem), len(moderateDem), len(nonDem), len(veryMild))"
   ]
  },
  {
   "cell_type": "code",
   "execution_count": 9,
   "id": "15ed7827",
   "metadata": {
    "execution": {
     "iopub.execute_input": "2024-04-17T14:59:00.652500Z",
     "iopub.status.busy": "2024-04-17T14:59:00.652197Z",
     "iopub.status.idle": "2024-04-17T14:59:00.656484Z",
     "shell.execute_reply": "2024-04-17T14:59:00.655703Z"
    },
    "id": "dce546ff",
    "papermill": {
     "duration": 0.023032,
     "end_time": "2024-04-17T14:59:00.658287",
     "exception": false,
     "start_time": "2024-04-17T14:59:00.635255",
     "status": "completed"
    },
    "tags": []
   },
   "outputs": [],
   "source": [
    "# import imgaug.augmenters as iaa\n",
    "\n",
    "# # Define the augmenter\n",
    "# augmenter = iaa.Sequential([\n",
    "#     iaa.Affine(rotate=(-10, 10)),  # Rotate the image by -10 to 10 degrees\n",
    "#     iaa.GaussianBlur(sigma=(0.0, 1.0)),  # Apply Gaussian blur with a sigma ranging from 0.0 to 1.0\n",
    "#     iaa.AdditiveGaussianNoise(scale=(0, 0.05*255)),  # Add Gaussian noise with a scale of 0 to 0.05 times 255\n",
    "#     iaa.Multiply((0.9, 1.1)),\n",
    "#     iaa.LinearContrast((0.9, 1.1)),\n",
    "# ])\n",
    "\n",
    "# augmented_images = []\n",
    "\n",
    "# for path in moderateDem:\n",
    "#     path = os.path.join(\"/kaggle/working/train\", path)\n",
    "#     image = np.load(path)\n",
    "\n",
    "#     for _ in range(35):\n",
    "#         augmented_image = augmenter.augment_image(image)\n",
    "#         augmented_images.append(augmented_image)\n",
    "# augmented_images = np.array(augmented_images)"
   ]
  },
  {
   "cell_type": "code",
   "execution_count": 10,
   "id": "722369fb",
   "metadata": {
    "execution": {
     "iopub.execute_input": "2024-04-17T14:59:00.691380Z",
     "iopub.status.busy": "2024-04-17T14:59:00.691136Z",
     "iopub.status.idle": "2024-04-17T14:59:00.694894Z",
     "shell.execute_reply": "2024-04-17T14:59:00.693909Z"
    },
    "id": "82cf94d7",
    "papermill": {
     "duration": 0.02234,
     "end_time": "2024-04-17T14:59:00.696725",
     "exception": false,
     "start_time": "2024-04-17T14:59:00.674385",
     "status": "completed"
    },
    "tags": []
   },
   "outputs": [],
   "source": [
    "# len(augmented_images)"
   ]
  },
  {
   "cell_type": "code",
   "execution_count": 11,
   "id": "a3f7a331",
   "metadata": {
    "execution": {
     "iopub.execute_input": "2024-04-17T14:59:00.730960Z",
     "iopub.status.busy": "2024-04-17T14:59:00.730642Z",
     "iopub.status.idle": "2024-04-17T14:59:00.734685Z",
     "shell.execute_reply": "2024-04-17T14:59:00.733852Z"
    },
    "id": "23bca643",
    "papermill": {
     "duration": 0.023387,
     "end_time": "2024-04-17T14:59:00.736681",
     "exception": false,
     "start_time": "2024-04-17T14:59:00.713294",
     "status": "completed"
    },
    "tags": []
   },
   "outputs": [],
   "source": [
    "# import cv2\n",
    "# import os\n",
    "\n",
    "\n",
    "# output_directory = \"/kaggle/working/train\"\n",
    "\n",
    "# os.makedirs(output_directory, exist_ok=True)\n",
    "\n",
    "# for i, image in enumerate(augmented_images):\n",
    "#     output_path = os.path.join(output_directory, f\"moderateDem{i+53}.npy\")\n",
    "#     np.save(output_path, image)\n",
    "\n",
    "\n",
    "# print(\"Augmented images saved successfully.\")\n"
   ]
  },
  {
   "cell_type": "code",
   "execution_count": 12,
   "id": "6b7f69fe",
   "metadata": {
    "execution": {
     "iopub.execute_input": "2024-04-17T14:59:00.770733Z",
     "iopub.status.busy": "2024-04-17T14:59:00.770027Z",
     "iopub.status.idle": "2024-04-17T14:59:00.774009Z",
     "shell.execute_reply": "2024-04-17T14:59:00.773389Z"
    },
    "id": "7e6179eb",
    "papermill": {
     "duration": 0.022875,
     "end_time": "2024-04-17T14:59:00.775842",
     "exception": false,
     "start_time": "2024-04-17T14:59:00.752967",
     "status": "completed"
    },
    "tags": []
   },
   "outputs": [],
   "source": [
    "# augmented_images = []\n",
    "\n",
    "# for path in mildDem:\n",
    "#     path = os.path.join(\"/kaggle/working/train\", path)\n",
    "#     image = np.load(path)\n",
    "\n",
    "#     for _ in range(2):\n",
    "#         augmented_image = augmenter.augment_image(image)\n",
    "#         augmented_images.append(augmented_image)\n",
    "# augmented_images = np.array(augmented_images)"
   ]
  },
  {
   "cell_type": "code",
   "execution_count": 13,
   "id": "d7d2c058",
   "metadata": {
    "execution": {
     "iopub.execute_input": "2024-04-17T14:59:00.809912Z",
     "iopub.status.busy": "2024-04-17T14:59:00.809655Z",
     "iopub.status.idle": "2024-04-17T14:59:00.813096Z",
     "shell.execute_reply": "2024-04-17T14:59:00.812383Z"
    },
    "id": "1bd61403",
    "papermill": {
     "duration": 0.022465,
     "end_time": "2024-04-17T14:59:00.814993",
     "exception": false,
     "start_time": "2024-04-17T14:59:00.792528",
     "status": "completed"
    },
    "tags": []
   },
   "outputs": [],
   "source": [
    "# len(augmented_images)"
   ]
  },
  {
   "cell_type": "code",
   "execution_count": 14,
   "id": "07c809d4",
   "metadata": {
    "execution": {
     "iopub.execute_input": "2024-04-17T14:59:00.847936Z",
     "iopub.status.busy": "2024-04-17T14:59:00.847646Z",
     "iopub.status.idle": "2024-04-17T14:59:00.851318Z",
     "shell.execute_reply": "2024-04-17T14:59:00.850535Z"
    },
    "id": "0052f02c",
    "papermill": {
     "duration": 0.022221,
     "end_time": "2024-04-17T14:59:00.853129",
     "exception": false,
     "start_time": "2024-04-17T14:59:00.830908",
     "status": "completed"
    },
    "tags": []
   },
   "outputs": [],
   "source": [
    "# output_directory = \"/kaggle/working/train\"\n",
    "\n",
    "# os.makedirs(output_directory, exist_ok=True)\n",
    "\n",
    "# for i, image in enumerate(augmented_images):\n",
    "#     output_path = os.path.join(output_directory, f\"mildDem{i+718}.npy\")\n",
    "#     np.save(output_path, image)\n",
    "\n",
    "\n",
    "# print(\"Augmented images saved successfully.\")"
   ]
  },
  {
   "cell_type": "code",
   "execution_count": 15,
   "id": "55dc7fbf",
   "metadata": {
    "execution": {
     "iopub.execute_input": "2024-04-17T14:59:00.887463Z",
     "iopub.status.busy": "2024-04-17T14:59:00.887194Z",
     "iopub.status.idle": "2024-04-17T14:59:00.890796Z",
     "shell.execute_reply": "2024-04-17T14:59:00.889941Z"
    },
    "id": "23ddd520",
    "outputId": "5166c6b8-c5df-4c8e-ddd3-e070143369aa",
    "papermill": {
     "duration": 0.023357,
     "end_time": "2024-04-17T14:59:00.892693",
     "exception": false,
     "start_time": "2024-04-17T14:59:00.869336",
     "status": "completed"
    },
    "tags": []
   },
   "outputs": [],
   "source": [
    "# import os\n",
    "# import numpy as np\n",
    "# directory = '/kaggle/working/train'\n",
    "\n",
    "# files = [file for file in os.listdir(directory) if file.endswith('.npy')]\n",
    "# len(files)"
   ]
  },
  {
   "cell_type": "code",
   "execution_count": 16,
   "id": "ed99e01f",
   "metadata": {
    "execution": {
     "iopub.execute_input": "2024-04-17T14:59:00.927609Z",
     "iopub.status.busy": "2024-04-17T14:59:00.927100Z",
     "iopub.status.idle": "2024-04-17T14:59:00.930648Z",
     "shell.execute_reply": "2024-04-17T14:59:00.929873Z"
    },
    "id": "a16db2fd",
    "outputId": "d87f5b28-535f-45c7-850a-9c6f6eed4db4",
    "papermill": {
     "duration": 0.022804,
     "end_time": "2024-04-17T14:59:00.932542",
     "exception": false,
     "start_time": "2024-04-17T14:59:00.909738",
     "status": "completed"
    },
    "tags": []
   },
   "outputs": [],
   "source": [
    "# mildDem = [i for i in files if i.startswith(\"mildDem\")]\n",
    "# moderateDem = [i for i in files if \"moderateDem\" in i]\n",
    "# nonDem = [i for i in files if \"nonDem\" in i]\n",
    "# veryMild = [i for i in files if \"verymildDem\" in i]\n",
    "# print(len(mildDem), len(moderateDem), len(nonDem), len(veryMild))"
   ]
  },
  {
   "cell_type": "code",
   "execution_count": 17,
   "id": "d64ea197",
   "metadata": {
    "execution": {
     "iopub.execute_input": "2024-04-17T14:59:00.966828Z",
     "iopub.status.busy": "2024-04-17T14:59:00.966214Z",
     "iopub.status.idle": "2024-04-17T14:59:00.969912Z",
     "shell.execute_reply": "2024-04-17T14:59:00.969091Z"
    },
    "id": "0c4848ad",
    "outputId": "fb174b0c-11cc-41a5-9c4e-36cafaba641f",
    "papermill": {
     "duration": 0.022265,
     "end_time": "2024-04-17T14:59:00.971785",
     "exception": false,
     "start_time": "2024-04-17T14:59:00.949520",
     "status": "completed"
    },
    "tags": []
   },
   "outputs": [],
   "source": [
    "# import pandas as pd\n",
    "# l = [[mildDem, 0], [moderateDem, 1], [nonDem, 2], [veryMild, 3]]\n",
    "# x = []\n",
    "# for i in l:\n",
    "#     for j in i[0]:\n",
    "#         path = os.path.join(\"/kaggle/working/train\", j)\n",
    "#         x.append([i[1], path])\n",
    "\n",
    "# df = pd.DataFrame(x, columns=[\"Class\", \"Path\"])\n",
    "# x = df[\"Class\"].value_counts()\n",
    "# x"
   ]
  },
  {
   "cell_type": "code",
   "execution_count": 18,
   "id": "f98b03f0",
   "metadata": {
    "execution": {
     "iopub.execute_input": "2024-04-17T14:59:01.048415Z",
     "iopub.status.busy": "2024-04-17T14:59:01.047805Z",
     "iopub.status.idle": "2024-04-17T14:59:01.051679Z",
     "shell.execute_reply": "2024-04-17T14:59:01.050831Z"
    },
    "id": "a0d2912b",
    "papermill": {
     "duration": 0.064826,
     "end_time": "2024-04-17T14:59:01.053751",
     "exception": false,
     "start_time": "2024-04-17T14:59:00.988925",
     "status": "completed"
    },
    "tags": []
   },
   "outputs": [],
   "source": [
    "# images = []\n",
    "# for i in df[\"Path\"]:\n",
    "#     images.append(np.load(i))\n",
    "# images = np.array(images)"
   ]
  },
  {
   "cell_type": "code",
   "execution_count": 19,
   "id": "0c816ebd",
   "metadata": {
    "execution": {
     "iopub.execute_input": "2024-04-17T14:59:01.088420Z",
     "iopub.status.busy": "2024-04-17T14:59:01.088154Z",
     "iopub.status.idle": "2024-04-17T14:59:01.091739Z",
     "shell.execute_reply": "2024-04-17T14:59:01.090955Z"
    },
    "id": "YXHLFv4QEPM_",
    "papermill": {
     "duration": 0.023001,
     "end_time": "2024-04-17T14:59:01.093703",
     "exception": false,
     "start_time": "2024-04-17T14:59:01.070702",
     "status": "completed"
    },
    "tags": []
   },
   "outputs": [],
   "source": [
    "# from imblearn.over_sampling import SMOTE\n",
    "\n",
    "# sm = SMOTE(random_state=42)\n",
    "# flattened_images = [image.flatten() for image in images]\n",
    "# image_shape = images[0].shape\n",
    "# X_res, y_res = sm.fit_resample(flattened_images, np.array(df[\"Class\"]))  # `labels` should be your list of class labels\n"
   ]
  },
  {
   "cell_type": "code",
   "execution_count": 20,
   "id": "724d5a28",
   "metadata": {
    "execution": {
     "iopub.execute_input": "2024-04-17T14:59:01.126343Z",
     "iopub.status.busy": "2024-04-17T14:59:01.126106Z",
     "iopub.status.idle": "2024-04-17T14:59:01.129576Z",
     "shell.execute_reply": "2024-04-17T14:59:01.128779Z"
    },
    "id": "0hj8resmFvZW",
    "papermill": {
     "duration": 0.022137,
     "end_time": "2024-04-17T14:59:01.131598",
     "exception": false,
     "start_time": "2024-04-17T14:59:01.109461",
     "status": "completed"
    },
    "tags": []
   },
   "outputs": [],
   "source": [
    "# res_images = [np.array(x).reshape(image_shape) for x in X_res]"
   ]
  },
  {
   "cell_type": "code",
   "execution_count": 21,
   "id": "1e62cf34",
   "metadata": {
    "execution": {
     "iopub.execute_input": "2024-04-17T14:59:01.164725Z",
     "iopub.status.busy": "2024-04-17T14:59:01.164465Z",
     "iopub.status.idle": "2024-04-17T14:59:01.167838Z",
     "shell.execute_reply": "2024-04-17T14:59:01.167027Z"
    },
    "papermill": {
     "duration": 0.021855,
     "end_time": "2024-04-17T14:59:01.169637",
     "exception": false,
     "start_time": "2024-04-17T14:59:01.147782",
     "status": "completed"
    },
    "tags": []
   },
   "outputs": [],
   "source": [
    "# !rm -rf /kaggle/working/train"
   ]
  },
  {
   "cell_type": "code",
   "execution_count": 22,
   "id": "9b9b2fa5",
   "metadata": {
    "execution": {
     "iopub.execute_input": "2024-04-17T14:59:01.202760Z",
     "iopub.status.busy": "2024-04-17T14:59:01.202234Z",
     "iopub.status.idle": "2024-04-17T14:59:01.206018Z",
     "shell.execute_reply": "2024-04-17T14:59:01.205176Z"
    },
    "papermill": {
     "duration": 0.022239,
     "end_time": "2024-04-17T14:59:01.207848",
     "exception": false,
     "start_time": "2024-04-17T14:59:01.185609",
     "status": "completed"
    },
    "tags": []
   },
   "outputs": [],
   "source": [
    "# import os\n",
    "\n",
    "# names = {0:\"milDem\", 1:\"moderateDim\", 2:\"nonDem\", 3:\"veryMildDem\"}\n",
    "\n",
    "# # Create the directory if it doesn't exist\n",
    "# os.makedirs(\"/kaggle/working/train/\", exist_ok=True)\n",
    "\n",
    "# for i in range(len(y_res)):\n",
    "#     np.save(f\"/kaggle/working/train/{names[y_res[i]]}{i}.npy\", res_images[i])"
   ]
  },
  {
   "cell_type": "code",
   "execution_count": 23,
   "id": "039c4b79",
   "metadata": {
    "execution": {
     "iopub.execute_input": "2024-04-17T14:59:01.241022Z",
     "iopub.status.busy": "2024-04-17T14:59:01.240349Z",
     "iopub.status.idle": "2024-04-17T14:59:01.244148Z",
     "shell.execute_reply": "2024-04-17T14:59:01.243352Z"
    },
    "id": "u7gI65mjEu7w",
    "papermill": {
     "duration": 0.022228,
     "end_time": "2024-04-17T14:59:01.246078",
     "exception": false,
     "start_time": "2024-04-17T14:59:01.223850",
     "status": "completed"
    },
    "tags": []
   },
   "outputs": [],
   "source": [
    "# import pandas as pd\n",
    "# labels = pd.DataFrame(y_res)\n",
    "# labels.value_counts()"
   ]
  },
  {
   "cell_type": "code",
   "execution_count": 24,
   "id": "fd202aeb",
   "metadata": {
    "execution": {
     "iopub.execute_input": "2024-04-17T14:59:01.279488Z",
     "iopub.status.busy": "2024-04-17T14:59:01.278817Z",
     "iopub.status.idle": "2024-04-17T14:59:01.282494Z",
     "shell.execute_reply": "2024-04-17T14:59:01.281831Z"
    },
    "papermill": {
     "duration": 0.022321,
     "end_time": "2024-04-17T14:59:01.284238",
     "exception": false,
     "start_time": "2024-04-17T14:59:01.261917",
     "status": "completed"
    },
    "tags": []
   },
   "outputs": [],
   "source": [
    "# images = np.array(res_images)"
   ]
  },
  {
   "cell_type": "code",
   "execution_count": 25,
   "id": "969fe993",
   "metadata": {
    "execution": {
     "iopub.execute_input": "2024-04-17T14:59:01.316866Z",
     "iopub.status.busy": "2024-04-17T14:59:01.316388Z",
     "iopub.status.idle": "2024-04-17T14:59:01.661929Z",
     "shell.execute_reply": "2024-04-17T14:59:01.661057Z"
    },
    "papermill": {
     "duration": 0.363926,
     "end_time": "2024-04-17T14:59:01.663915",
     "exception": false,
     "start_time": "2024-04-17T14:59:01.299989",
     "status": "completed"
    },
    "tags": []
   },
   "outputs": [
    {
     "data": {
      "text/plain": [
       "10240"
      ]
     },
     "execution_count": 25,
     "metadata": {},
     "output_type": "execute_result"
    }
   ],
   "source": [
    "import os\n",
    "import numpy as np\n",
    "directory = '/kaggle/input/betterest-preproc/train'\n",
    "\n",
    "files = [file for file in os.listdir(directory) if file.endswith('.npy')]\n",
    "len(files)"
   ]
  },
  {
   "cell_type": "code",
   "execution_count": 26,
   "id": "e83ccb67",
   "metadata": {
    "execution": {
     "iopub.execute_input": "2024-04-17T14:59:01.699207Z",
     "iopub.status.busy": "2024-04-17T14:59:01.698919Z",
     "iopub.status.idle": "2024-04-17T14:59:01.725460Z",
     "shell.execute_reply": "2024-04-17T14:59:01.724681Z"
    },
    "papermill": {
     "duration": 0.047105,
     "end_time": "2024-04-17T14:59:01.728024",
     "exception": false,
     "start_time": "2024-04-17T14:59:01.680919",
     "status": "completed"
    },
    "tags": []
   },
   "outputs": [
    {
     "data": {
      "text/plain": [
       "{'moderateDim7863.npy',\n",
       " 'moderateDim7223.npy',\n",
       " 'moderateDim7543.npy',\n",
       " 'moderateDim8747.npy',\n",
       " 'moderateDim9169.npy',\n",
       " 'moderateDim7074.npy',\n",
       " 'moderateDim7835.npy',\n",
       " 'moderateDim9429.npy',\n",
       " 'moderateDim9106.npy',\n",
       " 'moderateDim7927.npy',\n",
       " 'moderateDim9110.npy',\n",
       " 'moderateDim7197.npy',\n",
       " 'moderateDim7082.npy',\n",
       " 'moderateDim8479.npy',\n",
       " 'moderateDim8513.npy',\n",
       " 'moderateDim7073.npy',\n",
       " 'moderateDim7393.npy',\n",
       " 'moderateDim9151.npy',\n",
       " 'moderateDim9134.npy',\n",
       " 'moderateDim7163.npy',\n",
       " 'moderateDim9109.npy',\n",
       " 'moderateDim8664.npy',\n",
       " 'moderateDim7828.npy',\n",
       " 'moderateDim8571.npy',\n",
       " 'moderateDim8840.npy',\n",
       " 'moderateDim9004.npy',\n",
       " 'moderateDim750.npy',\n",
       " 'moderateDim7379.npy',\n",
       " 'moderateDim9136.npy',\n",
       " 'moderateDim7658.npy',\n",
       " 'moderateDim9031.npy',\n",
       " 'moderateDim8861.npy',\n",
       " 'moderateDim7295.npy',\n",
       " 'moderateDim8340.npy',\n",
       " 'moderateDim8310.npy',\n",
       " 'moderateDim9120.npy',\n",
       " 'moderateDim9446.npy',\n",
       " 'moderateDim7952.npy',\n",
       " 'moderateDim8154.npy',\n",
       " 'moderateDim8411.npy',\n",
       " 'moderateDim9349.npy',\n",
       " 'moderateDim8083.npy',\n",
       " 'moderateDim8913.npy',\n",
       " 'moderateDim9142.npy',\n",
       " 'moderateDim7552.npy',\n",
       " 'moderateDim8848.npy',\n",
       " 'moderateDim8031.npy',\n",
       " 'moderateDim8163.npy',\n",
       " 'moderateDim733.npy',\n",
       " 'moderateDim7618.npy',\n",
       " 'moderateDim9313.npy',\n",
       " 'moderateDim9036.npy',\n",
       " 'moderateDim8976.npy',\n",
       " 'moderateDim7487.npy',\n",
       " 'moderateDim7901.npy',\n",
       " 'moderateDim8430.npy',\n",
       " 'moderateDim8019.npy',\n",
       " 'moderateDim7687.npy',\n",
       " 'moderateDim9007.npy',\n",
       " 'moderateDim9100.npy',\n",
       " 'moderateDim7504.npy',\n",
       " 'moderateDim7548.npy',\n",
       " 'moderateDim8265.npy',\n",
       " 'moderateDim8629.npy',\n",
       " 'moderateDim7365.npy',\n",
       " 'moderateDim7304.npy',\n",
       " 'moderateDim9198.npy',\n",
       " 'moderateDim7719.npy',\n",
       " 'moderateDim7671.npy',\n",
       " 'moderateDim7140.npy',\n",
       " 'moderateDim9128.npy',\n",
       " 'moderateDim8096.npy',\n",
       " 'moderateDim8836.npy',\n",
       " 'moderateDim8441.npy',\n",
       " 'moderateDim8763.npy',\n",
       " 'moderateDim7030.npy',\n",
       " 'moderateDim7105.npy',\n",
       " 'moderateDim7625.npy',\n",
       " 'moderateDim9121.npy',\n",
       " 'moderateDim9433.npy',\n",
       " 'moderateDim7168.npy',\n",
       " 'moderateDim7110.npy',\n",
       " 'moderateDim8945.npy',\n",
       " 'moderateDim7230.npy',\n",
       " 'moderateDim8112.npy',\n",
       " 'moderateDim8494.npy',\n",
       " 'moderateDim7095.npy',\n",
       " 'moderateDim8385.npy',\n",
       " 'moderateDim8065.npy',\n",
       " 'moderateDim9218.npy',\n",
       " 'moderateDim6999.npy',\n",
       " 'moderateDim8187.npy',\n",
       " 'moderateDim8284.npy',\n",
       " 'moderateDim8210.npy',\n",
       " 'moderateDim8478.npy',\n",
       " 'moderateDim8140.npy',\n",
       " 'moderateDim7361.npy',\n",
       " 'moderateDim6985.npy',\n",
       " 'mil',\n",
       " 'moderateDim8440.npy',\n",
       " 'moderateDim8136.npy',\n",
       " 'moderateDim7734.npy',\n",
       " 'moderateDim7918.npy',\n",
       " 'moderateDim8702.npy',\n",
       " 'moderateDim8519.npy',\n",
       " 'moderateDim7715.npy',\n",
       " 'moderateDim8084.npy',\n",
       " 'moderateDim7736.npy',\n",
       " 'moderateDim7976.npy',\n",
       " 'moderateDim9275.npy',\n",
       " 'moderateDim7247.npy',\n",
       " 'moderateDim8768.npy',\n",
       " 'moderateDim7855.npy',\n",
       " 'moderateDim7786.npy',\n",
       " 'moderateDim9331.npy',\n",
       " 'moderateDim7664.npy',\n",
       " 'moderateDim7128.npy',\n",
       " 'moderateDim7482.npy',\n",
       " 'moderateDim7227.npy',\n",
       " 'moderateDim7012.npy',\n",
       " 'moderateDim8686.npy',\n",
       " 'moderateDim7478.npy',\n",
       " 'moderateDim8071.npy',\n",
       " 'moderateDim9345.npy',\n",
       " 'moderateDim8999.npy',\n",
       " 'moderateDim9148.npy',\n",
       " 'moderateDim8475.npy',\n",
       " 'moderateDim8044.npy',\n",
       " 'moderateDim8755.npy',\n",
       " 'moderateDim8076.npy',\n",
       " 'moderateDim8171.npy',\n",
       " 'moderateDim7883.npy',\n",
       " 'moderateDim8816.npy',\n",
       " 'moderateDim7652.npy',\n",
       " 'moderateDim8769.npy',\n",
       " 'moderateDim8599.npy',\n",
       " 'moderateDim735.npy',\n",
       " 'moderateDim7325.npy',\n",
       " 'moderateDim7586.npy',\n",
       " 'moderateDim8404.npy',\n",
       " 'moderateDim7464.npy',\n",
       " 'moderateDim7322.npy',\n",
       " 'moderateDim7711.npy',\n",
       " 'moderateDim8735.npy',\n",
       " 'moderateDim8890.npy',\n",
       " 'moderateDim8792.npy',\n",
       " 'moderateDim8593.npy',\n",
       " 'moderateDim8706.npy',\n",
       " 'moderateDim9452.npy',\n",
       " 'moderateDim8262.npy',\n",
       " 'moderateDim9141.npy',\n",
       " 'moderateDim8469.npy',\n",
       " 'moderateDim8918.npy',\n",
       " 'moderateDim7185.npy',\n",
       " 'moderateDim7320.npy',\n",
       " 'moderateDim7646.npy',\n",
       " 'moderateDim7906.npy',\n",
       " 'moderateDim7477.npy',\n",
       " 'moderateDim7323.npy',\n",
       " 'moderateDim7704.npy',\n",
       " 'moderateDim9236.npy',\n",
       " 'moderateDim8484.npy',\n",
       " 'moderateDim7873.npy',\n",
       " 'moderateDim7564.npy',\n",
       " 'moderateDim9104.npy',\n",
       " 'moderateDim8578.npy',\n",
       " 'moderateDim7511.npy',\n",
       " 'moderateDim7517.npy',\n",
       " 'moderateDim7637.npy',\n",
       " 'moderateDim7772.npy',\n",
       " 'moderateDim8893.npy',\n",
       " 'moderateDim7964.npy',\n",
       " 'moderateDim9020.npy',\n",
       " 'moderateDim8907.npy',\n",
       " 'moderateDim7648.npy',\n",
       " 'moderateDim9017.npy',\n",
       " 'moderateDim8535.npy',\n",
       " 'moderateDim7172.npy',\n",
       " 'moderateDim8883.npy',\n",
       " 'moderateDim7466.npy',\n",
       " 'moderateDim7338.npy',\n",
       " 'moderateDim6990.npy',\n",
       " 'moderateDim7670.npy',\n",
       " 'moderateDim9242.npy',\n",
       " 'moderateDim9010.npy',\n",
       " 'moderateDim9102.npy',\n",
       " 'moderateDim8402.npy',\n",
       " 'moderateDim7199.npy',\n",
       " 'moderateDim8189.npy',\n",
       " 'moderateDim9418.npy',\n",
       " 'moderateDim7899.npy',\n",
       " 'moderateDim8486.npy',\n",
       " 'moderateDim7395.npy',\n",
       " 'moderateDim8785.npy',\n",
       " 'moderateDim6977.npy',\n",
       " 'moderateDim8407.npy',\n",
       " 'moderateDim8365.npy',\n",
       " 'moderateDim7224.npy',\n",
       " 'moderateDim9265.npy',\n",
       " 'moderateDim8320.npy',\n",
       " 'moderateDim8089.npy',\n",
       " 'moderateDim7965.npy',\n",
       " 'moderateDim8212.npy',\n",
       " 'moderateDim7327.npy',\n",
       " 'moderateDim8032.npy',\n",
       " 'moderateDim7096.npy',\n",
       " 'moderateDim7601.npy',\n",
       " 'moderateDim8806.npy',\n",
       " 'moderateDim9213.npy',\n",
       " 'moderateDim7278.npy',\n",
       " 'moderateDim7971.npy',\n",
       " 'moderateDim7521.npy',\n",
       " 'moderateDim8858.npy',\n",
       " 'moderateDim8200.npy',\n",
       " 'moderateDim8953.npy',\n",
       " 'moderateDim8500.npy',\n",
       " 'moderateDim7366.npy',\n",
       " 'moderateDim7639.npy',\n",
       " 'moderateDim7973.npy',\n",
       " 'moderateDim8090.npy',\n",
       " 'moderateDim6988.npy',\n",
       " 'moderateDim8905.npy',\n",
       " 'moderateDim9164.npy',\n",
       " 'moderateDim8318.npy',\n",
       " 'moderateDim7196.npy',\n",
       " 'moderateDim9047.npy',\n",
       " 'moderateDim8245.npy',\n",
       " 'moderateDim8587.npy',\n",
       " 'moderateDim8403.npy',\n",
       " 'moderateDim7495.npy',\n",
       " 'moderateDim9123.npy',\n",
       " 'moderateDim8790.npy',\n",
       " 'moderateDim8226.npy',\n",
       " 'moderateDim9400.npy',\n",
       " 'moderateDim8185.npy',\n",
       " 'moderateDim9191.npy',\n",
       " 'moderateDim7852.npy',\n",
       " 'moderateDim8026.npy',\n",
       " 'moderateDim7192.npy',\n",
       " 'moderateDim7914.npy',\n",
       " 'moderateDim7424.npy',\n",
       " 'moderateDim7947.npy',\n",
       " 'moderateDim7923.npy',\n",
       " 'moderateDim7696.npy',\n",
       " 'moderateDim9394.npy',\n",
       " 'moderateDim8057.npy',\n",
       " 'moderateDim7674.npy',\n",
       " 'moderateDim8238.npy',\n",
       " 'moderateDim8803.npy',\n",
       " 'moderateDim7343.npy',\n",
       " 'moderateDim7416.npy',\n",
       " 'moderateDim8969.npy',\n",
       " 'moderateDim7070.npy',\n",
       " 'moderateDim7160.npy',\n",
       " 'moderateDim8928.npy',\n",
       " 'moderateDim7522.npy',\n",
       " 'moderateDim7474.npy',\n",
       " 'moderateDim8351.npy',\n",
       " 'moderateDim9432.npy',\n",
       " 'moderateDim7825.npy',\n",
       " 'moderateDim7167.npy',\n",
       " 'moderateDim7331.npy',\n",
       " 'moderateDim7079.npy',\n",
       " 'moderateDim9307.npy',\n",
       " 'moderateDim7936.npy',\n",
       " 'moderateDim7766.npy',\n",
       " 'moderateDim7442.npy',\n",
       " 'moderateDim7408.npy',\n",
       " 'moderateDim8483.npy',\n",
       " 'moderateDim8172.npy',\n",
       " 'moderateDim8214.npy',\n",
       " 'moderateDim8533.npy',\n",
       " 'moderateDim7214.npy',\n",
       " 'moderateDim8415.npy',\n",
       " 'moderateDim7992.npy',\n",
       " 'moderateDim8427.npy',\n",
       " 'moderateDim7388.npy',\n",
       " 'moderateDim8674.npy',\n",
       " 'moderateDim9419.npy',\n",
       " 'moderateDim7837.npy',\n",
       " 'moderateDim8789.npy',\n",
       " 'moderateDim8819.npy',\n",
       " 'moderateDim9422.npy',\n",
       " 'moderateDim7690.npy',\n",
       " 'moderateDim8181.npy',\n",
       " 'moderateDim8308.npy',\n",
       " 'moderateDim7347.npy',\n",
       " 'moderateDim7532.npy',\n",
       " 'moderateDim7175.npy',\n",
       " 'moderateDim8067.npy',\n",
       " 'moderateDim7629.npy',\n",
       " 'moderateDim7744.npy',\n",
       " 'moderateDim9026.npy',\n",
       " 'moderateDim8458.npy',\n",
       " 'moderateDim9118.npy',\n",
       " 'moderateDim7662.npy',\n",
       " 'moderateDim8293.npy',\n",
       " 'moderateDim8141.npy',\n",
       " 'moderateDim8712.npy',\n",
       " 'moderateDim7213.npy',\n",
       " 'moderateDim9295.npy',\n",
       " 'moderateDim8552.npy',\n",
       " 'moderateDim7579.npy',\n",
       " 'moderateDim8452.npy',\n",
       " 'moderateDim7879.npy',\n",
       " 'moderateDim9145.npy',\n",
       " 'moderateDim9368.npy',\n",
       " 'moderateDim8538.npy',\n",
       " 'moderateDim7501.npy',\n",
       " 'moderateDim9085.npy',\n",
       " 'moderateDim7512.npy',\n",
       " 'moderateDim8845.npy',\n",
       " 'moderateDim7714.npy',\n",
       " 'moderateDim9222.npy',\n",
       " 'moderateDim9302.npy',\n",
       " 'moderateDim8649.npy',\n",
       " 'moderateDim7725.npy',\n",
       " 'moderateDim8059.npy',\n",
       " 'moderateDim7647.npy',\n",
       " 'moderateDim8230.npy',\n",
       " 'moderateDim717.npy',\n",
       " 'moderateDim9053.npy',\n",
       " 'moderateDim7663.npy',\n",
       " 'moderateDim8719.npy',\n",
       " 'moderateDim9006.npy',\n",
       " 'moderateDim7654.npy',\n",
       " 'moderateDim8391.npy',\n",
       " 'moderateDim8775.npy',\n",
       " 'moderateDim7357.npy',\n",
       " 'moderateDim7280.npy',\n",
       " 'moderateDim8451.npy',\n",
       " 'moderateDim8849.npy',\n",
       " 'moderateDim7610.npy',\n",
       " 'moderateDim9199.npy',\n",
       " 'moderateDim8718.npy',\n",
       " 'moderateDim9179.npy',\n",
       " 'moderateDim8508.npy',\n",
       " 'moderateDim7145.npy',\n",
       " 'moderateDim7256.npy',\n",
       " 'moderateDim740.npy',\n",
       " 'moderateDim9280.npy',\n",
       " 'moderateDim9124.npy',\n",
       " 'moderateDim7705.npy',\n",
       " 'moderateDim7300.npy',\n",
       " 'moderateDim7916.npy',\n",
       " 'moderateDim8795.npy',\n",
       " 'moderateDim9259.npy',\n",
       " 'moderateDim8014.npy',\n",
       " 'moderateDim8855.npy',\n",
       " 'moderateDim8095.npy',\n",
       " 'moderateDim9308.npy',\n",
       " 'moderateDim8117.npy',\n",
       " 'moderateDim8694.npy',\n",
       " 'moderateDim9239.npy',\n",
       " 'moderateDim7147.npy',\n",
       " 'moderateDim9246.npy',\n",
       " 'moderateDim9028.npy',\n",
       " 'moderateDim763.npy',\n",
       " 'moderateDim8457.npy',\n",
       " 'moderateDim9352.npy',\n",
       " 'moderateDim7554.npy',\n",
       " 'moderateDim8959.npy',\n",
       " 'moderateDim7649.npy',\n",
       " 'moderateDim8585.npy',\n",
       " 'moderateDim8541.npy',\n",
       " 'moderateDim7469.npy',\n",
       " 'moderateDim8233.npy',\n",
       " 'moderateDim9071.npy',\n",
       " 'moderateDim7151.npy',\n",
       " 'moderateDim7262.npy',\n",
       " 'moderateDim6983.npy',\n",
       " 'moderateDim8891.npy',\n",
       " 'moderateDim8236.npy',\n",
       " 'moderateDim9465.npy',\n",
       " 'moderateDim9284.npy',\n",
       " 'moderateDim7665.npy',\n",
       " 'moderateDim7945.npy',\n",
       " 'moderateDim7402.npy',\n",
       " 'moderateDim8621.npy',\n",
       " 'moderateDim8549.npy',\n",
       " 'moderateDim8495.npy',\n",
       " 'moderateDim8194.npy',\n",
       " 'moderateDim7270.npy',\n",
       " 'moderateDim7519.npy',\n",
       " 'moderateDim8227.npy',\n",
       " 'moderateDim8930.npy',\n",
       " 'moderateDim8135.npy',\n",
       " 'moderateDim7356.npy',\n",
       " 'moderateDim7115.npy',\n",
       " 'moderateDim8743.npy',\n",
       " 'moderateDim9336.npy',\n",
       " 'moderateDim9392.npy',\n",
       " 'moderateDim8726.npy',\n",
       " 'moderateDim7994.npy',\n",
       " 'moderateDim7299.npy',\n",
       " 'moderateDim7339.npy',\n",
       " 'moderateDim8111.npy',\n",
       " 'moderateDim7570.npy',\n",
       " 'moderateDim8993.npy',\n",
       " 'moderateDim8714.npy',\n",
       " 'moderateDim9087.npy',\n",
       " 'moderateDim8592.npy',\n",
       " 'moderateDim7660.npy',\n",
       " 'moderateDim9376.npy',\n",
       " 'moderateDim7090.npy',\n",
       " 'moderateDim9281.npy',\n",
       " 'moderateDim7198.npy',\n",
       " 'moderateDim7178.npy',\n",
       " 'moderateDim7755.npy',\n",
       " 'moderateDim7880.npy',\n",
       " 'moderateDim8114.npy',\n",
       " 'moderateDim9340.npy',\n",
       " 'moderateDim7959.npy',\n",
       " 'moderateDim9456.npy',\n",
       " 'moderateDim8800.npy',\n",
       " 'moderateDim8794.npy',\n",
       " 'moderateDim8608.npy',\n",
       " 'moderateDim7158.npy',\n",
       " 'moderateDim7920.npy',\n",
       " 'moderateDim7572.npy',\n",
       " 'moderateDim7681.npy',\n",
       " 'moderateDim8974.npy',\n",
       " 'moderateDim9117.npy',\n",
       " 'moderateDim8426.npy',\n",
       " 'moderateDim9366.npy',\n",
       " 'moderateDim6992.npy',\n",
       " 'moderateDim759.npy',\n",
       " 'moderateDim9183.npy',\n",
       " 'moderateDim8277.npy',\n",
       " 'moderateDim736.npy',\n",
       " 'moderateDim8859.npy',\n",
       " 'moderateDim7370.npy',\n",
       " 'moderateDim7626.npy',\n",
       " 'moderateDim8877.npy',\n",
       " 'moderateDim8777.npy',\n",
       " 'moderateDim7514.npy',\n",
       " 'moderateDim9322.npy',\n",
       " 'moderateDim8444.npy',\n",
       " 'moderateDim8325.npy',\n",
       " 'moderateDim9396.npy',\n",
       " 'moderateDim8776.npy',\n",
       " 'moderateDim7494.npy',\n",
       " 'moderateDim7371.npy',\n",
       " 'moderateDim7574.npy',\n",
       " 'moderateDim9068.npy',\n",
       " 'moderateDim7232.npy',\n",
       " 'moderateDim8760.npy',\n",
       " 'moderateDim7595.npy',\n",
       " 'moderateDim7684.npy',\n",
       " 'moderateDim7055.npy',\n",
       " 'moderateDim7983.npy',\n",
       " 'moderateDim7148.npy',\n",
       " 'moderateDim9060.npy',\n",
       " 'moderateDim7864.npy',\n",
       " 'moderateDim8675.npy',\n",
       " 'moderateDim7418.npy',\n",
       " 'moderateDim9298.npy',\n",
       " 'moderateDim8671.npy',\n",
       " 'moderateDim8919.npy',\n",
       " 'moderateDim8480.npy',\n",
       " 'moderateDim7491.npy',\n",
       " 'moderateDim7266.npy',\n",
       " 'moderateDim7159.npy',\n",
       " 'moderateDim7155.npy',\n",
       " 'moderateDim745.npy',\n",
       " 'moderateDim8996.npy',\n",
       " 'moderateDim8521.npy',\n",
       " 'moderateDim9214.npy',\n",
       " 'moderateDim7810.npy',\n",
       " 'moderateDim8028.npy',\n",
       " 'moderateDim8540.npy',\n",
       " 'moderateDim9081.npy',\n",
       " 'moderateDim8045.npy',\n",
       " 'moderateDim9431.npy',\n",
       " 'moderateDim7269.npy',\n",
       " 'moderateDim7242.npy',\n",
       " 'moderateDim8378.npy',\n",
       " 'moderateDim8931.npy',\n",
       " 'moderateDim8220.npy',\n",
       " 'moderateDim8958.npy',\n",
       " 'moderateDim7004.npy',\n",
       " 'moderateDim7089.npy',\n",
       " 'moderateDim7738.npy',\n",
       " 'moderateDim9356.npy',\n",
       " 'moderateDim9401.npy',\n",
       " 'moderateDim9321.npy',\n",
       " 'moderateDim8297.npy',\n",
       " 'moderateDim7023.npy',\n",
       " 'moderateDim9186.npy',\n",
       " 'moderateDim9014.npy',\n",
       " 'moderateDim9108.npy',\n",
       " 'moderateDim7792.npy',\n",
       " 'moderateDim7624.npy',\n",
       " 'moderateDim9347.npy',\n",
       " 'moderateDim9457.npy',\n",
       " 'moderateDim9276.npy',\n",
       " 'moderateDim8532.npy',\n",
       " 'moderateDim746.npy',\n",
       " 'moderateDim8506.npy',\n",
       " 'moderateDim8333.npy',\n",
       " 'moderateDim9315.npy',\n",
       " 'moderateDim7593.npy',\n",
       " 'moderateDim8961.npy',\n",
       " 'moderateDim8317.npy',\n",
       " 'moderateDim7297.npy',\n",
       " 'moderateDim8558.npy',\n",
       " 'moderateDim8218.npy',\n",
       " 'moderateDim742.npy',\n",
       " 'moderateDim7584.npy',\n",
       " 'moderateDim9219.npy',\n",
       " 'moderateDim9434.npy',\n",
       " 'moderateDim8921.npy',\n",
       " 'moderateDim7220.npy',\n",
       " 'moderateDim8625.npy',\n",
       " 'moderateDim8309.npy',\n",
       " 'moderateDim7672.npy',\n",
       " 'moderateDim7596.npy',\n",
       " 'moderateDim8151.npy',\n",
       " 'moderateDim8206.npy',\n",
       " 'moderateDim7272.npy',\n",
       " 'moderateDim7571.npy',\n",
       " 'moderateDim9083.npy',\n",
       " 'moderateDim7149.npy',\n",
       " 'moderateDim8738.npy',\n",
       " 'moderateDim8241.npy',\n",
       " 'moderateDim7321.npy',\n",
       " 'moderateDim8183.npy',\n",
       " 'moderateDim8251.npy',\n",
       " 'moderateDim7274.npy',\n",
       " 'moderateDim7273.npy',\n",
       " 'moderateDim7795.npy',\n",
       " 'moderateDim7905.npy',\n",
       " 'moderateDim7881.npy',\n",
       " 'moderateDim9326.npy',\n",
       " 'moderateDim8757.npy',\n",
       " 'moderateDim7385.npy',\n",
       " 'moderateDim9408.npy',\n",
       " 'moderateDim8551.npy',\n",
       " 'moderateDim7903.npy',\n",
       " 'moderateDim7071.npy',\n",
       " 'moderateDim8123.npy',\n",
       " 'moderateDim9234.npy',\n",
       " 'moderateDim6991.npy',\n",
       " 'moderateDim7909.npy',\n",
       " 'moderateDim6973.npy',\n",
       " 'moderateDim7254.npy',\n",
       " 'moderateDim7384.npy',\n",
       " 'moderateDim8501.npy',\n",
       " 'moderateDim7943.npy',\n",
       " 'moderateDim8013.npy',\n",
       " 'moderateDim7261.npy',\n",
       " 'moderateDim9055.npy',\n",
       " 'moderateDim7679.npy',\n",
       " 'moderateDim8560.npy',\n",
       " 'moderateDim764.npy',\n",
       " 'moderateDim7401.npy',\n",
       " 'moderateDim8557.npy',\n",
       " 'moderateDim7757.npy',\n",
       " 'moderateDim7008.npy',\n",
       " 'moderateDim8653.npy',\n",
       " 'moderateDim8058.npy',\n",
       " 'moderateDim7844.npy',\n",
       " 'moderateDim7614.npy',\n",
       " 'moderateDim8517.npy',\n",
       " 'moderateDim7763.npy',\n",
       " 'moderateDim8290.npy',\n",
       " 'moderateDim7708.npy',\n",
       " 'moderateDim7833.npy',\n",
       " 'moderateDim8269.npy',\n",
       " 'moderateDim8842.npy',\n",
       " 'moderateDim7732.npy',\n",
       " 'moderateDim7238.npy',\n",
       " 'moderateDim8033.npy',\n",
       " 'moderateDim7342.npy',\n",
       " 'moderateDim7233.npy',\n",
       " 'moderateDim7961.npy',\n",
       " 'moderateDim7773.npy',\n",
       " 'moderateDim9318.npy',\n",
       " 'moderateDim8361.npy',\n",
       " 'moderateDim8884.npy',\n",
       " 'moderateDim7635.npy',\n",
       " 'moderateDim7777.npy',\n",
       " 'moderateDim7445.npy',\n",
       " 'moderateDim8701.npy',\n",
       " 'moderateDim8400.npy',\n",
       " 'moderateDim8902.npy',\n",
       " 'moderateDim9015.npy',\n",
       " 'moderateDim8832.npy',\n",
       " 'moderateDim7967.npy',\n",
       " 'moderateDim8662.npy',\n",
       " 'moderateDim7252.npy',\n",
       " 'moderateDim8472.npy',\n",
       " 'moderateDim9075.npy',\n",
       " 'moderateDim8443.npy',\n",
       " 'moderateDim8373.npy',\n",
       " 'moderateDim9443.npy',\n",
       " 'moderateDim8289.npy',\n",
       " 'moderateDim8722.npy',\n",
       " 'moderateDim729.npy',\n",
       " 'moderateDim7839.npy',\n",
       " 'moderateDim7449.npy',\n",
       " 'moderateDim8164.npy',\n",
       " 'moderateDim7437.npy',\n",
       " 'moderateDim7313.npy',\n",
       " 'moderateDim8658.npy',\n",
       " 'moderateDim7372.npy',\n",
       " 'moderateDim8781.npy',\n",
       " 'moderateDim7682.npy',\n",
       " 'moderateDim7581.npy',\n",
       " 'moderateDim7177.npy',\n",
       " 'moderateDim9296.npy',\n",
       " 'moderateDim7912.npy',\n",
       " 'moderateDim7245.npy',\n",
       " 'moderateDim7673.npy',\n",
       " 'moderateDim8612.npy',\n",
       " 'moderateDim8926.npy',\n",
       " 'moderateDim9210.npy',\n",
       " 'moderateDim737.npy',\n",
       " 'moderateDim7915.npy',\n",
       " 'moderateDim7251.npy',\n",
       " 'moderateDim7968.npy',\n",
       " 'moderateDim9037.npy',\n",
       " 'moderateDim7302.npy',\n",
       " 'moderateDim7217.npy',\n",
       " 'moderateDim8488.npy',\n",
       " 'moderateDim8175.npy',\n",
       " 'moderateDim8510.npy',\n",
       " 'moderateDim8158.npy',\n",
       " 'moderateDim7951.npy',\n",
       " 'moderateDim8737.npy',\n",
       " 'moderateDim7977.npy',\n",
       " 'moderateDim7324.npy',\n",
       " 'moderateDim9370.npy',\n",
       " 'moderateDim7726.npy',\n",
       " 'moderateDim9450.npy',\n",
       " 'moderateDim8542.npy',\n",
       " 'moderateDim8740.npy',\n",
       " 'moderateDim9297.npy',\n",
       " 'moderateDim7921.npy',\n",
       " 'moderateDim8860.npy',\n",
       " 'moderateDim7585.npy',\n",
       " 'moderateDim8562.npy',\n",
       " 'moderateDim9126.npy',\n",
       " 'moderateDim8186.npy',\n",
       " 'moderateDim8438.npy',\n",
       " 'moderateDim8091.npy',\n",
       " 'moderateDim8261.npy',\n",
       " 'moderateDim8758.npy',\n",
       " 'moderateDim7926.npy',\n",
       " 'moderateDim8721.npy',\n",
       " 'moderateDim7677.npy',\n",
       " 'moderateDim9383.npy',\n",
       " 'moderateDim9250.npy',\n",
       " 'moderateDim7076.npy',\n",
       " 'moderateDim7011.npy',\n",
       " 'moderateDim8023.npy',\n",
       " 'moderateDim8868.npy',\n",
       " 'moderateDim7028.npy',\n",
       " 'moderateDim7848.npy',\n",
       " 'moderateDim7932.npy',\n",
       " 'moderateDim9412.npy',\n",
       " 'moderateDim7316.npy',\n",
       " 'moderateDim7091.npy',\n",
       " 'moderateDim8005.npy',\n",
       " 'moderateDim7056.npy',\n",
       " 'moderateDim9449.npy',\n",
       " 'moderateDim9440.npy',\n",
       " 'moderateDim8994.npy',\n",
       " 'moderateDim7298.npy',\n",
       " 'moderateDim8611.npy',\n",
       " 'moderateDim7260.npy',\n",
       " 'moderateDim8354.npy',\n",
       " 'moderateDim7989.npy',\n",
       " 'moderateDim8161.npy',\n",
       " 'moderateDim7226.npy',\n",
       " 'moderateDim7510.npy',\n",
       " 'moderateDim8374.npy',\n",
       " 'moderateDim9339.npy',\n",
       " 'moderateDim7015.npy',\n",
       " 'moderateDim9438.npy',\n",
       " 'moderateDim8315.npy',\n",
       " 'moderateDim8684.npy',\n",
       " 'moderateDim8773.npy',\n",
       " 'moderateDim9216.npy',\n",
       " 'moderateDim7334.npy',\n",
       " 'moderateDim8481.npy',\n",
       " 'moderateDim7025.npy',\n",
       " 'moderateDim7398.npy',\n",
       " 'moderateDim7451.npy',\n",
       " 'moderateDim8784.npy',\n",
       " 'moderateDim7486.npy',\n",
       " 'moderateDim8641.npy',\n",
       " 'moderateDim8213.npy',\n",
       " 'moderateDim7387.npy',\n",
       " 'moderateDim7117.npy',\n",
       " 'moderateDim7534.npy',\n",
       " 'moderateDim8389.npy',\n",
       " 'moderateDim9058.npy',\n",
       " 'moderateDim8622.npy',\n",
       " 'moderateDim7009.npy',\n",
       " 'moderateDim7303.npy',\n",
       " 'moderateDim8607.npy',\n",
       " 'moderateDim7546.npy',\n",
       " 'moderateDim9022.npy',\n",
       " 'moderateDim7721.npy',\n",
       " 'moderateDim7106.npy',\n",
       " 'moderateDim8705.npy',\n",
       " 'moderateDim8986.npy',\n",
       " 'moderateDim8363.npy',\n",
       " 'moderateDim7528.npy',\n",
       " 'moderateDim7051.npy',\n",
       " 'moderateDim7265.npy',\n",
       " 'moderateDim8268.npy',\n",
       " 'moderateDim6971.npy',\n",
       " 'moderateDim8696.npy',\n",
       " 'moderateDim7935.npy',\n",
       " 'moderateDim7887.npy',\n",
       " 'moderateDim7724.npy',\n",
       " 'moderateDim8545.npy',\n",
       " 'moderateDim9254.npy',\n",
       " 'moderateDim8596.npy',\n",
       " 'moderateDim8529.npy',\n",
       " 'moderateDim7211.npy',\n",
       " 'moderateDim8693.npy',\n",
       " 'moderateDim8646.npy',\n",
       " 'moderateDim7404.npy',\n",
       " 'moderateDim9358.npy',\n",
       " 'moderateDim9194.npy',\n",
       " 'moderateDim9462.npy',\n",
       " 'moderateDim7917.npy',\n",
       " 'moderateDim720.npy',\n",
       " 'moderateDim7249.npy',\n",
       " 'moderateDim7991.npy',\n",
       " 'moderateDim8350.npy',\n",
       " 'moderateDim9253.npy',\n",
       " 'moderateDim7896.npy',\n",
       " 'moderateDim8717.npy',\n",
       " 'moderateDim7940.npy',\n",
       " 'moderateDim9311.npy',\n",
       " 'moderateDim7605.npy',\n",
       " 'moderateDim7123.npy',\n",
       " 'moderateDim8751.npy',\n",
       " 'moderateDim7746.npy',\n",
       " 'moderateDim7204.npy',\n",
       " 'moderateDim9146.npy',\n",
       " 'moderateDim8707.npy',\n",
       " 'moderateDim7843.npy',\n",
       " 'moderateDim8827.npy',\n",
       " 'moderateDim8841.npy',\n",
       " 'moderateDim8548.npy',\n",
       " 'moderateDim9290.npy',\n",
       " 'moderateDim8636.npy',\n",
       " 'moderateDim8419.npy',\n",
       " 'moderateDim7086.npy',\n",
       " 'moderateDim8911.npy',\n",
       " 'moderateDim7583.npy',\n",
       " 'moderateDim8673.npy',\n",
       " 'moderateDim8798.npy',\n",
       " 'moderateDim8130.npy',\n",
       " 'moderateDim8987.npy',\n",
       " 'moderateDim7831.npy',\n",
       " 'moderateDim8470.npy',\n",
       " 'moderateDim9466.npy',\n",
       " 'moderateDim8688.npy',\n",
       " 'moderateDim9350.npy',\n",
       " 'moderateDim9398.npy',\n",
       " 'moderateDim9430.npy',\n",
       " 'moderateDim8665.npy',\n",
       " 'moderateDim9229.npy',\n",
       " 'moderateDim8460.npy',\n",
       " 'moderateDim9158.npy',\n",
       " 'moderateDim8229.npy',\n",
       " 'moderateDim7355.npy',\n",
       " 'moderateDim8885.npy',\n",
       " 'moderateDim9078.npy',\n",
       " 'moderateDim7529.npy',\n",
       " 'moderateDim7836.npy',\n",
       " 'moderateDim8678.npy',\n",
       " 'moderateDim9287.npy',\n",
       " 'moderateDim7134.npy',\n",
       " 'moderateDim7782.npy',\n",
       " 'moderateDim7850.npy',\n",
       " 'moderateDim7609.npy',\n",
       " 'moderateDim8040.npy',\n",
       " 'moderateDim734.npy',\n",
       " 'moderateDim9335.npy',\n",
       " 'moderateDim9061.npy',\n",
       " 'moderateDim7676.npy',\n",
       " 'moderateDim8009.npy',\n",
       " 'moderateDim7970.npy',\n",
       " 'moderateDim9144.npy',\n",
       " 'moderateDim7367.npy',\n",
       " 'moderateDim7369.npy',\n",
       " 'moderateDim8422.npy',\n",
       " 'moderateDim7152.npy',\n",
       " 'moderateDim7798.npy',\n",
       " 'moderateDim9064.npy',\n",
       " 'moderateDim9344.npy',\n",
       " 'moderateDim8099.npy',\n",
       " 'moderateDim8520.npy',\n",
       " 'moderateDim9387.npy',\n",
       " 'moderateDim7007.npy',\n",
       " 'moderateDim7080.npy',\n",
       " 'moderateDim9228.npy',\n",
       " 'moderateDim8966.npy',\n",
       " 'moderateDim9049.npy',\n",
       " 'moderateDim7035.npy',\n",
       " 'moderateDim9268.npy',\n",
       " 'moderateDim8603.npy',\n",
       " 'moderateDim7430.npy',\n",
       " 'moderateDim9032.npy',\n",
       " 'moderateDim7854.npy',\n",
       " 'moderateDim8862.npy',\n",
       " 'moderateDim8892.npy',\n",
       " 'moderateDim7993.npy',\n",
       " 'moderateDim7669.npy',\n",
       " 'moderateDim8061.npy',\n",
       " 'moderateDim7557.npy',\n",
       " 'moderateDim7502.npy',\n",
       " 'moderateDim7930.npy',\n",
       " 'moderateDim8349.npy',\n",
       " 'moderateDim8660.npy',\n",
       " 'moderateDim8380.npy',\n",
       " 'moderateDim8867.npy',\n",
       " 'moderateDim7878.npy',\n",
       " 'moderateDim7305.npy',\n",
       " 'moderateDim9329.npy',\n",
       " 'moderateDim731.npy',\n",
       " 'moderateDim7475.npy',\n",
       " 'moderateDim8004.npy',\n",
       " 'moderateDim8850.npy',\n",
       " 'moderateDim8627.npy',\n",
       " 'moderateDim8056.npy',\n",
       " 'moderateDim7463.npy',\n",
       " 'moderateDim8134.npy',\n",
       " 'moderateDim7067.npy',\n",
       " 'moderateDim7143.npy',\n",
       " 'moderateDim7987.npy',\n",
       " 'moderateDim9188.npy',\n",
       " 'moderateDim8450.npy',\n",
       " 'moderateDim8178.npy',\n",
       " 'moderateDim8910.npy',\n",
       " 'moderateDim728.npy',\n",
       " 'moderateDim8879.npy',\n",
       " 'moderateDim7446.npy',\n",
       " 'moderateDim9436.npy',\n",
       " 'moderateDim7944.npy',\n",
       " 'moderateDim7817.npy',\n",
       " 'moderateDim8524.npy',\n",
       " 'moderateDim7017.npy',\n",
       " 'moderateDim8477.npy',\n",
       " 'moderateDim7540.npy',\n",
       " 'moderateDim7433.npy',\n",
       " 'moderateDim8487.npy',\n",
       " 'moderateDim7956.npy',\n",
       " 'moderateDim9150.npy',\n",
       " 'moderateDim7856.npy',\n",
       " 'moderateDim7735.npy',\n",
       " 'moderateDim7390.npy',\n",
       " 'moderateDim8418.npy',\n",
       " 'moderateDim7567.npy',\n",
       " 'moderateDim7694.npy',\n",
       " 'moderateDim8791.npy',\n",
       " 'moderateDim7374.npy',\n",
       " 'moderateDim7407.npy',\n",
       " 'moderateDim9395.npy',\n",
       " 'moderateDim7041.npy',\n",
       " 'moderateDim7329.npy',\n",
       " 'moderateDim8208.npy',\n",
       " 'moderateDim7697.npy',\n",
       " 'moderateDim7246.npy',\n",
       " 'moderateDim6967.npy',\n",
       " 'moderateDim7438.npy',\n",
       " 'moderateDim8274.npy',\n",
       " 'moderateDim8821.npy',\n",
       " 'moderateDim7695.npy',\n",
       " 'moderateDim9190.npy',\n",
       " 'moderateDim7535.npy',\n",
       " 'moderateDim8148.npy',\n",
       " 'moderateDim9042.npy',\n",
       " 'moderateDim7081.npy',\n",
       " 'moderateDim8563.npy',\n",
       " 'moderateDim8637.npy',\n",
       " 'moderateDim6993.npy',\n",
       " 'moderateDim7294.npy',\n",
       " 'moderateDim7240.npy',\n",
       " 'moderateDim8410.npy',\n",
       " 'moderateDim8270.npy',\n",
       " 'moderateDim7287.npy',\n",
       " 'moderateDim7040.npy',\n",
       " 'moderateDim7747.npy',\n",
       " 'moderateDim8406.npy',\n",
       " 'moderateDim7743.npy',\n",
       " 'moderateDim7231.npy',\n",
       " 'moderateDim8642.npy',\n",
       " 'moderateDim7271.npy',\n",
       " 'moderateDim8235.npy',\n",
       " 'moderateDim7894.npy',\n",
       " 'moderateDim8250.npy',\n",
       " 'moderateDim9173.npy',\n",
       " 'moderateDim9163.npy',\n",
       " 'moderateDim9111.npy',\n",
       " 'moderateDim9460.npy',\n",
       " 'moderateDim9471.npy',\n",
       " 'moderateDim8021.npy',\n",
       " 'moderateDim8964.npy',\n",
       " 'moderateDim8573.npy',\n",
       " 'moderateDim8398.npy',\n",
       " 'moderateDim8835.npy',\n",
       " 'moderateDim9367.npy',\n",
       " 'moderateDim8104.npy',\n",
       " 'moderateDim7886.npy',\n",
       " 'moderateDim8010.npy',\n",
       " 'moderateDim8482.npy',\n",
       " 'moderateDim8963.npy',\n",
       " 'moderateDim9427.npy',\n",
       " 'moderateDim9093.npy',\n",
       " 'moderateDim748.npy',\n",
       " 'moderateDim8279.npy',\n",
       " 'moderateDim8916.npy',\n",
       " 'moderateDim8656.npy',\n",
       " 'moderateDim8343.npy',\n",
       " 'moderateDim8692.npy',\n",
       " 'moderateDim8741.npy',\n",
       " 'moderateDim6975.npy',\n",
       " 'moderateDim8254.npy',\n",
       " 'moderateDim7386.npy',\n",
       " 'moderateDim8256.npy',\n",
       " 'moderateDim7826.npy',\n",
       " 'moderateDim9359.npy',\n",
       " 'moderateDim8036.npy',\n",
       " 'moderateDim7789.npy',\n",
       " 'moderateDim8118.npy',\n",
       " 'moderateDim7497.npy',\n",
       " 'moderateDim7459.npy',\n",
       " 'moderateDim9379.npy',\n",
       " 'moderateDim9309.npy',\n",
       " 'moderateDim7458.npy',\n",
       " 'moderateDim9278.npy',\n",
       " 'moderateDim7456.npy',\n",
       " 'moderateDim8145.npy',\n",
       " 'moderateDim8817.npy',\n",
       " 'moderateDim7592.npy',\n",
       " 'moderateDim9424.npy',\n",
       " 'moderateDim7861.npy',\n",
       " 'moderateDim9072.npy',\n",
       " 'moderateDim8497.npy',\n",
       " 'moderateDim8943.npy',\n",
       " 'moderateDim8150.npy',\n",
       " 'moderateDim8518.npy',\n",
       " 'moderateDim9027.npy',\n",
       " 'moderateDim9256.npy',\n",
       " 'moderateDim8016.npy',\n",
       " 'moderateDim7412.npy',\n",
       " 'moderateDim7506.npy',\n",
       " 'moderateDim7729.npy',\n",
       " 'moderateDim9437.npy',\n",
       " 'moderateDim7954.npy',\n",
       " 'moderateDim8390.npy',\n",
       " 'moderateDim7391.npy',\n",
       " 'moderateDim6989.npy',\n",
       " 'moderateDim8998.npy',\n",
       " 'moderateDim7150.npy',\n",
       " 'moderateDim7169.npy',\n",
       " 'moderateDim8299.npy',\n",
       " 'moderateDim7653.npy',\n",
       " 'moderateDim8234.npy',\n",
       " 'moderateDim9353.npy',\n",
       " 'moderateDim9328.npy',\n",
       " 'moderateDim9317.npy',\n",
       " 'moderateDim8243.npy',\n",
       " 'moderateDim7733.npy',\n",
       " 'moderateDim7587.npy',\n",
       " 'moderateDim8957.npy',\n",
       " 'moderateDim8423.npy',\n",
       " 'moderateDim7630.npy',\n",
       " 'moderateDim8624.npy',\n",
       " 'moderateDim7032.npy',\n",
       " 'moderateDim7144.npy',\n",
       " 'moderateDim8547.npy',\n",
       " 'moderateDim8895.npy',\n",
       " 'moderateDim8222.npy',\n",
       " 'moderateDim8736.npy',\n",
       " 'moderateDim8030.npy',\n",
       " 'moderateDim9152.npy',\n",
       " 'moderateDim8854.npy',\n",
       " 'moderateDim7867.npy',\n",
       " 'moderateDim7489.npy',\n",
       " 'moderateDim8360.npy',\n",
       " 'moderateDim7523.npy',\n",
       " 'moderateDim9040.npy',\n",
       " 'moderateDim7739.npy',\n",
       " 'moderateDim8197.npy',\n",
       " 'moderateDim8396.npy',\n",
       " 'moderateDim9062.npy',\n",
       " 'moderateDim7783.npy',\n",
       " 'moderateDim7709.npy',\n",
       " 'moderateDim9264.npy',\n",
       " 'moderateDim9044.npy',\n",
       " 'moderateDim7811.npy',\n",
       " ...}"
      ]
     },
     "execution_count": 26,
     "metadata": {},
     "output_type": "execute_result"
    }
   ],
   "source": [
    "a = set([i.split(\"Dem\")[0] for i in files])\n",
    "a"
   ]
  },
  {
   "cell_type": "code",
   "execution_count": 27,
   "id": "713892d7",
   "metadata": {
    "execution": {
     "iopub.execute_input": "2024-04-17T14:59:01.765038Z",
     "iopub.status.busy": "2024-04-17T14:59:01.764763Z",
     "iopub.status.idle": "2024-04-17T14:59:01.773989Z",
     "shell.execute_reply": "2024-04-17T14:59:01.773187Z"
    },
    "papermill": {
     "duration": 0.029955,
     "end_time": "2024-04-17T14:59:01.775986",
     "exception": false,
     "start_time": "2024-04-17T14:59:01.746031",
     "status": "completed"
    },
    "tags": []
   },
   "outputs": [
    {
     "name": "stdout",
     "output_type": "stream",
     "text": [
      "2560 2560 2560 2560\n"
     ]
    }
   ],
   "source": [
    "mildDem = [i for i in files if i.startswith(\"milDem\")]\n",
    "moderateDem = [i for i in files if \"moderateDim\" in i]\n",
    "nonDem = [i for i in files if \"nonDem\" in i]\n",
    "veryMild = [i for i in files if \"veryMildDem\" in i]\n",
    "print(len(mildDem), len(moderateDem), len(nonDem), len(veryMild))"
   ]
  },
  {
   "cell_type": "code",
   "execution_count": 28,
   "id": "af65e1c9",
   "metadata": {
    "execution": {
     "iopub.execute_input": "2024-04-17T14:59:01.812977Z",
     "iopub.status.busy": "2024-04-17T14:59:01.812502Z",
     "iopub.status.idle": "2024-04-17T14:59:02.688012Z",
     "shell.execute_reply": "2024-04-17T14:59:02.687075Z"
    },
    "papermill": {
     "duration": 0.896536,
     "end_time": "2024-04-17T14:59:02.690330",
     "exception": false,
     "start_time": "2024-04-17T14:59:01.793794",
     "status": "completed"
    },
    "tags": []
   },
   "outputs": [
    {
     "data": {
      "text/plain": [
       "Class\n",
       "0    2560\n",
       "1    2560\n",
       "2    2560\n",
       "3    2560\n",
       "Name: count, dtype: int64"
      ]
     },
     "execution_count": 28,
     "metadata": {},
     "output_type": "execute_result"
    }
   ],
   "source": [
    "import pandas as pd\n",
    "l = [[mildDem, 0], [moderateDem, 1], [nonDem, 2], [veryMild, 3]]\n",
    "x = []\n",
    "for i in l:\n",
    "    for j in i[0]:\n",
    "        path = os.path.join(\"/kaggle/input/betterest-preproc/train\", j)\n",
    "        x.append([i[1], path])\n",
    "\n",
    "df = pd.DataFrame(x, columns=[\"Class\", \"Path\"])\n",
    "x = df[\"Class\"].value_counts()\n",
    "x"
   ]
  },
  {
   "cell_type": "code",
   "execution_count": 29,
   "id": "147eddb4",
   "metadata": {
    "execution": {
     "iopub.execute_input": "2024-04-17T14:59:02.729791Z",
     "iopub.status.busy": "2024-04-17T14:59:02.729108Z",
     "iopub.status.idle": "2024-04-17T15:00:54.580342Z",
     "shell.execute_reply": "2024-04-17T15:00:54.579510Z"
    },
    "papermill": {
     "duration": 111.872427,
     "end_time": "2024-04-17T15:00:54.582951",
     "exception": false,
     "start_time": "2024-04-17T14:59:02.710524",
     "status": "completed"
    },
    "tags": []
   },
   "outputs": [],
   "source": [
    "images = []\n",
    "for i in df[\"Path\"]:\n",
    "    images.append(np.load(i))\n",
    "images = np.array(images)"
   ]
  },
  {
   "cell_type": "code",
   "execution_count": 30,
   "id": "792d55e9",
   "metadata": {
    "execution": {
     "iopub.execute_input": "2024-04-17T15:00:54.621686Z",
     "iopub.status.busy": "2024-04-17T15:00:54.621016Z",
     "iopub.status.idle": "2024-04-17T15:01:03.154809Z",
     "shell.execute_reply": "2024-04-17T15:01:03.153833Z"
    },
    "id": "42bc232c",
    "papermill": {
     "duration": 8.555251,
     "end_time": "2024-04-17T15:01:03.157418",
     "exception": false,
     "start_time": "2024-04-17T15:00:54.602167",
     "status": "completed"
    },
    "tags": []
   },
   "outputs": [],
   "source": [
    "from sklearn.model_selection import train_test_split\n",
    "labels = np.array(df[\"Class\"])\n",
    "train_images, test_images, train_labels, test_labels = train_test_split(images, labels, test_size=0.2, random_state=42)\n"
   ]
  },
  {
   "cell_type": "code",
   "execution_count": 31,
   "id": "e47e6163",
   "metadata": {
    "execution": {
     "iopub.execute_input": "2024-04-17T15:01:03.194907Z",
     "iopub.status.busy": "2024-04-17T15:01:03.194121Z",
     "iopub.status.idle": "2024-04-17T15:01:03.331471Z",
     "shell.execute_reply": "2024-04-17T15:01:03.330570Z"
    },
    "papermill": {
     "duration": 0.157806,
     "end_time": "2024-04-17T15:01:03.333403",
     "exception": false,
     "start_time": "2024-04-17T15:01:03.175597",
     "status": "completed"
    },
    "tags": []
   },
   "outputs": [
    {
     "data": {
      "text/plain": [
       "0"
      ]
     },
     "execution_count": 31,
     "metadata": {},
     "output_type": "execute_result"
    }
   ],
   "source": [
    "import gc\n",
    "\n",
    "# Assume `arr` is your numpy array\n",
    "del images\n",
    "\n",
    "# Run the garbage collector\n",
    "gc.collect()"
   ]
  },
  {
   "cell_type": "code",
   "execution_count": 32,
   "id": "53997443",
   "metadata": {
    "execution": {
     "iopub.execute_input": "2024-04-17T15:01:03.370065Z",
     "iopub.status.busy": "2024-04-17T15:01:03.369783Z",
     "iopub.status.idle": "2024-04-17T15:01:03.380114Z",
     "shell.execute_reply": "2024-04-17T15:01:03.379140Z"
    },
    "id": "4b2c9685",
    "outputId": "db02cfbb-a35b-4584-d5a3-e7f69ad31ec6",
    "papermill": {
     "duration": 0.030605,
     "end_time": "2024-04-17T15:01:03.382010",
     "exception": false,
     "start_time": "2024-04-17T15:01:03.351405",
     "status": "completed"
    },
    "tags": []
   },
   "outputs": [
    {
     "name": "stdout",
     "output_type": "stream",
     "text": [
      "[0 2 0 ... 2 0 2]\n",
      "[1 2 1 ... 1 3 2]\n"
     ]
    }
   ],
   "source": [
    "from sklearn.preprocessing import LabelEncoder\n",
    "label_encoder = LabelEncoder()\n",
    "train_labels_encoded = label_encoder.fit_transform(train_labels)\n",
    "test_labels_encoded = label_encoder.transform(test_labels)\n",
    "\n",
    "# Verify the encoded labels\n",
    "print(train_labels_encoded)\n",
    "print(test_labels_encoded)"
   ]
  },
  {
   "cell_type": "code",
   "execution_count": 33,
   "id": "695b2238",
   "metadata": {
    "execution": {
     "iopub.execute_input": "2024-04-17T15:01:03.418549Z",
     "iopub.status.busy": "2024-04-17T15:01:03.418288Z",
     "iopub.status.idle": "2024-04-17T15:01:03.422755Z",
     "shell.execute_reply": "2024-04-17T15:01:03.421928Z"
    },
    "id": "57bb9b57",
    "outputId": "11fedfe4-f4b3-4f63-b745-56561109d4b9",
    "papermill": {
     "duration": 0.025391,
     "end_time": "2024-04-17T15:01:03.424878",
     "exception": false,
     "start_time": "2024-04-17T15:01:03.399487",
     "status": "completed"
    },
    "tags": []
   },
   "outputs": [
    {
     "name": "stdout",
     "output_type": "stream",
     "text": [
      "(8192, 208, 176, 3) (2048, 208, 176, 3) (8192,) (2048,)\n"
     ]
    }
   ],
   "source": [
    "print(train_images.shape, test_images.shape, train_labels_encoded.shape, test_labels_encoded.shape)"
   ]
  },
  {
   "cell_type": "code",
   "execution_count": 34,
   "id": "69fc723b",
   "metadata": {
    "execution": {
     "iopub.execute_input": "2024-04-17T15:01:03.465545Z",
     "iopub.status.busy": "2024-04-17T15:01:03.465257Z",
     "iopub.status.idle": "2024-04-17T15:01:03.471535Z",
     "shell.execute_reply": "2024-04-17T15:01:03.470711Z"
    },
    "id": "798b1b57",
    "outputId": "fcf36ea2-e3b4-4f55-e968-966f54b7e4b8",
    "papermill": {
     "duration": 0.027104,
     "end_time": "2024-04-17T15:01:03.473483",
     "exception": false,
     "start_time": "2024-04-17T15:01:03.446379",
     "status": "completed"
    },
    "tags": []
   },
   "outputs": [
    {
     "name": "stdout",
     "output_type": "stream",
     "text": [
      "[1 2 1 ... 1 3 2]\n"
     ]
    },
    {
     "data": {
      "text/plain": [
       "array([1, 2, 1, ..., 1, 3, 2])"
      ]
     },
     "execution_count": 34,
     "metadata": {},
     "output_type": "execute_result"
    }
   ],
   "source": [
    "print(test_labels)\n",
    "test_labels_encoded"
   ]
  },
  {
   "cell_type": "code",
   "execution_count": 35,
   "id": "436cf878",
   "metadata": {
    "execution": {
     "iopub.execute_input": "2024-04-17T15:01:03.510794Z",
     "iopub.status.busy": "2024-04-17T15:01:03.510141Z",
     "iopub.status.idle": "2024-04-17T15:01:03.513758Z",
     "shell.execute_reply": "2024-04-17T15:01:03.512929Z"
    },
    "id": "9edfb12a",
    "outputId": "120a904d-24c2-4cb1-9735-89770054f0ae",
    "papermill": {
     "duration": 0.024181,
     "end_time": "2024-04-17T15:01:03.515686",
     "exception": false,
     "start_time": "2024-04-17T15:01:03.491505",
     "status": "completed"
    },
    "tags": []
   },
   "outputs": [],
   "source": [
    "# print(x.index, x.values, x.array)"
   ]
  },
  {
   "cell_type": "code",
   "execution_count": 36,
   "id": "68f265f1",
   "metadata": {
    "execution": {
     "iopub.execute_input": "2024-04-17T15:01:03.552525Z",
     "iopub.status.busy": "2024-04-17T15:01:03.552283Z",
     "iopub.status.idle": "2024-04-17T15:01:03.556976Z",
     "shell.execute_reply": "2024-04-17T15:01:03.556273Z"
    },
    "id": "3bcf626e",
    "outputId": "09122aba-716c-48c5-926e-964698fa9660",
    "papermill": {
     "duration": 0.025098,
     "end_time": "2024-04-17T15:01:03.558698",
     "exception": false,
     "start_time": "2024-04-17T15:01:03.533600",
     "status": "completed"
    },
    "tags": []
   },
   "outputs": [],
   "source": [
    "# s = x / len(files)\n",
    "# class_weights = {i:j for i, j in zip(s.index, s.values)}\n",
    "\n",
    "# class_weights\n",
    "# Optional normalization (weights sum to 1)\n",
    "# total_weight = sum(class_weights.values())\n",
    "# class_weights = {class_label: weight / total_weight for class_label, weight in class_weights.items()}\n"
   ]
  },
  {
   "cell_type": "code",
   "execution_count": 37,
   "id": "60d9d533",
   "metadata": {
    "execution": {
     "iopub.execute_input": "2024-04-17T15:01:03.597503Z",
     "iopub.status.busy": "2024-04-17T15:01:03.597239Z",
     "iopub.status.idle": "2024-04-17T15:01:16.993420Z",
     "shell.execute_reply": "2024-04-17T15:01:16.992405Z"
    },
    "id": "Vih39UdnN-bA",
    "papermill": {
     "duration": 13.419479,
     "end_time": "2024-04-17T15:01:16.995819",
     "exception": false,
     "start_time": "2024-04-17T15:01:03.576340",
     "status": "completed"
    },
    "tags": []
   },
   "outputs": [
    {
     "name": "stderr",
     "output_type": "stream",
     "text": [
      "2024-04-17 15:01:05.955947: E external/local_xla/xla/stream_executor/cuda/cuda_dnn.cc:9261] Unable to register cuDNN factory: Attempting to register factory for plugin cuDNN when one has already been registered\n",
      "2024-04-17 15:01:05.956051: E external/local_xla/xla/stream_executor/cuda/cuda_fft.cc:607] Unable to register cuFFT factory: Attempting to register factory for plugin cuFFT when one has already been registered\n",
      "2024-04-17 15:01:06.144510: E external/local_xla/xla/stream_executor/cuda/cuda_blas.cc:1515] Unable to register cuBLAS factory: Attempting to register factory for plugin cuBLAS when one has already been registered\n"
     ]
    }
   ],
   "source": [
    "from keras.models import Sequential\n",
    "from keras.layers import Conv2D, MaxPooling2D, Flatten, Dense, Dropout, Input, BatchNormalization\n",
    "from keras.callbacks import EarlyStopping, LearningRateScheduler\n",
    "from keras.utils import to_categorical\n",
    "from sklearn.utils.class_weight import compute_sample_weight\n",
    "from sklearn.model_selection import train_test_split\n",
    "import numpy as np\n",
    "\n",
    "def conv_block(filters, act='relu'):\n",
    "    \"\"\"Defining a Convolutional NN block for a Sequential CNN model. \"\"\"\n",
    "\n",
    "    block = Sequential()\n",
    "    block.add(Conv2D(filters, 3, activation=act, padding='same'))\n",
    "    block.add(Conv2D(filters, 3, activation=act, padding='same'))\n",
    "    block.add(BatchNormalization())\n",
    "    block.add(MaxPooling2D((2, 2)))\n",
    "\n",
    "    return block"
   ]
  },
  {
   "cell_type": "code",
   "execution_count": 38,
   "id": "daf2fa0d",
   "metadata": {
    "execution": {
     "iopub.execute_input": "2024-04-17T15:01:17.035472Z",
     "iopub.status.busy": "2024-04-17T15:01:17.034933Z",
     "iopub.status.idle": "2024-04-17T15:01:17.040417Z",
     "shell.execute_reply": "2024-04-17T15:01:17.039498Z"
    },
    "id": "aU00auyBOHPp",
    "papermill": {
     "duration": 0.027686,
     "end_time": "2024-04-17T15:01:17.042472",
     "exception": false,
     "start_time": "2024-04-17T15:01:17.014786",
     "status": "completed"
    },
    "tags": []
   },
   "outputs": [],
   "source": [
    "def dense_block(units, dropout_rate, act='relu'):\n",
    "    \"\"\"Defining a Dense NN block for a Sequential CNN model. \"\"\"\n",
    "\n",
    "    block = Sequential()\n",
    "    block.add(Dense(units, activation=act))\n",
    "    block.add(BatchNormalization())\n",
    "    block.add(Dropout(dropout_rate))\n",
    "\n",
    "    return block"
   ]
  },
  {
   "cell_type": "code",
   "execution_count": 39,
   "id": "2073d7b5",
   "metadata": {
    "execution": {
     "iopub.execute_input": "2024-04-17T15:01:17.080174Z",
     "iopub.status.busy": "2024-04-17T15:01:17.079891Z",
     "iopub.status.idle": "2024-04-17T15:01:17.083538Z",
     "shell.execute_reply": "2024-04-17T15:01:17.082730Z"
    },
    "id": "RJOIqi7iPHkI",
    "outputId": "02a2a89f-30e7-4b17-e07e-4d9db5271402",
    "papermill": {
     "duration": 0.024707,
     "end_time": "2024-04-17T15:01:17.085496",
     "exception": false,
     "start_time": "2024-04-17T15:01:17.060789",
     "status": "completed"
    },
    "tags": []
   },
   "outputs": [],
   "source": [
    "# !pip install tensorflow_addons\n"
   ]
  },
  {
   "cell_type": "code",
   "execution_count": 40,
   "id": "4c2a63b0",
   "metadata": {
    "execution": {
     "iopub.execute_input": "2024-04-17T15:01:17.123277Z",
     "iopub.status.busy": "2024-04-17T15:01:17.122588Z",
     "iopub.status.idle": "2024-04-17T15:01:17.804542Z",
     "shell.execute_reply": "2024-04-17T15:01:17.803707Z"
    },
    "id": "MiJ3ybUQOTJH",
    "papermill": {
     "duration": 0.703222,
     "end_time": "2024-04-17T15:01:17.806947",
     "exception": false,
     "start_time": "2024-04-17T15:01:17.103725",
     "status": "completed"
    },
    "tags": []
   },
   "outputs": [],
   "source": [
    "import tensorflow as tf\n",
    "\n",
    "class F1Score(tf.keras.metrics.Metric):\n",
    "    def __init__(self, num_classes, **kwargs):\n",
    "        super(F1Score, self).__init__(**kwargs)\n",
    "        self.num_classes = num_classes\n",
    "        self.precision = tf.keras.metrics.Precision()\n",
    "        self.recall = tf.keras.metrics.Recall()\n",
    "\n",
    "    def update_state(self, y_true, y_pred, sample_weight=None):\n",
    "        self.precision.update_state(y_true, y_pred, sample_weight)\n",
    "        self.recall.update_state(y_true, y_pred, sample_weight)\n",
    "\n",
    "    def result(self):\n",
    "        precision = self.precision.result()\n",
    "        recall = self.recall.result()\n",
    "        return 2 * ((precision * recall) / (precision + recall + tf.keras.backend.epsilon()))\n",
    "\n",
    "    def reset_states(self):\n",
    "        self.precision.reset_states()\n",
    "        self.recall.reset_states()\n",
    "\n",
    "METRICS = [tf.keras.metrics.CategoricalAccuracy(name='acc'),\n",
    "           tf.keras.metrics.AUC(name='auc'),\n",
    "           F1Score(num_classes=4)]"
   ]
  },
  {
   "cell_type": "code",
   "execution_count": 41,
   "id": "ab0272c5",
   "metadata": {
    "execution": {
     "iopub.execute_input": "2024-04-17T15:01:17.844718Z",
     "iopub.status.busy": "2024-04-17T15:01:17.844400Z",
     "iopub.status.idle": "2024-04-17T15:01:17.849786Z",
     "shell.execute_reply": "2024-04-17T15:01:17.849010Z"
    },
    "id": "ZrFo4aLjObWp",
    "papermill": {
     "duration": 0.026291,
     "end_time": "2024-04-17T15:01:17.851639",
     "exception": false,
     "start_time": "2024-04-17T15:01:17.825348",
     "status": "completed"
    },
    "tags": []
   },
   "outputs": [],
   "source": [
    "input_shape = train_images[0].shape\n",
    "\n",
    "train_labels_encoded = to_categorical(train_labels, num_classes=4)\n",
    "test_labels_encoded = to_categorical(test_labels, num_classes=4)\n",
    "\n",
    "# sample_weights = compute_sample_weight(class_weight='balanced', y=np.argmax(train_labels_encoded, axis=1))"
   ]
  },
  {
   "cell_type": "code",
   "execution_count": 42,
   "id": "af6f0031",
   "metadata": {
    "execution": {
     "iopub.execute_input": "2024-04-17T15:01:17.889541Z",
     "iopub.status.busy": "2024-04-17T15:01:17.889077Z",
     "iopub.status.idle": "2024-04-17T15:01:17.895553Z",
     "shell.execute_reply": "2024-04-17T15:01:17.894681Z"
    },
    "id": "BwhCHPnmOMuq",
    "papermill": {
     "duration": 0.02747,
     "end_time": "2024-04-17T15:01:17.897358",
     "exception": false,
     "start_time": "2024-04-17T15:01:17.869888",
     "status": "completed"
    },
    "tags": []
   },
   "outputs": [],
   "source": [
    "def construct_model(act='relu'):\n",
    "    \"\"\"Constructing a Sequential CNN architecture for performing the classification task. \"\"\"\n",
    "\n",
    "    model = Sequential([\n",
    "        Input(shape=(input_shape)),\n",
    "        Conv2D(16, 3, activation=act, padding='same'),\n",
    "        Conv2D(16, 3, activation=act, padding='same'),\n",
    "        MaxPooling2D((2, 2)),\n",
    "        conv_block(32),\n",
    "        conv_block(64),\n",
    "        conv_block(128),\n",
    "        Dropout(0.2),\n",
    "        conv_block(256),\n",
    "        Dropout(0.2),\n",
    "        Flatten(),\n",
    "        dense_block(512, 0.7),\n",
    "        dense_block(128, 0.5),\n",
    "        dense_block(64, 0.3),\n",
    "        Dense(4, activation='softmax')\n",
    "    ], name = \"cnn_model\")\n",
    "\n",
    "    return model"
   ]
  },
  {
   "cell_type": "code",
   "execution_count": 43,
   "id": "eecefee7",
   "metadata": {
    "execution": {
     "iopub.execute_input": "2024-04-17T15:01:17.934774Z",
     "iopub.status.busy": "2024-04-17T15:01:17.934449Z",
     "iopub.status.idle": "2024-04-17T15:01:18.216808Z",
     "shell.execute_reply": "2024-04-17T15:01:18.215244Z"
    },
    "id": "GW5BFTBwPXbT",
    "outputId": "8f02dd19-e3dc-43fd-e03b-8d86c8034548",
    "papermill": {
     "duration": 0.304211,
     "end_time": "2024-04-17T15:01:18.219490",
     "exception": false,
     "start_time": "2024-04-17T15:01:17.915279",
     "status": "completed"
    },
    "tags": []
   },
   "outputs": [
    {
     "data": {
      "text/html": [
       "<pre style=\"white-space:pre;overflow-x:auto;line-height:normal;font-family:Menlo,'DejaVu Sans Mono',consolas,'Courier New',monospace\"><span style=\"font-weight: bold\">Model: \"cnn_model\"</span>\n",
       "</pre>\n"
      ],
      "text/plain": [
       "\u001b[1mModel: \"cnn_model\"\u001b[0m\n"
      ]
     },
     "metadata": {},
     "output_type": "display_data"
    },
    {
     "data": {
      "text/html": [
       "<pre style=\"white-space:pre;overflow-x:auto;line-height:normal;font-family:Menlo,'DejaVu Sans Mono',consolas,'Courier New',monospace\">┏━━━━━━━━━━━━━━━━━━━━━━━━━━━━━━━━━┳━━━━━━━━━━━━━━━━━━━━━━━━┳━━━━━━━━━━━━━━━┓\n",
       "┃<span style=\"font-weight: bold\"> Layer (type)                    </span>┃<span style=\"font-weight: bold\"> Output Shape           </span>┃<span style=\"font-weight: bold\">       Param # </span>┃\n",
       "┡━━━━━━━━━━━━━━━━━━━━━━━━━━━━━━━━━╇━━━━━━━━━━━━━━━━━━━━━━━━╇━━━━━━━━━━━━━━━┩\n",
       "│ conv2d (<span style=\"color: #0087ff; text-decoration-color: #0087ff\">Conv2D</span>)                 │ (<span style=\"color: #00d7ff; text-decoration-color: #00d7ff\">None</span>, <span style=\"color: #00af00; text-decoration-color: #00af00\">208</span>, <span style=\"color: #00af00; text-decoration-color: #00af00\">176</span>, <span style=\"color: #00af00; text-decoration-color: #00af00\">16</span>)   │           <span style=\"color: #00af00; text-decoration-color: #00af00\">448</span> │\n",
       "├─────────────────────────────────┼────────────────────────┼───────────────┤\n",
       "│ conv2d_1 (<span style=\"color: #0087ff; text-decoration-color: #0087ff\">Conv2D</span>)               │ (<span style=\"color: #00d7ff; text-decoration-color: #00d7ff\">None</span>, <span style=\"color: #00af00; text-decoration-color: #00af00\">208</span>, <span style=\"color: #00af00; text-decoration-color: #00af00\">176</span>, <span style=\"color: #00af00; text-decoration-color: #00af00\">16</span>)   │         <span style=\"color: #00af00; text-decoration-color: #00af00\">2,320</span> │\n",
       "├─────────────────────────────────┼────────────────────────┼───────────────┤\n",
       "│ max_pooling2d (<span style=\"color: #0087ff; text-decoration-color: #0087ff\">MaxPooling2D</span>)    │ (<span style=\"color: #00d7ff; text-decoration-color: #00d7ff\">None</span>, <span style=\"color: #00af00; text-decoration-color: #00af00\">104</span>, <span style=\"color: #00af00; text-decoration-color: #00af00\">88</span>, <span style=\"color: #00af00; text-decoration-color: #00af00\">16</span>)    │             <span style=\"color: #00af00; text-decoration-color: #00af00\">0</span> │\n",
       "├─────────────────────────────────┼────────────────────────┼───────────────┤\n",
       "│ sequential (<span style=\"color: #0087ff; text-decoration-color: #0087ff\">Sequential</span>)         │ (<span style=\"color: #00d7ff; text-decoration-color: #00d7ff\">None</span>, <span style=\"color: #00af00; text-decoration-color: #00af00\">52</span>, <span style=\"color: #00af00; text-decoration-color: #00af00\">44</span>, <span style=\"color: #00af00; text-decoration-color: #00af00\">32</span>)     │        <span style=\"color: #00af00; text-decoration-color: #00af00\">14,016</span> │\n",
       "├─────────────────────────────────┼────────────────────────┼───────────────┤\n",
       "│ sequential_1 (<span style=\"color: #0087ff; text-decoration-color: #0087ff\">Sequential</span>)       │ (<span style=\"color: #00d7ff; text-decoration-color: #00d7ff\">None</span>, <span style=\"color: #00af00; text-decoration-color: #00af00\">26</span>, <span style=\"color: #00af00; text-decoration-color: #00af00\">22</span>, <span style=\"color: #00af00; text-decoration-color: #00af00\">64</span>)     │        <span style=\"color: #00af00; text-decoration-color: #00af00\">55,680</span> │\n",
       "├─────────────────────────────────┼────────────────────────┼───────────────┤\n",
       "│ sequential_2 (<span style=\"color: #0087ff; text-decoration-color: #0087ff\">Sequential</span>)       │ (<span style=\"color: #00d7ff; text-decoration-color: #00d7ff\">None</span>, <span style=\"color: #00af00; text-decoration-color: #00af00\">13</span>, <span style=\"color: #00af00; text-decoration-color: #00af00\">11</span>, <span style=\"color: #00af00; text-decoration-color: #00af00\">128</span>)    │       <span style=\"color: #00af00; text-decoration-color: #00af00\">221,952</span> │\n",
       "├─────────────────────────────────┼────────────────────────┼───────────────┤\n",
       "│ dropout (<span style=\"color: #0087ff; text-decoration-color: #0087ff\">Dropout</span>)               │ (<span style=\"color: #00d7ff; text-decoration-color: #00d7ff\">None</span>, <span style=\"color: #00af00; text-decoration-color: #00af00\">13</span>, <span style=\"color: #00af00; text-decoration-color: #00af00\">11</span>, <span style=\"color: #00af00; text-decoration-color: #00af00\">128</span>)    │             <span style=\"color: #00af00; text-decoration-color: #00af00\">0</span> │\n",
       "├─────────────────────────────────┼────────────────────────┼───────────────┤\n",
       "│ sequential_3 (<span style=\"color: #0087ff; text-decoration-color: #0087ff\">Sequential</span>)       │ (<span style=\"color: #00d7ff; text-decoration-color: #00d7ff\">None</span>, <span style=\"color: #00af00; text-decoration-color: #00af00\">6</span>, <span style=\"color: #00af00; text-decoration-color: #00af00\">5</span>, <span style=\"color: #00af00; text-decoration-color: #00af00\">256</span>)      │       <span style=\"color: #00af00; text-decoration-color: #00af00\">886,272</span> │\n",
       "├─────────────────────────────────┼────────────────────────┼───────────────┤\n",
       "│ dropout_1 (<span style=\"color: #0087ff; text-decoration-color: #0087ff\">Dropout</span>)             │ (<span style=\"color: #00d7ff; text-decoration-color: #00d7ff\">None</span>, <span style=\"color: #00af00; text-decoration-color: #00af00\">6</span>, <span style=\"color: #00af00; text-decoration-color: #00af00\">5</span>, <span style=\"color: #00af00; text-decoration-color: #00af00\">256</span>)      │             <span style=\"color: #00af00; text-decoration-color: #00af00\">0</span> │\n",
       "├─────────────────────────────────┼────────────────────────┼───────────────┤\n",
       "│ flatten (<span style=\"color: #0087ff; text-decoration-color: #0087ff\">Flatten</span>)               │ (<span style=\"color: #00d7ff; text-decoration-color: #00d7ff\">None</span>, <span style=\"color: #00af00; text-decoration-color: #00af00\">7680</span>)           │             <span style=\"color: #00af00; text-decoration-color: #00af00\">0</span> │\n",
       "├─────────────────────────────────┼────────────────────────┼───────────────┤\n",
       "│ sequential_4 (<span style=\"color: #0087ff; text-decoration-color: #0087ff\">Sequential</span>)       │ (<span style=\"color: #00d7ff; text-decoration-color: #00d7ff\">None</span>, <span style=\"color: #00af00; text-decoration-color: #00af00\">512</span>)            │     <span style=\"color: #00af00; text-decoration-color: #00af00\">3,934,720</span> │\n",
       "├─────────────────────────────────┼────────────────────────┼───────────────┤\n",
       "│ sequential_5 (<span style=\"color: #0087ff; text-decoration-color: #0087ff\">Sequential</span>)       │ (<span style=\"color: #00d7ff; text-decoration-color: #00d7ff\">None</span>, <span style=\"color: #00af00; text-decoration-color: #00af00\">128</span>)            │        <span style=\"color: #00af00; text-decoration-color: #00af00\">66,176</span> │\n",
       "├─────────────────────────────────┼────────────────────────┼───────────────┤\n",
       "│ sequential_6 (<span style=\"color: #0087ff; text-decoration-color: #0087ff\">Sequential</span>)       │ (<span style=\"color: #00d7ff; text-decoration-color: #00d7ff\">None</span>, <span style=\"color: #00af00; text-decoration-color: #00af00\">64</span>)             │         <span style=\"color: #00af00; text-decoration-color: #00af00\">8,512</span> │\n",
       "├─────────────────────────────────┼────────────────────────┼───────────────┤\n",
       "│ dense_3 (<span style=\"color: #0087ff; text-decoration-color: #0087ff\">Dense</span>)                 │ (<span style=\"color: #00d7ff; text-decoration-color: #00d7ff\">None</span>, <span style=\"color: #00af00; text-decoration-color: #00af00\">4</span>)              │           <span style=\"color: #00af00; text-decoration-color: #00af00\">260</span> │\n",
       "└─────────────────────────────────┴────────────────────────┴───────────────┘\n",
       "</pre>\n"
      ],
      "text/plain": [
       "┏━━━━━━━━━━━━━━━━━━━━━━━━━━━━━━━━━┳━━━━━━━━━━━━━━━━━━━━━━━━┳━━━━━━━━━━━━━━━┓\n",
       "┃\u001b[1m \u001b[0m\u001b[1mLayer (type)                   \u001b[0m\u001b[1m \u001b[0m┃\u001b[1m \u001b[0m\u001b[1mOutput Shape          \u001b[0m\u001b[1m \u001b[0m┃\u001b[1m \u001b[0m\u001b[1m      Param #\u001b[0m\u001b[1m \u001b[0m┃\n",
       "┡━━━━━━━━━━━━━━━━━━━━━━━━━━━━━━━━━╇━━━━━━━━━━━━━━━━━━━━━━━━╇━━━━━━━━━━━━━━━┩\n",
       "│ conv2d (\u001b[38;5;33mConv2D\u001b[0m)                 │ (\u001b[38;5;45mNone\u001b[0m, \u001b[38;5;34m208\u001b[0m, \u001b[38;5;34m176\u001b[0m, \u001b[38;5;34m16\u001b[0m)   │           \u001b[38;5;34m448\u001b[0m │\n",
       "├─────────────────────────────────┼────────────────────────┼───────────────┤\n",
       "│ conv2d_1 (\u001b[38;5;33mConv2D\u001b[0m)               │ (\u001b[38;5;45mNone\u001b[0m, \u001b[38;5;34m208\u001b[0m, \u001b[38;5;34m176\u001b[0m, \u001b[38;5;34m16\u001b[0m)   │         \u001b[38;5;34m2,320\u001b[0m │\n",
       "├─────────────────────────────────┼────────────────────────┼───────────────┤\n",
       "│ max_pooling2d (\u001b[38;5;33mMaxPooling2D\u001b[0m)    │ (\u001b[38;5;45mNone\u001b[0m, \u001b[38;5;34m104\u001b[0m, \u001b[38;5;34m88\u001b[0m, \u001b[38;5;34m16\u001b[0m)    │             \u001b[38;5;34m0\u001b[0m │\n",
       "├─────────────────────────────────┼────────────────────────┼───────────────┤\n",
       "│ sequential (\u001b[38;5;33mSequential\u001b[0m)         │ (\u001b[38;5;45mNone\u001b[0m, \u001b[38;5;34m52\u001b[0m, \u001b[38;5;34m44\u001b[0m, \u001b[38;5;34m32\u001b[0m)     │        \u001b[38;5;34m14,016\u001b[0m │\n",
       "├─────────────────────────────────┼────────────────────────┼───────────────┤\n",
       "│ sequential_1 (\u001b[38;5;33mSequential\u001b[0m)       │ (\u001b[38;5;45mNone\u001b[0m, \u001b[38;5;34m26\u001b[0m, \u001b[38;5;34m22\u001b[0m, \u001b[38;5;34m64\u001b[0m)     │        \u001b[38;5;34m55,680\u001b[0m │\n",
       "├─────────────────────────────────┼────────────────────────┼───────────────┤\n",
       "│ sequential_2 (\u001b[38;5;33mSequential\u001b[0m)       │ (\u001b[38;5;45mNone\u001b[0m, \u001b[38;5;34m13\u001b[0m, \u001b[38;5;34m11\u001b[0m, \u001b[38;5;34m128\u001b[0m)    │       \u001b[38;5;34m221,952\u001b[0m │\n",
       "├─────────────────────────────────┼────────────────────────┼───────────────┤\n",
       "│ dropout (\u001b[38;5;33mDropout\u001b[0m)               │ (\u001b[38;5;45mNone\u001b[0m, \u001b[38;5;34m13\u001b[0m, \u001b[38;5;34m11\u001b[0m, \u001b[38;5;34m128\u001b[0m)    │             \u001b[38;5;34m0\u001b[0m │\n",
       "├─────────────────────────────────┼────────────────────────┼───────────────┤\n",
       "│ sequential_3 (\u001b[38;5;33mSequential\u001b[0m)       │ (\u001b[38;5;45mNone\u001b[0m, \u001b[38;5;34m6\u001b[0m, \u001b[38;5;34m5\u001b[0m, \u001b[38;5;34m256\u001b[0m)      │       \u001b[38;5;34m886,272\u001b[0m │\n",
       "├─────────────────────────────────┼────────────────────────┼───────────────┤\n",
       "│ dropout_1 (\u001b[38;5;33mDropout\u001b[0m)             │ (\u001b[38;5;45mNone\u001b[0m, \u001b[38;5;34m6\u001b[0m, \u001b[38;5;34m5\u001b[0m, \u001b[38;5;34m256\u001b[0m)      │             \u001b[38;5;34m0\u001b[0m │\n",
       "├─────────────────────────────────┼────────────────────────┼───────────────┤\n",
       "│ flatten (\u001b[38;5;33mFlatten\u001b[0m)               │ (\u001b[38;5;45mNone\u001b[0m, \u001b[38;5;34m7680\u001b[0m)           │             \u001b[38;5;34m0\u001b[0m │\n",
       "├─────────────────────────────────┼────────────────────────┼───────────────┤\n",
       "│ sequential_4 (\u001b[38;5;33mSequential\u001b[0m)       │ (\u001b[38;5;45mNone\u001b[0m, \u001b[38;5;34m512\u001b[0m)            │     \u001b[38;5;34m3,934,720\u001b[0m │\n",
       "├─────────────────────────────────┼────────────────────────┼───────────────┤\n",
       "│ sequential_5 (\u001b[38;5;33mSequential\u001b[0m)       │ (\u001b[38;5;45mNone\u001b[0m, \u001b[38;5;34m128\u001b[0m)            │        \u001b[38;5;34m66,176\u001b[0m │\n",
       "├─────────────────────────────────┼────────────────────────┼───────────────┤\n",
       "│ sequential_6 (\u001b[38;5;33mSequential\u001b[0m)       │ (\u001b[38;5;45mNone\u001b[0m, \u001b[38;5;34m64\u001b[0m)             │         \u001b[38;5;34m8,512\u001b[0m │\n",
       "├─────────────────────────────────┼────────────────────────┼───────────────┤\n",
       "│ dense_3 (\u001b[38;5;33mDense\u001b[0m)                 │ (\u001b[38;5;45mNone\u001b[0m, \u001b[38;5;34m4\u001b[0m)              │           \u001b[38;5;34m260\u001b[0m │\n",
       "└─────────────────────────────────┴────────────────────────┴───────────────┘\n"
      ]
     },
     "metadata": {},
     "output_type": "display_data"
    },
    {
     "data": {
      "text/html": [
       "<pre style=\"white-space:pre;overflow-x:auto;line-height:normal;font-family:Menlo,'DejaVu Sans Mono',consolas,'Courier New',monospace\"><span style=\"font-weight: bold\"> Total params: </span><span style=\"color: #00af00; text-decoration-color: #00af00\">5,190,356</span> (19.80 MB)\n",
       "</pre>\n"
      ],
      "text/plain": [
       "\u001b[1m Total params: \u001b[0m\u001b[38;5;34m5,190,356\u001b[0m (19.80 MB)\n"
      ]
     },
     "metadata": {},
     "output_type": "display_data"
    },
    {
     "data": {
      "text/html": [
       "<pre style=\"white-space:pre;overflow-x:auto;line-height:normal;font-family:Menlo,'DejaVu Sans Mono',consolas,'Courier New',monospace\"><span style=\"font-weight: bold\"> Trainable params: </span><span style=\"color: #00af00; text-decoration-color: #00af00\">5,187,988</span> (19.79 MB)\n",
       "</pre>\n"
      ],
      "text/plain": [
       "\u001b[1m Trainable params: \u001b[0m\u001b[38;5;34m5,187,988\u001b[0m (19.79 MB)\n"
      ]
     },
     "metadata": {},
     "output_type": "display_data"
    },
    {
     "data": {
      "text/html": [
       "<pre style=\"white-space:pre;overflow-x:auto;line-height:normal;font-family:Menlo,'DejaVu Sans Mono',consolas,'Courier New',monospace\"><span style=\"font-weight: bold\"> Non-trainable params: </span><span style=\"color: #00af00; text-decoration-color: #00af00\">2,368</span> (9.25 KB)\n",
       "</pre>\n"
      ],
      "text/plain": [
       "\u001b[1m Non-trainable params: \u001b[0m\u001b[38;5;34m2,368\u001b[0m (9.25 KB)\n"
      ]
     },
     "metadata": {},
     "output_type": "display_data"
    }
   ],
   "source": [
    "model = construct_model()\n",
    "model.compile(optimizer='adam',\n",
    "              loss='categorical_crossentropy',\n",
    "              metrics=METRICS)\n",
    "\n",
    "model.summary()\n"
   ]
  },
  {
   "cell_type": "code",
   "execution_count": 44,
   "id": "65b5e0aa",
   "metadata": {
    "execution": {
     "iopub.execute_input": "2024-04-17T15:01:18.262320Z",
     "iopub.status.busy": "2024-04-17T15:01:18.262048Z",
     "iopub.status.idle": "2024-04-17T15:01:18.269477Z",
     "shell.execute_reply": "2024-04-17T15:01:18.268805Z"
    },
    "id": "-S4uJezqQPbH",
    "papermill": {
     "duration": 0.029139,
     "end_time": "2024-04-17T15:01:18.271342",
     "exception": false,
     "start_time": "2024-04-17T15:01:18.242203",
     "status": "completed"
    },
    "tags": []
   },
   "outputs": [],
   "source": [
    "from keras.optimizers import Adam\n",
    "def lr_schedule(epoch, learning_rate):\n",
    "    if epoch < 20:\n",
    "        return learning_rate\n",
    "    else:\n",
    "        if epoch % 2 == 0:\n",
    "          return learning_rate * 0.95\n",
    "        else:\n",
    "          return learning_rate\n",
    "\n",
    "lr_scheduler = LearningRateScheduler(lr_schedule, verbose=1)\n",
    "\n",
    "initial_learning_rate = 0.001\n",
    "optimizer = Adam(learning_rate=initial_learning_rate)"
   ]
  },
  {
   "cell_type": "code",
   "execution_count": 45,
   "id": "1a295fb8",
   "metadata": {
    "execution": {
     "iopub.execute_input": "2024-04-17T15:01:18.310272Z",
     "iopub.status.busy": "2024-04-17T15:01:18.309971Z",
     "iopub.status.idle": "2024-04-17T15:01:18.315537Z",
     "shell.execute_reply": "2024-04-17T15:01:18.314657Z"
    },
    "id": "Wm4LePTeUtVN",
    "papermill": {
     "duration": 0.02734,
     "end_time": "2024-04-17T15:01:18.317451",
     "exception": false,
     "start_time": "2024-04-17T15:01:18.290111",
     "status": "completed"
    },
    "tags": []
   },
   "outputs": [],
   "source": [
    "class MyCallback(tf.keras.callbacks.Callback):\n",
    "    def on_epoch_end(self, epoch, logs={}):\n",
    "        if logs.get('val_acc') > 0.995:\n",
    "            print(\"\\nReached accuracy threshold! Terminating training.\")\n",
    "            self.model.stop_training = True\n",
    "\n",
    "my_callback = MyCallback()\n",
    "\n",
    "CALLBACKS = [my_callback, lr_scheduler]"
   ]
  },
  {
   "cell_type": "code",
   "execution_count": 46,
   "id": "3b655fc3",
   "metadata": {
    "execution": {
     "iopub.execute_input": "2024-04-17T15:01:18.356558Z",
     "iopub.status.busy": "2024-04-17T15:01:18.356288Z",
     "iopub.status.idle": "2024-04-17T15:16:29.580310Z",
     "shell.execute_reply": "2024-04-17T15:16:29.579325Z"
    },
    "id": "tSNJSmmMP9zT",
    "outputId": "7d68c083-d5f4-4323-8514-204d0b2c4371",
    "papermill": {
     "duration": 911.246346,
     "end_time": "2024-04-17T15:16:29.582812",
     "exception": false,
     "start_time": "2024-04-17T15:01:18.336466",
     "status": "completed"
    },
    "tags": []
   },
   "outputs": [
    {
     "name": "stdout",
     "output_type": "stream",
     "text": [
      "\n",
      "Epoch 1: LearningRateScheduler setting learning rate to 0.0010000000474974513.\n",
      "Epoch 1/50\n",
      "\u001b[1m  2/256\u001b[0m \u001b[37m━━━━━━━━━━━━━━━━━━━━\u001b[0m \u001b[1m24s\u001b[0m 95ms/step - acc: 0.3203 - auc: 0.5278 - f1_score: 0.1987 - loss: 1.9418   "
     ]
    },
    {
     "name": "stderr",
     "output_type": "stream",
     "text": [
      "WARNING: All log messages before absl::InitializeLog() is called are written to STDERR\n",
      "I0000 00:00:1713366126.153494      71 device_compiler.h:186] Compiled cluster using XLA!  This line is logged at most once for the lifetime of the process.\n",
      "W0000 00:00:1713366126.187021      71 graph_launch.cc:671] Fallback to op-by-op mode because memset node breaks graph update\n"
     ]
    },
    {
     "name": "stdout",
     "output_type": "stream",
     "text": [
      "\u001b[1m256/256\u001b[0m \u001b[32m━━━━━━━━━━━━━━━━━━━━\u001b[0m\u001b[37m\u001b[0m \u001b[1m0s\u001b[0m 58ms/step - acc: 0.3930 - auc: 0.6671 - f1_score: 0.3444 - loss: 1.5295"
     ]
    },
    {
     "name": "stderr",
     "output_type": "stream",
     "text": [
      "W0000 00:00:1713366146.811470      73 graph_launch.cc:671] Fallback to op-by-op mode because memset node breaks graph update\n"
     ]
    },
    {
     "name": "stdout",
     "output_type": "stream",
     "text": [
      "\u001b[1m256/256\u001b[0m \u001b[32m━━━━━━━━━━━━━━━━━━━━\u001b[0m\u001b[37m\u001b[0m \u001b[1m53s\u001b[0m 86ms/step - acc: 0.3931 - auc: 0.6672 - f1_score: 0.3444 - loss: 1.5289 - val_acc: 0.3110 - val_auc: 0.6059 - val_f1_score: 0.2676 - val_loss: 2.8247 - learning_rate: 0.0010\n",
      "\n",
      "Epoch 2: LearningRateScheduler setting learning rate to 0.0010000000474974513.\n",
      "Epoch 2/50\n",
      "\u001b[1m256/256\u001b[0m \u001b[32m━━━━━━━━━━━━━━━━━━━━\u001b[0m\u001b[37m\u001b[0m \u001b[1m16s\u001b[0m 63ms/step - acc: 0.4397 - auc: 0.7510 - f1_score: 0.3670 - loss: 1.1632 - val_acc: 0.4653 - val_auc: 0.7689 - val_f1_score: 0.4136 - val_loss: 1.2266 - learning_rate: 0.0010\n",
      "\n",
      "Epoch 3: LearningRateScheduler setting learning rate to 0.0010000000474974513.\n",
      "Epoch 3/50\n",
      "\u001b[1m256/256\u001b[0m \u001b[32m━━━━━━━━━━━━━━━━━━━━\u001b[0m\u001b[37m\u001b[0m \u001b[1m16s\u001b[0m 64ms/step - acc: 0.4776 - auc: 0.7804 - f1_score: 0.3813 - loss: 1.0703 - val_acc: 0.4951 - val_auc: 0.8002 - val_f1_score: 0.3883 - val_loss: 1.0142 - learning_rate: 0.0010\n",
      "\n",
      "Epoch 4: LearningRateScheduler setting learning rate to 0.0010000000474974513.\n",
      "Epoch 4/50\n",
      "\u001b[1m256/256\u001b[0m \u001b[32m━━━━━━━━━━━━━━━━━━━━\u001b[0m\u001b[37m\u001b[0m \u001b[1m17s\u001b[0m 65ms/step - acc: 0.5261 - auc: 0.8144 - f1_score: 0.4354 - loss: 0.9844 - val_acc: 0.4829 - val_auc: 0.8065 - val_f1_score: 0.4782 - val_loss: 1.0431 - learning_rate: 0.0010\n",
      "\n",
      "Epoch 5: LearningRateScheduler setting learning rate to 0.0010000000474974513.\n",
      "Epoch 5/50\n",
      "\u001b[1m256/256\u001b[0m \u001b[32m━━━━━━━━━━━━━━━━━━━━\u001b[0m\u001b[37m\u001b[0m \u001b[1m17s\u001b[0m 66ms/step - acc: 0.5791 - auc: 0.8458 - f1_score: 0.4956 - loss: 0.9100 - val_acc: 0.5508 - val_auc: 0.8421 - val_f1_score: 0.5094 - val_loss: 0.9915 - learning_rate: 0.0010\n",
      "\n",
      "Epoch 6: LearningRateScheduler setting learning rate to 0.0010000000474974513.\n",
      "Epoch 6/50\n",
      "\u001b[1m256/256\u001b[0m \u001b[32m━━━━━━━━━━━━━━━━━━━━\u001b[0m\u001b[37m\u001b[0m \u001b[1m17s\u001b[0m 66ms/step - acc: 0.6463 - auc: 0.8892 - f1_score: 0.6028 - loss: 0.7772 - val_acc: 0.4556 - val_auc: 0.7378 - val_f1_score: 0.4268 - val_loss: 1.4410 - learning_rate: 0.0010\n",
      "\n",
      "Epoch 7: LearningRateScheduler setting learning rate to 0.0010000000474974513.\n",
      "Epoch 7/50\n",
      "\u001b[1m256/256\u001b[0m \u001b[32m━━━━━━━━━━━━━━━━━━━━\u001b[0m\u001b[37m\u001b[0m \u001b[1m17s\u001b[0m 66ms/step - acc: 0.6923 - auc: 0.9116 - f1_score: 0.6627 - loss: 0.6922 - val_acc: 0.6504 - val_auc: 0.9072 - val_f1_score: 0.6438 - val_loss: 0.7611 - learning_rate: 0.0010\n",
      "\n",
      "Epoch 8: LearningRateScheduler setting learning rate to 0.0010000000474974513.\n",
      "Epoch 8/50\n",
      "\u001b[1m256/256\u001b[0m \u001b[32m━━━━━━━━━━━━━━━━━━━━\u001b[0m\u001b[37m\u001b[0m \u001b[1m20s\u001b[0m 66ms/step - acc: 0.7046 - auc: 0.9212 - f1_score: 0.6779 - loss: 0.6482 - val_acc: 0.4844 - val_auc: 0.8198 - val_f1_score: 0.4812 - val_loss: 1.1393 - learning_rate: 0.0010\n",
      "\n",
      "Epoch 9: LearningRateScheduler setting learning rate to 0.0010000000474974513.\n",
      "Epoch 9/50\n",
      "\u001b[1m256/256\u001b[0m \u001b[32m━━━━━━━━━━━━━━━━━━━━\u001b[0m\u001b[37m\u001b[0m \u001b[1m17s\u001b[0m 66ms/step - acc: 0.7133 - auc: 0.9272 - f1_score: 0.6876 - loss: 0.6235 - val_acc: 0.6851 - val_auc: 0.9224 - val_f1_score: 0.6699 - val_loss: 0.6249 - learning_rate: 0.0010\n",
      "\n",
      "Epoch 10: LearningRateScheduler setting learning rate to 0.0010000000474974513.\n",
      "Epoch 10/50\n",
      "\u001b[1m256/256\u001b[0m \u001b[32m━━━━━━━━━━━━━━━━━━━━\u001b[0m\u001b[37m\u001b[0m \u001b[1m17s\u001b[0m 66ms/step - acc: 0.7279 - auc: 0.9340 - f1_score: 0.7106 - loss: 0.5884 - val_acc: 0.7051 - val_auc: 0.9310 - val_f1_score: 0.7010 - val_loss: 0.6006 - learning_rate: 0.0010\n",
      "\n",
      "Epoch 11: LearningRateScheduler setting learning rate to 0.0010000000474974513.\n",
      "Epoch 11/50\n",
      "\u001b[1m256/256\u001b[0m \u001b[32m━━━━━━━━━━━━━━━━━━━━\u001b[0m\u001b[37m\u001b[0m \u001b[1m17s\u001b[0m 66ms/step - acc: 0.7404 - auc: 0.9396 - f1_score: 0.7290 - loss: 0.5681 - val_acc: 0.6357 - val_auc: 0.8747 - val_f1_score: 0.6230 - val_loss: 0.8626 - learning_rate: 0.0010\n",
      "\n",
      "Epoch 12: LearningRateScheduler setting learning rate to 0.0010000000474974513.\n",
      "Epoch 12/50\n",
      "\u001b[1m256/256\u001b[0m \u001b[32m━━━━━━━━━━━━━━━━━━━━\u001b[0m\u001b[37m\u001b[0m \u001b[1m17s\u001b[0m 66ms/step - acc: 0.7621 - auc: 0.9472 - f1_score: 0.7571 - loss: 0.5351 - val_acc: 0.6558 - val_auc: 0.8894 - val_f1_score: 0.6377 - val_loss: 0.8160 - learning_rate: 0.0010\n",
      "\n",
      "Epoch 13: LearningRateScheduler setting learning rate to 0.0010000000474974513.\n",
      "Epoch 13/50\n",
      "\u001b[1m256/256\u001b[0m \u001b[32m━━━━━━━━━━━━━━━━━━━━\u001b[0m\u001b[37m\u001b[0m \u001b[1m17s\u001b[0m 66ms/step - acc: 0.7873 - auc: 0.9543 - f1_score: 0.7832 - loss: 0.4949 - val_acc: 0.7524 - val_auc: 0.9470 - val_f1_score: 0.7530 - val_loss: 0.5279 - learning_rate: 0.0010\n",
      "\n",
      "Epoch 14: LearningRateScheduler setting learning rate to 0.0010000000474974513.\n",
      "Epoch 14/50\n",
      "\u001b[1m256/256\u001b[0m \u001b[32m━━━━━━━━━━━━━━━━━━━━\u001b[0m\u001b[37m\u001b[0m \u001b[1m17s\u001b[0m 66ms/step - acc: 0.8084 - auc: 0.9621 - f1_score: 0.8075 - loss: 0.4518 - val_acc: 0.6807 - val_auc: 0.9223 - val_f1_score: 0.6812 - val_loss: 0.6922 - learning_rate: 0.0010\n",
      "\n",
      "Epoch 15: LearningRateScheduler setting learning rate to 0.0010000000474974513.\n",
      "Epoch 15/50\n",
      "\u001b[1m256/256\u001b[0m \u001b[32m━━━━━━━━━━━━━━━━━━━━\u001b[0m\u001b[37m\u001b[0m \u001b[1m17s\u001b[0m 66ms/step - acc: 0.8198 - auc: 0.9658 - f1_score: 0.8182 - loss: 0.4252 - val_acc: 0.8066 - val_auc: 0.9579 - val_f1_score: 0.8017 - val_loss: 0.4874 - learning_rate: 0.0010\n",
      "\n",
      "Epoch 16: LearningRateScheduler setting learning rate to 0.0010000000474974513.\n",
      "Epoch 16/50\n",
      "\u001b[1m256/256\u001b[0m \u001b[32m━━━━━━━━━━━━━━━━━━━━\u001b[0m\u001b[37m\u001b[0m \u001b[1m17s\u001b[0m 66ms/step - acc: 0.8720 - auc: 0.9794 - f1_score: 0.8721 - loss: 0.3306 - val_acc: 0.8662 - val_auc: 0.9795 - val_f1_score: 0.8688 - val_loss: 0.3339 - learning_rate: 0.0010\n",
      "\n",
      "Epoch 17: LearningRateScheduler setting learning rate to 0.0010000000474974513.\n",
      "Epoch 17/50\n",
      "\u001b[1m256/256\u001b[0m \u001b[32m━━━━━━━━━━━━━━━━━━━━\u001b[0m\u001b[37m\u001b[0m \u001b[1m17s\u001b[0m 66ms/step - acc: 0.8913 - auc: 0.9850 - f1_score: 0.8909 - loss: 0.2819 - val_acc: 0.8579 - val_auc: 0.9786 - val_f1_score: 0.8576 - val_loss: 0.3413 - learning_rate: 0.0010\n",
      "\n",
      "Epoch 18: LearningRateScheduler setting learning rate to 0.0010000000474974513.\n",
      "Epoch 18/50\n",
      "\u001b[1m256/256\u001b[0m \u001b[32m━━━━━━━━━━━━━━━━━━━━\u001b[0m\u001b[37m\u001b[0m \u001b[1m17s\u001b[0m 66ms/step - acc: 0.8983 - auc: 0.9860 - f1_score: 0.8998 - loss: 0.2668 - val_acc: 0.8662 - val_auc: 0.9684 - val_f1_score: 0.8628 - val_loss: 0.5143 - learning_rate: 0.0010\n",
      "\n",
      "Epoch 19: LearningRateScheduler setting learning rate to 0.0010000000474974513.\n",
      "Epoch 19/50\n",
      "\u001b[1m256/256\u001b[0m \u001b[32m━━━━━━━━━━━━━━━━━━━━\u001b[0m\u001b[37m\u001b[0m \u001b[1m17s\u001b[0m 66ms/step - acc: 0.9250 - auc: 0.9904 - f1_score: 0.9246 - loss: 0.2149 - val_acc: 0.7979 - val_auc: 0.9639 - val_f1_score: 0.7960 - val_loss: 0.5086 - learning_rate: 0.0010\n",
      "\n",
      "Epoch 20: LearningRateScheduler setting learning rate to 0.0010000000474974513.\n",
      "Epoch 20/50\n",
      "\u001b[1m256/256\u001b[0m \u001b[32m━━━━━━━━━━━━━━━━━━━━\u001b[0m\u001b[37m\u001b[0m \u001b[1m17s\u001b[0m 66ms/step - acc: 0.9320 - auc: 0.9926 - f1_score: 0.9321 - loss: 0.1875 - val_acc: 0.8125 - val_auc: 0.9603 - val_f1_score: 0.8123 - val_loss: 0.5374 - learning_rate: 0.0010\n",
      "\n",
      "Epoch 21: LearningRateScheduler setting learning rate to 0.0009500000451225787.\n",
      "Epoch 21/50\n",
      "\u001b[1m256/256\u001b[0m \u001b[32m━━━━━━━━━━━━━━━━━━━━\u001b[0m\u001b[37m\u001b[0m \u001b[1m17s\u001b[0m 66ms/step - acc: 0.9485 - auc: 0.9954 - f1_score: 0.9483 - loss: 0.1479 - val_acc: 0.8579 - val_auc: 0.9741 - val_f1_score: 0.8588 - val_loss: 0.4265 - learning_rate: 9.5000e-04\n",
      "\n",
      "Epoch 22: LearningRateScheduler setting learning rate to 0.0009500000160187483.\n",
      "Epoch 22/50\n",
      "\u001b[1m256/256\u001b[0m \u001b[32m━━━━━━━━━━━━━━━━━━━━\u001b[0m\u001b[37m\u001b[0m \u001b[1m17s\u001b[0m 66ms/step - acc: 0.9587 - auc: 0.9966 - f1_score: 0.9585 - loss: 0.1203 - val_acc: 0.9414 - val_auc: 0.9944 - val_f1_score: 0.9420 - val_loss: 0.1670 - learning_rate: 9.5000e-04\n",
      "\n",
      "Epoch 23: LearningRateScheduler setting learning rate to 0.0009025000152178108.\n",
      "Epoch 23/50\n",
      "\u001b[1m256/256\u001b[0m \u001b[32m━━━━━━━━━━━━━━━━━━━━\u001b[0m\u001b[37m\u001b[0m \u001b[1m17s\u001b[0m 66ms/step - acc: 0.9529 - auc: 0.9956 - f1_score: 0.9533 - loss: 0.1369 - val_acc: 0.8677 - val_auc: 0.9744 - val_f1_score: 0.8683 - val_loss: 0.3952 - learning_rate: 9.0250e-04\n",
      "\n",
      "Epoch 24: LearningRateScheduler setting learning rate to 0.0009025000035762787.\n",
      "Epoch 24/50\n",
      "\u001b[1m256/256\u001b[0m \u001b[32m━━━━━━━━━━━━━━━━━━━━\u001b[0m\u001b[37m\u001b[0m \u001b[1m17s\u001b[0m 66ms/step - acc: 0.9649 - auc: 0.9967 - f1_score: 0.9643 - loss: 0.1086 - val_acc: 0.8691 - val_auc: 0.9767 - val_f1_score: 0.8686 - val_loss: 0.4044 - learning_rate: 9.0250e-04\n",
      "\n",
      "Epoch 25: LearningRateScheduler setting learning rate to 0.0008573750033974647.\n",
      "Epoch 25/50\n",
      "\u001b[1m256/256\u001b[0m \u001b[32m━━━━━━━━━━━━━━━━━━━━\u001b[0m\u001b[37m\u001b[0m \u001b[1m17s\u001b[0m 66ms/step - acc: 0.9717 - auc: 0.9974 - f1_score: 0.9708 - loss: 0.0884 - val_acc: 0.9307 - val_auc: 0.9919 - val_f1_score: 0.9315 - val_loss: 0.2233 - learning_rate: 8.5737e-04\n",
      "\n",
      "Epoch 26: LearningRateScheduler setting learning rate to 0.0008573749801144004.\n",
      "Epoch 26/50\n",
      "\u001b[1m256/256\u001b[0m \u001b[32m━━━━━━━━━━━━━━━━━━━━\u001b[0m\u001b[37m\u001b[0m \u001b[1m17s\u001b[0m 66ms/step - acc: 0.9745 - auc: 0.9976 - f1_score: 0.9746 - loss: 0.0830 - val_acc: 0.8506 - val_auc: 0.9611 - val_f1_score: 0.8515 - val_loss: 0.5721 - learning_rate: 8.5737e-04\n",
      "\n",
      "Epoch 27: LearningRateScheduler setting learning rate to 0.0008145062311086804.\n",
      "Epoch 27/50\n",
      "\u001b[1m256/256\u001b[0m \u001b[32m━━━━━━━━━━━━━━━━━━━━\u001b[0m\u001b[37m\u001b[0m \u001b[1m17s\u001b[0m 66ms/step - acc: 0.9811 - auc: 0.9988 - f1_score: 0.9812 - loss: 0.0582 - val_acc: 0.9414 - val_auc: 0.9866 - val_f1_score: 0.9414 - val_loss: 0.2281 - learning_rate: 8.1451e-04\n",
      "\n",
      "Epoch 28: LearningRateScheduler setting learning rate to 0.0008145062020048499.\n",
      "Epoch 28/50\n",
      "\u001b[1m256/256\u001b[0m \u001b[32m━━━━━━━━━━━━━━━━━━━━\u001b[0m\u001b[37m\u001b[0m \u001b[1m17s\u001b[0m 66ms/step - acc: 0.9744 - auc: 0.9983 - f1_score: 0.9748 - loss: 0.0761 - val_acc: 0.8081 - val_auc: 0.9459 - val_f1_score: 0.8079 - val_loss: 0.7275 - learning_rate: 8.1451e-04\n",
      "\n",
      "Epoch 29: LearningRateScheduler setting learning rate to 0.0007737808919046074.\n",
      "Epoch 29/50\n",
      "\u001b[1m256/256\u001b[0m \u001b[32m━━━━━━━━━━━━━━━━━━━━\u001b[0m\u001b[37m\u001b[0m \u001b[1m17s\u001b[0m 66ms/step - acc: 0.9763 - auc: 0.9984 - f1_score: 0.9764 - loss: 0.0717 - val_acc: 0.9526 - val_auc: 0.9960 - val_f1_score: 0.9528 - val_loss: 0.1397 - learning_rate: 7.7378e-04\n",
      "\n",
      "Epoch 30: LearningRateScheduler setting learning rate to 0.000773780862800777.\n",
      "Epoch 30/50\n",
      "\u001b[1m256/256\u001b[0m \u001b[32m━━━━━━━━━━━━━━━━━━━━\u001b[0m\u001b[37m\u001b[0m \u001b[1m17s\u001b[0m 66ms/step - acc: 0.9835 - auc: 0.9989 - f1_score: 0.9836 - loss: 0.0524 - val_acc: 0.9067 - val_auc: 0.9865 - val_f1_score: 0.9058 - val_loss: 0.2793 - learning_rate: 7.7378e-04\n",
      "\n",
      "Epoch 31: LearningRateScheduler setting learning rate to 0.000735091819660738.\n",
      "Epoch 31/50\n",
      "\u001b[1m256/256\u001b[0m \u001b[32m━━━━━━━━━━━━━━━━━━━━\u001b[0m\u001b[37m\u001b[0m \u001b[1m17s\u001b[0m 66ms/step - acc: 0.9835 - auc: 0.9989 - f1_score: 0.9833 - loss: 0.0517 - val_acc: 0.9453 - val_auc: 0.9936 - val_f1_score: 0.9453 - val_loss: 0.1728 - learning_rate: 7.3509e-04\n",
      "\n",
      "Epoch 32: LearningRateScheduler setting learning rate to 0.0007350918021984398.\n",
      "Epoch 32/50\n",
      "\u001b[1m256/256\u001b[0m \u001b[32m━━━━━━━━━━━━━━━━━━━━\u001b[0m\u001b[37m\u001b[0m \u001b[1m17s\u001b[0m 66ms/step - acc: 0.9858 - auc: 0.9991 - f1_score: 0.9858 - loss: 0.0453 - val_acc: 0.9497 - val_auc: 0.9917 - val_f1_score: 0.9502 - val_loss: 0.1669 - learning_rate: 7.3509e-04\n",
      "\n",
      "Epoch 33: LearningRateScheduler setting learning rate to 0.0006983372120885178.\n",
      "Epoch 33/50\n",
      "\u001b[1m256/256\u001b[0m \u001b[32m━━━━━━━━━━━━━━━━━━━━\u001b[0m\u001b[37m\u001b[0m \u001b[1m17s\u001b[0m 66ms/step - acc: 0.9905 - auc: 0.9993 - f1_score: 0.9903 - loss: 0.0347 - val_acc: 0.9648 - val_auc: 0.9939 - val_f1_score: 0.9646 - val_loss: 0.1317 - learning_rate: 6.9834e-04\n",
      "\n",
      "Epoch 34: LearningRateScheduler setting learning rate to 0.0006983372149989009.\n",
      "Epoch 34/50\n",
      "\u001b[1m256/256\u001b[0m \u001b[32m━━━━━━━━━━━━━━━━━━━━\u001b[0m\u001b[37m\u001b[0m \u001b[1m17s\u001b[0m 66ms/step - acc: 0.9903 - auc: 0.9993 - f1_score: 0.9904 - loss: 0.0318 - val_acc: 0.9077 - val_auc: 0.9841 - val_f1_score: 0.9077 - val_loss: 0.3166 - learning_rate: 6.9834e-04\n",
      "\n",
      "Epoch 35: LearningRateScheduler setting learning rate to 0.0006634203542489559.\n",
      "Epoch 35/50\n",
      "\u001b[1m256/256\u001b[0m \u001b[32m━━━━━━━━━━━━━━━━━━━━\u001b[0m\u001b[37m\u001b[0m \u001b[1m17s\u001b[0m 66ms/step - acc: 0.9858 - auc: 0.9994 - f1_score: 0.9859 - loss: 0.0437 - val_acc: 0.8867 - val_auc: 0.9753 - val_f1_score: 0.8875 - val_loss: 0.4101 - learning_rate: 6.6342e-04\n",
      "\n",
      "Epoch 36: LearningRateScheduler setting learning rate to 0.0006634203600697219.\n",
      "Epoch 36/50\n",
      "\u001b[1m256/256\u001b[0m \u001b[32m━━━━━━━━━━━━━━━━━━━━\u001b[0m\u001b[37m\u001b[0m \u001b[1m17s\u001b[0m 66ms/step - acc: 0.9897 - auc: 0.9991 - f1_score: 0.9896 - loss: 0.0357 - val_acc: 0.9585 - val_auc: 0.9946 - val_f1_score: 0.9587 - val_loss: 0.1451 - learning_rate: 6.6342e-04\n",
      "\n",
      "Epoch 37: LearningRateScheduler setting learning rate to 0.0006302493420662358.\n",
      "Epoch 37/50\n",
      "\u001b[1m256/256\u001b[0m \u001b[32m━━━━━━━━━━━━━━━━━━━━\u001b[0m\u001b[37m\u001b[0m \u001b[1m17s\u001b[0m 66ms/step - acc: 0.9894 - auc: 0.9991 - f1_score: 0.9894 - loss: 0.0396 - val_acc: 0.9629 - val_auc: 0.9960 - val_f1_score: 0.9631 - val_loss: 0.1235 - learning_rate: 6.3025e-04\n",
      "\n",
      "Epoch 38: LearningRateScheduler setting learning rate to 0.0006302493275143206.\n",
      "Epoch 38/50\n",
      "\u001b[1m256/256\u001b[0m \u001b[32m━━━━━━━━━━━━━━━━━━━━\u001b[0m\u001b[37m\u001b[0m \u001b[1m17s\u001b[0m 66ms/step - acc: 0.9908 - auc: 0.9996 - f1_score: 0.9905 - loss: 0.0322 - val_acc: 0.9692 - val_auc: 0.9954 - val_f1_score: 0.9692 - val_loss: 0.1037 - learning_rate: 6.3025e-04\n",
      "\n",
      "Epoch 39: LearningRateScheduler setting learning rate to 0.0005987368611386045.\n",
      "Epoch 39/50\n",
      "\u001b[1m256/256\u001b[0m \u001b[32m━━━━━━━━━━━━━━━━━━━━\u001b[0m\u001b[37m\u001b[0m \u001b[1m17s\u001b[0m 66ms/step - acc: 0.9925 - auc: 0.9995 - f1_score: 0.9926 - loss: 0.0272 - val_acc: 0.9360 - val_auc: 0.9885 - val_f1_score: 0.9360 - val_loss: 0.2328 - learning_rate: 5.9874e-04\n",
      "\n",
      "Epoch 40: LearningRateScheduler setting learning rate to 0.0005987368640489876.\n",
      "Epoch 40/50\n",
      "\u001b[1m256/256\u001b[0m \u001b[32m━━━━━━━━━━━━━━━━━━━━\u001b[0m\u001b[37m\u001b[0m \u001b[1m17s\u001b[0m 66ms/step - acc: 0.9939 - auc: 0.9997 - f1_score: 0.9939 - loss: 0.0229 - val_acc: 0.9775 - val_auc: 0.9965 - val_f1_score: 0.9778 - val_loss: 0.0879 - learning_rate: 5.9874e-04\n",
      "\n",
      "Epoch 41: LearningRateScheduler setting learning rate to 0.0005688000208465382.\n",
      "Epoch 41/50\n",
      "\u001b[1m256/256\u001b[0m \u001b[32m━━━━━━━━━━━━━━━━━━━━\u001b[0m\u001b[37m\u001b[0m \u001b[1m20s\u001b[0m 66ms/step - acc: 0.9942 - auc: 0.9998 - f1_score: 0.9942 - loss: 0.0180 - val_acc: 0.9722 - val_auc: 0.9953 - val_f1_score: 0.9724 - val_loss: 0.1081 - learning_rate: 5.6880e-04\n",
      "\n",
      "Epoch 42: LearningRateScheduler setting learning rate to 0.0005688000237569213.\n",
      "Epoch 42/50\n",
      "\u001b[1m256/256\u001b[0m \u001b[32m━━━━━━━━━━━━━━━━━━━━\u001b[0m\u001b[37m\u001b[0m \u001b[1m20s\u001b[0m 66ms/step - acc: 0.9879 - auc: 0.9994 - f1_score: 0.9883 - loss: 0.0394 - val_acc: 0.9702 - val_auc: 0.9963 - val_f1_score: 0.9702 - val_loss: 0.0983 - learning_rate: 5.6880e-04\n",
      "\n",
      "Epoch 43: LearningRateScheduler setting learning rate to 0.0005403600225690752.\n",
      "Epoch 43/50\n",
      "\u001b[1m256/256\u001b[0m \u001b[32m━━━━━━━━━━━━━━━━━━━━\u001b[0m\u001b[37m\u001b[0m \u001b[1m17s\u001b[0m 66ms/step - acc: 0.9921 - auc: 0.9992 - f1_score: 0.9923 - loss: 0.0304 - val_acc: 0.9780 - val_auc: 0.9979 - val_f1_score: 0.9780 - val_loss: 0.0674 - learning_rate: 5.4036e-04\n",
      "\n",
      "Epoch 44: LearningRateScheduler setting learning rate to 0.0005403599934652448.\n",
      "Epoch 44/50\n",
      "\u001b[1m256/256\u001b[0m \u001b[32m━━━━━━━━━━━━━━━━━━━━\u001b[0m\u001b[37m\u001b[0m \u001b[1m17s\u001b[0m 65ms/step - acc: 0.9964 - auc: 0.9999 - f1_score: 0.9963 - loss: 0.0142 - val_acc: 0.9824 - val_auc: 0.9972 - val_f1_score: 0.9824 - val_loss: 0.0639 - learning_rate: 5.4036e-04\n",
      "\n",
      "Epoch 45: LearningRateScheduler setting learning rate to 0.0005133419937919825.\n",
      "Epoch 45/50\n",
      "\u001b[1m256/256\u001b[0m \u001b[32m━━━━━━━━━━━━━━━━━━━━\u001b[0m\u001b[37m\u001b[0m \u001b[1m21s\u001b[0m 66ms/step - acc: 0.9959 - auc: 0.9999 - f1_score: 0.9959 - loss: 0.0125 - val_acc: 0.9126 - val_auc: 0.9837 - val_f1_score: 0.9126 - val_loss: 0.3224 - learning_rate: 5.1334e-04\n",
      "\n",
      "Epoch 46: LearningRateScheduler setting learning rate to 0.0005133419763296843.\n",
      "Epoch 46/50\n",
      "\u001b[1m256/256\u001b[0m \u001b[32m━━━━━━━━━━━━━━━━━━━━\u001b[0m\u001b[37m\u001b[0m \u001b[1m17s\u001b[0m 66ms/step - acc: 0.9937 - auc: 0.9997 - f1_score: 0.9936 - loss: 0.0215 - val_acc: 0.9707 - val_auc: 0.9945 - val_f1_score: 0.9707 - val_loss: 0.1100 - learning_rate: 5.1334e-04\n",
      "\n",
      "Epoch 47: LearningRateScheduler setting learning rate to 0.0004876748775132.\n",
      "Epoch 47/50\n",
      "\u001b[1m256/256\u001b[0m \u001b[32m━━━━━━━━━━━━━━━━━━━━\u001b[0m\u001b[37m\u001b[0m \u001b[1m17s\u001b[0m 66ms/step - acc: 0.9928 - auc: 0.9994 - f1_score: 0.9929 - loss: 0.0248 - val_acc: 0.9668 - val_auc: 0.9938 - val_f1_score: 0.9668 - val_loss: 0.1316 - learning_rate: 4.8767e-04\n",
      "\n",
      "Epoch 48: LearningRateScheduler setting learning rate to 0.00048767487169243395.\n",
      "Epoch 48/50\n",
      "\u001b[1m256/256\u001b[0m \u001b[32m━━━━━━━━━━━━━━━━━━━━\u001b[0m\u001b[37m\u001b[0m \u001b[1m17s\u001b[0m 66ms/step - acc: 0.9953 - auc: 0.9999 - f1_score: 0.9953 - loss: 0.0155 - val_acc: 0.9736 - val_auc: 0.9942 - val_f1_score: 0.9736 - val_loss: 0.1123 - learning_rate: 4.8767e-04\n",
      "\n",
      "Epoch 49: LearningRateScheduler setting learning rate to 0.00046329112810781223.\n",
      "Epoch 49/50\n",
      "\u001b[1m256/256\u001b[0m \u001b[32m━━━━━━━━━━━━━━━━━━━━\u001b[0m\u001b[37m\u001b[0m \u001b[1m17s\u001b[0m 66ms/step - acc: 0.9945 - auc: 1.0000 - f1_score: 0.9948 - loss: 0.0155 - val_acc: 0.9761 - val_auc: 0.9957 - val_f1_score: 0.9758 - val_loss: 0.0937 - learning_rate: 4.6329e-04\n",
      "\n",
      "Epoch 50: LearningRateScheduler setting learning rate to 0.0004632911295630038.\n",
      "Epoch 50/50\n",
      "\u001b[1m256/256\u001b[0m \u001b[32m━━━━━━━━━━━━━━━━━━━━\u001b[0m\u001b[37m\u001b[0m \u001b[1m17s\u001b[0m 65ms/step - acc: 0.9953 - auc: 0.9997 - f1_score: 0.9953 - loss: 0.0141 - val_acc: 0.9731 - val_auc: 0.9928 - val_f1_score: 0.9731 - val_loss: 0.1275 - learning_rate: 4.6329e-04\n"
     ]
    }
   ],
   "source": [
    "EPOCHS = 50\n",
    "\n",
    "history = model.fit(train_images, train_labels_encoded, validation_data=(test_images, test_labels_encoded), callbacks=CALLBACKS, epochs=EPOCHS)"
   ]
  },
  {
   "cell_type": "code",
   "execution_count": 47,
   "id": "60bf672c",
   "metadata": {
    "execution": {
     "iopub.execute_input": "2024-04-17T15:16:31.905606Z",
     "iopub.status.busy": "2024-04-17T15:16:31.893387Z",
     "iopub.status.idle": "2024-04-17T15:16:31.909654Z",
     "shell.execute_reply": "2024-04-17T15:16:31.908731Z"
    },
    "id": "e7251e1c",
    "papermill": {
     "duration": 1.160809,
     "end_time": "2024-04-17T15:16:31.911512",
     "exception": false,
     "start_time": "2024-04-17T15:16:30.750703",
     "status": "completed"
    },
    "tags": []
   },
   "outputs": [],
   "source": [
    "\n",
    "\n",
    "# # Assuming train_images and test_images are your input image data\n",
    "\n",
    "\n",
    "# model = Sequential()\n",
    "# model.add(Input(shape=input_shape))\n",
    "# model.add(Conv2D(64, (3, 3), activation='relu'))\n",
    "# model.add(MaxPooling2D((2, 2)))\n",
    "# model.add(Conv2D(128, (3, 3), activation='relu'))\n",
    "# model.add(MaxPooling2D((2, 2)))\n",
    "# model.add(Conv2D(256, (3, 3), activation='relu'))\n",
    "# model.add(MaxPooling2D((2, 2)))\n",
    "# model.add(Dropout(0.2))\n",
    "# model.add(Flatten())\n",
    "# model.add(Dense(512, activation='relu'))\n",
    "# model.add(Dropout(0.5))\n",
    "# model.add(Dense(4, activation='softmax'))\n"
   ]
  },
  {
   "cell_type": "code",
   "execution_count": null,
   "id": "41c1c187",
   "metadata": {
    "execution": {
     "iopub.execute_input": "2024-04-16T17:21:29.933009Z",
     "iopub.status.busy": "2024-04-16T17:21:29.932077Z",
     "iopub.status.idle": "2024-04-16T17:21:29.945755Z",
     "shell.execute_reply": "2024-04-16T17:21:29.944971Z"
    },
    "id": "6a21f88e",
    "papermill": {
     "duration": 1.145911,
     "end_time": "2024-04-17T15:16:34.135337",
     "exception": false,
     "start_time": "2024-04-17T15:16:32.989426",
     "status": "completed"
    },
    "tags": []
   },
   "outputs": [],
   "source": []
  },
  {
   "cell_type": "code",
   "execution_count": 48,
   "id": "fbae6a37",
   "metadata": {
    "execution": {
     "iopub.execute_input": "2024-04-17T15:16:36.350701Z",
     "iopub.status.busy": "2024-04-17T15:16:36.350241Z",
     "iopub.status.idle": "2024-04-17T15:16:36.354812Z",
     "shell.execute_reply": "2024-04-17T15:16:36.353849Z"
    },
    "id": "743ad80f",
    "papermill": {
     "duration": 1.091758,
     "end_time": "2024-04-17T15:16:36.356851",
     "exception": false,
     "start_time": "2024-04-17T15:16:35.265093",
     "status": "completed"
    },
    "tags": []
   },
   "outputs": [],
   "source": [
    "# import math\n",
    "# model.compile(optimizer=optimizer, loss='categorical_crossentropy', metrics=['accuracy'])\n",
    "\n",
    "# history = model.fit(train_images, train_labels_encoded,\n",
    "#                     steps_per_epoch = int(len(train_images) / 32),\n",
    "#                     epochs=50,\n",
    "#                     validation_data=(test_images, test_labels_encoded),\n",
    "#                     sample_weight=sample_weights,\n",
    "#                     callbacks=[lr_scheduler])"
   ]
  },
  {
   "cell_type": "code",
   "execution_count": 49,
   "id": "13c2aa04",
   "metadata": {
    "execution": {
     "iopub.execute_input": "2024-04-17T15:16:38.720795Z",
     "iopub.status.busy": "2024-04-17T15:16:38.719803Z",
     "iopub.status.idle": "2024-04-17T15:16:45.125821Z",
     "shell.execute_reply": "2024-04-17T15:16:45.124691Z"
    },
    "id": "1dbe1778",
    "outputId": "a6c97217-ae85-4fa9-9dbb-66453758299a",
    "papermill": {
     "duration": 7.605947,
     "end_time": "2024-04-17T15:16:45.127949",
     "exception": false,
     "start_time": "2024-04-17T15:16:37.522002",
     "status": "completed"
    },
    "tags": []
   },
   "outputs": [
    {
     "name": "stdout",
     "output_type": "stream",
     "text": [
      "\u001b[1m10/64\u001b[0m \u001b[32m━━━\u001b[0m\u001b[37m━━━━━━━━━━━━━━━━━\u001b[0m \u001b[1m1s\u001b[0m 19ms/step"
     ]
    },
    {
     "name": "stderr",
     "output_type": "stream",
     "text": [
      "W0000 00:00:1713367003.938676      70 graph_launch.cc:671] Fallback to op-by-op mode because memset node breaks graph update\n"
     ]
    },
    {
     "name": "stdout",
     "output_type": "stream",
     "text": [
      "\u001b[1m64/64\u001b[0m \u001b[32m━━━━━━━━━━━━━━━━━━━━\u001b[0m\u001b[37m\u001b[0m \u001b[1m2s\u001b[0m 14ms/step\n",
      "ROC AUC: 0.9983341461430678\n"
     ]
    }
   ],
   "source": [
    "import tensorflow as tf\n",
    "import numpy as np\n",
    "from sklearn.metrics import roc_auc_score\n",
    "\n",
    "y_prob = model.predict(test_images)\n",
    "y_prob = tf.nn.softmax(y_prob).numpy()\n",
    "\n",
    "# Compute ROC AUC for each class\n",
    "roc_auc = roc_auc_score(test_labels_encoded, y_prob, average='macro')\n",
    "\n",
    "print(\"ROC AUC:\", roc_auc)"
   ]
  },
  {
   "cell_type": "code",
   "execution_count": 50,
   "id": "2d78ff00",
   "metadata": {
    "execution": {
     "iopub.execute_input": "2024-04-17T15:16:47.362770Z",
     "iopub.status.busy": "2024-04-17T15:16:47.361981Z",
     "iopub.status.idle": "2024-04-17T15:16:47.646612Z",
     "shell.execute_reply": "2024-04-17T15:16:47.645620Z"
    },
    "id": "2bfe3e43",
    "outputId": "78eb29de-2ce9-4393-a4db-d7b849f30bf5",
    "papermill": {
     "duration": 1.419736,
     "end_time": "2024-04-17T15:16:47.648554",
     "exception": false,
     "start_time": "2024-04-17T15:16:46.228818",
     "status": "completed"
    },
    "tags": []
   },
   "outputs": [
    {
     "data": {
      "text/plain": [
       "1279"
      ]
     },
     "execution_count": 50,
     "metadata": {},
     "output_type": "execute_result"
    }
   ],
   "source": [
    "import os\n",
    "import numpy as np\n",
    "directory = '/kaggle/input/betterest-preproc/test'\n",
    "\n",
    "files = [file for file in os.listdir(directory) if file.endswith('.npy')]\n",
    "len(files)"
   ]
  },
  {
   "cell_type": "code",
   "execution_count": 51,
   "id": "9d729fda",
   "metadata": {
    "execution": {
     "iopub.execute_input": "2024-04-17T15:16:49.821433Z",
     "iopub.status.busy": "2024-04-17T15:16:49.820556Z",
     "iopub.status.idle": "2024-04-17T15:16:49.827722Z",
     "shell.execute_reply": "2024-04-17T15:16:49.826841Z"
    },
    "id": "46171fd0",
    "outputId": "1d798d80-7117-4d28-d9d0-9a15e7d9b252",
    "papermill": {
     "duration": 1.107464,
     "end_time": "2024-04-17T15:16:49.830050",
     "exception": false,
     "start_time": "2024-04-17T15:16:48.722586",
     "status": "completed"
    },
    "tags": []
   },
   "outputs": [
    {
     "name": "stdout",
     "output_type": "stream",
     "text": [
      "179 12 640 448\n"
     ]
    }
   ],
   "source": [
    "mildDem = [i for i in files if i.startswith(\"MildDem\")]\n",
    "moderateDem = [i for i in files if \"ModerateDem\" in i]\n",
    "nonDem = [i for i in files if \"NonDem\" in i]\n",
    "veryMild = [i for i in files if \"VeryMildDem\" in i]\n",
    "print(len(mildDem), len(moderateDem), len(nonDem), len(veryMild))"
   ]
  },
  {
   "cell_type": "code",
   "execution_count": 52,
   "id": "462bd13f",
   "metadata": {
    "execution": {
     "iopub.execute_input": "2024-04-17T15:16:52.098405Z",
     "iopub.status.busy": "2024-04-17T15:16:52.098046Z",
     "iopub.status.idle": "2024-04-17T15:16:52.123781Z",
     "shell.execute_reply": "2024-04-17T15:16:52.122845Z"
    },
    "id": "e5d590d6",
    "outputId": "600c6f73-20c8-4423-b079-cfffcbc16536",
    "papermill": {
     "duration": 1.1658,
     "end_time": "2024-04-17T15:16:52.125654",
     "exception": false,
     "start_time": "2024-04-17T15:16:50.959854",
     "status": "completed"
    },
    "tags": []
   },
   "outputs": [
    {
     "data": {
      "text/plain": [
       "Class\n",
       "2    640\n",
       "3    448\n",
       "0    179\n",
       "1     12\n",
       "Name: count, dtype: int64"
      ]
     },
     "execution_count": 52,
     "metadata": {},
     "output_type": "execute_result"
    }
   ],
   "source": [
    "import pandas as pd\n",
    "l = [[mildDem, 0], [moderateDem, 1], [nonDem, 2], [veryMild, 3]]\n",
    "x = []\n",
    "for i in l:\n",
    "    for j in i[0]:\n",
    "        path = os.path.join(\"/kaggle/input/betterest-preproc/test\", j)\n",
    "        x.append([i[1], path])\n",
    "\n",
    "df = pd.DataFrame(x, columns=[\"Class\", \"Path\"])\n",
    "df[\"Class\"].value_counts()\n"
   ]
  },
  {
   "cell_type": "code",
   "execution_count": 53,
   "id": "af2ed290",
   "metadata": {
    "execution": {
     "iopub.execute_input": "2024-04-17T15:16:54.369456Z",
     "iopub.status.busy": "2024-04-17T15:16:54.368617Z",
     "iopub.status.idle": "2024-04-17T15:17:00.025626Z",
     "shell.execute_reply": "2024-04-17T15:17:00.024715Z"
    },
    "id": "e8bf69dd",
    "papermill": {
     "duration": 6.83494,
     "end_time": "2024-04-17T15:17:00.028272",
     "exception": false,
     "start_time": "2024-04-17T15:16:53.193332",
     "status": "completed"
    },
    "tags": []
   },
   "outputs": [],
   "source": [
    "images = []\n",
    "for i in df[\"Path\"]:\n",
    "    images.append(np.load(i))\n",
    "images = np.array(images)"
   ]
  },
  {
   "cell_type": "code",
   "execution_count": 54,
   "id": "0873a3cc",
   "metadata": {
    "execution": {
     "iopub.execute_input": "2024-04-17T15:17:02.193263Z",
     "iopub.status.busy": "2024-04-17T15:17:02.192530Z",
     "iopub.status.idle": "2024-04-17T15:17:02.198224Z",
     "shell.execute_reply": "2024-04-17T15:17:02.197325Z"
    },
    "id": "c76f8fe5",
    "outputId": "2ce8d7b7-02bb-4732-ce0b-bd1af44e996d",
    "papermill": {
     "duration": 1.09669,
     "end_time": "2024-04-17T15:17:02.200517",
     "exception": false,
     "start_time": "2024-04-17T15:17:01.103827",
     "status": "completed"
    },
    "tags": []
   },
   "outputs": [
    {
     "name": "stdout",
     "output_type": "stream",
     "text": [
      "(1279, 4)\n"
     ]
    }
   ],
   "source": [
    "labels = df[\"Class\"]\n",
    "labels = to_categorical(labels, num_classes=4)\n",
    "print(labels.shape)"
   ]
  },
  {
   "cell_type": "code",
   "execution_count": 55,
   "id": "ac36a6ed",
   "metadata": {
    "execution": {
     "iopub.execute_input": "2024-04-17T15:17:04.483136Z",
     "iopub.status.busy": "2024-04-17T15:17:04.482313Z",
     "iopub.status.idle": "2024-04-17T15:17:04.490905Z",
     "shell.execute_reply": "2024-04-17T15:17:04.489408Z"
    },
    "id": "455f8eba",
    "papermill": {
     "duration": 1.156103,
     "end_time": "2024-04-17T15:17:04.492903",
     "exception": false,
     "start_time": "2024-04-17T15:17:03.336800",
     "status": "completed"
    },
    "tags": []
   },
   "outputs": [],
   "source": [
    "l = []\n",
    "for i in labels:\n",
    "  for j in range(4):\n",
    "    if i[j] == 1:\n",
    "      l.append(j)\n"
   ]
  },
  {
   "cell_type": "code",
   "execution_count": 56,
   "id": "63a980ad",
   "metadata": {
    "execution": {
     "iopub.execute_input": "2024-04-17T15:17:06.722208Z",
     "iopub.status.busy": "2024-04-17T15:17:06.721855Z",
     "iopub.status.idle": "2024-04-17T15:17:13.426429Z",
     "shell.execute_reply": "2024-04-17T15:17:13.425375Z"
    },
    "id": "7d699874",
    "outputId": "13d0fabc-bc85-4107-f986-f80a12e537d2",
    "papermill": {
     "duration": 7.860377,
     "end_time": "2024-04-17T15:17:13.428719",
     "exception": false,
     "start_time": "2024-04-17T15:17:05.568342",
     "status": "completed"
    },
    "tags": []
   },
   "outputs": [
    {
     "name": "stdout",
     "output_type": "stream",
     "text": [
      "\u001b[1m11/40\u001b[0m \u001b[32m━━━━━\u001b[0m\u001b[37m━━━━━━━━━━━━━━━\u001b[0m \u001b[1m0s\u001b[0m 17ms/step"
     ]
    },
    {
     "name": "stderr",
     "output_type": "stream",
     "text": [
      "W0000 00:00:1713367027.901107      72 graph_launch.cc:671] Fallback to op-by-op mode because memset node breaks graph update\n"
     ]
    },
    {
     "name": "stdout",
     "output_type": "stream",
     "text": [
      "\u001b[1m40/40\u001b[0m \u001b[32m━━━━━━━━━━━━━━━━━━━━\u001b[0m\u001b[37m\u001b[0m \u001b[1m6s\u001b[0m 140ms/step\n"
     ]
    },
    {
     "name": "stderr",
     "output_type": "stream",
     "text": [
      "W0000 00:00:1713367033.377465      71 graph_launch.cc:671] Fallback to op-by-op mode because memset node breaks graph update\n"
     ]
    }
   ],
   "source": [
    "y_prob = model.predict(images)\n",
    "\n",
    "# y_prob = tf.nn.softmax(y_prob).numpy()\n",
    "# Get the class with the highest probability for each prediction\n",
    "y_prob = np.argmax(y_prob, axis=1)  # Argmax gives index of max value\n",
    "# for i in range(len(labels)):\n",
    "#   print(l[i], y_prob[i])"
   ]
  },
  {
   "cell_type": "code",
   "execution_count": null,
   "id": "5b9da4d0",
   "metadata": {
    "id": "41441148",
    "papermill": {
     "duration": 1.072807,
     "end_time": "2024-04-17T15:17:15.597944",
     "exception": false,
     "start_time": "2024-04-17T15:17:14.525137",
     "status": "completed"
    },
    "tags": []
   },
   "outputs": [],
   "source": []
  },
  {
   "cell_type": "code",
   "execution_count": 57,
   "id": "1af0a5bf",
   "metadata": {
    "execution": {
     "iopub.execute_input": "2024-04-17T15:17:17.924683Z",
     "iopub.status.busy": "2024-04-17T15:17:17.924001Z",
     "iopub.status.idle": "2024-04-17T15:17:17.938686Z",
     "shell.execute_reply": "2024-04-17T15:17:17.937806Z"
    },
    "id": "155be648",
    "outputId": "b58d3646-b9ba-44d2-be24-016c617430ce",
    "papermill": {
     "duration": 1.161119,
     "end_time": "2024-04-17T15:17:17.940801",
     "exception": false,
     "start_time": "2024-04-17T15:17:16.779682",
     "status": "completed"
    },
    "tags": []
   },
   "outputs": [
    {
     "name": "stdout",
     "output_type": "stream",
     "text": [
      "0 {'precision': 0.7258064516129032, 'recall': 0.5027932960893855, 'f1-score': 0.594059405940594, 'support': 179}\n",
      "1 {'precision': 1.0, 'recall': 0.5, 'f1-score': 0.6666666666666666, 'support': 12}\n",
      "2 {'precision': 0.669735327963176, 'recall': 0.909375, 'f1-score': 0.7713717693836978, 'support': 640}\n",
      "3 {'precision': 0.7642857142857142, 'recall': 0.47767857142857145, 'f1-score': 0.5879120879120879, 'support': 448}\n",
      "accuracy 0.6974198592650508\n",
      "macro avg {'precision': 0.7899568734654484, 'recall': 0.5974617168794892, 'f1-score': 0.6550024824757616, 'support': 1279}\n",
      "weighted avg {'precision': 0.7137998160556234, 'recall': 0.6974198592650508, 'f1-score': 0.6813128862029307, 'support': 1279}\n"
     ]
    }
   ],
   "source": [
    "from sklearn.metrics import classification_report\n",
    "\n",
    "# Assuming you have predicted labels (predicted_classes) and true labels (test_labels_encoded)\n",
    "report = classification_report(l, y_prob, output_dict=True)\n",
    "for i in report:\n",
    "  print(i, report[i])"
   ]
  },
  {
   "cell_type": "code",
   "execution_count": 58,
   "id": "bba9252d",
   "metadata": {
    "execution": {
     "iopub.execute_input": "2024-04-17T15:17:20.200335Z",
     "iopub.status.busy": "2024-04-17T15:17:20.199515Z",
     "iopub.status.idle": "2024-04-17T15:17:23.802031Z",
     "shell.execute_reply": "2024-04-17T15:17:23.801037Z"
    },
    "id": "073a1d9c",
    "outputId": "06e42a36-c108-4950-d57e-0a0bad14d8aa",
    "papermill": {
     "duration": 4.743519,
     "end_time": "2024-04-17T15:17:23.804335",
     "exception": false,
     "start_time": "2024-04-17T15:17:19.060816",
     "status": "completed"
    },
    "tags": []
   },
   "outputs": [
    {
     "name": "stdout",
     "output_type": "stream",
     "text": [
      "\u001b[1m 7/40\u001b[0m \u001b[32m━━━\u001b[0m\u001b[37m━━━━━━━━━━━━━━━━━\u001b[0m \u001b[1m0s\u001b[0m 21ms/step - acc: 0.5041 - auc: 0.7025 - f1_score: 0.5041 - loss: 3.4097"
     ]
    },
    {
     "name": "stderr",
     "output_type": "stream",
     "text": [
      "W0000 00:00:1713367042.147020      71 graph_launch.cc:671] Fallback to op-by-op mode because memset node breaks graph update\n"
     ]
    },
    {
     "name": "stdout",
     "output_type": "stream",
     "text": [
      "\u001b[1m40/40\u001b[0m \u001b[32m━━━━━━━━━━━━━━━━━━━━\u001b[0m\u001b[37m\u001b[0m \u001b[1m3s\u001b[0m 38ms/step - acc: 0.7063 - auc: 0.8524 - f1_score: 0.7064 - loss: 1.8094\n"
     ]
    },
    {
     "name": "stderr",
     "output_type": "stream",
     "text": [
      "W0000 00:00:1713367043.614017      71 graph_launch.cc:671] Fallback to op-by-op mode because memset node breaks graph update\n"
     ]
    },
    {
     "data": {
      "text/plain": [
       "[1.6566839218139648,\n",
       " 0.6974198818206787,\n",
       " 0.8609319925308228,\n",
       " 0.6979655623435974]"
      ]
     },
     "execution_count": 58,
     "metadata": {},
     "output_type": "execute_result"
    }
   ],
   "source": [
    "model.evaluate(images, labels)"
   ]
  },
  {
   "cell_type": "code",
   "execution_count": null,
   "id": "1ea2ad45",
   "metadata": {
    "id": "UDNIyngOUCWk",
    "papermill": {
     "duration": 1.072534,
     "end_time": "2024-04-17T15:17:25.949425",
     "exception": false,
     "start_time": "2024-04-17T15:17:24.876891",
     "status": "completed"
    },
    "tags": []
   },
   "outputs": [],
   "source": []
  }
 ],
 "metadata": {
  "accelerator": "GPU",
  "colab": {
   "gpuType": "T4",
   "provenance": []
  },
  "kaggle": {
   "accelerator": "nvidiaTeslaT4",
   "dataSources": [
    {
     "datasetId": 457093,
     "sourceId": 861496,
     "sourceType": "datasetVersion"
    },
    {
     "datasetId": 4817485,
     "sourceId": 8146544,
     "sourceType": "datasetVersion"
    }
   ],
   "dockerImageVersionId": 30684,
   "isGpuEnabled": true,
   "isInternetEnabled": false,
   "language": "python",
   "sourceType": "notebook"
  },
  "kernelspec": {
   "display_name": "Python 3",
   "language": "python",
   "name": "python3"
  },
  "language_info": {
   "codemirror_mode": {
    "name": "ipython",
    "version": 3
   },
   "file_extension": ".py",
   "mimetype": "text/x-python",
   "name": "python",
   "nbconvert_exporter": "python",
   "pygments_lexer": "ipython3",
   "version": "3.10.13"
  },
  "papermill": {
   "default_parameters": {},
   "duration": 1113.596162,
   "end_time": "2024-04-17T15:17:30.788535",
   "environment_variables": {},
   "exception": null,
   "input_path": "__notebook__.ipynb",
   "output_path": "__notebook__.ipynb",
   "parameters": {},
   "start_time": "2024-04-17T14:58:57.192373",
   "version": "2.5.0"
  }
 },
 "nbformat": 4,
 "nbformat_minor": 5
}
