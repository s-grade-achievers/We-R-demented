{
 "cells": [
  {
   "cell_type": "markdown",
   "id": "ba0ee1d4",
   "metadata": {
    "id": "a7ff34cb",
    "papermill": {
     "duration": 0.019068,
     "end_time": "2024-04-17T19:38:32.617052",
     "exception": false,
     "start_time": "2024-04-17T19:38:32.597984",
     "status": "completed"
    },
    "tags": []
   },
   "source": [
    "<a href=\"https://www.kaggle.com/code/pes1ug22am164/image-part?scriptVersionId=171996997\" target=\"_blank\"><img align=\"left\" alt=\"Kaggle\" title=\"Open in Kaggle\" src=\"https://kaggle.com/static/images/open-in-kaggle.svg\"></a>"
   ]
  },
  {
   "cell_type": "markdown",
   "id": "6c3acd4a",
   "metadata": {
    "id": "222a0f8e",
    "papermill": {
     "duration": 0.018488,
     "end_time": "2024-04-17T19:38:32.654838",
     "exception": false,
     "start_time": "2024-04-17T19:38:32.636350",
     "status": "completed"
    },
    "tags": []
   },
   "source": [
    "# uncomment on google colab, comment on kaggle."
   ]
  },
  {
   "cell_type": "code",
   "execution_count": 1,
   "id": "88d38c92",
   "metadata": {
    "execution": {
     "iopub.execute_input": "2024-04-17T19:38:32.692626Z",
     "iopub.status.busy": "2024-04-17T19:38:32.692283Z",
     "iopub.status.idle": "2024-04-17T19:38:32.697278Z",
     "shell.execute_reply": "2024-04-17T19:38:32.696304Z"
    },
    "id": "730ebdb2",
    "outputId": "db526a1f-00de-401b-bf8a-d4dc1afed7fb",
    "papermill": {
     "duration": 0.024814,
     "end_time": "2024-04-17T19:38:32.699391",
     "exception": false,
     "start_time": "2024-04-17T19:38:32.674577",
     "status": "completed"
    },
    "tags": []
   },
   "outputs": [],
   "source": [
    "# !mkdir ~/.kaggle\n",
    "# from google.colab import files\n",
    "# files.upload()\n",
    "# !cp kaggle.json ~/.kaggle/\n",
    "# !chmod 600 ~/.kaggle/kaggle.json\n",
    "# !kaggle datasets download -d shusrith/betterer-preproc"
   ]
  },
  {
   "cell_type": "code",
   "execution_count": 2,
   "id": "3d141b19",
   "metadata": {
    "execution": {
     "iopub.execute_input": "2024-04-17T19:38:32.734714Z",
     "iopub.status.busy": "2024-04-17T19:38:32.733908Z",
     "iopub.status.idle": "2024-04-17T19:38:32.737945Z",
     "shell.execute_reply": "2024-04-17T19:38:32.737060Z"
    },
    "id": "d02ab8ba",
    "papermill": {
     "duration": 0.023843,
     "end_time": "2024-04-17T19:38:32.739970",
     "exception": false,
     "start_time": "2024-04-17T19:38:32.716127",
     "status": "completed"
    },
    "tags": []
   },
   "outputs": [],
   "source": [
    "# !unzip /content/betterer-preproc.zip"
   ]
  },
  {
   "cell_type": "code",
   "execution_count": 3,
   "id": "ef80f258",
   "metadata": {
    "execution": {
     "iopub.execute_input": "2024-04-17T19:38:32.775458Z",
     "iopub.status.busy": "2024-04-17T19:38:32.775109Z",
     "iopub.status.idle": "2024-04-17T19:38:32.779064Z",
     "shell.execute_reply": "2024-04-17T19:38:32.778232Z"
    },
    "id": "729247b8",
    "outputId": "2de840d7-51bd-4f6b-d92e-b46400cef0e9",
    "papermill": {
     "duration": 0.024043,
     "end_time": "2024-04-17T19:38:32.781134",
     "exception": false,
     "start_time": "2024-04-17T19:38:32.757091",
     "status": "completed"
    },
    "tags": []
   },
   "outputs": [],
   "source": [
    "# !kaggle datasets download -d tourist55/alzheimers-dataset-4-class-of-images"
   ]
  },
  {
   "cell_type": "code",
   "execution_count": 4,
   "id": "275c008f",
   "metadata": {
    "execution": {
     "iopub.execute_input": "2024-04-17T19:38:32.815761Z",
     "iopub.status.busy": "2024-04-17T19:38:32.815446Z",
     "iopub.status.idle": "2024-04-17T19:38:32.819376Z",
     "shell.execute_reply": "2024-04-17T19:38:32.818441Z"
    },
    "id": "de92906d",
    "papermill": {
     "duration": 0.023832,
     "end_time": "2024-04-17T19:38:32.821514",
     "exception": false,
     "start_time": "2024-04-17T19:38:32.797682",
     "status": "completed"
    },
    "tags": []
   },
   "outputs": [],
   "source": [
    "# !unzip /content/alzheimers-dataset-4-class-of-images.zip"
   ]
  },
  {
   "cell_type": "markdown",
   "id": "ae8c1f89",
   "metadata": {
    "id": "beabf59f",
    "papermill": {
     "duration": 0.016685,
     "end_time": "2024-04-17T19:38:32.855586",
     "exception": false,
     "start_time": "2024-04-17T19:38:32.838901",
     "status": "completed"
    },
    "tags": []
   },
   "source": [
    "# PRE PROCESS\n",
    ".JPG TO .NPY"
   ]
  },
  {
   "cell_type": "code",
   "execution_count": 5,
   "id": "8a8608fd",
   "metadata": {
    "execution": {
     "iopub.execute_input": "2024-04-17T19:38:32.891504Z",
     "iopub.status.busy": "2024-04-17T19:38:32.891168Z",
     "iopub.status.idle": "2024-04-17T19:38:32.895882Z",
     "shell.execute_reply": "2024-04-17T19:38:32.894835Z"
    },
    "id": "9f788ed4",
    "papermill": {
     "duration": 0.02498,
     "end_time": "2024-04-17T19:38:32.897817",
     "exception": false,
     "start_time": "2024-04-17T19:38:32.872837",
     "status": "completed"
    },
    "tags": []
   },
   "outputs": [],
   "source": [
    "# import os\n",
    "# import cv2\n",
    "# import numpy as np\n",
    "\n",
    "# def jpg_to_npy_in_folders(input_folder, output_folder):\n",
    "#     os.makedirs(output_folder, exist_ok=True)\n",
    "#     for i, item in enumerate(os.listdir(input_folder)):\n",
    "#         item_path = os.path.join(input_folder, item)\n",
    "#         if os.path.isdir(item_path):\n",
    "#             jpg_to_npy_in_folders(item_path, output_folder)\n",
    "#         elif os.path.isfile(item_path) and item.endswith(\".jpg\"):\n",
    "#             img = cv2.imread(item_path)\n",
    "#             img_array = np.array(img)\n",
    "#             output_file_path = os.path.join(output_folder, os.path.splitext(item)[0] + '.npy')\n",
    "#             np.save(output_file_path, img_array)\n",
    "\n",
    "# # input_folder_path = \"/content/Alzheimer_s Dataset/train\"\n",
    "# input_folder_path = \"/kaggle/input/alzheimers-dataset-4-class-of-images/Alzheimer_s Dataset/train\"\n",
    "# output_folder_path = \"/kaggle/working/train\"\n",
    "\n",
    "# jpg_to_npy_in_folders(input_folder_path, output_folder_path)\n",
    "\n"
   ]
  },
  {
   "cell_type": "code",
   "execution_count": 6,
   "id": "739687a0",
   "metadata": {
    "_cell_guid": "b1076dfc-b9ad-4769-8c92-a6c4dae69d19",
    "_uuid": "8f2839f25d086af736a60e9eeb907d3b93b6e0e5",
    "execution": {
     "iopub.execute_input": "2024-04-17T19:38:32.933885Z",
     "iopub.status.busy": "2024-04-17T19:38:32.933336Z",
     "iopub.status.idle": "2024-04-17T19:38:32.938733Z",
     "shell.execute_reply": "2024-04-17T19:38:32.937758Z"
    },
    "id": "cc57fffe",
    "papermill": {
     "duration": 0.025972,
     "end_time": "2024-04-17T19:38:32.940888",
     "exception": false,
     "start_time": "2024-04-17T19:38:32.914916",
     "status": "completed"
    },
    "tags": []
   },
   "outputs": [],
   "source": [
    "# import os\n",
    "# import cv2\n",
    "# import numpy as np\n",
    "\n",
    "# def jpg_to_npy_in_folders(input_folder, output_folder):\n",
    "#     os.makedirs(output_folder, exist_ok=True)\n",
    "#     for i, item in enumerate(os.listdir(input_folder)):\n",
    "#         item_path = os.path.join(input_folder, item)\n",
    "#         if os.path.isdir(item_path):\n",
    "#             jpg_to_npy_in_folders(item_path, output_folder)\n",
    "#         elif os.path.isfile(item_path) and item.endswith(\".jpg\"):\n",
    "#             img = cv2.imread(item_path)\n",
    "#             img_array = np.array(img)\n",
    "#             folder = input_folder.split(\"/\")[-1]\n",
    "#             output_file_path = os.path.join(output_folder, f\"{folder}{i}.npy\")\n",
    "#             np.save(output_file_path, img_array)\n",
    "\n",
    "# # input_folder_path = \"/kaggle/input/alzheimers-dataset-4-class-of-images/Alzheimer_s Dataset/train\"\n",
    "# # output_folder_path = \"/kaggle/working/train\"\n",
    "\n",
    "# # jpg_to_npy_in_folders(input_folder_path, output_folder_path)\n",
    "# jpg_to_npy_in_folders(\"/kaggle/input/alzheimers-dataset-4-class-of-images/Alzheimer_s Dataset/test\", \"/kaggle/working/test\")\n",
    "# # jpg_to_npy_in_folders(\"/content/Alzheimer_s Dataset/test\", \"/kaggle/working/test\")\n",
    "\n"
   ]
  },
  {
   "cell_type": "code",
   "execution_count": 7,
   "id": "9d479840",
   "metadata": {
    "execution": {
     "iopub.execute_input": "2024-04-17T19:38:32.975975Z",
     "iopub.status.busy": "2024-04-17T19:38:32.975702Z",
     "iopub.status.idle": "2024-04-17T19:38:32.979628Z",
     "shell.execute_reply": "2024-04-17T19:38:32.978754Z"
    },
    "id": "45ed7ce8",
    "outputId": "865f1a6f-e95a-42b4-de37-e3d3980fe6e0",
    "papermill": {
     "duration": 0.023903,
     "end_time": "2024-04-17T19:38:32.981778",
     "exception": false,
     "start_time": "2024-04-17T19:38:32.957875",
     "status": "completed"
    },
    "tags": []
   },
   "outputs": [],
   "source": [
    "# import os\n",
    "# import numpy as np\n",
    "# directory = '/kaggle/working/train'\n",
    "\n",
    "# files = [file for file in os.listdir(directory) if file.endswith('.npy')]\n",
    "# len(files)\n"
   ]
  },
  {
   "cell_type": "code",
   "execution_count": 8,
   "id": "9105ec90",
   "metadata": {
    "execution": {
     "iopub.execute_input": "2024-04-17T19:38:33.016752Z",
     "iopub.status.busy": "2024-04-17T19:38:33.016461Z",
     "iopub.status.idle": "2024-04-17T19:38:33.020465Z",
     "shell.execute_reply": "2024-04-17T19:38:33.019570Z"
    },
    "id": "641639b4",
    "outputId": "eb52d6da-ee7a-4674-9631-2633c127ae61",
    "papermill": {
     "duration": 0.023927,
     "end_time": "2024-04-17T19:38:33.022552",
     "exception": false,
     "start_time": "2024-04-17T19:38:32.998625",
     "status": "completed"
    },
    "tags": []
   },
   "outputs": [],
   "source": [
    "# mildDem = [i for i in files if i.startswith(\"mildDem\")]\n",
    "# moderateDem = [i for i in files if \"moderateDem\" in i]\n",
    "# nonDem = [i for i in files if \"nonDem\" in i]\n",
    "# veryMild = [i for i in files if \"verymildDem\" in i]\n",
    "# print(len(mildDem), len(moderateDem), len(nonDem), len(veryMild))"
   ]
  },
  {
   "cell_type": "code",
   "execution_count": 9,
   "id": "631359db",
   "metadata": {
    "execution": {
     "iopub.execute_input": "2024-04-17T19:38:33.056765Z",
     "iopub.status.busy": "2024-04-17T19:38:33.056469Z",
     "iopub.status.idle": "2024-04-17T19:38:33.060899Z",
     "shell.execute_reply": "2024-04-17T19:38:33.060057Z"
    },
    "id": "dce546ff",
    "papermill": {
     "duration": 0.023468,
     "end_time": "2024-04-17T19:38:33.062732",
     "exception": false,
     "start_time": "2024-04-17T19:38:33.039264",
     "status": "completed"
    },
    "tags": []
   },
   "outputs": [],
   "source": [
    "# import imgaug.augmenters as iaa\n",
    "\n",
    "# # Define the augmenter\n",
    "# augmenter = iaa.Sequential([\n",
    "#     iaa.Affine(rotate=(-10, 10)),  # Rotate the image by -10 to 10 degrees\n",
    "#     iaa.GaussianBlur(sigma=(0.0, 1.0)),  # Apply Gaussian blur with a sigma ranging from 0.0 to 1.0\n",
    "#     iaa.AdditiveGaussianNoise(scale=(0, 0.05*255)),  # Add Gaussian noise with a scale of 0 to 0.05 times 255\n",
    "#     iaa.Multiply((0.9, 1.1)),\n",
    "#     iaa.LinearContrast((0.9, 1.1)),\n",
    "# ])\n",
    "\n",
    "# augmented_images = []\n",
    "\n",
    "# for path in moderateDem:\n",
    "#     path = os.path.join(\"/kaggle/working/train\", path)\n",
    "#     image = np.load(path)\n",
    "\n",
    "#     for _ in range(35):\n",
    "#         augmented_image = augmenter.augment_image(image)\n",
    "#         augmented_images.append(augmented_image)\n",
    "# augmented_images = np.array(augmented_images)"
   ]
  },
  {
   "cell_type": "code",
   "execution_count": 10,
   "id": "a4b9557f",
   "metadata": {
    "execution": {
     "iopub.execute_input": "2024-04-17T19:38:33.101090Z",
     "iopub.status.busy": "2024-04-17T19:38:33.100722Z",
     "iopub.status.idle": "2024-04-17T19:38:33.104920Z",
     "shell.execute_reply": "2024-04-17T19:38:33.103951Z"
    },
    "id": "82cf94d7",
    "papermill": {
     "duration": 0.025782,
     "end_time": "2024-04-17T19:38:33.107171",
     "exception": false,
     "start_time": "2024-04-17T19:38:33.081389",
     "status": "completed"
    },
    "tags": []
   },
   "outputs": [],
   "source": [
    "# len(augmented_images)"
   ]
  },
  {
   "cell_type": "code",
   "execution_count": 11,
   "id": "7c34a761",
   "metadata": {
    "execution": {
     "iopub.execute_input": "2024-04-17T19:38:33.145452Z",
     "iopub.status.busy": "2024-04-17T19:38:33.145134Z",
     "iopub.status.idle": "2024-04-17T19:38:33.149655Z",
     "shell.execute_reply": "2024-04-17T19:38:33.148644Z"
    },
    "id": "23bca643",
    "papermill": {
     "duration": 0.025918,
     "end_time": "2024-04-17T19:38:33.151842",
     "exception": false,
     "start_time": "2024-04-17T19:38:33.125924",
     "status": "completed"
    },
    "tags": []
   },
   "outputs": [],
   "source": [
    "# import cv2\n",
    "# import os\n",
    "\n",
    "\n",
    "# output_directory = \"/kaggle/working/train\"\n",
    "\n",
    "# os.makedirs(output_directory, exist_ok=True)\n",
    "\n",
    "# for i, image in enumerate(augmented_images):\n",
    "#     output_path = os.path.join(output_directory, f\"moderateDem{i+53}.npy\")\n",
    "#     np.save(output_path, image)\n",
    "\n",
    "\n",
    "# print(\"Augmented images saved successfully.\")\n"
   ]
  },
  {
   "cell_type": "code",
   "execution_count": 12,
   "id": "11d10f00",
   "metadata": {
    "execution": {
     "iopub.execute_input": "2024-04-17T19:38:33.190582Z",
     "iopub.status.busy": "2024-04-17T19:38:33.189920Z",
     "iopub.status.idle": "2024-04-17T19:38:33.194307Z",
     "shell.execute_reply": "2024-04-17T19:38:33.193427Z"
    },
    "id": "7e6179eb",
    "papermill": {
     "duration": 0.025996,
     "end_time": "2024-04-17T19:38:33.196553",
     "exception": false,
     "start_time": "2024-04-17T19:38:33.170557",
     "status": "completed"
    },
    "tags": []
   },
   "outputs": [],
   "source": [
    "# augmented_images = []\n",
    "\n",
    "# for path in mildDem:\n",
    "#     path = os.path.join(\"/kaggle/working/train\", path)\n",
    "#     image = np.load(path)\n",
    "\n",
    "#     for _ in range(2):\n",
    "#         augmented_image = augmenter.augment_image(image)\n",
    "#         augmented_images.append(augmented_image)\n",
    "# augmented_images = np.array(augmented_images)"
   ]
  },
  {
   "cell_type": "code",
   "execution_count": 13,
   "id": "c434657b",
   "metadata": {
    "execution": {
     "iopub.execute_input": "2024-04-17T19:38:33.235977Z",
     "iopub.status.busy": "2024-04-17T19:38:33.235638Z",
     "iopub.status.idle": "2024-04-17T19:38:33.239604Z",
     "shell.execute_reply": "2024-04-17T19:38:33.238694Z"
    },
    "id": "1bd61403",
    "papermill": {
     "duration": 0.025795,
     "end_time": "2024-04-17T19:38:33.241759",
     "exception": false,
     "start_time": "2024-04-17T19:38:33.215964",
     "status": "completed"
    },
    "tags": []
   },
   "outputs": [],
   "source": [
    "# len(augmented_images)"
   ]
  },
  {
   "cell_type": "code",
   "execution_count": 14,
   "id": "3cc221f7",
   "metadata": {
    "execution": {
     "iopub.execute_input": "2024-04-17T19:38:33.281434Z",
     "iopub.status.busy": "2024-04-17T19:38:33.280696Z",
     "iopub.status.idle": "2024-04-17T19:38:33.285048Z",
     "shell.execute_reply": "2024-04-17T19:38:33.284083Z"
    },
    "id": "0052f02c",
    "papermill": {
     "duration": 0.02625,
     "end_time": "2024-04-17T19:38:33.287141",
     "exception": false,
     "start_time": "2024-04-17T19:38:33.260891",
     "status": "completed"
    },
    "tags": []
   },
   "outputs": [],
   "source": [
    "# output_directory = \"/kaggle/working/train\"\n",
    "\n",
    "# os.makedirs(output_directory, exist_ok=True)\n",
    "\n",
    "# for i, image in enumerate(augmented_images):\n",
    "#     output_path = os.path.join(output_directory, f\"mildDem{i+718}.npy\")\n",
    "#     np.save(output_path, image)\n",
    "\n",
    "\n",
    "# print(\"Augmented images saved successfully.\")"
   ]
  },
  {
   "cell_type": "code",
   "execution_count": 15,
   "id": "148968fb",
   "metadata": {
    "execution": {
     "iopub.execute_input": "2024-04-17T19:38:33.325162Z",
     "iopub.status.busy": "2024-04-17T19:38:33.324821Z",
     "iopub.status.idle": "2024-04-17T19:38:33.328913Z",
     "shell.execute_reply": "2024-04-17T19:38:33.327934Z"
    },
    "id": "23ddd520",
    "outputId": "5166c6b8-c5df-4c8e-ddd3-e070143369aa",
    "papermill": {
     "duration": 0.025437,
     "end_time": "2024-04-17T19:38:33.330911",
     "exception": false,
     "start_time": "2024-04-17T19:38:33.305474",
     "status": "completed"
    },
    "tags": []
   },
   "outputs": [],
   "source": [
    "# import os\n",
    "# import numpy as np\n",
    "# directory = '/kaggle/working/train'\n",
    "\n",
    "# files = [file for file in os.listdir(directory) if file.endswith('.npy')]\n",
    "# len(files)"
   ]
  },
  {
   "cell_type": "code",
   "execution_count": 16,
   "id": "f9cbd260",
   "metadata": {
    "execution": {
     "iopub.execute_input": "2024-04-17T19:38:33.368501Z",
     "iopub.status.busy": "2024-04-17T19:38:33.368201Z",
     "iopub.status.idle": "2024-04-17T19:38:33.372258Z",
     "shell.execute_reply": "2024-04-17T19:38:33.371333Z"
    },
    "id": "a16db2fd",
    "outputId": "d87f5b28-535f-45c7-850a-9c6f6eed4db4",
    "papermill": {
     "duration": 0.025486,
     "end_time": "2024-04-17T19:38:33.374420",
     "exception": false,
     "start_time": "2024-04-17T19:38:33.348934",
     "status": "completed"
    },
    "tags": []
   },
   "outputs": [],
   "source": [
    "# mildDem = [i for i in files if i.startswith(\"mildDem\")]\n",
    "# moderateDem = [i for i in files if \"moderateDem\" in i]\n",
    "# nonDem = [i for i in files if \"nonDem\" in i]\n",
    "# veryMild = [i for i in files if \"verymildDem\" in i]\n",
    "# print(len(mildDem), len(moderateDem), len(nonDem), len(veryMild))"
   ]
  },
  {
   "cell_type": "code",
   "execution_count": 17,
   "id": "58cbdda0",
   "metadata": {
    "execution": {
     "iopub.execute_input": "2024-04-17T19:38:33.410708Z",
     "iopub.status.busy": "2024-04-17T19:38:33.410372Z",
     "iopub.status.idle": "2024-04-17T19:38:33.414882Z",
     "shell.execute_reply": "2024-04-17T19:38:33.413947Z"
    },
    "id": "0c4848ad",
    "outputId": "fb174b0c-11cc-41a5-9c4e-36cafaba641f",
    "papermill": {
     "duration": 0.025471,
     "end_time": "2024-04-17T19:38:33.417392",
     "exception": false,
     "start_time": "2024-04-17T19:38:33.391921",
     "status": "completed"
    },
    "tags": []
   },
   "outputs": [],
   "source": [
    "# import pandas as pd\n",
    "# l = [[mildDem, 0], [moderateDem, 1], [nonDem, 2], [veryMild, 3]]\n",
    "# x = []\n",
    "# for i in l:\n",
    "#     for j in i[0]:\n",
    "#         path = os.path.join(\"/kaggle/working/train\", j)\n",
    "#         x.append([i[1], path])\n",
    "\n",
    "# df = pd.DataFrame(x, columns=[\"Class\", \"Path\"])\n",
    "# x = df[\"Class\"].value_counts()\n",
    "# x"
   ]
  },
  {
   "cell_type": "code",
   "execution_count": 18,
   "id": "562cfdeb",
   "metadata": {
    "execution": {
     "iopub.execute_input": "2024-04-17T19:38:33.505825Z",
     "iopub.status.busy": "2024-04-17T19:38:33.504885Z",
     "iopub.status.idle": "2024-04-17T19:38:33.509733Z",
     "shell.execute_reply": "2024-04-17T19:38:33.508655Z"
    },
    "id": "a0d2912b",
    "papermill": {
     "duration": 0.075896,
     "end_time": "2024-04-17T19:38:33.512278",
     "exception": false,
     "start_time": "2024-04-17T19:38:33.436382",
     "status": "completed"
    },
    "tags": []
   },
   "outputs": [],
   "source": [
    "# images = []\n",
    "# for i in df[\"Path\"]:\n",
    "#     images.append(np.load(i))\n",
    "# images = np.array(images)"
   ]
  },
  {
   "cell_type": "code",
   "execution_count": 19,
   "id": "65e2e5a1",
   "metadata": {
    "execution": {
     "iopub.execute_input": "2024-04-17T19:38:33.551785Z",
     "iopub.status.busy": "2024-04-17T19:38:33.551162Z",
     "iopub.status.idle": "2024-04-17T19:38:33.555602Z",
     "shell.execute_reply": "2024-04-17T19:38:33.554646Z"
    },
    "id": "YXHLFv4QEPM_",
    "papermill": {
     "duration": 0.026806,
     "end_time": "2024-04-17T19:38:33.558002",
     "exception": false,
     "start_time": "2024-04-17T19:38:33.531196",
     "status": "completed"
    },
    "tags": []
   },
   "outputs": [],
   "source": [
    "# from imblearn.over_sampling import SMOTE\n",
    "\n",
    "# sm = SMOTE(random_state=42)\n",
    "# flattened_images = [image.flatten() for image in images]\n",
    "# image_shape = images[0].shape\n",
    "# X_res, y_res = sm.fit_resample(flattened_images, np.array(df[\"Class\"]))  # `labels` should be your list of class labels\n"
   ]
  },
  {
   "cell_type": "code",
   "execution_count": 20,
   "id": "1a9a1322",
   "metadata": {
    "execution": {
     "iopub.execute_input": "2024-04-17T19:38:33.598691Z",
     "iopub.status.busy": "2024-04-17T19:38:33.597888Z",
     "iopub.status.idle": "2024-04-17T19:38:33.602075Z",
     "shell.execute_reply": "2024-04-17T19:38:33.601149Z"
    },
    "id": "0hj8resmFvZW",
    "papermill": {
     "duration": 0.02683,
     "end_time": "2024-04-17T19:38:33.604252",
     "exception": false,
     "start_time": "2024-04-17T19:38:33.577422",
     "status": "completed"
    },
    "tags": []
   },
   "outputs": [],
   "source": [
    "# res_images = [np.array(x).reshape(image_shape) for x in X_res]"
   ]
  },
  {
   "cell_type": "code",
   "execution_count": 21,
   "id": "0952c8c7",
   "metadata": {
    "execution": {
     "iopub.execute_input": "2024-04-17T19:38:33.641850Z",
     "iopub.status.busy": "2024-04-17T19:38:33.641548Z",
     "iopub.status.idle": "2024-04-17T19:38:33.645740Z",
     "shell.execute_reply": "2024-04-17T19:38:33.644793Z"
    },
    "papermill": {
     "duration": 0.024621,
     "end_time": "2024-04-17T19:38:33.647614",
     "exception": false,
     "start_time": "2024-04-17T19:38:33.622993",
     "status": "completed"
    },
    "tags": []
   },
   "outputs": [],
   "source": [
    "# !rm -rf /kaggle/working/train"
   ]
  },
  {
   "cell_type": "code",
   "execution_count": 22,
   "id": "a214d98c",
   "metadata": {
    "execution": {
     "iopub.execute_input": "2024-04-17T19:38:33.686917Z",
     "iopub.status.busy": "2024-04-17T19:38:33.685958Z",
     "iopub.status.idle": "2024-04-17T19:38:33.690467Z",
     "shell.execute_reply": "2024-04-17T19:38:33.689595Z"
    },
    "papermill": {
     "duration": 0.026826,
     "end_time": "2024-04-17T19:38:33.692727",
     "exception": false,
     "start_time": "2024-04-17T19:38:33.665901",
     "status": "completed"
    },
    "tags": []
   },
   "outputs": [],
   "source": [
    "# import os\n",
    "\n",
    "# names = {0:\"milDem\", 1:\"moderateDim\", 2:\"nonDem\", 3:\"veryMildDem\"}\n",
    "\n",
    "# # Create the directory if it doesn't exist\n",
    "# os.makedirs(\"/kaggle/working/train/\", exist_ok=True)\n",
    "\n",
    "# for i in range(len(y_res)):\n",
    "#     np.save(f\"/kaggle/working/train/{names[y_res[i]]}{i}.npy\", res_images[i])"
   ]
  },
  {
   "cell_type": "code",
   "execution_count": 23,
   "id": "14c78002",
   "metadata": {
    "execution": {
     "iopub.execute_input": "2024-04-17T19:38:33.731957Z",
     "iopub.status.busy": "2024-04-17T19:38:33.731616Z",
     "iopub.status.idle": "2024-04-17T19:38:33.735863Z",
     "shell.execute_reply": "2024-04-17T19:38:33.734895Z"
    },
    "id": "u7gI65mjEu7w",
    "papermill": {
     "duration": 0.026391,
     "end_time": "2024-04-17T19:38:33.738046",
     "exception": false,
     "start_time": "2024-04-17T19:38:33.711655",
     "status": "completed"
    },
    "tags": []
   },
   "outputs": [],
   "source": [
    "# import pandas as pd\n",
    "# labels = pd.DataFrame(y_res)\n",
    "# labels.value_counts()"
   ]
  },
  {
   "cell_type": "code",
   "execution_count": 24,
   "id": "31eb502a",
   "metadata": {
    "execution": {
     "iopub.execute_input": "2024-04-17T19:38:33.776067Z",
     "iopub.status.busy": "2024-04-17T19:38:33.775737Z",
     "iopub.status.idle": "2024-04-17T19:38:33.779660Z",
     "shell.execute_reply": "2024-04-17T19:38:33.778790Z"
    },
    "papermill": {
     "duration": 0.025047,
     "end_time": "2024-04-17T19:38:33.781783",
     "exception": false,
     "start_time": "2024-04-17T19:38:33.756736",
     "status": "completed"
    },
    "tags": []
   },
   "outputs": [],
   "source": [
    "# images = np.array(res_images)"
   ]
  },
  {
   "cell_type": "code",
   "execution_count": 25,
   "id": "da0240e9",
   "metadata": {
    "execution": {
     "iopub.execute_input": "2024-04-17T19:38:33.818831Z",
     "iopub.status.busy": "2024-04-17T19:38:33.818526Z",
     "iopub.status.idle": "2024-04-17T19:38:34.063446Z",
     "shell.execute_reply": "2024-04-17T19:38:34.062410Z"
    },
    "papermill": {
     "duration": 0.265603,
     "end_time": "2024-04-17T19:38:34.065549",
     "exception": false,
     "start_time": "2024-04-17T19:38:33.799946",
     "status": "completed"
    },
    "tags": []
   },
   "outputs": [
    {
     "data": {
      "text/plain": [
       "10240"
      ]
     },
     "execution_count": 25,
     "metadata": {},
     "output_type": "execute_result"
    }
   ],
   "source": [
    "import os\n",
    "import numpy as np\n",
    "directory = '/kaggle/input/betterest-preproc/train'\n",
    "\n",
    "files = [file for file in os.listdir(directory) if file.endswith('.npy')]\n",
    "len(files)"
   ]
  },
  {
   "cell_type": "code",
   "execution_count": 26,
   "id": "3c87c5ef",
   "metadata": {
    "execution": {
     "iopub.execute_input": "2024-04-17T19:38:34.103852Z",
     "iopub.status.busy": "2024-04-17T19:38:34.103502Z",
     "iopub.status.idle": "2024-04-17T19:38:34.114809Z",
     "shell.execute_reply": "2024-04-17T19:38:34.113710Z"
    },
    "papermill": {
     "duration": 0.032352,
     "end_time": "2024-04-17T19:38:34.116962",
     "exception": false,
     "start_time": "2024-04-17T19:38:34.084610",
     "status": "completed"
    },
    "tags": []
   },
   "outputs": [
    {
     "name": "stdout",
     "output_type": "stream",
     "text": [
      "2560 2560 2560 2560\n"
     ]
    }
   ],
   "source": [
    "mildDem = [i for i in files if i.startswith(\"milDem\")]\n",
    "moderateDem = [i for i in files if \"moderateDim\" in i]\n",
    "nonDem = [i for i in files if \"nonDem\" in i]\n",
    "veryMild = [i for i in files if \"veryMildDem\" in i]\n",
    "print(len(mildDem), len(moderateDem), len(nonDem), len(veryMild))"
   ]
  },
  {
   "cell_type": "code",
   "execution_count": 27,
   "id": "d9b198b0",
   "metadata": {
    "execution": {
     "iopub.execute_input": "2024-04-17T19:38:34.153782Z",
     "iopub.status.busy": "2024-04-17T19:38:34.153437Z",
     "iopub.status.idle": "2024-04-17T19:38:35.036141Z",
     "shell.execute_reply": "2024-04-17T19:38:35.035183Z"
    },
    "papermill": {
     "duration": 0.9035,
     "end_time": "2024-04-17T19:38:35.038434",
     "exception": false,
     "start_time": "2024-04-17T19:38:34.134934",
     "status": "completed"
    },
    "tags": []
   },
   "outputs": [
    {
     "data": {
      "text/plain": [
       "Class\n",
       "0    2560\n",
       "1    2560\n",
       "2    2560\n",
       "3    2560\n",
       "Name: count, dtype: int64"
      ]
     },
     "execution_count": 27,
     "metadata": {},
     "output_type": "execute_result"
    }
   ],
   "source": [
    "import pandas as pd\n",
    "l = [[mildDem, 0], [moderateDem, 1], [nonDem, 2], [veryMild, 3]]\n",
    "x = []\n",
    "for i in l:\n",
    "    for j in i[0]:\n",
    "        path = os.path.join(\"/kaggle/input/betterest-preproc/train\", j)\n",
    "        x.append([i[1], path])\n",
    "\n",
    "df = pd.DataFrame(x, columns=[\"Class\", \"Path\"])\n",
    "x = df[\"Class\"].value_counts()\n",
    "x"
   ]
  },
  {
   "cell_type": "code",
   "execution_count": 28,
   "id": "fa28d89a",
   "metadata": {
    "execution": {
     "iopub.execute_input": "2024-04-17T19:38:35.077959Z",
     "iopub.status.busy": "2024-04-17T19:38:35.077212Z",
     "iopub.status.idle": "2024-04-17T19:40:29.367742Z",
     "shell.execute_reply": "2024-04-17T19:40:29.366834Z"
    },
    "papermill": {
     "duration": 114.312834,
     "end_time": "2024-04-17T19:40:29.370441",
     "exception": false,
     "start_time": "2024-04-17T19:38:35.057607",
     "status": "completed"
    },
    "tags": []
   },
   "outputs": [],
   "source": [
    "images = []\n",
    "for i in df[\"Path\"]:\n",
    "    images.append(np.load(i))\n",
    "images = np.array(images)"
   ]
  },
  {
   "cell_type": "code",
   "execution_count": 29,
   "id": "15628242",
   "metadata": {
    "execution": {
     "iopub.execute_input": "2024-04-17T19:40:29.410154Z",
     "iopub.status.busy": "2024-04-17T19:40:29.409797Z",
     "iopub.status.idle": "2024-04-17T19:40:38.182211Z",
     "shell.execute_reply": "2024-04-17T19:40:38.181075Z"
    },
    "id": "42bc232c",
    "papermill": {
     "duration": 8.795462,
     "end_time": "2024-04-17T19:40:38.185311",
     "exception": false,
     "start_time": "2024-04-17T19:40:29.389849",
     "status": "completed"
    },
    "tags": []
   },
   "outputs": [],
   "source": [
    "from sklearn.model_selection import train_test_split\n",
    "labels = np.array(df[\"Class\"])\n",
    "train_images, test_images, train_labels, test_labels = train_test_split(images, labels, test_size=0.2, random_state=42)\n"
   ]
  },
  {
   "cell_type": "code",
   "execution_count": 30,
   "id": "8ef85d1c",
   "metadata": {
    "execution": {
     "iopub.execute_input": "2024-04-17T19:40:38.226108Z",
     "iopub.status.busy": "2024-04-17T19:40:38.225550Z",
     "iopub.status.idle": "2024-04-17T19:40:38.391823Z",
     "shell.execute_reply": "2024-04-17T19:40:38.390839Z"
    },
    "papermill": {
     "duration": 0.189101,
     "end_time": "2024-04-17T19:40:38.394303",
     "exception": false,
     "start_time": "2024-04-17T19:40:38.205202",
     "status": "completed"
    },
    "tags": []
   },
   "outputs": [
    {
     "data": {
      "text/plain": [
       "0"
      ]
     },
     "execution_count": 30,
     "metadata": {},
     "output_type": "execute_result"
    }
   ],
   "source": [
    "import gc\n",
    "\n",
    "# Assume `arr` is your numpy array\n",
    "del images\n",
    "\n",
    "# Run the garbage collector\n",
    "gc.collect()"
   ]
  },
  {
   "cell_type": "code",
   "execution_count": 31,
   "id": "fc980f6b",
   "metadata": {
    "execution": {
     "iopub.execute_input": "2024-04-17T19:40:38.434542Z",
     "iopub.status.busy": "2024-04-17T19:40:38.434188Z",
     "iopub.status.idle": "2024-04-17T19:40:38.445570Z",
     "shell.execute_reply": "2024-04-17T19:40:38.444543Z"
    },
    "id": "4b2c9685",
    "outputId": "db02cfbb-a35b-4584-d5a3-e7f69ad31ec6",
    "papermill": {
     "duration": 0.033898,
     "end_time": "2024-04-17T19:40:38.447757",
     "exception": false,
     "start_time": "2024-04-17T19:40:38.413859",
     "status": "completed"
    },
    "tags": []
   },
   "outputs": [
    {
     "name": "stdout",
     "output_type": "stream",
     "text": [
      "[0 2 0 ... 2 0 2]\n",
      "[1 2 1 ... 1 3 2]\n"
     ]
    }
   ],
   "source": [
    "from sklearn.preprocessing import LabelEncoder\n",
    "label_encoder = LabelEncoder()\n",
    "train_labels_encoded = label_encoder.fit_transform(train_labels)\n",
    "test_labels_encoded = label_encoder.transform(test_labels)\n",
    "\n",
    "# Verify the encoded labels\n",
    "print(train_labels_encoded)\n",
    "print(test_labels_encoded)"
   ]
  },
  {
   "cell_type": "code",
   "execution_count": 32,
   "id": "515fd433",
   "metadata": {
    "execution": {
     "iopub.execute_input": "2024-04-17T19:40:38.486391Z",
     "iopub.status.busy": "2024-04-17T19:40:38.486063Z",
     "iopub.status.idle": "2024-04-17T19:40:38.491305Z",
     "shell.execute_reply": "2024-04-17T19:40:38.490288Z"
    },
    "id": "57bb9b57",
    "outputId": "11fedfe4-f4b3-4f63-b745-56561109d4b9",
    "papermill": {
     "duration": 0.027091,
     "end_time": "2024-04-17T19:40:38.493423",
     "exception": false,
     "start_time": "2024-04-17T19:40:38.466332",
     "status": "completed"
    },
    "tags": []
   },
   "outputs": [
    {
     "name": "stdout",
     "output_type": "stream",
     "text": [
      "(8192, 208, 176, 3) (2048, 208, 176, 3) (8192,) (2048,)\n"
     ]
    }
   ],
   "source": [
    "print(train_images.shape, test_images.shape, train_labels_encoded.shape, test_labels_encoded.shape)"
   ]
  },
  {
   "cell_type": "code",
   "execution_count": 33,
   "id": "8374a369",
   "metadata": {
    "execution": {
     "iopub.execute_input": "2024-04-17T19:40:38.531999Z",
     "iopub.status.busy": "2024-04-17T19:40:38.531700Z",
     "iopub.status.idle": "2024-04-17T19:40:38.539225Z",
     "shell.execute_reply": "2024-04-17T19:40:38.538085Z"
    },
    "id": "798b1b57",
    "outputId": "fcf36ea2-e3b4-4f55-e968-966f54b7e4b8",
    "papermill": {
     "duration": 0.02945,
     "end_time": "2024-04-17T19:40:38.541411",
     "exception": false,
     "start_time": "2024-04-17T19:40:38.511961",
     "status": "completed"
    },
    "tags": []
   },
   "outputs": [
    {
     "name": "stdout",
     "output_type": "stream",
     "text": [
      "[1 2 1 ... 1 3 2]\n"
     ]
    },
    {
     "data": {
      "text/plain": [
       "array([1, 2, 1, ..., 1, 3, 2])"
      ]
     },
     "execution_count": 33,
     "metadata": {},
     "output_type": "execute_result"
    }
   ],
   "source": [
    "print(test_labels)\n",
    "test_labels_encoded"
   ]
  },
  {
   "cell_type": "code",
   "execution_count": 34,
   "id": "6e8c4199",
   "metadata": {
    "execution": {
     "iopub.execute_input": "2024-04-17T19:40:38.581540Z",
     "iopub.status.busy": "2024-04-17T19:40:38.581239Z",
     "iopub.status.idle": "2024-04-17T19:40:38.585112Z",
     "shell.execute_reply": "2024-04-17T19:40:38.584117Z"
    },
    "id": "9edfb12a",
    "outputId": "120a904d-24c2-4cb1-9735-89770054f0ae",
    "papermill": {
     "duration": 0.025472,
     "end_time": "2024-04-17T19:40:38.587058",
     "exception": false,
     "start_time": "2024-04-17T19:40:38.561586",
     "status": "completed"
    },
    "tags": []
   },
   "outputs": [],
   "source": [
    "# print(x.index, x.values, x.array)"
   ]
  },
  {
   "cell_type": "code",
   "execution_count": 35,
   "id": "f9d0f0e7",
   "metadata": {
    "execution": {
     "iopub.execute_input": "2024-04-17T19:40:38.624632Z",
     "iopub.status.busy": "2024-04-17T19:40:38.624341Z",
     "iopub.status.idle": "2024-04-17T19:40:38.628365Z",
     "shell.execute_reply": "2024-04-17T19:40:38.627520Z"
    },
    "id": "3bcf626e",
    "outputId": "09122aba-716c-48c5-926e-964698fa9660",
    "papermill": {
     "duration": 0.025318,
     "end_time": "2024-04-17T19:40:38.630286",
     "exception": false,
     "start_time": "2024-04-17T19:40:38.604968",
     "status": "completed"
    },
    "tags": []
   },
   "outputs": [],
   "source": [
    "# s = x / len(files)\n",
    "# class_weights = {i:j for i, j in zip(s.index, s.values)}\n",
    "\n",
    "# class_weights\n",
    "# Optional normalization (weights sum to 1)\n",
    "# total_weight = sum(class_weights.values())\n",
    "# class_weights = {class_label: weight / total_weight for class_label, weight in class_weights.items()}\n"
   ]
  },
  {
   "cell_type": "code",
   "execution_count": 36,
   "id": "ff874bd9",
   "metadata": {
    "execution": {
     "iopub.execute_input": "2024-04-17T19:40:38.667650Z",
     "iopub.status.busy": "2024-04-17T19:40:38.667349Z",
     "iopub.status.idle": "2024-04-17T19:40:52.365210Z",
     "shell.execute_reply": "2024-04-17T19:40:52.364333Z"
    },
    "id": "Vih39UdnN-bA",
    "papermill": {
     "duration": 13.719246,
     "end_time": "2024-04-17T19:40:52.367595",
     "exception": false,
     "start_time": "2024-04-17T19:40:38.648349",
     "status": "completed"
    },
    "tags": []
   },
   "outputs": [
    {
     "name": "stderr",
     "output_type": "stream",
     "text": [
      "2024-04-17 19:40:41.019809: E external/local_xla/xla/stream_executor/cuda/cuda_dnn.cc:9261] Unable to register cuDNN factory: Attempting to register factory for plugin cuDNN when one has already been registered\n",
      "2024-04-17 19:40:41.019958: E external/local_xla/xla/stream_executor/cuda/cuda_fft.cc:607] Unable to register cuFFT factory: Attempting to register factory for plugin cuFFT when one has already been registered\n",
      "2024-04-17 19:40:41.181842: E external/local_xla/xla/stream_executor/cuda/cuda_blas.cc:1515] Unable to register cuBLAS factory: Attempting to register factory for plugin cuBLAS when one has already been registered\n"
     ]
    }
   ],
   "source": [
    "from keras.models import Sequential\n",
    "from keras.layers import Conv2D, MaxPooling2D, Flatten, Dense, Dropout, Input, BatchNormalization\n",
    "from keras.callbacks import EarlyStopping, LearningRateScheduler\n",
    "from keras.utils import to_categorical\n",
    "from sklearn.utils.class_weight import compute_sample_weight\n",
    "from sklearn.model_selection import train_test_split\n",
    "import numpy as np\n",
    "\n",
    "def conv_block(filters, act='relu'):\n",
    "    \"\"\"Defining a Convolutional NN block for a Sequential CNN model. \"\"\"\n",
    "\n",
    "    block = Sequential()\n",
    "    block.add(Conv2D(filters, 3, activation=act, padding='same'))\n",
    "    block.add(Conv2D(filters, 3, activation=act, padding='same'))\n",
    "    block.add(BatchNormalization())\n",
    "    block.add(MaxPooling2D((2, 2)))\n",
    "\n",
    "    return block"
   ]
  },
  {
   "cell_type": "code",
   "execution_count": 37,
   "id": "cc1184ba",
   "metadata": {
    "execution": {
     "iopub.execute_input": "2024-04-17T19:40:52.408150Z",
     "iopub.status.busy": "2024-04-17T19:40:52.407185Z",
     "iopub.status.idle": "2024-04-17T19:40:52.412943Z",
     "shell.execute_reply": "2024-04-17T19:40:52.412045Z"
    },
    "id": "aU00auyBOHPp",
    "papermill": {
     "duration": 0.028019,
     "end_time": "2024-04-17T19:40:52.415109",
     "exception": false,
     "start_time": "2024-04-17T19:40:52.387090",
     "status": "completed"
    },
    "tags": []
   },
   "outputs": [],
   "source": [
    "def dense_block(units, dropout_rate, act='relu'):\n",
    "    \"\"\"Defining a Dense NN block for a Sequential CNN model. \"\"\"\n",
    "\n",
    "    block = Sequential()\n",
    "    block.add(Dense(units, activation=act))\n",
    "    block.add(BatchNormalization())\n",
    "    block.add(Dropout(dropout_rate))\n",
    "\n",
    "    return block"
   ]
  },
  {
   "cell_type": "code",
   "execution_count": 38,
   "id": "5e844f00",
   "metadata": {
    "execution": {
     "iopub.execute_input": "2024-04-17T19:40:52.453233Z",
     "iopub.status.busy": "2024-04-17T19:40:52.452934Z",
     "iopub.status.idle": "2024-04-17T19:40:52.456890Z",
     "shell.execute_reply": "2024-04-17T19:40:52.455998Z"
    },
    "id": "RJOIqi7iPHkI",
    "outputId": "02a2a89f-30e7-4b17-e07e-4d9db5271402",
    "papermill": {
     "duration": 0.025009,
     "end_time": "2024-04-17T19:40:52.458822",
     "exception": false,
     "start_time": "2024-04-17T19:40:52.433813",
     "status": "completed"
    },
    "tags": []
   },
   "outputs": [],
   "source": [
    "# !pip install tensorflow_addons\n"
   ]
  },
  {
   "cell_type": "code",
   "execution_count": 39,
   "id": "2cd06f5a",
   "metadata": {
    "execution": {
     "iopub.execute_input": "2024-04-17T19:40:52.494909Z",
     "iopub.status.busy": "2024-04-17T19:40:52.494624Z",
     "iopub.status.idle": "2024-04-17T19:40:53.166797Z",
     "shell.execute_reply": "2024-04-17T19:40:53.165720Z"
    },
    "id": "MiJ3ybUQOTJH",
    "papermill": {
     "duration": 0.69274,
     "end_time": "2024-04-17T19:40:53.169335",
     "exception": false,
     "start_time": "2024-04-17T19:40:52.476595",
     "status": "completed"
    },
    "tags": []
   },
   "outputs": [],
   "source": [
    "import tensorflow as tf\n",
    "\n",
    "class F1Score(tf.keras.metrics.Metric):\n",
    "    def __init__(self, num_classes, **kwargs):\n",
    "        super(F1Score, self).__init__(**kwargs)\n",
    "        self.num_classes = num_classes\n",
    "        self.precision = tf.keras.metrics.Precision()\n",
    "        self.recall = tf.keras.metrics.Recall()\n",
    "\n",
    "    def update_state(self, y_true, y_pred, sample_weight=None):\n",
    "        self.precision.update_state(y_true, y_pred, sample_weight)\n",
    "        self.recall.update_state(y_true, y_pred, sample_weight)\n",
    "\n",
    "    def result(self):\n",
    "        precision = self.precision.result()\n",
    "        recall = self.recall.result()\n",
    "        return 2 * ((precision * recall) / (precision + recall + tf.keras.backend.epsilon()))\n",
    "\n",
    "    def reset_states(self):\n",
    "        self.precision.reset_states()\n",
    "        self.recall.reset_states()\n",
    "\n",
    "METRICS = [tf.keras.metrics.CategoricalAccuracy(name='acc'),\n",
    "           tf.keras.metrics.AUC(name='auc'),\n",
    "           F1Score(num_classes=4)]"
   ]
  },
  {
   "cell_type": "code",
   "execution_count": 40,
   "id": "426b9b69",
   "metadata": {
    "execution": {
     "iopub.execute_input": "2024-04-17T19:40:53.210725Z",
     "iopub.status.busy": "2024-04-17T19:40:53.210347Z",
     "iopub.status.idle": "2024-04-17T19:40:53.216264Z",
     "shell.execute_reply": "2024-04-17T19:40:53.215243Z"
    },
    "id": "ZrFo4aLjObWp",
    "papermill": {
     "duration": 0.029004,
     "end_time": "2024-04-17T19:40:53.218560",
     "exception": false,
     "start_time": "2024-04-17T19:40:53.189556",
     "status": "completed"
    },
    "tags": []
   },
   "outputs": [],
   "source": [
    "input_shape = train_images[0].shape\n",
    "\n",
    "train_labels_encoded = to_categorical(train_labels, num_classes=4)\n",
    "test_labels_encoded = to_categorical(test_labels, num_classes=4)\n",
    "\n",
    "# sample_weights = compute_sample_weight(class_weight='balanced', y=np.argmax(train_labels_encoded, axis=1))"
   ]
  },
  {
   "cell_type": "code",
   "execution_count": 41,
   "id": "828bbe9e",
   "metadata": {
    "execution": {
     "iopub.execute_input": "2024-04-17T19:40:53.258179Z",
     "iopub.status.busy": "2024-04-17T19:40:53.257822Z",
     "iopub.status.idle": "2024-04-17T19:40:53.264375Z",
     "shell.execute_reply": "2024-04-17T19:40:53.263463Z"
    },
    "id": "BwhCHPnmOMuq",
    "papermill": {
     "duration": 0.028548,
     "end_time": "2024-04-17T19:40:53.266538",
     "exception": false,
     "start_time": "2024-04-17T19:40:53.237990",
     "status": "completed"
    },
    "tags": []
   },
   "outputs": [],
   "source": [
    "def construct_model(act='relu'):\n",
    "    \"\"\"Constructing a Sequential CNN architecture for performing the classification task. \"\"\"\n",
    "\n",
    "    model = Sequential([\n",
    "        Input(shape=(input_shape)),\n",
    "#         Conv2D(16, 3, activation=act, padding='same'),\n",
    "#         Conv2D(16, 3, activation=act, padding='same'),\n",
    "#         MaxPooling2D((2, 2)),\n",
    "        conv_block(32),\n",
    "        conv_block(64),\n",
    "        conv_block(128),\n",
    "        Dropout(0.2),\n",
    "        conv_block(256),\n",
    "        Dropout(0.2),\n",
    "        Flatten(),\n",
    "        dense_block(512, 0.7),\n",
    "        dense_block(128, 0.5),\n",
    "        dense_block(64, 0.3),\n",
    "        Dense(4, activation='softmax')\n",
    "    ], name = \"cnn_model\")\n",
    "\n",
    "    return model"
   ]
  },
  {
   "cell_type": "code",
   "execution_count": 42,
   "id": "5ed40f48",
   "metadata": {
    "execution": {
     "iopub.execute_input": "2024-04-17T19:40:53.306360Z",
     "iopub.status.busy": "2024-04-17T19:40:53.306058Z",
     "iopub.status.idle": "2024-04-17T19:40:53.587457Z",
     "shell.execute_reply": "2024-04-17T19:40:53.586080Z"
    },
    "id": "GW5BFTBwPXbT",
    "outputId": "8f02dd19-e3dc-43fd-e03b-8d86c8034548",
    "papermill": {
     "duration": 0.305064,
     "end_time": "2024-04-17T19:40:53.590880",
     "exception": false,
     "start_time": "2024-04-17T19:40:53.285816",
     "status": "completed"
    },
    "tags": []
   },
   "outputs": [
    {
     "data": {
      "text/html": [
       "<pre style=\"white-space:pre;overflow-x:auto;line-height:normal;font-family:Menlo,'DejaVu Sans Mono',consolas,'Courier New',monospace\"><span style=\"font-weight: bold\">Model: \"cnn_model\"</span>\n",
       "</pre>\n"
      ],
      "text/plain": [
       "\u001b[1mModel: \"cnn_model\"\u001b[0m\n"
      ]
     },
     "metadata": {},
     "output_type": "display_data"
    },
    {
     "data": {
      "text/html": [
       "<pre style=\"white-space:pre;overflow-x:auto;line-height:normal;font-family:Menlo,'DejaVu Sans Mono',consolas,'Courier New',monospace\">┏━━━━━━━━━━━━━━━━━━━━━━━━━━━━━━━━━┳━━━━━━━━━━━━━━━━━━━━━━━━┳━━━━━━━━━━━━━━━┓\n",
       "┃<span style=\"font-weight: bold\"> Layer (type)                    </span>┃<span style=\"font-weight: bold\"> Output Shape           </span>┃<span style=\"font-weight: bold\">       Param # </span>┃\n",
       "┡━━━━━━━━━━━━━━━━━━━━━━━━━━━━━━━━━╇━━━━━━━━━━━━━━━━━━━━━━━━╇━━━━━━━━━━━━━━━┩\n",
       "│ sequential (<span style=\"color: #0087ff; text-decoration-color: #0087ff\">Sequential</span>)         │ (<span style=\"color: #00d7ff; text-decoration-color: #00d7ff\">None</span>, <span style=\"color: #00af00; text-decoration-color: #00af00\">104</span>, <span style=\"color: #00af00; text-decoration-color: #00af00\">88</span>, <span style=\"color: #00af00; text-decoration-color: #00af00\">32</span>)    │        <span style=\"color: #00af00; text-decoration-color: #00af00\">10,272</span> │\n",
       "├─────────────────────────────────┼────────────────────────┼───────────────┤\n",
       "│ sequential_1 (<span style=\"color: #0087ff; text-decoration-color: #0087ff\">Sequential</span>)       │ (<span style=\"color: #00d7ff; text-decoration-color: #00d7ff\">None</span>, <span style=\"color: #00af00; text-decoration-color: #00af00\">52</span>, <span style=\"color: #00af00; text-decoration-color: #00af00\">44</span>, <span style=\"color: #00af00; text-decoration-color: #00af00\">64</span>)     │        <span style=\"color: #00af00; text-decoration-color: #00af00\">55,680</span> │\n",
       "├─────────────────────────────────┼────────────────────────┼───────────────┤\n",
       "│ sequential_2 (<span style=\"color: #0087ff; text-decoration-color: #0087ff\">Sequential</span>)       │ (<span style=\"color: #00d7ff; text-decoration-color: #00d7ff\">None</span>, <span style=\"color: #00af00; text-decoration-color: #00af00\">26</span>, <span style=\"color: #00af00; text-decoration-color: #00af00\">22</span>, <span style=\"color: #00af00; text-decoration-color: #00af00\">128</span>)    │       <span style=\"color: #00af00; text-decoration-color: #00af00\">221,952</span> │\n",
       "├─────────────────────────────────┼────────────────────────┼───────────────┤\n",
       "│ dropout (<span style=\"color: #0087ff; text-decoration-color: #0087ff\">Dropout</span>)               │ (<span style=\"color: #00d7ff; text-decoration-color: #00d7ff\">None</span>, <span style=\"color: #00af00; text-decoration-color: #00af00\">26</span>, <span style=\"color: #00af00; text-decoration-color: #00af00\">22</span>, <span style=\"color: #00af00; text-decoration-color: #00af00\">128</span>)    │             <span style=\"color: #00af00; text-decoration-color: #00af00\">0</span> │\n",
       "├─────────────────────────────────┼────────────────────────┼───────────────┤\n",
       "│ sequential_3 (<span style=\"color: #0087ff; text-decoration-color: #0087ff\">Sequential</span>)       │ (<span style=\"color: #00d7ff; text-decoration-color: #00d7ff\">None</span>, <span style=\"color: #00af00; text-decoration-color: #00af00\">13</span>, <span style=\"color: #00af00; text-decoration-color: #00af00\">11</span>, <span style=\"color: #00af00; text-decoration-color: #00af00\">256</span>)    │       <span style=\"color: #00af00; text-decoration-color: #00af00\">886,272</span> │\n",
       "├─────────────────────────────────┼────────────────────────┼───────────────┤\n",
       "│ dropout_1 (<span style=\"color: #0087ff; text-decoration-color: #0087ff\">Dropout</span>)             │ (<span style=\"color: #00d7ff; text-decoration-color: #00d7ff\">None</span>, <span style=\"color: #00af00; text-decoration-color: #00af00\">13</span>, <span style=\"color: #00af00; text-decoration-color: #00af00\">11</span>, <span style=\"color: #00af00; text-decoration-color: #00af00\">256</span>)    │             <span style=\"color: #00af00; text-decoration-color: #00af00\">0</span> │\n",
       "├─────────────────────────────────┼────────────────────────┼───────────────┤\n",
       "│ flatten (<span style=\"color: #0087ff; text-decoration-color: #0087ff\">Flatten</span>)               │ (<span style=\"color: #00d7ff; text-decoration-color: #00d7ff\">None</span>, <span style=\"color: #00af00; text-decoration-color: #00af00\">36608</span>)          │             <span style=\"color: #00af00; text-decoration-color: #00af00\">0</span> │\n",
       "├─────────────────────────────────┼────────────────────────┼───────────────┤\n",
       "│ sequential_4 (<span style=\"color: #0087ff; text-decoration-color: #0087ff\">Sequential</span>)       │ (<span style=\"color: #00d7ff; text-decoration-color: #00d7ff\">None</span>, <span style=\"color: #00af00; text-decoration-color: #00af00\">512</span>)            │    <span style=\"color: #00af00; text-decoration-color: #00af00\">18,745,856</span> │\n",
       "├─────────────────────────────────┼────────────────────────┼───────────────┤\n",
       "│ sequential_5 (<span style=\"color: #0087ff; text-decoration-color: #0087ff\">Sequential</span>)       │ (<span style=\"color: #00d7ff; text-decoration-color: #00d7ff\">None</span>, <span style=\"color: #00af00; text-decoration-color: #00af00\">128</span>)            │        <span style=\"color: #00af00; text-decoration-color: #00af00\">66,176</span> │\n",
       "├─────────────────────────────────┼────────────────────────┼───────────────┤\n",
       "│ sequential_6 (<span style=\"color: #0087ff; text-decoration-color: #0087ff\">Sequential</span>)       │ (<span style=\"color: #00d7ff; text-decoration-color: #00d7ff\">None</span>, <span style=\"color: #00af00; text-decoration-color: #00af00\">64</span>)             │         <span style=\"color: #00af00; text-decoration-color: #00af00\">8,512</span> │\n",
       "├─────────────────────────────────┼────────────────────────┼───────────────┤\n",
       "│ dense_3 (<span style=\"color: #0087ff; text-decoration-color: #0087ff\">Dense</span>)                 │ (<span style=\"color: #00d7ff; text-decoration-color: #00d7ff\">None</span>, <span style=\"color: #00af00; text-decoration-color: #00af00\">4</span>)              │           <span style=\"color: #00af00; text-decoration-color: #00af00\">260</span> │\n",
       "└─────────────────────────────────┴────────────────────────┴───────────────┘\n",
       "</pre>\n"
      ],
      "text/plain": [
       "┏━━━━━━━━━━━━━━━━━━━━━━━━━━━━━━━━━┳━━━━━━━━━━━━━━━━━━━━━━━━┳━━━━━━━━━━━━━━━┓\n",
       "┃\u001b[1m \u001b[0m\u001b[1mLayer (type)                   \u001b[0m\u001b[1m \u001b[0m┃\u001b[1m \u001b[0m\u001b[1mOutput Shape          \u001b[0m\u001b[1m \u001b[0m┃\u001b[1m \u001b[0m\u001b[1m      Param #\u001b[0m\u001b[1m \u001b[0m┃\n",
       "┡━━━━━━━━━━━━━━━━━━━━━━━━━━━━━━━━━╇━━━━━━━━━━━━━━━━━━━━━━━━╇━━━━━━━━━━━━━━━┩\n",
       "│ sequential (\u001b[38;5;33mSequential\u001b[0m)         │ (\u001b[38;5;45mNone\u001b[0m, \u001b[38;5;34m104\u001b[0m, \u001b[38;5;34m88\u001b[0m, \u001b[38;5;34m32\u001b[0m)    │        \u001b[38;5;34m10,272\u001b[0m │\n",
       "├─────────────────────────────────┼────────────────────────┼───────────────┤\n",
       "│ sequential_1 (\u001b[38;5;33mSequential\u001b[0m)       │ (\u001b[38;5;45mNone\u001b[0m, \u001b[38;5;34m52\u001b[0m, \u001b[38;5;34m44\u001b[0m, \u001b[38;5;34m64\u001b[0m)     │        \u001b[38;5;34m55,680\u001b[0m │\n",
       "├─────────────────────────────────┼────────────────────────┼───────────────┤\n",
       "│ sequential_2 (\u001b[38;5;33mSequential\u001b[0m)       │ (\u001b[38;5;45mNone\u001b[0m, \u001b[38;5;34m26\u001b[0m, \u001b[38;5;34m22\u001b[0m, \u001b[38;5;34m128\u001b[0m)    │       \u001b[38;5;34m221,952\u001b[0m │\n",
       "├─────────────────────────────────┼────────────────────────┼───────────────┤\n",
       "│ dropout (\u001b[38;5;33mDropout\u001b[0m)               │ (\u001b[38;5;45mNone\u001b[0m, \u001b[38;5;34m26\u001b[0m, \u001b[38;5;34m22\u001b[0m, \u001b[38;5;34m128\u001b[0m)    │             \u001b[38;5;34m0\u001b[0m │\n",
       "├─────────────────────────────────┼────────────────────────┼───────────────┤\n",
       "│ sequential_3 (\u001b[38;5;33mSequential\u001b[0m)       │ (\u001b[38;5;45mNone\u001b[0m, \u001b[38;5;34m13\u001b[0m, \u001b[38;5;34m11\u001b[0m, \u001b[38;5;34m256\u001b[0m)    │       \u001b[38;5;34m886,272\u001b[0m │\n",
       "├─────────────────────────────────┼────────────────────────┼───────────────┤\n",
       "│ dropout_1 (\u001b[38;5;33mDropout\u001b[0m)             │ (\u001b[38;5;45mNone\u001b[0m, \u001b[38;5;34m13\u001b[0m, \u001b[38;5;34m11\u001b[0m, \u001b[38;5;34m256\u001b[0m)    │             \u001b[38;5;34m0\u001b[0m │\n",
       "├─────────────────────────────────┼────────────────────────┼───────────────┤\n",
       "│ flatten (\u001b[38;5;33mFlatten\u001b[0m)               │ (\u001b[38;5;45mNone\u001b[0m, \u001b[38;5;34m36608\u001b[0m)          │             \u001b[38;5;34m0\u001b[0m │\n",
       "├─────────────────────────────────┼────────────────────────┼───────────────┤\n",
       "│ sequential_4 (\u001b[38;5;33mSequential\u001b[0m)       │ (\u001b[38;5;45mNone\u001b[0m, \u001b[38;5;34m512\u001b[0m)            │    \u001b[38;5;34m18,745,856\u001b[0m │\n",
       "├─────────────────────────────────┼────────────────────────┼───────────────┤\n",
       "│ sequential_5 (\u001b[38;5;33mSequential\u001b[0m)       │ (\u001b[38;5;45mNone\u001b[0m, \u001b[38;5;34m128\u001b[0m)            │        \u001b[38;5;34m66,176\u001b[0m │\n",
       "├─────────────────────────────────┼────────────────────────┼───────────────┤\n",
       "│ sequential_6 (\u001b[38;5;33mSequential\u001b[0m)       │ (\u001b[38;5;45mNone\u001b[0m, \u001b[38;5;34m64\u001b[0m)             │         \u001b[38;5;34m8,512\u001b[0m │\n",
       "├─────────────────────────────────┼────────────────────────┼───────────────┤\n",
       "│ dense_3 (\u001b[38;5;33mDense\u001b[0m)                 │ (\u001b[38;5;45mNone\u001b[0m, \u001b[38;5;34m4\u001b[0m)              │           \u001b[38;5;34m260\u001b[0m │\n",
       "└─────────────────────────────────┴────────────────────────┴───────────────┘\n"
      ]
     },
     "metadata": {},
     "output_type": "display_data"
    },
    {
     "data": {
      "text/html": [
       "<pre style=\"white-space:pre;overflow-x:auto;line-height:normal;font-family:Menlo,'DejaVu Sans Mono',consolas,'Courier New',monospace\"><span style=\"font-weight: bold\"> Total params: </span><span style=\"color: #00af00; text-decoration-color: #00af00\">19,994,980</span> (76.27 MB)\n",
       "</pre>\n"
      ],
      "text/plain": [
       "\u001b[1m Total params: \u001b[0m\u001b[38;5;34m19,994,980\u001b[0m (76.27 MB)\n"
      ]
     },
     "metadata": {},
     "output_type": "display_data"
    },
    {
     "data": {
      "text/html": [
       "<pre style=\"white-space:pre;overflow-x:auto;line-height:normal;font-family:Menlo,'DejaVu Sans Mono',consolas,'Courier New',monospace\"><span style=\"font-weight: bold\"> Trainable params: </span><span style=\"color: #00af00; text-decoration-color: #00af00\">19,992,612</span> (76.27 MB)\n",
       "</pre>\n"
      ],
      "text/plain": [
       "\u001b[1m Trainable params: \u001b[0m\u001b[38;5;34m19,992,612\u001b[0m (76.27 MB)\n"
      ]
     },
     "metadata": {},
     "output_type": "display_data"
    },
    {
     "data": {
      "text/html": [
       "<pre style=\"white-space:pre;overflow-x:auto;line-height:normal;font-family:Menlo,'DejaVu Sans Mono',consolas,'Courier New',monospace\"><span style=\"font-weight: bold\"> Non-trainable params: </span><span style=\"color: #00af00; text-decoration-color: #00af00\">2,368</span> (9.25 KB)\n",
       "</pre>\n"
      ],
      "text/plain": [
       "\u001b[1m Non-trainable params: \u001b[0m\u001b[38;5;34m2,368\u001b[0m (9.25 KB)\n"
      ]
     },
     "metadata": {},
     "output_type": "display_data"
    }
   ],
   "source": [
    "model = construct_model()\n",
    "model.compile(optimizer='adam',\n",
    "              loss='categorical_crossentropy',\n",
    "              metrics=METRICS)\n",
    "\n",
    "model.summary()\n"
   ]
  },
  {
   "cell_type": "code",
   "execution_count": 43,
   "id": "db29f9fe",
   "metadata": {
    "execution": {
     "iopub.execute_input": "2024-04-17T19:40:53.637743Z",
     "iopub.status.busy": "2024-04-17T19:40:53.637427Z",
     "iopub.status.idle": "2024-04-17T19:40:53.646860Z",
     "shell.execute_reply": "2024-04-17T19:40:53.645864Z"
    },
    "id": "-S4uJezqQPbH",
    "papermill": {
     "duration": 0.033181,
     "end_time": "2024-04-17T19:40:53.649027",
     "exception": false,
     "start_time": "2024-04-17T19:40:53.615846",
     "status": "completed"
    },
    "tags": []
   },
   "outputs": [],
   "source": [
    "from keras.optimizers import Adam\n",
    "def lr_schedule(epoch, learning_rate):\n",
    "    if epoch < 20:\n",
    "        return learning_rate\n",
    "    else:\n",
    "        if epoch % 2 == 0:\n",
    "          return learning_rate * 0.95\n",
    "        else:\n",
    "          return learning_rate\n",
    "\n",
    "lr_scheduler = LearningRateScheduler(lr_schedule, verbose=1)\n",
    "\n",
    "initial_learning_rate = 0.001\n",
    "optimizer = Adam(learning_rate=initial_learning_rate)"
   ]
  },
  {
   "cell_type": "code",
   "execution_count": 44,
   "id": "17520ac6",
   "metadata": {
    "execution": {
     "iopub.execute_input": "2024-04-17T19:40:53.690712Z",
     "iopub.status.busy": "2024-04-17T19:40:53.690426Z",
     "iopub.status.idle": "2024-04-17T19:40:53.695980Z",
     "shell.execute_reply": "2024-04-17T19:40:53.695001Z"
    },
    "id": "Wm4LePTeUtVN",
    "papermill": {
     "duration": 0.028769,
     "end_time": "2024-04-17T19:40:53.698098",
     "exception": false,
     "start_time": "2024-04-17T19:40:53.669329",
     "status": "completed"
    },
    "tags": []
   },
   "outputs": [],
   "source": [
    "class MyCallback(tf.keras.callbacks.Callback):\n",
    "    def on_epoch_end(self, epoch, logs={}):\n",
    "        if logs.get('val_acc') > 0.995:\n",
    "            print(\"\\nReached accuracy threshold! Terminating training.\")\n",
    "            self.model.stop_training = True\n",
    "\n",
    "my_callback = MyCallback()\n",
    "\n",
    "CALLBACKS = [my_callback, lr_scheduler]"
   ]
  },
  {
   "cell_type": "code",
   "execution_count": 45,
   "id": "ce2f3b8e",
   "metadata": {
    "execution": {
     "iopub.execute_input": "2024-04-17T19:40:53.737363Z",
     "iopub.status.busy": "2024-04-17T19:40:53.736621Z",
     "iopub.status.idle": "2024-04-17T20:08:43.086702Z",
     "shell.execute_reply": "2024-04-17T20:08:43.085659Z"
    },
    "id": "tSNJSmmMP9zT",
    "outputId": "7d68c083-d5f4-4323-8514-204d0b2c4371",
    "papermill": {
     "duration": 1669.372318,
     "end_time": "2024-04-17T20:08:43.089508",
     "exception": false,
     "start_time": "2024-04-17T19:40:53.717190",
     "status": "completed"
    },
    "tags": []
   },
   "outputs": [
    {
     "name": "stdout",
     "output_type": "stream",
     "text": [
      "\n",
      "Epoch 1: LearningRateScheduler setting learning rate to 0.0010000000474974513.\n",
      "Epoch 1/50\n",
      "\u001b[1m  1/256\u001b[0m \u001b[37m━━━━━━━━━━━━━━━━━━━━\u001b[0m \u001b[1m2:54:49\u001b[0m 41s/step - acc: 0.1875 - auc: 0.4227 - f1_score: 0.1404 - loss: 2.4916"
     ]
    },
    {
     "name": "stderr",
     "output_type": "stream",
     "text": [
      "WARNING: All log messages before absl::InitializeLog() is called are written to STDERR\n",
      "I0000 00:00:1713382912.081924      73 device_compiler.h:186] Compiled cluster using XLA!  This line is logged at most once for the lifetime of the process.\n",
      "W0000 00:00:1713382912.114115      73 graph_launch.cc:671] Fallback to op-by-op mode because memset node breaks graph update\n"
     ]
    },
    {
     "name": "stdout",
     "output_type": "stream",
     "text": [
      "\u001b[1m256/256\u001b[0m \u001b[32m━━━━━━━━━━━━━━━━━━━━\u001b[0m\u001b[37m\u001b[0m \u001b[1m0s\u001b[0m 111ms/step - acc: 0.3713 - auc: 0.6392 - f1_score: 0.3234 - loss: 1.6512"
     ]
    },
    {
     "name": "stderr",
     "output_type": "stream",
     "text": [
      "W0000 00:00:1713382946.747368      71 graph_launch.cc:671] Fallback to op-by-op mode because memset node breaks graph update\n"
     ]
    },
    {
     "name": "stdout",
     "output_type": "stream",
     "text": [
      "\u001b[1m256/256\u001b[0m \u001b[32m━━━━━━━━━━━━━━━━━━━━\u001b[0m\u001b[37m\u001b[0m \u001b[1m78s\u001b[0m 144ms/step - acc: 0.3714 - auc: 0.6394 - f1_score: 0.3235 - loss: 1.6505 - val_acc: 0.4609 - val_auc: 0.7705 - val_f1_score: 0.3211 - val_loss: 1.1143 - learning_rate: 0.0010\n",
      "\n",
      "Epoch 2: LearningRateScheduler setting learning rate to 0.0010000000474974513.\n",
      "Epoch 2/50\n",
      "\u001b[1m256/256\u001b[0m \u001b[32m━━━━━━━━━━━━━━━━━━━━\u001b[0m\u001b[37m\u001b[0m \u001b[1m31s\u001b[0m 122ms/step - acc: 0.4163 - auc: 0.7251 - f1_score: 0.3453 - loss: 1.2471 - val_acc: 0.4658 - val_auc: 0.7671 - val_f1_score: 0.4593 - val_loss: 1.3502 - learning_rate: 0.0010\n",
      "\n",
      "Epoch 3: LearningRateScheduler setting learning rate to 0.0010000000474974513.\n",
      "Epoch 3/50\n",
      "\u001b[1m256/256\u001b[0m \u001b[32m━━━━━━━━━━━━━━━━━━━━\u001b[0m\u001b[37m\u001b[0m \u001b[1m32s\u001b[0m 125ms/step - acc: 0.4640 - auc: 0.7672 - f1_score: 0.3737 - loss: 1.1111 - val_acc: 0.5078 - val_auc: 0.7995 - val_f1_score: 0.3479 - val_loss: 1.0154 - learning_rate: 0.0010\n",
      "\n",
      "Epoch 4: LearningRateScheduler setting learning rate to 0.0010000000474974513.\n",
      "Epoch 4/50\n",
      "\u001b[1m256/256\u001b[0m \u001b[32m━━━━━━━━━━━━━━━━━━━━\u001b[0m\u001b[37m\u001b[0m \u001b[1m31s\u001b[0m 123ms/step - acc: 0.4993 - auc: 0.7928 - f1_score: 0.4063 - loss: 1.0426 - val_acc: 0.5288 - val_auc: 0.8243 - val_f1_score: 0.2765 - val_loss: 0.9705 - learning_rate: 0.0010\n",
      "\n",
      "Epoch 5: LearningRateScheduler setting learning rate to 0.0010000000474974513.\n",
      "Epoch 5/50\n",
      "\u001b[1m256/256\u001b[0m \u001b[32m━━━━━━━━━━━━━━━━━━━━\u001b[0m\u001b[37m\u001b[0m \u001b[1m32s\u001b[0m 123ms/step - acc: 0.5425 - auc: 0.8248 - f1_score: 0.4447 - loss: 0.9606 - val_acc: 0.4912 - val_auc: 0.7764 - val_f1_score: 0.4601 - val_loss: 1.1577 - learning_rate: 0.0010\n",
      "\n",
      "Epoch 6: LearningRateScheduler setting learning rate to 0.0010000000474974513.\n",
      "Epoch 6/50\n",
      "\u001b[1m256/256\u001b[0m \u001b[32m━━━━━━━━━━━━━━━━━━━━\u001b[0m\u001b[37m\u001b[0m \u001b[1m32s\u001b[0m 124ms/step - acc: 0.6027 - auc: 0.8626 - f1_score: 0.5376 - loss: 0.8612 - val_acc: 0.4888 - val_auc: 0.7856 - val_f1_score: 0.4620 - val_loss: 1.1632 - learning_rate: 0.0010\n",
      "\n",
      "Epoch 7: LearningRateScheduler setting learning rate to 0.0010000000474974513.\n",
      "Epoch 7/50\n",
      "\u001b[1m256/256\u001b[0m \u001b[32m━━━━━━━━━━━━━━━━━━━━\u001b[0m\u001b[37m\u001b[0m \u001b[1m31s\u001b[0m 123ms/step - acc: 0.6912 - auc: 0.9155 - f1_score: 0.6670 - loss: 0.6830 - val_acc: 0.6406 - val_auc: 0.9002 - val_f1_score: 0.5877 - val_loss: 0.7136 - learning_rate: 0.0010\n",
      "\n",
      "Epoch 8: LearningRateScheduler setting learning rate to 0.0010000000474974513.\n",
      "Epoch 8/50\n",
      "\u001b[1m256/256\u001b[0m \u001b[32m━━━━━━━━━━━━━━━━━━━━\u001b[0m\u001b[37m\u001b[0m \u001b[1m32s\u001b[0m 124ms/step - acc: 0.7054 - auc: 0.9210 - f1_score: 0.6757 - loss: 0.6526 - val_acc: 0.4717 - val_auc: 0.7945 - val_f1_score: 0.4815 - val_loss: 1.3582 - learning_rate: 0.0010\n",
      "\n",
      "Epoch 9: LearningRateScheduler setting learning rate to 0.0010000000474974513.\n",
      "Epoch 9/50\n",
      "\u001b[1m256/256\u001b[0m \u001b[32m━━━━━━━━━━━━━━━━━━━━\u001b[0m\u001b[37m\u001b[0m \u001b[1m32s\u001b[0m 123ms/step - acc: 0.7279 - auc: 0.9321 - f1_score: 0.7066 - loss: 0.6035 - val_acc: 0.6797 - val_auc: 0.9174 - val_f1_score: 0.6675 - val_loss: 0.6849 - learning_rate: 0.0010\n",
      "\n",
      "Epoch 10: LearningRateScheduler setting learning rate to 0.0010000000474974513.\n",
      "Epoch 10/50\n",
      "\u001b[1m256/256\u001b[0m \u001b[32m━━━━━━━━━━━━━━━━━━━━\u001b[0m\u001b[37m\u001b[0m \u001b[1m32s\u001b[0m 125ms/step - acc: 0.7282 - auc: 0.9325 - f1_score: 0.7077 - loss: 0.6010 - val_acc: 0.5234 - val_auc: 0.7818 - val_f1_score: 0.5189 - val_loss: 1.6243 - learning_rate: 0.0010\n",
      "\n",
      "Epoch 11: LearningRateScheduler setting learning rate to 0.0010000000474974513.\n",
      "Epoch 11/50\n",
      "\u001b[1m256/256\u001b[0m \u001b[32m━━━━━━━━━━━━━━━━━━━━\u001b[0m\u001b[37m\u001b[0m \u001b[1m32s\u001b[0m 124ms/step - acc: 0.7510 - auc: 0.9404 - f1_score: 0.7400 - loss: 0.5698 - val_acc: 0.7305 - val_auc: 0.9387 - val_f1_score: 0.7293 - val_loss: 0.5706 - learning_rate: 0.0010\n",
      "\n",
      "Epoch 12: LearningRateScheduler setting learning rate to 0.0010000000474974513.\n",
      "Epoch 12/50\n",
      "\u001b[1m256/256\u001b[0m \u001b[32m━━━━━━━━━━━━━━━━━━━━\u001b[0m\u001b[37m\u001b[0m \u001b[1m32s\u001b[0m 123ms/step - acc: 0.7649 - auc: 0.9485 - f1_score: 0.7548 - loss: 0.5294 - val_acc: 0.6934 - val_auc: 0.9247 - val_f1_score: 0.6914 - val_loss: 0.6734 - learning_rate: 0.0010\n",
      "\n",
      "Epoch 13: LearningRateScheduler setting learning rate to 0.0010000000474974513.\n",
      "Epoch 13/50\n",
      "\u001b[1m256/256\u001b[0m \u001b[32m━━━━━━━━━━━━━━━━━━━━\u001b[0m\u001b[37m\u001b[0m \u001b[1m32s\u001b[0m 123ms/step - acc: 0.7641 - auc: 0.9438 - f1_score: 0.7573 - loss: 0.5580 - val_acc: 0.7778 - val_auc: 0.9512 - val_f1_score: 0.7736 - val_loss: 0.5402 - learning_rate: 0.0010\n",
      "\n",
      "Epoch 14: LearningRateScheduler setting learning rate to 0.0010000000474974513.\n",
      "Epoch 14/50\n",
      "\u001b[1m256/256\u001b[0m \u001b[32m━━━━━━━━━━━━━━━━━━━━\u001b[0m\u001b[37m\u001b[0m \u001b[1m31s\u001b[0m 123ms/step - acc: 0.7872 - auc: 0.9563 - f1_score: 0.7841 - loss: 0.4881 - val_acc: 0.7378 - val_auc: 0.9396 - val_f1_score: 0.7315 - val_loss: 0.5802 - learning_rate: 0.0010\n",
      "\n",
      "Epoch 15: LearningRateScheduler setting learning rate to 0.0010000000474974513.\n",
      "Epoch 15/50\n",
      "\u001b[1m256/256\u001b[0m \u001b[32m━━━━━━━━━━━━━━━━━━━━\u001b[0m\u001b[37m\u001b[0m \u001b[1m31s\u001b[0m 123ms/step - acc: 0.7726 - auc: 0.9443 - f1_score: 0.7658 - loss: 0.5621 - val_acc: 0.6895 - val_auc: 0.9219 - val_f1_score: 0.6850 - val_loss: 0.6718 - learning_rate: 0.0010\n",
      "\n",
      "Epoch 16: LearningRateScheduler setting learning rate to 0.0010000000474974513.\n",
      "Epoch 16/50\n",
      "\u001b[1m256/256\u001b[0m \u001b[32m━━━━━━━━━━━━━━━━━━━━\u001b[0m\u001b[37m\u001b[0m \u001b[1m31s\u001b[0m 123ms/step - acc: 0.8058 - auc: 0.9604 - f1_score: 0.7995 - loss: 0.4660 - val_acc: 0.8276 - val_auc: 0.9685 - val_f1_score: 0.8225 - val_loss: 0.4244 - learning_rate: 0.0010\n",
      "\n",
      "Epoch 17: LearningRateScheduler setting learning rate to 0.0010000000474974513.\n",
      "Epoch 17/50\n",
      "\u001b[1m256/256\u001b[0m \u001b[32m━━━━━━━━━━━━━━━━━━━━\u001b[0m\u001b[37m\u001b[0m \u001b[1m41s\u001b[0m 123ms/step - acc: 0.8455 - auc: 0.9720 - f1_score: 0.8442 - loss: 0.3910 - val_acc: 0.8110 - val_auc: 0.9683 - val_f1_score: 0.8110 - val_loss: 0.4215 - learning_rate: 0.0010\n",
      "\n",
      "Epoch 18: LearningRateScheduler setting learning rate to 0.0010000000474974513.\n",
      "Epoch 18/50\n",
      "\u001b[1m256/256\u001b[0m \u001b[32m━━━━━━━━━━━━━━━━━━━━\u001b[0m\u001b[37m\u001b[0m \u001b[1m32s\u001b[0m 124ms/step - acc: 0.8709 - auc: 0.9801 - f1_score: 0.8695 - loss: 0.3275 - val_acc: 0.8516 - val_auc: 0.9758 - val_f1_score: 0.8515 - val_loss: 0.3687 - learning_rate: 0.0010\n",
      "\n",
      "Epoch 19: LearningRateScheduler setting learning rate to 0.0010000000474974513.\n",
      "Epoch 19/50\n",
      "\u001b[1m256/256\u001b[0m \u001b[32m━━━━━━━━━━━━━━━━━━━━\u001b[0m\u001b[37m\u001b[0m \u001b[1m31s\u001b[0m 122ms/step - acc: 0.8880 - auc: 0.9844 - f1_score: 0.8881 - loss: 0.2887 - val_acc: 0.7700 - val_auc: 0.9576 - val_f1_score: 0.7704 - val_loss: 0.5821 - learning_rate: 0.0010\n",
      "\n",
      "Epoch 20: LearningRateScheduler setting learning rate to 0.0010000000474974513.\n",
      "Epoch 20/50\n",
      "\u001b[1m256/256\u001b[0m \u001b[32m━━━━━━━━━━━━━━━━━━━━\u001b[0m\u001b[37m\u001b[0m \u001b[1m31s\u001b[0m 123ms/step - acc: 0.9055 - auc: 0.9884 - f1_score: 0.9040 - loss: 0.2470 - val_acc: 0.8833 - val_auc: 0.9840 - val_f1_score: 0.8835 - val_loss: 0.2920 - learning_rate: 0.0010\n",
      "\n",
      "Epoch 21: LearningRateScheduler setting learning rate to 0.0009500000451225787.\n",
      "Epoch 21/50\n",
      "\u001b[1m256/256\u001b[0m \u001b[32m━━━━━━━━━━━━━━━━━━━━\u001b[0m\u001b[37m\u001b[0m \u001b[1m31s\u001b[0m 123ms/step - acc: 0.9209 - auc: 0.9905 - f1_score: 0.9217 - loss: 0.2211 - val_acc: 0.8462 - val_auc: 0.9772 - val_f1_score: 0.8461 - val_loss: 0.3973 - learning_rate: 9.5000e-04\n",
      "\n",
      "Epoch 22: LearningRateScheduler setting learning rate to 0.0009500000160187483.\n",
      "Epoch 22/50\n",
      "\u001b[1m256/256\u001b[0m \u001b[32m━━━━━━━━━━━━━━━━━━━━\u001b[0m\u001b[37m\u001b[0m \u001b[1m31s\u001b[0m 123ms/step - acc: 0.9389 - auc: 0.9940 - f1_score: 0.9386 - loss: 0.1716 - val_acc: 0.9385 - val_auc: 0.9948 - val_f1_score: 0.9381 - val_loss: 0.1643 - learning_rate: 9.5000e-04\n",
      "\n",
      "Epoch 23: LearningRateScheduler setting learning rate to 0.0009025000152178108.\n",
      "Epoch 23/50\n",
      "\u001b[1m256/256\u001b[0m \u001b[32m━━━━━━━━━━━━━━━━━━━━\u001b[0m\u001b[37m\u001b[0m \u001b[1m31s\u001b[0m 122ms/step - acc: 0.9456 - auc: 0.9949 - f1_score: 0.9463 - loss: 0.1503 - val_acc: 0.9370 - val_auc: 0.9948 - val_f1_score: 0.9374 - val_loss: 0.1624 - learning_rate: 9.0250e-04\n",
      "\n",
      "Epoch 24: LearningRateScheduler setting learning rate to 0.0009025000035762787.\n",
      "Epoch 24/50\n",
      "\u001b[1m256/256\u001b[0m \u001b[32m━━━━━━━━━━━━━━━━━━━━\u001b[0m\u001b[37m\u001b[0m \u001b[1m31s\u001b[0m 122ms/step - acc: 0.9520 - auc: 0.9960 - f1_score: 0.9517 - loss: 0.1364 - val_acc: 0.6958 - val_auc: 0.8872 - val_f1_score: 0.6912 - val_loss: 1.0253 - learning_rate: 9.0250e-04\n",
      "\n",
      "Epoch 25: LearningRateScheduler setting learning rate to 0.0008573750033974647.\n",
      "Epoch 25/50\n",
      "\u001b[1m256/256\u001b[0m \u001b[32m━━━━━━━━━━━━━━━━━━━━\u001b[0m\u001b[37m\u001b[0m \u001b[1m31s\u001b[0m 123ms/step - acc: 0.9535 - auc: 0.9961 - f1_score: 0.9534 - loss: 0.1310 - val_acc: 0.9585 - val_auc: 0.9965 - val_f1_score: 0.9585 - val_loss: 0.1208 - learning_rate: 8.5737e-04\n",
      "\n",
      "Epoch 26: LearningRateScheduler setting learning rate to 0.0008573749801144004.\n",
      "Epoch 26/50\n",
      "\u001b[1m256/256\u001b[0m \u001b[32m━━━━━━━━━━━━━━━━━━━━\u001b[0m\u001b[37m\u001b[0m \u001b[1m32s\u001b[0m 123ms/step - acc: 0.9655 - auc: 0.9975 - f1_score: 0.9656 - loss: 0.1047 - val_acc: 0.8828 - val_auc: 0.9834 - val_f1_score: 0.8831 - val_loss: 0.3330 - learning_rate: 8.5737e-04\n",
      "\n",
      "Epoch 27: LearningRateScheduler setting learning rate to 0.0008145062311086804.\n",
      "Epoch 27/50\n",
      "\u001b[1m256/256\u001b[0m \u001b[32m━━━━━━━━━━━━━━━━━━━━\u001b[0m\u001b[37m\u001b[0m \u001b[1m32s\u001b[0m 123ms/step - acc: 0.9662 - auc: 0.9972 - f1_score: 0.9660 - loss: 0.1089 - val_acc: 0.9316 - val_auc: 0.9913 - val_f1_score: 0.9319 - val_loss: 0.2080 - learning_rate: 8.1451e-04\n",
      "\n",
      "Epoch 28: LearningRateScheduler setting learning rate to 0.0008145062020048499.\n",
      "Epoch 28/50\n",
      "\u001b[1m256/256\u001b[0m \u001b[32m━━━━━━━━━━━━━━━━━━━━\u001b[0m\u001b[37m\u001b[0m \u001b[1m31s\u001b[0m 123ms/step - acc: 0.9720 - auc: 0.9978 - f1_score: 0.9719 - loss: 0.0817 - val_acc: 0.9487 - val_auc: 0.9940 - val_f1_score: 0.9485 - val_loss: 0.1537 - learning_rate: 8.1451e-04\n",
      "\n",
      "Epoch 29: LearningRateScheduler setting learning rate to 0.0007737808919046074.\n",
      "Epoch 29/50\n",
      "\u001b[1m256/256\u001b[0m \u001b[32m━━━━━━━━━━━━━━━━━━━━\u001b[0m\u001b[37m\u001b[0m \u001b[1m32s\u001b[0m 123ms/step - acc: 0.9765 - auc: 0.9988 - f1_score: 0.9766 - loss: 0.0700 - val_acc: 0.9292 - val_auc: 0.9913 - val_f1_score: 0.9289 - val_loss: 0.2131 - learning_rate: 7.7378e-04\n",
      "\n",
      "Epoch 30: LearningRateScheduler setting learning rate to 0.000773780862800777.\n",
      "Epoch 30/50\n",
      "\u001b[1m256/256\u001b[0m \u001b[32m━━━━━━━━━━━━━━━━━━━━\u001b[0m\u001b[37m\u001b[0m \u001b[1m41s\u001b[0m 124ms/step - acc: 0.9754 - auc: 0.9984 - f1_score: 0.9753 - loss: 0.0762 - val_acc: 0.9756 - val_auc: 0.9974 - val_f1_score: 0.9756 - val_loss: 0.0726 - learning_rate: 7.7378e-04\n",
      "\n",
      "Epoch 31: LearningRateScheduler setting learning rate to 0.000735091819660738.\n",
      "Epoch 31/50\n",
      "\u001b[1m256/256\u001b[0m \u001b[32m━━━━━━━━━━━━━━━━━━━━\u001b[0m\u001b[37m\u001b[0m \u001b[1m32s\u001b[0m 123ms/step - acc: 0.9835 - auc: 0.9988 - f1_score: 0.9830 - loss: 0.0572 - val_acc: 0.9585 - val_auc: 0.9963 - val_f1_score: 0.9582 - val_loss: 0.1198 - learning_rate: 7.3509e-04\n",
      "\n",
      "Epoch 32: LearningRateScheduler setting learning rate to 0.0007350918021984398.\n",
      "Epoch 32/50\n",
      "\u001b[1m256/256\u001b[0m \u001b[32m━━━━━━━━━━━━━━━━━━━━\u001b[0m\u001b[37m\u001b[0m \u001b[1m31s\u001b[0m 122ms/step - acc: 0.9842 - auc: 0.9990 - f1_score: 0.9847 - loss: 0.0509 - val_acc: 0.9775 - val_auc: 0.9978 - val_f1_score: 0.9778 - val_loss: 0.0733 - learning_rate: 7.3509e-04\n",
      "\n",
      "Epoch 33: LearningRateScheduler setting learning rate to 0.0006983372120885178.\n",
      "Epoch 33/50\n",
      "\u001b[1m256/256\u001b[0m \u001b[32m━━━━━━━━━━━━━━━━━━━━\u001b[0m\u001b[37m\u001b[0m \u001b[1m31s\u001b[0m 123ms/step - acc: 0.9749 - auc: 0.9980 - f1_score: 0.9752 - loss: 0.0743 - val_acc: 0.9653 - val_auc: 0.9963 - val_f1_score: 0.9651 - val_loss: 0.1152 - learning_rate: 6.9834e-04\n",
      "\n",
      "Epoch 34: LearningRateScheduler setting learning rate to 0.0006983372149989009.\n",
      "Epoch 34/50\n",
      "\u001b[1m256/256\u001b[0m \u001b[32m━━━━━━━━━━━━━━━━━━━━\u001b[0m\u001b[37m\u001b[0m \u001b[1m31s\u001b[0m 123ms/step - acc: 0.9826 - auc: 0.9988 - f1_score: 0.9826 - loss: 0.0565 - val_acc: 0.9810 - val_auc: 0.9985 - val_f1_score: 0.9810 - val_loss: 0.0600 - learning_rate: 6.9834e-04\n",
      "\n",
      "Epoch 35: LearningRateScheduler setting learning rate to 0.0006634203542489559.\n",
      "Epoch 35/50\n",
      "\u001b[1m256/256\u001b[0m \u001b[32m━━━━━━━━━━━━━━━━━━━━\u001b[0m\u001b[37m\u001b[0m \u001b[1m31s\u001b[0m 123ms/step - acc: 0.9828 - auc: 0.9993 - f1_score: 0.9825 - loss: 0.0489 - val_acc: 0.8833 - val_auc: 0.9799 - val_f1_score: 0.8836 - val_loss: 0.3819 - learning_rate: 6.6342e-04\n",
      "\n",
      "Epoch 36: LearningRateScheduler setting learning rate to 0.0006634203600697219.\n",
      "Epoch 36/50\n",
      "\u001b[1m256/256\u001b[0m \u001b[32m━━━━━━━━━━━━━━━━━━━━\u001b[0m\u001b[37m\u001b[0m \u001b[1m31s\u001b[0m 122ms/step - acc: 0.9818 - auc: 0.9994 - f1_score: 0.9820 - loss: 0.0521 - val_acc: 0.9736 - val_auc: 0.9972 - val_f1_score: 0.9739 - val_loss: 0.0834 - learning_rate: 6.6342e-04\n",
      "\n",
      "Epoch 37: LearningRateScheduler setting learning rate to 0.0006302493420662358.\n",
      "Epoch 37/50\n",
      "\u001b[1m256/256\u001b[0m \u001b[32m━━━━━━━━━━━━━━━━━━━━\u001b[0m\u001b[37m\u001b[0m \u001b[1m32s\u001b[0m 123ms/step - acc: 0.9861 - auc: 0.9986 - f1_score: 0.9860 - loss: 0.0479 - val_acc: 0.9805 - val_auc: 0.9988 - val_f1_score: 0.9802 - val_loss: 0.0631 - learning_rate: 6.3025e-04\n",
      "\n",
      "Epoch 38: LearningRateScheduler setting learning rate to 0.0006302493275143206.\n",
      "Epoch 38/50\n",
      "\u001b[1m256/256\u001b[0m \u001b[32m━━━━━━━━━━━━━━━━━━━━\u001b[0m\u001b[37m\u001b[0m \u001b[1m31s\u001b[0m 123ms/step - acc: 0.9837 - auc: 0.9994 - f1_score: 0.9837 - loss: 0.0442 - val_acc: 0.9551 - val_auc: 0.9937 - val_f1_score: 0.9551 - val_loss: 0.1513 - learning_rate: 6.3025e-04\n",
      "\n",
      "Epoch 39: LearningRateScheduler setting learning rate to 0.0005987368611386045.\n",
      "Epoch 39/50\n",
      "\u001b[1m256/256\u001b[0m \u001b[32m━━━━━━━━━━━━━━━━━━━━\u001b[0m\u001b[37m\u001b[0m \u001b[1m31s\u001b[0m 122ms/step - acc: 0.9856 - auc: 0.9989 - f1_score: 0.9857 - loss: 0.0471 - val_acc: 0.9834 - val_auc: 0.9976 - val_f1_score: 0.9832 - val_loss: 0.0666 - learning_rate: 5.9874e-04\n",
      "\n",
      "Epoch 40: LearningRateScheduler setting learning rate to 0.0005987368640489876.\n",
      "Epoch 40/50\n",
      "\u001b[1m256/256\u001b[0m \u001b[32m━━━━━━━━━━━━━━━━━━━━\u001b[0m\u001b[37m\u001b[0m \u001b[1m31s\u001b[0m 122ms/step - acc: 0.9902 - auc: 0.9994 - f1_score: 0.9905 - loss: 0.0340 - val_acc: 0.9766 - val_auc: 0.9948 - val_f1_score: 0.9766 - val_loss: 0.0872 - learning_rate: 5.9874e-04\n",
      "\n",
      "Epoch 41: LearningRateScheduler setting learning rate to 0.0005688000208465382.\n",
      "Epoch 41/50\n",
      "\u001b[1m256/256\u001b[0m \u001b[32m━━━━━━━━━━━━━━━━━━━━\u001b[0m\u001b[37m\u001b[0m \u001b[1m31s\u001b[0m 123ms/step - acc: 0.9907 - auc: 0.9996 - f1_score: 0.9908 - loss: 0.0296 - val_acc: 0.9663 - val_auc: 0.9961 - val_f1_score: 0.9661 - val_loss: 0.1081 - learning_rate: 5.6880e-04\n",
      "\n",
      "Epoch 42: LearningRateScheduler setting learning rate to 0.0005688000237569213.\n",
      "Epoch 42/50\n",
      "\u001b[1m256/256\u001b[0m \u001b[32m━━━━━━━━━━━━━━━━━━━━\u001b[0m\u001b[37m\u001b[0m \u001b[1m32s\u001b[0m 123ms/step - acc: 0.9894 - auc: 0.9995 - f1_score: 0.9895 - loss: 0.0347 - val_acc: 0.9810 - val_auc: 0.9974 - val_f1_score: 0.9810 - val_loss: 0.0664 - learning_rate: 5.6880e-04\n",
      "\n",
      "Epoch 43: LearningRateScheduler setting learning rate to 0.0005403600225690752.\n",
      "Epoch 43/50\n",
      "\u001b[1m256/256\u001b[0m \u001b[32m━━━━━━━━━━━━━━━━━━━━\u001b[0m\u001b[37m\u001b[0m \u001b[1m31s\u001b[0m 122ms/step - acc: 0.9883 - auc: 0.9987 - f1_score: 0.9883 - loss: 0.0392 - val_acc: 0.9780 - val_auc: 0.9963 - val_f1_score: 0.9780 - val_loss: 0.0780 - learning_rate: 5.4036e-04\n",
      "\n",
      "Epoch 44: LearningRateScheduler setting learning rate to 0.0005403599934652448.\n",
      "Epoch 44/50\n",
      "\u001b[1m256/256\u001b[0m \u001b[32m━━━━━━━━━━━━━━━━━━━━\u001b[0m\u001b[37m\u001b[0m \u001b[1m31s\u001b[0m 123ms/step - acc: 0.9932 - auc: 0.9995 - f1_score: 0.9930 - loss: 0.0269 - val_acc: 0.9829 - val_auc: 0.9972 - val_f1_score: 0.9829 - val_loss: 0.0616 - learning_rate: 5.4036e-04\n",
      "\n",
      "Epoch 45: LearningRateScheduler setting learning rate to 0.0005133419937919825.\n",
      "Epoch 45/50\n",
      "\u001b[1m256/256\u001b[0m \u001b[32m━━━━━━━━━━━━━━━━━━━━\u001b[0m\u001b[37m\u001b[0m \u001b[1m31s\u001b[0m 123ms/step - acc: 0.9907 - auc: 0.9997 - f1_score: 0.9908 - loss: 0.0258 - val_acc: 0.9824 - val_auc: 0.9975 - val_f1_score: 0.9824 - val_loss: 0.0552 - learning_rate: 5.1334e-04\n",
      "\n",
      "Epoch 46: LearningRateScheduler setting learning rate to 0.0005133419763296843.\n",
      "Epoch 46/50\n",
      "\u001b[1m256/256\u001b[0m \u001b[32m━━━━━━━━━━━━━━━━━━━━\u001b[0m\u001b[37m\u001b[0m \u001b[1m32s\u001b[0m 123ms/step - acc: 0.9915 - auc: 0.9998 - f1_score: 0.9917 - loss: 0.0253 - val_acc: 0.9854 - val_auc: 0.9982 - val_f1_score: 0.9854 - val_loss: 0.0521 - learning_rate: 5.1334e-04\n",
      "\n",
      "Epoch 47: LearningRateScheduler setting learning rate to 0.0004876748775132.\n",
      "Epoch 47/50\n",
      "\u001b[1m256/256\u001b[0m \u001b[32m━━━━━━━━━━━━━━━━━━━━\u001b[0m\u001b[37m\u001b[0m \u001b[1m32s\u001b[0m 123ms/step - acc: 0.9897 - auc: 0.9989 - f1_score: 0.9897 - loss: 0.0358 - val_acc: 0.9800 - val_auc: 0.9978 - val_f1_score: 0.9800 - val_loss: 0.0646 - learning_rate: 4.8767e-04\n",
      "\n",
      "Epoch 48: LearningRateScheduler setting learning rate to 0.00048767487169243395.\n",
      "Epoch 48/50\n",
      "\u001b[1m256/256\u001b[0m \u001b[32m━━━━━━━━━━━━━━━━━━━━\u001b[0m\u001b[37m\u001b[0m \u001b[1m32s\u001b[0m 123ms/step - acc: 0.9944 - auc: 0.9999 - f1_score: 0.9945 - loss: 0.0183 - val_acc: 0.9717 - val_auc: 0.9951 - val_f1_score: 0.9719 - val_loss: 0.1016 - learning_rate: 4.8767e-04\n",
      "\n",
      "Epoch 49: LearningRateScheduler setting learning rate to 0.00046329112810781223.\n",
      "Epoch 49/50\n",
      "\u001b[1m256/256\u001b[0m \u001b[32m━━━━━━━━━━━━━━━━━━━━\u001b[0m\u001b[37m\u001b[0m \u001b[1m31s\u001b[0m 123ms/step - acc: 0.9934 - auc: 0.9991 - f1_score: 0.9937 - loss: 0.0277 - val_acc: 0.9790 - val_auc: 0.9977 - val_f1_score: 0.9788 - val_loss: 0.0738 - learning_rate: 4.6329e-04\n",
      "\n",
      "Epoch 50: LearningRateScheduler setting learning rate to 0.0004632911295630038.\n",
      "Epoch 50/50\n",
      "\u001b[1m256/256\u001b[0m \u001b[32m━━━━━━━━━━━━━━━━━━━━\u001b[0m\u001b[37m\u001b[0m \u001b[1m41s\u001b[0m 123ms/step - acc: 0.9910 - auc: 0.9997 - f1_score: 0.9910 - loss: 0.0264 - val_acc: 0.9858 - val_auc: 0.9981 - val_f1_score: 0.9858 - val_loss: 0.0541 - learning_rate: 4.6329e-04\n"
     ]
    }
   ],
   "source": [
    "EPOCHS = 50\n",
    "\n",
    "history = model.fit(train_images, train_labels_encoded, validation_data=(test_images, test_labels_encoded), callbacks=CALLBACKS, epochs=EPOCHS)"
   ]
  },
  {
   "cell_type": "code",
   "execution_count": 46,
   "id": "e183fa6a",
   "metadata": {
    "execution": {
     "iopub.execute_input": "2024-04-17T20:08:45.524212Z",
     "iopub.status.busy": "2024-04-17T20:08:45.523817Z",
     "iopub.status.idle": "2024-04-17T20:08:45.535785Z",
     "shell.execute_reply": "2024-04-17T20:08:45.535045Z"
    },
    "id": "e7251e1c",
    "papermill": {
     "duration": 1.174928,
     "end_time": "2024-04-17T20:08:45.537727",
     "exception": false,
     "start_time": "2024-04-17T20:08:44.362799",
     "status": "completed"
    },
    "tags": []
   },
   "outputs": [],
   "source": [
    "\n",
    "\n",
    "# # Assuming train_images and test_images are your input image data\n",
    "\n",
    "\n",
    "# model = Sequential()\n",
    "# model.add(Input(shape=input_shape))\n",
    "# model.add(Conv2D(64, (3, 3), activation='relu'))\n",
    "# model.add(MaxPooling2D((2, 2)))\n",
    "# model.add(Conv2D(128, (3, 3), activation='relu'))\n",
    "# model.add(MaxPooling2D((2, 2)))\n",
    "# model.add(Conv2D(256, (3, 3), activation='relu'))\n",
    "# model.add(MaxPooling2D((2, 2)))\n",
    "# model.add(Dropout(0.2))\n",
    "# model.add(Flatten())\n",
    "# model.add(Dense(512, activation='relu'))\n",
    "# model.add(Dropout(0.5))\n",
    "# model.add(Dense(4, activation='softmax'))\n"
   ]
  },
  {
   "cell_type": "code",
   "execution_count": null,
   "id": "8b27fad5",
   "metadata": {
    "id": "6a21f88e",
    "papermill": {
     "duration": 1.216675,
     "end_time": "2024-04-17T20:08:48.018885",
     "exception": false,
     "start_time": "2024-04-17T20:08:46.802210",
     "status": "completed"
    },
    "tags": []
   },
   "outputs": [],
   "source": []
  },
  {
   "cell_type": "code",
   "execution_count": 47,
   "id": "b4820fc2",
   "metadata": {
    "execution": {
     "iopub.execute_input": "2024-04-17T20:08:50.509600Z",
     "iopub.status.busy": "2024-04-17T20:08:50.509215Z",
     "iopub.status.idle": "2024-04-17T20:08:50.514054Z",
     "shell.execute_reply": "2024-04-17T20:08:50.512970Z"
    },
    "id": "743ad80f",
    "papermill": {
     "duration": 1.251379,
     "end_time": "2024-04-17T20:08:50.516216",
     "exception": false,
     "start_time": "2024-04-17T20:08:49.264837",
     "status": "completed"
    },
    "tags": []
   },
   "outputs": [],
   "source": [
    "# import math\n",
    "# model.compile(optimizer=optimizer, loss='categorical_crossentropy', metrics=['accuracy'])\n",
    "\n",
    "# history = model.fit(train_images, train_labels_encoded,\n",
    "#                     steps_per_epoch = int(len(train_images) / 32),\n",
    "#                     epochs=50,\n",
    "#                     validation_data=(test_images, test_labels_encoded),\n",
    "#                     sample_weight=sample_weights,\n",
    "#                     callbacks=[lr_scheduler])"
   ]
  },
  {
   "cell_type": "code",
   "execution_count": 48,
   "id": "22fb2647",
   "metadata": {
    "execution": {
     "iopub.execute_input": "2024-04-17T20:08:52.882522Z",
     "iopub.status.busy": "2024-04-17T20:08:52.882135Z",
     "iopub.status.idle": "2024-04-17T20:09:00.292354Z",
     "shell.execute_reply": "2024-04-17T20:09:00.291166Z"
    },
    "id": "1dbe1778",
    "outputId": "a6c97217-ae85-4fa9-9dbb-66453758299a",
    "papermill": {
     "duration": 8.613001,
     "end_time": "2024-04-17T20:09:00.295342",
     "exception": false,
     "start_time": "2024-04-17T20:08:51.682341",
     "status": "completed"
    },
    "tags": []
   },
   "outputs": [
    {
     "name": "stdout",
     "output_type": "stream",
     "text": [
      "\u001b[1m 5/64\u001b[0m \u001b[32m━\u001b[0m\u001b[37m━━━━━━━━━━━━━━━━━━━\u001b[0m \u001b[1m2s\u001b[0m 37ms/step"
     ]
    },
    {
     "name": "stderr",
     "output_type": "stream",
     "text": [
      "W0000 00:00:1713384538.284856      72 graph_launch.cc:671] Fallback to op-by-op mode because memset node breaks graph update\n"
     ]
    },
    {
     "name": "stdout",
     "output_type": "stream",
     "text": [
      "\u001b[1m64/64\u001b[0m \u001b[32m━━━━━━━━━━━━━━━━━━━━\u001b[0m\u001b[37m\u001b[0m \u001b[1m3s\u001b[0m 27ms/step\n",
      "ROC AUC: 0.9992795400159228\n"
     ]
    }
   ],
   "source": [
    "import tensorflow as tf\n",
    "import numpy as np\n",
    "from sklearn.metrics import roc_auc_score\n",
    "\n",
    "y_prob = model.predict(test_images)\n",
    "y_prob = tf.nn.softmax(y_prob).numpy()\n",
    "\n",
    "# Compute ROC AUC for each class\n",
    "roc_auc = roc_auc_score(test_labels_encoded, y_prob, average='macro')\n",
    "\n",
    "print(\"ROC AUC:\", roc_auc)"
   ]
  },
  {
   "cell_type": "code",
   "execution_count": 49,
   "id": "b3c3f473",
   "metadata": {
    "execution": {
     "iopub.execute_input": "2024-04-17T20:09:02.783531Z",
     "iopub.status.busy": "2024-04-17T20:09:02.783171Z",
     "iopub.status.idle": "2024-04-17T20:09:03.023683Z",
     "shell.execute_reply": "2024-04-17T20:09:03.022611Z"
    },
    "id": "2bfe3e43",
    "outputId": "78eb29de-2ce9-4393-a4db-d7b849f30bf5",
    "papermill": {
     "duration": 1.406582,
     "end_time": "2024-04-17T20:09:03.026238",
     "exception": false,
     "start_time": "2024-04-17T20:09:01.619656",
     "status": "completed"
    },
    "tags": []
   },
   "outputs": [
    {
     "data": {
      "text/plain": [
       "1279"
      ]
     },
     "execution_count": 49,
     "metadata": {},
     "output_type": "execute_result"
    }
   ],
   "source": [
    "import os\n",
    "import numpy as np\n",
    "directory = '/kaggle/input/betterest-preproc/test'\n",
    "\n",
    "files = [file for file in os.listdir(directory) if file.endswith('.npy')]\n",
    "len(files)"
   ]
  },
  {
   "cell_type": "code",
   "execution_count": 50,
   "id": "501bad6f",
   "metadata": {
    "execution": {
     "iopub.execute_input": "2024-04-17T20:09:05.608909Z",
     "iopub.status.busy": "2024-04-17T20:09:05.608540Z",
     "iopub.status.idle": "2024-04-17T20:09:05.615971Z",
     "shell.execute_reply": "2024-04-17T20:09:05.614999Z"
    },
    "id": "46171fd0",
    "outputId": "1d798d80-7117-4d28-d9d0-9a15e7d9b252",
    "papermill": {
     "duration": 1.273274,
     "end_time": "2024-04-17T20:09:05.618237",
     "exception": false,
     "start_time": "2024-04-17T20:09:04.344963",
     "status": "completed"
    },
    "tags": []
   },
   "outputs": [
    {
     "name": "stdout",
     "output_type": "stream",
     "text": [
      "179 12 640 448\n"
     ]
    }
   ],
   "source": [
    "mildDem = [i for i in files if i.startswith(\"MildDem\")]\n",
    "moderateDem = [i for i in files if \"ModerateDem\" in i]\n",
    "nonDem = [i for i in files if \"NonDem\" in i]\n",
    "veryMild = [i for i in files if \"VeryMildDem\" in i]\n",
    "print(len(mildDem), len(moderateDem), len(nonDem), len(veryMild))"
   ]
  },
  {
   "cell_type": "code",
   "execution_count": 51,
   "id": "f93109e9",
   "metadata": {
    "execution": {
     "iopub.execute_input": "2024-04-17T20:09:08.055349Z",
     "iopub.status.busy": "2024-04-17T20:09:08.054946Z",
     "iopub.status.idle": "2024-04-17T20:09:08.085548Z",
     "shell.execute_reply": "2024-04-17T20:09:08.084499Z"
    },
    "id": "e5d590d6",
    "outputId": "600c6f73-20c8-4423-b079-cfffcbc16536",
    "papermill": {
     "duration": 1.221792,
     "end_time": "2024-04-17T20:09:08.088301",
     "exception": false,
     "start_time": "2024-04-17T20:09:06.866509",
     "status": "completed"
    },
    "tags": []
   },
   "outputs": [
    {
     "data": {
      "text/plain": [
       "Class\n",
       "2    640\n",
       "3    448\n",
       "0    179\n",
       "1     12\n",
       "Name: count, dtype: int64"
      ]
     },
     "execution_count": 51,
     "metadata": {},
     "output_type": "execute_result"
    }
   ],
   "source": [
    "import pandas as pd\n",
    "l = [[mildDem, 0], [moderateDem, 1], [nonDem, 2], [veryMild, 3]]\n",
    "x = []\n",
    "for i in l:\n",
    "    for j in i[0]:\n",
    "        path = os.path.join(\"/kaggle/input/betterest-preproc/test\", j)\n",
    "        x.append([i[1], path])\n",
    "\n",
    "df = pd.DataFrame(x, columns=[\"Class\", \"Path\"])\n",
    "df[\"Class\"].value_counts()\n"
   ]
  },
  {
   "cell_type": "code",
   "execution_count": 52,
   "id": "b0476378",
   "metadata": {
    "execution": {
     "iopub.execute_input": "2024-04-17T20:09:10.534169Z",
     "iopub.status.busy": "2024-04-17T20:09:10.533342Z",
     "iopub.status.idle": "2024-04-17T20:09:15.927550Z",
     "shell.execute_reply": "2024-04-17T20:09:15.926652Z"
    },
    "id": "e8bf69dd",
    "papermill": {
     "duration": 6.608605,
     "end_time": "2024-04-17T20:09:15.930165",
     "exception": false,
     "start_time": "2024-04-17T20:09:09.321560",
     "status": "completed"
    },
    "tags": []
   },
   "outputs": [],
   "source": [
    "images = []\n",
    "for i in df[\"Path\"]:\n",
    "    images.append(np.load(i))\n",
    "images = np.array(images)"
   ]
  },
  {
   "cell_type": "code",
   "execution_count": 53,
   "id": "d218d977",
   "metadata": {
    "execution": {
     "iopub.execute_input": "2024-04-17T20:09:18.496533Z",
     "iopub.status.busy": "2024-04-17T20:09:18.495804Z",
     "iopub.status.idle": "2024-04-17T20:09:18.502302Z",
     "shell.execute_reply": "2024-04-17T20:09:18.501284Z"
    },
    "id": "c76f8fe5",
    "outputId": "2ce8d7b7-02bb-4732-ce0b-bd1af44e996d",
    "papermill": {
     "duration": 1.313578,
     "end_time": "2024-04-17T20:09:18.505086",
     "exception": false,
     "start_time": "2024-04-17T20:09:17.191508",
     "status": "completed"
    },
    "tags": []
   },
   "outputs": [
    {
     "name": "stdout",
     "output_type": "stream",
     "text": [
      "(1279, 4)\n"
     ]
    }
   ],
   "source": [
    "labels = df[\"Class\"]\n",
    "labels = to_categorical(labels, num_classes=4)\n",
    "print(labels.shape)"
   ]
  },
  {
   "cell_type": "code",
   "execution_count": 54,
   "id": "5840a2ba",
   "metadata": {
    "execution": {
     "iopub.execute_input": "2024-04-17T20:09:20.900549Z",
     "iopub.status.busy": "2024-04-17T20:09:20.899495Z",
     "iopub.status.idle": "2024-04-17T20:09:20.908598Z",
     "shell.execute_reply": "2024-04-17T20:09:20.907482Z"
    },
    "id": "455f8eba",
    "papermill": {
     "duration": 1.189356,
     "end_time": "2024-04-17T20:09:20.911188",
     "exception": false,
     "start_time": "2024-04-17T20:09:19.721832",
     "status": "completed"
    },
    "tags": []
   },
   "outputs": [],
   "source": [
    "l = []\n",
    "for i in labels:\n",
    "  for j in range(4):\n",
    "    if i[j] == 1:\n",
    "      l.append(j)\n"
   ]
  },
  {
   "cell_type": "code",
   "execution_count": 55,
   "id": "fa321650",
   "metadata": {
    "execution": {
     "iopub.execute_input": "2024-04-17T20:09:23.414190Z",
     "iopub.status.busy": "2024-04-17T20:09:23.413357Z",
     "iopub.status.idle": "2024-04-17T20:09:35.132677Z",
     "shell.execute_reply": "2024-04-17T20:09:35.131463Z"
    },
    "id": "7d699874",
    "outputId": "13d0fabc-bc85-4107-f986-f80a12e537d2",
    "papermill": {
     "duration": 12.93081,
     "end_time": "2024-04-17T20:09:35.135105",
     "exception": false,
     "start_time": "2024-04-17T20:09:22.204295",
     "status": "completed"
    },
    "tags": []
   },
   "outputs": [
    {
     "name": "stdout",
     "output_type": "stream",
     "text": [
      "\u001b[1m 5/40\u001b[0m \u001b[32m━━\u001b[0m\u001b[37m━━━━━━━━━━━━━━━━━━\u001b[0m \u001b[1m1s\u001b[0m 35ms/step"
     ]
    },
    {
     "name": "stderr",
     "output_type": "stream",
     "text": [
      "W0000 00:00:1713384564.702953      72 graph_launch.cc:671] Fallback to op-by-op mode because memset node breaks graph update\n"
     ]
    },
    {
     "name": "stdout",
     "output_type": "stream",
     "text": [
      "\u001b[1m40/40\u001b[0m \u001b[32m━━━━━━━━━━━━━━━━━━━━\u001b[0m\u001b[37m\u001b[0m \u001b[1m11s\u001b[0m 266ms/step\n"
     ]
    },
    {
     "name": "stderr",
     "output_type": "stream",
     "text": [
      "W0000 00:00:1713384575.079309      71 graph_launch.cc:671] Fallback to op-by-op mode because memset node breaks graph update\n"
     ]
    }
   ],
   "source": [
    "y_prob = model.predict(images)\n",
    "\n",
    "# y_prob = tf.nn.softmax(y_prob).numpy()\n",
    "# Get the class with the highest probability for each prediction\n",
    "y_prob = np.argmax(y_prob, axis=1)  # Argmax gives index of max value\n",
    "# for i in range(len(labels)):\n",
    "#   print(l[i], y_prob[i])"
   ]
  },
  {
   "cell_type": "code",
   "execution_count": null,
   "id": "c09f474a",
   "metadata": {
    "id": "41441148",
    "papermill": {
     "duration": 1.235012,
     "end_time": "2024-04-17T20:09:37.682374",
     "exception": false,
     "start_time": "2024-04-17T20:09:36.447362",
     "status": "completed"
    },
    "tags": []
   },
   "outputs": [],
   "source": []
  },
  {
   "cell_type": "code",
   "execution_count": 56,
   "id": "505e7dca",
   "metadata": {
    "execution": {
     "iopub.execute_input": "2024-04-17T20:09:40.170945Z",
     "iopub.status.busy": "2024-04-17T20:09:40.170552Z",
     "iopub.status.idle": "2024-04-17T20:09:40.188779Z",
     "shell.execute_reply": "2024-04-17T20:09:40.187580Z"
    },
    "id": "155be648",
    "outputId": "b58d3646-b9ba-44d2-be24-016c617430ce",
    "papermill": {
     "duration": 1.282053,
     "end_time": "2024-04-17T20:09:40.191549",
     "exception": false,
     "start_time": "2024-04-17T20:09:38.909496",
     "status": "completed"
    },
    "tags": []
   },
   "outputs": [
    {
     "name": "stdout",
     "output_type": "stream",
     "text": [
      "0 {'precision': 0.85, 'recall': 0.37988826815642457, 'f1-score': 0.5250965250965252, 'support': 179}\n",
      "1 {'precision': 1.0, 'recall': 0.3333333333333333, 'f1-score': 0.5, 'support': 12}\n",
      "2 {'precision': 0.6906474820143885, 'recall': 0.9, 'f1-score': 0.7815468113975578, 'support': 640}\n",
      "3 {'precision': 0.7340720221606648, 'recall': 0.5915178571428571, 'f1-score': 0.6551297898640297, 'support': 448}\n",
      "accuracy 0.7138389366692729\n",
      "macro avg {'precision': 0.8186798760437634, 'recall': 0.5511848646581538, 'f1-score': 0.6154432815895282, 'support': 1279}\n",
      "weighted avg {'precision': 0.7310622786686368, 'recall': 0.7138389366692729, 'f1-score': 0.6987336850240815, 'support': 1279}\n"
     ]
    }
   ],
   "source": [
    "from sklearn.metrics import classification_report\n",
    "\n",
    "# Assuming you have predicted labels (predicted_classes) and true labels (test_labels_encoded)\n",
    "report = classification_report(l, y_prob, output_dict=True)\n",
    "for i in report:\n",
    "  print(i, report[i])"
   ]
  },
  {
   "cell_type": "code",
   "execution_count": 57,
   "id": "da422d3d",
   "metadata": {
    "execution": {
     "iopub.execute_input": "2024-04-17T20:09:42.649389Z",
     "iopub.status.busy": "2024-04-17T20:09:42.649044Z",
     "iopub.status.idle": "2024-04-17T20:09:48.899620Z",
     "shell.execute_reply": "2024-04-17T20:09:48.898532Z"
    },
    "id": "073a1d9c",
    "outputId": "06e42a36-c108-4950-d57e-0a0bad14d8aa",
    "papermill": {
     "duration": 7.5176,
     "end_time": "2024-04-17T20:09:48.902133",
     "exception": false,
     "start_time": "2024-04-17T20:09:41.384533",
     "status": "completed"
    },
    "tags": []
   },
   "outputs": [
    {
     "name": "stdout",
     "output_type": "stream",
     "text": [
      "\u001b[1m 3/40\u001b[0m \u001b[32m━\u001b[0m\u001b[37m━━━━━━━━━━━━━━━━━━━\u001b[0m \u001b[1m1s\u001b[0m 42ms/step - acc: 0.3837 - auc: 0.5965 - f1_score: 0.3874 - loss: 4.1374"
     ]
    },
    {
     "name": "stderr",
     "output_type": "stream",
     "text": [
      "W0000 00:00:1713384584.718202      74 graph_launch.cc:671] Fallback to op-by-op mode because memset node breaks graph update\n"
     ]
    },
    {
     "name": "stdout",
     "output_type": "stream",
     "text": [
      "\u001b[1m40/40\u001b[0m \u001b[32m━━━━━━━━━━━━━━━━━━━━\u001b[0m\u001b[37m\u001b[0m \u001b[1m4s\u001b[0m 53ms/step - acc: 0.6582 - auc: 0.8120 - f1_score: 0.6584 - loss: 2.0996\n"
     ]
    },
    {
     "name": "stderr",
     "output_type": "stream",
     "text": [
      "W0000 00:00:1713384586.782330      74 graph_launch.cc:671] Fallback to op-by-op mode because memset node breaks graph update\n"
     ]
    },
    {
     "data": {
      "text/plain": [
       "[1.4789378643035889,\n",
       " 0.7138389348983765,\n",
       " 0.8734344244003296,\n",
       " 0.7141737937927246]"
      ]
     },
     "execution_count": 57,
     "metadata": {},
     "output_type": "execute_result"
    }
   ],
   "source": [
    "model.evaluate(images, labels)"
   ]
  },
  {
   "cell_type": "code",
   "execution_count": null,
   "id": "7f3a4575",
   "metadata": {
    "id": "UDNIyngOUCWk",
    "papermill": {
     "duration": 1.26962,
     "end_time": "2024-04-17T20:09:51.386553",
     "exception": false,
     "start_time": "2024-04-17T20:09:50.116933",
     "status": "completed"
    },
    "tags": []
   },
   "outputs": [],
   "source": []
  }
 ],
 "metadata": {
  "accelerator": "GPU",
  "colab": {
   "gpuType": "T4",
   "provenance": []
  },
  "kaggle": {
   "accelerator": "nvidiaTeslaT4",
   "dataSources": [
    {
     "databundleVersionId": 888049,
     "datasetId": 457093,
     "sourceId": 861496,
     "sourceType": "datasetVersion"
    },
    {
     "databundleVersionId": 8270559,
     "datasetId": 4817485,
     "sourceId": 8149433,
     "sourceType": "datasetVersion"
    }
   ],
   "dockerImageVersionId": 30684,
   "isGpuEnabled": true,
   "isInternetEnabled": false,
   "language": "python",
   "sourceType": "notebook"
  },
  "kernelspec": {
   "display_name": "Python 3",
   "language": "python",
   "name": "python3"
  },
  "language_info": {
   "codemirror_mode": {
    "name": "ipython",
    "version": 3
   },
   "file_extension": ".py",
   "mimetype": "text/x-python",
   "name": "python",
   "nbconvert_exporter": "python",
   "pygments_lexer": "ipython3",
   "version": "3.10.13"
  },
  "papermill": {
   "default_parameters": {},
   "duration": 1886.426749,
   "end_time": "2024-04-17T20:09:55.843829",
   "environment_variables": {},
   "exception": null,
   "input_path": "__notebook__.ipynb",
   "output_path": "__notebook__.ipynb",
   "parameters": {},
   "start_time": "2024-04-17T19:38:29.417080",
   "version": "2.5.0"
  }
 },
 "nbformat": 4,
 "nbformat_minor": 5
}
