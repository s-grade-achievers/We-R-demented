{
 "cells": [
  {
   "cell_type": "code",
   "execution_count": 1,
   "id": "b77312b4",
   "metadata": {
    "_cell_guid": "b1076dfc-b9ad-4769-8c92-a6c4dae69d19",
    "_uuid": "8f2839f25d086af736a60e9eeb907d3b93b6e0e5",
    "execution": {
     "iopub.execute_input": "2024-04-18T03:35:32.487335Z",
     "iopub.status.busy": "2024-04-18T03:35:32.486548Z",
     "iopub.status.idle": "2024-04-18T03:35:33.693332Z",
     "shell.execute_reply": "2024-04-18T03:35:33.691912Z"
    },
    "papermill": {
     "duration": 1.217248,
     "end_time": "2024-04-18T03:35:33.696796",
     "exception": false,
     "start_time": "2024-04-18T03:35:32.479548",
     "status": "completed"
    },
    "tags": []
   },
   "outputs": [
    {
     "name": "stderr",
     "output_type": "stream",
     "text": [
      "/tmp/ipykernel_18/1265945748.py:5: FutureWarning: Downcasting behavior in `replace` is deprecated and will be removed in a future version. To retain the old behavior, explicitly call `result.infer_objects(copy=False)`. To opt-in to the future behavior, set `pd.set_option('future.no_silent_downcasting', True)`\n",
      "  df['class'] = df['class'].replace({'P':1,'H':0})\n"
     ]
    },
    {
     "data": {
      "text/html": [
       "<div>\n",
       "<style scoped>\n",
       "    .dataframe tbody tr th:only-of-type {\n",
       "        vertical-align: middle;\n",
       "    }\n",
       "\n",
       "    .dataframe tbody tr th {\n",
       "        vertical-align: top;\n",
       "    }\n",
       "\n",
       "    .dataframe thead th {\n",
       "        text-align: right;\n",
       "    }\n",
       "</style>\n",
       "<table border=\"1\" class=\"dataframe\">\n",
       "  <thead>\n",
       "    <tr style=\"text-align: right;\">\n",
       "      <th></th>\n",
       "      <th>air_time1</th>\n",
       "      <th>disp_index1</th>\n",
       "      <th>gmrt_in_air1</th>\n",
       "      <th>gmrt_on_paper1</th>\n",
       "      <th>max_x_extension1</th>\n",
       "      <th>max_y_extension1</th>\n",
       "      <th>mean_acc_in_air1</th>\n",
       "      <th>mean_acc_on_paper1</th>\n",
       "      <th>mean_gmrt1</th>\n",
       "      <th>mean_jerk_in_air1</th>\n",
       "      <th>...</th>\n",
       "      <th>mean_jerk_in_air25</th>\n",
       "      <th>mean_jerk_on_paper25</th>\n",
       "      <th>mean_speed_in_air25</th>\n",
       "      <th>mean_speed_on_paper25</th>\n",
       "      <th>num_of_pendown25</th>\n",
       "      <th>paper_time25</th>\n",
       "      <th>pressure_mean25</th>\n",
       "      <th>pressure_var25</th>\n",
       "      <th>total_time25</th>\n",
       "      <th>class</th>\n",
       "    </tr>\n",
       "  </thead>\n",
       "  <tbody>\n",
       "    <tr>\n",
       "      <th>0</th>\n",
       "      <td>5160</td>\n",
       "      <td>0.000013</td>\n",
       "      <td>120.804174</td>\n",
       "      <td>86.853334</td>\n",
       "      <td>957</td>\n",
       "      <td>6601</td>\n",
       "      <td>0.361800</td>\n",
       "      <td>0.217459</td>\n",
       "      <td>103.828754</td>\n",
       "      <td>0.051836</td>\n",
       "      <td>...</td>\n",
       "      <td>0.141434</td>\n",
       "      <td>0.024471</td>\n",
       "      <td>5.596487</td>\n",
       "      <td>3.184589</td>\n",
       "      <td>71</td>\n",
       "      <td>40120</td>\n",
       "      <td>1749.278166</td>\n",
       "      <td>296102.7676</td>\n",
       "      <td>144605</td>\n",
       "      <td>1</td>\n",
       "    </tr>\n",
       "    <tr>\n",
       "      <th>1</th>\n",
       "      <td>51980</td>\n",
       "      <td>0.000016</td>\n",
       "      <td>115.318238</td>\n",
       "      <td>83.448681</td>\n",
       "      <td>1694</td>\n",
       "      <td>6998</td>\n",
       "      <td>0.272513</td>\n",
       "      <td>0.144880</td>\n",
       "      <td>99.383459</td>\n",
       "      <td>0.039827</td>\n",
       "      <td>...</td>\n",
       "      <td>0.049663</td>\n",
       "      <td>0.018368</td>\n",
       "      <td>1.665973</td>\n",
       "      <td>0.950249</td>\n",
       "      <td>129</td>\n",
       "      <td>126700</td>\n",
       "      <td>1504.768272</td>\n",
       "      <td>278744.2850</td>\n",
       "      <td>298640</td>\n",
       "      <td>1</td>\n",
       "    </tr>\n",
       "    <tr>\n",
       "      <th>2</th>\n",
       "      <td>2600</td>\n",
       "      <td>0.000010</td>\n",
       "      <td>229.933997</td>\n",
       "      <td>172.761858</td>\n",
       "      <td>2333</td>\n",
       "      <td>5802</td>\n",
       "      <td>0.387020</td>\n",
       "      <td>0.181342</td>\n",
       "      <td>201.347928</td>\n",
       "      <td>0.064220</td>\n",
       "      <td>...</td>\n",
       "      <td>0.178194</td>\n",
       "      <td>0.017174</td>\n",
       "      <td>4.000781</td>\n",
       "      <td>2.392521</td>\n",
       "      <td>74</td>\n",
       "      <td>45480</td>\n",
       "      <td>1431.443492</td>\n",
       "      <td>144411.7055</td>\n",
       "      <td>79025</td>\n",
       "      <td>1</td>\n",
       "    </tr>\n",
       "    <tr>\n",
       "      <th>3</th>\n",
       "      <td>2130</td>\n",
       "      <td>0.000010</td>\n",
       "      <td>369.403342</td>\n",
       "      <td>183.193104</td>\n",
       "      <td>1756</td>\n",
       "      <td>8159</td>\n",
       "      <td>0.556879</td>\n",
       "      <td>0.164502</td>\n",
       "      <td>276.298223</td>\n",
       "      <td>0.090408</td>\n",
       "      <td>...</td>\n",
       "      <td>0.113905</td>\n",
       "      <td>0.019860</td>\n",
       "      <td>4.206746</td>\n",
       "      <td>1.613522</td>\n",
       "      <td>123</td>\n",
       "      <td>67945</td>\n",
       "      <td>1465.843329</td>\n",
       "      <td>230184.7154</td>\n",
       "      <td>181220</td>\n",
       "      <td>1</td>\n",
       "    </tr>\n",
       "    <tr>\n",
       "      <th>4</th>\n",
       "      <td>2310</td>\n",
       "      <td>0.000007</td>\n",
       "      <td>257.997131</td>\n",
       "      <td>111.275889</td>\n",
       "      <td>987</td>\n",
       "      <td>4732</td>\n",
       "      <td>0.266077</td>\n",
       "      <td>0.145104</td>\n",
       "      <td>184.636510</td>\n",
       "      <td>0.037528</td>\n",
       "      <td>...</td>\n",
       "      <td>0.121782</td>\n",
       "      <td>0.020872</td>\n",
       "      <td>3.319036</td>\n",
       "      <td>1.680629</td>\n",
       "      <td>92</td>\n",
       "      <td>37285</td>\n",
       "      <td>1841.702561</td>\n",
       "      <td>158290.0255</td>\n",
       "      <td>72575</td>\n",
       "      <td>1</td>\n",
       "    </tr>\n",
       "  </tbody>\n",
       "</table>\n",
       "<p>5 rows × 451 columns</p>\n",
       "</div>"
      ],
      "text/plain": [
       "   air_time1  disp_index1  gmrt_in_air1  gmrt_on_paper1  max_x_extension1  \\\n",
       "0       5160     0.000013    120.804174       86.853334               957   \n",
       "1      51980     0.000016    115.318238       83.448681              1694   \n",
       "2       2600     0.000010    229.933997      172.761858              2333   \n",
       "3       2130     0.000010    369.403342      183.193104              1756   \n",
       "4       2310     0.000007    257.997131      111.275889               987   \n",
       "\n",
       "   max_y_extension1  mean_acc_in_air1  mean_acc_on_paper1  mean_gmrt1  \\\n",
       "0              6601          0.361800            0.217459  103.828754   \n",
       "1              6998          0.272513            0.144880   99.383459   \n",
       "2              5802          0.387020            0.181342  201.347928   \n",
       "3              8159          0.556879            0.164502  276.298223   \n",
       "4              4732          0.266077            0.145104  184.636510   \n",
       "\n",
       "   mean_jerk_in_air1  ...  mean_jerk_in_air25  mean_jerk_on_paper25  \\\n",
       "0           0.051836  ...            0.141434              0.024471   \n",
       "1           0.039827  ...            0.049663              0.018368   \n",
       "2           0.064220  ...            0.178194              0.017174   \n",
       "3           0.090408  ...            0.113905              0.019860   \n",
       "4           0.037528  ...            0.121782              0.020872   \n",
       "\n",
       "   mean_speed_in_air25  mean_speed_on_paper25  num_of_pendown25  paper_time25  \\\n",
       "0             5.596487               3.184589                71         40120   \n",
       "1             1.665973               0.950249               129        126700   \n",
       "2             4.000781               2.392521                74         45480   \n",
       "3             4.206746               1.613522               123         67945   \n",
       "4             3.319036               1.680629                92         37285   \n",
       "\n",
       "   pressure_mean25  pressure_var25  total_time25  class  \n",
       "0      1749.278166     296102.7676        144605      1  \n",
       "1      1504.768272     278744.2850        298640      1  \n",
       "2      1431.443492     144411.7055         79025      1  \n",
       "3      1465.843329     230184.7154        181220      1  \n",
       "4      1841.702561     158290.0255         72575      1  \n",
       "\n",
       "[5 rows x 451 columns]"
      ]
     },
     "execution_count": 1,
     "metadata": {},
     "output_type": "execute_result"
    }
   ],
   "source": [
    "import pandas as pd \n",
    "\n",
    "df = pd.read_csv(\"/kaggle/input/darwin/data.csv\")\n",
    "df = df.drop(columns=[\"ID\"])\n",
    "df['class'] = df['class'].replace({'P':1,'H':0})\n",
    "df.head()"
   ]
  },
  {
   "cell_type": "markdown",
   "id": "8b19e730",
   "metadata": {
    "papermill": {
     "duration": 0.005025,
     "end_time": "2024-04-18T03:35:33.707459",
     "exception": false,
     "start_time": "2024-04-18T03:35:33.702434",
     "status": "completed"
    },
    "tags": []
   },
   "source": [
    "# Cross-Validation (have no clue wtf was it)"
   ]
  },
  {
   "cell_type": "code",
   "execution_count": 2,
   "id": "59f8601f",
   "metadata": {
    "execution": {
     "iopub.execute_input": "2024-04-18T03:35:33.721337Z",
     "iopub.status.busy": "2024-04-18T03:35:33.718898Z",
     "iopub.status.idle": "2024-04-18T03:35:36.323838Z",
     "shell.execute_reply": "2024-04-18T03:35:36.322007Z"
    },
    "papermill": {
     "duration": 2.616045,
     "end_time": "2024-04-18T03:35:36.328581",
     "exception": false,
     "start_time": "2024-04-18T03:35:33.712536",
     "status": "completed"
    },
    "tags": []
   },
   "outputs": [
    {
     "name": "stdout",
     "output_type": "stream",
     "text": [
      "-21.958842908053303\n",
      "34.134028852998696\n"
     ]
    }
   ],
   "source": [
    "from sklearn.model_selection import KFold \n",
    "from sklearn.model_selection import cross_val_score\n",
    "from sklearn.linear_model import LinearRegression\n",
    "\n",
    "y = df['class']\n",
    "X = df.drop(columns=['class'])\n",
    "\n",
    "k = 7\n",
    "model = LinearRegression()\n",
    "kf = KFold(n_splits = k, shuffle = True, random_state = 42)\n",
    "results = cross_val_score(model, X,y, cv=kf, scoring=\"r2\")\n",
    "\n",
    "print(results.mean())\n",
    "print(results.std())\n",
    "\n"
   ]
  },
  {
   "cell_type": "markdown",
   "id": "599d7102",
   "metadata": {
    "papermill": {
     "duration": 0.022296,
     "end_time": "2024-04-18T03:35:36.362712",
     "exception": false,
     "start_time": "2024-04-18T03:35:36.340416",
     "status": "completed"
    },
    "tags": []
   },
   "source": [
    "# Holdout Validation (linear regression)"
   ]
  },
  {
   "cell_type": "code",
   "execution_count": 3,
   "id": "7a7c178c",
   "metadata": {
    "execution": {
     "iopub.execute_input": "2024-04-18T03:35:36.400594Z",
     "iopub.status.busy": "2024-04-18T03:35:36.399606Z",
     "iopub.status.idle": "2024-04-18T03:35:36.486367Z",
     "shell.execute_reply": "2024-04-18T03:35:36.484429Z"
    },
    "papermill": {
     "duration": 0.104597,
     "end_time": "2024-04-18T03:35:36.491329",
     "exception": false,
     "start_time": "2024-04-18T03:35:36.386732",
     "status": "completed"
    },
    "tags": []
   },
   "outputs": [
    {
     "name": "stdout",
     "output_type": "stream",
     "text": [
      "-448.41961698249963\n"
     ]
    }
   ],
   "source": [
    "from sklearn.model_selection import train_test_split \n",
    "from sklearn.metrics import r2_score \n",
    "X_train, X_test, y_train, y_test = train_test_split(X, y, test_size=0.2, random_state=42)\n",
    "\n",
    "model = LinearRegression()\n",
    "model.fit(X_train, y_train)\n",
    "\n",
    "y_pred = model.predict(X_test)\n",
    "\n",
    "r2 = r2_score(y_test,y_pred)\n",
    "print(r2)\n"
   ]
  },
  {
   "cell_type": "markdown",
   "id": "cb8a2bb1",
   "metadata": {
    "papermill": {
     "duration": 0.021698,
     "end_time": "2024-04-18T03:35:36.529738",
     "exception": false,
     "start_time": "2024-04-18T03:35:36.508040",
     "status": "completed"
    },
    "tags": []
   },
   "source": [
    "(polynomial regression) "
   ]
  },
  {
   "cell_type": "code",
   "execution_count": 4,
   "id": "223c75f3",
   "metadata": {
    "execution": {
     "iopub.execute_input": "2024-04-18T03:35:36.576156Z",
     "iopub.status.busy": "2024-04-18T03:35:36.574187Z",
     "iopub.status.idle": "2024-04-18T03:35:40.075814Z",
     "shell.execute_reply": "2024-04-18T03:35:40.074233Z"
    },
    "papermill": {
     "duration": 3.528999,
     "end_time": "2024-04-18T03:35:40.080967",
     "exception": false,
     "start_time": "2024-04-18T03:35:36.551968",
     "status": "completed"
    },
    "tags": []
   },
   "outputs": [
    {
     "name": "stdout",
     "output_type": "stream",
     "text": [
      "-448.41961698249963\n"
     ]
    }
   ],
   "source": [
    "from sklearn.preprocessing import PolynomialFeatures\n",
    "from sklearn.pipeline import make_pipeline\n",
    "from sklearn.metrics import r2_score\n",
    "\n",
    "degree = 2\n",
    "f = PolynomialFeatures(degree = degree)\n",
    "X_poly_train = f.fit_transform(X_train)\n",
    "X_poly_test = f.transform(X_test)\n",
    "\n",
    "model1 = make_pipeline(PolynomialFeatures(degree), LinearRegression())\n",
    "\n",
    "model1.fit(X_train, y_train)\n",
    "\n",
    "y_pred = model.predict(X_test)\n",
    "\n",
    "r2 = r2_score(y_test,y_pred)\n",
    "print(r2)\n"
   ]
  },
  {
   "cell_type": "markdown",
   "id": "b2b182a5",
   "metadata": {
    "papermill": {
     "duration": 0.023748,
     "end_time": "2024-04-18T03:35:40.116434",
     "exception": false,
     "start_time": "2024-04-18T03:35:40.092686",
     "status": "completed"
    },
    "tags": []
   },
   "source": [
    "# PCA (this is underfitting now ah.)"
   ]
  },
  {
   "cell_type": "code",
   "execution_count": 5,
   "id": "9d8e292f",
   "metadata": {
    "execution": {
     "iopub.execute_input": "2024-04-18T03:35:40.158245Z",
     "iopub.status.busy": "2024-04-18T03:35:40.157516Z",
     "iopub.status.idle": "2024-04-18T03:35:40.170333Z",
     "shell.execute_reply": "2024-04-18T03:35:40.168596Z"
    },
    "papermill": {
     "duration": 0.034944,
     "end_time": "2024-04-18T03:35:40.175296",
     "exception": false,
     "start_time": "2024-04-18T03:35:40.140352",
     "status": "completed"
    },
    "tags": []
   },
   "outputs": [],
   "source": [
    "# from sklearn.decomposition import PCA \n",
    "# X = pd.DataFrame(X)\n",
    "# y = pd.DataFrame(y)\n",
    "\n",
    "# k = 5\n",
    "\n",
    "# pca = PCA(n_components=0.95)  # Retain 95% of variance\n",
    "# model = LinearRegression()\n",
    "# pipeline = make_pipeline(pca, model)\n",
    "\n",
    "\n",
    "# kf = KFold(n_splits=k, shuffle=True, random_state=42)\n",
    "# cv_results = []\n",
    "\n",
    "# for train_index, test_index in kf.split(X):\n",
    "#     X_train, X_test = X.iloc[train_index], X.iloc[test_index]\n",
    "#     y_train, y_test = y.iloc[train_index], y.iloc[test_index]\n",
    "\n",
    "#     pipeline.fit(X_train, y_train)\n",
    "#     y_pred = pipeline.predict(X_test)\n",
    "#     r2 = r2_score(y_test, y_pred)\n",
    "#     cv_results.append(r2)\n",
    "\n",
    "# cv_results = np.array(cv_results)\n",
    "# print(\"Mean R^2 Score:\", cv_results.mean())\n",
    "# print(\"Standard Deviation of R^2 Score:\", cv_results.std())"
   ]
  },
  {
   "cell_type": "markdown",
   "id": "01d8bc60",
   "metadata": {
    "papermill": {
     "duration": 0.005842,
     "end_time": "2024-04-18T03:35:40.192481",
     "exception": false,
     "start_time": "2024-04-18T03:35:40.186639",
     "status": "completed"
    },
    "tags": []
   },
   "source": [
    "# Let's try random forest and gradient boosting"
   ]
  },
  {
   "cell_type": "code",
   "execution_count": 6,
   "id": "c5eaf4e0",
   "metadata": {
    "execution": {
     "iopub.execute_input": "2024-04-18T03:35:40.204909Z",
     "iopub.status.busy": "2024-04-18T03:35:40.204381Z",
     "iopub.status.idle": "2024-04-18T03:35:41.912795Z",
     "shell.execute_reply": "2024-04-18T03:35:41.911376Z"
    },
    "papermill": {
     "duration": 1.717648,
     "end_time": "2024-04-18T03:35:41.915454",
     "exception": false,
     "start_time": "2024-04-18T03:35:40.197806",
     "status": "completed"
    },
    "tags": []
   },
   "outputs": [
    {
     "name": "stderr",
     "output_type": "stream",
     "text": [
      "/opt/conda/lib/python3.10/site-packages/sklearn/ensemble/_forest.py:413: FutureWarning: `max_features='auto'` has been deprecated in 1.1 and will be removed in 1.3. To keep the past behaviour, explicitly set `max_features=1.0` or remove this parameter as it is also the default value for RandomForestRegressors and ExtraTreesRegressors.\n",
      "  warn(\n",
      "/opt/conda/lib/python3.10/site-packages/sklearn/ensemble/_forest.py:413: FutureWarning: `max_features='auto'` has been deprecated in 1.1 and will be removed in 1.3. To keep the past behaviour, explicitly set `max_features=1.0` or remove this parameter as it is also the default value for RandomForestRegressors and ExtraTreesRegressors.\n",
      "  warn(\n",
      "/opt/conda/lib/python3.10/site-packages/sklearn/ensemble/_forest.py:413: FutureWarning: `max_features='auto'` has been deprecated in 1.1 and will be removed in 1.3. To keep the past behaviour, explicitly set `max_features=1.0` or remove this parameter as it is also the default value for RandomForestRegressors and ExtraTreesRegressors.\n",
      "  warn(\n",
      "/opt/conda/lib/python3.10/site-packages/sklearn/ensemble/_forest.py:413: FutureWarning: `max_features='auto'` has been deprecated in 1.1 and will be removed in 1.3. To keep the past behaviour, explicitly set `max_features=1.0` or remove this parameter as it is also the default value for RandomForestRegressors and ExtraTreesRegressors.\n",
      "  warn(\n",
      "/opt/conda/lib/python3.10/site-packages/sklearn/ensemble/_forest.py:413: FutureWarning: `max_features='auto'` has been deprecated in 1.1 and will be removed in 1.3. To keep the past behaviour, explicitly set `max_features=1.0` or remove this parameter as it is also the default value for RandomForestRegressors and ExtraTreesRegressors.\n",
      "  warn(\n"
     ]
    },
    {
     "name": "stdout",
     "output_type": "stream",
     "text": [
      "Random Forest:\n",
      "Mean R^2 Score: 0.3121288015135879\n",
      "Standard Deviation of R^2 Score: 0.07789541989786727\n",
      "\n",
      "Gradient Boosting:\n",
      "Mean R^2 Score: 0.13656697727775471\n",
      "Standard Deviation of R^2 Score: 0.14605985888504253\n"
     ]
    }
   ],
   "source": [
    "from sklearn.decomposition import PCA\n",
    "from sklearn.ensemble import RandomForestRegressor, GradientBoostingRegressor\n",
    "from sklearn.model_selection import KFold\n",
    "from sklearn.metrics import r2_score\n",
    "import numpy as np\n",
    "\n",
    "# Convert X and y to DataFrames if they are numpy arrays\n",
    "X = pd.DataFrame(X)\n",
    "y = pd.DataFrame(y)\n",
    "\n",
    "# Define the number of folds for cross-validation\n",
    "k = 5\n",
    "\n",
    "# Create PCA transformer\n",
    "pca = PCA(n_components=0.95)  # Retain 95% of variance\n",
    "\n",
    "# Create Random Forest and Gradient Boosting models\n",
    "rf_model = RandomForestRegressor(n_estimators=50, max_depth = None, min_samples_split = 2, min_samples_leaf = 1, max_features = 'auto', random_state=42)\n",
    "gb_model = GradientBoostingRegressor(n_estimators=100, random_state=42)\n",
    "\n",
    "# Perform k-fold cross-validation\n",
    "kf = KFold(n_splits=k, shuffle=True, random_state=42)\n",
    "\n",
    "# Initialize lists to store R-squared scores\n",
    "rf_cv_results = []\n",
    "gb_cv_results = []\n",
    "\n",
    "for train_index, test_index in kf.split(X):\n",
    "    X_train, X_test = X.iloc[train_index], X.iloc[test_index]\n",
    "    y_train, y_test = y.iloc[train_index], y.iloc[test_index]\n",
    "    \n",
    "    # Fit PCA on training data and transform training/testing data\n",
    "    X_train_pca = pca.fit_transform(X_train)\n",
    "    X_test_pca = pca.transform(X_test)\n",
    "    \n",
    "    # Fit Random Forest model on PCA-transformed data\n",
    "    rf_model.fit(X_train_pca, y_train.values.ravel())\n",
    "    # Make predictions with Random Forest model\n",
    "    rf_y_pred = rf_model.predict(X_test_pca)\n",
    "    # Calculate R-squared score for Random Forest model\n",
    "    rf_r2 = r2_score(y_test, rf_y_pred)\n",
    "    rf_cv_results.append(rf_r2)\n",
    "    \n",
    "    # Fit Gradient Boosting model on PCA-transformed data\n",
    "    gb_model.fit(X_train_pca, y_train.values.ravel())\n",
    "    # Make predictions with Gradient Boosting model\n",
    "    gb_y_pred = gb_model.predict(X_test_pca)\n",
    "    # Calculate R-squared score for Gradient Boosting model\n",
    "    gb_r2 = r2_score(y_test, gb_y_pred)\n",
    "    gb_cv_results.append(gb_r2)\n",
    "\n",
    "# Convert lists to numpy arrays\n",
    "rf_cv_results = np.array(rf_cv_results)\n",
    "gb_cv_results = np.array(gb_cv_results)\n",
    "\n",
    "# Print mean and standard deviation of R-squared scores for Random Forest\n",
    "print(\"Random Forest:\")\n",
    "print(\"Mean R^2 Score:\", rf_cv_results.mean())\n",
    "print(\"Standard Deviation of R^2 Score:\", rf_cv_results.std())\n",
    "\n",
    "# Print mean and standard deviation of R-squared scores for Gradient Boosting\n",
    "print(\"\\nGradient Boosting:\")\n",
    "print(\"Mean R^2 Score:\", gb_cv_results.mean())\n",
    "print(\"Standard Deviation of R^2 Score:\", gb_cv_results.std())\n"
   ]
  }
 ],
 "metadata": {
  "kaggle": {
   "accelerator": "none",
   "dataSources": [
    {
     "datasetId": 4817391,
     "sourceId": 8146421,
     "sourceType": "datasetVersion"
    }
   ],
   "dockerImageVersionId": 30684,
   "isGpuEnabled": false,
   "isInternetEnabled": true,
   "language": "python",
   "sourceType": "notebook"
  },
  "kernelspec": {
   "display_name": "Python 3",
   "language": "python",
   "name": "python3"
  },
  "language_info": {
   "codemirror_mode": {
    "name": "ipython",
    "version": 3
   },
   "file_extension": ".py",
   "mimetype": "text/x-python",
   "name": "python",
   "nbconvert_exporter": "python",
   "pygments_lexer": "ipython3",
   "version": "3.10.13"
  },
  "papermill": {
   "default_parameters": {},
   "duration": 13.45103,
   "end_time": "2024-04-18T03:35:42.644771",
   "environment_variables": {},
   "exception": null,
   "input_path": "__notebook__.ipynb",
   "output_path": "__notebook__.ipynb",
   "parameters": {},
   "start_time": "2024-04-18T03:35:29.193741",
   "version": "2.5.0"
  }
 },
 "nbformat": 4,
 "nbformat_minor": 5
}
