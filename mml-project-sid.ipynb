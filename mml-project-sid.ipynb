{
 "cells": [
  {
   "cell_type": "code",
   "execution_count": 1,
   "id": "444fbe1f",
   "metadata": {
    "_cell_guid": "af0d321e-4fd7-4d8c-b0f2-9a1ca75b772e",
    "_uuid": "64bb5c3d-91e2-4d89-a36c-8b05e9ef8620",
    "collapsed": false,
    "execution": {
     "iopub.execute_input": "2024-04-20T00:32:02.168585Z",
     "iopub.status.busy": "2024-04-20T00:32:02.168128Z",
     "iopub.status.idle": "2024-04-20T00:32:03.236289Z",
     "shell.execute_reply": "2024-04-20T00:32:03.235156Z"
    },
    "jupyter": {
     "outputs_hidden": false
    },
    "papermill": {
     "duration": 1.077774,
     "end_time": "2024-04-20T00:32:03.238935",
     "exception": false,
     "start_time": "2024-04-20T00:32:02.161161",
     "status": "completed"
    },
    "tags": []
   },
   "outputs": [
    {
     "name": "stderr",
     "output_type": "stream",
     "text": [
      "/tmp/ipykernel_18/1265945748.py:5: FutureWarning: Downcasting behavior in `replace` is deprecated and will be removed in a future version. To retain the old behavior, explicitly call `result.infer_objects(copy=False)`. To opt-in to the future behavior, set `pd.set_option('future.no_silent_downcasting', True)`\n",
      "  df['class'] = df['class'].replace({'P':1,'H':0})\n"
     ]
    },
    {
     "data": {
      "text/html": [
       "<div>\n",
       "<style scoped>\n",
       "    .dataframe tbody tr th:only-of-type {\n",
       "        vertical-align: middle;\n",
       "    }\n",
       "\n",
       "    .dataframe tbody tr th {\n",
       "        vertical-align: top;\n",
       "    }\n",
       "\n",
       "    .dataframe thead th {\n",
       "        text-align: right;\n",
       "    }\n",
       "</style>\n",
       "<table border=\"1\" class=\"dataframe\">\n",
       "  <thead>\n",
       "    <tr style=\"text-align: right;\">\n",
       "      <th></th>\n",
       "      <th>air_time1</th>\n",
       "      <th>disp_index1</th>\n",
       "      <th>gmrt_in_air1</th>\n",
       "      <th>gmrt_on_paper1</th>\n",
       "      <th>max_x_extension1</th>\n",
       "      <th>max_y_extension1</th>\n",
       "      <th>mean_acc_in_air1</th>\n",
       "      <th>mean_acc_on_paper1</th>\n",
       "      <th>mean_gmrt1</th>\n",
       "      <th>mean_jerk_in_air1</th>\n",
       "      <th>...</th>\n",
       "      <th>mean_jerk_in_air25</th>\n",
       "      <th>mean_jerk_on_paper25</th>\n",
       "      <th>mean_speed_in_air25</th>\n",
       "      <th>mean_speed_on_paper25</th>\n",
       "      <th>num_of_pendown25</th>\n",
       "      <th>paper_time25</th>\n",
       "      <th>pressure_mean25</th>\n",
       "      <th>pressure_var25</th>\n",
       "      <th>total_time25</th>\n",
       "      <th>class</th>\n",
       "    </tr>\n",
       "  </thead>\n",
       "  <tbody>\n",
       "    <tr>\n",
       "      <th>0</th>\n",
       "      <td>5160</td>\n",
       "      <td>0.000013</td>\n",
       "      <td>120.804174</td>\n",
       "      <td>86.853334</td>\n",
       "      <td>957</td>\n",
       "      <td>6601</td>\n",
       "      <td>0.361800</td>\n",
       "      <td>0.217459</td>\n",
       "      <td>103.828754</td>\n",
       "      <td>0.051836</td>\n",
       "      <td>...</td>\n",
       "      <td>0.141434</td>\n",
       "      <td>0.024471</td>\n",
       "      <td>5.596487</td>\n",
       "      <td>3.184589</td>\n",
       "      <td>71</td>\n",
       "      <td>40120</td>\n",
       "      <td>1749.278166</td>\n",
       "      <td>296102.7676</td>\n",
       "      <td>144605</td>\n",
       "      <td>1</td>\n",
       "    </tr>\n",
       "    <tr>\n",
       "      <th>1</th>\n",
       "      <td>51980</td>\n",
       "      <td>0.000016</td>\n",
       "      <td>115.318238</td>\n",
       "      <td>83.448681</td>\n",
       "      <td>1694</td>\n",
       "      <td>6998</td>\n",
       "      <td>0.272513</td>\n",
       "      <td>0.144880</td>\n",
       "      <td>99.383459</td>\n",
       "      <td>0.039827</td>\n",
       "      <td>...</td>\n",
       "      <td>0.049663</td>\n",
       "      <td>0.018368</td>\n",
       "      <td>1.665973</td>\n",
       "      <td>0.950249</td>\n",
       "      <td>129</td>\n",
       "      <td>126700</td>\n",
       "      <td>1504.768272</td>\n",
       "      <td>278744.2850</td>\n",
       "      <td>298640</td>\n",
       "      <td>1</td>\n",
       "    </tr>\n",
       "    <tr>\n",
       "      <th>2</th>\n",
       "      <td>2600</td>\n",
       "      <td>0.000010</td>\n",
       "      <td>229.933997</td>\n",
       "      <td>172.761858</td>\n",
       "      <td>2333</td>\n",
       "      <td>5802</td>\n",
       "      <td>0.387020</td>\n",
       "      <td>0.181342</td>\n",
       "      <td>201.347928</td>\n",
       "      <td>0.064220</td>\n",
       "      <td>...</td>\n",
       "      <td>0.178194</td>\n",
       "      <td>0.017174</td>\n",
       "      <td>4.000781</td>\n",
       "      <td>2.392521</td>\n",
       "      <td>74</td>\n",
       "      <td>45480</td>\n",
       "      <td>1431.443492</td>\n",
       "      <td>144411.7055</td>\n",
       "      <td>79025</td>\n",
       "      <td>1</td>\n",
       "    </tr>\n",
       "    <tr>\n",
       "      <th>3</th>\n",
       "      <td>2130</td>\n",
       "      <td>0.000010</td>\n",
       "      <td>369.403342</td>\n",
       "      <td>183.193104</td>\n",
       "      <td>1756</td>\n",
       "      <td>8159</td>\n",
       "      <td>0.556879</td>\n",
       "      <td>0.164502</td>\n",
       "      <td>276.298223</td>\n",
       "      <td>0.090408</td>\n",
       "      <td>...</td>\n",
       "      <td>0.113905</td>\n",
       "      <td>0.019860</td>\n",
       "      <td>4.206746</td>\n",
       "      <td>1.613522</td>\n",
       "      <td>123</td>\n",
       "      <td>67945</td>\n",
       "      <td>1465.843329</td>\n",
       "      <td>230184.7154</td>\n",
       "      <td>181220</td>\n",
       "      <td>1</td>\n",
       "    </tr>\n",
       "    <tr>\n",
       "      <th>4</th>\n",
       "      <td>2310</td>\n",
       "      <td>0.000007</td>\n",
       "      <td>257.997131</td>\n",
       "      <td>111.275889</td>\n",
       "      <td>987</td>\n",
       "      <td>4732</td>\n",
       "      <td>0.266077</td>\n",
       "      <td>0.145104</td>\n",
       "      <td>184.636510</td>\n",
       "      <td>0.037528</td>\n",
       "      <td>...</td>\n",
       "      <td>0.121782</td>\n",
       "      <td>0.020872</td>\n",
       "      <td>3.319036</td>\n",
       "      <td>1.680629</td>\n",
       "      <td>92</td>\n",
       "      <td>37285</td>\n",
       "      <td>1841.702561</td>\n",
       "      <td>158290.0255</td>\n",
       "      <td>72575</td>\n",
       "      <td>1</td>\n",
       "    </tr>\n",
       "  </tbody>\n",
       "</table>\n",
       "<p>5 rows × 451 columns</p>\n",
       "</div>"
      ],
      "text/plain": [
       "   air_time1  disp_index1  gmrt_in_air1  gmrt_on_paper1  max_x_extension1  \\\n",
       "0       5160     0.000013    120.804174       86.853334               957   \n",
       "1      51980     0.000016    115.318238       83.448681              1694   \n",
       "2       2600     0.000010    229.933997      172.761858              2333   \n",
       "3       2130     0.000010    369.403342      183.193104              1756   \n",
       "4       2310     0.000007    257.997131      111.275889               987   \n",
       "\n",
       "   max_y_extension1  mean_acc_in_air1  mean_acc_on_paper1  mean_gmrt1  \\\n",
       "0              6601          0.361800            0.217459  103.828754   \n",
       "1              6998          0.272513            0.144880   99.383459   \n",
       "2              5802          0.387020            0.181342  201.347928   \n",
       "3              8159          0.556879            0.164502  276.298223   \n",
       "4              4732          0.266077            0.145104  184.636510   \n",
       "\n",
       "   mean_jerk_in_air1  ...  mean_jerk_in_air25  mean_jerk_on_paper25  \\\n",
       "0           0.051836  ...            0.141434              0.024471   \n",
       "1           0.039827  ...            0.049663              0.018368   \n",
       "2           0.064220  ...            0.178194              0.017174   \n",
       "3           0.090408  ...            0.113905              0.019860   \n",
       "4           0.037528  ...            0.121782              0.020872   \n",
       "\n",
       "   mean_speed_in_air25  mean_speed_on_paper25  num_of_pendown25  paper_time25  \\\n",
       "0             5.596487               3.184589                71         40120   \n",
       "1             1.665973               0.950249               129        126700   \n",
       "2             4.000781               2.392521                74         45480   \n",
       "3             4.206746               1.613522               123         67945   \n",
       "4             3.319036               1.680629                92         37285   \n",
       "\n",
       "   pressure_mean25  pressure_var25  total_time25  class  \n",
       "0      1749.278166     296102.7676        144605      1  \n",
       "1      1504.768272     278744.2850        298640      1  \n",
       "2      1431.443492     144411.7055         79025      1  \n",
       "3      1465.843329     230184.7154        181220      1  \n",
       "4      1841.702561     158290.0255         72575      1  \n",
       "\n",
       "[5 rows x 451 columns]"
      ]
     },
     "execution_count": 1,
     "metadata": {},
     "output_type": "execute_result"
    }
   ],
   "source": [
    "import pandas as pd \n",
    "\n",
    "df = pd.read_csv(\"/kaggle/input/darwin/data.csv\")\n",
    "df = df.drop(columns=[\"ID\"])\n",
    "df['class'] = df['class'].replace({'P':1,'H':0})\n",
    "df.head()"
   ]
  },
  {
   "cell_type": "markdown",
   "id": "edee5c7a",
   "metadata": {
    "_cell_guid": "d34e32ce-2062-4048-9e54-d64b64cf3a6b",
    "_uuid": "6ed6bd9d-e418-4202-af29-473b9ed6ca64",
    "papermill": {
     "duration": 0.004788,
     "end_time": "2024-04-20T00:32:03.248922",
     "exception": false,
     "start_time": "2024-04-20T00:32:03.244134",
     "status": "completed"
    },
    "tags": []
   },
   "source": [
    "# Cross-Validation (have no clue wtf was it)"
   ]
  },
  {
   "cell_type": "code",
   "execution_count": 2,
   "id": "f9ced276",
   "metadata": {
    "_cell_guid": "249487a6-13a3-4057-9d41-0542f717fc68",
    "_uuid": "2f7a5afc-99a3-40cc-8375-f14ce079fd45",
    "collapsed": false,
    "execution": {
     "iopub.execute_input": "2024-04-20T00:32:03.261216Z",
     "iopub.status.busy": "2024-04-20T00:32:03.260351Z",
     "iopub.status.idle": "2024-04-20T00:32:03.265605Z",
     "shell.execute_reply": "2024-04-20T00:32:03.264403Z"
    },
    "jupyter": {
     "outputs_hidden": false
    },
    "papermill": {
     "duration": 0.013845,
     "end_time": "2024-04-20T00:32:03.267804",
     "exception": false,
     "start_time": "2024-04-20T00:32:03.253959",
     "status": "completed"
    },
    "tags": []
   },
   "outputs": [],
   "source": [
    "# from sklearn.model_selection import KFold \n",
    "# from sklearn.model_selection import cross_val_score\n",
    "# from sklearn.linear_model import LinearRegression\n",
    "\n",
    "# y = df['class']\n",
    "# X = df.drop(columns=['class'])\n",
    "\n",
    "# k = 7\n",
    "# model = LinearRegression()\n",
    "# kf = KFold(n_splits = k, shuffle = True, random_state = 42)\n",
    "# results = cross_val_score(model, X,y, cv=kf, scoring=\"r2\")\n",
    "\n",
    "# print(results.mean())\n",
    "# print(results.std())"
   ]
  },
  {
   "cell_type": "markdown",
   "id": "e996ba57",
   "metadata": {
    "_cell_guid": "1ba31366-45c8-4629-8a6a-1c9f6e2f11a8",
    "_uuid": "23127ee4-23ca-4b24-8005-b4f3224672b3",
    "papermill": {
     "duration": 0.004832,
     "end_time": "2024-04-20T00:32:03.277844",
     "exception": false,
     "start_time": "2024-04-20T00:32:03.273012",
     "status": "completed"
    },
    "tags": []
   },
   "source": [
    "# Holdout Validation (linear regression)"
   ]
  },
  {
   "cell_type": "code",
   "execution_count": 3,
   "id": "d0e8f8be",
   "metadata": {
    "_cell_guid": "d4005de6-7236-4c4b-ba44-6f90a3128698",
    "_uuid": "7626ca21-89ea-41ea-9c76-28f0c033aad1",
    "collapsed": false,
    "execution": {
     "iopub.execute_input": "2024-04-20T00:32:03.290575Z",
     "iopub.status.busy": "2024-04-20T00:32:03.290154Z",
     "iopub.status.idle": "2024-04-20T00:32:03.294875Z",
     "shell.execute_reply": "2024-04-20T00:32:03.293883Z"
    },
    "jupyter": {
     "outputs_hidden": false
    },
    "papermill": {
     "duration": 0.013682,
     "end_time": "2024-04-20T00:32:03.297044",
     "exception": false,
     "start_time": "2024-04-20T00:32:03.283362",
     "status": "completed"
    },
    "tags": []
   },
   "outputs": [],
   "source": [
    "# from sklearn.model_selection import train_test_split \n",
    "# from sklearn.metrics import r2_score \n",
    "# X_train, X_test, y_train, y_test = train_test_split(X, y, test_size=0.2, random_state=42)\n",
    "\n",
    "# model = LinearRegression()\n",
    "# model.fit(X_train, y_train)\n",
    "\n",
    "# y_pred = model.predict(X_test)\n",
    "\n",
    "# r2 = r2_score(y_test,y_pred)\n",
    "# print(r2)"
   ]
  },
  {
   "cell_type": "markdown",
   "id": "e100fec9",
   "metadata": {
    "_cell_guid": "fabdc471-b7aa-4c03-81a6-ca2938057cb7",
    "_uuid": "23cc15b1-c1b1-48d0-94b8-709c13fe930e",
    "papermill": {
     "duration": 0.004641,
     "end_time": "2024-04-20T00:32:03.306825",
     "exception": false,
     "start_time": "2024-04-20T00:32:03.302184",
     "status": "completed"
    },
    "tags": []
   },
   "source": [
    "(polynomial regression)"
   ]
  },
  {
   "cell_type": "code",
   "execution_count": 4,
   "id": "82d210de",
   "metadata": {
    "_cell_guid": "ca3a0ed4-e622-4ea3-b06b-4150756370bd",
    "_uuid": "318682ba-9d36-4985-81a6-b65f4423707d",
    "collapsed": false,
    "execution": {
     "iopub.execute_input": "2024-04-20T00:32:03.318782Z",
     "iopub.status.busy": "2024-04-20T00:32:03.318353Z",
     "iopub.status.idle": "2024-04-20T00:32:03.323508Z",
     "shell.execute_reply": "2024-04-20T00:32:03.322567Z"
    },
    "jupyter": {
     "outputs_hidden": false
    },
    "papermill": {
     "duration": 0.014034,
     "end_time": "2024-04-20T00:32:03.325797",
     "exception": false,
     "start_time": "2024-04-20T00:32:03.311763",
     "status": "completed"
    },
    "tags": []
   },
   "outputs": [],
   "source": [
    "# from sklearn.preprocessing import PolynomialFeatures\n",
    "# from sklearn.pipeline import make_pipeline\n",
    "# from sklearn.metrics import r2_score\n",
    "\n",
    "# degree = 2\n",
    "# f = PolynomialFeatures(degree = degree)\n",
    "# X_poly_train = f.fit_transform(X_train)\n",
    "# X_poly_test = f.transform(X_test)\n",
    "\n",
    "# model1 = make_pipeline(PolynomialFeatures(degree), LinearRegression())\n",
    "\n",
    "# model1.fit(X_train, y_train)\n",
    "\n",
    "# y_pred = model.predict(X_test)\n",
    "\n",
    "# r2 = r2_score(y_test,y_pred)\n",
    "# print(r2)"
   ]
  },
  {
   "cell_type": "markdown",
   "id": "47b65999",
   "metadata": {
    "_cell_guid": "6943f654-68e1-4994-a242-3d618445bd4f",
    "_uuid": "66f83760-99fc-48e5-832f-acf4e9bdbc62",
    "papermill": {
     "duration": 0.005202,
     "end_time": "2024-04-20T00:32:03.336228",
     "exception": false,
     "start_time": "2024-04-20T00:32:03.331026",
     "status": "completed"
    },
    "tags": []
   },
   "source": [
    "# PCA (this is underfitting now ah.)"
   ]
  },
  {
   "cell_type": "code",
   "execution_count": 5,
   "id": "b6834768",
   "metadata": {
    "_cell_guid": "05cfb44c-240a-4a27-bcfb-eafb39343fd2",
    "_uuid": "7b1a3442-8d75-46a7-8670-63d4405e7fef",
    "collapsed": false,
    "execution": {
     "iopub.execute_input": "2024-04-20T00:32:03.348675Z",
     "iopub.status.busy": "2024-04-20T00:32:03.347959Z",
     "iopub.status.idle": "2024-04-20T00:32:03.353304Z",
     "shell.execute_reply": "2024-04-20T00:32:03.352396Z"
    },
    "jupyter": {
     "outputs_hidden": false
    },
    "papermill": {
     "duration": 0.014074,
     "end_time": "2024-04-20T00:32:03.355502",
     "exception": false,
     "start_time": "2024-04-20T00:32:03.341428",
     "status": "completed"
    },
    "tags": []
   },
   "outputs": [],
   "source": [
    "# import numpy as np \n",
    "# from sklearn.decomposition import PCA \n",
    "# X = pd.DataFrame(X)\n",
    "# y = pd.DataFrame(y)\n",
    "\n",
    "# k = 5\n",
    "\n",
    "# pca = PCA(n_components=0.95)  # Retain 95% of variance\n",
    "# model = LinearRegression()\n",
    "# pipeline = make_pipeline(pca, model)\n",
    "\n",
    "\n",
    "# kf = KFold(n_splits=k, shuffle=True, random_state=42)\n",
    "# cv_results = []\n",
    "\n",
    "# for train_index, test_index in kf.split(X):\n",
    "#     X_train, X_test = X.iloc[train_index], X.iloc[test_index]\n",
    "#     y_train, y_test = y.iloc[train_index], y.iloc[test_index]\n",
    "\n",
    "#     pipeline.fit(X_train, y_train)\n",
    "#     y_pred = pipeline.predict(X_test)\n",
    "#     r2 = r2_score(y_test, y_pred)\n",
    "#     cv_results.append(r2)\n",
    "\n",
    "# cv_results = np.array(cv_results)\n",
    "# print(\"Mean R^2 Score:\", cv_results.mean())\n",
    "# print(\"Standard Deviation of R^2 Score:\", cv_results.std())"
   ]
  },
  {
   "cell_type": "markdown",
   "id": "eea63e1c",
   "metadata": {
    "_cell_guid": "4ea942e2-9d0e-4e84-8390-dbaedacdb621",
    "_uuid": "06cf99fa-5a9b-43d3-aefa-b59793cf332a",
    "papermill": {
     "duration": 0.004852,
     "end_time": "2024-04-20T00:32:03.365570",
     "exception": false,
     "start_time": "2024-04-20T00:32:03.360718",
     "status": "completed"
    },
    "tags": []
   },
   "source": [
    "# Let's try random forest"
   ]
  },
  {
   "cell_type": "code",
   "execution_count": 6,
   "id": "e50858c9",
   "metadata": {
    "_cell_guid": "de3ddeb0-ff9b-42b2-a916-fa44b9edc6a8",
    "_uuid": "184ae3b4-aecd-4048-8cbc-4d02dd7f013c",
    "collapsed": false,
    "execution": {
     "iopub.execute_input": "2024-04-20T00:32:03.378421Z",
     "iopub.status.busy": "2024-04-20T00:32:03.377734Z",
     "iopub.status.idle": "2024-04-20T00:32:03.383517Z",
     "shell.execute_reply": "2024-04-20T00:32:03.382616Z"
    },
    "jupyter": {
     "outputs_hidden": false
    },
    "papermill": {
     "duration": 0.015037,
     "end_time": "2024-04-20T00:32:03.385712",
     "exception": false,
     "start_time": "2024-04-20T00:32:03.370675",
     "status": "completed"
    },
    "tags": []
   },
   "outputs": [],
   "source": [
    "# from sklearn.decomposition import PCA\n",
    "# from sklearn.ensemble import RandomForestRegressor\n",
    "# from sklearn.model_selection import KFold\n",
    "# from sklearn.metrics import r2_score\n",
    "# import numpy as np\n",
    "\n",
    "# y = df['class']\n",
    "# X = df.drop(columns=['class'])\n",
    "\n",
    "# X = pd.DataFrame(X)\n",
    "# y = pd.DataFrame(y)\n",
    "\n",
    "# k = 5\n",
    "\n",
    "# pca = PCA(n_components=0.95)\n",
    "\n",
    "# rf_model = RandomForestRegressor(n_estimators=42, max_depth = None, min_samples_split = 2, min_samples_leaf = 1, max_features = 1.0, random_state=42)\n",
    "\n",
    "# kf = KFold(n_splits=k, shuffle=True, random_state=42)\n",
    "\n",
    "# rf_cv_results = []\n",
    "\n",
    "# for train_index, test_index in kf.split(X):\n",
    "#     X_train, X_test = X.iloc[train_index], X.iloc[test_index]\n",
    "#     y_train, y_test = y.iloc[train_index], y.iloc[test_index]\n",
    "#     X_train_pca = pca.fit_transform(X_train)\n",
    "#     X_test_pca = pca.transform(X_test)\n",
    "\n",
    "#     rf_model.fit(X_train_pca, y_train.values.ravel())\n",
    "#     rf_y_pred = rf_model.predict(X_test_pca)\n",
    "#     rf_r2 = r2_score(y_test, rf_y_pred)\n",
    "#     rf_cv_results.append(rf_r2)\n",
    "\n",
    "# rf_cv_results = np.array(rf_cv_results)\n",
    "\n",
    "# # Train the model\n",
    "# rf_model.fit(X_train_pca, y_train.values.ravel())\n",
    "\n",
    "# # Predictions on training set\n",
    "# rf_train_pred = rf_model.predict(X_train_pca)\n",
    "# rf_train_r2 = r2_score(y_train, rf_train_pred)\n",
    "# print(\"Training set R^2 score:\", rf_train_r2)\n",
    "\n",
    "# # Predictions on test set\n",
    "# rf_test_pred = rf_model.predict(X_test_pca)\n",
    "# rf_test_r2 = r2_score(y_test, rf_test_pred)\n",
    "# print(\"Test set R^2 score:\", rf_test_r2)"
   ]
  },
  {
   "cell_type": "code",
   "execution_count": 7,
   "id": "3242b857",
   "metadata": {
    "execution": {
     "iopub.execute_input": "2024-04-20T00:32:03.398205Z",
     "iopub.status.busy": "2024-04-20T00:32:03.397554Z",
     "iopub.status.idle": "2024-04-20T00:32:03.402650Z",
     "shell.execute_reply": "2024-04-20T00:32:03.401842Z"
    },
    "papermill": {
     "duration": 0.013847,
     "end_time": "2024-04-20T00:32:03.404697",
     "exception": false,
     "start_time": "2024-04-20T00:32:03.390850",
     "status": "completed"
    },
    "tags": []
   },
   "outputs": [],
   "source": [
    "\n",
    "# # Define the random forest model with adjusted parameters\n",
    "# rf_model = RandomForestRegressor(n_estimators=50, \n",
    "#                                   max_depth=10,  # Adjust the maximum depth of the trees\n",
    "#                                   min_samples_split=5,  # Adjust the minimum number of samples required to split a node\n",
    "#                                   min_samples_leaf=2,   # Adjust the minimum number of samples required to be at a leaf node\n",
    "#                                   max_features=0.7,  # You can also adjust the number of features to consider when looking for the best split\n",
    "#                                   random_state=42)\n",
    "\n",
    "# # Train the model on the training data\n",
    "# rf_model.fit(X_train_pca, y_train.values.ravel())\n",
    "\n",
    "# # Predict on the training set\n",
    "# train_predictions = rf_model.predict(X_train_pca)\n",
    "\n",
    "# # Predict on the test set\n",
    "# test_predictions = rf_model.predict(X_test_pca)\n",
    "\n",
    "# # Calculate R-squared scores\n",
    "# train_r2 = r2_score(y_train, train_predictions)\n",
    "# test_r2 = r2_score(y_test, test_predictions)\n",
    "\n",
    "# print(\"Training set R^2 score:\", train_r2)\n",
    "# print(\"Test set R^2 score:\", test_r2)\n"
   ]
  },
  {
   "cell_type": "code",
   "execution_count": 8,
   "id": "d7da2c84",
   "metadata": {
    "execution": {
     "iopub.execute_input": "2024-04-20T00:32:03.418275Z",
     "iopub.status.busy": "2024-04-20T00:32:03.417621Z",
     "iopub.status.idle": "2024-04-20T00:32:03.422536Z",
     "shell.execute_reply": "2024-04-20T00:32:03.421723Z"
    },
    "papermill": {
     "duration": 0.013381,
     "end_time": "2024-04-20T00:32:03.424530",
     "exception": false,
     "start_time": "2024-04-20T00:32:03.411149",
     "status": "completed"
    },
    "tags": []
   },
   "outputs": [],
   "source": [
    "# from sklearn.ensemble import GradientBoostingRegressor\n",
    "\n",
    "# # Gradient Boosting Regression\n",
    "# gb_model = GradientBoostingRegressor(n_estimators=100, learning_rate=0.1, max_depth=3, random_state=42)\n",
    "\n",
    "# gb_cv_results = []\n",
    "\n",
    "# for train_index, test_index in kf.split(X):\n",
    "#     X_train, X_test = X.iloc[train_index], X.iloc[test_index]\n",
    "#     y_train, y_test = y.iloc[train_index], y.iloc[test_index]\n",
    "\n",
    "#     gb_model.fit(X_train, y_train.values.ravel())\n",
    "#     gb_y_pred = gb_model.predict(X_test)\n",
    "#     gb_r2 = r2_score(y_test, gb_y_pred)\n",
    "#     gb_cv_results.append(gb_r2)\n",
    "\n",
    "# gb_cv_results = np.array(gb_cv_results)\n",
    "\n",
    "# print(\"Gradient Boosting Regression:\")\n",
    "# print(\"Mean R^2 Score:\", gb_cv_results.mean())\n",
    "# print(\"Standard Deviation of R^2 Score:\", gb_cv_results.std())\n"
   ]
  },
  {
   "cell_type": "code",
   "execution_count": 9,
   "id": "d693db90",
   "metadata": {
    "execution": {
     "iopub.execute_input": "2024-04-20T00:32:03.436743Z",
     "iopub.status.busy": "2024-04-20T00:32:03.436066Z",
     "iopub.status.idle": "2024-04-20T00:32:05.472051Z",
     "shell.execute_reply": "2024-04-20T00:32:05.470833Z"
    },
    "papermill": {
     "duration": 2.044979,
     "end_time": "2024-04-20T00:32:05.474554",
     "exception": false,
     "start_time": "2024-04-20T00:32:03.429575",
     "status": "completed"
    },
    "tags": []
   },
   "outputs": [
    {
     "name": "stdout",
     "output_type": "stream",
     "text": [
      "Training set R^2 score: 0.999999999961367\n",
      "Test set R^2 score: 0.5202506944910893\n"
     ]
    }
   ],
   "source": [
    "from sklearn.model_selection import train_test_split\n",
    "from sklearn.ensemble import GradientBoostingRegressor\n",
    "from sklearn.metrics import r2_score\n",
    "\n",
    "y = df['class']\n",
    "X = df.drop(columns=['class'])\n",
    "\n",
    "X_train, X_test, y_train, y_test = train_test_split(X, y, test_size=0.2, random_state=42)\n",
    "\n",
    "\n",
    "gb_model = GradientBoostingRegressor(learning_rate=0.2, n_estimators=100, \n",
    "                                            max_depth=5, min_samples_split=5, \n",
    "                                            min_samples_leaf=2, max_features='sqrt', \n",
    "                                            random_state=42)\n",
    "\n",
    "gb_model.fit(X_train, y_train)\n",
    "\n",
    "train_r2 = gb_model.score(X_train, y_train)\n",
    "print(\"Training set R^2 score:\", train_r2)\n",
    "\n",
    "test_r2 = gb_model.score(X_test, y_test)\n",
    "print(\"Test set R^2 score:\", test_r2)"
   ]
  },
  {
   "cell_type": "code",
   "execution_count": 10,
   "id": "d933856f",
   "metadata": {
    "execution": {
     "iopub.execute_input": "2024-04-20T00:32:05.487513Z",
     "iopub.status.busy": "2024-04-20T00:32:05.486824Z",
     "iopub.status.idle": "2024-04-20T00:32:05.696198Z",
     "shell.execute_reply": "2024-04-20T00:32:05.694521Z"
    },
    "papermill": {
     "duration": 0.218822,
     "end_time": "2024-04-20T00:32:05.698609",
     "exception": false,
     "start_time": "2024-04-20T00:32:05.479787",
     "status": "completed"
    },
    "tags": []
   },
   "outputs": [
    {
     "name": "stdout",
     "output_type": "stream",
     "text": [
      "Gradient Boosting Classifier:\n",
      "Training set accuracy: 1.0\n",
      "Test set accuracy: 0.8857142857142857\n",
      "Training set precision: 1.0\n",
      "Test set precision: 0.9444444444444444\n",
      "Training set recall: 1.0\n",
      "Test set recall: 0.85\n",
      "Training set F1-score: 1.0\n",
      "Test set F1-score: 0.8947368421052632\n"
     ]
    }
   ],
   "source": [
    "from sklearn.ensemble import GradientBoostingClassifier\n",
    "from sklearn.metrics import accuracy_score, precision_score, recall_score, f1_score, confusion_matrix\n",
    "\n",
    "gb_classifier = GradientBoostingClassifier(learning_rate=0.3, n_estimators=100, \n",
    "                                           max_depth=5, min_samples_split=5, \n",
    "                                           min_samples_leaf=2, max_features='sqrt', \n",
    "                                           random_state=42)\n",
    "\n",
    "\n",
    "gb_classifier.fit(X_train, y_train)\n",
    "\n",
    "y_train_pred_gb = gb_classifier.predict(X_train)\n",
    "\n",
    "y_test_pred_gb = gb_classifier.predict(X_test)\n",
    "\n",
    "# Calculate accuracy\n",
    "train_accuracy_gb = accuracy_score(y_train, y_train_pred_gb)\n",
    "test_accuracy_gb = accuracy_score(y_test, y_test_pred_gb)\n",
    "\n",
    "# Calculate precision\n",
    "train_precision_gb = precision_score(y_train, y_train_pred_gb)\n",
    "test_precision_gb = precision_score(y_test, y_test_pred_gb)\n",
    "\n",
    "# Calculate recall\n",
    "train_recall_gb = recall_score(y_train, y_train_pred_gb)\n",
    "test_recall_gb = recall_score(y_test, y_test_pred_gb)\n",
    "\n",
    "# Calculate F1-score\n",
    "train_f1_gb = f1_score(y_train, y_train_pred_gb)\n",
    "test_f1_gb = f1_score(y_test, y_test_pred_gb)\n",
    "\n",
    "print(\"Gradient Boosting Classifier:\")\n",
    "print(\"Training set accuracy:\", train_accuracy_gb)\n",
    "print(\"Test set accuracy:\", test_accuracy_gb)\n",
    "print(\"Training set precision:\", train_precision_gb)\n",
    "print(\"Test set precision:\", test_precision_gb)\n",
    "print(\"Training set recall:\", train_recall_gb)\n",
    "print(\"Test set recall:\", test_recall_gb)\n",
    "print(\"Training set F1-score:\", train_f1_gb)\n",
    "print(\"Test set F1-score:\", test_f1_gb)"
   ]
  },
  {
   "cell_type": "code",
   "execution_count": 11,
   "id": "dd0be89b",
   "metadata": {
    "execution": {
     "iopub.execute_input": "2024-04-20T00:32:05.711611Z",
     "iopub.status.busy": "2024-04-20T00:32:05.711156Z",
     "iopub.status.idle": "2024-04-20T00:32:06.374695Z",
     "shell.execute_reply": "2024-04-20T00:32:06.372986Z"
    },
    "papermill": {
     "duration": 0.673491,
     "end_time": "2024-04-20T00:32:06.377867",
     "exception": false,
     "start_time": "2024-04-20T00:32:05.704376",
     "status": "completed"
    },
    "tags": []
   },
   "outputs": [
    {
     "data": {
      "image/png": "[encoded data removed]",
      "text/plain": [
       "<Figure size 800x600 with 2 Axes>"
      ]
     },
     "metadata": {},
     "output_type": "display_data"
    }
   ],
   "source": [
    "import matplotlib.pyplot as plt\n",
    "import seaborn as sns\n",
    "from sklearn.metrics import confusion_matrix\n",
    "\n",
    "cm = confusion_matrix(y_test, y_test_pred_gb)\n",
    "\n",
    "labels = ['True Neg','False Pos','False Neg','True Pos']\n",
    "\n",
    "cm = cm.reshape(2,2)\n",
    "\n",
    "plt.figure(figsize=(8,6))\n",
    "sns.heatmap(cm, annot=True, fmt='d', cmap='Blues', xticklabels=['Non-Alzheimer\\'s', 'Alzheimer\\'s'], yticklabels=['Non-Alzheimer\\'s', 'Alzheimer\\'s'])\n",
    "plt.xlabel('Predicted')\n",
    "plt.ylabel('Actual')\n",
    "plt.title('Confusion Matrix')\n",
    "plt.show()"
   ]
  }
 ],
 "metadata": {
  "kaggle": {
   "accelerator": "none",
   "dataSources": [
    {
     "datasetId": 4817391,
     "sourceId": 8146421,
     "sourceType": "datasetVersion"
    }
   ],
   "dockerImageVersionId": 30684,
   "isGpuEnabled": false,
   "isInternetEnabled": true,
   "language": "python",
   "sourceType": "notebook"
  },
  "kernelspec": {
   "display_name": "Python 3",
   "language": "python",
   "name": "python3"
  },
  "language_info": {
   "codemirror_mode": {
    "name": "ipython",
    "version": 3
   },
   "file_extension": ".py",
   "mimetype": "text/x-python",
   "name": "python",
   "nbconvert_exporter": "python",
   "pygments_lexer": "ipython3",
   "version": "3.10.13"
  },
  "papermill": {
   "default_parameters": {},
   "duration": 8.152273,
   "end_time": "2024-04-20T00:32:07.307215",
   "environment_variables": {},
   "exception": null,
   "input_path": "__notebook__.ipynb",
   "output_path": "__notebook__.ipynb",
   "parameters": {},
   "start_time": "2024-04-20T00:31:59.154942",
   "version": "2.5.0"
  }
 },
 "nbformat": 4,
 "nbformat_minor": 5
}
