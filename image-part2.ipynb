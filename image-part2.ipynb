{
  "cells": [
    {
      "cell_type": "markdown",
      "id": "3af3c080",
      "metadata": {
        "id": "3af3c080",
        "papermill": {
          "duration": 0.019451,
          "end_time": "2024-04-18T02:37:04.719945",
          "exception": false,
          "start_time": "2024-04-18T02:37:04.700494",
          "status": "completed"
        },
        "tags": []
      },
      "source": [
        "<a href=\"https://www.kaggle.com/code/pes1ug22am164/image-part?scriptVersionId=171996997\" target=\"_blank\"><img align=\"left\" alt=\"Kaggle\" title=\"Open in Kaggle\" src=\"https://kaggle.com/static/images/open-in-kaggle.svg\"></a>"
      ]
    },
    {
      "cell_type": "markdown",
      "id": "634a515b",
      "metadata": {
        "id": "634a515b",
        "papermill": {
          "duration": 0.017271,
          "end_time": "2024-04-18T02:37:04.755052",
          "exception": false,
          "start_time": "2024-04-18T02:37:04.737781",
          "status": "completed"
        },
        "tags": []
      },
      "source": [
        "# uncomment on google colab, comment on kaggle."
      ]
    },
    {
      "cell_type": "code",
      "execution_count": 38,
      "id": "3ae9ef29",
      "metadata": {
        "execution": {
          "iopub.execute_input": "2024-04-18T02:37:04.798912Z",
          "iopub.status.busy": "2024-04-18T02:37:04.797914Z",
          "iopub.status.idle": "2024-04-18T02:37:04.803293Z",
          "shell.execute_reply": "2024-04-18T02:37:04.802363Z"
        },
        "id": "3ae9ef29",
        "outputId": "7cda0a49-ad97-4662-b4ac-85c5284a2401",
        "papermill": {
          "duration": 0.029869,
          "end_time": "2024-04-18T02:37:04.805581",
          "exception": false,
          "start_time": "2024-04-18T02:37:04.775712",
          "status": "completed"
        },
        "tags": [],
        "colab": {
          "base_uri": "https://localhost:8080/",
          "height": 108
        }
      },
      "outputs": [
        {
          "output_type": "stream",
          "name": "stdout",
          "text": [
            "mkdir: cannot create directory ‘/root/.kaggle’: File exists\n"
          ]
        },
        {
          "output_type": "display_data",
          "data": {
            "text/plain": [
              "<IPython.core.display.HTML object>"
            ],
            "text/html": [
              "\n",
              "     <input type=\"file\" id=\"files-52c207ce-a1dc-4092-9bef-803c631d8f18\" name=\"files[]\" multiple disabled\n",
              "        style=\"border:none\" />\n",
              "     <output id=\"result-52c207ce-a1dc-4092-9bef-803c631d8f18\">\n",
              "      Upload widget is only available when the cell has been executed in the\n",
              "      current browser session. Please rerun this cell to enable.\n",
              "      </output>\n",
              "      <script>// Copyright 2017 Google LLC\n",
              "//\n",
              "// Licensed under the Apache License, Version 2.0 (the \"License\");\n",
              "// you may not use this file except in compliance with the License.\n",
              "// You may obtain a copy of the License at\n",
              "//\n",
              "//      http://www.apache.org/licenses/LICENSE-2.0\n",
              "//\n",
              "// Unless required by applicable law or agreed to in writing, software\n",
              "// distributed under the License is distributed on an \"AS IS\" BASIS,\n",
              "// WITHOUT WARRANTIES OR CONDITIONS OF ANY KIND, either express or implied.\n",
              "// See the License for the specific language governing permissions and\n",
              "// limitations under the License.\n",
              "\n",
              "/**\n",
              " * @fileoverview Helpers for google.colab Python module.\n",
              " */\n",
              "(function(scope) {\n",
              "function span(text, styleAttributes = {}) {\n",
              "  const element = document.createElement('span');\n",
              "  element.textContent = text;\n",
              "  for (const key of Object.keys(styleAttributes)) {\n",
              "    element.style[key] = styleAttributes[key];\n",
              "  }\n",
              "  return element;\n",
              "}\n",
              "\n",
              "// Max number of bytes which will be uploaded at a time.\n",
              "const MAX_PAYLOAD_SIZE = 100 * 1024;\n",
              "\n",
              "function _uploadFiles(inputId, outputId) {\n",
              "  const steps = uploadFilesStep(inputId, outputId);\n",
              "  const outputElement = document.getElementById(outputId);\n",
              "  // Cache steps on the outputElement to make it available for the next call\n",
              "  // to uploadFilesContinue from Python.\n",
              "  outputElement.steps = steps;\n",
              "\n",
              "  return _uploadFilesContinue(outputId);\n",
              "}\n",
              "\n",
              "// This is roughly an async generator (not supported in the browser yet),\n",
              "// where there are multiple asynchronous steps and the Python side is going\n",
              "// to poll for completion of each step.\n",
              "// This uses a Promise to block the python side on completion of each step,\n",
              "// then passes the result of the previous step as the input to the next step.\n",
              "function _uploadFilesContinue(outputId) {\n",
              "  const outputElement = document.getElementById(outputId);\n",
              "  const steps = outputElement.steps;\n",
              "\n",
              "  const next = steps.next(outputElement.lastPromiseValue);\n",
              "  return Promise.resolve(next.value.promise).then((value) => {\n",
              "    // Cache the last promise value to make it available to the next\n",
              "    // step of the generator.\n",
              "    outputElement.lastPromiseValue = value;\n",
              "    return next.value.response;\n",
              "  });\n",
              "}\n",
              "\n",
              "/**\n",
              " * Generator function which is called between each async step of the upload\n",
              " * process.\n",
              " * @param {string} inputId Element ID of the input file picker element.\n",
              " * @param {string} outputId Element ID of the output display.\n",
              " * @return {!Iterable<!Object>} Iterable of next steps.\n",
              " */\n",
              "function* uploadFilesStep(inputId, outputId) {\n",
              "  const inputElement = document.getElementById(inputId);\n",
              "  inputElement.disabled = false;\n",
              "\n",
              "  const outputElement = document.getElementById(outputId);\n",
              "  outputElement.innerHTML = '';\n",
              "\n",
              "  const pickedPromise = new Promise((resolve) => {\n",
              "    inputElement.addEventListener('change', (e) => {\n",
              "      resolve(e.target.files);\n",
              "    });\n",
              "  });\n",
              "\n",
              "  const cancel = document.createElement('button');\n",
              "  inputElement.parentElement.appendChild(cancel);\n",
              "  cancel.textContent = 'Cancel upload';\n",
              "  const cancelPromise = new Promise((resolve) => {\n",
              "    cancel.onclick = () => {\n",
              "      resolve(null);\n",
              "    };\n",
              "  });\n",
              "\n",
              "  // Wait for the user to pick the files.\n",
              "  const files = yield {\n",
              "    promise: Promise.race([pickedPromise, cancelPromise]),\n",
              "    response: {\n",
              "      action: 'starting',\n",
              "    }\n",
              "  };\n",
              "\n",
              "  cancel.remove();\n",
              "\n",
              "  // Disable the input element since further picks are not allowed.\n",
              "  inputElement.disabled = true;\n",
              "\n",
              "  if (!files) {\n",
              "    return {\n",
              "      response: {\n",
              "        action: 'complete',\n",
              "      }\n",
              "    };\n",
              "  }\n",
              "\n",
              "  for (const file of files) {\n",
              "    const li = document.createElement('li');\n",
              "    li.append(span(file.name, {fontWeight: 'bold'}));\n",
              "    li.append(span(\n",
              "        `(${file.type || 'n/a'}) - ${file.size} bytes, ` +\n",
              "        `last modified: ${\n",
              "            file.lastModifiedDate ? file.lastModifiedDate.toLocaleDateString() :\n",
              "                                    'n/a'} - `));\n",
              "    const percent = span('0% done');\n",
              "    li.appendChild(percent);\n",
              "\n",
              "    outputElement.appendChild(li);\n",
              "\n",
              "    const fileDataPromise = new Promise((resolve) => {\n",
              "      const reader = new FileReader();\n",
              "      reader.onload = (e) => {\n",
              "        resolve(e.target.result);\n",
              "      };\n",
              "      reader.readAsArrayBuffer(file);\n",
              "    });\n",
              "    // Wait for the data to be ready.\n",
              "    let fileData = yield {\n",
              "      promise: fileDataPromise,\n",
              "      response: {\n",
              "        action: 'continue',\n",
              "      }\n",
              "    };\n",
              "\n",
              "    // Use a chunked sending to avoid message size limits. See b/62115660.\n",
              "    let position = 0;\n",
              "    do {\n",
              "      const length = Math.min(fileData.byteLength - position, MAX_PAYLOAD_SIZE);\n",
              "      const chunk = new Uint8Array(fileData, position, length);\n",
              "      position += length;\n",
              "\n",
              "      const base64 = btoa(String.fromCharCode.apply(null, chunk));\n",
              "      yield {\n",
              "        response: {\n",
              "          action: 'append',\n",
              "          file: file.name,\n",
              "          data: base64,\n",
              "        },\n",
              "      };\n",
              "\n",
              "      let percentDone = fileData.byteLength === 0 ?\n",
              "          100 :\n",
              "          Math.round((position / fileData.byteLength) * 100);\n",
              "      percent.textContent = `${percentDone}% done`;\n",
              "\n",
              "    } while (position < fileData.byteLength);\n",
              "  }\n",
              "\n",
              "  // All done.\n",
              "  yield {\n",
              "    response: {\n",
              "      action: 'complete',\n",
              "    }\n",
              "  };\n",
              "}\n",
              "\n",
              "scope.google = scope.google || {};\n",
              "scope.google.colab = scope.google.colab || {};\n",
              "scope.google.colab._files = {\n",
              "  _uploadFiles,\n",
              "  _uploadFilesContinue,\n",
              "};\n",
              "})(self);\n",
              "</script> "
            ]
          },
          "metadata": {}
        },
        {
          "output_type": "stream",
          "name": "stdout",
          "text": [
            "Saving kaggle.json to kaggle (1).json\n",
            "betterest-preproc.zip: Skipping, found more recently modified local copy (use --force to force download)\n"
          ]
        }
      ],
      "source": [
        "!mkdir ~/.kaggle\n",
        "from google.colab import files\n",
        "files.upload()\n",
        "!cp kaggle.json ~/.kaggle/\n",
        "!chmod 600 ~/.kaggle/kaggle.json\n",
        "!kaggle datasets download -d shusrith/betterest-preproc"
      ]
    },
    {
      "cell_type": "code",
      "execution_count": 39,
      "id": "14cc2ca4",
      "metadata": {
        "execution": {
          "iopub.execute_input": "2024-04-18T02:37:04.844141Z",
          "iopub.status.busy": "2024-04-18T02:37:04.843287Z",
          "iopub.status.idle": "2024-04-18T02:37:04.847754Z",
          "shell.execute_reply": "2024-04-18T02:37:04.846758Z"
        },
        "id": "14cc2ca4",
        "papermill": {
          "duration": 0.025397,
          "end_time": "2024-04-18T02:37:04.849730",
          "exception": false,
          "start_time": "2024-04-18T02:37:04.824333",
          "status": "completed"
        },
        "tags": [],
        "outputId": "c1025d8f-6b27-47fa-bdaa-67e386f63c60",
        "colab": {
          "base_uri": "https://localhost:8080/"
        }
      },
      "outputs": [
        {
          "output_type": "stream",
          "name": "stdout",
          "text": [
            "Archive:  /content/betterest-preproc.zip\n",
            "replace test/MildDemented0.jpg? [y]es, [n]o, [A]ll, [N]one, [r]ename: "
          ]
        }
      ],
      "source": [
        "!unzip /content/betterest-preproc.zip"
      ]
    },
    {
      "cell_type": "code",
      "execution_count": 54,
      "id": "452153ac",
      "metadata": {
        "execution": {
          "iopub.execute_input": "2024-04-18T02:37:05.982628Z",
          "iopub.status.busy": "2024-04-18T02:37:05.981734Z",
          "iopub.status.idle": "2024-04-18T02:37:06.131505Z",
          "shell.execute_reply": "2024-04-18T02:37:06.130271Z"
        },
        "papermill": {
          "duration": 0.170115,
          "end_time": "2024-04-18T02:37:06.133939",
          "exception": false,
          "start_time": "2024-04-18T02:37:05.963824",
          "status": "completed"
        },
        "tags": [],
        "id": "452153ac",
        "outputId": "407da94e-291c-47df-deee-e24e2daac517",
        "colab": {
          "base_uri": "https://localhost:8080/"
        }
      },
      "outputs": [
        {
          "output_type": "execute_result",
          "data": {
            "text/plain": [
              "10240"
            ]
          },
          "metadata": {},
          "execution_count": 54
        }
      ],
      "source": [
        "import os\n",
        "import numpy as np\n",
        "directory = '/content/train'\n",
        "\n",
        "files = [file for file in os.listdir(directory) if file.endswith('.jpg')]\n",
        "len(files)"
      ]
    },
    {
      "cell_type": "code",
      "execution_count": 55,
      "id": "f8db2f7d",
      "metadata": {
        "execution": {
          "iopub.execute_input": "2024-04-18T02:37:06.172969Z",
          "iopub.status.busy": "2024-04-18T02:37:06.172299Z",
          "iopub.status.idle": "2024-04-18T02:37:06.182597Z",
          "shell.execute_reply": "2024-04-18T02:37:06.181487Z"
        },
        "papermill": {
          "duration": 0.031884,
          "end_time": "2024-04-18T02:37:06.185224",
          "exception": false,
          "start_time": "2024-04-18T02:37:06.153340",
          "status": "completed"
        },
        "tags": [],
        "id": "f8db2f7d",
        "outputId": "587269d3-fb9c-4dd2-dbfe-f600cab68ffb",
        "colab": {
          "base_uri": "https://localhost:8080/"
        }
      },
      "outputs": [
        {
          "output_type": "stream",
          "name": "stdout",
          "text": [
            "2560 2560 2560 2560\n"
          ]
        }
      ],
      "source": [
        "mildDem = [i for i in files if i.startswith(\"milDem\")]\n",
        "moderateDem = [i for i in files if \"moderateDim\" in i]\n",
        "nonDem = [i for i in files if \"nonDem\" in i]\n",
        "veryMild = [i for i in files if \"veryMildDem\" in i]\n",
        "print(len(mildDem), len(moderateDem), len(nonDem), len(veryMild))"
      ]
    },
    {
      "cell_type": "code",
      "execution_count": 56,
      "id": "1c1edbb8",
      "metadata": {
        "execution": {
          "iopub.execute_input": "2024-04-18T02:37:06.226007Z",
          "iopub.status.busy": "2024-04-18T02:37:06.225649Z",
          "iopub.status.idle": "2024-04-18T02:37:07.101287Z",
          "shell.execute_reply": "2024-04-18T02:37:07.100370Z"
        },
        "papermill": {
          "duration": 0.898685,
          "end_time": "2024-04-18T02:37:07.103527",
          "exception": false,
          "start_time": "2024-04-18T02:37:06.204842",
          "status": "completed"
        },
        "tags": [],
        "id": "1c1edbb8",
        "outputId": "68ee38b9-3fb9-4a25-9368-98abdaa69e5e",
        "colab": {
          "base_uri": "https://localhost:8080/"
        }
      },
      "outputs": [
        {
          "output_type": "execute_result",
          "data": {
            "text/plain": [
              "Class\n",
              "0    2560\n",
              "1    2560\n",
              "2    2560\n",
              "3    2560\n",
              "Name: count, dtype: int64"
            ]
          },
          "metadata": {},
          "execution_count": 56
        }
      ],
      "source": [
        "import pandas as pd\n",
        "l = [[mildDem, \"0\"], [moderateDem, \"1\"], [nonDem, \"2\"], [veryMild, \"3\"]]\n",
        "x = []\n",
        "for i in l:\n",
        "    for j in i[0]:\n",
        "        path = os.path.join(\"/content/train\", j)\n",
        "        x.append([i[1], path])\n",
        "\n",
        "df = pd.DataFrame(x, columns=[\"Class\", \"Path\"])\n",
        "x = df[\"Class\"].value_counts()\n",
        "x"
      ]
    },
    {
      "cell_type": "code",
      "source": [
        "from sklearn.model_selection import train_test_split\n",
        "\n",
        "train_images, test_images, train_labels, test_labels = train_test_split(df[\"Path\"], df[\"Class\"], test_size=0.2, random_state=42)"
      ],
      "metadata": {
        "id": "wakW7WFCdoDl"
      },
      "id": "wakW7WFCdoDl",
      "execution_count": 70,
      "outputs": []
    },
    {
      "cell_type": "code",
      "source": [
        "import pandas as pd\n",
        "from keras.preprocessing.image import ImageDataGenerator\n",
        "\n",
        "train_df = pd.DataFrame({\n",
        "    'filename': train_images,\n",
        "    'class': train_labels\n",
        "})\n",
        "val_df = pd.DataFrame({\n",
        "    'filename': test_images,\n",
        "    'class': test_labels\n",
        "})\n",
        "\n",
        "datagen = ImageDataGenerator(\n",
        "    rotation_range=20,\n",
        "    width_shift_range=0.2,\n",
        "    height_shift_range=0.2,\n",
        "    horizontal_flip=True,\n",
        "    rescale=1.0/255.0)\n",
        "\n",
        "train_generator = datagen.flow_from_dataframe(\n",
        "    dataframe=train_df,\n",
        "    directory=None,\n",
        "    x_col='filename',\n",
        "    y_col='class',\n",
        "    target_size=(130, 110),\n",
        "    batch_size=32,\n",
        "    class_mode='categorical'\n",
        ")\n",
        "\n",
        "validation_generator = datagen.flow_from_dataframe(\n",
        "    dataframe=val_df,\n",
        "    directory=None,\n",
        "    x_col='filename',\n",
        "    y_col='class',\n",
        "    target_size=(130, 110),\n",
        "    batch_size=32,\n",
        "    class_mode='categorical'\n",
        ")"
      ],
      "metadata": {
        "colab": {
          "base_uri": "https://localhost:8080/"
        },
        "id": "C4RUbgmMe5T-",
        "outputId": "6915df52-28eb-4d32-c144-690fccfe8e8c"
      },
      "id": "C4RUbgmMe5T-",
      "execution_count": 96,
      "outputs": [
        {
          "output_type": "stream",
          "name": "stdout",
          "text": [
            "Found 8192 validated image filenames belonging to 4 classes.\n",
            "Found 2048 validated image filenames belonging to 4 classes.\n"
          ]
        }
      ]
    },
    {
      "cell_type": "code",
      "execution_count": 97,
      "id": "5f7b291d",
      "metadata": {
        "execution": {
          "iopub.execute_input": "2024-04-18T02:38:54.056208Z",
          "iopub.status.busy": "2024-04-18T02:38:54.055371Z",
          "iopub.status.idle": "2024-04-18T02:38:54.060235Z",
          "shell.execute_reply": "2024-04-18T02:38:54.059167Z"
        },
        "id": "5f7b291d",
        "papermill": {
          "duration": 0.026178,
          "end_time": "2024-04-18T02:38:54.062485",
          "exception": false,
          "start_time": "2024-04-18T02:38:54.036307",
          "status": "completed"
        },
        "tags": []
      },
      "outputs": [],
      "source": [
        "# s = x / len(files)\n",
        "# class_weights = {i:j for i, j in zip(s.index, s.values)}\n",
        "\n",
        "# class_weights\n",
        "# Optional normalization (weights sum to 1)\n",
        "# total_weight = sum(class_weights.values())\n",
        "# class_weights = {class_label: weight / total_weight for class_label, weight in class_weights.items()}\n"
      ]
    },
    {
      "cell_type": "code",
      "execution_count": 98,
      "id": "d368f928",
      "metadata": {
        "execution": {
          "iopub.execute_input": "2024-04-18T02:38:54.105263Z",
          "iopub.status.busy": "2024-04-18T02:38:54.104881Z",
          "iopub.status.idle": "2024-04-18T02:39:06.664758Z",
          "shell.execute_reply": "2024-04-18T02:39:06.663697Z"
        },
        "id": "d368f928",
        "papermill": {
          "duration": 12.584315,
          "end_time": "2024-04-18T02:39:06.667503",
          "exception": false,
          "start_time": "2024-04-18T02:38:54.083188",
          "status": "completed"
        },
        "tags": []
      },
      "outputs": [],
      "source": [
        "from keras.models import Sequential\n",
        "from keras.layers import Conv2D, MaxPooling2D, Flatten, Dense, Dropout, Input, BatchNormalization\n",
        "from keras.callbacks import EarlyStopping, LearningRateScheduler\n",
        "from keras.utils import to_categorical\n",
        "from sklearn.utils.class_weight import compute_sample_weight\n",
        "from sklearn.model_selection import train_test_split\n",
        "import numpy as np\n",
        "\n",
        "def conv_block(filters, act='relu'):\n",
        "    \"\"\"Defining a Convolutional NN block for a Sequential CNN model. \"\"\"\n",
        "\n",
        "    block = Sequential()\n",
        "    block.add(Conv2D(filters, 3, activation=act, padding='same'))\n",
        "    block.add(Conv2D(filters, 3, activation=act, padding='same'))\n",
        "    block.add(BatchNormalization())\n",
        "    block.add(MaxPooling2D((2, 2)))\n",
        "\n",
        "    return block"
      ]
    },
    {
      "cell_type": "code",
      "execution_count": 99,
      "id": "f4928ef0",
      "metadata": {
        "execution": {
          "iopub.execute_input": "2024-04-18T02:39:06.711762Z",
          "iopub.status.busy": "2024-04-18T02:39:06.710547Z",
          "iopub.status.idle": "2024-04-18T02:39:06.716987Z",
          "shell.execute_reply": "2024-04-18T02:39:06.715960Z"
        },
        "id": "f4928ef0",
        "papermill": {
          "duration": 0.030851,
          "end_time": "2024-04-18T02:39:06.719383",
          "exception": false,
          "start_time": "2024-04-18T02:39:06.688532",
          "status": "completed"
        },
        "tags": []
      },
      "outputs": [],
      "source": [
        "def dense_block(units, dropout_rate, act='relu'):\n",
        "    \"\"\"Defining a Dense NN block for a Sequential CNN model. \"\"\"\n",
        "\n",
        "    block = Sequential()\n",
        "    block.add(Dense(units, activation=act))\n",
        "    block.add(BatchNormalization())\n",
        "    block.add(Dropout(dropout_rate))\n",
        "\n",
        "    return block"
      ]
    },
    {
      "cell_type": "code",
      "execution_count": 100,
      "id": "cefb4907",
      "metadata": {
        "execution": {
          "iopub.execute_input": "2024-04-18T02:39:06.808240Z",
          "iopub.status.busy": "2024-04-18T02:39:06.807861Z",
          "iopub.status.idle": "2024-04-18T02:39:07.452328Z",
          "shell.execute_reply": "2024-04-18T02:39:07.451242Z"
        },
        "id": "cefb4907",
        "papermill": {
          "duration": 0.668995,
          "end_time": "2024-04-18T02:39:07.454927",
          "exception": false,
          "start_time": "2024-04-18T02:39:06.785932",
          "status": "completed"
        },
        "tags": []
      },
      "outputs": [],
      "source": [
        "import tensorflow as tf\n",
        "\n",
        "class F1Score(tf.keras.metrics.Metric):\n",
        "    def __init__(self, num_classes, **kwargs):\n",
        "        super(F1Score, self).__init__(**kwargs)\n",
        "        self.num_classes = num_classes\n",
        "        self.precision = tf.keras.metrics.Precision()\n",
        "        self.recall = tf.keras.metrics.Recall()\n",
        "\n",
        "    def update_state(self, y_true, y_pred, sample_weight=None):\n",
        "        self.precision.update_state(y_true, y_pred, sample_weight)\n",
        "        self.recall.update_state(y_true, y_pred, sample_weight)\n",
        "\n",
        "    def result(self):\n",
        "        precision = self.precision.result()\n",
        "        recall = self.recall.result()\n",
        "        return 2 * ((precision * recall) / (precision + recall + tf.keras.backend.epsilon()))\n",
        "\n",
        "    def reset_state(self):\n",
        "        self.precision.reset_states()\n",
        "        self.recall.reset_states()\n",
        "\n",
        "METRICS = [tf.keras.metrics.CategoricalAccuracy(name='acc'),\n",
        "           tf.keras.metrics.AUC(name='auc'),\n",
        "           F1Score(num_classes=4)]"
      ]
    },
    {
      "cell_type": "code",
      "execution_count": 101,
      "id": "2c437ddc",
      "metadata": {
        "execution": {
          "iopub.execute_input": "2024-04-18T02:39:07.546370Z",
          "iopub.status.busy": "2024-04-18T02:39:07.545509Z",
          "iopub.status.idle": "2024-04-18T02:39:07.552088Z",
          "shell.execute_reply": "2024-04-18T02:39:07.551044Z"
        },
        "id": "2c437ddc",
        "papermill": {
          "duration": 0.02984,
          "end_time": "2024-04-18T02:39:07.554123",
          "exception": false,
          "start_time": "2024-04-18T02:39:07.524283",
          "status": "completed"
        },
        "tags": []
      },
      "outputs": [],
      "source": [
        "def construct_model(act='relu'):\n",
        "    \"\"\"Constructing a Sequential CNN architecture for performing the classification task. \"\"\"\n",
        "\n",
        "    model = Sequential([\n",
        "        Input(shape=(130, 110, 3)),\n",
        "#         conv_block(16),\n",
        "        conv_block(32),\n",
        "        conv_block(64),\n",
        "        conv_block(128),\n",
        "        Dropout(0.2),\n",
        "        conv_block(256),\n",
        "        Dropout(0.2),\n",
        "        Flatten(),\n",
        "        dense_block(512, 0.7),\n",
        "        dense_block(256, 0.5),\n",
        "        dense_block(64, 0.3),\n",
        "        Dense(4, activation='softmax')\n",
        "    ], name = \"cnn_model\")\n",
        "\n",
        "    return model"
      ]
    },
    {
      "cell_type": "code",
      "execution_count": 102,
      "id": "e65d8f5c",
      "metadata": {
        "execution": {
          "iopub.execute_input": "2024-04-18T02:39:07.594254Z",
          "iopub.status.busy": "2024-04-18T02:39:07.593396Z",
          "iopub.status.idle": "2024-04-18T02:39:07.895989Z",
          "shell.execute_reply": "2024-04-18T02:39:07.894794Z"
        },
        "id": "e65d8f5c",
        "outputId": "97043429-d12e-47cf-a68e-24a065a13971",
        "papermill": {
          "duration": 0.326608,
          "end_time": "2024-04-18T02:39:07.898360",
          "exception": false,
          "start_time": "2024-04-18T02:39:07.571752",
          "status": "completed"
        },
        "tags": [],
        "colab": {
          "base_uri": "https://localhost:8080/"
        }
      },
      "outputs": [
        {
          "output_type": "stream",
          "name": "stdout",
          "text": [
            "Model: \"cnn_model\"\n",
            "_________________________________________________________________\n",
            " Layer (type)                Output Shape              Param #   \n",
            "=================================================================\n",
            " sequential_91 (Sequential)  (None, 65, 55, 32)        10272     \n",
            "                                                                 \n",
            " sequential_92 (Sequential)  (None, 32, 27, 64)        55680     \n",
            "                                                                 \n",
            " sequential_93 (Sequential)  (None, 16, 13, 128)       221952    \n",
            "                                                                 \n",
            " dropout_65 (Dropout)        (None, 16, 13, 128)       0         \n",
            "                                                                 \n",
            " sequential_94 (Sequential)  (None, 8, 6, 256)         886272    \n",
            "                                                                 \n",
            " dropout_66 (Dropout)        (None, 8, 6, 256)         0         \n",
            "                                                                 \n",
            " flatten_13 (Flatten)        (None, 12288)             0         \n",
            "                                                                 \n",
            " sequential_95 (Sequential)  (None, 512)               6294016   \n",
            "                                                                 \n",
            " sequential_96 (Sequential)  (None, 256)               132352    \n",
            "                                                                 \n",
            " sequential_97 (Sequential)  (None, 64)                16704     \n",
            "                                                                 \n",
            " dense_55 (Dense)            (None, 4)                 260       \n",
            "                                                                 \n",
            "=================================================================\n",
            "Total params: 7617508 (29.06 MB)\n",
            "Trainable params: 7614884 (29.05 MB)\n",
            "Non-trainable params: 2624 (10.25 KB)\n",
            "_________________________________________________________________\n"
          ]
        }
      ],
      "source": [
        "import tensorflow as tf\n",
        "\n",
        "model = construct_model()\n",
        "\n",
        "def focal_loss(gamma=2., alpha=.25):\n",
        "    def focal_loss_fixed(y_true, y_pred):\n",
        "        pt_1 = tf.where(tf.equal(y_true, 1), y_pred, tf.ones_like(y_pred))\n",
        "        pt_0 = tf.where(tf.equal(y_true, 0), y_pred, tf.zeros_like(y_pred))\n",
        "        return -tf.reduce_sum(alpha * tf.pow(1. - pt_1, gamma) * tf.math.log(pt_1)) - tf.reduce_sum((1 - alpha) * tf.pow(pt_0, gamma) * tf.math.log(1. - pt_0))\n",
        "    return focal_loss_fixed\n",
        "\n",
        "model.compile(optimizer='adam', loss=focal_loss(gamma=2., alpha=.25), metrics=METRICS)\n",
        "\n",
        "model.summary()\n",
        "\n"
      ]
    },
    {
      "cell_type": "code",
      "execution_count": 103,
      "id": "0eb48594",
      "metadata": {
        "execution": {
          "iopub.execute_input": "2024-04-18T02:39:07.943693Z",
          "iopub.status.busy": "2024-04-18T02:39:07.943043Z",
          "iopub.status.idle": "2024-04-18T02:39:07.952494Z",
          "shell.execute_reply": "2024-04-18T02:39:07.951625Z"
        },
        "id": "0eb48594",
        "papermill": {
          "duration": 0.034501,
          "end_time": "2024-04-18T02:39:07.954608",
          "exception": false,
          "start_time": "2024-04-18T02:39:07.920107",
          "status": "completed"
        },
        "tags": []
      },
      "outputs": [],
      "source": [
        "from keras.optimizers import Adam\n",
        "def lr_schedule(epoch, learning_rate):\n",
        "    if epoch < 20:\n",
        "        return learning_rate\n",
        "    else:\n",
        "        if epoch % 2 == 0:\n",
        "          return learning_rate * 0.95\n",
        "        else:\n",
        "          return learning_rate\n",
        "\n",
        "lr_scheduler = LearningRateScheduler(lr_schedule, verbose=1)\n",
        "\n",
        "initial_learning_rate = 0.001\n",
        "optimizer = Adam(learning_rate=initial_learning_rate)"
      ]
    },
    {
      "cell_type": "code",
      "execution_count": 104,
      "id": "db286fcd",
      "metadata": {
        "execution": {
          "iopub.execute_input": "2024-04-18T02:39:07.998217Z",
          "iopub.status.busy": "2024-04-18T02:39:07.997792Z",
          "iopub.status.idle": "2024-04-18T02:39:08.004556Z",
          "shell.execute_reply": "2024-04-18T02:39:08.003463Z"
        },
        "id": "db286fcd",
        "papermill": {
          "duration": 0.032177,
          "end_time": "2024-04-18T02:39:08.007036",
          "exception": false,
          "start_time": "2024-04-18T02:39:07.974859",
          "status": "completed"
        },
        "tags": []
      },
      "outputs": [],
      "source": [
        "class MyCallback(tf.keras.callbacks.Callback):\n",
        "    def on_epoch_end(self, epoch, logs={}):\n",
        "        if logs.get('val_acc') > 0.995:\n",
        "            print(\"\\nReached accuracy threshold! Terminating training.\")\n",
        "            self.model.stop_training = True\n",
        "\n",
        "my_callback = MyCallback()\n",
        "\n",
        "CALLBACKS = [my_callback, lr_scheduler]"
      ]
    },
    {
      "cell_type": "code",
      "execution_count": 114,
      "id": "088f04a8",
      "metadata": {
        "execution": {
          "iopub.execute_input": "2024-04-18T02:39:08.051933Z",
          "iopub.status.busy": "2024-04-18T02:39:08.051511Z",
          "iopub.status.idle": "2024-04-18T03:07:36.767487Z",
          "shell.execute_reply": "2024-04-18T03:07:36.766432Z"
        },
        "id": "088f04a8",
        "outputId": "c2be251e-c2ac-429e-b6c0-4d284cdd3b65",
        "papermill": {
          "duration": 1708.74153,
          "end_time": "2024-04-18T03:07:36.770224",
          "exception": false,
          "start_time": "2024-04-18T02:39:08.028694",
          "status": "completed"
        },
        "tags": [],
        "colab": {
          "base_uri": "https://localhost:8080/"
        }
      },
      "outputs": [
        {
          "output_type": "stream",
          "name": "stdout",
          "text": [
            "\n",
            "Epoch 1: LearningRateScheduler setting learning rate to 0.0004632911295630038.\n",
            "Epoch 1/50\n",
            "256/256 [==============================] - 55s 214ms/step - loss: 1.8497 - acc: 0.8942 - auc: 0.9855 - f1_score_5: 0.8550 - val_loss: 4.5257 - val_acc: 0.7559 - val_auc: 0.9482 - val_f1_score_5: 0.7541 - lr: 4.6329e-04\n",
            "\n",
            "Epoch 2: LearningRateScheduler setting learning rate to 0.0004632911295630038.\n",
            "Epoch 2/50\n",
            "256/256 [==============================] - 56s 219ms/step - loss: 1.9289 - acc: 0.8848 - auc: 0.9840 - f1_score_5: 0.8546 - val_loss: 2.3701 - val_acc: 0.8521 - val_auc: 0.9789 - val_f1_score_5: 0.8377 - lr: 4.6329e-04\n",
            "\n",
            "Epoch 3: LearningRateScheduler setting learning rate to 0.0004632911295630038.\n",
            "Epoch 3/50\n",
            "256/256 [==============================] - 54s 211ms/step - loss: 1.7734 - acc: 0.8922 - auc: 0.9866 - f1_score_5: 0.8673 - val_loss: 1.9974 - val_acc: 0.8667 - val_auc: 0.9838 - val_f1_score_5: 0.8483 - lr: 4.6329e-04\n",
            "\n",
            "Epoch 4: LearningRateScheduler setting learning rate to 0.0004632911295630038.\n",
            "Epoch 4/50\n",
            "256/256 [==============================] - 54s 212ms/step - loss: 1.6968 - acc: 0.9042 - auc: 0.9878 - f1_score_5: 0.8730 - val_loss: 1.5537 - val_acc: 0.9033 - val_auc: 0.9899 - val_f1_score_5: 0.8901 - lr: 4.6329e-04\n",
            "\n",
            "Epoch 5: LearningRateScheduler setting learning rate to 0.0004632911295630038.\n",
            "Epoch 5/50\n",
            "256/256 [==============================] - 55s 216ms/step - loss: 1.6621 - acc: 0.9049 - auc: 0.9884 - f1_score_5: 0.8755 - val_loss: 1.7059 - val_acc: 0.8989 - val_auc: 0.9879 - val_f1_score_5: 0.8784 - lr: 4.6329e-04\n",
            "\n",
            "Epoch 6: LearningRateScheduler setting learning rate to 0.0004632911295630038.\n",
            "Epoch 6/50\n",
            "256/256 [==============================] - 56s 217ms/step - loss: 1.5710 - acc: 0.9066 - auc: 0.9896 - f1_score_5: 0.8881 - val_loss: 1.4020 - val_acc: 0.9214 - val_auc: 0.9921 - val_f1_score_5: 0.9021 - lr: 4.6329e-04\n",
            "\n",
            "Epoch 7: LearningRateScheduler setting learning rate to 0.0004632911295630038.\n",
            "Epoch 7/50\n",
            "256/256 [==============================] - 52s 205ms/step - loss: 1.6551 - acc: 0.9050 - auc: 0.9885 - f1_score_5: 0.8824 - val_loss: 11.8959 - val_acc: 0.5352 - val_auc: 0.7747 - val_f1_score_5: 0.5234 - lr: 4.6329e-04\n",
            "\n",
            "Epoch 8: LearningRateScheduler setting learning rate to 0.0004632911295630038.\n",
            "Epoch 8/50\n",
            "256/256 [==============================] - 55s 213ms/step - loss: 1.5231 - acc: 0.9175 - auc: 0.9903 - f1_score_5: 0.8926 - val_loss: 3.0779 - val_acc: 0.8447 - val_auc: 0.9746 - val_f1_score_5: 0.8360 - lr: 4.6329e-04\n",
            "\n",
            "Epoch 9: LearningRateScheduler setting learning rate to 0.0004632911295630038.\n",
            "Epoch 9/50\n",
            "256/256 [==============================] - 65s 254ms/step - loss: 1.3706 - acc: 0.9235 - auc: 0.9922 - f1_score_5: 0.9064 - val_loss: 2.0304 - val_acc: 0.8774 - val_auc: 0.9850 - val_f1_score_5: 0.8619 - lr: 4.6329e-04\n",
            "\n",
            "Epoch 10: LearningRateScheduler setting learning rate to 0.0004632911295630038.\n",
            "Epoch 10/50\n",
            "256/256 [==============================] - 53s 205ms/step - loss: 1.4720 - acc: 0.9220 - auc: 0.9910 - f1_score_5: 0.8994 - val_loss: 1.7851 - val_acc: 0.8901 - val_auc: 0.9878 - val_f1_score_5: 0.8837 - lr: 4.6329e-04\n",
            "\n",
            "Epoch 11: LearningRateScheduler setting learning rate to 0.0004632911295630038.\n",
            "Epoch 11/50\n",
            "256/256 [==============================] - 56s 217ms/step - loss: 1.3226 - acc: 0.9259 - auc: 0.9927 - f1_score_5: 0.9111 - val_loss: 2.1920 - val_acc: 0.8921 - val_auc: 0.9857 - val_f1_score_5: 0.8835 - lr: 4.6329e-04\n",
            "\n",
            "Epoch 12: LearningRateScheduler setting learning rate to 0.0004632911295630038.\n",
            "Epoch 12/50\n",
            "256/256 [==============================] - 53s 209ms/step - loss: 1.3274 - acc: 0.9293 - auc: 0.9928 - f1_score_5: 0.9135 - val_loss: 2.2754 - val_acc: 0.8618 - val_auc: 0.9819 - val_f1_score_5: 0.8600 - lr: 4.6329e-04\n",
            "\n",
            "Epoch 13: LearningRateScheduler setting learning rate to 0.0004632911295630038.\n",
            "Epoch 13/50\n",
            "256/256 [==============================] - 54s 211ms/step - loss: 1.3336 - acc: 0.9241 - auc: 0.9927 - f1_score_5: 0.9119 - val_loss: 3.3900 - val_acc: 0.8159 - val_auc: 0.9639 - val_f1_score_5: 0.7995 - lr: 4.6329e-04\n",
            "\n",
            "Epoch 14: LearningRateScheduler setting learning rate to 0.0004632911295630038.\n",
            "Epoch 14/50\n",
            "256/256 [==============================] - 52s 203ms/step - loss: 1.2932 - acc: 0.9297 - auc: 0.9931 - f1_score_5: 0.9160 - val_loss: 2.1878 - val_acc: 0.8906 - val_auc: 0.9830 - val_f1_score_5: 0.8759 - lr: 4.6329e-04\n",
            "\n",
            "Epoch 15: LearningRateScheduler setting learning rate to 0.0004632911295630038.\n",
            "Epoch 15/50\n",
            "256/256 [==============================] - 53s 205ms/step - loss: 1.2850 - acc: 0.9314 - auc: 0.9931 - f1_score_5: 0.9139 - val_loss: 2.3263 - val_acc: 0.8608 - val_auc: 0.9787 - val_f1_score_5: 0.8491 - lr: 4.6329e-04\n",
            "\n",
            "Epoch 16: LearningRateScheduler setting learning rate to 0.0004632911295630038.\n",
            "Epoch 16/50\n",
            "256/256 [==============================] - 52s 202ms/step - loss: 1.2092 - acc: 0.9375 - auc: 0.9940 - f1_score_5: 0.9219 - val_loss: 1.1349 - val_acc: 0.9399 - val_auc: 0.9949 - val_f1_score_5: 0.9294 - lr: 4.6329e-04\n",
            "\n",
            "Epoch 17: LearningRateScheduler setting learning rate to 0.0004632911295630038.\n",
            "Epoch 17/50\n",
            "256/256 [==============================] - 54s 212ms/step - loss: 1.1339 - acc: 0.9421 - auc: 0.9947 - f1_score_5: 0.9277 - val_loss: 1.5041 - val_acc: 0.9170 - val_auc: 0.9924 - val_f1_score_5: 0.9137 - lr: 4.6329e-04\n",
            "\n",
            "Epoch 18: LearningRateScheduler setting learning rate to 0.0004632911295630038.\n",
            "Epoch 18/50\n",
            "256/256 [==============================] - 58s 225ms/step - loss: 1.1572 - acc: 0.9386 - auc: 0.9946 - f1_score_5: 0.9256 - val_loss: 1.0828 - val_acc: 0.9404 - val_auc: 0.9956 - val_f1_score_5: 0.9322 - lr: 4.6329e-04\n",
            "\n",
            "Epoch 19: LearningRateScheduler setting learning rate to 0.0004632911295630038.\n",
            "Epoch 19/50\n",
            "256/256 [==============================] - 54s 211ms/step - loss: 1.3141 - acc: 0.9316 - auc: 0.9928 - f1_score_5: 0.9156 - val_loss: 2.5318 - val_acc: 0.8647 - val_auc: 0.9810 - val_f1_score_5: 0.8569 - lr: 4.6329e-04\n",
            "\n",
            "Epoch 20: LearningRateScheduler setting learning rate to 0.0004632911295630038.\n",
            "Epoch 20/50\n",
            "256/256 [==============================] - 52s 203ms/step - loss: 1.0224 - acc: 0.9442 - auc: 0.9957 - f1_score_5: 0.9350 - val_loss: 3.7920 - val_acc: 0.8301 - val_auc: 0.9723 - val_f1_score_5: 0.8231 - lr: 4.6329e-04\n",
            "\n",
            "Epoch 21: LearningRateScheduler setting learning rate to 0.00044012657308485355.\n",
            "Epoch 21/50\n",
            "256/256 [==============================] - 53s 207ms/step - loss: 1.0621 - acc: 0.9453 - auc: 0.9953 - f1_score_5: 0.9355 - val_loss: 1.6397 - val_acc: 0.9136 - val_auc: 0.9906 - val_f1_score_5: 0.9060 - lr: 4.4013e-04\n",
            "\n",
            "Epoch 22: LearningRateScheduler setting learning rate to 0.00044012657599523664.\n",
            "Epoch 22/50\n",
            "256/256 [==============================] - 53s 208ms/step - loss: 1.1304 - acc: 0.9453 - auc: 0.9949 - f1_score_5: 0.9344 - val_loss: 1.8461 - val_acc: 0.9023 - val_auc: 0.9888 - val_f1_score_5: 0.8966 - lr: 4.4013e-04\n",
            "\n",
            "Epoch 23: LearningRateScheduler setting learning rate to 0.00041812024719547477.\n",
            "Epoch 23/50\n",
            "256/256 [==============================] - 52s 202ms/step - loss: 0.9264 - acc: 0.9520 - auc: 0.9965 - f1_score_5: 0.9432 - val_loss: 2.4663 - val_acc: 0.8833 - val_auc: 0.9859 - val_f1_score_5: 0.8801 - lr: 4.1812e-04\n",
            "\n",
            "Epoch 24: LearningRateScheduler setting learning rate to 0.00041812023846432567.\n",
            "Epoch 24/50\n",
            "256/256 [==============================] - 58s 226ms/step - loss: 0.9327 - acc: 0.9550 - auc: 0.9964 - f1_score_5: 0.9450 - val_loss: 1.2025 - val_acc: 0.9395 - val_auc: 0.9946 - val_f1_score_5: 0.9272 - lr: 4.1812e-04\n",
            "\n",
            "Epoch 25: LearningRateScheduler setting learning rate to 0.00039721422654110934.\n",
            "Epoch 25/50\n",
            "256/256 [==============================] - 53s 209ms/step - loss: 0.9297 - acc: 0.9517 - auc: 0.9964 - f1_score_5: 0.9447 - val_loss: 0.8542 - val_acc: 0.9531 - val_auc: 0.9971 - val_f1_score_5: 0.9487 - lr: 3.9721e-04\n",
            "\n",
            "Epoch 26: LearningRateScheduler setting learning rate to 0.00039721422945149243.\n",
            "Epoch 26/50\n",
            "256/256 [==============================] - 54s 210ms/step - loss: 0.8918 - acc: 0.9539 - auc: 0.9968 - f1_score_5: 0.9448 - val_loss: 0.8505 - val_acc: 0.9512 - val_auc: 0.9971 - val_f1_score_5: 0.9495 - lr: 3.9721e-04\n",
            "\n",
            "Epoch 27: LearningRateScheduler setting learning rate to 0.00037735351797891776.\n",
            "Epoch 27/50\n",
            "256/256 [==============================] - 53s 205ms/step - loss: 0.8178 - acc: 0.9601 - auc: 0.9972 - f1_score_5: 0.9526 - val_loss: 1.0297 - val_acc: 0.9458 - val_auc: 0.9961 - val_f1_score_5: 0.9383 - lr: 3.7735e-04\n",
            "\n",
            "Epoch 28: LearningRateScheduler setting learning rate to 0.00037735351361334324.\n",
            "Epoch 28/50\n",
            "256/256 [==============================] - 53s 206ms/step - loss: 0.8140 - acc: 0.9611 - auc: 0.9971 - f1_score_5: 0.9535 - val_loss: 0.7264 - val_acc: 0.9639 - val_auc: 0.9979 - val_f1_score_5: 0.9591 - lr: 3.7735e-04\n",
            "\n",
            "Epoch 29: LearningRateScheduler setting learning rate to 0.00035848583793267607.\n",
            "Epoch 29/50\n",
            "256/256 [==============================] - 57s 223ms/step - loss: 0.7316 - acc: 0.9626 - auc: 0.9978 - f1_score_5: 0.9562 - val_loss: 9.3723 - val_acc: 0.7422 - val_auc: 0.9190 - val_f1_score_5: 0.7323 - lr: 3.5849e-04\n",
            "\n",
            "Epoch 30: LearningRateScheduler setting learning rate to 0.00035848584957420826.\n",
            "Epoch 30/50\n",
            "256/256 [==============================] - 54s 210ms/step - loss: 0.7627 - acc: 0.9636 - auc: 0.9975 - f1_score_5: 0.9562 - val_loss: 0.7461 - val_acc: 0.9639 - val_auc: 0.9978 - val_f1_score_5: 0.9594 - lr: 3.5849e-04\n",
            "\n",
            "Epoch 31: LearningRateScheduler setting learning rate to 0.00034056155709549785.\n",
            "Epoch 31/50\n",
            "256/256 [==============================] - 53s 208ms/step - loss: 0.7884 - acc: 0.9594 - auc: 0.9975 - f1_score_5: 0.9540 - val_loss: 1.3591 - val_acc: 0.9233 - val_auc: 0.9928 - val_f1_score_5: 0.9163 - lr: 3.4056e-04\n",
            "\n",
            "Epoch 32: LearningRateScheduler setting learning rate to 0.00034056155709549785.\n",
            "Epoch 32/50\n",
            "256/256 [==============================] - 52s 201ms/step - loss: 0.6563 - acc: 0.9696 - auc: 0.9982 - f1_score_5: 0.9631 - val_loss: 0.8025 - val_acc: 0.9526 - val_auc: 0.9975 - val_f1_score_5: 0.9489 - lr: 3.4056e-04\n",
            "\n",
            "Epoch 33: LearningRateScheduler setting learning rate to 0.00032353347924072293.\n",
            "Epoch 33/50\n",
            "256/256 [==============================] - 53s 209ms/step - loss: 0.6814 - acc: 0.9670 - auc: 0.9980 - f1_score_5: 0.9612 - val_loss: 0.8735 - val_acc: 0.9507 - val_auc: 0.9970 - val_f1_score_5: 0.9487 - lr: 3.2353e-04\n",
            "\n",
            "Epoch 34: LearningRateScheduler setting learning rate to 0.0003235334879718721.\n",
            "Epoch 34/50\n",
            "256/256 [==============================] - 57s 223ms/step - loss: 0.7298 - acc: 0.9659 - auc: 0.9977 - f1_score_5: 0.9602 - val_loss: 1.5252 - val_acc: 0.9253 - val_auc: 0.9939 - val_f1_score_5: 0.9232 - lr: 3.2353e-04\n",
            "\n",
            "Epoch 35: LearningRateScheduler setting learning rate to 0.00030735681357327847.\n",
            "Epoch 35/50\n",
            "256/256 [==============================] - 54s 209ms/step - loss: 0.6718 - acc: 0.9681 - auc: 0.9980 - f1_score_5: 0.9627 - val_loss: 2.4719 - val_acc: 0.8950 - val_auc: 0.9864 - val_f1_score_5: 0.8917 - lr: 3.0736e-04\n",
            "\n",
            "Epoch 36: LearningRateScheduler setting learning rate to 0.0003073568223044276.\n",
            "Epoch 36/50\n",
            "256/256 [==============================] - 54s 210ms/step - loss: 0.7765 - acc: 0.9635 - auc: 0.9976 - f1_score_5: 0.9606 - val_loss: 1.2155 - val_acc: 0.9297 - val_auc: 0.9943 - val_f1_score_5: 0.9248 - lr: 3.0736e-04\n",
            "\n",
            "Epoch 37: LearningRateScheduler setting learning rate to 0.00029198898118920624.\n",
            "Epoch 37/50\n",
            "256/256 [==============================] - 53s 205ms/step - loss: 0.5424 - acc: 0.9747 - auc: 0.9987 - f1_score_5: 0.9707 - val_loss: 2.3929 - val_acc: 0.8940 - val_auc: 0.9854 - val_f1_score_5: 0.8896 - lr: 2.9199e-04\n",
            "\n",
            "Epoch 38: LearningRateScheduler setting learning rate to 0.00029198898118920624.\n",
            "Epoch 38/50\n",
            "256/256 [==============================] - 50s 197ms/step - loss: 0.5737 - acc: 0.9733 - auc: 0.9986 - f1_score_5: 0.9693 - val_loss: 0.9876 - val_acc: 0.9521 - val_auc: 0.9968 - val_f1_score_5: 0.9507 - lr: 2.9199e-04\n",
            "\n",
            "Epoch 39: LearningRateScheduler setting learning rate to 0.00027738953212974593.\n",
            "Epoch 39/50\n",
            "256/256 [==============================] - 57s 222ms/step - loss: 0.5423 - acc: 0.9744 - auc: 0.9988 - f1_score_5: 0.9708 - val_loss: 1.0327 - val_acc: 0.9478 - val_auc: 0.9961 - val_f1_score_5: 0.9426 - lr: 2.7739e-04\n",
            "\n",
            "Epoch 40: LearningRateScheduler setting learning rate to 0.00027738953940570354.\n",
            "Epoch 40/50\n",
            "256/256 [==============================] - 54s 211ms/step - loss: 0.5685 - acc: 0.9718 - auc: 0.9987 - f1_score_5: 0.9692 - val_loss: 0.9126 - val_acc: 0.9619 - val_auc: 0.9972 - val_f1_score_5: 0.9566 - lr: 2.7739e-04\n",
            "\n",
            "Epoch 41: LearningRateScheduler setting learning rate to 0.0002635200624354184.\n",
            "Epoch 41/50\n",
            "256/256 [==============================] - 53s 205ms/step - loss: 0.5258 - acc: 0.9755 - auc: 0.9988 - f1_score_5: 0.9735 - val_loss: 0.8417 - val_acc: 0.9668 - val_auc: 0.9973 - val_f1_score_5: 0.9639 - lr: 2.6352e-04\n",
            "\n",
            "Epoch 42: LearningRateScheduler setting learning rate to 0.0002635200507938862.\n",
            "Epoch 42/50\n",
            "256/256 [==============================] - 57s 221ms/step - loss: 0.5125 - acc: 0.9771 - auc: 0.9988 - f1_score_5: 0.9734 - val_loss: 2.9388 - val_acc: 0.8687 - val_auc: 0.9808 - val_f1_score_5: 0.8704 - lr: 2.6352e-04\n",
            "\n",
            "Epoch 43: LearningRateScheduler setting learning rate to 0.0002503440482541919.\n",
            "Epoch 43/50\n",
            "256/256 [==============================] - 51s 201ms/step - loss: 0.4293 - acc: 0.9806 - auc: 0.9992 - f1_score_5: 0.9778 - val_loss: 1.6689 - val_acc: 0.9126 - val_auc: 0.9920 - val_f1_score_5: 0.9111 - lr: 2.5034e-04\n",
            "\n",
            "Epoch 44: LearningRateScheduler setting learning rate to 0.0002503440482541919.\n",
            "Epoch 44/50\n",
            "256/256 [==============================] - 53s 205ms/step - loss: 0.5118 - acc: 0.9750 - auc: 0.9989 - f1_score_5: 0.9729 - val_loss: 1.1351 - val_acc: 0.9565 - val_auc: 0.9962 - val_f1_score_5: 0.9488 - lr: 2.5034e-04\n",
            "\n",
            "Epoch 45: LearningRateScheduler setting learning rate to 0.00023782684584148226.\n",
            "Epoch 45/50\n",
            "256/256 [==============================] - 51s 199ms/step - loss: 0.4406 - acc: 0.9794 - auc: 0.9991 - f1_score_5: 0.9768 - val_loss: 0.8033 - val_acc: 0.9624 - val_auc: 0.9978 - val_f1_score_5: 0.9639 - lr: 2.3783e-04\n",
            "\n",
            "Epoch 46: LearningRateScheduler setting learning rate to 0.0002378268400207162.\n",
            "Epoch 46/50\n",
            "256/256 [==============================] - 57s 224ms/step - loss: 0.4060 - acc: 0.9791 - auc: 0.9993 - f1_score_5: 0.9780 - val_loss: 2.3852 - val_acc: 0.8999 - val_auc: 0.9901 - val_f1_score_5: 0.8994 - lr: 2.3783e-04\n",
            "\n",
            "Epoch 47: LearningRateScheduler setting learning rate to 0.00022593549801968037.\n",
            "Epoch 47/50\n",
            "256/256 [==============================] - 52s 203ms/step - loss: 0.4364 - acc: 0.9796 - auc: 0.9991 - f1_score_5: 0.9780 - val_loss: 2.3243 - val_acc: 0.9033 - val_auc: 0.9899 - val_f1_score_5: 0.9004 - lr: 2.2594e-04\n",
            "\n",
            "Epoch 48: LearningRateScheduler setting learning rate to 0.00022593549510929734.\n",
            "Epoch 48/50\n",
            "256/256 [==============================] - 54s 209ms/step - loss: 0.4955 - acc: 0.9771 - auc: 0.9989 - f1_score_5: 0.9747 - val_loss: 0.9651 - val_acc: 0.9561 - val_auc: 0.9969 - val_f1_score_5: 0.9511 - lr: 2.2594e-04\n",
            "\n",
            "Epoch 49: LearningRateScheduler setting learning rate to 0.00021463872035383245.\n",
            "Epoch 49/50\n",
            "256/256 [==============================] - 53s 206ms/step - loss: 0.4141 - acc: 0.9810 - auc: 0.9993 - f1_score_5: 0.9775 - val_loss: 0.4532 - val_acc: 0.9805 - val_auc: 0.9991 - val_f1_score_5: 0.9796 - lr: 2.1464e-04\n",
            "\n",
            "Epoch 50: LearningRateScheduler setting learning rate to 0.00021463872690219432.\n",
            "Epoch 50/50\n",
            "256/256 [==============================] - 53s 207ms/step - loss: 0.4221 - acc: 0.9812 - auc: 0.9992 - f1_score_5: 0.9785 - val_loss: 0.8101 - val_acc: 0.9604 - val_auc: 0.9981 - val_f1_score_5: 0.9592 - lr: 2.1464e-04\n"
          ]
        }
      ],
      "source": [
        "EPOCHS = 50\n",
        "\n",
        "history = model.fit(train_generator, validation_data=(validation_generator), callbacks=CALLBACKS, epochs=EPOCHS)"
      ]
    },
    {
      "cell_type": "code",
      "source": [
        "x, y = next(train_generator)\n",
        "print('Train data:', x.shape, y.shape)\n",
        "\n",
        "x, y = next(validation_generator)\n",
        "print('Validation data:', x.shape, y.shape)"
      ],
      "metadata": {
        "id": "ypj7RjR4Kqvb"
      },
      "id": "ypj7RjR4Kqvb",
      "execution_count": null,
      "outputs": []
    },
    {
      "cell_type": "code",
      "execution_count": 106,
      "id": "4604b74a",
      "metadata": {
        "execution": {
          "iopub.execute_input": "2024-04-18T03:07:56.980694Z",
          "iopub.status.busy": "2024-04-18T03:07:56.979801Z",
          "iopub.status.idle": "2024-04-18T03:07:57.105310Z",
          "shell.execute_reply": "2024-04-18T03:07:57.104321Z"
        },
        "id": "4604b74a",
        "outputId": "73472788-40af-4e0b-ed68-eef5fed91cf3",
        "papermill": {
          "duration": 1.357189,
          "end_time": "2024-04-18T03:07:57.107677",
          "exception": false,
          "start_time": "2024-04-18T03:07:55.750488",
          "status": "completed"
        },
        "tags": [],
        "colab": {
          "base_uri": "https://localhost:8080/"
        }
      },
      "outputs": [
        {
          "output_type": "execute_result",
          "data": {
            "text/plain": [
              "1279"
            ]
          },
          "metadata": {},
          "execution_count": 106
        }
      ],
      "source": [
        "import os\n",
        "import numpy as np\n",
        "directory = '/content/test'\n",
        "\n",
        "files = [file for file in os.listdir(directory) if file.endswith('.jpg')]\n",
        "len(files)"
      ]
    },
    {
      "cell_type": "code",
      "execution_count": 107,
      "id": "6c91e859",
      "metadata": {
        "execution": {
          "iopub.execute_input": "2024-04-18T03:07:59.788908Z",
          "iopub.status.busy": "2024-04-18T03:07:59.787966Z",
          "iopub.status.idle": "2024-04-18T03:07:59.795738Z",
          "shell.execute_reply": "2024-04-18T03:07:59.794687Z"
        },
        "id": "6c91e859",
        "outputId": "c8219bf5-253c-4125-e65d-cdd835bde3e6",
        "papermill": {
          "duration": 1.334156,
          "end_time": "2024-04-18T03:07:59.798297",
          "exception": false,
          "start_time": "2024-04-18T03:07:58.464141",
          "status": "completed"
        },
        "tags": [],
        "colab": {
          "base_uri": "https://localhost:8080/"
        }
      },
      "outputs": [
        {
          "output_type": "stream",
          "name": "stdout",
          "text": [
            "179 12 640 448\n"
          ]
        }
      ],
      "source": [
        "mildDem = [i for i in files if i.startswith(\"MildDem\")]\n",
        "moderateDem = [i for i in files if \"ModerateDem\" in i]\n",
        "nonDem = [i for i in files if \"NonDem\" in i]\n",
        "veryMild = [i for i in files if \"VeryMildDem\" in i]\n",
        "print(len(mildDem), len(moderateDem), len(nonDem), len(veryMild))"
      ]
    },
    {
      "cell_type": "code",
      "execution_count": 108,
      "id": "6189bde7",
      "metadata": {
        "execution": {
          "iopub.execute_input": "2024-04-18T03:08:02.325596Z",
          "iopub.status.busy": "2024-04-18T03:08:02.325143Z",
          "iopub.status.idle": "2024-04-18T03:08:02.355022Z",
          "shell.execute_reply": "2024-04-18T03:08:02.353833Z"
        },
        "id": "6189bde7",
        "outputId": "bf15b7b8-4c67-41ea-bc7e-167058fcba1c",
        "papermill": {
          "duration": 1.263531,
          "end_time": "2024-04-18T03:08:02.358311",
          "exception": false,
          "start_time": "2024-04-18T03:08:01.094780",
          "status": "completed"
        },
        "tags": [],
        "colab": {
          "base_uri": "https://localhost:8080/"
        }
      },
      "outputs": [
        {
          "output_type": "execute_result",
          "data": {
            "text/plain": [
              "Class\n",
              "2    640\n",
              "3    448\n",
              "0    179\n",
              "1     12\n",
              "Name: count, dtype: int64"
            ]
          },
          "metadata": {},
          "execution_count": 108
        }
      ],
      "source": [
        "import pandas as pd\n",
        "l = [[mildDem, 0], [moderateDem, 1], [nonDem, 2], [veryMild, 3]]\n",
        "x = []\n",
        "for i in l:\n",
        "    for j in i[0]:\n",
        "        path = os.path.join(\"/content/test\", j)\n",
        "        x.append([i[1], path])\n",
        "\n",
        "df = pd.DataFrame(x, columns=[\"Class\", \"Path\"])\n",
        "df[\"Class\"].value_counts()\n"
      ]
    },
    {
      "cell_type": "code",
      "execution_count": 109,
      "id": "c2217ccc",
      "metadata": {
        "execution": {
          "iopub.execute_input": "2024-04-18T03:08:04.937083Z",
          "iopub.status.busy": "2024-04-18T03:08:04.936668Z",
          "iopub.status.idle": "2024-04-18T03:08:09.846150Z",
          "shell.execute_reply": "2024-04-18T03:08:09.845241Z"
        },
        "id": "c2217ccc",
        "papermill": {
          "duration": 6.146723,
          "end_time": "2024-04-18T03:08:09.849074",
          "exception": false,
          "start_time": "2024-04-18T03:08:03.702351",
          "status": "completed"
        },
        "tags": []
      },
      "outputs": [],
      "source": [
        "from keras.preprocessing.image import load_img, img_to_array\n",
        "img = [load_img(i, target_size=(130, 110)) for i in df[\"Path\"]]\n",
        "img = [img_to_array(im) for im in img]\n",
        "img = [im / 255.0 for im in img]\n",
        "img = np.stack(img, axis=0)\n"
      ]
    },
    {
      "cell_type": "code",
      "execution_count": 110,
      "id": "fa20f042",
      "metadata": {
        "execution": {
          "iopub.execute_input": "2024-04-18T03:08:12.452363Z",
          "iopub.status.busy": "2024-04-18T03:08:12.451296Z",
          "iopub.status.idle": "2024-04-18T03:08:12.458221Z",
          "shell.execute_reply": "2024-04-18T03:08:12.457035Z"
        },
        "id": "fa20f042",
        "outputId": "a1a2016d-1531-4be6-da2a-010579cfd153",
        "papermill": {
          "duration": 1.317023,
          "end_time": "2024-04-18T03:08:12.460593",
          "exception": false,
          "start_time": "2024-04-18T03:08:11.143570",
          "status": "completed"
        },
        "tags": [],
        "colab": {
          "base_uri": "https://localhost:8080/"
        }
      },
      "outputs": [
        {
          "output_type": "stream",
          "name": "stdout",
          "text": [
            "(1279, 4)\n"
          ]
        }
      ],
      "source": [
        "labels = df[\"Class\"]\n",
        "labels = to_categorical(labels, num_classes=4)\n",
        "print(labels.shape)"
      ]
    },
    {
      "cell_type": "code",
      "execution_count": 111,
      "id": "82b0620e",
      "metadata": {
        "execution": {
          "iopub.execute_input": "2024-04-18T03:08:14.906410Z",
          "iopub.status.busy": "2024-04-18T03:08:14.905663Z",
          "iopub.status.idle": "2024-04-18T03:08:14.914085Z",
          "shell.execute_reply": "2024-04-18T03:08:14.913008Z"
        },
        "id": "82b0620e",
        "papermill": {
          "duration": 1.236415,
          "end_time": "2024-04-18T03:08:14.916566",
          "exception": false,
          "start_time": "2024-04-18T03:08:13.680151",
          "status": "completed"
        },
        "tags": []
      },
      "outputs": [],
      "source": [
        "l = []\n",
        "for i in labels:\n",
        "  for j in range(4):\n",
        "    if i[j] == 1:\n",
        "      l.append(j)\n"
      ]
    },
    {
      "cell_type": "code",
      "execution_count": 115,
      "id": "db8c4623",
      "metadata": {
        "execution": {
          "iopub.execute_input": "2024-04-18T03:08:17.349809Z",
          "iopub.status.busy": "2024-04-18T03:08:17.349393Z",
          "iopub.status.idle": "2024-04-18T03:08:29.415610Z",
          "shell.execute_reply": "2024-04-18T03:08:29.414261Z"
        },
        "id": "db8c4623",
        "outputId": "c04aa4fc-f424-4714-a5bf-494b416e5d22",
        "papermill": {
          "duration": 13.197809,
          "end_time": "2024-04-18T03:08:29.418184",
          "exception": false,
          "start_time": "2024-04-18T03:08:16.220375",
          "status": "completed"
        },
        "tags": [],
        "colab": {
          "base_uri": "https://localhost:8080/"
        }
      },
      "outputs": [
        {
          "output_type": "stream",
          "name": "stdout",
          "text": [
            "40/40 [==============================] - 1s 15ms/step\n"
          ]
        }
      ],
      "source": [
        "y_prob = model.predict(img)\n",
        "y_prob = np.argmax(y_prob, axis=-1)"
      ]
    },
    {
      "cell_type": "code",
      "execution_count": 116,
      "id": "0abf8075",
      "metadata": {
        "execution": {
          "iopub.execute_input": "2024-04-18T03:08:34.545701Z",
          "iopub.status.busy": "2024-04-18T03:08:34.544772Z",
          "iopub.status.idle": "2024-04-18T03:08:34.560372Z",
          "shell.execute_reply": "2024-04-18T03:08:34.559266Z"
        },
        "id": "0abf8075",
        "outputId": "b8749be0-4776-4421-a680-f67eb86cba77",
        "papermill": {
          "duration": 1.324106,
          "end_time": "2024-04-18T03:08:34.562917",
          "exception": false,
          "start_time": "2024-04-18T03:08:33.238811",
          "status": "completed"
        },
        "tags": [],
        "colab": {
          "base_uri": "https://localhost:8080/"
        }
      },
      "outputs": [
        {
          "output_type": "stream",
          "name": "stdout",
          "text": [
            "0 {'precision': 0.5, 'recall': 0.6201117318435754, 'f1-score': 0.5536159600997506, 'support': 179}\n",
            "1 {'precision': 0.0, 'recall': 0.0, 'f1-score': 0.0, 'support': 12}\n",
            "2 {'precision': 0.8628048780487805, 'recall': 0.4421875, 'f1-score': 0.5847107438016529, 'support': 640}\n",
            "3 {'precision': 0.4773662551440329, 'recall': 0.7767857142857143, 'f1-score': 0.5913338997451147, 'support': 448}\n",
            "accuracy 0.5801407349491791\n",
            "macro avg {'precision': 0.46004278329820336, 'recall': 0.45977123653232244, 'f1-score': 0.4324151509116296, 'support': 1279}\n",
            "weighted avg {'precision': 0.6689251010600049, 'recall': 0.5801407349491791, 'f1-score': 0.5771929006854767, 'support': 1279}\n"
          ]
        },
        {
          "output_type": "stream",
          "name": "stderr",
          "text": [
            "/usr/local/lib/python3.10/dist-packages/sklearn/metrics/_classification.py:1344: UndefinedMetricWarning: Precision and F-score are ill-defined and being set to 0.0 in labels with no predicted samples. Use `zero_division` parameter to control this behavior.\n",
            "  _warn_prf(average, modifier, msg_start, len(result))\n",
            "/usr/local/lib/python3.10/dist-packages/sklearn/metrics/_classification.py:1344: UndefinedMetricWarning: Precision and F-score are ill-defined and being set to 0.0 in labels with no predicted samples. Use `zero_division` parameter to control this behavior.\n",
            "  _warn_prf(average, modifier, msg_start, len(result))\n",
            "/usr/local/lib/python3.10/dist-packages/sklearn/metrics/_classification.py:1344: UndefinedMetricWarning: Precision and F-score are ill-defined and being set to 0.0 in labels with no predicted samples. Use `zero_division` parameter to control this behavior.\n",
            "  _warn_prf(average, modifier, msg_start, len(result))\n"
          ]
        }
      ],
      "source": [
        "from sklearn.metrics import classification_report\n",
        "\n",
        "report = classification_report(l, y_prob, output_dict=True)\n",
        "for i in report:\n",
        "  print(i, report[i])"
      ]
    },
    {
      "cell_type": "code",
      "execution_count": null,
      "id": "1a09552c",
      "metadata": {
        "execution": {
          "iopub.execute_input": "2024-04-18T03:08:37.105874Z",
          "iopub.status.busy": "2024-04-18T03:08:37.105175Z",
          "iopub.status.idle": "2024-04-18T03:08:41.421908Z",
          "shell.execute_reply": "2024-04-18T03:08:41.420800Z"
        },
        "id": "1a09552c",
        "papermill": {
          "duration": 5.625384,
          "end_time": "2024-04-18T03:08:41.424266",
          "exception": false,
          "start_time": "2024-04-18T03:08:35.798882",
          "status": "completed"
        },
        "tags": []
      },
      "outputs": [],
      "source": [
        "model.evaluate(img, labels)"
      ]
    },
    {
      "cell_type": "code",
      "execution_count": null,
      "id": "85d1a851",
      "metadata": {
        "id": "85d1a851",
        "papermill": {
          "duration": 1.276158,
          "end_time": "2024-04-18T03:08:43.923104",
          "exception": false,
          "start_time": "2024-04-18T03:08:42.646946",
          "status": "completed"
        },
        "tags": []
      },
      "outputs": [],
      "source": []
    }
  ],
  "metadata": {
    "accelerator": "GPU",
    "colab": {
      "gpuType": "T4",
      "provenance": []
    },
    "kaggle": {
      "accelerator": "nvidiaTeslaT4",
      "dataSources": [
        {
          "datasetId": 457093,
          "sourceId": 861496,
          "sourceType": "datasetVersion"
        },
        {
          "datasetId": 4817485,
          "sourceId": 8149433,
          "sourceType": "datasetVersion"
        }
      ],
      "dockerImageVersionId": 30684,
      "isGpuEnabled": true,
      "isInternetEnabled": false,
      "language": "python",
      "sourceType": "notebook"
    },
    "kernelspec": {
      "display_name": "Python 3",
      "language": "python",
      "name": "python3"
    },
    "language_info": {
      "codemirror_mode": {
        "name": "ipython",
        "version": 3
      },
      "file_extension": ".py",
      "mimetype": "text/x-python",
      "name": "python",
      "nbconvert_exporter": "python",
      "pygments_lexer": "ipython3",
      "version": "3.10.13"
    },
    "papermill": {
      "default_parameters": {},
      "duration": 1907.453629,
      "end_time": "2024-04-18T03:08:48.991988",
      "environment_variables": {},
      "exception": null,
      "input_path": "__notebook__.ipynb",
      "output_path": "__notebook__.ipynb",
      "parameters": {},
      "start_time": "2024-04-18T02:37:01.538359",
      "version": "2.5.0"
    }
  },
  "nbformat": 4,
  "nbformat_minor": 5
}