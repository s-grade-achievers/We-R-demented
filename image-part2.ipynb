{
  "cells": [
    {
      "cell_type": "markdown",
      "id": "3af3c080",
      "metadata": {
        "id": "3af3c080",
        "papermill": {
          "duration": 0.019451,
          "end_time": "2024-04-18T02:37:04.719945",
          "exception": false,
          "start_time": "2024-04-18T02:37:04.700494",
          "status": "completed"
        },
        "tags": []
      },
      "source": [
        "<a href=\"https://www.kaggle.com/code/pes1ug22am164/image-part?scriptVersionId=171996997\" target=\"_blank\"><img align=\"left\" alt=\"Kaggle\" title=\"Open in Kaggle\" src=\"https://kaggle.com/static/images/open-in-kaggle.svg\"></a>"
      ]
    },
    {
      "cell_type": "markdown",
      "id": "634a515b",
      "metadata": {
        "id": "634a515b",
        "papermill": {
          "duration": 0.017271,
          "end_time": "2024-04-18T02:37:04.755052",
          "exception": false,
          "start_time": "2024-04-18T02:37:04.737781",
          "status": "completed"
        },
        "tags": []
      },
      "source": [
        "# uncomment on google colab, comment on kaggle."
      ]
    },
    {
      "cell_type": "code",
      "execution_count": 1,
      "id": "3ae9ef29",
      "metadata": {
        "execution": {
          "iopub.execute_input": "2024-04-18T02:37:04.798912Z",
          "iopub.status.busy": "2024-04-18T02:37:04.797914Z",
          "iopub.status.idle": "2024-04-18T02:37:04.803293Z",
          "shell.execute_reply": "2024-04-18T02:37:04.802363Z"
        },
        "id": "3ae9ef29",
        "outputId": "2c42427e-f1a1-4c2a-b38c-cfc2b4114d35",
        "papermill": {
          "duration": 0.029869,
          "end_time": "2024-04-18T02:37:04.805581",
          "exception": false,
          "start_time": "2024-04-18T02:37:04.775712",
          "status": "completed"
        },
        "tags": [],
        "colab": {
          "base_uri": "https://localhost:8080/",
          "height": 126
        }
      },
      "outputs": [
        {
          "output_type": "display_data",
          "data": {
            "text/plain": [
              "<IPython.core.display.HTML object>"
            ],
            "text/html": [
              "\n",
              "     <input type=\"file\" id=\"files-29415167-c0bf-4241-8b8e-33a3584facf8\" name=\"files[]\" multiple disabled\n",
              "        style=\"border:none\" />\n",
              "     <output id=\"result-29415167-c0bf-4241-8b8e-33a3584facf8\">\n",
              "      Upload widget is only available when the cell has been executed in the\n",
              "      current browser session. Please rerun this cell to enable.\n",
              "      </output>\n",
              "      <script>// Copyright 2017 Google LLC\n",
              "//\n",
              "// Licensed under the Apache License, Version 2.0 (the \"License\");\n",
              "// you may not use this file except in compliance with the License.\n",
              "// You may obtain a copy of the License at\n",
              "//\n",
              "//      http://www.apache.org/licenses/LICENSE-2.0\n",
              "//\n",
              "// Unless required by applicable law or agreed to in writing, software\n",
              "// distributed under the License is distributed on an \"AS IS\" BASIS,\n",
              "// WITHOUT WARRANTIES OR CONDITIONS OF ANY KIND, either express or implied.\n",
              "// See the License for the specific language governing permissions and\n",
              "// limitations under the License.\n",
              "\n",
              "/**\n",
              " * @fileoverview Helpers for google.colab Python module.\n",
              " */\n",
              "(function(scope) {\n",
              "function span(text, styleAttributes = {}) {\n",
              "  const element = document.createElement('span');\n",
              "  element.textContent = text;\n",
              "  for (const key of Object.keys(styleAttributes)) {\n",
              "    element.style[key] = styleAttributes[key];\n",
              "  }\n",
              "  return element;\n",
              "}\n",
              "\n",
              "// Max number of bytes which will be uploaded at a time.\n",
              "const MAX_PAYLOAD_SIZE = 100 * 1024;\n",
              "\n",
              "function _uploadFiles(inputId, outputId) {\n",
              "  const steps = uploadFilesStep(inputId, outputId);\n",
              "  const outputElement = document.getElementById(outputId);\n",
              "  // Cache steps on the outputElement to make it available for the next call\n",
              "  // to uploadFilesContinue from Python.\n",
              "  outputElement.steps = steps;\n",
              "\n",
              "  return _uploadFilesContinue(outputId);\n",
              "}\n",
              "\n",
              "// This is roughly an async generator (not supported in the browser yet),\n",
              "// where there are multiple asynchronous steps and the Python side is going\n",
              "// to poll for completion of each step.\n",
              "// This uses a Promise to block the python side on completion of each step,\n",
              "// then passes the result of the previous step as the input to the next step.\n",
              "function _uploadFilesContinue(outputId) {\n",
              "  const outputElement = document.getElementById(outputId);\n",
              "  const steps = outputElement.steps;\n",
              "\n",
              "  const next = steps.next(outputElement.lastPromiseValue);\n",
              "  return Promise.resolve(next.value.promise).then((value) => {\n",
              "    // Cache the last promise value to make it available to the next\n",
              "    // step of the generator.\n",
              "    outputElement.lastPromiseValue = value;\n",
              "    return next.value.response;\n",
              "  });\n",
              "}\n",
              "\n",
              "/**\n",
              " * Generator function which is called between each async step of the upload\n",
              " * process.\n",
              " * @param {string} inputId Element ID of the input file picker element.\n",
              " * @param {string} outputId Element ID of the output display.\n",
              " * @return {!Iterable<!Object>} Iterable of next steps.\n",
              " */\n",
              "function* uploadFilesStep(inputId, outputId) {\n",
              "  const inputElement = document.getElementById(inputId);\n",
              "  inputElement.disabled = false;\n",
              "\n",
              "  const outputElement = document.getElementById(outputId);\n",
              "  outputElement.innerHTML = '';\n",
              "\n",
              "  const pickedPromise = new Promise((resolve) => {\n",
              "    inputElement.addEventListener('change', (e) => {\n",
              "      resolve(e.target.files);\n",
              "    });\n",
              "  });\n",
              "\n",
              "  const cancel = document.createElement('button');\n",
              "  inputElement.parentElement.appendChild(cancel);\n",
              "  cancel.textContent = 'Cancel upload';\n",
              "  const cancelPromise = new Promise((resolve) => {\n",
              "    cancel.onclick = () => {\n",
              "      resolve(null);\n",
              "    };\n",
              "  });\n",
              "\n",
              "  // Wait for the user to pick the files.\n",
              "  const files = yield {\n",
              "    promise: Promise.race([pickedPromise, cancelPromise]),\n",
              "    response: {\n",
              "      action: 'starting',\n",
              "    }\n",
              "  };\n",
              "\n",
              "  cancel.remove();\n",
              "\n",
              "  // Disable the input element since further picks are not allowed.\n",
              "  inputElement.disabled = true;\n",
              "\n",
              "  if (!files) {\n",
              "    return {\n",
              "      response: {\n",
              "        action: 'complete',\n",
              "      }\n",
              "    };\n",
              "  }\n",
              "\n",
              "  for (const file of files) {\n",
              "    const li = document.createElement('li');\n",
              "    li.append(span(file.name, {fontWeight: 'bold'}));\n",
              "    li.append(span(\n",
              "        `(${file.type || 'n/a'}) - ${file.size} bytes, ` +\n",
              "        `last modified: ${\n",
              "            file.lastModifiedDate ? file.lastModifiedDate.toLocaleDateString() :\n",
              "                                    'n/a'} - `));\n",
              "    const percent = span('0% done');\n",
              "    li.appendChild(percent);\n",
              "\n",
              "    outputElement.appendChild(li);\n",
              "\n",
              "    const fileDataPromise = new Promise((resolve) => {\n",
              "      const reader = new FileReader();\n",
              "      reader.onload = (e) => {\n",
              "        resolve(e.target.result);\n",
              "      };\n",
              "      reader.readAsArrayBuffer(file);\n",
              "    });\n",
              "    // Wait for the data to be ready.\n",
              "    let fileData = yield {\n",
              "      promise: fileDataPromise,\n",
              "      response: {\n",
              "        action: 'continue',\n",
              "      }\n",
              "    };\n",
              "\n",
              "    // Use a chunked sending to avoid message size limits. See b/62115660.\n",
              "    let position = 0;\n",
              "    do {\n",
              "      const length = Math.min(fileData.byteLength - position, MAX_PAYLOAD_SIZE);\n",
              "      const chunk = new Uint8Array(fileData, position, length);\n",
              "      position += length;\n",
              "\n",
              "      const base64 = btoa(String.fromCharCode.apply(null, chunk));\n",
              "      yield {\n",
              "        response: {\n",
              "          action: 'append',\n",
              "          file: file.name,\n",
              "          data: base64,\n",
              "        },\n",
              "      };\n",
              "\n",
              "      let percentDone = fileData.byteLength === 0 ?\n",
              "          100 :\n",
              "          Math.round((position / fileData.byteLength) * 100);\n",
              "      percent.textContent = `${percentDone}% done`;\n",
              "\n",
              "    } while (position < fileData.byteLength);\n",
              "  }\n",
              "\n",
              "  // All done.\n",
              "  yield {\n",
              "    response: {\n",
              "      action: 'complete',\n",
              "    }\n",
              "  };\n",
              "}\n",
              "\n",
              "scope.google = scope.google || {};\n",
              "scope.google.colab = scope.google.colab || {};\n",
              "scope.google.colab._files = {\n",
              "  _uploadFiles,\n",
              "  _uploadFilesContinue,\n",
              "};\n",
              "})(self);\n",
              "</script> "
            ]
          },
          "metadata": {}
        },
        {
          "output_type": "stream",
          "name": "stdout",
          "text": [
            "Saving kaggle.json to kaggle.json\n",
            "Downloading betterest-preproc.zip to /content\n",
            " 28% 10.0M/35.1M [00:00<00:00, 104MB/s]\n",
            "100% 35.1M/35.1M [00:00<00:00, 202MB/s]\n"
          ]
        }
      ],
      "source": [
        "!mkdir ~/.kaggle\n",
        "from google.colab import files\n",
        "files.upload()\n",
        "!cp kaggle.json ~/.kaggle/\n",
        "!chmod 600 ~/.kaggle/kaggle.json\n",
        "!kaggle datasets download -d shusrith/betterest-preproc"
      ]
    },
    {
      "cell_type": "code",
      "execution_count": null,
      "id": "14cc2ca4",
      "metadata": {
        "execution": {
          "iopub.execute_input": "2024-04-18T02:37:04.844141Z",
          "iopub.status.busy": "2024-04-18T02:37:04.843287Z",
          "iopub.status.idle": "2024-04-18T02:37:04.847754Z",
          "shell.execute_reply": "2024-04-18T02:37:04.846758Z"
        },
        "id": "14cc2ca4",
        "papermill": {
          "duration": 0.025397,
          "end_time": "2024-04-18T02:37:04.849730",
          "exception": false,
          "start_time": "2024-04-18T02:37:04.824333",
          "status": "completed"
        },
        "tags": []
      },
      "outputs": [],
      "source": [
        "!unzip /content/betterest-preproc.zip"
      ]
    },
    {
      "cell_type": "code",
      "execution_count": 4,
      "id": "452153ac",
      "metadata": {
        "execution": {
          "iopub.execute_input": "2024-04-18T02:37:05.982628Z",
          "iopub.status.busy": "2024-04-18T02:37:05.981734Z",
          "iopub.status.idle": "2024-04-18T02:37:06.131505Z",
          "shell.execute_reply": "2024-04-18T02:37:06.130271Z"
        },
        "papermill": {
          "duration": 0.170115,
          "end_time": "2024-04-18T02:37:06.133939",
          "exception": false,
          "start_time": "2024-04-18T02:37:05.963824",
          "status": "completed"
        },
        "tags": [],
        "id": "452153ac",
        "outputId": "a7fb8554-cb3f-484f-8b97-b4aa6d4001dd",
        "colab": {
          "base_uri": "https://localhost:8080/"
        }
      },
      "outputs": [
        {
          "output_type": "execute_result",
          "data": {
            "text/plain": [
              "10240"
            ]
          },
          "metadata": {},
          "execution_count": 4
        }
      ],
      "source": [
        "import os\n",
        "import numpy as np\n",
        "directory = '/content/train'\n",
        "\n",
        "files = [file for file in os.listdir(directory) if file.endswith('.jpg')]\n",
        "len(files)"
      ]
    },
    {
      "cell_type": "code",
      "execution_count": 5,
      "id": "f8db2f7d",
      "metadata": {
        "execution": {
          "iopub.execute_input": "2024-04-18T02:37:06.172969Z",
          "iopub.status.busy": "2024-04-18T02:37:06.172299Z",
          "iopub.status.idle": "2024-04-18T02:37:06.182597Z",
          "shell.execute_reply": "2024-04-18T02:37:06.181487Z"
        },
        "papermill": {
          "duration": 0.031884,
          "end_time": "2024-04-18T02:37:06.185224",
          "exception": false,
          "start_time": "2024-04-18T02:37:06.153340",
          "status": "completed"
        },
        "tags": [],
        "id": "f8db2f7d",
        "outputId": "8999cf7f-44db-4b95-c962-84f5c5ce55d3",
        "colab": {
          "base_uri": "https://localhost:8080/"
        }
      },
      "outputs": [
        {
          "output_type": "stream",
          "name": "stdout",
          "text": [
            "2560 2560 2560 2560\n"
          ]
        }
      ],
      "source": [
        "mildDem = [i for i in files if i.startswith(\"milDem\")]\n",
        "moderateDem = [i for i in files if \"moderateDim\" in i]\n",
        "nonDem = [i for i in files if \"nonDem\" in i]\n",
        "veryMild = [i for i in files if \"veryMildDem\" in i]\n",
        "print(len(mildDem), len(moderateDem), len(nonDem), len(veryMild))"
      ]
    },
    {
      "cell_type": "code",
      "execution_count": 6,
      "id": "1c1edbb8",
      "metadata": {
        "execution": {
          "iopub.execute_input": "2024-04-18T02:37:06.226007Z",
          "iopub.status.busy": "2024-04-18T02:37:06.225649Z",
          "iopub.status.idle": "2024-04-18T02:37:07.101287Z",
          "shell.execute_reply": "2024-04-18T02:37:07.100370Z"
        },
        "papermill": {
          "duration": 0.898685,
          "end_time": "2024-04-18T02:37:07.103527",
          "exception": false,
          "start_time": "2024-04-18T02:37:06.204842",
          "status": "completed"
        },
        "tags": [],
        "id": "1c1edbb8",
        "outputId": "53a34027-3b59-4741-fa08-baae9e5baec1",
        "colab": {
          "base_uri": "https://localhost:8080/"
        }
      },
      "outputs": [
        {
          "output_type": "execute_result",
          "data": {
            "text/plain": [
              "Class\n",
              "0    2560\n",
              "1    2560\n",
              "2    2560\n",
              "3    2560\n",
              "Name: count, dtype: int64"
            ]
          },
          "metadata": {},
          "execution_count": 6
        }
      ],
      "source": [
        "import pandas as pd\n",
        "l = [[mildDem, \"0\"], [moderateDem, \"1\"], [nonDem, \"2\"], [veryMild, \"3\"]]\n",
        "x = []\n",
        "for i in l:\n",
        "    for j in i[0]:\n",
        "        path = os.path.join(\"/content/train\", j)\n",
        "        x.append([i[1], path])\n",
        "\n",
        "df = pd.DataFrame(x, columns=[\"Class\", \"Path\"])\n",
        "x = df[\"Class\"].value_counts()\n",
        "x"
      ]
    },
    {
      "cell_type": "code",
      "source": [
        "from sklearn.model_selection import train_test_split\n",
        "\n",
        "train_images, test_images, train_labels, test_labels = train_test_split(df[\"Path\"], df[\"Class\"], test_size=0.2, random_state=42)"
      ],
      "metadata": {
        "id": "wakW7WFCdoDl"
      },
      "id": "wakW7WFCdoDl",
      "execution_count": 14,
      "outputs": []
    },
    {
      "cell_type": "code",
      "source": [
        "import pandas as pd\n",
        "from keras.preprocessing.image import ImageDataGenerator\n",
        "\n",
        "train_df = pd.DataFrame({\n",
        "    'filename': train_images,\n",
        "    'class': train_labels\n",
        "})\n",
        "val_df = pd.DataFrame({\n",
        "    'filename': test_images,\n",
        "    'class': test_labels\n",
        "})\n",
        "\n",
        "datagen = ImageDataGenerator(\n",
        "    rotation_range=20,\n",
        "    width_shift_range=0.2,\n",
        "    height_shift_range=0.2,\n",
        "    horizontal_flip=True,\n",
        "    rescale=1.0/255.0)\n",
        "\n",
        "train_generator = datagen.flow_from_dataframe(\n",
        "    dataframe=train_df,\n",
        "    directory=None,\n",
        "    x_col='filename',\n",
        "    y_col='class',\n",
        "    target_size=(130, 110),\n",
        "    batch_size=32,\n",
        "    class_mode='categorical'\n",
        ")\n",
        "\n",
        "validation_generator = datagen.flow_from_dataframe(\n",
        "    dataframe=val_df,\n",
        "    directory=None,\n",
        "    x_col='filename',\n",
        "    y_col='class',\n",
        "    target_size=(130, 110),\n",
        "    batch_size=32,\n",
        "    class_mode='categorical'\n",
        ")"
      ],
      "metadata": {
        "colab": {
          "base_uri": "https://localhost:8080/"
        },
        "id": "C4RUbgmMe5T-",
        "outputId": "888e68d5-0789-42db-fbd9-030b4cf67433"
      },
      "id": "C4RUbgmMe5T-",
      "execution_count": 45,
      "outputs": [
        {
          "output_type": "stream",
          "name": "stdout",
          "text": [
            "Found 8192 validated image filenames belonging to 4 classes.\n",
            "Found 2048 validated image filenames belonging to 4 classes.\n"
          ]
        }
      ]
    },
    {
      "cell_type": "code",
      "execution_count": null,
      "id": "5f7b291d",
      "metadata": {
        "execution": {
          "iopub.execute_input": "2024-04-18T02:38:54.056208Z",
          "iopub.status.busy": "2024-04-18T02:38:54.055371Z",
          "iopub.status.idle": "2024-04-18T02:38:54.060235Z",
          "shell.execute_reply": "2024-04-18T02:38:54.059167Z"
        },
        "id": "5f7b291d",
        "papermill": {
          "duration": 0.026178,
          "end_time": "2024-04-18T02:38:54.062485",
          "exception": false,
          "start_time": "2024-04-18T02:38:54.036307",
          "status": "completed"
        },
        "tags": []
      },
      "outputs": [],
      "source": [
        "# s = x / len(files)\n",
        "# class_weights = {i:j for i, j in zip(s.index, s.values)}\n",
        "\n",
        "# class_weights\n",
        "# Optional normalization (weights sum to 1)\n",
        "# total_weight = sum(class_weights.values())\n",
        "# class_weights = {class_label: weight / total_weight for class_label, weight in class_weights.items()}\n"
      ]
    },
    {
      "cell_type": "code",
      "execution_count": 16,
      "id": "d368f928",
      "metadata": {
        "execution": {
          "iopub.execute_input": "2024-04-18T02:38:54.105263Z",
          "iopub.status.busy": "2024-04-18T02:38:54.104881Z",
          "iopub.status.idle": "2024-04-18T02:39:06.664758Z",
          "shell.execute_reply": "2024-04-18T02:39:06.663697Z"
        },
        "id": "d368f928",
        "papermill": {
          "duration": 12.584315,
          "end_time": "2024-04-18T02:39:06.667503",
          "exception": false,
          "start_time": "2024-04-18T02:38:54.083188",
          "status": "completed"
        },
        "tags": []
      },
      "outputs": [],
      "source": [
        "from keras.models import Sequential\n",
        "from keras.layers import Conv2D, MaxPooling2D, Flatten, Dense, Dropout, Input, BatchNormalization\n",
        "from keras.callbacks import EarlyStopping, LearningRateScheduler\n",
        "from keras.utils import to_categorical\n",
        "from sklearn.utils.class_weight import compute_sample_weight\n",
        "from sklearn.model_selection import train_test_split\n",
        "import numpy as np\n",
        "\n",
        "def conv_block(filters, act='relu'):\n",
        "    \"\"\"Defining a Convolutional NN block for a Sequential CNN model. \"\"\"\n",
        "\n",
        "    block = Sequential()\n",
        "    block.add(Conv2D(filters, 3, activation=act, padding='same'))\n",
        "    block.add(Conv2D(filters, 3, activation=act, padding='same'))\n",
        "    block.add(BatchNormalization())\n",
        "    block.add(MaxPooling2D((2, 2)))\n",
        "\n",
        "    return block"
      ]
    },
    {
      "cell_type": "code",
      "execution_count": 44,
      "id": "f4928ef0",
      "metadata": {
        "execution": {
          "iopub.execute_input": "2024-04-18T02:39:06.711762Z",
          "iopub.status.busy": "2024-04-18T02:39:06.710547Z",
          "iopub.status.idle": "2024-04-18T02:39:06.716987Z",
          "shell.execute_reply": "2024-04-18T02:39:06.715960Z"
        },
        "id": "f4928ef0",
        "papermill": {
          "duration": 0.030851,
          "end_time": "2024-04-18T02:39:06.719383",
          "exception": false,
          "start_time": "2024-04-18T02:39:06.688532",
          "status": "completed"
        },
        "tags": []
      },
      "outputs": [],
      "source": [
        "def dense_block(units, dropout_rate, act='relu'):\n",
        "    \"\"\"Defining a Dense NN block for a Sequential CNN model. \"\"\"\n",
        "\n",
        "    block = Sequential()\n",
        "    block.add(Dense(units, activation=act))\n",
        "    block.add(BatchNormalization())\n",
        "    block.add(Dropout(dropout_rate))\n",
        "\n",
        "    return block"
      ]
    },
    {
      "cell_type": "code",
      "execution_count": 18,
      "id": "cefb4907",
      "metadata": {
        "execution": {
          "iopub.execute_input": "2024-04-18T02:39:06.808240Z",
          "iopub.status.busy": "2024-04-18T02:39:06.807861Z",
          "iopub.status.idle": "2024-04-18T02:39:07.452328Z",
          "shell.execute_reply": "2024-04-18T02:39:07.451242Z"
        },
        "id": "cefb4907",
        "papermill": {
          "duration": 0.668995,
          "end_time": "2024-04-18T02:39:07.454927",
          "exception": false,
          "start_time": "2024-04-18T02:39:06.785932",
          "status": "completed"
        },
        "tags": []
      },
      "outputs": [],
      "source": [
        "import tensorflow as tf\n",
        "\n",
        "class F1Score(tf.keras.metrics.Metric):\n",
        "    def __init__(self, num_classes, **kwargs):\n",
        "        super(F1Score, self).__init__(**kwargs)\n",
        "        self.num_classes = num_classes\n",
        "        self.precision = tf.keras.metrics.Precision()\n",
        "        self.recall = tf.keras.metrics.Recall()\n",
        "\n",
        "    def update_state(self, y_true, y_pred, sample_weight=None):\n",
        "        self.precision.update_state(y_true, y_pred, sample_weight)\n",
        "        self.recall.update_state(y_true, y_pred, sample_weight)\n",
        "\n",
        "    def result(self):\n",
        "        precision = self.precision.result()\n",
        "        recall = self.recall.result()\n",
        "        return 2 * ((precision * recall) / (precision + recall + tf.keras.backend.epsilon()))\n",
        "\n",
        "    def reset_state(self):\n",
        "        self.precision.reset_states()\n",
        "        self.recall.reset_states()\n",
        "\n",
        "METRICS = [tf.keras.metrics.CategoricalAccuracy(name='acc'),\n",
        "           tf.keras.metrics.AUC(name='auc'),\n",
        "           F1Score(num_classes=4)]"
      ]
    },
    {
      "cell_type": "code",
      "execution_count": 46,
      "id": "2c437ddc",
      "metadata": {
        "execution": {
          "iopub.execute_input": "2024-04-18T02:39:07.546370Z",
          "iopub.status.busy": "2024-04-18T02:39:07.545509Z",
          "iopub.status.idle": "2024-04-18T02:39:07.552088Z",
          "shell.execute_reply": "2024-04-18T02:39:07.551044Z"
        },
        "id": "2c437ddc",
        "papermill": {
          "duration": 0.02984,
          "end_time": "2024-04-18T02:39:07.554123",
          "exception": false,
          "start_time": "2024-04-18T02:39:07.524283",
          "status": "completed"
        },
        "tags": []
      },
      "outputs": [],
      "source": [
        "def construct_model(act='relu'):\n",
        "    \"\"\"Constructing a Sequential CNN architecture for performing the classification task. \"\"\"\n",
        "\n",
        "    model = Sequential([\n",
        "        Input(shape=(130, 110, 3)),\n",
        "#         conv_block(16),\n",
        "        conv_block(32),\n",
        "        conv_block(64),\n",
        "        conv_block(128),\n",
        "        Dropout(0.2),\n",
        "        conv_block(256),\n",
        "        Dropout(0.2),\n",
        "        Flatten(),\n",
        "        dense_block(512, 0.7),\n",
        "        dense_block(256, 0.5),\n",
        "        dense_block(64, 0.3),\n",
        "        Dense(4, activation='softmax')\n",
        "    ], name = \"cnn_model\")\n",
        "\n",
        "    return model"
      ]
    },
    {
      "cell_type": "code",
      "execution_count": 47,
      "id": "e65d8f5c",
      "metadata": {
        "execution": {
          "iopub.execute_input": "2024-04-18T02:39:07.594254Z",
          "iopub.status.busy": "2024-04-18T02:39:07.593396Z",
          "iopub.status.idle": "2024-04-18T02:39:07.895989Z",
          "shell.execute_reply": "2024-04-18T02:39:07.894794Z"
        },
        "id": "e65d8f5c",
        "outputId": "4156b434-3dfe-4508-ea57-2e9f6203b980",
        "papermill": {
          "duration": 0.326608,
          "end_time": "2024-04-18T02:39:07.898360",
          "exception": false,
          "start_time": "2024-04-18T02:39:07.571752",
          "status": "completed"
        },
        "tags": [],
        "colab": {
          "base_uri": "https://localhost:8080/"
        }
      },
      "outputs": [
        {
          "output_type": "stream",
          "name": "stdout",
          "text": [
            "Model: \"cnn_model\"\n",
            "_________________________________________________________________\n",
            " Layer (type)                Output Shape              Param #   \n",
            "=================================================================\n",
            " sequential_14 (Sequential)  (None, 65, 55, 32)        10272     \n",
            "                                                                 \n",
            " sequential_15 (Sequential)  (None, 32, 27, 64)        55680     \n",
            "                                                                 \n",
            " sequential_16 (Sequential)  (None, 16, 13, 128)       221952    \n",
            "                                                                 \n",
            " dropout_10 (Dropout)        (None, 16, 13, 128)       0         \n",
            "                                                                 \n",
            " sequential_17 (Sequential)  (None, 8, 6, 256)         886272    \n",
            "                                                                 \n",
            " dropout_11 (Dropout)        (None, 8, 6, 256)         0         \n",
            "                                                                 \n",
            " flatten_2 (Flatten)         (None, 12288)             0         \n",
            "                                                                 \n",
            " sequential_18 (Sequential)  (None, 512)               6294016   \n",
            "                                                                 \n",
            " sequential_19 (Sequential)  (None, 256)               132352    \n",
            "                                                                 \n",
            " sequential_20 (Sequential)  (None, 64)                16704     \n",
            "                                                                 \n",
            " dense_11 (Dense)            (None, 4)                 260       \n",
            "                                                                 \n",
            "=================================================================\n",
            "Total params: 7617508 (29.06 MB)\n",
            "Trainable params: 7614884 (29.05 MB)\n",
            "Non-trainable params: 2624 (10.25 KB)\n",
            "_________________________________________________________________\n"
          ]
        }
      ],
      "source": [
        "from focal_loss import SparseCategoricalFocalLoss\n",
        "\n",
        "model = construct_model()\n",
        "model.compile(optimizer='adam',\n",
        "              loss=SparseCategoricalFocalLoss(gamma=2),\n",
        "              metrics=METRICS)\n",
        "\n",
        "model.summary()\n",
        "\n"
      ]
    },
    {
      "cell_type": "code",
      "execution_count": 48,
      "id": "0eb48594",
      "metadata": {
        "execution": {
          "iopub.execute_input": "2024-04-18T02:39:07.943693Z",
          "iopub.status.busy": "2024-04-18T02:39:07.943043Z",
          "iopub.status.idle": "2024-04-18T02:39:07.952494Z",
          "shell.execute_reply": "2024-04-18T02:39:07.951625Z"
        },
        "id": "0eb48594",
        "papermill": {
          "duration": 0.034501,
          "end_time": "2024-04-18T02:39:07.954608",
          "exception": false,
          "start_time": "2024-04-18T02:39:07.920107",
          "status": "completed"
        },
        "tags": []
      },
      "outputs": [],
      "source": [
        "from keras.optimizers import Adam\n",
        "def lr_schedule(epoch, learning_rate):\n",
        "    if epoch < 20:\n",
        "        return learning_rate\n",
        "    else:\n",
        "        if epoch % 2 == 0:\n",
        "          return learning_rate * 0.95\n",
        "        else:\n",
        "          return learning_rate\n",
        "\n",
        "lr_scheduler = LearningRateScheduler(lr_schedule, verbose=1)\n",
        "\n",
        "initial_learning_rate = 0.001\n",
        "optimizer = Adam(learning_rate=initial_learning_rate)"
      ]
    },
    {
      "cell_type": "code",
      "execution_count": 49,
      "id": "db286fcd",
      "metadata": {
        "execution": {
          "iopub.execute_input": "2024-04-18T02:39:07.998217Z",
          "iopub.status.busy": "2024-04-18T02:39:07.997792Z",
          "iopub.status.idle": "2024-04-18T02:39:08.004556Z",
          "shell.execute_reply": "2024-04-18T02:39:08.003463Z"
        },
        "id": "db286fcd",
        "papermill": {
          "duration": 0.032177,
          "end_time": "2024-04-18T02:39:08.007036",
          "exception": false,
          "start_time": "2024-04-18T02:39:07.974859",
          "status": "completed"
        },
        "tags": []
      },
      "outputs": [],
      "source": [
        "class MyCallback(tf.keras.callbacks.Callback):\n",
        "    def on_epoch_end(self, epoch, logs={}):\n",
        "        if logs.get('val_acc') > 0.995:\n",
        "            print(\"\\nReached accuracy threshold! Terminating training.\")\n",
        "            self.model.stop_training = True\n",
        "\n",
        "my_callback = MyCallback()\n",
        "\n",
        "CALLBACKS = [my_callback, lr_scheduler]"
      ]
    },
    {
      "cell_type": "code",
      "execution_count": null,
      "id": "088f04a8",
      "metadata": {
        "execution": {
          "iopub.execute_input": "2024-04-18T02:39:08.051933Z",
          "iopub.status.busy": "2024-04-18T02:39:08.051511Z",
          "iopub.status.idle": "2024-04-18T03:07:36.767487Z",
          "shell.execute_reply": "2024-04-18T03:07:36.766432Z"
        },
        "id": "088f04a8",
        "outputId": "a7d41a31-3ada-4867-f174-409fee257de2",
        "papermill": {
          "duration": 1708.74153,
          "end_time": "2024-04-18T03:07:36.770224",
          "exception": false,
          "start_time": "2024-04-18T02:39:08.028694",
          "status": "completed"
        },
        "tags": [],
        "colab": {
          "base_uri": "https://localhost:8080/"
        }
      },
      "outputs": [
        {
          "metadata": {
            "tags": null
          },
          "name": "stdout",
          "output_type": "stream",
          "text": [
            "\n",
            "Epoch 1: LearningRateScheduler setting learning rate to 0.00021463872690219432.\n",
            "Epoch 1/50\n"
          ]
        },
        {
          "metadata": {
            "tags": null
          },
          "name": "stderr",
          "output_type": "stream",
          "text": [
            "/usr/local/lib/python3.10/dist-packages/keras/src/engine/training.py:2723: UserWarning: Metric F1Score implements a `reset_states()` method; rename it to `reset_state()` (without the final \"s\"). The name `reset_states()` has been deprecated to improve API consistency.\n",
            "  m.reset_state()\n"
          ]
        },
        {
          "output_type": "stream",
          "name": "stdout",
          "text": [
            "256/256 [==============================] - 48s 187ms/step - loss: 0.0500 - acc: 0.9835 - auc: 0.9991 - f1_score: 0.9835 - val_loss: 0.0959 - val_acc: 0.9702 - val_auc: 0.9967 - val_f1_score: 0.9702 - lr: 2.1464e-04\n",
            "\n",
            "Epoch 2: LearningRateScheduler setting learning rate to 0.00021463872690219432.\n",
            "Epoch 2/50\n",
            "256/256 [==============================] - 49s 191ms/step - loss: 0.0496 - acc: 0.9840 - auc: 0.9992 - f1_score: 0.9841 - val_loss: 0.0889 - val_acc: 0.9727 - val_auc: 0.9976 - val_f1_score: 0.9729 - lr: 2.1464e-04\n",
            "\n",
            "Epoch 3: LearningRateScheduler setting learning rate to 0.00021463872690219432.\n",
            "Epoch 3/50\n",
            "256/256 [==============================] - 48s 186ms/step - loss: 0.0390 - acc: 0.9862 - auc: 0.9993 - f1_score: 0.9864 - val_loss: 0.0483 - val_acc: 0.9829 - val_auc: 0.9987 - val_f1_score: 0.9832 - lr: 2.1464e-04\n",
            "\n",
            "Epoch 4: LearningRateScheduler setting learning rate to 0.00021463872690219432.\n",
            "Epoch 4/50\n",
            "256/256 [==============================] - 49s 192ms/step - loss: 0.0465 - acc: 0.9847 - auc: 0.9993 - f1_score: 0.9849 - val_loss: 0.0598 - val_acc: 0.9805 - val_auc: 0.9976 - val_f1_score: 0.9805 - lr: 2.1464e-04\n",
            "\n",
            "Epoch 5: LearningRateScheduler setting learning rate to 0.00021463872690219432.\n",
            "Epoch 5/50\n",
            "256/256 [==============================] - 49s 190ms/step - loss: 0.0480 - acc: 0.9828 - auc: 0.9993 - f1_score: 0.9828 - val_loss: 0.1166 - val_acc: 0.9634 - val_auc: 0.9955 - val_f1_score: 0.9636 - lr: 2.1464e-04\n",
            "\n",
            "Epoch 6: LearningRateScheduler setting learning rate to 0.00021463872690219432.\n",
            "Epoch 6/50\n",
            "256/256 [==============================] - 51s 198ms/step - loss: 0.0555 - acc: 0.9822 - auc: 0.9987 - f1_score: 0.9821 - val_loss: 0.0446 - val_acc: 0.9834 - val_auc: 0.9996 - val_f1_score: 0.9834 - lr: 2.1464e-04\n",
            "\n",
            "Epoch 7: LearningRateScheduler setting learning rate to 0.00021463872690219432.\n",
            "Epoch 7/50\n",
            "256/256 [==============================] - 48s 188ms/step - loss: 0.0489 - acc: 0.9840 - auc: 0.9991 - f1_score: 0.9840 - val_loss: 0.1022 - val_acc: 0.9673 - val_auc: 0.9972 - val_f1_score: 0.9673 - lr: 2.1464e-04\n",
            "\n",
            "Epoch 8: LearningRateScheduler setting learning rate to 0.00021463872690219432.\n",
            "Epoch 8/50\n",
            "256/256 [==============================] - 48s 188ms/step - loss: 0.0461 - acc: 0.9840 - auc: 0.9993 - f1_score: 0.9839 - val_loss: 0.0432 - val_acc: 0.9858 - val_auc: 0.9987 - val_f1_score: 0.9858 - lr: 2.1464e-04\n",
            "\n",
            "Epoch 9: LearningRateScheduler setting learning rate to 0.00021463872690219432.\n",
            "Epoch 9/50\n",
            "256/256 [==============================] - 48s 189ms/step - loss: 0.0457 - acc: 0.9849 - auc: 0.9992 - f1_score: 0.9850 - val_loss: 0.0847 - val_acc: 0.9756 - val_auc: 0.9971 - val_f1_score: 0.9756 - lr: 2.1464e-04\n",
            "\n",
            "Epoch 10: LearningRateScheduler setting learning rate to 0.00021463872690219432.\n",
            "Epoch 10/50\n",
            "256/256 [==============================] - 50s 196ms/step - loss: 0.0405 - acc: 0.9865 - auc: 0.9995 - f1_score: 0.9863 - val_loss: 0.0953 - val_acc: 0.9692 - val_auc: 0.9976 - val_f1_score: 0.9697 - lr: 2.1464e-04\n",
            "\n",
            "Epoch 11: LearningRateScheduler setting learning rate to 0.00021463872690219432.\n",
            "Epoch 11/50\n",
            "256/256 [==============================] - 48s 186ms/step - loss: 0.0550 - acc: 0.9817 - auc: 0.9989 - f1_score: 0.9818 - val_loss: 0.0794 - val_acc: 0.9702 - val_auc: 0.9978 - val_f1_score: 0.9702 - lr: 2.1464e-04\n",
            "\n",
            "Epoch 12: LearningRateScheduler setting learning rate to 0.00021463872690219432.\n",
            "Epoch 12/50\n",
            "256/256 [==============================] - 49s 192ms/step - loss: 0.0442 - acc: 0.9841 - auc: 0.9994 - f1_score: 0.9842 - val_loss: 0.0546 - val_acc: 0.9839 - val_auc: 0.9979 - val_f1_score: 0.9839 - lr: 2.1464e-04\n",
            "\n",
            "Epoch 13: LearningRateScheduler setting learning rate to 0.00021463872690219432.\n",
            "Epoch 13/50\n",
            "256/256 [==============================] - 47s 185ms/step - loss: 0.0340 - acc: 0.9891 - auc: 0.9994 - f1_score: 0.9891 - val_loss: 0.0505 - val_acc: 0.9849 - val_auc: 0.9987 - val_f1_score: 0.9846 - lr: 2.1464e-04\n",
            "\n",
            "Epoch 14: LearningRateScheduler setting learning rate to 0.00021463872690219432.\n",
            "Epoch 14/50\n",
            "256/256 [==============================] - 49s 190ms/step - loss: 0.0435 - acc: 0.9851 - auc: 0.9991 - f1_score: 0.9854 - val_loss: 0.0678 - val_acc: 0.9771 - val_auc: 0.9977 - val_f1_score: 0.9775 - lr: 2.1464e-04\n",
            "\n",
            "Epoch 15: LearningRateScheduler setting learning rate to 0.00021463872690219432.\n",
            "Epoch 15/50\n",
            "256/256 [==============================] - 47s 183ms/step - loss: 0.0359 - acc: 0.9873 - auc: 0.9997 - f1_score: 0.9873 - val_loss: 0.0424 - val_acc: 0.9849 - val_auc: 0.9994 - val_f1_score: 0.9849 - lr: 2.1464e-04\n",
            "\n",
            "Epoch 16: LearningRateScheduler setting learning rate to 0.00021463872690219432.\n",
            "Epoch 16/50\n",
            "256/256 [==============================] - 49s 190ms/step - loss: 0.0402 - acc: 0.9868 - auc: 0.9993 - f1_score: 0.9870 - val_loss: 0.0526 - val_acc: 0.9824 - val_auc: 0.9989 - val_f1_score: 0.9827 - lr: 2.1464e-04\n",
            "\n",
            "Epoch 17: LearningRateScheduler setting learning rate to 0.00021463872690219432.\n",
            "Epoch 17/50\n",
            "256/256 [==============================] - 47s 183ms/step - loss: 0.0430 - acc: 0.9849 - auc: 0.9993 - f1_score: 0.9852 - val_loss: 0.0377 - val_acc: 0.9897 - val_auc: 0.9992 - val_f1_score: 0.9895 - lr: 2.1464e-04\n",
            "\n",
            "Epoch 18: LearningRateScheduler setting learning rate to 0.00021463872690219432.\n",
            "Epoch 18/50\n",
            "256/256 [==============================] - 49s 189ms/step - loss: 0.0423 - acc: 0.9862 - auc: 0.9992 - f1_score: 0.9861 - val_loss: 0.0499 - val_acc: 0.9834 - val_auc: 0.9989 - val_f1_score: 0.9834 - lr: 2.1464e-04\n",
            "\n",
            "Epoch 19: LearningRateScheduler setting learning rate to 0.00021463872690219432.\n",
            "Epoch 19/50\n",
            "256/256 [==============================] - 47s 183ms/step - loss: 0.0343 - acc: 0.9882 - auc: 0.9995 - f1_score: 0.9881 - val_loss: 0.0777 - val_acc: 0.9727 - val_auc: 0.9991 - val_f1_score: 0.9726 - lr: 2.1464e-04\n",
            "\n",
            "Epoch 20: LearningRateScheduler setting learning rate to 0.00021463872690219432.\n",
            "Epoch 20/50\n",
            "256/256 [==============================] - 48s 189ms/step - loss: 0.0334 - acc: 0.9889 - auc: 0.9995 - f1_score: 0.9890 - val_loss: 0.0712 - val_acc: 0.9761 - val_auc: 0.9983 - val_f1_score: 0.9758 - lr: 2.1464e-04\n",
            "\n",
            "Epoch 21: LearningRateScheduler setting learning rate to 0.0002039067905570846.\n",
            "Epoch 21/50\n",
            "256/256 [==============================] - 48s 185ms/step - loss: 0.0390 - acc: 0.9863 - auc: 0.9994 - f1_score: 0.9862 - val_loss: 0.0560 - val_acc: 0.9814 - val_auc: 0.9986 - val_f1_score: 0.9814 - lr: 2.0391e-04\n",
            "\n",
            "Epoch 22: LearningRateScheduler setting learning rate to 0.00020390679128468037.\n",
            "Epoch 22/50\n",
            "256/256 [==============================] - 49s 191ms/step - loss: 0.0314 - acc: 0.9880 - auc: 0.9997 - f1_score: 0.9881 - val_loss: 0.0422 - val_acc: 0.9868 - val_auc: 0.9994 - val_f1_score: 0.9868 - lr: 2.0391e-04\n",
            "\n",
            "Epoch 23: LearningRateScheduler setting learning rate to 0.00019371145172044634.\n",
            "Epoch 23/50\n",
            "256/256 [==============================] - 47s 185ms/step - loss: 0.0370 - acc: 0.9891 - auc: 0.9991 - f1_score: 0.9892 - val_loss: 0.0539 - val_acc: 0.9829 - val_auc: 0.9990 - val_f1_score: 0.9832 - lr: 1.9371e-04\n",
            "\n",
            "Epoch 24: LearningRateScheduler setting learning rate to 0.00019371145754121244.\n",
            "Epoch 24/50\n",
            "256/256 [==============================] - 49s 191ms/step - loss: 0.0340 - acc: 0.9888 - auc: 0.9995 - f1_score: 0.9889 - val_loss: 0.0370 - val_acc: 0.9858 - val_auc: 0.9994 - val_f1_score: 0.9861 - lr: 1.9371e-04\n",
            "\n",
            "Epoch 25: LearningRateScheduler setting learning rate to 0.00018402588466415182.\n",
            "Epoch 25/50\n",
            "256/256 [==============================] - 47s 183ms/step - loss: 0.0339 - acc: 0.9889 - auc: 0.9995 - f1_score: 0.9889 - val_loss: 0.0456 - val_acc: 0.9849 - val_auc: 0.9990 - val_f1_score: 0.9849 - lr: 1.8403e-04\n",
            "\n",
            "Epoch 26: LearningRateScheduler setting learning rate to 0.0001840258773881942.\n",
            "Epoch 26/50\n",
            "256/256 [==============================] - 49s 191ms/step - loss: 0.0331 - acc: 0.9882 - auc: 0.9995 - f1_score: 0.9884 - val_loss: 0.0550 - val_acc: 0.9819 - val_auc: 0.9981 - val_f1_score: 0.9819 - lr: 1.8403e-04\n",
            "\n",
            "Epoch 27: LearningRateScheduler setting learning rate to 0.00017482458351878447.\n",
            "Epoch 27/50\n",
            "256/256 [==============================] - 47s 184ms/step - loss: 0.0298 - acc: 0.9897 - auc: 0.9997 - f1_score: 0.9897 - val_loss: 0.0491 - val_acc: 0.9854 - val_auc: 0.9990 - val_f1_score: 0.9854 - lr: 1.7482e-04\n",
            "\n",
            "Epoch 28: LearningRateScheduler setting learning rate to 0.00017482458497397602.\n",
            "Epoch 28/50\n",
            "256/256 [==============================] - 49s 192ms/step - loss: 0.0300 - acc: 0.9904 - auc: 0.9996 - f1_score: 0.9904 - val_loss: 0.0479 - val_acc: 0.9849 - val_auc: 0.9985 - val_f1_score: 0.9849 - lr: 1.7482e-04\n",
            "\n",
            "Epoch 29: LearningRateScheduler setting learning rate to 0.0001660833557252772.\n",
            "Epoch 29/50\n",
            "256/256 [==============================] - 48s 187ms/step - loss: 0.0387 - acc: 0.9862 - auc: 0.9992 - f1_score: 0.9865 - val_loss: 0.0355 - val_acc: 0.9878 - val_auc: 0.9995 - val_f1_score: 0.9878 - lr: 1.6608e-04\n",
            "\n",
            "Epoch 30: LearningRateScheduler setting learning rate to 0.00016608335135970265.\n",
            "Epoch 30/50\n",
            "256/256 [==============================] - 49s 192ms/step - loss: 0.0344 - acc: 0.9877 - auc: 0.9992 - f1_score: 0.9877 - val_loss: 0.0454 - val_acc: 0.9839 - val_auc: 0.9991 - val_f1_score: 0.9839 - lr: 1.6608e-04\n",
            "\n",
            "Epoch 31: LearningRateScheduler setting learning rate to 0.0001577791837917175.\n",
            "Epoch 31/50\n",
            "256/256 [==============================] - 48s 186ms/step - loss: 0.0319 - acc: 0.9897 - auc: 0.9994 - f1_score: 0.9897 - val_loss: 0.0370 - val_acc: 0.9883 - val_auc: 0.9992 - val_f1_score: 0.9883 - lr: 1.5778e-04\n",
            "\n",
            "Epoch 32: LearningRateScheduler setting learning rate to 0.00015777918451931328.\n",
            "Epoch 32/50\n",
            "256/256 [==============================] - 49s 192ms/step - loss: 0.0351 - acc: 0.9891 - auc: 0.9993 - f1_score: 0.9893 - val_loss: 0.0812 - val_acc: 0.9756 - val_auc: 0.9982 - val_f1_score: 0.9753 - lr: 1.5778e-04\n",
            "\n",
            "Epoch 33: LearningRateScheduler setting learning rate to 0.0001498902252933476.\n",
            "Epoch 33/50\n",
            "256/256 [==============================] - 49s 190ms/step - loss: 0.0285 - acc: 0.9907 - auc: 0.9996 - f1_score: 0.9908 - val_loss: 0.0452 - val_acc: 0.9829 - val_auc: 0.9987 - val_f1_score: 0.9832 - lr: 1.4989e-04\n",
            "\n",
            "Epoch 34: LearningRateScheduler setting learning rate to 0.0001498902274761349.\n",
            "Epoch 34/50\n",
            "256/256 [==============================] - 50s 197ms/step - loss: 0.0281 - acc: 0.9907 - auc: 0.9995 - f1_score: 0.9906 - val_loss: 0.0471 - val_acc: 0.9858 - val_auc: 0.9984 - val_f1_score: 0.9858 - lr: 1.4989e-04\n",
            "\n",
            "Epoch 35: LearningRateScheduler setting learning rate to 0.00014239571610232815.\n",
            "Epoch 35/50\n",
            "256/256 [==============================] - 48s 186ms/step - loss: 0.0269 - acc: 0.9912 - auc: 0.9996 - f1_score: 0.9913 - val_loss: 0.0300 - val_acc: 0.9893 - val_auc: 0.9995 - val_f1_score: 0.9893 - lr: 1.4240e-04\n",
            "\n",
            "Epoch 36: LearningRateScheduler setting learning rate to 0.00014239571464713663.\n",
            "Epoch 36/50\n",
            "256/256 [==============================] - 49s 192ms/step - loss: 0.0267 - acc: 0.9910 - auc: 0.9998 - f1_score: 0.9909 - val_loss: 0.0859 - val_acc: 0.9771 - val_auc: 0.9967 - val_f1_score: 0.9771 - lr: 1.4240e-04\n",
            "\n",
            "Epoch 37: LearningRateScheduler setting learning rate to 0.00013527592891477978.\n",
            "Epoch 37/50\n",
            "256/256 [==============================] - 49s 190ms/step - loss: 0.0300 - acc: 0.9908 - auc: 0.9993 - f1_score: 0.9908 - val_loss: 0.1386 - val_acc: 0.9536 - val_auc: 0.9948 - val_f1_score: 0.9536 - lr: 1.3528e-04\n",
            "\n",
            "Epoch 38: LearningRateScheduler setting learning rate to 0.00013527592818718404.\n",
            "Epoch 38/50\n",
            "256/256 [==============================] - 47s 185ms/step - loss: 0.0326 - acc: 0.9897 - auc: 0.9994 - f1_score: 0.9897 - val_loss: 0.0442 - val_acc: 0.9868 - val_auc: 0.9988 - val_f1_score: 0.9868 - lr: 1.3528e-04\n",
            "\n",
            "Epoch 39: LearningRateScheduler setting learning rate to 0.00012851213177782482.\n",
            "Epoch 39/50\n",
            " 97/256 [==========>...................] - ETA: 24s - loss: 0.0353 - acc: 0.9900 - auc: 0.9993 - f1_score: 0.9900"
          ]
        }
      ],
      "source": [
        "EPOCHS = 50\n",
        "\n",
        "history = model.fit(train_generator, validation_data=(validation_generator), callbacks=CALLBACKS, epochs=EPOCHS)"
      ]
    },
    {
      "cell_type": "code",
      "execution_count": 28,
      "id": "4604b74a",
      "metadata": {
        "execution": {
          "iopub.execute_input": "2024-04-18T03:07:56.980694Z",
          "iopub.status.busy": "2024-04-18T03:07:56.979801Z",
          "iopub.status.idle": "2024-04-18T03:07:57.105310Z",
          "shell.execute_reply": "2024-04-18T03:07:57.104321Z"
        },
        "id": "4604b74a",
        "outputId": "a9414401-3bb6-4be8-f47f-2b04d57b3af3",
        "papermill": {
          "duration": 1.357189,
          "end_time": "2024-04-18T03:07:57.107677",
          "exception": false,
          "start_time": "2024-04-18T03:07:55.750488",
          "status": "completed"
        },
        "tags": [],
        "colab": {
          "base_uri": "https://localhost:8080/"
        }
      },
      "outputs": [
        {
          "output_type": "execute_result",
          "data": {
            "text/plain": [
              "1279"
            ]
          },
          "metadata": {},
          "execution_count": 28
        }
      ],
      "source": [
        "import os\n",
        "import numpy as np\n",
        "directory = '/content/test'\n",
        "\n",
        "files = [file for file in os.listdir(directory) if file.endswith('.jpg')]\n",
        "len(files)"
      ]
    },
    {
      "cell_type": "code",
      "execution_count": 29,
      "id": "6c91e859",
      "metadata": {
        "execution": {
          "iopub.execute_input": "2024-04-18T03:07:59.788908Z",
          "iopub.status.busy": "2024-04-18T03:07:59.787966Z",
          "iopub.status.idle": "2024-04-18T03:07:59.795738Z",
          "shell.execute_reply": "2024-04-18T03:07:59.794687Z"
        },
        "id": "6c91e859",
        "outputId": "942ed84e-55bc-4f5a-9ee6-41b29f8cf566",
        "papermill": {
          "duration": 1.334156,
          "end_time": "2024-04-18T03:07:59.798297",
          "exception": false,
          "start_time": "2024-04-18T03:07:58.464141",
          "status": "completed"
        },
        "tags": [],
        "colab": {
          "base_uri": "https://localhost:8080/"
        }
      },
      "outputs": [
        {
          "output_type": "stream",
          "name": "stdout",
          "text": [
            "179 12 640 448\n"
          ]
        }
      ],
      "source": [
        "mildDem = [i for i in files if i.startswith(\"MildDem\")]\n",
        "moderateDem = [i for i in files if \"ModerateDem\" in i]\n",
        "nonDem = [i for i in files if \"NonDem\" in i]\n",
        "veryMild = [i for i in files if \"VeryMildDem\" in i]\n",
        "print(len(mildDem), len(moderateDem), len(nonDem), len(veryMild))"
      ]
    },
    {
      "cell_type": "code",
      "execution_count": 31,
      "id": "6189bde7",
      "metadata": {
        "execution": {
          "iopub.execute_input": "2024-04-18T03:08:02.325596Z",
          "iopub.status.busy": "2024-04-18T03:08:02.325143Z",
          "iopub.status.idle": "2024-04-18T03:08:02.355022Z",
          "shell.execute_reply": "2024-04-18T03:08:02.353833Z"
        },
        "id": "6189bde7",
        "outputId": "937e05ad-7118-43e4-94e6-c10ae227f8fa",
        "papermill": {
          "duration": 1.263531,
          "end_time": "2024-04-18T03:08:02.358311",
          "exception": false,
          "start_time": "2024-04-18T03:08:01.094780",
          "status": "completed"
        },
        "tags": [],
        "colab": {
          "base_uri": "https://localhost:8080/"
        }
      },
      "outputs": [
        {
          "output_type": "execute_result",
          "data": {
            "text/plain": [
              "Class\n",
              "2    640\n",
              "3    448\n",
              "0    179\n",
              "1     12\n",
              "Name: count, dtype: int64"
            ]
          },
          "metadata": {},
          "execution_count": 31
        }
      ],
      "source": [
        "import pandas as pd\n",
        "l = [[mildDem, 0], [moderateDem, 1], [nonDem, 2], [veryMild, 3]]\n",
        "x = []\n",
        "for i in l:\n",
        "    for j in i[0]:\n",
        "        path = os.path.join(\"/content/test\", j)\n",
        "        x.append([i[1], path])\n",
        "\n",
        "df = pd.DataFrame(x, columns=[\"Class\", \"Path\"])\n",
        "df[\"Class\"].value_counts()\n"
      ]
    },
    {
      "cell_type": "code",
      "execution_count": 39,
      "id": "c2217ccc",
      "metadata": {
        "execution": {
          "iopub.execute_input": "2024-04-18T03:08:04.937083Z",
          "iopub.status.busy": "2024-04-18T03:08:04.936668Z",
          "iopub.status.idle": "2024-04-18T03:08:09.846150Z",
          "shell.execute_reply": "2024-04-18T03:08:09.845241Z"
        },
        "id": "c2217ccc",
        "papermill": {
          "duration": 6.146723,
          "end_time": "2024-04-18T03:08:09.849074",
          "exception": false,
          "start_time": "2024-04-18T03:08:03.702351",
          "status": "completed"
        },
        "tags": []
      },
      "outputs": [],
      "source": [
        "from keras.preprocessing.image import load_img, img_to_array\n",
        "img = [load_img(i, target_size=(130, 110)) for i in df[\"Path\"]]\n",
        "img = [img_to_array(im) for im in img]\n",
        "img = [im / 255.0 for im in img]\n",
        "img = np.stack(img, axis=0)\n"
      ]
    },
    {
      "cell_type": "code",
      "execution_count": 35,
      "id": "fa20f042",
      "metadata": {
        "execution": {
          "iopub.execute_input": "2024-04-18T03:08:12.452363Z",
          "iopub.status.busy": "2024-04-18T03:08:12.451296Z",
          "iopub.status.idle": "2024-04-18T03:08:12.458221Z",
          "shell.execute_reply": "2024-04-18T03:08:12.457035Z"
        },
        "id": "fa20f042",
        "outputId": "89b28cdf-f61f-4485-fb4c-bae62d6e7750",
        "papermill": {
          "duration": 1.317023,
          "end_time": "2024-04-18T03:08:12.460593",
          "exception": false,
          "start_time": "2024-04-18T03:08:11.143570",
          "status": "completed"
        },
        "tags": [],
        "colab": {
          "base_uri": "https://localhost:8080/"
        }
      },
      "outputs": [
        {
          "output_type": "stream",
          "name": "stdout",
          "text": [
            "(1279, 4)\n"
          ]
        }
      ],
      "source": [
        "labels = df[\"Class\"]\n",
        "labels = to_categorical(labels, num_classes=4)\n",
        "print(labels.shape)"
      ]
    },
    {
      "cell_type": "code",
      "execution_count": 36,
      "id": "82b0620e",
      "metadata": {
        "execution": {
          "iopub.execute_input": "2024-04-18T03:08:14.906410Z",
          "iopub.status.busy": "2024-04-18T03:08:14.905663Z",
          "iopub.status.idle": "2024-04-18T03:08:14.914085Z",
          "shell.execute_reply": "2024-04-18T03:08:14.913008Z"
        },
        "id": "82b0620e",
        "papermill": {
          "duration": 1.236415,
          "end_time": "2024-04-18T03:08:14.916566",
          "exception": false,
          "start_time": "2024-04-18T03:08:13.680151",
          "status": "completed"
        },
        "tags": []
      },
      "outputs": [],
      "source": [
        "l = []\n",
        "for i in labels:\n",
        "  for j in range(4):\n",
        "    if i[j] == 1:\n",
        "      l.append(j)\n"
      ]
    },
    {
      "cell_type": "code",
      "execution_count": 54,
      "id": "db8c4623",
      "metadata": {
        "execution": {
          "iopub.execute_input": "2024-04-18T03:08:17.349809Z",
          "iopub.status.busy": "2024-04-18T03:08:17.349393Z",
          "iopub.status.idle": "2024-04-18T03:08:29.415610Z",
          "shell.execute_reply": "2024-04-18T03:08:29.414261Z"
        },
        "id": "db8c4623",
        "outputId": "26737173-62df-4f6b-afd8-c8b5d6ca5101",
        "papermill": {
          "duration": 13.197809,
          "end_time": "2024-04-18T03:08:29.418184",
          "exception": false,
          "start_time": "2024-04-18T03:08:16.220375",
          "status": "completed"
        },
        "tags": [],
        "colab": {
          "base_uri": "https://localhost:8080/"
        }
      },
      "outputs": [
        {
          "output_type": "stream",
          "name": "stdout",
          "text": [
            "40/40 [==============================] - 1s 15ms/step\n"
          ]
        }
      ],
      "source": [
        "y_prob = model.predict(img)\n",
        "y_prob = np.argmax(y_prob, axis=-1)"
      ]
    },
    {
      "cell_type": "code",
      "execution_count": 55,
      "id": "0abf8075",
      "metadata": {
        "execution": {
          "iopub.execute_input": "2024-04-18T03:08:34.545701Z",
          "iopub.status.busy": "2024-04-18T03:08:34.544772Z",
          "iopub.status.idle": "2024-04-18T03:08:34.560372Z",
          "shell.execute_reply": "2024-04-18T03:08:34.559266Z"
        },
        "id": "0abf8075",
        "outputId": "01b73e16-a841-4c56-fb68-e93a1252ae3e",
        "papermill": {
          "duration": 1.324106,
          "end_time": "2024-04-18T03:08:34.562917",
          "exception": false,
          "start_time": "2024-04-18T03:08:33.238811",
          "status": "completed"
        },
        "tags": [],
        "colab": {
          "base_uri": "https://localhost:8080/"
        }
      },
      "outputs": [
        {
          "output_type": "stream",
          "name": "stdout",
          "text": [
            "0 {'precision': 0.5919540229885057, 'recall': 0.5754189944134078, 'f1-score': 0.58356940509915, 'support': 179}\n",
            "1 {'precision': 1.0, 'recall': 0.25, 'f1-score': 0.4, 'support': 12}\n",
            "2 {'precision': 0.8558951965065502, 'recall': 0.6125, 'f1-score': 0.7140255009107468, 'support': 640}\n",
            "3 {'precision': 0.562111801242236, 'recall': 0.8080357142857143, 'f1-score': 0.663003663003663, 'support': 448}\n",
            "accuracy 0.6724003127443315\n",
            "macro avg {'precision': 0.7524902551843229, 'recall': 0.5614886771747806, 'f1-score': 0.59014964225339, 'support': 1279}\n",
            "weighted avg {'precision': 0.7174032703953529, 'recall': 0.6724003127443315, 'f1-score': 0.674949871087777, 'support': 1279}\n"
          ]
        }
      ],
      "source": [
        "from sklearn.metrics import classification_report\n",
        "\n",
        "report = classification_report(l, y_prob, output_dict=True)\n",
        "for i in report:\n",
        "  print(i, report[i])"
      ]
    },
    {
      "cell_type": "code",
      "execution_count": 42,
      "id": "1a09552c",
      "metadata": {
        "execution": {
          "iopub.execute_input": "2024-04-18T03:08:37.105874Z",
          "iopub.status.busy": "2024-04-18T03:08:37.105175Z",
          "iopub.status.idle": "2024-04-18T03:08:41.421908Z",
          "shell.execute_reply": "2024-04-18T03:08:41.420800Z"
        },
        "id": "1a09552c",
        "outputId": "3fcdecaf-df7a-4907-c6a8-cfd43e452e91",
        "papermill": {
          "duration": 5.625384,
          "end_time": "2024-04-18T03:08:41.424266",
          "exception": false,
          "start_time": "2024-04-18T03:08:35.798882",
          "status": "completed"
        },
        "tags": [],
        "colab": {
          "base_uri": "https://localhost:8080/"
        }
      },
      "outputs": [
        {
          "output_type": "stream",
          "name": "stdout",
          "text": [
            " 5/40 [==>...........................] - ETA: 1s - loss: 1.5557 - acc: 0.6687 - auc: 0.8514 - f1_score: 0.6708"
          ]
        },
        {
          "output_type": "stream",
          "name": "stderr",
          "text": [
            "/usr/local/lib/python3.10/dist-packages/keras/src/engine/training.py:2723: UserWarning: Metric F1Score implements a `reset_states()` method; rename it to `reset_state()` (without the final \"s\"). The name `reset_states()` has been deprecated to improve API consistency.\n",
            "  m.reset_state()\n"
          ]
        },
        {
          "output_type": "stream",
          "name": "stdout",
          "text": [
            "40/40 [==============================] - 1s 23ms/step - loss: 1.3500 - acc: 0.6919 - auc: 0.8760 - f1_score: 0.6920\n"
          ]
        },
        {
          "output_type": "execute_result",
          "data": {
            "text/plain": [
              "[1.349985957145691, 0.691946804523468, 0.8760294914245605, 0.6920062303543091]"
            ]
          },
          "metadata": {},
          "execution_count": 42
        }
      ],
      "source": [
        "model.evaluate(img, labels)"
      ]
    },
    {
      "cell_type": "code",
      "execution_count": null,
      "id": "85d1a851",
      "metadata": {
        "id": "85d1a851",
        "papermill": {
          "duration": 1.276158,
          "end_time": "2024-04-18T03:08:43.923104",
          "exception": false,
          "start_time": "2024-04-18T03:08:42.646946",
          "status": "completed"
        },
        "tags": []
      },
      "outputs": [],
      "source": []
    }
  ],
  "metadata": {
    "accelerator": "GPU",
    "colab": {
      "gpuType": "T4",
      "provenance": []
    },
    "kaggle": {
      "accelerator": "nvidiaTeslaT4",
      "dataSources": [
        {
          "datasetId": 457093,
          "sourceId": 861496,
          "sourceType": "datasetVersion"
        },
        {
          "datasetId": 4817485,
          "sourceId": 8149433,
          "sourceType": "datasetVersion"
        }
      ],
      "dockerImageVersionId": 30684,
      "isGpuEnabled": true,
      "isInternetEnabled": false,
      "language": "python",
      "sourceType": "notebook"
    },
    "kernelspec": {
      "display_name": "Python 3",
      "language": "python",
      "name": "python3"
    },
    "language_info": {
      "codemirror_mode": {
        "name": "ipython",
        "version": 3
      },
      "file_extension": ".py",
      "mimetype": "text/x-python",
      "name": "python",
      "nbconvert_exporter": "python",
      "pygments_lexer": "ipython3",
      "version": "3.10.13"
    },
    "papermill": {
      "default_parameters": {},
      "duration": 1907.453629,
      "end_time": "2024-04-18T03:08:48.991988",
      "environment_variables": {},
      "exception": null,
      "input_path": "__notebook__.ipynb",
      "output_path": "__notebook__.ipynb",
      "parameters": {},
      "start_time": "2024-04-18T02:37:01.538359",
      "version": "2.5.0"
    }
  },
  "nbformat": 4,
  "nbformat_minor": 5
}