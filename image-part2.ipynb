{
  "cells": [
    {
      "cell_type": "markdown",
      "id": "3af3c080",
      "metadata": {
        "id": "3af3c080",
        "papermill": {
          "duration": 0.019451,
          "end_time": "2024-04-18T02:37:04.719945",
          "exception": false,
          "start_time": "2024-04-18T02:37:04.700494",
          "status": "completed"
        },
        "tags": []
      },
      "source": [
        "<a href=\"https://www.kaggle.com/code/pes1ug22am164/image-part?scriptVersionId=171996997\" target=\"_blank\"><img align=\"left\" alt=\"Kaggle\" title=\"Open in Kaggle\" src=\"https://kaggle.com/static/images/open-in-kaggle.svg\"></a>"
      ]
    },
    {
      "cell_type": "markdown",
      "id": "634a515b",
      "metadata": {
        "id": "634a515b",
        "papermill": {
          "duration": 0.017271,
          "end_time": "2024-04-18T02:37:04.755052",
          "exception": false,
          "start_time": "2024-04-18T02:37:04.737781",
          "status": "completed"
        },
        "tags": []
      },
      "source": [
        "# uncomment on google colab, comment on kaggle."
      ]
    },
    {
      "cell_type": "code",
      "execution_count": 1,
      "id": "3ae9ef29",
      "metadata": {
        "execution": {
          "iopub.execute_input": "2024-04-18T02:37:04.798912Z",
          "iopub.status.busy": "2024-04-18T02:37:04.797914Z",
          "iopub.status.idle": "2024-04-18T02:37:04.803293Z",
          "shell.execute_reply": "2024-04-18T02:37:04.802363Z"
        },
        "id": "3ae9ef29",
        "outputId": "2c42427e-f1a1-4c2a-b38c-cfc2b4114d35",
        "papermill": {
          "duration": 0.029869,
          "end_time": "2024-04-18T02:37:04.805581",
          "exception": false,
          "start_time": "2024-04-18T02:37:04.775712",
          "status": "completed"
        },
        "tags": [],
        "colab": {
          "base_uri": "https://localhost:8080/",
          "height": 126
        }
      },
      "outputs": [
        {
          "output_type": "display_data",
          "data": {
            "text/plain": [
              "<IPython.core.display.HTML object>"
            ],
            "text/html": [
              "\n",
              "     <input type=\"file\" id=\"files-29415167-c0bf-4241-8b8e-33a3584facf8\" name=\"files[]\" multiple disabled\n",
              "        style=\"border:none\" />\n",
              "     <output id=\"result-29415167-c0bf-4241-8b8e-33a3584facf8\">\n",
              "      Upload widget is only available when the cell has been executed in the\n",
              "      current browser session. Please rerun this cell to enable.\n",
              "      </output>\n",
              "      <script>// Copyright 2017 Google LLC\n",
              "//\n",
              "// Licensed under the Apache License, Version 2.0 (the \"License\");\n",
              "// you may not use this file except in compliance with the License.\n",
              "// You may obtain a copy of the License at\n",
              "//\n",
              "//      http://www.apache.org/licenses/LICENSE-2.0\n",
              "//\n",
              "// Unless required by applicable law or agreed to in writing, software\n",
              "// distributed under the License is distributed on an \"AS IS\" BASIS,\n",
              "// WITHOUT WARRANTIES OR CONDITIONS OF ANY KIND, either express or implied.\n",
              "// See the License for the specific language governing permissions and\n",
              "// limitations under the License.\n",
              "\n",
              "/**\n",
              " * @fileoverview Helpers for google.colab Python module.\n",
              " */\n",
              "(function(scope) {\n",
              "function span(text, styleAttributes = {}) {\n",
              "  const element = document.createElement('span');\n",
              "  element.textContent = text;\n",
              "  for (const key of Object.keys(styleAttributes)) {\n",
              "    element.style[key] = styleAttributes[key];\n",
              "  }\n",
              "  return element;\n",
              "}\n",
              "\n",
              "// Max number of bytes which will be uploaded at a time.\n",
              "const MAX_PAYLOAD_SIZE = 100 * 1024;\n",
              "\n",
              "function _uploadFiles(inputId, outputId) {\n",
              "  const steps = uploadFilesStep(inputId, outputId);\n",
              "  const outputElement = document.getElementById(outputId);\n",
              "  // Cache steps on the outputElement to make it available for the next call\n",
              "  // to uploadFilesContinue from Python.\n",
              "  outputElement.steps = steps;\n",
              "\n",
              "  return _uploadFilesContinue(outputId);\n",
              "}\n",
              "\n",
              "// This is roughly an async generator (not supported in the browser yet),\n",
              "// where there are multiple asynchronous steps and the Python side is going\n",
              "// to poll for completion of each step.\n",
              "// This uses a Promise to block the python side on completion of each step,\n",
              "// then passes the result of the previous step as the input to the next step.\n",
              "function _uploadFilesContinue(outputId) {\n",
              "  const outputElement = document.getElementById(outputId);\n",
              "  const steps = outputElement.steps;\n",
              "\n",
              "  const next = steps.next(outputElement.lastPromiseValue);\n",
              "  return Promise.resolve(next.value.promise).then((value) => {\n",
              "    // Cache the last promise value to make it available to the next\n",
              "    // step of the generator.\n",
              "    outputElement.lastPromiseValue = value;\n",
              "    return next.value.response;\n",
              "  });\n",
              "}\n",
              "\n",
              "/**\n",
              " * Generator function which is called between each async step of the upload\n",
              " * process.\n",
              " * @param {string} inputId Element ID of the input file picker element.\n",
              " * @param {string} outputId Element ID of the output display.\n",
              " * @return {!Iterable<!Object>} Iterable of next steps.\n",
              " */\n",
              "function* uploadFilesStep(inputId, outputId) {\n",
              "  const inputElement = document.getElementById(inputId);\n",
              "  inputElement.disabled = false;\n",
              "\n",
              "  const outputElement = document.getElementById(outputId);\n",
              "  outputElement.innerHTML = '';\n",
              "\n",
              "  const pickedPromise = new Promise((resolve) => {\n",
              "    inputElement.addEventListener('change', (e) => {\n",
              "      resolve(e.target.files);\n",
              "    });\n",
              "  });\n",
              "\n",
              "  const cancel = document.createElement('button');\n",
              "  inputElement.parentElement.appendChild(cancel);\n",
              "  cancel.textContent = 'Cancel upload';\n",
              "  const cancelPromise = new Promise((resolve) => {\n",
              "    cancel.onclick = () => {\n",
              "      resolve(null);\n",
              "    };\n",
              "  });\n",
              "\n",
              "  // Wait for the user to pick the files.\n",
              "  const files = yield {\n",
              "    promise: Promise.race([pickedPromise, cancelPromise]),\n",
              "    response: {\n",
              "      action: 'starting',\n",
              "    }\n",
              "  };\n",
              "\n",
              "  cancel.remove();\n",
              "\n",
              "  // Disable the input element since further picks are not allowed.\n",
              "  inputElement.disabled = true;\n",
              "\n",
              "  if (!files) {\n",
              "    return {\n",
              "      response: {\n",
              "        action: 'complete',\n",
              "      }\n",
              "    };\n",
              "  }\n",
              "\n",
              "  for (const file of files) {\n",
              "    const li = document.createElement('li');\n",
              "    li.append(span(file.name, {fontWeight: 'bold'}));\n",
              "    li.append(span(\n",
              "        `(${file.type || 'n/a'}) - ${file.size} bytes, ` +\n",
              "        `last modified: ${\n",
              "            file.lastModifiedDate ? file.lastModifiedDate.toLocaleDateString() :\n",
              "                                    'n/a'} - `));\n",
              "    const percent = span('0% done');\n",
              "    li.appendChild(percent);\n",
              "\n",
              "    outputElement.appendChild(li);\n",
              "\n",
              "    const fileDataPromise = new Promise((resolve) => {\n",
              "      const reader = new FileReader();\n",
              "      reader.onload = (e) => {\n",
              "        resolve(e.target.result);\n",
              "      };\n",
              "      reader.readAsArrayBuffer(file);\n",
              "    });\n",
              "    // Wait for the data to be ready.\n",
              "    let fileData = yield {\n",
              "      promise: fileDataPromise,\n",
              "      response: {\n",
              "        action: 'continue',\n",
              "      }\n",
              "    };\n",
              "\n",
              "    // Use a chunked sending to avoid message size limits. See b/62115660.\n",
              "    let position = 0;\n",
              "    do {\n",
              "      const length = Math.min(fileData.byteLength - position, MAX_PAYLOAD_SIZE);\n",
              "      const chunk = new Uint8Array(fileData, position, length);\n",
              "      position += length;\n",
              "\n",
              "      const base64 = btoa(String.fromCharCode.apply(null, chunk));\n",
              "      yield {\n",
              "        response: {\n",
              "          action: 'append',\n",
              "          file: file.name,\n",
              "          data: base64,\n",
              "        },\n",
              "      };\n",
              "\n",
              "      let percentDone = fileData.byteLength === 0 ?\n",
              "          100 :\n",
              "          Math.round((position / fileData.byteLength) * 100);\n",
              "      percent.textContent = `${percentDone}% done`;\n",
              "\n",
              "    } while (position < fileData.byteLength);\n",
              "  }\n",
              "\n",
              "  // All done.\n",
              "  yield {\n",
              "    response: {\n",
              "      action: 'complete',\n",
              "    }\n",
              "  };\n",
              "}\n",
              "\n",
              "scope.google = scope.google || {};\n",
              "scope.google.colab = scope.google.colab || {};\n",
              "scope.google.colab._files = {\n",
              "  _uploadFiles,\n",
              "  _uploadFilesContinue,\n",
              "};\n",
              "})(self);\n",
              "</script> "
            ]
          },
          "metadata": {}
        },
        {
          "output_type": "stream",
          "name": "stdout",
          "text": [
            "Saving kaggle.json to kaggle.json\n",
            "Downloading betterest-preproc.zip to /content\n",
            " 28% 10.0M/35.1M [00:00<00:00, 104MB/s]\n",
            "100% 35.1M/35.1M [00:00<00:00, 202MB/s]\n"
          ]
        }
      ],
      "source": [
        "!mkdir ~/.kaggle\n",
        "from google.colab import files\n",
        "files.upload()\n",
        "!cp kaggle.json ~/.kaggle/\n",
        "!chmod 600 ~/.kaggle/kaggle.json\n",
        "!kaggle datasets download -d shusrith/betterest-preproc"
      ]
    },
    {
      "cell_type": "code",
      "execution_count": null,
      "id": "14cc2ca4",
      "metadata": {
        "execution": {
          "iopub.execute_input": "2024-04-18T02:37:04.844141Z",
          "iopub.status.busy": "2024-04-18T02:37:04.843287Z",
          "iopub.status.idle": "2024-04-18T02:37:04.847754Z",
          "shell.execute_reply": "2024-04-18T02:37:04.846758Z"
        },
        "id": "14cc2ca4",
        "papermill": {
          "duration": 0.025397,
          "end_time": "2024-04-18T02:37:04.849730",
          "exception": false,
          "start_time": "2024-04-18T02:37:04.824333",
          "status": "completed"
        },
        "tags": []
      },
      "outputs": [],
      "source": [
        "!unzip /content/betterest-preproc.zip"
      ]
    },
    {
      "cell_type": "code",
      "execution_count": null,
      "id": "fe1d5dd9",
      "metadata": {
        "execution": {
          "iopub.execute_input": "2024-04-18T02:37:04.890631Z",
          "iopub.status.busy": "2024-04-18T02:37:04.889957Z",
          "iopub.status.idle": "2024-04-18T02:37:04.894475Z",
          "shell.execute_reply": "2024-04-18T02:37:04.893455Z"
        },
        "id": "fe1d5dd9",
        "papermill": {
          "duration": 0.027743,
          "end_time": "2024-04-18T02:37:04.896834",
          "exception": false,
          "start_time": "2024-04-18T02:37:04.869091",
          "status": "completed"
        },
        "tags": []
      },
      "outputs": [],
      "source": [
        "# !kaggle datasets download -d tourist55/alzheimers-dataset-4-class-of-images"
      ]
    },
    {
      "cell_type": "code",
      "execution_count": null,
      "id": "ce19e6bd",
      "metadata": {
        "execution": {
          "iopub.execute_input": "2024-04-18T02:37:04.935891Z",
          "iopub.status.busy": "2024-04-18T02:37:04.935490Z",
          "iopub.status.idle": "2024-04-18T02:37:04.939803Z",
          "shell.execute_reply": "2024-04-18T02:37:04.938798Z"
        },
        "id": "ce19e6bd",
        "papermill": {
          "duration": 0.025706,
          "end_time": "2024-04-18T02:37:04.941869",
          "exception": false,
          "start_time": "2024-04-18T02:37:04.916163",
          "status": "completed"
        },
        "tags": []
      },
      "outputs": [],
      "source": [
        "# !unzip /content/alzheimers-dataset-4-class-of-images.zip"
      ]
    },
    {
      "cell_type": "markdown",
      "id": "35eeae96",
      "metadata": {
        "id": "35eeae96",
        "papermill": {
          "duration": 0.01939,
          "end_time": "2024-04-18T02:37:04.979094",
          "exception": false,
          "start_time": "2024-04-18T02:37:04.959704",
          "status": "completed"
        },
        "tags": []
      },
      "source": [
        "# PRE PROCESS\n",
        ".JPG TO .NPY"
      ]
    },
    {
      "cell_type": "code",
      "execution_count": null,
      "id": "63eb22e5",
      "metadata": {
        "execution": {
          "iopub.execute_input": "2024-04-18T02:37:05.019600Z",
          "iopub.status.busy": "2024-04-18T02:37:05.019195Z",
          "iopub.status.idle": "2024-04-18T02:37:05.024523Z",
          "shell.execute_reply": "2024-04-18T02:37:05.023468Z"
        },
        "id": "63eb22e5",
        "papermill": {
          "duration": 0.028257,
          "end_time": "2024-04-18T02:37:05.026811",
          "exception": false,
          "start_time": "2024-04-18T02:37:04.998554",
          "status": "completed"
        },
        "tags": []
      },
      "outputs": [],
      "source": [
        "# import os\n",
        "# import cv2\n",
        "# import numpy as np\n",
        "\n",
        "# def jpg_to_npy_in_folders(input_folder, output_folder):\n",
        "#     os.makedirs(output_folder, exist_ok=True)\n",
        "#     for i, item in enumerate(os.listdir(input_folder)):\n",
        "#         item_path = os.path.join(input_folder, item)\n",
        "#         if os.path.isdir(item_path):\n",
        "#             jpg_to_npy_in_folders(item_path, output_folder)\n",
        "#         elif os.path.isfile(item_path) and item.endswith(\".jpg\"):\n",
        "#             img = cv2.imread(item_path)\n",
        "#             img_array = np.array(img)\n",
        "#             output_file_path = os.path.join(output_folder, os.path.splitext(item)[0] + '.npy')\n",
        "#             np.save(output_file_path, img_array)\n",
        "\n",
        "# # input_folder_path = \"/content/Alzheimer_s Dataset/train\"\n",
        "# input_folder_path = \"/kaggle/input/alzheimers-dataset-4-class-of-images/Alzheimer_s Dataset/train\"\n",
        "# output_folder_path = \"/kaggle/working/train\"\n",
        "\n",
        "# jpg_to_npy_in_folders(input_folder_path, output_folder_path)\n",
        "\n"
      ]
    },
    {
      "cell_type": "code",
      "execution_count": null,
      "id": "9d9a9c8b",
      "metadata": {
        "_cell_guid": "b1076dfc-b9ad-4769-8c92-a6c4dae69d19",
        "_uuid": "8f2839f25d086af736a60e9eeb907d3b93b6e0e5",
        "execution": {
          "iopub.execute_input": "2024-04-18T02:37:05.064042Z",
          "iopub.status.busy": "2024-04-18T02:37:05.063664Z",
          "iopub.status.idle": "2024-04-18T02:37:05.069306Z",
          "shell.execute_reply": "2024-04-18T02:37:05.068224Z"
        },
        "id": "9d9a9c8b",
        "papermill": {
          "duration": 0.027414,
          "end_time": "2024-04-18T02:37:05.071763",
          "exception": false,
          "start_time": "2024-04-18T02:37:05.044349",
          "status": "completed"
        },
        "tags": []
      },
      "outputs": [],
      "source": [
        "# import os\n",
        "# import cv2\n",
        "# import numpy as np\n",
        "\n",
        "# def jpg_to_npy_in_folders(input_folder, output_folder):\n",
        "#     os.makedirs(output_folder, exist_ok=True)\n",
        "#     for i, item in enumerate(os.listdir(input_folder)):\n",
        "#         item_path = os.path.join(input_folder, item)\n",
        "#         if os.path.isdir(item_path):\n",
        "#             jpg_to_npy_in_folders(item_path, output_folder)\n",
        "#         elif os.path.isfile(item_path) and item.endswith(\".jpg\"):\n",
        "#             img = cv2.imread(item_path)\n",
        "#             img_array = np.array(img)\n",
        "#             folder = input_folder.split(\"/\")[-1]\n",
        "#             output_file_path = os.path.join(output_folder, f\"{folder}{i}.npy\")\n",
        "#             np.save(output_file_path, img_array)\n",
        "\n",
        "# # input_folder_path = \"/kaggle/input/alzheimers-dataset-4-class-of-images/Alzheimer_s Dataset/train\"\n",
        "# # output_folder_path = \"/kaggle/working/train\"\n",
        "\n",
        "# # jpg_to_npy_in_folders(input_folder_path, output_folder_path)\n",
        "# jpg_to_npy_in_folders(\"/kaggle/input/alzheimers-dataset-4-class-of-images/Alzheimer_s Dataset/test\", \"/kaggle/working/test\")\n",
        "# # jpg_to_npy_in_folders(\"/content/Alzheimer_s Dataset/test\", \"/kaggle/working/test\")\n",
        "\n"
      ]
    },
    {
      "cell_type": "code",
      "execution_count": null,
      "id": "5b3529d6",
      "metadata": {
        "execution": {
          "iopub.execute_input": "2024-04-18T02:37:05.112294Z",
          "iopub.status.busy": "2024-04-18T02:37:05.111364Z",
          "iopub.status.idle": "2024-04-18T02:37:05.115950Z",
          "shell.execute_reply": "2024-04-18T02:37:05.114968Z"
        },
        "id": "5b3529d6",
        "papermill": {
          "duration": 0.027378,
          "end_time": "2024-04-18T02:37:05.118352",
          "exception": false,
          "start_time": "2024-04-18T02:37:05.090974",
          "status": "completed"
        },
        "tags": []
      },
      "outputs": [],
      "source": [
        "# import os\n",
        "# import numpy as np\n",
        "# directory = '/kaggle/working/train'\n",
        "\n",
        "# files = [file for file in os.listdir(directory) if file.endswith('.npy')]\n",
        "# len(files)\n"
      ]
    },
    {
      "cell_type": "code",
      "execution_count": null,
      "id": "91fc0b7f",
      "metadata": {
        "execution": {
          "iopub.execute_input": "2024-04-18T02:37:05.154981Z",
          "iopub.status.busy": "2024-04-18T02:37:05.154315Z",
          "iopub.status.idle": "2024-04-18T02:37:05.158774Z",
          "shell.execute_reply": "2024-04-18T02:37:05.157932Z"
        },
        "id": "91fc0b7f",
        "papermill": {
          "duration": 0.02418,
          "end_time": "2024-04-18T02:37:05.160846",
          "exception": false,
          "start_time": "2024-04-18T02:37:05.136666",
          "status": "completed"
        },
        "tags": []
      },
      "outputs": [],
      "source": [
        "# mildDem = [i for i in files if i.startswith(\"mildDem\")]\n",
        "# moderateDem = [i for i in files if \"moderateDem\" in i]\n",
        "# nonDem = [i for i in files if \"nonDem\" in i]\n",
        "# veryMild = [i for i in files if \"verymildDem\" in i]\n",
        "# print(len(mildDem), len(moderateDem), len(nonDem), len(veryMild))"
      ]
    },
    {
      "cell_type": "code",
      "execution_count": null,
      "id": "53f2f801",
      "metadata": {
        "execution": {
          "iopub.execute_input": "2024-04-18T02:37:05.201925Z",
          "iopub.status.busy": "2024-04-18T02:37:05.201560Z",
          "iopub.status.idle": "2024-04-18T02:37:05.206902Z",
          "shell.execute_reply": "2024-04-18T02:37:05.205885Z"
        },
        "id": "53f2f801",
        "papermill": {
          "duration": 0.028946,
          "end_time": "2024-04-18T02:37:05.209300",
          "exception": false,
          "start_time": "2024-04-18T02:37:05.180354",
          "status": "completed"
        },
        "tags": []
      },
      "outputs": [],
      "source": [
        "# import imgaug.augmenters as iaa\n",
        "\n",
        "# # Define the augmenter\n",
        "# augmenter = iaa.Sequential([\n",
        "#     iaa.Affine(rotate=(-10, 10)),  # Rotate the image by -10 to 10 degrees\n",
        "#     iaa.GaussianBlur(sigma=(0.0, 1.0)),  # Apply Gaussian blur with a sigma ranging from 0.0 to 1.0\n",
        "#     iaa.AdditiveGaussianNoise(scale=(0, 0.05*255)),  # Add Gaussian noise with a scale of 0 to 0.05 times 255\n",
        "#     iaa.Multiply((0.9, 1.1)),\n",
        "#     iaa.LinearContrast((0.9, 1.1)),\n",
        "# ])\n",
        "\n",
        "# augmented_images = []\n",
        "\n",
        "# for path in moderateDem:\n",
        "#     path = os.path.join(\"/kaggle/working/train\", path)\n",
        "#     image = np.load(path)\n",
        "\n",
        "#     for _ in range(35):\n",
        "#         augmented_image = augmenter.augment_image(image)\n",
        "#         augmented_images.append(augmented_image)\n",
        "# augmented_images = np.array(augmented_images)"
      ]
    },
    {
      "cell_type": "code",
      "execution_count": null,
      "id": "dbe09222",
      "metadata": {
        "execution": {
          "iopub.execute_input": "2024-04-18T02:37:05.247979Z",
          "iopub.status.busy": "2024-04-18T02:37:05.247344Z",
          "iopub.status.idle": "2024-04-18T02:37:05.251468Z",
          "shell.execute_reply": "2024-04-18T02:37:05.250474Z"
        },
        "id": "dbe09222",
        "papermill": {
          "duration": 0.02554,
          "end_time": "2024-04-18T02:37:05.253923",
          "exception": false,
          "start_time": "2024-04-18T02:37:05.228383",
          "status": "completed"
        },
        "tags": []
      },
      "outputs": [],
      "source": [
        "# len(augmented_images)"
      ]
    },
    {
      "cell_type": "code",
      "execution_count": null,
      "id": "2ed8d745",
      "metadata": {
        "execution": {
          "iopub.execute_input": "2024-04-18T02:37:05.293446Z",
          "iopub.status.busy": "2024-04-18T02:37:05.293061Z",
          "iopub.status.idle": "2024-04-18T02:37:05.298114Z",
          "shell.execute_reply": "2024-04-18T02:37:05.297037Z"
        },
        "id": "2ed8d745",
        "papermill": {
          "duration": 0.028024,
          "end_time": "2024-04-18T02:37:05.300482",
          "exception": false,
          "start_time": "2024-04-18T02:37:05.272458",
          "status": "completed"
        },
        "tags": []
      },
      "outputs": [],
      "source": [
        "# import cv2\n",
        "# import os\n",
        "\n",
        "\n",
        "# output_directory = \"/kaggle/working/train\"\n",
        "\n",
        "# os.makedirs(output_directory, exist_ok=True)\n",
        "\n",
        "# for i, image in enumerate(augmented_images):\n",
        "#     output_path = os.path.join(output_directory, f\"moderateDem{i+53}.npy\")\n",
        "#     np.save(output_path, image)\n",
        "\n",
        "\n",
        "# print(\"Augmented images saved successfully.\")\n"
      ]
    },
    {
      "cell_type": "code",
      "execution_count": null,
      "id": "c149e66d",
      "metadata": {
        "execution": {
          "iopub.execute_input": "2024-04-18T02:37:05.340589Z",
          "iopub.status.busy": "2024-04-18T02:37:05.340206Z",
          "iopub.status.idle": "2024-04-18T02:37:05.344662Z",
          "shell.execute_reply": "2024-04-18T02:37:05.343684Z"
        },
        "id": "c149e66d",
        "papermill": {
          "duration": 0.026804,
          "end_time": "2024-04-18T02:37:05.346705",
          "exception": false,
          "start_time": "2024-04-18T02:37:05.319901",
          "status": "completed"
        },
        "tags": []
      },
      "outputs": [],
      "source": [
        "# augmented_images = []\n",
        "\n",
        "# for path in mildDem:\n",
        "#     path = os.path.join(\"/kaggle/working/train\", path)\n",
        "#     image = np.load(path)\n",
        "\n",
        "#     for _ in range(2):\n",
        "#         augmented_image = augmenter.augment_image(image)\n",
        "#         augmented_images.append(augmented_image)\n",
        "# augmented_images = np.array(augmented_images)"
      ]
    },
    {
      "cell_type": "code",
      "execution_count": null,
      "id": "57718192",
      "metadata": {
        "execution": {
          "iopub.execute_input": "2024-04-18T02:37:05.384639Z",
          "iopub.status.busy": "2024-04-18T02:37:05.383686Z",
          "iopub.status.idle": "2024-04-18T02:37:05.388254Z",
          "shell.execute_reply": "2024-04-18T02:37:05.387230Z"
        },
        "id": "57718192",
        "papermill": {
          "duration": 0.027371,
          "end_time": "2024-04-18T02:37:05.390621",
          "exception": false,
          "start_time": "2024-04-18T02:37:05.363250",
          "status": "completed"
        },
        "tags": []
      },
      "outputs": [],
      "source": [
        "# len(augmented_images)"
      ]
    },
    {
      "cell_type": "code",
      "execution_count": null,
      "id": "b1d7a6c4",
      "metadata": {
        "execution": {
          "iopub.execute_input": "2024-04-18T02:37:05.431144Z",
          "iopub.status.busy": "2024-04-18T02:37:05.430246Z",
          "iopub.status.idle": "2024-04-18T02:37:05.434846Z",
          "shell.execute_reply": "2024-04-18T02:37:05.433788Z"
        },
        "id": "b1d7a6c4",
        "papermill": {
          "duration": 0.027061,
          "end_time": "2024-04-18T02:37:05.436918",
          "exception": false,
          "start_time": "2024-04-18T02:37:05.409857",
          "status": "completed"
        },
        "tags": []
      },
      "outputs": [],
      "source": [
        "# output_directory = \"/kaggle/working/train\"\n",
        "\n",
        "# os.makedirs(output_directory, exist_ok=True)\n",
        "\n",
        "# for i, image in enumerate(augmented_images):\n",
        "#     output_path = os.path.join(output_directory, f\"mildDem{i+718}.npy\")\n",
        "#     np.save(output_path, image)\n",
        "\n",
        "\n",
        "# print(\"Augmented images saved successfully.\")"
      ]
    },
    {
      "cell_type": "code",
      "execution_count": null,
      "id": "39628af4",
      "metadata": {
        "execution": {
          "iopub.execute_input": "2024-04-18T02:37:05.473456Z",
          "iopub.status.busy": "2024-04-18T02:37:05.472746Z",
          "iopub.status.idle": "2024-04-18T02:37:05.477438Z",
          "shell.execute_reply": "2024-04-18T02:37:05.476353Z"
        },
        "id": "39628af4",
        "papermill": {
          "duration": 0.025891,
          "end_time": "2024-04-18T02:37:05.479773",
          "exception": false,
          "start_time": "2024-04-18T02:37:05.453882",
          "status": "completed"
        },
        "tags": []
      },
      "outputs": [],
      "source": [
        "# import os\n",
        "# import numpy as np\n",
        "# directory = '/kaggle/working/train'\n",
        "\n",
        "# files = [file for file in os.listdir(directory) if file.endswith('.npy')]\n",
        "# len(files)"
      ]
    },
    {
      "cell_type": "code",
      "execution_count": null,
      "id": "a291b3e7",
      "metadata": {
        "execution": {
          "iopub.execute_input": "2024-04-18T02:37:05.519796Z",
          "iopub.status.busy": "2024-04-18T02:37:05.519375Z",
          "iopub.status.idle": "2024-04-18T02:37:05.524031Z",
          "shell.execute_reply": "2024-04-18T02:37:05.523000Z"
        },
        "id": "a291b3e7",
        "papermill": {
          "duration": 0.02721,
          "end_time": "2024-04-18T02:37:05.526294",
          "exception": false,
          "start_time": "2024-04-18T02:37:05.499084",
          "status": "completed"
        },
        "tags": []
      },
      "outputs": [],
      "source": [
        "# mildDem = [i for i in files if i.startswith(\"mildDem\")]\n",
        "# moderateDem = [i for i in files if \"moderateDem\" in i]\n",
        "# nonDem = [i for i in files if \"nonDem\" in i]\n",
        "# veryMild = [i for i in files if \"verymildDem\" in i]\n",
        "# print(len(mildDem), len(moderateDem), len(nonDem), len(veryMild))"
      ]
    },
    {
      "cell_type": "code",
      "execution_count": null,
      "id": "8ef0ee99",
      "metadata": {
        "execution": {
          "iopub.execute_input": "2024-04-18T02:37:05.563226Z",
          "iopub.status.busy": "2024-04-18T02:37:05.562517Z",
          "iopub.status.idle": "2024-04-18T02:37:05.566929Z",
          "shell.execute_reply": "2024-04-18T02:37:05.566024Z"
        },
        "id": "8ef0ee99",
        "papermill": {
          "duration": 0.024346,
          "end_time": "2024-04-18T02:37:05.568964",
          "exception": false,
          "start_time": "2024-04-18T02:37:05.544618",
          "status": "completed"
        },
        "tags": []
      },
      "outputs": [],
      "source": [
        "# import pandas as pd\n",
        "# l = [[mildDem, 0], [moderateDem, 1], [nonDem, 2], [veryMild, 3]]\n",
        "# x = []\n",
        "# for i in l:\n",
        "#     for j in i[0]:\n",
        "#         path = os.path.join(\"/kaggle/working/train\", j)\n",
        "#         x.append([i[1], path])\n",
        "\n",
        "# df = pd.DataFrame(x, columns=[\"Class\", \"Path\"])\n",
        "# x = df[\"Class\"].value_counts()\n",
        "# x"
      ]
    },
    {
      "cell_type": "code",
      "execution_count": null,
      "id": "6d8a9bd2",
      "metadata": {
        "execution": {
          "iopub.execute_input": "2024-04-18T02:37:05.663602Z",
          "iopub.status.busy": "2024-04-18T02:37:05.662604Z",
          "iopub.status.idle": "2024-04-18T02:37:05.666750Z",
          "shell.execute_reply": "2024-04-18T02:37:05.666039Z"
        },
        "id": "6d8a9bd2",
        "papermill": {
          "duration": 0.080908,
          "end_time": "2024-04-18T02:37:05.668658",
          "exception": false,
          "start_time": "2024-04-18T02:37:05.587750",
          "status": "completed"
        },
        "tags": []
      },
      "outputs": [],
      "source": [
        "# images = []\n",
        "# for i in df[\"Path\"]:\n",
        "#     images.append(np.load(i))\n",
        "# images = np.array(images)"
      ]
    },
    {
      "cell_type": "code",
      "execution_count": null,
      "id": "c15e8cc8",
      "metadata": {
        "execution": {
          "iopub.execute_input": "2024-04-18T02:37:05.709200Z",
          "iopub.status.busy": "2024-04-18T02:37:05.708815Z",
          "iopub.status.idle": "2024-04-18T02:37:05.713549Z",
          "shell.execute_reply": "2024-04-18T02:37:05.712479Z"
        },
        "id": "c15e8cc8",
        "papermill": {
          "duration": 0.027911,
          "end_time": "2024-04-18T02:37:05.715791",
          "exception": false,
          "start_time": "2024-04-18T02:37:05.687880",
          "status": "completed"
        },
        "tags": []
      },
      "outputs": [],
      "source": [
        "# from imblearn.over_sampling import SMOTE\n",
        "\n",
        "# sm = SMOTE(random_state=42)\n",
        "# flattened_images = [image.flatten() for image in images]\n",
        "# image_shape = images[0].shape\n",
        "# X_res, y_res = sm.fit_resample(flattened_images, np.array(df[\"Class\"]))  # `labels` should be your list of class labels\n"
      ]
    },
    {
      "cell_type": "code",
      "execution_count": null,
      "id": "2e527cb5",
      "metadata": {
        "execution": {
          "iopub.execute_input": "2024-04-18T02:37:05.755234Z",
          "iopub.status.busy": "2024-04-18T02:37:05.754508Z",
          "iopub.status.idle": "2024-04-18T02:37:05.758755Z",
          "shell.execute_reply": "2024-04-18T02:37:05.757883Z"
        },
        "id": "2e527cb5",
        "papermill": {
          "duration": 0.025491,
          "end_time": "2024-04-18T02:37:05.760644",
          "exception": false,
          "start_time": "2024-04-18T02:37:05.735153",
          "status": "completed"
        },
        "tags": []
      },
      "outputs": [],
      "source": [
        "# res_images = [np.array(x).reshape(image_shape) for x in X_res]"
      ]
    },
    {
      "cell_type": "code",
      "execution_count": null,
      "id": "70016fc6",
      "metadata": {
        "execution": {
          "iopub.execute_input": "2024-04-18T02:37:05.800180Z",
          "iopub.status.busy": "2024-04-18T02:37:05.799282Z",
          "iopub.status.idle": "2024-04-18T02:37:05.803976Z",
          "shell.execute_reply": "2024-04-18T02:37:05.802963Z"
        },
        "papermill": {
          "duration": 0.029093,
          "end_time": "2024-04-18T02:37:05.806680",
          "exception": false,
          "start_time": "2024-04-18T02:37:05.777587",
          "status": "completed"
        },
        "tags": [],
        "id": "70016fc6"
      },
      "outputs": [],
      "source": [
        "# !rm -rf /kaggle/working/train"
      ]
    },
    {
      "cell_type": "code",
      "execution_count": null,
      "id": "8a6a915d",
      "metadata": {
        "execution": {
          "iopub.execute_input": "2024-04-18T02:37:05.847232Z",
          "iopub.status.busy": "2024-04-18T02:37:05.846861Z",
          "iopub.status.idle": "2024-04-18T02:37:05.851473Z",
          "shell.execute_reply": "2024-04-18T02:37:05.850434Z"
        },
        "papermill": {
          "duration": 0.02692,
          "end_time": "2024-04-18T02:37:05.853487",
          "exception": false,
          "start_time": "2024-04-18T02:37:05.826567",
          "status": "completed"
        },
        "tags": [],
        "id": "8a6a915d"
      },
      "outputs": [],
      "source": [
        "# import os\n",
        "\n",
        "# names = {0:\"milDem\", 1:\"moderateDim\", 2:\"nonDem\", 3:\"veryMildDem\"}\n",
        "\n",
        "# # Create the directory if it doesn't exist\n",
        "# os.makedirs(\"/kaggle/working/train/\", exist_ok=True)\n",
        "\n",
        "# for i in range(len(y_res)):\n",
        "#     np.save(f\"/kaggle/working/train/{names[y_res[i]]}{i}.npy\", res_images[i])"
      ]
    },
    {
      "cell_type": "code",
      "execution_count": null,
      "id": "193a2fc6",
      "metadata": {
        "execution": {
          "iopub.execute_input": "2024-04-18T02:37:05.892839Z",
          "iopub.status.busy": "2024-04-18T02:37:05.892439Z",
          "iopub.status.idle": "2024-04-18T02:37:05.896739Z",
          "shell.execute_reply": "2024-04-18T02:37:05.895746Z"
        },
        "id": "193a2fc6",
        "papermill": {
          "duration": 0.027362,
          "end_time": "2024-04-18T02:37:05.899192",
          "exception": false,
          "start_time": "2024-04-18T02:37:05.871830",
          "status": "completed"
        },
        "tags": []
      },
      "outputs": [],
      "source": [
        "# import pandas as pd\n",
        "# labels = pd.DataFrame(y_res)\n",
        "# labels.value_counts()"
      ]
    },
    {
      "cell_type": "code",
      "execution_count": null,
      "id": "104a78fb",
      "metadata": {
        "execution": {
          "iopub.execute_input": "2024-04-18T02:37:05.940353Z",
          "iopub.status.busy": "2024-04-18T02:37:05.939440Z",
          "iopub.status.idle": "2024-04-18T02:37:05.943971Z",
          "shell.execute_reply": "2024-04-18T02:37:05.942983Z"
        },
        "papermill": {
          "duration": 0.02743,
          "end_time": "2024-04-18T02:37:05.946178",
          "exception": false,
          "start_time": "2024-04-18T02:37:05.918748",
          "status": "completed"
        },
        "tags": [],
        "id": "104a78fb"
      },
      "outputs": [],
      "source": [
        "# images = np.array(res_images)"
      ]
    },
    {
      "cell_type": "code",
      "execution_count": 4,
      "id": "452153ac",
      "metadata": {
        "execution": {
          "iopub.execute_input": "2024-04-18T02:37:05.982628Z",
          "iopub.status.busy": "2024-04-18T02:37:05.981734Z",
          "iopub.status.idle": "2024-04-18T02:37:06.131505Z",
          "shell.execute_reply": "2024-04-18T02:37:06.130271Z"
        },
        "papermill": {
          "duration": 0.170115,
          "end_time": "2024-04-18T02:37:06.133939",
          "exception": false,
          "start_time": "2024-04-18T02:37:05.963824",
          "status": "completed"
        },
        "tags": [],
        "id": "452153ac",
        "outputId": "a7fb8554-cb3f-484f-8b97-b4aa6d4001dd",
        "colab": {
          "base_uri": "https://localhost:8080/"
        }
      },
      "outputs": [
        {
          "output_type": "execute_result",
          "data": {
            "text/plain": [
              "10240"
            ]
          },
          "metadata": {},
          "execution_count": 4
        }
      ],
      "source": [
        "import os\n",
        "import numpy as np\n",
        "directory = '/content/train'\n",
        "\n",
        "files = [file for file in os.listdir(directory) if file.endswith('.jpg')]\n",
        "len(files)"
      ]
    },
    {
      "cell_type": "code",
      "execution_count": 5,
      "id": "f8db2f7d",
      "metadata": {
        "execution": {
          "iopub.execute_input": "2024-04-18T02:37:06.172969Z",
          "iopub.status.busy": "2024-04-18T02:37:06.172299Z",
          "iopub.status.idle": "2024-04-18T02:37:06.182597Z",
          "shell.execute_reply": "2024-04-18T02:37:06.181487Z"
        },
        "papermill": {
          "duration": 0.031884,
          "end_time": "2024-04-18T02:37:06.185224",
          "exception": false,
          "start_time": "2024-04-18T02:37:06.153340",
          "status": "completed"
        },
        "tags": [],
        "id": "f8db2f7d",
        "outputId": "8999cf7f-44db-4b95-c962-84f5c5ce55d3",
        "colab": {
          "base_uri": "https://localhost:8080/"
        }
      },
      "outputs": [
        {
          "output_type": "stream",
          "name": "stdout",
          "text": [
            "2560 2560 2560 2560\n"
          ]
        }
      ],
      "source": [
        "mildDem = [i for i in files if i.startswith(\"milDem\")]\n",
        "moderateDem = [i for i in files if \"moderateDim\" in i]\n",
        "nonDem = [i for i in files if \"nonDem\" in i]\n",
        "veryMild = [i for i in files if \"veryMildDem\" in i]\n",
        "print(len(mildDem), len(moderateDem), len(nonDem), len(veryMild))"
      ]
    },
    {
      "cell_type": "code",
      "execution_count": 6,
      "id": "1c1edbb8",
      "metadata": {
        "execution": {
          "iopub.execute_input": "2024-04-18T02:37:06.226007Z",
          "iopub.status.busy": "2024-04-18T02:37:06.225649Z",
          "iopub.status.idle": "2024-04-18T02:37:07.101287Z",
          "shell.execute_reply": "2024-04-18T02:37:07.100370Z"
        },
        "papermill": {
          "duration": 0.898685,
          "end_time": "2024-04-18T02:37:07.103527",
          "exception": false,
          "start_time": "2024-04-18T02:37:06.204842",
          "status": "completed"
        },
        "tags": [],
        "id": "1c1edbb8",
        "outputId": "53a34027-3b59-4741-fa08-baae9e5baec1",
        "colab": {
          "base_uri": "https://localhost:8080/"
        }
      },
      "outputs": [
        {
          "output_type": "execute_result",
          "data": {
            "text/plain": [
              "Class\n",
              "0    2560\n",
              "1    2560\n",
              "2    2560\n",
              "3    2560\n",
              "Name: count, dtype: int64"
            ]
          },
          "metadata": {},
          "execution_count": 6
        }
      ],
      "source": [
        "import pandas as pd\n",
        "l = [[mildDem, \"0\"], [moderateDem, \"1\"], [nonDem, \"2\"], [veryMild, \"3\"]]\n",
        "x = []\n",
        "for i in l:\n",
        "    for j in i[0]:\n",
        "        path = os.path.join(\"/content/train\", j)\n",
        "        x.append([i[1], path])\n",
        "\n",
        "df = pd.DataFrame(x, columns=[\"Class\", \"Path\"])\n",
        "x = df[\"Class\"].value_counts()\n",
        "x"
      ]
    },
    {
      "cell_type": "code",
      "source": [
        "from sklearn.model_selection import train_test_split\n",
        "\n",
        "train_images, test_images, train_labels, test_labels = train_test_split(df[\"Path\"], df[\"Class\"], test_size=0.2, random_state=42)"
      ],
      "metadata": {
        "id": "wakW7WFCdoDl"
      },
      "id": "wakW7WFCdoDl",
      "execution_count": 14,
      "outputs": []
    },
    {
      "cell_type": "code",
      "source": [
        "import pandas as pd\n",
        "from keras.preprocessing.image import ImageDataGenerator\n",
        "\n",
        "train_df = pd.DataFrame({\n",
        "    'filename': train_images,\n",
        "    'class': train_labels\n",
        "})\n",
        "val_df = pd.DataFrame({\n",
        "    'filename': test_images,\n",
        "    'class': test_labels\n",
        "})\n",
        "\n",
        "datagen = ImageDataGenerator(rescale=1.0/255.0)\n",
        "\n",
        "train_generator = datagen.flow_from_dataframe(\n",
        "    dataframe=train_df,\n",
        "    directory=None,\n",
        "    x_col='filename',\n",
        "    y_col='class',\n",
        "    target_size=(130, 110),\n",
        "    batch_size=32,\n",
        "    class_mode='categorical'\n",
        ")\n",
        "\n",
        "validation_generator = datagen.flow_from_dataframe(\n",
        "    dataframe=val_df,\n",
        "    directory=None,\n",
        "    x_col='filename',\n",
        "    y_col='class',\n",
        "    target_size=(130, 110),\n",
        "    batch_size=32,\n",
        "    class_mode='categorical'\n",
        ")"
      ],
      "metadata": {
        "id": "C4RUbgmMe5T-",
        "outputId": "c2e78acf-fb99-41ae-9737-857373308aa2",
        "colab": {
          "base_uri": "https://localhost:8080/"
        }
      },
      "id": "C4RUbgmMe5T-",
      "execution_count": 15,
      "outputs": [
        {
          "output_type": "stream",
          "name": "stdout",
          "text": [
            "Found 8192 validated image filenames belonging to 4 classes.\n",
            "Found 2048 validated image filenames belonging to 4 classes.\n"
          ]
        }
      ]
    },
    {
      "cell_type": "code",
      "execution_count": null,
      "id": "624b9031",
      "metadata": {
        "execution": {
          "iopub.execute_input": "2024-04-18T02:37:07.145731Z",
          "iopub.status.busy": "2024-04-18T02:37:07.144790Z",
          "iopub.status.idle": "2024-04-18T02:38:44.560161Z",
          "shell.execute_reply": "2024-04-18T02:38:44.558672Z"
        },
        "papermill": {
          "duration": 97.4401,
          "end_time": "2024-04-18T02:38:44.563803",
          "exception": false,
          "start_time": "2024-04-18T02:37:07.123703",
          "status": "completed"
        },
        "tags": [],
        "id": "624b9031"
      },
      "outputs": [],
      "source": [
        "# images = []\n",
        "# for i in df[\"Path\"]:\n",
        "#     images.append(np.load(i))\n",
        "# images = np.array(images)"
      ]
    },
    {
      "cell_type": "code",
      "execution_count": null,
      "metadata": {
        "execution": {
          "iopub.execute_input": "2024-04-18T02:39:07.496107Z",
          "iopub.status.busy": "2024-04-18T02:39:07.495430Z",
          "iopub.status.idle": "2024-04-18T02:39:07.501490Z",
          "shell.execute_reply": "2024-04-18T02:39:07.500592Z"
        },
        "id": "b0abfff1",
        "papermill": {
          "duration": 0.030075,
          "end_time": "2024-04-18T02:39:07.503833",
          "exception": false,
          "start_time": "2024-04-18T02:39:07.473758",
          "status": "completed"
        },
        "tags": []
      },
      "outputs": [],
      "source": [
        "# from keras.utils import to_categorical\n",
        "\n",
        "# df[\"Class\"] = to_categorical(df[\"Class\"], num_classes=4)\n"
      ],
      "id": "b0abfff1"
    },
    {
      "cell_type": "code",
      "source": [
        "# from keras.preprocessing.image import ImageDataGenerator\n",
        "# from sklearn.model_selection import train_test_split\n",
        "\n",
        "# train_df, test_df = train_test_split(df, test_size=0.2, random_state=42)\n",
        "\n",
        "# datagen = ImageDataGenerator(rescale=1.0/255.0)\n",
        "\n",
        "# input_shape = (208, 176, 3)\n",
        "\n",
        "# train_generator = datagen.flow_from_dataframe(\n",
        "#     dataframe=train_df,\n",
        "#     directory=None,\n",
        "#     x_col=\"Path\",\n",
        "#     y_col=\"Class\",\n",
        "#     class_mode=\"categorical\",\n",
        "#     target_size=(input_shape[0], input_shape[1]),\n",
        "#     batch_size=32\n",
        "# )\n",
        "\n"
      ],
      "metadata": {
        "id": "ATwbeoGpAo2F"
      },
      "id": "ATwbeoGpAo2F",
      "execution_count": 11,
      "outputs": []
    },
    {
      "cell_type": "code",
      "source": [
        "# test_generator = datagen.flow_from_dataframe(\n",
        "#     dataframe=test_df,\n",
        "#     directory=None,\n",
        "#     x_col=\"Path\",\n",
        "#     y_col=\"Class\",\n",
        "#     class_mode=\"categorical\",\n",
        "#     target_size=(input_shape[0], input_shape[1]),\n",
        "#     batch_size=32\n",
        "# )"
      ],
      "metadata": {
        "id": "3oFuuYkbCSJH"
      },
      "id": "3oFuuYkbCSJH",
      "execution_count": 12,
      "outputs": []
    },
    {
      "cell_type": "code",
      "execution_count": null,
      "id": "7506b276",
      "metadata": {
        "execution": {
          "iopub.execute_input": "2024-04-18T02:38:53.639123Z",
          "iopub.status.busy": "2024-04-18T02:38:53.638279Z",
          "iopub.status.idle": "2024-04-18T02:38:53.817470Z",
          "shell.execute_reply": "2024-04-18T02:38:53.816592Z"
        },
        "papermill": {
          "duration": 0.200508,
          "end_time": "2024-04-18T02:38:53.819600",
          "exception": false,
          "start_time": "2024-04-18T02:38:53.619092",
          "status": "completed"
        },
        "tags": [],
        "id": "7506b276",
        "outputId": "2ad8b207-18ed-4601-a197-ac5f553f97f4"
      },
      "outputs": [
        {
          "data": {
            "text/plain": [
              "0"
            ]
          },
          "execution_count": 30,
          "metadata": {},
          "output_type": "execute_result"
        }
      ],
      "source": [
        "# import gc\n",
        "\n",
        "# # Assume `arr` is your numpy array\n",
        "# del images\n",
        "\n",
        "# # Run the garbage collector\n",
        "# gc.collect()"
      ]
    },
    {
      "cell_type": "code",
      "execution_count": 8,
      "id": "ccda1dbf",
      "metadata": {
        "execution": {
          "iopub.execute_input": "2024-04-18T02:38:53.857097Z",
          "iopub.status.busy": "2024-04-18T02:38:53.856717Z",
          "iopub.status.idle": "2024-04-18T02:38:53.866341Z",
          "shell.execute_reply": "2024-04-18T02:38:53.865213Z"
        },
        "id": "ccda1dbf",
        "papermill": {
          "duration": 0.03134,
          "end_time": "2024-04-18T02:38:53.868920",
          "exception": false,
          "start_time": "2024-04-18T02:38:53.837580",
          "status": "completed"
        },
        "tags": []
      },
      "outputs": [],
      "source": [
        "# from sklearn.preprocessing import LabelEncoder\n",
        "# label_encoder = LabelEncoder()\n",
        "# train_labels_encoded = label_encoder.fit_transform(train_labels)\n",
        "# test_labels_encoded = label_encoder.transform(test_labels)\n",
        "\n",
        "# # Verify the encoded labels\n",
        "# print(train_labels_encoded)\n",
        "# print(test_labels_encoded)"
      ]
    },
    {
      "cell_type": "code",
      "execution_count": 9,
      "id": "30f00fe0",
      "metadata": {
        "execution": {
          "iopub.execute_input": "2024-04-18T02:38:53.912633Z",
          "iopub.status.busy": "2024-04-18T02:38:53.911929Z",
          "iopub.status.idle": "2024-04-18T02:38:53.917957Z",
          "shell.execute_reply": "2024-04-18T02:38:53.916923Z"
        },
        "id": "30f00fe0",
        "papermill": {
          "duration": 0.029612,
          "end_time": "2024-04-18T02:38:53.920252",
          "exception": false,
          "start_time": "2024-04-18T02:38:53.890640",
          "status": "completed"
        },
        "tags": []
      },
      "outputs": [],
      "source": [
        "# print(train_images.shape, test_images.shape, train_labels_encoded.shape, test_labels_encoded.shape)"
      ]
    },
    {
      "cell_type": "code",
      "execution_count": 10,
      "id": "306339a6",
      "metadata": {
        "execution": {
          "iopub.execute_input": "2024-04-18T02:38:53.958517Z",
          "iopub.status.busy": "2024-04-18T02:38:53.957761Z",
          "iopub.status.idle": "2024-04-18T02:38:53.965634Z",
          "shell.execute_reply": "2024-04-18T02:38:53.964443Z"
        },
        "id": "306339a6",
        "papermill": {
          "duration": 0.029755,
          "end_time": "2024-04-18T02:38:53.968495",
          "exception": false,
          "start_time": "2024-04-18T02:38:53.938740",
          "status": "completed"
        },
        "tags": []
      },
      "outputs": [],
      "source": [
        "# print(test_labels)\n",
        "# test_labels_encoded"
      ]
    },
    {
      "cell_type": "code",
      "execution_count": null,
      "id": "9492c3d2",
      "metadata": {
        "execution": {
          "iopub.execute_input": "2024-04-18T02:38:54.011306Z",
          "iopub.status.busy": "2024-04-18T02:38:54.010327Z",
          "iopub.status.idle": "2024-04-18T02:38:54.015049Z",
          "shell.execute_reply": "2024-04-18T02:38:54.013931Z"
        },
        "id": "9492c3d2",
        "papermill": {
          "duration": 0.028656,
          "end_time": "2024-04-18T02:38:54.017474",
          "exception": false,
          "start_time": "2024-04-18T02:38:53.988818",
          "status": "completed"
        },
        "tags": []
      },
      "outputs": [],
      "source": [
        "# print(x.index, x.values, x.array)"
      ]
    },
    {
      "cell_type": "code",
      "execution_count": null,
      "id": "5f7b291d",
      "metadata": {
        "execution": {
          "iopub.execute_input": "2024-04-18T02:38:54.056208Z",
          "iopub.status.busy": "2024-04-18T02:38:54.055371Z",
          "iopub.status.idle": "2024-04-18T02:38:54.060235Z",
          "shell.execute_reply": "2024-04-18T02:38:54.059167Z"
        },
        "id": "5f7b291d",
        "papermill": {
          "duration": 0.026178,
          "end_time": "2024-04-18T02:38:54.062485",
          "exception": false,
          "start_time": "2024-04-18T02:38:54.036307",
          "status": "completed"
        },
        "tags": []
      },
      "outputs": [],
      "source": [
        "# s = x / len(files)\n",
        "# class_weights = {i:j for i, j in zip(s.index, s.values)}\n",
        "\n",
        "# class_weights\n",
        "# Optional normalization (weights sum to 1)\n",
        "# total_weight = sum(class_weights.values())\n",
        "# class_weights = {class_label: weight / total_weight for class_label, weight in class_weights.items()}\n"
      ]
    },
    {
      "cell_type": "code",
      "execution_count": 16,
      "id": "d368f928",
      "metadata": {
        "execution": {
          "iopub.execute_input": "2024-04-18T02:38:54.105263Z",
          "iopub.status.busy": "2024-04-18T02:38:54.104881Z",
          "iopub.status.idle": "2024-04-18T02:39:06.664758Z",
          "shell.execute_reply": "2024-04-18T02:39:06.663697Z"
        },
        "id": "d368f928",
        "papermill": {
          "duration": 12.584315,
          "end_time": "2024-04-18T02:39:06.667503",
          "exception": false,
          "start_time": "2024-04-18T02:38:54.083188",
          "status": "completed"
        },
        "tags": []
      },
      "outputs": [],
      "source": [
        "from keras.models import Sequential\n",
        "from keras.layers import Conv2D, MaxPooling2D, Flatten, Dense, Dropout, Input, BatchNormalization\n",
        "from keras.callbacks import EarlyStopping, LearningRateScheduler\n",
        "from keras.utils import to_categorical\n",
        "from sklearn.utils.class_weight import compute_sample_weight\n",
        "from sklearn.model_selection import train_test_split\n",
        "import numpy as np\n",
        "\n",
        "def conv_block(filters, act='relu'):\n",
        "    \"\"\"Defining a Convolutional NN block for a Sequential CNN model. \"\"\"\n",
        "\n",
        "    block = Sequential()\n",
        "    block.add(Conv2D(filters, 3, activation=act, padding='same'))\n",
        "    block.add(Conv2D(filters, 3, activation=act, padding='same'))\n",
        "    block.add(BatchNormalization())\n",
        "    block.add(MaxPooling2D((2, 2)))\n",
        "\n",
        "    return block"
      ]
    },
    {
      "cell_type": "code",
      "execution_count": 17,
      "id": "f4928ef0",
      "metadata": {
        "execution": {
          "iopub.execute_input": "2024-04-18T02:39:06.711762Z",
          "iopub.status.busy": "2024-04-18T02:39:06.710547Z",
          "iopub.status.idle": "2024-04-18T02:39:06.716987Z",
          "shell.execute_reply": "2024-04-18T02:39:06.715960Z"
        },
        "id": "f4928ef0",
        "papermill": {
          "duration": 0.030851,
          "end_time": "2024-04-18T02:39:06.719383",
          "exception": false,
          "start_time": "2024-04-18T02:39:06.688532",
          "status": "completed"
        },
        "tags": []
      },
      "outputs": [],
      "source": [
        "def dense_block(units, dropout_rate, act='relu'):\n",
        "    \"\"\"Defining a Dense NN block for a Sequential CNN model. \"\"\"\n",
        "\n",
        "    block = Sequential()\n",
        "    block.add(Dense(units, activation=act))\n",
        "    block.add(BatchNormalization())\n",
        "    block.add(Dropout(dropout_rate))\n",
        "\n",
        "    return block"
      ]
    },
    {
      "cell_type": "code",
      "execution_count": null,
      "id": "88cd85eb",
      "metadata": {
        "execution": {
          "iopub.execute_input": "2024-04-18T02:39:06.758629Z",
          "iopub.status.busy": "2024-04-18T02:39:06.758226Z",
          "iopub.status.idle": "2024-04-18T02:39:06.762905Z",
          "shell.execute_reply": "2024-04-18T02:39:06.761702Z"
        },
        "id": "88cd85eb",
        "papermill": {
          "duration": 0.026972,
          "end_time": "2024-04-18T02:39:06.765287",
          "exception": false,
          "start_time": "2024-04-18T02:39:06.738315",
          "status": "completed"
        },
        "tags": []
      },
      "outputs": [],
      "source": [
        "# !pip install tensorflow_addons\n"
      ]
    },
    {
      "cell_type": "code",
      "execution_count": 18,
      "id": "cefb4907",
      "metadata": {
        "execution": {
          "iopub.execute_input": "2024-04-18T02:39:06.808240Z",
          "iopub.status.busy": "2024-04-18T02:39:06.807861Z",
          "iopub.status.idle": "2024-04-18T02:39:07.452328Z",
          "shell.execute_reply": "2024-04-18T02:39:07.451242Z"
        },
        "id": "cefb4907",
        "papermill": {
          "duration": 0.668995,
          "end_time": "2024-04-18T02:39:07.454927",
          "exception": false,
          "start_time": "2024-04-18T02:39:06.785932",
          "status": "completed"
        },
        "tags": []
      },
      "outputs": [],
      "source": [
        "import tensorflow as tf\n",
        "\n",
        "class F1Score(tf.keras.metrics.Metric):\n",
        "    def __init__(self, num_classes, **kwargs):\n",
        "        super(F1Score, self).__init__(**kwargs)\n",
        "        self.num_classes = num_classes\n",
        "        self.precision = tf.keras.metrics.Precision()\n",
        "        self.recall = tf.keras.metrics.Recall()\n",
        "\n",
        "    def update_state(self, y_true, y_pred, sample_weight=None):\n",
        "        self.precision.update_state(y_true, y_pred, sample_weight)\n",
        "        self.recall.update_state(y_true, y_pred, sample_weight)\n",
        "\n",
        "    def result(self):\n",
        "        precision = self.precision.result()\n",
        "        recall = self.recall.result()\n",
        "        return 2 * ((precision * recall) / (precision + recall + tf.keras.backend.epsilon()))\n",
        "\n",
        "    def reset_state(self):\n",
        "        self.precision.reset_states()\n",
        "        self.recall.reset_states()\n",
        "\n",
        "METRICS = [tf.keras.metrics.CategoricalAccuracy(name='acc'),\n",
        "           tf.keras.metrics.AUC(name='auc'),\n",
        "           F1Score(num_classes=4)]"
      ]
    },
    {
      "cell_type": "code",
      "execution_count": 21,
      "id": "2c437ddc",
      "metadata": {
        "execution": {
          "iopub.execute_input": "2024-04-18T02:39:07.546370Z",
          "iopub.status.busy": "2024-04-18T02:39:07.545509Z",
          "iopub.status.idle": "2024-04-18T02:39:07.552088Z",
          "shell.execute_reply": "2024-04-18T02:39:07.551044Z"
        },
        "id": "2c437ddc",
        "papermill": {
          "duration": 0.02984,
          "end_time": "2024-04-18T02:39:07.554123",
          "exception": false,
          "start_time": "2024-04-18T02:39:07.524283",
          "status": "completed"
        },
        "tags": []
      },
      "outputs": [],
      "source": [
        "def construct_model(act='relu'):\n",
        "    \"\"\"Constructing a Sequential CNN architecture for performing the classification task. \"\"\"\n",
        "\n",
        "    model = Sequential([\n",
        "        Input(shape=(130, 110, 3)),\n",
        "#         conv_block(16),\n",
        "        conv_block(32),\n",
        "        conv_block(64),\n",
        "        conv_block(128),\n",
        "        Dropout(0.2),\n",
        "        conv_block(256),\n",
        "        Dropout(0.2),\n",
        "        Flatten(),\n",
        "        dense_block(512, 0.7),\n",
        "        dense_block(256, 0.5),\n",
        "        dense_block(64, 0.3),\n",
        "        Dense(4, activation='softmax')\n",
        "    ], name = \"cnn_model\")\n",
        "\n",
        "    return model"
      ]
    },
    {
      "cell_type": "code",
      "execution_count": 22,
      "id": "e65d8f5c",
      "metadata": {
        "execution": {
          "iopub.execute_input": "2024-04-18T02:39:07.594254Z",
          "iopub.status.busy": "2024-04-18T02:39:07.593396Z",
          "iopub.status.idle": "2024-04-18T02:39:07.895989Z",
          "shell.execute_reply": "2024-04-18T02:39:07.894794Z"
        },
        "id": "e65d8f5c",
        "outputId": "2d565057-280a-48f5-fad0-3bb28b14a2c4",
        "papermill": {
          "duration": 0.326608,
          "end_time": "2024-04-18T02:39:07.898360",
          "exception": false,
          "start_time": "2024-04-18T02:39:07.571752",
          "status": "completed"
        },
        "tags": [],
        "colab": {
          "base_uri": "https://localhost:8080/"
        }
      },
      "outputs": [
        {
          "output_type": "stream",
          "name": "stdout",
          "text": [
            "Model: \"cnn_model\"\n",
            "_________________________________________________________________\n",
            " Layer (type)                Output Shape              Param #   \n",
            "=================================================================\n",
            " sequential_7 (Sequential)   (None, 65, 55, 32)        10272     \n",
            "                                                                 \n",
            " sequential_8 (Sequential)   (None, 32, 27, 64)        55680     \n",
            "                                                                 \n",
            " sequential_9 (Sequential)   (None, 16, 13, 128)       221952    \n",
            "                                                                 \n",
            " dropout_5 (Dropout)         (None, 16, 13, 128)       0         \n",
            "                                                                 \n",
            " sequential_10 (Sequential)  (None, 8, 6, 256)         886272    \n",
            "                                                                 \n",
            " dropout_6 (Dropout)         (None, 8, 6, 256)         0         \n",
            "                                                                 \n",
            " flatten_1 (Flatten)         (None, 12288)             0         \n",
            "                                                                 \n",
            " sequential_11 (Sequential)  (None, 512)               6294016   \n",
            "                                                                 \n",
            " sequential_12 (Sequential)  (None, 256)               132352    \n",
            "                                                                 \n",
            " sequential_13 (Sequential)  (None, 64)                16704     \n",
            "                                                                 \n",
            " dense_7 (Dense)             (None, 4)                 260       \n",
            "                                                                 \n",
            "=================================================================\n",
            "Total params: 7617508 (29.06 MB)\n",
            "Trainable params: 7614884 (29.05 MB)\n",
            "Non-trainable params: 2624 (10.25 KB)\n",
            "_________________________________________________________________\n"
          ]
        }
      ],
      "source": [
        "model = construct_model()\n",
        "model.compile(optimizer='adam',\n",
        "              loss='categorical_crossentropy',\n",
        "              metrics=METRICS)\n",
        "\n",
        "model.summary()\n"
      ]
    },
    {
      "cell_type": "code",
      "execution_count": 23,
      "id": "0eb48594",
      "metadata": {
        "execution": {
          "iopub.execute_input": "2024-04-18T02:39:07.943693Z",
          "iopub.status.busy": "2024-04-18T02:39:07.943043Z",
          "iopub.status.idle": "2024-04-18T02:39:07.952494Z",
          "shell.execute_reply": "2024-04-18T02:39:07.951625Z"
        },
        "id": "0eb48594",
        "papermill": {
          "duration": 0.034501,
          "end_time": "2024-04-18T02:39:07.954608",
          "exception": false,
          "start_time": "2024-04-18T02:39:07.920107",
          "status": "completed"
        },
        "tags": []
      },
      "outputs": [],
      "source": [
        "from keras.optimizers import Adam\n",
        "def lr_schedule(epoch, learning_rate):\n",
        "    if epoch < 20:\n",
        "        return learning_rate\n",
        "    else:\n",
        "        if epoch % 2 == 0:\n",
        "          return learning_rate * 0.95\n",
        "        else:\n",
        "          return learning_rate\n",
        "\n",
        "lr_scheduler = LearningRateScheduler(lr_schedule, verbose=1)\n",
        "\n",
        "initial_learning_rate = 0.001\n",
        "optimizer = Adam(learning_rate=initial_learning_rate)"
      ]
    },
    {
      "cell_type": "code",
      "execution_count": 24,
      "id": "db286fcd",
      "metadata": {
        "execution": {
          "iopub.execute_input": "2024-04-18T02:39:07.998217Z",
          "iopub.status.busy": "2024-04-18T02:39:07.997792Z",
          "iopub.status.idle": "2024-04-18T02:39:08.004556Z",
          "shell.execute_reply": "2024-04-18T02:39:08.003463Z"
        },
        "id": "db286fcd",
        "papermill": {
          "duration": 0.032177,
          "end_time": "2024-04-18T02:39:08.007036",
          "exception": false,
          "start_time": "2024-04-18T02:39:07.974859",
          "status": "completed"
        },
        "tags": []
      },
      "outputs": [],
      "source": [
        "class MyCallback(tf.keras.callbacks.Callback):\n",
        "    def on_epoch_end(self, epoch, logs={}):\n",
        "        if logs.get('val_acc') > 0.995:\n",
        "            print(\"\\nReached accuracy threshold! Terminating training.\")\n",
        "            self.model.stop_training = True\n",
        "\n",
        "my_callback = MyCallback()\n",
        "\n",
        "CALLBACKS = [my_callback, lr_scheduler]"
      ]
    },
    {
      "cell_type": "code",
      "execution_count": 25,
      "id": "088f04a8",
      "metadata": {
        "execution": {
          "iopub.execute_input": "2024-04-18T02:39:08.051933Z",
          "iopub.status.busy": "2024-04-18T02:39:08.051511Z",
          "iopub.status.idle": "2024-04-18T03:07:36.767487Z",
          "shell.execute_reply": "2024-04-18T03:07:36.766432Z"
        },
        "id": "088f04a8",
        "outputId": "b4c235d7-0dfe-4073-d295-1a1a0ccc1fc6",
        "papermill": {
          "duration": 1708.74153,
          "end_time": "2024-04-18T03:07:36.770224",
          "exception": false,
          "start_time": "2024-04-18T02:39:08.028694",
          "status": "completed"
        },
        "tags": [],
        "colab": {
          "base_uri": "https://localhost:8080/"
        }
      },
      "outputs": [
        {
          "output_type": "stream",
          "name": "stdout",
          "text": [
            "\n",
            "Epoch 1: LearningRateScheduler setting learning rate to 0.0010000000474974513.\n",
            "Epoch 1/50\n",
            "256/256 [==============================] - ETA: 0s - loss: 1.4000 - acc: 0.4315 - auc: 0.6933 - f1_score: 0.3755"
          ]
        },
        {
          "output_type": "stream",
          "name": "stderr",
          "text": [
            "/usr/local/lib/python3.10/dist-packages/keras/src/engine/training.py:2723: UserWarning: Metric F1Score implements a `reset_states()` method; rename it to `reset_state()` (without the final \"s\"). The name `reset_states()` has been deprecated to improve API consistency.\n",
            "  m.reset_state()\n"
          ]
        },
        {
          "output_type": "stream",
          "name": "stdout",
          "text": [
            "\b\b\b\b\b\b\b\b\b\b\b\b\b\b\b\b\b\b\b\b\b\b\b\b\b\b\b\b\b\b\b\b\b\b\b\b\b\b\b\b\b\b\b\b\b\b\b\b\b\b\b\b\b\b\b\b\b\b\b\b\b\b\b\b\b\b\b\b\b\b\b\b\b\b\b\b\b\b\b\b\b\b\b\b\b\b\b\b\b\b\b\b\b\b\b\b\b\b\b\b\b\b\b\b\b\b\b\b\b\b\b\b\r256/256 [==============================] - 36s 77ms/step - loss: 1.4000 - acc: 0.4315 - auc: 0.6933 - f1_score: 0.3755 - val_loss: 6.9080 - val_acc: 0.2573 - val_auc: 0.5049 - val_f1_score: 0.2573 - lr: 0.0010\n",
            "\n",
            "Epoch 2: LearningRateScheduler setting learning rate to 0.0010000000474974513.\n",
            "Epoch 2/50\n",
            "256/256 [==============================] - 20s 77ms/step - loss: 0.8207 - acc: 0.6295 - auc: 0.8776 - f1_score: 0.5964 - val_loss: 13.9957 - val_acc: 0.2573 - val_auc: 0.5093 - val_f1_score: 0.2573 - lr: 0.0010\n",
            "\n",
            "Epoch 3: LearningRateScheduler setting learning rate to 0.0010000000474974513.\n",
            "Epoch 3/50\n",
            "256/256 [==============================] - 24s 93ms/step - loss: 0.7027 - acc: 0.6766 - auc: 0.9086 - f1_score: 0.6525 - val_loss: 3.2876 - val_acc: 0.2896 - val_auc: 0.6221 - val_f1_score: 0.2786 - lr: 0.0010\n",
            "\n",
            "Epoch 4: LearningRateScheduler setting learning rate to 0.0010000000474974513.\n",
            "Epoch 4/50\n",
            "256/256 [==============================] - 23s 89ms/step - loss: 0.6092 - acc: 0.7311 - auc: 0.9317 - f1_score: 0.7135 - val_loss: 10.6084 - val_acc: 0.2622 - val_auc: 0.5338 - val_f1_score: 0.2600 - lr: 0.0010\n",
            "\n",
            "Epoch 5: LearningRateScheduler setting learning rate to 0.0010000000474974513.\n",
            "Epoch 5/50\n",
            "256/256 [==============================] - 21s 81ms/step - loss: 0.5357 - acc: 0.7682 - auc: 0.9475 - f1_score: 0.7600 - val_loss: 2.3508 - val_acc: 0.5098 - val_auc: 0.7804 - val_f1_score: 0.5104 - lr: 0.0010\n",
            "\n",
            "Epoch 6: LearningRateScheduler setting learning rate to 0.0010000000474974513.\n",
            "Epoch 6/50\n",
            "256/256 [==============================] - 22s 84ms/step - loss: 0.4846 - acc: 0.7947 - auc: 0.9575 - f1_score: 0.7924 - val_loss: 2.1704 - val_acc: 0.4888 - val_auc: 0.7891 - val_f1_score: 0.4898 - lr: 0.0010\n",
            "\n",
            "Epoch 7: LearningRateScheduler setting learning rate to 0.0010000000474974513.\n",
            "Epoch 7/50\n",
            "256/256 [==============================] - 20s 79ms/step - loss: 0.4213 - acc: 0.8192 - auc: 0.9671 - f1_score: 0.8146 - val_loss: 3.5491 - val_acc: 0.2729 - val_auc: 0.6160 - val_f1_score: 0.2705 - lr: 0.0010\n",
            "\n",
            "Epoch 8: LearningRateScheduler setting learning rate to 0.0010000000474974513.\n",
            "Epoch 8/50\n",
            "256/256 [==============================] - 21s 82ms/step - loss: 0.3823 - acc: 0.8369 - auc: 0.9727 - f1_score: 0.8342 - val_loss: 0.4518 - val_acc: 0.8145 - val_auc: 0.9651 - val_f1_score: 0.8085 - lr: 0.0010\n",
            "\n",
            "Epoch 9: LearningRateScheduler setting learning rate to 0.0010000000474974513.\n",
            "Epoch 9/50\n",
            "256/256 [==============================] - 20s 78ms/step - loss: 0.3368 - acc: 0.8568 - auc: 0.9786 - f1_score: 0.8580 - val_loss: 0.3224 - val_acc: 0.8633 - val_auc: 0.9818 - val_f1_score: 0.8627 - lr: 0.0010\n",
            "\n",
            "Epoch 10: LearningRateScheduler setting learning rate to 0.0010000000474974513.\n",
            "Epoch 10/50\n",
            "256/256 [==============================] - 21s 80ms/step - loss: 0.2885 - acc: 0.8834 - auc: 0.9843 - f1_score: 0.8828 - val_loss: 4.6760 - val_acc: 0.3843 - val_auc: 0.5797 - val_f1_score: 0.3843 - lr: 0.0010\n",
            "\n",
            "Epoch 11: LearningRateScheduler setting learning rate to 0.0010000000474974513.\n",
            "Epoch 11/50\n",
            "256/256 [==============================] - 21s 80ms/step - loss: 0.3024 - acc: 0.8813 - auc: 0.9829 - f1_score: 0.8804 - val_loss: 0.4607 - val_acc: 0.8027 - val_auc: 0.9641 - val_f1_score: 0.8020 - lr: 0.0010\n",
            "\n",
            "Epoch 12: LearningRateScheduler setting learning rate to 0.0010000000474974513.\n",
            "Epoch 12/50\n",
            "256/256 [==============================] - 20s 79ms/step - loss: 0.2065 - acc: 0.9169 - auc: 0.9919 - f1_score: 0.9174 - val_loss: 0.2228 - val_acc: 0.9067 - val_auc: 0.9912 - val_f1_score: 0.9072 - lr: 0.0010\n",
            "\n",
            "Epoch 13: LearningRateScheduler setting learning rate to 0.0010000000474974513.\n",
            "Epoch 13/50\n",
            "256/256 [==============================] - 21s 80ms/step - loss: 0.1829 - acc: 0.9353 - auc: 0.9933 - f1_score: 0.9355 - val_loss: 0.5928 - val_acc: 0.7744 - val_auc: 0.9498 - val_f1_score: 0.7720 - lr: 0.0010\n",
            "\n",
            "Epoch 14: LearningRateScheduler setting learning rate to 0.0010000000474974513.\n",
            "Epoch 14/50\n",
            "256/256 [==============================] - 20s 77ms/step - loss: 0.1448 - acc: 0.9484 - auc: 0.9956 - f1_score: 0.9487 - val_loss: 0.0958 - val_acc: 0.9634 - val_auc: 0.9982 - val_f1_score: 0.9641 - lr: 0.0010\n",
            "\n",
            "Epoch 15: LearningRateScheduler setting learning rate to 0.0010000000474974513.\n",
            "Epoch 15/50\n",
            "256/256 [==============================] - 21s 81ms/step - loss: 0.1158 - acc: 0.9594 - auc: 0.9969 - f1_score: 0.9591 - val_loss: 0.4638 - val_acc: 0.8369 - val_auc: 0.9746 - val_f1_score: 0.8372 - lr: 0.0010\n",
            "\n",
            "Epoch 16: LearningRateScheduler setting learning rate to 0.0010000000474974513.\n",
            "Epoch 16/50\n",
            "256/256 [==============================] - 20s 78ms/step - loss: 0.0811 - acc: 0.9694 - auc: 0.9986 - f1_score: 0.9696 - val_loss: 0.1017 - val_acc: 0.9590 - val_auc: 0.9981 - val_f1_score: 0.9599 - lr: 0.0010\n",
            "\n",
            "Epoch 17: LearningRateScheduler setting learning rate to 0.0010000000474974513.\n",
            "Epoch 17/50\n",
            "256/256 [==============================] - 21s 80ms/step - loss: 0.0991 - acc: 0.9668 - auc: 0.9975 - f1_score: 0.9668 - val_loss: 0.2987 - val_acc: 0.8901 - val_auc: 0.9878 - val_f1_score: 0.8899 - lr: 0.0010\n",
            "\n",
            "Epoch 18: LearningRateScheduler setting learning rate to 0.0010000000474974513.\n",
            "Epoch 18/50\n",
            "256/256 [==============================] - 20s 78ms/step - loss: 0.0839 - acc: 0.9707 - auc: 0.9982 - f1_score: 0.9710 - val_loss: 0.8063 - val_acc: 0.8101 - val_auc: 0.9464 - val_f1_score: 0.8102 - lr: 0.0010\n",
            "\n",
            "Epoch 19: LearningRateScheduler setting learning rate to 0.0010000000474974513.\n",
            "Epoch 19/50\n",
            "256/256 [==============================] - 21s 82ms/step - loss: 0.0802 - acc: 0.9722 - auc: 0.9982 - f1_score: 0.9726 - val_loss: 0.1535 - val_acc: 0.9434 - val_auc: 0.9950 - val_f1_score: 0.9435 - lr: 0.0010\n",
            "\n",
            "Epoch 20: LearningRateScheduler setting learning rate to 0.0010000000474974513.\n",
            "Epoch 20/50\n",
            "256/256 [==============================] - 20s 77ms/step - loss: 0.0779 - acc: 0.9749 - auc: 0.9979 - f1_score: 0.9748 - val_loss: 0.1509 - val_acc: 0.9434 - val_auc: 0.9961 - val_f1_score: 0.9433 - lr: 0.0010\n",
            "\n",
            "Epoch 21: LearningRateScheduler setting learning rate to 0.0009500000451225787.\n",
            "Epoch 21/50\n",
            "256/256 [==============================] - 21s 80ms/step - loss: 0.0759 - acc: 0.9736 - auc: 0.9985 - f1_score: 0.9734 - val_loss: 0.4292 - val_acc: 0.8833 - val_auc: 0.9763 - val_f1_score: 0.8845 - lr: 9.5000e-04\n",
            "\n",
            "Epoch 22: LearningRateScheduler setting learning rate to 0.0009500000160187483.\n",
            "Epoch 22/50\n",
            "256/256 [==============================] - 20s 78ms/step - loss: 0.0602 - acc: 0.9806 - auc: 0.9987 - f1_score: 0.9807 - val_loss: 0.2852 - val_acc: 0.9126 - val_auc: 0.9871 - val_f1_score: 0.9126 - lr: 9.5000e-04\n",
            "\n",
            "Epoch 23: LearningRateScheduler setting learning rate to 0.0009025000152178108.\n",
            "Epoch 23/50\n",
            "256/256 [==============================] - 21s 82ms/step - loss: 0.0511 - acc: 0.9824 - auc: 0.9991 - f1_score: 0.9823 - val_loss: 0.2058 - val_acc: 0.9360 - val_auc: 0.9914 - val_f1_score: 0.9347 - lr: 9.0250e-04\n",
            "\n",
            "Epoch 24: LearningRateScheduler setting learning rate to 0.0009025000035762787.\n",
            "Epoch 24/50\n",
            "256/256 [==============================] - 21s 81ms/step - loss: 0.0473 - acc: 0.9839 - auc: 0.9992 - f1_score: 0.9838 - val_loss: 0.1098 - val_acc: 0.9663 - val_auc: 0.9955 - val_f1_score: 0.9663 - lr: 9.0250e-04\n",
            "\n",
            "Epoch 25: LearningRateScheduler setting learning rate to 0.0008573750033974647.\n",
            "Epoch 25/50\n",
            "256/256 [==============================] - 20s 79ms/step - loss: 0.0483 - acc: 0.9845 - auc: 0.9989 - f1_score: 0.9847 - val_loss: 0.2330 - val_acc: 0.9185 - val_auc: 0.9906 - val_f1_score: 0.9186 - lr: 8.5737e-04\n",
            "\n",
            "Epoch 26: LearningRateScheduler setting learning rate to 0.0008573749801144004.\n",
            "Epoch 26/50\n",
            "256/256 [==============================] - 21s 83ms/step - loss: 0.0447 - acc: 0.9858 - auc: 0.9991 - f1_score: 0.9858 - val_loss: 0.1450 - val_acc: 0.9487 - val_auc: 0.9944 - val_f1_score: 0.9489 - lr: 8.5737e-04\n",
            "\n",
            "Epoch 27: LearningRateScheduler setting learning rate to 0.0008145062311086804.\n",
            "Epoch 27/50\n",
            "256/256 [==============================] - 20s 80ms/step - loss: 0.0408 - acc: 0.9857 - auc: 0.9992 - f1_score: 0.9855 - val_loss: 0.0884 - val_acc: 0.9678 - val_auc: 0.9978 - val_f1_score: 0.9682 - lr: 8.1451e-04\n",
            "\n",
            "Epoch 28: LearningRateScheduler setting learning rate to 0.0008145062020048499.\n",
            "Epoch 28/50\n",
            "256/256 [==============================] - 21s 81ms/step - loss: 0.0371 - acc: 0.9883 - auc: 0.9995 - f1_score: 0.9882 - val_loss: 0.0203 - val_acc: 0.9922 - val_auc: 0.9999 - val_f1_score: 0.9922 - lr: 8.1451e-04\n",
            "\n",
            "Epoch 29: LearningRateScheduler setting learning rate to 0.0007737808919046074.\n",
            "Epoch 29/50\n",
            "256/256 [==============================] - 21s 81ms/step - loss: 0.0390 - acc: 0.9875 - auc: 0.9989 - f1_score: 0.9876 - val_loss: 0.0396 - val_acc: 0.9854 - val_auc: 0.9997 - val_f1_score: 0.9853 - lr: 7.7378e-04\n",
            "\n",
            "Epoch 30: LearningRateScheduler setting learning rate to 0.000773780862800777.\n",
            "Epoch 30/50\n",
            "256/256 [==============================] - 20s 79ms/step - loss: 0.0361 - acc: 0.9878 - auc: 0.9993 - f1_score: 0.9878 - val_loss: 0.0999 - val_acc: 0.9673 - val_auc: 0.9972 - val_f1_score: 0.9673 - lr: 7.7378e-04\n",
            "\n",
            "Epoch 31: LearningRateScheduler setting learning rate to 0.000735091819660738.\n",
            "Epoch 31/50\n",
            "256/256 [==============================] - 21s 82ms/step - loss: 0.0316 - acc: 0.9896 - auc: 0.9996 - f1_score: 0.9897 - val_loss: 0.0581 - val_acc: 0.9819 - val_auc: 0.9983 - val_f1_score: 0.9819 - lr: 7.3509e-04\n",
            "\n",
            "Epoch 32: LearningRateScheduler setting learning rate to 0.0007350918021984398.\n",
            "Epoch 32/50\n",
            "256/256 [==============================] - 21s 80ms/step - loss: 0.0269 - acc: 0.9913 - auc: 0.9995 - f1_score: 0.9913 - val_loss: 0.0319 - val_acc: 0.9893 - val_auc: 0.9996 - val_f1_score: 0.9893 - lr: 7.3509e-04\n",
            "\n",
            "Epoch 33: LearningRateScheduler setting learning rate to 0.0006983372120885178.\n",
            "Epoch 33/50\n",
            "256/256 [==============================] - 21s 80ms/step - loss: 0.0261 - acc: 0.9924 - auc: 0.9993 - f1_score: 0.9924 - val_loss: 0.0347 - val_acc: 0.9902 - val_auc: 0.9989 - val_f1_score: 0.9902 - lr: 6.9834e-04\n",
            "\n",
            "Epoch 34: LearningRateScheduler setting learning rate to 0.0006983372149989009.\n",
            "Epoch 34/50\n",
            "256/256 [==============================] - 20s 79ms/step - loss: 0.0288 - acc: 0.9918 - auc: 0.9995 - f1_score: 0.9918 - val_loss: 0.0360 - val_acc: 0.9878 - val_auc: 0.9995 - val_f1_score: 0.9880 - lr: 6.9834e-04\n",
            "\n",
            "Epoch 35: LearningRateScheduler setting learning rate to 0.0006634203542489559.\n",
            "Epoch 35/50\n",
            "256/256 [==============================] - 20s 80ms/step - loss: 0.0328 - acc: 0.9895 - auc: 0.9993 - f1_score: 0.9894 - val_loss: 0.0382 - val_acc: 0.9878 - val_auc: 0.9993 - val_f1_score: 0.9878 - lr: 6.6342e-04\n",
            "\n",
            "Epoch 36: LearningRateScheduler setting learning rate to 0.0006634203600697219.\n",
            "Epoch 36/50\n",
            "256/256 [==============================] - 20s 77ms/step - loss: 0.0250 - acc: 0.9932 - auc: 0.9995 - f1_score: 0.9932 - val_loss: 0.0380 - val_acc: 0.9888 - val_auc: 0.9992 - val_f1_score: 0.9893 - lr: 6.6342e-04\n",
            "\n",
            "Epoch 37: LearningRateScheduler setting learning rate to 0.0006302493420662358.\n",
            "Epoch 37/50\n",
            "256/256 [==============================] - 21s 81ms/step - loss: 0.0329 - acc: 0.9897 - auc: 0.9994 - f1_score: 0.9896 - val_loss: 0.0611 - val_acc: 0.9829 - val_auc: 0.9981 - val_f1_score: 0.9834 - lr: 6.3025e-04\n",
            "\n",
            "Epoch 38: LearningRateScheduler setting learning rate to 0.0006302493275143206.\n",
            "Epoch 38/50\n",
            "256/256 [==============================] - ETA: 0s - loss: 0.0142 - acc: 0.9952 - auc: 1.0000 - f1_score: 0.9953\n",
            "Reached accuracy threshold! Terminating training.\n",
            "256/256 [==============================] - 20s 78ms/step - loss: 0.0142 - acc: 0.9952 - auc: 1.0000 - f1_score: 0.9953 - val_loss: 0.0190 - val_acc: 0.9951 - val_auc: 0.9999 - val_f1_score: 0.9951 - lr: 6.3025e-04\n"
          ]
        }
      ],
      "source": [
        "EPOCHS = 50\n",
        "\n",
        "history = model.fit(train_generator, validation_data=(validation_generator), callbacks=CALLBACKS, epochs=EPOCHS)"
      ]
    },
    {
      "cell_type": "code",
      "execution_count": null,
      "id": "016d2724",
      "metadata": {
        "execution": {
          "iopub.execute_input": "2024-04-18T03:07:39.272628Z",
          "iopub.status.busy": "2024-04-18T03:07:39.260146Z",
          "iopub.status.idle": "2024-04-18T03:07:39.277623Z",
          "shell.execute_reply": "2024-04-18T03:07:39.276474Z"
        },
        "id": "016d2724",
        "papermill": {
          "duration": 1.280311,
          "end_time": "2024-04-18T03:07:39.279925",
          "exception": false,
          "start_time": "2024-04-18T03:07:37.999614",
          "status": "completed"
        },
        "tags": []
      },
      "outputs": [],
      "source": [
        "\n",
        "\n",
        "# # Assuming train_images and test_images are your input image data\n",
        "\n",
        "\n",
        "# model = Sequential()\n",
        "# model.add(Input(shape=input_shape))\n",
        "# model.add(Conv2D(64, (3, 3), activation='relu'))\n",
        "# model.add(MaxPooling2D((2, 2)))\n",
        "# model.add(Conv2D(128, (3, 3), activation='relu'))\n",
        "# model.add(MaxPooling2D((2, 2)))\n",
        "# model.add(Conv2D(256, (3, 3), activation='relu'))\n",
        "# model.add(MaxPooling2D((2, 2)))\n",
        "# model.add(Dropout(0.2))\n",
        "# model.add(Flatten())\n",
        "# model.add(Dense(512, activation='relu'))\n",
        "# model.add(Dropout(0.5))\n",
        "# model.add(Dense(4, activation='softmax'))\n"
      ]
    },
    {
      "cell_type": "code",
      "execution_count": null,
      "id": "41b6eabd",
      "metadata": {
        "id": "41b6eabd",
        "papermill": {
          "duration": 1.226202,
          "end_time": "2024-04-18T03:07:41.803899",
          "exception": false,
          "start_time": "2024-04-18T03:07:40.577697",
          "status": "completed"
        },
        "tags": []
      },
      "outputs": [],
      "source": []
    },
    {
      "cell_type": "code",
      "execution_count": null,
      "id": "e16cb2ec",
      "metadata": {
        "execution": {
          "iopub.execute_input": "2024-04-18T03:07:44.471296Z",
          "iopub.status.busy": "2024-04-18T03:07:44.470536Z",
          "iopub.status.idle": "2024-04-18T03:07:44.475660Z",
          "shell.execute_reply": "2024-04-18T03:07:44.474566Z"
        },
        "id": "e16cb2ec",
        "papermill": {
          "duration": 1.304212,
          "end_time": "2024-04-18T03:07:44.478083",
          "exception": false,
          "start_time": "2024-04-18T03:07:43.173871",
          "status": "completed"
        },
        "tags": []
      },
      "outputs": [],
      "source": [
        "# import math\n",
        "# model.compile(optimizer=optimizer, loss='categorical_crossentropy', metrics=['accuracy'])\n",
        "\n",
        "# history = model.fit(train_images, train_labels_encoded,\n",
        "#                     steps_per_epoch = int(len(train_images) / 32),\n",
        "#                     epochs=50,\n",
        "#                     validation_data=(test_images, test_labels_encoded),\n",
        "#                     sample_weight=sample_weights,\n",
        "#                     callbacks=[lr_scheduler])"
      ]
    },
    {
      "cell_type": "code",
      "execution_count": null,
      "id": "0690a2ea",
      "metadata": {
        "execution": {
          "iopub.execute_input": "2024-04-18T03:07:46.928155Z",
          "iopub.status.busy": "2024-04-18T03:07:46.927762Z",
          "iopub.status.idle": "2024-04-18T03:07:54.398570Z",
          "shell.execute_reply": "2024-04-18T03:07:54.397281Z"
        },
        "id": "0690a2ea",
        "outputId": "a6c97217-ae85-4fa9-9dbb-66453758299a",
        "papermill": {
          "duration": 8.69827,
          "end_time": "2024-04-18T03:07:54.401234",
          "exception": false,
          "start_time": "2024-04-18T03:07:45.702964",
          "status": "completed"
        },
        "tags": []
      },
      "outputs": [
        {
          "name": "stdout",
          "output_type": "stream",
          "text": [
            "\u001b[1m 5/64\u001b[0m \u001b[32m━\u001b[0m\u001b[37m━━━━━━━━━━━━━━━━━━━\u001b[0m \u001b[1m2s\u001b[0m 36ms/step"
          ]
        },
        {
          "name": "stderr",
          "output_type": "stream",
          "text": [
            "W0000 00:00:1713409672.384326      72 graph_launch.cc:671] Fallback to op-by-op mode because memset node breaks graph update\n"
          ]
        },
        {
          "name": "stdout",
          "output_type": "stream",
          "text": [
            "\u001b[1m64/64\u001b[0m \u001b[32m━━━━━━━━━━━━━━━━━━━━\u001b[0m\u001b[37m\u001b[0m \u001b[1m3s\u001b[0m 28ms/step\n",
            "ROC AUC: 0.9994468326560391\n"
          ]
        }
      ],
      "source": [
        "# import tensorflow as tf\n",
        "# import numpy as np\n",
        "# from sklearn.metrics import roc_auc_score\n",
        "\n",
        "# y_prob = model.predict(test_images)\n",
        "# y_prob = tf.nn.softmax(y_prob).numpy()\n",
        "\n",
        "# # Compute ROC AUC for each class\n",
        "# roc_auc = roc_auc_score(test_labels_encoded, y_prob, average='macro')\n",
        "\n",
        "# print(\"ROC AUC:\", roc_auc)"
      ]
    },
    {
      "cell_type": "code",
      "execution_count": 28,
      "id": "4604b74a",
      "metadata": {
        "execution": {
          "iopub.execute_input": "2024-04-18T03:07:56.980694Z",
          "iopub.status.busy": "2024-04-18T03:07:56.979801Z",
          "iopub.status.idle": "2024-04-18T03:07:57.105310Z",
          "shell.execute_reply": "2024-04-18T03:07:57.104321Z"
        },
        "id": "4604b74a",
        "outputId": "a9414401-3bb6-4be8-f47f-2b04d57b3af3",
        "papermill": {
          "duration": 1.357189,
          "end_time": "2024-04-18T03:07:57.107677",
          "exception": false,
          "start_time": "2024-04-18T03:07:55.750488",
          "status": "completed"
        },
        "tags": [],
        "colab": {
          "base_uri": "https://localhost:8080/"
        }
      },
      "outputs": [
        {
          "output_type": "execute_result",
          "data": {
            "text/plain": [
              "1279"
            ]
          },
          "metadata": {},
          "execution_count": 28
        }
      ],
      "source": [
        "import os\n",
        "import numpy as np\n",
        "directory = '/content/test'\n",
        "\n",
        "files = [file for file in os.listdir(directory) if file.endswith('.jpg')]\n",
        "len(files)"
      ]
    },
    {
      "cell_type": "code",
      "execution_count": 29,
      "id": "6c91e859",
      "metadata": {
        "execution": {
          "iopub.execute_input": "2024-04-18T03:07:59.788908Z",
          "iopub.status.busy": "2024-04-18T03:07:59.787966Z",
          "iopub.status.idle": "2024-04-18T03:07:59.795738Z",
          "shell.execute_reply": "2024-04-18T03:07:59.794687Z"
        },
        "id": "6c91e859",
        "outputId": "942ed84e-55bc-4f5a-9ee6-41b29f8cf566",
        "papermill": {
          "duration": 1.334156,
          "end_time": "2024-04-18T03:07:59.798297",
          "exception": false,
          "start_time": "2024-04-18T03:07:58.464141",
          "status": "completed"
        },
        "tags": [],
        "colab": {
          "base_uri": "https://localhost:8080/"
        }
      },
      "outputs": [
        {
          "output_type": "stream",
          "name": "stdout",
          "text": [
            "179 12 640 448\n"
          ]
        }
      ],
      "source": [
        "mildDem = [i for i in files if i.startswith(\"MildDem\")]\n",
        "moderateDem = [i for i in files if \"ModerateDem\" in i]\n",
        "nonDem = [i for i in files if \"NonDem\" in i]\n",
        "veryMild = [i for i in files if \"VeryMildDem\" in i]\n",
        "print(len(mildDem), len(moderateDem), len(nonDem), len(veryMild))"
      ]
    },
    {
      "cell_type": "code",
      "execution_count": 31,
      "id": "6189bde7",
      "metadata": {
        "execution": {
          "iopub.execute_input": "2024-04-18T03:08:02.325596Z",
          "iopub.status.busy": "2024-04-18T03:08:02.325143Z",
          "iopub.status.idle": "2024-04-18T03:08:02.355022Z",
          "shell.execute_reply": "2024-04-18T03:08:02.353833Z"
        },
        "id": "6189bde7",
        "outputId": "937e05ad-7118-43e4-94e6-c10ae227f8fa",
        "papermill": {
          "duration": 1.263531,
          "end_time": "2024-04-18T03:08:02.358311",
          "exception": false,
          "start_time": "2024-04-18T03:08:01.094780",
          "status": "completed"
        },
        "tags": [],
        "colab": {
          "base_uri": "https://localhost:8080/"
        }
      },
      "outputs": [
        {
          "output_type": "execute_result",
          "data": {
            "text/plain": [
              "Class\n",
              "2    640\n",
              "3    448\n",
              "0    179\n",
              "1     12\n",
              "Name: count, dtype: int64"
            ]
          },
          "metadata": {},
          "execution_count": 31
        }
      ],
      "source": [
        "import pandas as pd\n",
        "l = [[mildDem, 0], [moderateDem, 1], [nonDem, 2], [veryMild, 3]]\n",
        "x = []\n",
        "for i in l:\n",
        "    for j in i[0]:\n",
        "        path = os.path.join(\"/content/test\", j)\n",
        "        x.append([i[1], path])\n",
        "\n",
        "df = pd.DataFrame(x, columns=[\"Class\", \"Path\"])\n",
        "df[\"Class\"].value_counts()\n"
      ]
    },
    {
      "cell_type": "code",
      "execution_count": 39,
      "id": "c2217ccc",
      "metadata": {
        "execution": {
          "iopub.execute_input": "2024-04-18T03:08:04.937083Z",
          "iopub.status.busy": "2024-04-18T03:08:04.936668Z",
          "iopub.status.idle": "2024-04-18T03:08:09.846150Z",
          "shell.execute_reply": "2024-04-18T03:08:09.845241Z"
        },
        "id": "c2217ccc",
        "papermill": {
          "duration": 6.146723,
          "end_time": "2024-04-18T03:08:09.849074",
          "exception": false,
          "start_time": "2024-04-18T03:08:03.702351",
          "status": "completed"
        },
        "tags": []
      },
      "outputs": [],
      "source": [
        "from keras.preprocessing.image import load_img, img_to_array\n",
        "img = [load_img(i, target_size=(130, 110)) for i in df[\"Path\"]]\n",
        "img = [img_to_array(im) for im in img]\n",
        "img = [im / 255.0 for im in img]\n",
        "img = np.stack(img, axis=0)\n"
      ]
    },
    {
      "cell_type": "code",
      "execution_count": 35,
      "id": "fa20f042",
      "metadata": {
        "execution": {
          "iopub.execute_input": "2024-04-18T03:08:12.452363Z",
          "iopub.status.busy": "2024-04-18T03:08:12.451296Z",
          "iopub.status.idle": "2024-04-18T03:08:12.458221Z",
          "shell.execute_reply": "2024-04-18T03:08:12.457035Z"
        },
        "id": "fa20f042",
        "outputId": "89b28cdf-f61f-4485-fb4c-bae62d6e7750",
        "papermill": {
          "duration": 1.317023,
          "end_time": "2024-04-18T03:08:12.460593",
          "exception": false,
          "start_time": "2024-04-18T03:08:11.143570",
          "status": "completed"
        },
        "tags": [],
        "colab": {
          "base_uri": "https://localhost:8080/"
        }
      },
      "outputs": [
        {
          "output_type": "stream",
          "name": "stdout",
          "text": [
            "(1279, 4)\n"
          ]
        }
      ],
      "source": [
        "labels = df[\"Class\"]\n",
        "labels = to_categorical(labels, num_classes=4)\n",
        "print(labels.shape)"
      ]
    },
    {
      "cell_type": "code",
      "execution_count": 36,
      "id": "82b0620e",
      "metadata": {
        "execution": {
          "iopub.execute_input": "2024-04-18T03:08:14.906410Z",
          "iopub.status.busy": "2024-04-18T03:08:14.905663Z",
          "iopub.status.idle": "2024-04-18T03:08:14.914085Z",
          "shell.execute_reply": "2024-04-18T03:08:14.913008Z"
        },
        "id": "82b0620e",
        "papermill": {
          "duration": 1.236415,
          "end_time": "2024-04-18T03:08:14.916566",
          "exception": false,
          "start_time": "2024-04-18T03:08:13.680151",
          "status": "completed"
        },
        "tags": []
      },
      "outputs": [],
      "source": [
        "l = []\n",
        "for i in labels:\n",
        "  for j in range(4):\n",
        "    if i[j] == 1:\n",
        "      l.append(j)\n"
      ]
    },
    {
      "cell_type": "code",
      "execution_count": 40,
      "id": "db8c4623",
      "metadata": {
        "execution": {
          "iopub.execute_input": "2024-04-18T03:08:17.349809Z",
          "iopub.status.busy": "2024-04-18T03:08:17.349393Z",
          "iopub.status.idle": "2024-04-18T03:08:29.415610Z",
          "shell.execute_reply": "2024-04-18T03:08:29.414261Z"
        },
        "id": "db8c4623",
        "outputId": "7884054d-eb24-4bc9-b372-f7e3e10e41a3",
        "papermill": {
          "duration": 13.197809,
          "end_time": "2024-04-18T03:08:29.418184",
          "exception": false,
          "start_time": "2024-04-18T03:08:16.220375",
          "status": "completed"
        },
        "tags": [],
        "colab": {
          "base_uri": "https://localhost:8080/"
        }
      },
      "outputs": [
        {
          "output_type": "stream",
          "name": "stdout",
          "text": [
            "40/40 [==============================] - 3s 60ms/step\n"
          ]
        }
      ],
      "source": [
        "y_prob = model.predict(img)\n",
        "y_prob = np.argmax(y_prob, axis=-1)"
      ]
    },
    {
      "cell_type": "code",
      "execution_count": null,
      "id": "74b2d72c",
      "metadata": {
        "id": "74b2d72c",
        "papermill": {
          "duration": 1.303096,
          "end_time": "2024-04-18T03:08:32.019438",
          "exception": false,
          "start_time": "2024-04-18T03:08:30.716342",
          "status": "completed"
        },
        "tags": []
      },
      "outputs": [],
      "source": []
    },
    {
      "cell_type": "code",
      "execution_count": 41,
      "id": "0abf8075",
      "metadata": {
        "execution": {
          "iopub.execute_input": "2024-04-18T03:08:34.545701Z",
          "iopub.status.busy": "2024-04-18T03:08:34.544772Z",
          "iopub.status.idle": "2024-04-18T03:08:34.560372Z",
          "shell.execute_reply": "2024-04-18T03:08:34.559266Z"
        },
        "id": "0abf8075",
        "outputId": "30c0a9fc-b886-4ab5-c07e-bdf8f566bd9f",
        "papermill": {
          "duration": 1.324106,
          "end_time": "2024-04-18T03:08:34.562917",
          "exception": false,
          "start_time": "2024-04-18T03:08:33.238811",
          "status": "completed"
        },
        "tags": [],
        "colab": {
          "base_uri": "https://localhost:8080/"
        }
      },
      "outputs": [
        {
          "output_type": "stream",
          "name": "stdout",
          "text": [
            "0 {'precision': 0.5471698113207547, 'recall': 0.6480446927374302, 'f1-score': 0.5933503836317136, 'support': 179}\n",
            "1 {'precision': 1.0, 'recall': 0.3333333333333333, 'f1-score': 0.5, 'support': 12}\n",
            "2 {'precision': 0.7824620573355818, 'recall': 0.725, 'f1-score': 0.7526358475263585, 'support': 640}\n",
            "3 {'precision': 0.6404255319148936, 'recall': 0.671875, 'f1-score': 0.6557734204793029, 'support': 448}\n",
            "accuracy 0.6919468334636435\n",
            "macro avg {'precision': 0.7425143501428075, 'recall': 0.5945632565176908, 'f1-score': 0.6254399129093438, 'support': 1279}\n",
            "weighted avg {'precision': 0.7018215412189678, 'recall': 0.6919468334636435, 'f1-score': 0.6940446860529116, 'support': 1279}\n"
          ]
        }
      ],
      "source": [
        "from sklearn.metrics import classification_report\n",
        "\n",
        "report = classification_report(l, y_prob, output_dict=True)\n",
        "for i in report:\n",
        "  print(i, report[i])"
      ]
    },
    {
      "cell_type": "code",
      "execution_count": 42,
      "id": "1a09552c",
      "metadata": {
        "execution": {
          "iopub.execute_input": "2024-04-18T03:08:37.105874Z",
          "iopub.status.busy": "2024-04-18T03:08:37.105175Z",
          "iopub.status.idle": "2024-04-18T03:08:41.421908Z",
          "shell.execute_reply": "2024-04-18T03:08:41.420800Z"
        },
        "id": "1a09552c",
        "outputId": "3fcdecaf-df7a-4907-c6a8-cfd43e452e91",
        "papermill": {
          "duration": 5.625384,
          "end_time": "2024-04-18T03:08:41.424266",
          "exception": false,
          "start_time": "2024-04-18T03:08:35.798882",
          "status": "completed"
        },
        "tags": [],
        "colab": {
          "base_uri": "https://localhost:8080/"
        }
      },
      "outputs": [
        {
          "output_type": "stream",
          "name": "stdout",
          "text": [
            " 5/40 [==>...........................] - ETA: 1s - loss: 1.5557 - acc: 0.6687 - auc: 0.8514 - f1_score: 0.6708"
          ]
        },
        {
          "output_type": "stream",
          "name": "stderr",
          "text": [
            "/usr/local/lib/python3.10/dist-packages/keras/src/engine/training.py:2723: UserWarning: Metric F1Score implements a `reset_states()` method; rename it to `reset_state()` (without the final \"s\"). The name `reset_states()` has been deprecated to improve API consistency.\n",
            "  m.reset_state()\n"
          ]
        },
        {
          "output_type": "stream",
          "name": "stdout",
          "text": [
            "40/40 [==============================] - 1s 23ms/step - loss: 1.3500 - acc: 0.6919 - auc: 0.8760 - f1_score: 0.6920\n"
          ]
        },
        {
          "output_type": "execute_result",
          "data": {
            "text/plain": [
              "[1.349985957145691, 0.691946804523468, 0.8760294914245605, 0.6920062303543091]"
            ]
          },
          "metadata": {},
          "execution_count": 42
        }
      ],
      "source": [
        "model.evaluate(img, labels)"
      ]
    },
    {
      "cell_type": "code",
      "execution_count": null,
      "id": "85d1a851",
      "metadata": {
        "id": "85d1a851",
        "papermill": {
          "duration": 1.276158,
          "end_time": "2024-04-18T03:08:43.923104",
          "exception": false,
          "start_time": "2024-04-18T03:08:42.646946",
          "status": "completed"
        },
        "tags": []
      },
      "outputs": [],
      "source": []
    }
  ],
  "metadata": {
    "accelerator": "GPU",
    "colab": {
      "gpuType": "T4",
      "provenance": []
    },
    "kaggle": {
      "accelerator": "nvidiaTeslaT4",
      "dataSources": [
        {
          "datasetId": 457093,
          "sourceId": 861496,
          "sourceType": "datasetVersion"
        },
        {
          "datasetId": 4817485,
          "sourceId": 8149433,
          "sourceType": "datasetVersion"
        }
      ],
      "dockerImageVersionId": 30684,
      "isGpuEnabled": true,
      "isInternetEnabled": false,
      "language": "python",
      "sourceType": "notebook"
    },
    "kernelspec": {
      "display_name": "Python 3",
      "language": "python",
      "name": "python3"
    },
    "language_info": {
      "codemirror_mode": {
        "name": "ipython",
        "version": 3
      },
      "file_extension": ".py",
      "mimetype": "text/x-python",
      "name": "python",
      "nbconvert_exporter": "python",
      "pygments_lexer": "ipython3",
      "version": "3.10.13"
    },
    "papermill": {
      "default_parameters": {},
      "duration": 1907.453629,
      "end_time": "2024-04-18T03:08:48.991988",
      "environment_variables": {},
      "exception": null,
      "input_path": "__notebook__.ipynb",
      "output_path": "__notebook__.ipynb",
      "parameters": {},
      "start_time": "2024-04-18T02:37:01.538359",
      "version": "2.5.0"
    }
  },
  "nbformat": 4,
  "nbformat_minor": 5
}