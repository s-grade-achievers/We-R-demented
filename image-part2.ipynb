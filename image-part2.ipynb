{
  "cells": [
    {
      "cell_type": "markdown",
      "id": "3af3c080",
      "metadata": {
        "id": "3af3c080",
        "papermill": {
          "duration": 0.019451,
          "end_time": "2024-04-18T02:37:04.719945",
          "exception": false,
          "start_time": "2024-04-18T02:37:04.700494",
          "status": "completed"
        },
        "tags": []
      },
      "source": [
        "<a href=\"https://www.kaggle.com/code/pes1ug22am164/image-part?scriptVersionId=171996997\" target=\"_blank\"><img align=\"left\" alt=\"Kaggle\" title=\"Open in Kaggle\" src=\"https://kaggle.com/static/images/open-in-kaggle.svg\"></a>"
      ]
    },
    {
      "cell_type": "markdown",
      "id": "634a515b",
      "metadata": {
        "id": "634a515b",
        "papermill": {
          "duration": 0.017271,
          "end_time": "2024-04-18T02:37:04.755052",
          "exception": false,
          "start_time": "2024-04-18T02:37:04.737781",
          "status": "completed"
        },
        "tags": []
      },
      "source": [
        "# uncomment on google colab, comment on kaggle."
      ]
    },
    {
      "cell_type": "code",
      "execution_count": 1,
      "id": "3ae9ef29",
      "metadata": {
        "execution": {
          "iopub.execute_input": "2024-04-18T02:37:04.798912Z",
          "iopub.status.busy": "2024-04-18T02:37:04.797914Z",
          "iopub.status.idle": "2024-04-18T02:37:04.803293Z",
          "shell.execute_reply": "2024-04-18T02:37:04.802363Z"
        },
        "id": "3ae9ef29",
        "outputId": "55f6c30b-ad0f-47bb-9482-ea0d87025e45",
        "papermill": {
          "duration": 0.029869,
          "end_time": "2024-04-18T02:37:04.805581",
          "exception": false,
          "start_time": "2024-04-18T02:37:04.775712",
          "status": "completed"
        },
        "tags": [],
        "colab": {
          "base_uri": "https://localhost:8080/",
          "height": 126
        }
      },
      "outputs": [
        {
          "output_type": "display_data",
          "data": {
            "text/plain": [
              "<IPython.core.display.HTML object>"
            ],
            "text/html": [
              "\n",
              "     <input type=\"file\" id=\"files-2461bdfc-b46c-4f9f-b20f-fae7e66cfb45\" name=\"files[]\" multiple disabled\n",
              "        style=\"border:none\" />\n",
              "     <output id=\"result-2461bdfc-b46c-4f9f-b20f-fae7e66cfb45\">\n",
              "      Upload widget is only available when the cell has been executed in the\n",
              "      current browser session. Please rerun this cell to enable.\n",
              "      </output>\n",
              "      <script>// Copyright 2017 Google LLC\n",
              "//\n",
              "// Licensed under the Apache License, Version 2.0 (the \"License\");\n",
              "// you may not use this file except in compliance with the License.\n",
              "// You may obtain a copy of the License at\n",
              "//\n",
              "//      http://www.apache.org/licenses/LICENSE-2.0\n",
              "//\n",
              "// Unless required by applicable law or agreed to in writing, software\n",
              "// distributed under the License is distributed on an \"AS IS\" BASIS,\n",
              "// WITHOUT WARRANTIES OR CONDITIONS OF ANY KIND, either express or implied.\n",
              "// See the License for the specific language governing permissions and\n",
              "// limitations under the License.\n",
              "\n",
              "/**\n",
              " * @fileoverview Helpers for google.colab Python module.\n",
              " */\n",
              "(function(scope) {\n",
              "function span(text, styleAttributes = {}) {\n",
              "  const element = document.createElement('span');\n",
              "  element.textContent = text;\n",
              "  for (const key of Object.keys(styleAttributes)) {\n",
              "    element.style[key] = styleAttributes[key];\n",
              "  }\n",
              "  return element;\n",
              "}\n",
              "\n",
              "// Max number of bytes which will be uploaded at a time.\n",
              "const MAX_PAYLOAD_SIZE = 100 * 1024;\n",
              "\n",
              "function _uploadFiles(inputId, outputId) {\n",
              "  const steps = uploadFilesStep(inputId, outputId);\n",
              "  const outputElement = document.getElementById(outputId);\n",
              "  // Cache steps on the outputElement to make it available for the next call\n",
              "  // to uploadFilesContinue from Python.\n",
              "  outputElement.steps = steps;\n",
              "\n",
              "  return _uploadFilesContinue(outputId);\n",
              "}\n",
              "\n",
              "// This is roughly an async generator (not supported in the browser yet),\n",
              "// where there are multiple asynchronous steps and the Python side is going\n",
              "// to poll for completion of each step.\n",
              "// This uses a Promise to block the python side on completion of each step,\n",
              "// then passes the result of the previous step as the input to the next step.\n",
              "function _uploadFilesContinue(outputId) {\n",
              "  const outputElement = document.getElementById(outputId);\n",
              "  const steps = outputElement.steps;\n",
              "\n",
              "  const next = steps.next(outputElement.lastPromiseValue);\n",
              "  return Promise.resolve(next.value.promise).then((value) => {\n",
              "    // Cache the last promise value to make it available to the next\n",
              "    // step of the generator.\n",
              "    outputElement.lastPromiseValue = value;\n",
              "    return next.value.response;\n",
              "  });\n",
              "}\n",
              "\n",
              "/**\n",
              " * Generator function which is called between each async step of the upload\n",
              " * process.\n",
              " * @param {string} inputId Element ID of the input file picker element.\n",
              " * @param {string} outputId Element ID of the output display.\n",
              " * @return {!Iterable<!Object>} Iterable of next steps.\n",
              " */\n",
              "function* uploadFilesStep(inputId, outputId) {\n",
              "  const inputElement = document.getElementById(inputId);\n",
              "  inputElement.disabled = false;\n",
              "\n",
              "  const outputElement = document.getElementById(outputId);\n",
              "  outputElement.innerHTML = '';\n",
              "\n",
              "  const pickedPromise = new Promise((resolve) => {\n",
              "    inputElement.addEventListener('change', (e) => {\n",
              "      resolve(e.target.files);\n",
              "    });\n",
              "  });\n",
              "\n",
              "  const cancel = document.createElement('button');\n",
              "  inputElement.parentElement.appendChild(cancel);\n",
              "  cancel.textContent = 'Cancel upload';\n",
              "  const cancelPromise = new Promise((resolve) => {\n",
              "    cancel.onclick = () => {\n",
              "      resolve(null);\n",
              "    };\n",
              "  });\n",
              "\n",
              "  // Wait for the user to pick the files.\n",
              "  const files = yield {\n",
              "    promise: Promise.race([pickedPromise, cancelPromise]),\n",
              "    response: {\n",
              "      action: 'starting',\n",
              "    }\n",
              "  };\n",
              "\n",
              "  cancel.remove();\n",
              "\n",
              "  // Disable the input element since further picks are not allowed.\n",
              "  inputElement.disabled = true;\n",
              "\n",
              "  if (!files) {\n",
              "    return {\n",
              "      response: {\n",
              "        action: 'complete',\n",
              "      }\n",
              "    };\n",
              "  }\n",
              "\n",
              "  for (const file of files) {\n",
              "    const li = document.createElement('li');\n",
              "    li.append(span(file.name, {fontWeight: 'bold'}));\n",
              "    li.append(span(\n",
              "        `(${file.type || 'n/a'}) - ${file.size} bytes, ` +\n",
              "        `last modified: ${\n",
              "            file.lastModifiedDate ? file.lastModifiedDate.toLocaleDateString() :\n",
              "                                    'n/a'} - `));\n",
              "    const percent = span('0% done');\n",
              "    li.appendChild(percent);\n",
              "\n",
              "    outputElement.appendChild(li);\n",
              "\n",
              "    const fileDataPromise = new Promise((resolve) => {\n",
              "      const reader = new FileReader();\n",
              "      reader.onload = (e) => {\n",
              "        resolve(e.target.result);\n",
              "      };\n",
              "      reader.readAsArrayBuffer(file);\n",
              "    });\n",
              "    // Wait for the data to be ready.\n",
              "    let fileData = yield {\n",
              "      promise: fileDataPromise,\n",
              "      response: {\n",
              "        action: 'continue',\n",
              "      }\n",
              "    };\n",
              "\n",
              "    // Use a chunked sending to avoid message size limits. See b/62115660.\n",
              "    let position = 0;\n",
              "    do {\n",
              "      const length = Math.min(fileData.byteLength - position, MAX_PAYLOAD_SIZE);\n",
              "      const chunk = new Uint8Array(fileData, position, length);\n",
              "      position += length;\n",
              "\n",
              "      const base64 = btoa(String.fromCharCode.apply(null, chunk));\n",
              "      yield {\n",
              "        response: {\n",
              "          action: 'append',\n",
              "          file: file.name,\n",
              "          data: base64,\n",
              "        },\n",
              "      };\n",
              "\n",
              "      let percentDone = fileData.byteLength === 0 ?\n",
              "          100 :\n",
              "          Math.round((position / fileData.byteLength) * 100);\n",
              "      percent.textContent = `${percentDone}% done`;\n",
              "\n",
              "    } while (position < fileData.byteLength);\n",
              "  }\n",
              "\n",
              "  // All done.\n",
              "  yield {\n",
              "    response: {\n",
              "      action: 'complete',\n",
              "    }\n",
              "  };\n",
              "}\n",
              "\n",
              "scope.google = scope.google || {};\n",
              "scope.google.colab = scope.google.colab || {};\n",
              "scope.google.colab._files = {\n",
              "  _uploadFiles,\n",
              "  _uploadFilesContinue,\n",
              "};\n",
              "})(self);\n",
              "</script> "
            ]
          },
          "metadata": {}
        },
        {
          "output_type": "stream",
          "name": "stdout",
          "text": [
            "Saving kaggle.json to kaggle.json\n",
            "Downloading betterest-preproc.zip to /content\n",
            " 97% 419M/434M [00:05<00:00, 101MB/s]\n",
            "100% 434M/434M [00:06<00:00, 75.2MB/s]\n"
          ]
        }
      ],
      "source": [
        "!mkdir ~/.kaggle\n",
        "from google.colab import files\n",
        "files.upload()\n",
        "!cp kaggle.json ~/.kaggle/\n",
        "!chmod 600 ~/.kaggle/kaggle.json\n",
        "!kaggle datasets download -d shusrith/betterest-preproc"
      ]
    },
    {
      "cell_type": "code",
      "execution_count": null,
      "id": "14cc2ca4",
      "metadata": {
        "execution": {
          "iopub.execute_input": "2024-04-18T02:37:04.844141Z",
          "iopub.status.busy": "2024-04-18T02:37:04.843287Z",
          "iopub.status.idle": "2024-04-18T02:37:04.847754Z",
          "shell.execute_reply": "2024-04-18T02:37:04.846758Z"
        },
        "id": "14cc2ca4",
        "papermill": {
          "duration": 0.025397,
          "end_time": "2024-04-18T02:37:04.849730",
          "exception": false,
          "start_time": "2024-04-18T02:37:04.824333",
          "status": "completed"
        },
        "tags": []
      },
      "outputs": [],
      "source": [
        "!unzip /content/betterest-preproc.zip"
      ]
    },
    {
      "cell_type": "code",
      "execution_count": null,
      "id": "fe1d5dd9",
      "metadata": {
        "execution": {
          "iopub.execute_input": "2024-04-18T02:37:04.890631Z",
          "iopub.status.busy": "2024-04-18T02:37:04.889957Z",
          "iopub.status.idle": "2024-04-18T02:37:04.894475Z",
          "shell.execute_reply": "2024-04-18T02:37:04.893455Z"
        },
        "id": "fe1d5dd9",
        "papermill": {
          "duration": 0.027743,
          "end_time": "2024-04-18T02:37:04.896834",
          "exception": false,
          "start_time": "2024-04-18T02:37:04.869091",
          "status": "completed"
        },
        "tags": []
      },
      "outputs": [],
      "source": [
        "# !kaggle datasets download -d tourist55/alzheimers-dataset-4-class-of-images"
      ]
    },
    {
      "cell_type": "code",
      "execution_count": null,
      "id": "ce19e6bd",
      "metadata": {
        "execution": {
          "iopub.execute_input": "2024-04-18T02:37:04.935891Z",
          "iopub.status.busy": "2024-04-18T02:37:04.935490Z",
          "iopub.status.idle": "2024-04-18T02:37:04.939803Z",
          "shell.execute_reply": "2024-04-18T02:37:04.938798Z"
        },
        "id": "ce19e6bd",
        "papermill": {
          "duration": 0.025706,
          "end_time": "2024-04-18T02:37:04.941869",
          "exception": false,
          "start_time": "2024-04-18T02:37:04.916163",
          "status": "completed"
        },
        "tags": []
      },
      "outputs": [],
      "source": [
        "# !unzip /content/alzheimers-dataset-4-class-of-images.zip"
      ]
    },
    {
      "cell_type": "markdown",
      "id": "35eeae96",
      "metadata": {
        "id": "35eeae96",
        "papermill": {
          "duration": 0.01939,
          "end_time": "2024-04-18T02:37:04.979094",
          "exception": false,
          "start_time": "2024-04-18T02:37:04.959704",
          "status": "completed"
        },
        "tags": []
      },
      "source": [
        "# PRE PROCESS\n",
        ".JPG TO .NPY"
      ]
    },
    {
      "cell_type": "code",
      "execution_count": null,
      "id": "63eb22e5",
      "metadata": {
        "execution": {
          "iopub.execute_input": "2024-04-18T02:37:05.019600Z",
          "iopub.status.busy": "2024-04-18T02:37:05.019195Z",
          "iopub.status.idle": "2024-04-18T02:37:05.024523Z",
          "shell.execute_reply": "2024-04-18T02:37:05.023468Z"
        },
        "id": "63eb22e5",
        "papermill": {
          "duration": 0.028257,
          "end_time": "2024-04-18T02:37:05.026811",
          "exception": false,
          "start_time": "2024-04-18T02:37:04.998554",
          "status": "completed"
        },
        "tags": []
      },
      "outputs": [],
      "source": [
        "# import os\n",
        "# import cv2\n",
        "# import numpy as np\n",
        "\n",
        "# def jpg_to_npy_in_folders(input_folder, output_folder):\n",
        "#     os.makedirs(output_folder, exist_ok=True)\n",
        "#     for i, item in enumerate(os.listdir(input_folder)):\n",
        "#         item_path = os.path.join(input_folder, item)\n",
        "#         if os.path.isdir(item_path):\n",
        "#             jpg_to_npy_in_folders(item_path, output_folder)\n",
        "#         elif os.path.isfile(item_path) and item.endswith(\".jpg\"):\n",
        "#             img = cv2.imread(item_path)\n",
        "#             img_array = np.array(img)\n",
        "#             output_file_path = os.path.join(output_folder, os.path.splitext(item)[0] + '.npy')\n",
        "#             np.save(output_file_path, img_array)\n",
        "\n",
        "# # input_folder_path = \"/content/Alzheimer_s Dataset/train\"\n",
        "# input_folder_path = \"/kaggle/input/alzheimers-dataset-4-class-of-images/Alzheimer_s Dataset/train\"\n",
        "# output_folder_path = \"/kaggle/working/train\"\n",
        "\n",
        "# jpg_to_npy_in_folders(input_folder_path, output_folder_path)\n",
        "\n"
      ]
    },
    {
      "cell_type": "code",
      "execution_count": null,
      "id": "9d9a9c8b",
      "metadata": {
        "_cell_guid": "b1076dfc-b9ad-4769-8c92-a6c4dae69d19",
        "_uuid": "8f2839f25d086af736a60e9eeb907d3b93b6e0e5",
        "execution": {
          "iopub.execute_input": "2024-04-18T02:37:05.064042Z",
          "iopub.status.busy": "2024-04-18T02:37:05.063664Z",
          "iopub.status.idle": "2024-04-18T02:37:05.069306Z",
          "shell.execute_reply": "2024-04-18T02:37:05.068224Z"
        },
        "id": "9d9a9c8b",
        "papermill": {
          "duration": 0.027414,
          "end_time": "2024-04-18T02:37:05.071763",
          "exception": false,
          "start_time": "2024-04-18T02:37:05.044349",
          "status": "completed"
        },
        "tags": []
      },
      "outputs": [],
      "source": [
        "# import os\n",
        "# import cv2\n",
        "# import numpy as np\n",
        "\n",
        "# def jpg_to_npy_in_folders(input_folder, output_folder):\n",
        "#     os.makedirs(output_folder, exist_ok=True)\n",
        "#     for i, item in enumerate(os.listdir(input_folder)):\n",
        "#         item_path = os.path.join(input_folder, item)\n",
        "#         if os.path.isdir(item_path):\n",
        "#             jpg_to_npy_in_folders(item_path, output_folder)\n",
        "#         elif os.path.isfile(item_path) and item.endswith(\".jpg\"):\n",
        "#             img = cv2.imread(item_path)\n",
        "#             img_array = np.array(img)\n",
        "#             folder = input_folder.split(\"/\")[-1]\n",
        "#             output_file_path = os.path.join(output_folder, f\"{folder}{i}.npy\")\n",
        "#             np.save(output_file_path, img_array)\n",
        "\n",
        "# # input_folder_path = \"/kaggle/input/alzheimers-dataset-4-class-of-images/Alzheimer_s Dataset/train\"\n",
        "# # output_folder_path = \"/kaggle/working/train\"\n",
        "\n",
        "# # jpg_to_npy_in_folders(input_folder_path, output_folder_path)\n",
        "# jpg_to_npy_in_folders(\"/kaggle/input/alzheimers-dataset-4-class-of-images/Alzheimer_s Dataset/test\", \"/kaggle/working/test\")\n",
        "# # jpg_to_npy_in_folders(\"/content/Alzheimer_s Dataset/test\", \"/kaggle/working/test\")\n",
        "\n"
      ]
    },
    {
      "cell_type": "code",
      "execution_count": null,
      "id": "5b3529d6",
      "metadata": {
        "execution": {
          "iopub.execute_input": "2024-04-18T02:37:05.112294Z",
          "iopub.status.busy": "2024-04-18T02:37:05.111364Z",
          "iopub.status.idle": "2024-04-18T02:37:05.115950Z",
          "shell.execute_reply": "2024-04-18T02:37:05.114968Z"
        },
        "id": "5b3529d6",
        "papermill": {
          "duration": 0.027378,
          "end_time": "2024-04-18T02:37:05.118352",
          "exception": false,
          "start_time": "2024-04-18T02:37:05.090974",
          "status": "completed"
        },
        "tags": []
      },
      "outputs": [],
      "source": [
        "# import os\n",
        "# import numpy as np\n",
        "# directory = '/kaggle/working/train'\n",
        "\n",
        "# files = [file for file in os.listdir(directory) if file.endswith('.npy')]\n",
        "# len(files)\n"
      ]
    },
    {
      "cell_type": "code",
      "execution_count": null,
      "id": "91fc0b7f",
      "metadata": {
        "execution": {
          "iopub.execute_input": "2024-04-18T02:37:05.154981Z",
          "iopub.status.busy": "2024-04-18T02:37:05.154315Z",
          "iopub.status.idle": "2024-04-18T02:37:05.158774Z",
          "shell.execute_reply": "2024-04-18T02:37:05.157932Z"
        },
        "id": "91fc0b7f",
        "papermill": {
          "duration": 0.02418,
          "end_time": "2024-04-18T02:37:05.160846",
          "exception": false,
          "start_time": "2024-04-18T02:37:05.136666",
          "status": "completed"
        },
        "tags": []
      },
      "outputs": [],
      "source": [
        "# mildDem = [i for i in files if i.startswith(\"mildDem\")]\n",
        "# moderateDem = [i for i in files if \"moderateDem\" in i]\n",
        "# nonDem = [i for i in files if \"nonDem\" in i]\n",
        "# veryMild = [i for i in files if \"verymildDem\" in i]\n",
        "# print(len(mildDem), len(moderateDem), len(nonDem), len(veryMild))"
      ]
    },
    {
      "cell_type": "code",
      "execution_count": null,
      "id": "53f2f801",
      "metadata": {
        "execution": {
          "iopub.execute_input": "2024-04-18T02:37:05.201925Z",
          "iopub.status.busy": "2024-04-18T02:37:05.201560Z",
          "iopub.status.idle": "2024-04-18T02:37:05.206902Z",
          "shell.execute_reply": "2024-04-18T02:37:05.205885Z"
        },
        "id": "53f2f801",
        "papermill": {
          "duration": 0.028946,
          "end_time": "2024-04-18T02:37:05.209300",
          "exception": false,
          "start_time": "2024-04-18T02:37:05.180354",
          "status": "completed"
        },
        "tags": []
      },
      "outputs": [],
      "source": [
        "# import imgaug.augmenters as iaa\n",
        "\n",
        "# # Define the augmenter\n",
        "# augmenter = iaa.Sequential([\n",
        "#     iaa.Affine(rotate=(-10, 10)),  # Rotate the image by -10 to 10 degrees\n",
        "#     iaa.GaussianBlur(sigma=(0.0, 1.0)),  # Apply Gaussian blur with a sigma ranging from 0.0 to 1.0\n",
        "#     iaa.AdditiveGaussianNoise(scale=(0, 0.05*255)),  # Add Gaussian noise with a scale of 0 to 0.05 times 255\n",
        "#     iaa.Multiply((0.9, 1.1)),\n",
        "#     iaa.LinearContrast((0.9, 1.1)),\n",
        "# ])\n",
        "\n",
        "# augmented_images = []\n",
        "\n",
        "# for path in moderateDem:\n",
        "#     path = os.path.join(\"/kaggle/working/train\", path)\n",
        "#     image = np.load(path)\n",
        "\n",
        "#     for _ in range(35):\n",
        "#         augmented_image = augmenter.augment_image(image)\n",
        "#         augmented_images.append(augmented_image)\n",
        "# augmented_images = np.array(augmented_images)"
      ]
    },
    {
      "cell_type": "code",
      "execution_count": null,
      "id": "dbe09222",
      "metadata": {
        "execution": {
          "iopub.execute_input": "2024-04-18T02:37:05.247979Z",
          "iopub.status.busy": "2024-04-18T02:37:05.247344Z",
          "iopub.status.idle": "2024-04-18T02:37:05.251468Z",
          "shell.execute_reply": "2024-04-18T02:37:05.250474Z"
        },
        "id": "dbe09222",
        "papermill": {
          "duration": 0.02554,
          "end_time": "2024-04-18T02:37:05.253923",
          "exception": false,
          "start_time": "2024-04-18T02:37:05.228383",
          "status": "completed"
        },
        "tags": []
      },
      "outputs": [],
      "source": [
        "# len(augmented_images)"
      ]
    },
    {
      "cell_type": "code",
      "execution_count": null,
      "id": "2ed8d745",
      "metadata": {
        "execution": {
          "iopub.execute_input": "2024-04-18T02:37:05.293446Z",
          "iopub.status.busy": "2024-04-18T02:37:05.293061Z",
          "iopub.status.idle": "2024-04-18T02:37:05.298114Z",
          "shell.execute_reply": "2024-04-18T02:37:05.297037Z"
        },
        "id": "2ed8d745",
        "papermill": {
          "duration": 0.028024,
          "end_time": "2024-04-18T02:37:05.300482",
          "exception": false,
          "start_time": "2024-04-18T02:37:05.272458",
          "status": "completed"
        },
        "tags": []
      },
      "outputs": [],
      "source": [
        "# import cv2\n",
        "# import os\n",
        "\n",
        "\n",
        "# output_directory = \"/kaggle/working/train\"\n",
        "\n",
        "# os.makedirs(output_directory, exist_ok=True)\n",
        "\n",
        "# for i, image in enumerate(augmented_images):\n",
        "#     output_path = os.path.join(output_directory, f\"moderateDem{i+53}.npy\")\n",
        "#     np.save(output_path, image)\n",
        "\n",
        "\n",
        "# print(\"Augmented images saved successfully.\")\n"
      ]
    },
    {
      "cell_type": "code",
      "execution_count": null,
      "id": "c149e66d",
      "metadata": {
        "execution": {
          "iopub.execute_input": "2024-04-18T02:37:05.340589Z",
          "iopub.status.busy": "2024-04-18T02:37:05.340206Z",
          "iopub.status.idle": "2024-04-18T02:37:05.344662Z",
          "shell.execute_reply": "2024-04-18T02:37:05.343684Z"
        },
        "id": "c149e66d",
        "papermill": {
          "duration": 0.026804,
          "end_time": "2024-04-18T02:37:05.346705",
          "exception": false,
          "start_time": "2024-04-18T02:37:05.319901",
          "status": "completed"
        },
        "tags": []
      },
      "outputs": [],
      "source": [
        "# augmented_images = []\n",
        "\n",
        "# for path in mildDem:\n",
        "#     path = os.path.join(\"/kaggle/working/train\", path)\n",
        "#     image = np.load(path)\n",
        "\n",
        "#     for _ in range(2):\n",
        "#         augmented_image = augmenter.augment_image(image)\n",
        "#         augmented_images.append(augmented_image)\n",
        "# augmented_images = np.array(augmented_images)"
      ]
    },
    {
      "cell_type": "code",
      "execution_count": null,
      "id": "57718192",
      "metadata": {
        "execution": {
          "iopub.execute_input": "2024-04-18T02:37:05.384639Z",
          "iopub.status.busy": "2024-04-18T02:37:05.383686Z",
          "iopub.status.idle": "2024-04-18T02:37:05.388254Z",
          "shell.execute_reply": "2024-04-18T02:37:05.387230Z"
        },
        "id": "57718192",
        "papermill": {
          "duration": 0.027371,
          "end_time": "2024-04-18T02:37:05.390621",
          "exception": false,
          "start_time": "2024-04-18T02:37:05.363250",
          "status": "completed"
        },
        "tags": []
      },
      "outputs": [],
      "source": [
        "# len(augmented_images)"
      ]
    },
    {
      "cell_type": "code",
      "execution_count": null,
      "id": "b1d7a6c4",
      "metadata": {
        "execution": {
          "iopub.execute_input": "2024-04-18T02:37:05.431144Z",
          "iopub.status.busy": "2024-04-18T02:37:05.430246Z",
          "iopub.status.idle": "2024-04-18T02:37:05.434846Z",
          "shell.execute_reply": "2024-04-18T02:37:05.433788Z"
        },
        "id": "b1d7a6c4",
        "papermill": {
          "duration": 0.027061,
          "end_time": "2024-04-18T02:37:05.436918",
          "exception": false,
          "start_time": "2024-04-18T02:37:05.409857",
          "status": "completed"
        },
        "tags": []
      },
      "outputs": [],
      "source": [
        "# output_directory = \"/kaggle/working/train\"\n",
        "\n",
        "# os.makedirs(output_directory, exist_ok=True)\n",
        "\n",
        "# for i, image in enumerate(augmented_images):\n",
        "#     output_path = os.path.join(output_directory, f\"mildDem{i+718}.npy\")\n",
        "#     np.save(output_path, image)\n",
        "\n",
        "\n",
        "# print(\"Augmented images saved successfully.\")"
      ]
    },
    {
      "cell_type": "code",
      "execution_count": null,
      "id": "39628af4",
      "metadata": {
        "execution": {
          "iopub.execute_input": "2024-04-18T02:37:05.473456Z",
          "iopub.status.busy": "2024-04-18T02:37:05.472746Z",
          "iopub.status.idle": "2024-04-18T02:37:05.477438Z",
          "shell.execute_reply": "2024-04-18T02:37:05.476353Z"
        },
        "id": "39628af4",
        "papermill": {
          "duration": 0.025891,
          "end_time": "2024-04-18T02:37:05.479773",
          "exception": false,
          "start_time": "2024-04-18T02:37:05.453882",
          "status": "completed"
        },
        "tags": []
      },
      "outputs": [],
      "source": [
        "# import os\n",
        "# import numpy as np\n",
        "# directory = '/kaggle/working/train'\n",
        "\n",
        "# files = [file for file in os.listdir(directory) if file.endswith('.npy')]\n",
        "# len(files)"
      ]
    },
    {
      "cell_type": "code",
      "execution_count": null,
      "id": "a291b3e7",
      "metadata": {
        "execution": {
          "iopub.execute_input": "2024-04-18T02:37:05.519796Z",
          "iopub.status.busy": "2024-04-18T02:37:05.519375Z",
          "iopub.status.idle": "2024-04-18T02:37:05.524031Z",
          "shell.execute_reply": "2024-04-18T02:37:05.523000Z"
        },
        "id": "a291b3e7",
        "papermill": {
          "duration": 0.02721,
          "end_time": "2024-04-18T02:37:05.526294",
          "exception": false,
          "start_time": "2024-04-18T02:37:05.499084",
          "status": "completed"
        },
        "tags": []
      },
      "outputs": [],
      "source": [
        "# mildDem = [i for i in files if i.startswith(\"mildDem\")]\n",
        "# moderateDem = [i for i in files if \"moderateDem\" in i]\n",
        "# nonDem = [i for i in files if \"nonDem\" in i]\n",
        "# veryMild = [i for i in files if \"verymildDem\" in i]\n",
        "# print(len(mildDem), len(moderateDem), len(nonDem), len(veryMild))"
      ]
    },
    {
      "cell_type": "code",
      "execution_count": null,
      "id": "8ef0ee99",
      "metadata": {
        "execution": {
          "iopub.execute_input": "2024-04-18T02:37:05.563226Z",
          "iopub.status.busy": "2024-04-18T02:37:05.562517Z",
          "iopub.status.idle": "2024-04-18T02:37:05.566929Z",
          "shell.execute_reply": "2024-04-18T02:37:05.566024Z"
        },
        "id": "8ef0ee99",
        "papermill": {
          "duration": 0.024346,
          "end_time": "2024-04-18T02:37:05.568964",
          "exception": false,
          "start_time": "2024-04-18T02:37:05.544618",
          "status": "completed"
        },
        "tags": []
      },
      "outputs": [],
      "source": [
        "# import pandas as pd\n",
        "# l = [[mildDem, 0], [moderateDem, 1], [nonDem, 2], [veryMild, 3]]\n",
        "# x = []\n",
        "# for i in l:\n",
        "#     for j in i[0]:\n",
        "#         path = os.path.join(\"/kaggle/working/train\", j)\n",
        "#         x.append([i[1], path])\n",
        "\n",
        "# df = pd.DataFrame(x, columns=[\"Class\", \"Path\"])\n",
        "# x = df[\"Class\"].value_counts()\n",
        "# x"
      ]
    },
    {
      "cell_type": "code",
      "execution_count": null,
      "id": "6d8a9bd2",
      "metadata": {
        "execution": {
          "iopub.execute_input": "2024-04-18T02:37:05.663602Z",
          "iopub.status.busy": "2024-04-18T02:37:05.662604Z",
          "iopub.status.idle": "2024-04-18T02:37:05.666750Z",
          "shell.execute_reply": "2024-04-18T02:37:05.666039Z"
        },
        "id": "6d8a9bd2",
        "papermill": {
          "duration": 0.080908,
          "end_time": "2024-04-18T02:37:05.668658",
          "exception": false,
          "start_time": "2024-04-18T02:37:05.587750",
          "status": "completed"
        },
        "tags": []
      },
      "outputs": [],
      "source": [
        "# images = []\n",
        "# for i in df[\"Path\"]:\n",
        "#     images.append(np.load(i))\n",
        "# images = np.array(images)"
      ]
    },
    {
      "cell_type": "code",
      "execution_count": null,
      "id": "c15e8cc8",
      "metadata": {
        "execution": {
          "iopub.execute_input": "2024-04-18T02:37:05.709200Z",
          "iopub.status.busy": "2024-04-18T02:37:05.708815Z",
          "iopub.status.idle": "2024-04-18T02:37:05.713549Z",
          "shell.execute_reply": "2024-04-18T02:37:05.712479Z"
        },
        "id": "c15e8cc8",
        "papermill": {
          "duration": 0.027911,
          "end_time": "2024-04-18T02:37:05.715791",
          "exception": false,
          "start_time": "2024-04-18T02:37:05.687880",
          "status": "completed"
        },
        "tags": []
      },
      "outputs": [],
      "source": [
        "# from imblearn.over_sampling import SMOTE\n",
        "\n",
        "# sm = SMOTE(random_state=42)\n",
        "# flattened_images = [image.flatten() for image in images]\n",
        "# image_shape = images[0].shape\n",
        "# X_res, y_res = sm.fit_resample(flattened_images, np.array(df[\"Class\"]))  # `labels` should be your list of class labels\n"
      ]
    },
    {
      "cell_type": "code",
      "execution_count": null,
      "id": "2e527cb5",
      "metadata": {
        "execution": {
          "iopub.execute_input": "2024-04-18T02:37:05.755234Z",
          "iopub.status.busy": "2024-04-18T02:37:05.754508Z",
          "iopub.status.idle": "2024-04-18T02:37:05.758755Z",
          "shell.execute_reply": "2024-04-18T02:37:05.757883Z"
        },
        "id": "2e527cb5",
        "papermill": {
          "duration": 0.025491,
          "end_time": "2024-04-18T02:37:05.760644",
          "exception": false,
          "start_time": "2024-04-18T02:37:05.735153",
          "status": "completed"
        },
        "tags": []
      },
      "outputs": [],
      "source": [
        "# res_images = [np.array(x).reshape(image_shape) for x in X_res]"
      ]
    },
    {
      "cell_type": "code",
      "execution_count": null,
      "id": "70016fc6",
      "metadata": {
        "execution": {
          "iopub.execute_input": "2024-04-18T02:37:05.800180Z",
          "iopub.status.busy": "2024-04-18T02:37:05.799282Z",
          "iopub.status.idle": "2024-04-18T02:37:05.803976Z",
          "shell.execute_reply": "2024-04-18T02:37:05.802963Z"
        },
        "papermill": {
          "duration": 0.029093,
          "end_time": "2024-04-18T02:37:05.806680",
          "exception": false,
          "start_time": "2024-04-18T02:37:05.777587",
          "status": "completed"
        },
        "tags": [],
        "id": "70016fc6"
      },
      "outputs": [],
      "source": [
        "# !rm -rf /kaggle/working/train"
      ]
    },
    {
      "cell_type": "code",
      "execution_count": null,
      "id": "8a6a915d",
      "metadata": {
        "execution": {
          "iopub.execute_input": "2024-04-18T02:37:05.847232Z",
          "iopub.status.busy": "2024-04-18T02:37:05.846861Z",
          "iopub.status.idle": "2024-04-18T02:37:05.851473Z",
          "shell.execute_reply": "2024-04-18T02:37:05.850434Z"
        },
        "papermill": {
          "duration": 0.02692,
          "end_time": "2024-04-18T02:37:05.853487",
          "exception": false,
          "start_time": "2024-04-18T02:37:05.826567",
          "status": "completed"
        },
        "tags": [],
        "id": "8a6a915d"
      },
      "outputs": [],
      "source": [
        "# import os\n",
        "\n",
        "# names = {0:\"milDem\", 1:\"moderateDim\", 2:\"nonDem\", 3:\"veryMildDem\"}\n",
        "\n",
        "# # Create the directory if it doesn't exist\n",
        "# os.makedirs(\"/kaggle/working/train/\", exist_ok=True)\n",
        "\n",
        "# for i in range(len(y_res)):\n",
        "#     np.save(f\"/kaggle/working/train/{names[y_res[i]]}{i}.npy\", res_images[i])"
      ]
    },
    {
      "cell_type": "code",
      "execution_count": null,
      "id": "193a2fc6",
      "metadata": {
        "execution": {
          "iopub.execute_input": "2024-04-18T02:37:05.892839Z",
          "iopub.status.busy": "2024-04-18T02:37:05.892439Z",
          "iopub.status.idle": "2024-04-18T02:37:05.896739Z",
          "shell.execute_reply": "2024-04-18T02:37:05.895746Z"
        },
        "id": "193a2fc6",
        "papermill": {
          "duration": 0.027362,
          "end_time": "2024-04-18T02:37:05.899192",
          "exception": false,
          "start_time": "2024-04-18T02:37:05.871830",
          "status": "completed"
        },
        "tags": []
      },
      "outputs": [],
      "source": [
        "# import pandas as pd\n",
        "# labels = pd.DataFrame(y_res)\n",
        "# labels.value_counts()"
      ]
    },
    {
      "cell_type": "code",
      "execution_count": null,
      "id": "104a78fb",
      "metadata": {
        "execution": {
          "iopub.execute_input": "2024-04-18T02:37:05.940353Z",
          "iopub.status.busy": "2024-04-18T02:37:05.939440Z",
          "iopub.status.idle": "2024-04-18T02:37:05.943971Z",
          "shell.execute_reply": "2024-04-18T02:37:05.942983Z"
        },
        "papermill": {
          "duration": 0.02743,
          "end_time": "2024-04-18T02:37:05.946178",
          "exception": false,
          "start_time": "2024-04-18T02:37:05.918748",
          "status": "completed"
        },
        "tags": [],
        "id": "104a78fb"
      },
      "outputs": [],
      "source": [
        "# images = np.array(res_images)"
      ]
    },
    {
      "cell_type": "code",
      "execution_count": 16,
      "id": "452153ac",
      "metadata": {
        "execution": {
          "iopub.execute_input": "2024-04-18T02:37:05.982628Z",
          "iopub.status.busy": "2024-04-18T02:37:05.981734Z",
          "iopub.status.idle": "2024-04-18T02:37:06.131505Z",
          "shell.execute_reply": "2024-04-18T02:37:06.130271Z"
        },
        "papermill": {
          "duration": 0.170115,
          "end_time": "2024-04-18T02:37:06.133939",
          "exception": false,
          "start_time": "2024-04-18T02:37:05.963824",
          "status": "completed"
        },
        "tags": [],
        "id": "452153ac",
        "outputId": "39dd44c2-b3d1-4bd5-b34c-d47ee06a983d",
        "colab": {
          "base_uri": "https://localhost:8080/"
        }
      },
      "outputs": [
        {
          "output_type": "execute_result",
          "data": {
            "text/plain": [
              "10240"
            ]
          },
          "metadata": {},
          "execution_count": 16
        }
      ],
      "source": [
        "import os\n",
        "import numpy as np\n",
        "directory = '/content/train'\n",
        "\n",
        "files = [file for file in os.listdir(directory) if file.endswith('.npy')]\n",
        "len(files)"
      ]
    },
    {
      "cell_type": "code",
      "execution_count": 17,
      "id": "f8db2f7d",
      "metadata": {
        "execution": {
          "iopub.execute_input": "2024-04-18T02:37:06.172969Z",
          "iopub.status.busy": "2024-04-18T02:37:06.172299Z",
          "iopub.status.idle": "2024-04-18T02:37:06.182597Z",
          "shell.execute_reply": "2024-04-18T02:37:06.181487Z"
        },
        "papermill": {
          "duration": 0.031884,
          "end_time": "2024-04-18T02:37:06.185224",
          "exception": false,
          "start_time": "2024-04-18T02:37:06.153340",
          "status": "completed"
        },
        "tags": [],
        "id": "f8db2f7d",
        "outputId": "b0a62f45-6687-4f25-c9df-54291d4b2452",
        "colab": {
          "base_uri": "https://localhost:8080/"
        }
      },
      "outputs": [
        {
          "output_type": "stream",
          "name": "stdout",
          "text": [
            "2560 2560 2560 2560\n"
          ]
        }
      ],
      "source": [
        "mildDem = [i for i in files if i.startswith(\"milDem\")]\n",
        "moderateDem = [i for i in files if \"moderateDim\" in i]\n",
        "nonDem = [i for i in files if \"nonDem\" in i]\n",
        "veryMild = [i for i in files if \"veryMildDem\" in i]\n",
        "print(len(mildDem), len(moderateDem), len(nonDem), len(veryMild))"
      ]
    },
    {
      "cell_type": "code",
      "execution_count": 18,
      "id": "1c1edbb8",
      "metadata": {
        "execution": {
          "iopub.execute_input": "2024-04-18T02:37:06.226007Z",
          "iopub.status.busy": "2024-04-18T02:37:06.225649Z",
          "iopub.status.idle": "2024-04-18T02:37:07.101287Z",
          "shell.execute_reply": "2024-04-18T02:37:07.100370Z"
        },
        "papermill": {
          "duration": 0.898685,
          "end_time": "2024-04-18T02:37:07.103527",
          "exception": false,
          "start_time": "2024-04-18T02:37:06.204842",
          "status": "completed"
        },
        "tags": [],
        "id": "1c1edbb8",
        "outputId": "04d98cc1-83a9-4f41-f52b-4d0051610a38",
        "colab": {
          "base_uri": "https://localhost:8080/"
        }
      },
      "outputs": [
        {
          "output_type": "execute_result",
          "data": {
            "text/plain": [
              "Class\n",
              "0    2560\n",
              "1    2560\n",
              "2    2560\n",
              "3    2560\n",
              "Name: count, dtype: int64"
            ]
          },
          "metadata": {},
          "execution_count": 18
        }
      ],
      "source": [
        "import pandas as pd\n",
        "l = [[mildDem, \"0\"], [moderateDem, \"1\"], [nonDem, \"2\"], [veryMild, \"3\"]]\n",
        "x = []\n",
        "for i in l:\n",
        "    for j in i[0]:\n",
        "        path = os.path.join(\"/content/train\", j)\n",
        "        x.append([i[1], path])\n",
        "\n",
        "df = pd.DataFrame(x, columns=[\"Class\", \"Path\"])\n",
        "x = df[\"Class\"].value_counts()\n",
        "x"
      ]
    },
    {
      "cell_type": "code",
      "execution_count": 19,
      "id": "624b9031",
      "metadata": {
        "execution": {
          "iopub.execute_input": "2024-04-18T02:37:07.145731Z",
          "iopub.status.busy": "2024-04-18T02:37:07.144790Z",
          "iopub.status.idle": "2024-04-18T02:38:44.560161Z",
          "shell.execute_reply": "2024-04-18T02:38:44.558672Z"
        },
        "papermill": {
          "duration": 97.4401,
          "end_time": "2024-04-18T02:38:44.563803",
          "exception": false,
          "start_time": "2024-04-18T02:37:07.123703",
          "status": "completed"
        },
        "tags": [],
        "id": "624b9031"
      },
      "outputs": [],
      "source": [
        "# images = []\n",
        "# for i in df[\"Path\"]:\n",
        "#     images.append(np.load(i))\n",
        "# images = np.array(images)"
      ]
    },
    {
      "cell_type": "code",
      "execution_count": 20,
      "metadata": {
        "execution": {
          "iopub.execute_input": "2024-04-18T02:39:07.496107Z",
          "iopub.status.busy": "2024-04-18T02:39:07.495430Z",
          "iopub.status.idle": "2024-04-18T02:39:07.501490Z",
          "shell.execute_reply": "2024-04-18T02:39:07.500592Z"
        },
        "id": "b0abfff1",
        "papermill": {
          "duration": 0.030075,
          "end_time": "2024-04-18T02:39:07.503833",
          "exception": false,
          "start_time": "2024-04-18T02:39:07.473758",
          "status": "completed"
        },
        "tags": []
      },
      "outputs": [],
      "source": [
        "# from keras.utils import to_categorical\n",
        "\n",
        "# df[\"Class\"] = to_categorical(df[\"Class\"], num_classes=4)\n"
      ],
      "id": "b0abfff1"
    },
    {
      "cell_type": "code",
      "source": [
        "from keras.preprocessing.image import ImageDataGenerator\n",
        "from sklearn.model_selection import train_test_split\n",
        "\n",
        "train_df, test_df = train_test_split(df, test_size=0.2, random_state=42)\n",
        "\n",
        "datagen = ImageDataGenerator(rescale=1.0/255.0)\n",
        "\n",
        "input_shape = (208, 176, 3)\n",
        "\n",
        "train_generator = datagen.flow_from_dataframe(\n",
        "    dataframe=train_df,\n",
        "    directory=None,\n",
        "    x_col=\"Path\",\n",
        "    y_col=\"Class\",\n",
        "    class_mode=\"categorical\",\n",
        "    target_size=(input_shape[0], input_shape[1]),\n",
        "    batch_size=32\n",
        ")\n",
        "\n"
      ],
      "metadata": {
        "id": "ATwbeoGpAo2F",
        "outputId": "57e2b871-ef2d-4f2d-c861-b3aa25c17e39",
        "colab": {
          "base_uri": "https://localhost:8080/"
        }
      },
      "id": "ATwbeoGpAo2F",
      "execution_count": 21,
      "outputs": [
        {
          "output_type": "stream",
          "name": "stdout",
          "text": [
            "Found 0 validated image filenames belonging to 0 classes.\n"
          ]
        },
        {
          "output_type": "stream",
          "name": "stderr",
          "text": [
            "/usr/local/lib/python3.10/dist-packages/keras/src/preprocessing/image.py:1137: UserWarning: Found 8192 invalid image filename(s) in x_col=\"Path\". These filename(s) will be ignored.\n",
            "  warnings.warn(\n"
          ]
        }
      ]
    },
    {
      "cell_type": "code",
      "source": [
        "test_generator = datagen.flow_from_dataframe(\n",
        "    dataframe=test_df,\n",
        "    directory=None,\n",
        "    x_col=\"Path\",\n",
        "    y_col=\"Class\",\n",
        "    class_mode=\"categorical\",\n",
        "    target_size=(input_shape[0], input_shape[1]),\n",
        "    batch_size=32\n",
        ")"
      ],
      "metadata": {
        "id": "3oFuuYkbCSJH",
        "outputId": "6db39be6-79c9-4fec-d9c9-546aa83232af",
        "colab": {
          "base_uri": "https://localhost:8080/"
        }
      },
      "id": "3oFuuYkbCSJH",
      "execution_count": 15,
      "outputs": [
        {
          "output_type": "stream",
          "name": "stdout",
          "text": [
            "Found 0 validated image filenames belonging to 0 classes.\n"
          ]
        },
        {
          "output_type": "stream",
          "name": "stderr",
          "text": [
            "/usr/local/lib/python3.10/dist-packages/keras/src/preprocessing/image.py:1137: UserWarning: Found 2048 invalid image filename(s) in x_col=\"Path\". These filename(s) will be ignored.\n",
            "  warnings.warn(\n"
          ]
        }
      ]
    },
    {
      "cell_type": "code",
      "execution_count": 13,
      "id": "231838c2",
      "metadata": {
        "execution": {
          "iopub.execute_input": "2024-04-18T02:38:44.613810Z",
          "iopub.status.busy": "2024-04-18T02:38:44.613382Z",
          "iopub.status.idle": "2024-04-18T02:38:53.596210Z",
          "shell.execute_reply": "2024-04-18T02:38:53.594791Z"
        },
        "id": "231838c2",
        "papermill": {
          "duration": 9.007369,
          "end_time": "2024-04-18T02:38:53.599283",
          "exception": false,
          "start_time": "2024-04-18T02:38:44.591914",
          "status": "completed"
        },
        "tags": [],
        "outputId": "ab0834e2-d467-413a-9cd8-c62c94c8112d",
        "colab": {
          "base_uri": "https://localhost:8080/",
          "height": 322
        }
      },
      "outputs": [
        {
          "output_type": "error",
          "ename": "ValueError",
          "evalue": "With n_samples=0, test_size=0.2 and train_size=None, the resulting train set will be empty. Adjust any of the aforementioned parameters.",
          "traceback": [
            "\u001b[0;31m---------------------------------------------------------------------------\u001b[0m",
            "\u001b[0;31mValueError\u001b[0m                                Traceback (most recent call last)",
            "\u001b[0;32m<ipython-input-13-c3d36c9cf4a4>\u001b[0m in \u001b[0;36m<cell line: 3>\u001b[0;34m()\u001b[0m\n\u001b[1;32m      1\u001b[0m \u001b[0;32mfrom\u001b[0m \u001b[0msklearn\u001b[0m\u001b[0;34m.\u001b[0m\u001b[0mmodel_selection\u001b[0m \u001b[0;32mimport\u001b[0m \u001b[0mtrain_test_split\u001b[0m\u001b[0;34m\u001b[0m\u001b[0;34m\u001b[0m\u001b[0m\n\u001b[1;32m      2\u001b[0m \u001b[0mlabels\u001b[0m \u001b[0;34m=\u001b[0m \u001b[0mnp\u001b[0m\u001b[0;34m.\u001b[0m\u001b[0marray\u001b[0m\u001b[0;34m(\u001b[0m\u001b[0mdf\u001b[0m\u001b[0;34m[\u001b[0m\u001b[0;34m\"Class\"\u001b[0m\u001b[0;34m]\u001b[0m\u001b[0;34m)\u001b[0m\u001b[0;34m\u001b[0m\u001b[0;34m\u001b[0m\u001b[0m\n\u001b[0;32m----> 3\u001b[0;31m \u001b[0mtrain_images\u001b[0m\u001b[0;34m,\u001b[0m \u001b[0mtest_images\u001b[0m\u001b[0;34m,\u001b[0m \u001b[0mtrain_labels\u001b[0m\u001b[0;34m,\u001b[0m \u001b[0mtest_labels\u001b[0m \u001b[0;34m=\u001b[0m \u001b[0mtrain_test_split\u001b[0m\u001b[0;34m(\u001b[0m\u001b[0mtrain_generator\u001b[0m\u001b[0;34m,\u001b[0m \u001b[0mtest_size\u001b[0m\u001b[0;34m=\u001b[0m\u001b[0;36m0.2\u001b[0m\u001b[0;34m,\u001b[0m \u001b[0mrandom_state\u001b[0m\u001b[0;34m=\u001b[0m\u001b[0;36m42\u001b[0m\u001b[0;34m)\u001b[0m\u001b[0;34m\u001b[0m\u001b[0;34m\u001b[0m\u001b[0m\n\u001b[0m",
            "\u001b[0;32m/usr/local/lib/python3.10/dist-packages/sklearn/model_selection/_split.py\u001b[0m in \u001b[0;36mtrain_test_split\u001b[0;34m(test_size, train_size, random_state, shuffle, stratify, *arrays)\u001b[0m\n\u001b[1;32m   2560\u001b[0m \u001b[0;34m\u001b[0m\u001b[0m\n\u001b[1;32m   2561\u001b[0m     \u001b[0mn_samples\u001b[0m \u001b[0;34m=\u001b[0m \u001b[0m_num_samples\u001b[0m\u001b[0;34m(\u001b[0m\u001b[0marrays\u001b[0m\u001b[0;34m[\u001b[0m\u001b[0;36m0\u001b[0m\u001b[0;34m]\u001b[0m\u001b[0;34m)\u001b[0m\u001b[0;34m\u001b[0m\u001b[0;34m\u001b[0m\u001b[0m\n\u001b[0;32m-> 2562\u001b[0;31m     n_train, n_test = _validate_shuffle_split(\n\u001b[0m\u001b[1;32m   2563\u001b[0m         \u001b[0mn_samples\u001b[0m\u001b[0;34m,\u001b[0m \u001b[0mtest_size\u001b[0m\u001b[0;34m,\u001b[0m \u001b[0mtrain_size\u001b[0m\u001b[0;34m,\u001b[0m \u001b[0mdefault_test_size\u001b[0m\u001b[0;34m=\u001b[0m\u001b[0;36m0.25\u001b[0m\u001b[0;34m\u001b[0m\u001b[0;34m\u001b[0m\u001b[0m\n\u001b[1;32m   2564\u001b[0m     )\n",
            "\u001b[0;32m/usr/local/lib/python3.10/dist-packages/sklearn/model_selection/_split.py\u001b[0m in \u001b[0;36m_validate_shuffle_split\u001b[0;34m(n_samples, test_size, train_size, default_test_size)\u001b[0m\n\u001b[1;32m   2234\u001b[0m \u001b[0;34m\u001b[0m\u001b[0m\n\u001b[1;32m   2235\u001b[0m     \u001b[0;32mif\u001b[0m \u001b[0mn_train\u001b[0m \u001b[0;34m==\u001b[0m \u001b[0;36m0\u001b[0m\u001b[0;34m:\u001b[0m\u001b[0;34m\u001b[0m\u001b[0;34m\u001b[0m\u001b[0m\n\u001b[0;32m-> 2236\u001b[0;31m         raise ValueError(\n\u001b[0m\u001b[1;32m   2237\u001b[0m             \u001b[0;34m\"With n_samples={}, test_size={} and train_size={}, the \"\u001b[0m\u001b[0;34m\u001b[0m\u001b[0;34m\u001b[0m\u001b[0m\n\u001b[1;32m   2238\u001b[0m             \u001b[0;34m\"resulting train set will be empty. Adjust any of the \"\u001b[0m\u001b[0;34m\u001b[0m\u001b[0;34m\u001b[0m\u001b[0m\n",
            "\u001b[0;31mValueError\u001b[0m: With n_samples=0, test_size=0.2 and train_size=None, the resulting train set will be empty. Adjust any of the aforementioned parameters."
          ]
        }
      ],
      "source": [
        "# from sklearn.model_selection import train_test_split\n",
        "# labels = np.array(df[\"Class\"])\n",
        "# train_images, test_images, train_labels, test_labels = train_test_split(train_generator, test_size=0.2, random_state=42)\n"
      ]
    },
    {
      "cell_type": "code",
      "execution_count": null,
      "id": "7506b276",
      "metadata": {
        "execution": {
          "iopub.execute_input": "2024-04-18T02:38:53.639123Z",
          "iopub.status.busy": "2024-04-18T02:38:53.638279Z",
          "iopub.status.idle": "2024-04-18T02:38:53.817470Z",
          "shell.execute_reply": "2024-04-18T02:38:53.816592Z"
        },
        "papermill": {
          "duration": 0.200508,
          "end_time": "2024-04-18T02:38:53.819600",
          "exception": false,
          "start_time": "2024-04-18T02:38:53.619092",
          "status": "completed"
        },
        "tags": [],
        "id": "7506b276",
        "outputId": "2ad8b207-18ed-4601-a197-ac5f553f97f4"
      },
      "outputs": [
        {
          "data": {
            "text/plain": [
              "0"
            ]
          },
          "execution_count": 30,
          "metadata": {},
          "output_type": "execute_result"
        }
      ],
      "source": [
        "import gc\n",
        "\n",
        "# Assume `arr` is your numpy array\n",
        "del images\n",
        "\n",
        "# Run the garbage collector\n",
        "gc.collect()"
      ]
    },
    {
      "cell_type": "code",
      "execution_count": null,
      "id": "ccda1dbf",
      "metadata": {
        "execution": {
          "iopub.execute_input": "2024-04-18T02:38:53.857097Z",
          "iopub.status.busy": "2024-04-18T02:38:53.856717Z",
          "iopub.status.idle": "2024-04-18T02:38:53.866341Z",
          "shell.execute_reply": "2024-04-18T02:38:53.865213Z"
        },
        "id": "ccda1dbf",
        "outputId": "db02cfbb-a35b-4584-d5a3-e7f69ad31ec6",
        "papermill": {
          "duration": 0.03134,
          "end_time": "2024-04-18T02:38:53.868920",
          "exception": false,
          "start_time": "2024-04-18T02:38:53.837580",
          "status": "completed"
        },
        "tags": []
      },
      "outputs": [
        {
          "name": "stdout",
          "output_type": "stream",
          "text": [
            "[0 2 0 ... 2 0 2]\n",
            "[1 2 1 ... 1 3 2]\n"
          ]
        }
      ],
      "source": [
        "from sklearn.preprocessing import LabelEncoder\n",
        "label_encoder = LabelEncoder()\n",
        "train_labels_encoded = label_encoder.fit_transform(train_labels)\n",
        "test_labels_encoded = label_encoder.transform(test_labels)\n",
        "\n",
        "# Verify the encoded labels\n",
        "print(train_labels_encoded)\n",
        "print(test_labels_encoded)"
      ]
    },
    {
      "cell_type": "code",
      "execution_count": null,
      "id": "30f00fe0",
      "metadata": {
        "execution": {
          "iopub.execute_input": "2024-04-18T02:38:53.912633Z",
          "iopub.status.busy": "2024-04-18T02:38:53.911929Z",
          "iopub.status.idle": "2024-04-18T02:38:53.917957Z",
          "shell.execute_reply": "2024-04-18T02:38:53.916923Z"
        },
        "id": "30f00fe0",
        "outputId": "11fedfe4-f4b3-4f63-b745-56561109d4b9",
        "papermill": {
          "duration": 0.029612,
          "end_time": "2024-04-18T02:38:53.920252",
          "exception": false,
          "start_time": "2024-04-18T02:38:53.890640",
          "status": "completed"
        },
        "tags": []
      },
      "outputs": [
        {
          "name": "stdout",
          "output_type": "stream",
          "text": [
            "(8192, 208, 176, 3) (2048, 208, 176, 3) (8192,) (2048,)\n"
          ]
        }
      ],
      "source": [
        "print(train_images.shape, test_images.shape, train_labels_encoded.shape, test_labels_encoded.shape)"
      ]
    },
    {
      "cell_type": "code",
      "execution_count": null,
      "id": "306339a6",
      "metadata": {
        "execution": {
          "iopub.execute_input": "2024-04-18T02:38:53.958517Z",
          "iopub.status.busy": "2024-04-18T02:38:53.957761Z",
          "iopub.status.idle": "2024-04-18T02:38:53.965634Z",
          "shell.execute_reply": "2024-04-18T02:38:53.964443Z"
        },
        "id": "306339a6",
        "outputId": "fcf36ea2-e3b4-4f55-e968-966f54b7e4b8",
        "papermill": {
          "duration": 0.029755,
          "end_time": "2024-04-18T02:38:53.968495",
          "exception": false,
          "start_time": "2024-04-18T02:38:53.938740",
          "status": "completed"
        },
        "tags": []
      },
      "outputs": [
        {
          "name": "stdout",
          "output_type": "stream",
          "text": [
            "[1 2 1 ... 1 3 2]\n"
          ]
        },
        {
          "data": {
            "text/plain": [
              "array([1, 2, 1, ..., 1, 3, 2])"
            ]
          },
          "execution_count": 33,
          "metadata": {},
          "output_type": "execute_result"
        }
      ],
      "source": [
        "print(test_labels)\n",
        "test_labels_encoded"
      ]
    },
    {
      "cell_type": "code",
      "execution_count": null,
      "id": "9492c3d2",
      "metadata": {
        "execution": {
          "iopub.execute_input": "2024-04-18T02:38:54.011306Z",
          "iopub.status.busy": "2024-04-18T02:38:54.010327Z",
          "iopub.status.idle": "2024-04-18T02:38:54.015049Z",
          "shell.execute_reply": "2024-04-18T02:38:54.013931Z"
        },
        "id": "9492c3d2",
        "papermill": {
          "duration": 0.028656,
          "end_time": "2024-04-18T02:38:54.017474",
          "exception": false,
          "start_time": "2024-04-18T02:38:53.988818",
          "status": "completed"
        },
        "tags": []
      },
      "outputs": [],
      "source": [
        "# print(x.index, x.values, x.array)"
      ]
    },
    {
      "cell_type": "code",
      "execution_count": null,
      "id": "5f7b291d",
      "metadata": {
        "execution": {
          "iopub.execute_input": "2024-04-18T02:38:54.056208Z",
          "iopub.status.busy": "2024-04-18T02:38:54.055371Z",
          "iopub.status.idle": "2024-04-18T02:38:54.060235Z",
          "shell.execute_reply": "2024-04-18T02:38:54.059167Z"
        },
        "id": "5f7b291d",
        "papermill": {
          "duration": 0.026178,
          "end_time": "2024-04-18T02:38:54.062485",
          "exception": false,
          "start_time": "2024-04-18T02:38:54.036307",
          "status": "completed"
        },
        "tags": []
      },
      "outputs": [],
      "source": [
        "# s = x / len(files)\n",
        "# class_weights = {i:j for i, j in zip(s.index, s.values)}\n",
        "\n",
        "# class_weights\n",
        "# Optional normalization (weights sum to 1)\n",
        "# total_weight = sum(class_weights.values())\n",
        "# class_weights = {class_label: weight / total_weight for class_label, weight in class_weights.items()}\n"
      ]
    },
    {
      "cell_type": "code",
      "execution_count": null,
      "id": "d368f928",
      "metadata": {
        "execution": {
          "iopub.execute_input": "2024-04-18T02:38:54.105263Z",
          "iopub.status.busy": "2024-04-18T02:38:54.104881Z",
          "iopub.status.idle": "2024-04-18T02:39:06.664758Z",
          "shell.execute_reply": "2024-04-18T02:39:06.663697Z"
        },
        "id": "d368f928",
        "papermill": {
          "duration": 12.584315,
          "end_time": "2024-04-18T02:39:06.667503",
          "exception": false,
          "start_time": "2024-04-18T02:38:54.083188",
          "status": "completed"
        },
        "tags": [],
        "outputId": "225eb06b-e77e-4df6-b90a-263e55cf8f66"
      },
      "outputs": [
        {
          "name": "stderr",
          "output_type": "stream",
          "text": [
            "2024-04-18 02:38:55.959113: E external/local_xla/xla/stream_executor/cuda/cuda_dnn.cc:9261] Unable to register cuDNN factory: Attempting to register factory for plugin cuDNN when one has already been registered\n",
            "2024-04-18 02:38:55.959259: E external/local_xla/xla/stream_executor/cuda/cuda_fft.cc:607] Unable to register cuFFT factory: Attempting to register factory for plugin cuFFT when one has already been registered\n",
            "2024-04-18 02:38:56.079626: E external/local_xla/xla/stream_executor/cuda/cuda_blas.cc:1515] Unable to register cuBLAS factory: Attempting to register factory for plugin cuBLAS when one has already been registered\n"
          ]
        }
      ],
      "source": [
        "from keras.models import Sequential\n",
        "from keras.layers import Conv2D, MaxPooling2D, Flatten, Dense, Dropout, Input, BatchNormalization\n",
        "from keras.callbacks import EarlyStopping, LearningRateScheduler\n",
        "from keras.utils import to_categorical\n",
        "from sklearn.utils.class_weight import compute_sample_weight\n",
        "from sklearn.model_selection import train_test_split\n",
        "import numpy as np\n",
        "\n",
        "def conv_block(filters, act='relu'):\n",
        "    \"\"\"Defining a Convolutional NN block for a Sequential CNN model. \"\"\"\n",
        "\n",
        "    block = Sequential()\n",
        "    block.add(Conv2D(filters, 3, activation=act, padding='same'))\n",
        "    block.add(Conv2D(filters, 3, activation=act, padding='same'))\n",
        "    block.add(BatchNormalization())\n",
        "    block.add(MaxPooling2D((2, 2)))\n",
        "\n",
        "    return block"
      ]
    },
    {
      "cell_type": "code",
      "execution_count": null,
      "id": "f4928ef0",
      "metadata": {
        "execution": {
          "iopub.execute_input": "2024-04-18T02:39:06.711762Z",
          "iopub.status.busy": "2024-04-18T02:39:06.710547Z",
          "iopub.status.idle": "2024-04-18T02:39:06.716987Z",
          "shell.execute_reply": "2024-04-18T02:39:06.715960Z"
        },
        "id": "f4928ef0",
        "papermill": {
          "duration": 0.030851,
          "end_time": "2024-04-18T02:39:06.719383",
          "exception": false,
          "start_time": "2024-04-18T02:39:06.688532",
          "status": "completed"
        },
        "tags": []
      },
      "outputs": [],
      "source": [
        "def dense_block(units, dropout_rate, act='relu'):\n",
        "    \"\"\"Defining a Dense NN block for a Sequential CNN model. \"\"\"\n",
        "\n",
        "    block = Sequential()\n",
        "    block.add(Dense(units, activation=act))\n",
        "    block.add(BatchNormalization())\n",
        "    block.add(Dropout(dropout_rate))\n",
        "\n",
        "    return block"
      ]
    },
    {
      "cell_type": "code",
      "execution_count": null,
      "id": "88cd85eb",
      "metadata": {
        "execution": {
          "iopub.execute_input": "2024-04-18T02:39:06.758629Z",
          "iopub.status.busy": "2024-04-18T02:39:06.758226Z",
          "iopub.status.idle": "2024-04-18T02:39:06.762905Z",
          "shell.execute_reply": "2024-04-18T02:39:06.761702Z"
        },
        "id": "88cd85eb",
        "papermill": {
          "duration": 0.026972,
          "end_time": "2024-04-18T02:39:06.765287",
          "exception": false,
          "start_time": "2024-04-18T02:39:06.738315",
          "status": "completed"
        },
        "tags": []
      },
      "outputs": [],
      "source": [
        "# !pip install tensorflow_addons\n"
      ]
    },
    {
      "cell_type": "code",
      "execution_count": null,
      "id": "cefb4907",
      "metadata": {
        "execution": {
          "iopub.execute_input": "2024-04-18T02:39:06.808240Z",
          "iopub.status.busy": "2024-04-18T02:39:06.807861Z",
          "iopub.status.idle": "2024-04-18T02:39:07.452328Z",
          "shell.execute_reply": "2024-04-18T02:39:07.451242Z"
        },
        "id": "cefb4907",
        "papermill": {
          "duration": 0.668995,
          "end_time": "2024-04-18T02:39:07.454927",
          "exception": false,
          "start_time": "2024-04-18T02:39:06.785932",
          "status": "completed"
        },
        "tags": []
      },
      "outputs": [],
      "source": [
        "import tensorflow as tf\n",
        "\n",
        "class F1Score(tf.keras.metrics.Metric):\n",
        "    def __init__(self, num_classes, **kwargs):\n",
        "        super(F1Score, self).__init__(**kwargs)\n",
        "        self.num_classes = num_classes\n",
        "        self.precision = tf.keras.metrics.Precision()\n",
        "        self.recall = tf.keras.metrics.Recall()\n",
        "\n",
        "    def update_state(self, y_true, y_pred, sample_weight=None):\n",
        "        self.precision.update_state(y_true, y_pred, sample_weight)\n",
        "        self.recall.update_state(y_true, y_pred, sample_weight)\n",
        "\n",
        "    def result(self):\n",
        "        precision = self.precision.result()\n",
        "        recall = self.recall.result()\n",
        "        return 2 * ((precision * recall) / (precision + recall + tf.keras.backend.epsilon()))\n",
        "\n",
        "    def reset_states(self):\n",
        "        self.precision.reset_states()\n",
        "        self.recall.reset_states()\n",
        "\n",
        "METRICS = [tf.keras.metrics.CategoricalAccuracy(name='acc'),\n",
        "           tf.keras.metrics.AUC(name='auc'),\n",
        "           F1Score(num_classes=4)]"
      ]
    },
    {
      "cell_type": "code",
      "execution_count": null,
      "id": "2c437ddc",
      "metadata": {
        "execution": {
          "iopub.execute_input": "2024-04-18T02:39:07.546370Z",
          "iopub.status.busy": "2024-04-18T02:39:07.545509Z",
          "iopub.status.idle": "2024-04-18T02:39:07.552088Z",
          "shell.execute_reply": "2024-04-18T02:39:07.551044Z"
        },
        "id": "2c437ddc",
        "papermill": {
          "duration": 0.02984,
          "end_time": "2024-04-18T02:39:07.554123",
          "exception": false,
          "start_time": "2024-04-18T02:39:07.524283",
          "status": "completed"
        },
        "tags": []
      },
      "outputs": [],
      "source": [
        "def construct_model(act='relu'):\n",
        "    \"\"\"Constructing a Sequential CNN architecture for performing the classification task. \"\"\"\n",
        "\n",
        "    model = Sequential([\n",
        "        Input(shape=(input_shape)),\n",
        "#         conv_block(16),\n",
        "        conv_block(32),\n",
        "        conv_block(64),\n",
        "        conv_block(128),\n",
        "        Dropout(0.2),\n",
        "        conv_block(256),\n",
        "        Dropout(0.2),\n",
        "        Flatten(),\n",
        "        dense_block(512, 0.7),\n",
        "        dense_block(256, 0.5),\n",
        "        dense_block(64, 0.3),\n",
        "        Dense(4, activation='softmax')\n",
        "    ], name = \"cnn_model\")\n",
        "\n",
        "    return model"
      ]
    },
    {
      "cell_type": "code",
      "execution_count": null,
      "id": "e65d8f5c",
      "metadata": {
        "execution": {
          "iopub.execute_input": "2024-04-18T02:39:07.594254Z",
          "iopub.status.busy": "2024-04-18T02:39:07.593396Z",
          "iopub.status.idle": "2024-04-18T02:39:07.895989Z",
          "shell.execute_reply": "2024-04-18T02:39:07.894794Z"
        },
        "id": "e65d8f5c",
        "outputId": "8f02dd19-e3dc-43fd-e03b-8d86c8034548",
        "papermill": {
          "duration": 0.326608,
          "end_time": "2024-04-18T02:39:07.898360",
          "exception": false,
          "start_time": "2024-04-18T02:39:07.571752",
          "status": "completed"
        },
        "tags": []
      },
      "outputs": [
        {
          "data": {
            "text/html": [
              "<pre style=\"white-space:pre;overflow-x:auto;line-height:normal;font-family:Menlo,'DejaVu Sans Mono',consolas,'Courier New',monospace\"><span style=\"font-weight: bold\">Model: \"cnn_model\"</span>\n",
              "</pre>\n"
            ],
            "text/plain": [
              "\u001b[1mModel: \"cnn_model\"\u001b[0m\n"
            ]
          },
          "metadata": {},
          "output_type": "display_data"
        },
        {
          "data": {
            "text/html": [
              "<pre style=\"white-space:pre;overflow-x:auto;line-height:normal;font-family:Menlo,'DejaVu Sans Mono',consolas,'Courier New',monospace\">┏━━━━━━━━━━━━━━━━━━━━━━━━━━━━━━━━━┳━━━━━━━━━━━━━━━━━━━━━━━━┳━━━━━━━━━━━━━━━┓\n",
              "┃<span style=\"font-weight: bold\"> Layer (type)                    </span>┃<span style=\"font-weight: bold\"> Output Shape           </span>┃<span style=\"font-weight: bold\">       Param # </span>┃\n",
              "┡━━━━━━━━━━━━━━━━━━━━━━━━━━━━━━━━━╇━━━━━━━━━━━━━━━━━━━━━━━━╇━━━━━━━━━━━━━━━┩\n",
              "│ sequential (<span style=\"color: #0087ff; text-decoration-color: #0087ff\">Sequential</span>)         │ (<span style=\"color: #00d7ff; text-decoration-color: #00d7ff\">None</span>, <span style=\"color: #00af00; text-decoration-color: #00af00\">104</span>, <span style=\"color: #00af00; text-decoration-color: #00af00\">88</span>, <span style=\"color: #00af00; text-decoration-color: #00af00\">32</span>)    │        <span style=\"color: #00af00; text-decoration-color: #00af00\">10,272</span> │\n",
              "├─────────────────────────────────┼────────────────────────┼───────────────┤\n",
              "│ sequential_1 (<span style=\"color: #0087ff; text-decoration-color: #0087ff\">Sequential</span>)       │ (<span style=\"color: #00d7ff; text-decoration-color: #00d7ff\">None</span>, <span style=\"color: #00af00; text-decoration-color: #00af00\">52</span>, <span style=\"color: #00af00; text-decoration-color: #00af00\">44</span>, <span style=\"color: #00af00; text-decoration-color: #00af00\">64</span>)     │        <span style=\"color: #00af00; text-decoration-color: #00af00\">55,680</span> │\n",
              "├─────────────────────────────────┼────────────────────────┼───────────────┤\n",
              "│ sequential_2 (<span style=\"color: #0087ff; text-decoration-color: #0087ff\">Sequential</span>)       │ (<span style=\"color: #00d7ff; text-decoration-color: #00d7ff\">None</span>, <span style=\"color: #00af00; text-decoration-color: #00af00\">26</span>, <span style=\"color: #00af00; text-decoration-color: #00af00\">22</span>, <span style=\"color: #00af00; text-decoration-color: #00af00\">128</span>)    │       <span style=\"color: #00af00; text-decoration-color: #00af00\">221,952</span> │\n",
              "├─────────────────────────────────┼────────────────────────┼───────────────┤\n",
              "│ dropout (<span style=\"color: #0087ff; text-decoration-color: #0087ff\">Dropout</span>)               │ (<span style=\"color: #00d7ff; text-decoration-color: #00d7ff\">None</span>, <span style=\"color: #00af00; text-decoration-color: #00af00\">26</span>, <span style=\"color: #00af00; text-decoration-color: #00af00\">22</span>, <span style=\"color: #00af00; text-decoration-color: #00af00\">128</span>)    │             <span style=\"color: #00af00; text-decoration-color: #00af00\">0</span> │\n",
              "├─────────────────────────────────┼────────────────────────┼───────────────┤\n",
              "│ sequential_3 (<span style=\"color: #0087ff; text-decoration-color: #0087ff\">Sequential</span>)       │ (<span style=\"color: #00d7ff; text-decoration-color: #00d7ff\">None</span>, <span style=\"color: #00af00; text-decoration-color: #00af00\">13</span>, <span style=\"color: #00af00; text-decoration-color: #00af00\">11</span>, <span style=\"color: #00af00; text-decoration-color: #00af00\">256</span>)    │       <span style=\"color: #00af00; text-decoration-color: #00af00\">886,272</span> │\n",
              "├─────────────────────────────────┼────────────────────────┼───────────────┤\n",
              "│ dropout_1 (<span style=\"color: #0087ff; text-decoration-color: #0087ff\">Dropout</span>)             │ (<span style=\"color: #00d7ff; text-decoration-color: #00d7ff\">None</span>, <span style=\"color: #00af00; text-decoration-color: #00af00\">13</span>, <span style=\"color: #00af00; text-decoration-color: #00af00\">11</span>, <span style=\"color: #00af00; text-decoration-color: #00af00\">256</span>)    │             <span style=\"color: #00af00; text-decoration-color: #00af00\">0</span> │\n",
              "├─────────────────────────────────┼────────────────────────┼───────────────┤\n",
              "│ flatten (<span style=\"color: #0087ff; text-decoration-color: #0087ff\">Flatten</span>)               │ (<span style=\"color: #00d7ff; text-decoration-color: #00d7ff\">None</span>, <span style=\"color: #00af00; text-decoration-color: #00af00\">36608</span>)          │             <span style=\"color: #00af00; text-decoration-color: #00af00\">0</span> │\n",
              "├─────────────────────────────────┼────────────────────────┼───────────────┤\n",
              "│ sequential_4 (<span style=\"color: #0087ff; text-decoration-color: #0087ff\">Sequential</span>)       │ (<span style=\"color: #00d7ff; text-decoration-color: #00d7ff\">None</span>, <span style=\"color: #00af00; text-decoration-color: #00af00\">512</span>)            │    <span style=\"color: #00af00; text-decoration-color: #00af00\">18,745,856</span> │\n",
              "├─────────────────────────────────┼────────────────────────┼───────────────┤\n",
              "│ sequential_5 (<span style=\"color: #0087ff; text-decoration-color: #0087ff\">Sequential</span>)       │ (<span style=\"color: #00d7ff; text-decoration-color: #00d7ff\">None</span>, <span style=\"color: #00af00; text-decoration-color: #00af00\">256</span>)            │       <span style=\"color: #00af00; text-decoration-color: #00af00\">132,352</span> │\n",
              "├─────────────────────────────────┼────────────────────────┼───────────────┤\n",
              "│ sequential_6 (<span style=\"color: #0087ff; text-decoration-color: #0087ff\">Sequential</span>)       │ (<span style=\"color: #00d7ff; text-decoration-color: #00d7ff\">None</span>, <span style=\"color: #00af00; text-decoration-color: #00af00\">64</span>)             │        <span style=\"color: #00af00; text-decoration-color: #00af00\">16,704</span> │\n",
              "├─────────────────────────────────┼────────────────────────┼───────────────┤\n",
              "│ dense_3 (<span style=\"color: #0087ff; text-decoration-color: #0087ff\">Dense</span>)                 │ (<span style=\"color: #00d7ff; text-decoration-color: #00d7ff\">None</span>, <span style=\"color: #00af00; text-decoration-color: #00af00\">4</span>)              │           <span style=\"color: #00af00; text-decoration-color: #00af00\">260</span> │\n",
              "└─────────────────────────────────┴────────────────────────┴───────────────┘\n",
              "</pre>\n"
            ],
            "text/plain": [
              "┏━━━━━━━━━━━━━━━━━━━━━━━━━━━━━━━━━┳━━━━━━━━━━━━━━━━━━━━━━━━┳━━━━━━━━━━━━━━━┓\n",
              "┃\u001b[1m \u001b[0m\u001b[1mLayer (type)                   \u001b[0m\u001b[1m \u001b[0m┃\u001b[1m \u001b[0m\u001b[1mOutput Shape          \u001b[0m\u001b[1m \u001b[0m┃\u001b[1m \u001b[0m\u001b[1m      Param #\u001b[0m\u001b[1m \u001b[0m┃\n",
              "┡━━━━━━━━━━━━━━━━━━━━━━━━━━━━━━━━━╇━━━━━━━━━━━━━━━━━━━━━━━━╇━━━━━━━━━━━━━━━┩\n",
              "│ sequential (\u001b[38;5;33mSequential\u001b[0m)         │ (\u001b[38;5;45mNone\u001b[0m, \u001b[38;5;34m104\u001b[0m, \u001b[38;5;34m88\u001b[0m, \u001b[38;5;34m32\u001b[0m)    │        \u001b[38;5;34m10,272\u001b[0m │\n",
              "├─────────────────────────────────┼────────────────────────┼───────────────┤\n",
              "│ sequential_1 (\u001b[38;5;33mSequential\u001b[0m)       │ (\u001b[38;5;45mNone\u001b[0m, \u001b[38;5;34m52\u001b[0m, \u001b[38;5;34m44\u001b[0m, \u001b[38;5;34m64\u001b[0m)     │        \u001b[38;5;34m55,680\u001b[0m │\n",
              "├─────────────────────────────────┼────────────────────────┼───────────────┤\n",
              "│ sequential_2 (\u001b[38;5;33mSequential\u001b[0m)       │ (\u001b[38;5;45mNone\u001b[0m, \u001b[38;5;34m26\u001b[0m, \u001b[38;5;34m22\u001b[0m, \u001b[38;5;34m128\u001b[0m)    │       \u001b[38;5;34m221,952\u001b[0m │\n",
              "├─────────────────────────────────┼────────────────────────┼───────────────┤\n",
              "│ dropout (\u001b[38;5;33mDropout\u001b[0m)               │ (\u001b[38;5;45mNone\u001b[0m, \u001b[38;5;34m26\u001b[0m, \u001b[38;5;34m22\u001b[0m, \u001b[38;5;34m128\u001b[0m)    │             \u001b[38;5;34m0\u001b[0m │\n",
              "├─────────────────────────────────┼────────────────────────┼───────────────┤\n",
              "│ sequential_3 (\u001b[38;5;33mSequential\u001b[0m)       │ (\u001b[38;5;45mNone\u001b[0m, \u001b[38;5;34m13\u001b[0m, \u001b[38;5;34m11\u001b[0m, \u001b[38;5;34m256\u001b[0m)    │       \u001b[38;5;34m886,272\u001b[0m │\n",
              "├─────────────────────────────────┼────────────────────────┼───────────────┤\n",
              "│ dropout_1 (\u001b[38;5;33mDropout\u001b[0m)             │ (\u001b[38;5;45mNone\u001b[0m, \u001b[38;5;34m13\u001b[0m, \u001b[38;5;34m11\u001b[0m, \u001b[38;5;34m256\u001b[0m)    │             \u001b[38;5;34m0\u001b[0m │\n",
              "├─────────────────────────────────┼────────────────────────┼───────────────┤\n",
              "│ flatten (\u001b[38;5;33mFlatten\u001b[0m)               │ (\u001b[38;5;45mNone\u001b[0m, \u001b[38;5;34m36608\u001b[0m)          │             \u001b[38;5;34m0\u001b[0m │\n",
              "├─────────────────────────────────┼────────────────────────┼───────────────┤\n",
              "│ sequential_4 (\u001b[38;5;33mSequential\u001b[0m)       │ (\u001b[38;5;45mNone\u001b[0m, \u001b[38;5;34m512\u001b[0m)            │    \u001b[38;5;34m18,745,856\u001b[0m │\n",
              "├─────────────────────────────────┼────────────────────────┼───────────────┤\n",
              "│ sequential_5 (\u001b[38;5;33mSequential\u001b[0m)       │ (\u001b[38;5;45mNone\u001b[0m, \u001b[38;5;34m256\u001b[0m)            │       \u001b[38;5;34m132,352\u001b[0m │\n",
              "├─────────────────────────────────┼────────────────────────┼───────────────┤\n",
              "│ sequential_6 (\u001b[38;5;33mSequential\u001b[0m)       │ (\u001b[38;5;45mNone\u001b[0m, \u001b[38;5;34m64\u001b[0m)             │        \u001b[38;5;34m16,704\u001b[0m │\n",
              "├─────────────────────────────────┼────────────────────────┼───────────────┤\n",
              "│ dense_3 (\u001b[38;5;33mDense\u001b[0m)                 │ (\u001b[38;5;45mNone\u001b[0m, \u001b[38;5;34m4\u001b[0m)              │           \u001b[38;5;34m260\u001b[0m │\n",
              "└─────────────────────────────────┴────────────────────────┴───────────────┘\n"
            ]
          },
          "metadata": {},
          "output_type": "display_data"
        },
        {
          "data": {
            "text/html": [
              "<pre style=\"white-space:pre;overflow-x:auto;line-height:normal;font-family:Menlo,'DejaVu Sans Mono',consolas,'Courier New',monospace\"><span style=\"font-weight: bold\"> Total params: </span><span style=\"color: #00af00; text-decoration-color: #00af00\">20,069,348</span> (76.56 MB)\n",
              "</pre>\n"
            ],
            "text/plain": [
              "\u001b[1m Total params: \u001b[0m\u001b[38;5;34m20,069,348\u001b[0m (76.56 MB)\n"
            ]
          },
          "metadata": {},
          "output_type": "display_data"
        },
        {
          "data": {
            "text/html": [
              "<pre style=\"white-space:pre;overflow-x:auto;line-height:normal;font-family:Menlo,'DejaVu Sans Mono',consolas,'Courier New',monospace\"><span style=\"font-weight: bold\"> Trainable params: </span><span style=\"color: #00af00; text-decoration-color: #00af00\">20,066,724</span> (76.55 MB)\n",
              "</pre>\n"
            ],
            "text/plain": [
              "\u001b[1m Trainable params: \u001b[0m\u001b[38;5;34m20,066,724\u001b[0m (76.55 MB)\n"
            ]
          },
          "metadata": {},
          "output_type": "display_data"
        },
        {
          "data": {
            "text/html": [
              "<pre style=\"white-space:pre;overflow-x:auto;line-height:normal;font-family:Menlo,'DejaVu Sans Mono',consolas,'Courier New',monospace\"><span style=\"font-weight: bold\"> Non-trainable params: </span><span style=\"color: #00af00; text-decoration-color: #00af00\">2,624</span> (10.25 KB)\n",
              "</pre>\n"
            ],
            "text/plain": [
              "\u001b[1m Non-trainable params: \u001b[0m\u001b[38;5;34m2,624\u001b[0m (10.25 KB)\n"
            ]
          },
          "metadata": {},
          "output_type": "display_data"
        }
      ],
      "source": [
        "model = construct_model()\n",
        "model.compile(optimizer='adam',\n",
        "              loss='categorical_crossentropy',\n",
        "              metrics=METRICS)\n",
        "\n",
        "model.summary()\n"
      ]
    },
    {
      "cell_type": "code",
      "execution_count": null,
      "id": "0eb48594",
      "metadata": {
        "execution": {
          "iopub.execute_input": "2024-04-18T02:39:07.943693Z",
          "iopub.status.busy": "2024-04-18T02:39:07.943043Z",
          "iopub.status.idle": "2024-04-18T02:39:07.952494Z",
          "shell.execute_reply": "2024-04-18T02:39:07.951625Z"
        },
        "id": "0eb48594",
        "papermill": {
          "duration": 0.034501,
          "end_time": "2024-04-18T02:39:07.954608",
          "exception": false,
          "start_time": "2024-04-18T02:39:07.920107",
          "status": "completed"
        },
        "tags": []
      },
      "outputs": [],
      "source": [
        "from keras.optimizers import Adam\n",
        "def lr_schedule(epoch, learning_rate):\n",
        "    if epoch < 20:\n",
        "        return learning_rate\n",
        "    else:\n",
        "        if epoch % 2 == 0:\n",
        "          return learning_rate * 0.95\n",
        "        else:\n",
        "          return learning_rate\n",
        "\n",
        "lr_scheduler = LearningRateScheduler(lr_schedule, verbose=1)\n",
        "\n",
        "initial_learning_rate = 0.001\n",
        "optimizer = Adam(learning_rate=initial_learning_rate)"
      ]
    },
    {
      "cell_type": "code",
      "execution_count": null,
      "id": "db286fcd",
      "metadata": {
        "execution": {
          "iopub.execute_input": "2024-04-18T02:39:07.998217Z",
          "iopub.status.busy": "2024-04-18T02:39:07.997792Z",
          "iopub.status.idle": "2024-04-18T02:39:08.004556Z",
          "shell.execute_reply": "2024-04-18T02:39:08.003463Z"
        },
        "id": "db286fcd",
        "papermill": {
          "duration": 0.032177,
          "end_time": "2024-04-18T02:39:08.007036",
          "exception": false,
          "start_time": "2024-04-18T02:39:07.974859",
          "status": "completed"
        },
        "tags": []
      },
      "outputs": [],
      "source": [
        "class MyCallback(tf.keras.callbacks.Callback):\n",
        "    def on_epoch_end(self, epoch, logs={}):\n",
        "        if logs.get('val_acc') > 0.995:\n",
        "            print(\"\\nReached accuracy threshold! Terminating training.\")\n",
        "            self.model.stop_training = True\n",
        "\n",
        "my_callback = MyCallback()\n",
        "\n",
        "CALLBACKS = [my_callback, lr_scheduler]"
      ]
    },
    {
      "cell_type": "code",
      "execution_count": null,
      "id": "088f04a8",
      "metadata": {
        "execution": {
          "iopub.execute_input": "2024-04-18T02:39:08.051933Z",
          "iopub.status.busy": "2024-04-18T02:39:08.051511Z",
          "iopub.status.idle": "2024-04-18T03:07:36.767487Z",
          "shell.execute_reply": "2024-04-18T03:07:36.766432Z"
        },
        "id": "088f04a8",
        "outputId": "7d68c083-d5f4-4323-8514-204d0b2c4371",
        "papermill": {
          "duration": 1708.74153,
          "end_time": "2024-04-18T03:07:36.770224",
          "exception": false,
          "start_time": "2024-04-18T02:39:08.028694",
          "status": "completed"
        },
        "tags": []
      },
      "outputs": [
        {
          "name": "stdout",
          "output_type": "stream",
          "text": [
            "\n",
            "Epoch 1: LearningRateScheduler setting learning rate to 0.0010000000474974513.\n",
            "Epoch 1/50\n",
            "\u001b[1m  1/256\u001b[0m \u001b[37m━━━━━━━━━━━━━━━━━━━━\u001b[0m \u001b[1m2:59:09\u001b[0m 42s/step - acc: 0.2500 - auc: 0.4686 - f1_score: 0.1509 - loss: 2.3740"
          ]
        },
        {
          "name": "stderr",
          "output_type": "stream",
          "text": [
            "WARNING: All log messages before absl::InitializeLog() is called are written to STDERR\n",
            "I0000 00:00:1713408007.917337      72 device_compiler.h:186] Compiled cluster using XLA!  This line is logged at most once for the lifetime of the process.\n",
            "W0000 00:00:1713408007.952252      72 graph_launch.cc:671] Fallback to op-by-op mode because memset node breaks graph update\n"
          ]
        },
        {
          "name": "stdout",
          "output_type": "stream",
          "text": [
            "\u001b[1m256/256\u001b[0m \u001b[32m━━━━━━━━━━━━━━━━━━━━\u001b[0m\u001b[37m\u001b[0m \u001b[1m0s\u001b[0m 113ms/step - acc: 0.3838 - auc: 0.6594 - f1_score: 0.3406 - loss: 1.6308"
          ]
        },
        {
          "name": "stderr",
          "output_type": "stream",
          "text": [
            "W0000 00:00:1713408043.009719      71 graph_launch.cc:671] Fallback to op-by-op mode because memset node breaks graph update\n"
          ]
        },
        {
          "name": "stdout",
          "output_type": "stream",
          "text": [
            "\u001b[1m256/256\u001b[0m \u001b[32m━━━━━━━━━━━━━━━━━━━━\u001b[0m\u001b[37m\u001b[0m \u001b[1m79s\u001b[0m 145ms/step - acc: 0.3839 - auc: 0.6596 - f1_score: 0.3407 - loss: 1.6301 - val_acc: 0.2305 - val_auc: 0.4986 - val_f1_score: 0.2305 - val_loss: 6.0890 - learning_rate: 0.0010\n",
            "\n",
            "Epoch 2: LearningRateScheduler setting learning rate to 0.0010000000474974513.\n",
            "Epoch 2/50\n",
            "\u001b[1m256/256\u001b[0m \u001b[32m━━━━━━━━━━━━━━━━━━━━\u001b[0m\u001b[37m\u001b[0m \u001b[1m32s\u001b[0m 123ms/step - acc: 0.4452 - auc: 0.7426 - f1_score: 0.3780 - loss: 1.2052 - val_acc: 0.4492 - val_auc: 0.7609 - val_f1_score: 0.2843 - val_loss: 1.1241 - learning_rate: 0.0010\n",
            "\n",
            "Epoch 3: LearningRateScheduler setting learning rate to 0.0010000000474974513.\n",
            "Epoch 3/50\n",
            "\u001b[1m256/256\u001b[0m \u001b[32m━━━━━━━━━━━━━━━━━━━━\u001b[0m\u001b[37m\u001b[0m \u001b[1m33s\u001b[0m 128ms/step - acc: 0.4699 - auc: 0.7772 - f1_score: 0.3870 - loss: 1.0761 - val_acc: 0.3223 - val_auc: 0.6424 - val_f1_score: 0.1763 - val_loss: 1.3272 - learning_rate: 0.0010\n",
            "\n",
            "Epoch 4: LearningRateScheduler setting learning rate to 0.0010000000474974513.\n",
            "Epoch 4/50\n",
            "\u001b[1m256/256\u001b[0m \u001b[32m━━━━━━━━━━━━━━━━━━━━\u001b[0m\u001b[37m\u001b[0m \u001b[1m32s\u001b[0m 126ms/step - acc: 0.5383 - auc: 0.8188 - f1_score: 0.4423 - loss: 0.9762 - val_acc: 0.2598 - val_auc: 0.5334 - val_f1_score: 0.2598 - val_loss: 10.0822 - learning_rate: 0.0010\n",
            "\n",
            "Epoch 5: LearningRateScheduler setting learning rate to 0.0010000000474974513.\n",
            "Epoch 5/50\n",
            "\u001b[1m256/256\u001b[0m \u001b[32m━━━━━━━━━━━━━━━━━━━━\u001b[0m\u001b[37m\u001b[0m \u001b[1m32s\u001b[0m 126ms/step - acc: 0.6358 - auc: 0.8835 - f1_score: 0.5952 - loss: 0.7975 - val_acc: 0.5757 - val_auc: 0.8516 - val_f1_score: 0.5503 - val_loss: 0.8727 - learning_rate: 0.0010\n",
            "\n",
            "Epoch 6: LearningRateScheduler setting learning rate to 0.0010000000474974513.\n",
            "Epoch 6/50\n",
            "\u001b[1m256/256\u001b[0m \u001b[32m━━━━━━━━━━━━━━━━━━━━\u001b[0m\u001b[37m\u001b[0m \u001b[1m32s\u001b[0m 127ms/step - acc: 0.6964 - auc: 0.9174 - f1_score: 0.6832 - loss: 0.6711 - val_acc: 0.7710 - val_auc: 0.9507 - val_f1_score: 0.7564 - val_loss: 0.5404 - learning_rate: 0.0010\n",
            "\n",
            "Epoch 7: LearningRateScheduler setting learning rate to 0.0010000000474974513.\n",
            "Epoch 7/50\n",
            "\u001b[1m256/256\u001b[0m \u001b[32m━━━━━━━━━━━━━━━━━━━━\u001b[0m\u001b[37m\u001b[0m \u001b[1m33s\u001b[0m 127ms/step - acc: 0.7321 - auc: 0.9317 - f1_score: 0.7133 - loss: 0.6066 - val_acc: 0.7017 - val_auc: 0.9323 - val_f1_score: 0.6968 - val_loss: 0.6037 - learning_rate: 0.0010\n",
            "\n",
            "Epoch 8: LearningRateScheduler setting learning rate to 0.0010000000474974513.\n",
            "Epoch 8/50\n",
            "\u001b[1m256/256\u001b[0m \u001b[32m━━━━━━━━━━━━━━━━━━━━\u001b[0m\u001b[37m\u001b[0m \u001b[1m32s\u001b[0m 127ms/step - acc: 0.7494 - auc: 0.9413 - f1_score: 0.7405 - loss: 0.5621 - val_acc: 0.5381 - val_auc: 0.8122 - val_f1_score: 0.5395 - val_loss: 1.0979 - learning_rate: 0.0010\n",
            "\n",
            "Epoch 9: LearningRateScheduler setting learning rate to 0.0010000000474974513.\n",
            "Epoch 9/50\n",
            "\u001b[1m256/256\u001b[0m \u001b[32m━━━━━━━━━━━━━━━━━━━━\u001b[0m\u001b[37m\u001b[0m \u001b[1m32s\u001b[0m 127ms/step - acc: 0.7750 - auc: 0.9486 - f1_score: 0.7707 - loss: 0.5337 - val_acc: 0.3799 - val_auc: 0.6103 - val_f1_score: 0.3801 - val_loss: 8.0441 - learning_rate: 0.0010\n",
            "\n",
            "Epoch 10: LearningRateScheduler setting learning rate to 0.0010000000474974513.\n",
            "Epoch 10/50\n",
            "\u001b[1m256/256\u001b[0m \u001b[32m━━━━━━━━━━━━━━━━━━━━\u001b[0m\u001b[37m\u001b[0m \u001b[1m32s\u001b[0m 126ms/step - acc: 0.7239 - auc: 0.9287 - f1_score: 0.7066 - loss: 0.6246 - val_acc: 0.7388 - val_auc: 0.9436 - val_f1_score: 0.7392 - val_loss: 0.5496 - learning_rate: 0.0010\n",
            "\n",
            "Epoch 11: LearningRateScheduler setting learning rate to 0.0010000000474974513.\n",
            "Epoch 11/50\n",
            "\u001b[1m256/256\u001b[0m \u001b[32m━━━━━━━━━━━━━━━━━━━━\u001b[0m\u001b[37m\u001b[0m \u001b[1m32s\u001b[0m 127ms/step - acc: 0.7885 - auc: 0.9554 - f1_score: 0.7767 - loss: 0.4909 - val_acc: 0.6733 - val_auc: 0.9131 - val_f1_score: 0.6663 - val_loss: 0.7555 - learning_rate: 0.0010\n",
            "\n",
            "Epoch 12: LearningRateScheduler setting learning rate to 0.0010000000474974513.\n",
            "Epoch 12/50\n",
            "\u001b[1m256/256\u001b[0m \u001b[32m━━━━━━━━━━━━━━━━━━━━\u001b[0m\u001b[37m\u001b[0m \u001b[1m32s\u001b[0m 126ms/step - acc: 0.8248 - auc: 0.9683 - f1_score: 0.8211 - loss: 0.4148 - val_acc: 0.7920 - val_auc: 0.9613 - val_f1_score: 0.7931 - val_loss: 0.4616 - learning_rate: 0.0010\n",
            "\n",
            "Epoch 13: LearningRateScheduler setting learning rate to 0.0010000000474974513.\n",
            "Epoch 13/50\n",
            "\u001b[1m256/256\u001b[0m \u001b[32m━━━━━━━━━━━━━━━━━━━━\u001b[0m\u001b[37m\u001b[0m \u001b[1m32s\u001b[0m 126ms/step - acc: 0.8547 - auc: 0.9750 - f1_score: 0.8537 - loss: 0.3679 - val_acc: 0.8413 - val_auc: 0.9646 - val_f1_score: 0.8408 - val_loss: 0.4722 - learning_rate: 0.0010\n",
            "\n",
            "Epoch 14: LearningRateScheduler setting learning rate to 0.0010000000474974513.\n",
            "Epoch 14/50\n",
            "\u001b[1m256/256\u001b[0m \u001b[32m━━━━━━━━━━━━━━━━━━━━\u001b[0m\u001b[37m\u001b[0m \u001b[1m32s\u001b[0m 126ms/step - acc: 0.8901 - auc: 0.9848 - f1_score: 0.8894 - loss: 0.2854 - val_acc: 0.3330 - val_auc: 0.5635 - val_f1_score: 0.3333 - val_loss: 50.7038 - learning_rate: 0.0010\n",
            "\n",
            "Epoch 15: LearningRateScheduler setting learning rate to 0.0010000000474974513.\n",
            "Epoch 15/50\n",
            "\u001b[1m256/256\u001b[0m \u001b[32m━━━━━━━━━━━━━━━━━━━━\u001b[0m\u001b[37m\u001b[0m \u001b[1m32s\u001b[0m 126ms/step - acc: 0.8455 - auc: 0.9711 - f1_score: 0.8453 - loss: 0.3959 - val_acc: 0.8369 - val_auc: 0.9740 - val_f1_score: 0.8382 - val_loss: 0.3879 - learning_rate: 0.0010\n",
            "\n",
            "Epoch 16: LearningRateScheduler setting learning rate to 0.0010000000474974513.\n",
            "Epoch 16/50\n",
            "\u001b[1m256/256\u001b[0m \u001b[32m━━━━━━━━━━━━━━━━━━━━\u001b[0m\u001b[37m\u001b[0m \u001b[1m32s\u001b[0m 126ms/step - acc: 0.9149 - auc: 0.9901 - f1_score: 0.9139 - loss: 0.2286 - val_acc: 0.7764 - val_auc: 0.9534 - val_f1_score: 0.7765 - val_loss: 0.5511 - learning_rate: 0.0010\n",
            "\n",
            "Epoch 17: LearningRateScheduler setting learning rate to 0.0010000000474974513.\n",
            "Epoch 17/50\n",
            "\u001b[1m256/256\u001b[0m \u001b[32m━━━━━━━━━━━━━━━━━━━━\u001b[0m\u001b[37m\u001b[0m \u001b[1m32s\u001b[0m 126ms/step - acc: 0.9372 - auc: 0.9937 - f1_score: 0.9368 - loss: 0.1773 - val_acc: 0.7339 - val_auc: 0.9375 - val_f1_score: 0.7333 - val_loss: 0.7424 - learning_rate: 0.0010\n",
            "\n",
            "Epoch 18: LearningRateScheduler setting learning rate to 0.0010000000474974513.\n",
            "Epoch 18/50\n",
            "\u001b[1m256/256\u001b[0m \u001b[32m━━━━━━━━━━━━━━━━━━━━\u001b[0m\u001b[37m\u001b[0m \u001b[1m32s\u001b[0m 126ms/step - acc: 0.9358 - auc: 0.9939 - f1_score: 0.9365 - loss: 0.1735 - val_acc: 0.9150 - val_auc: 0.9901 - val_f1_score: 0.9143 - val_loss: 0.2304 - learning_rate: 0.0010\n",
            "\n",
            "Epoch 19: LearningRateScheduler setting learning rate to 0.0010000000474974513.\n",
            "Epoch 19/50\n",
            "\u001b[1m256/256\u001b[0m \u001b[32m━━━━━━━━━━━━━━━━━━━━\u001b[0m\u001b[37m\u001b[0m \u001b[1m32s\u001b[0m 126ms/step - acc: 0.9325 - auc: 0.9933 - f1_score: 0.9322 - loss: 0.1799 - val_acc: 0.9229 - val_auc: 0.9929 - val_f1_score: 0.9233 - val_loss: 0.1967 - learning_rate: 0.0010\n",
            "\n",
            "Epoch 20: LearningRateScheduler setting learning rate to 0.0010000000474974513.\n",
            "Epoch 20/50\n",
            "\u001b[1m256/256\u001b[0m \u001b[32m━━━━━━━━━━━━━━━━━━━━\u001b[0m\u001b[37m\u001b[0m \u001b[1m32s\u001b[0m 126ms/step - acc: 0.9589 - auc: 0.9970 - f1_score: 0.9585 - loss: 0.1188 - val_acc: 0.6982 - val_auc: 0.9102 - val_f1_score: 0.6993 - val_loss: 1.1533 - learning_rate: 0.0010\n",
            "\n",
            "Epoch 21: LearningRateScheduler setting learning rate to 0.0009500000451225787.\n",
            "Epoch 21/50\n",
            "\u001b[1m256/256\u001b[0m \u001b[32m━━━━━━━━━━━━━━━━━━━━\u001b[0m\u001b[37m\u001b[0m \u001b[1m32s\u001b[0m 126ms/step - acc: 0.9584 - auc: 0.9975 - f1_score: 0.9577 - loss: 0.1068 - val_acc: 0.9600 - val_auc: 0.9970 - val_f1_score: 0.9595 - val_loss: 0.1156 - learning_rate: 9.5000e-04\n",
            "\n",
            "Epoch 22: LearningRateScheduler setting learning rate to 0.0009500000160187483.\n",
            "Epoch 22/50\n",
            "\u001b[1m256/256\u001b[0m \u001b[32m━━━━━━━━━━━━━━━━━━━━\u001b[0m\u001b[37m\u001b[0m \u001b[1m32s\u001b[0m 126ms/step - acc: 0.9659 - auc: 0.9976 - f1_score: 0.9660 - loss: 0.0972 - val_acc: 0.9331 - val_auc: 0.9938 - val_f1_score: 0.9332 - val_loss: 0.1777 - learning_rate: 9.5000e-04\n",
            "\n",
            "Epoch 23: LearningRateScheduler setting learning rate to 0.0009025000152178108.\n",
            "Epoch 23/50\n",
            "\u001b[1m256/256\u001b[0m \u001b[32m━━━━━━━━━━━━━━━━━━━━\u001b[0m\u001b[37m\u001b[0m \u001b[1m32s\u001b[0m 126ms/step - acc: 0.9717 - auc: 0.9982 - f1_score: 0.9716 - loss: 0.0868 - val_acc: 0.9639 - val_auc: 0.9986 - val_f1_score: 0.9640 - val_loss: 0.0882 - learning_rate: 9.0250e-04\n",
            "\n",
            "Epoch 24: LearningRateScheduler setting learning rate to 0.0009025000035762787.\n",
            "Epoch 24/50\n",
            "\u001b[1m256/256\u001b[0m \u001b[32m━━━━━━━━━━━━━━━━━━━━\u001b[0m\u001b[37m\u001b[0m \u001b[1m32s\u001b[0m 126ms/step - acc: 0.9760 - auc: 0.9984 - f1_score: 0.9750 - loss: 0.0778 - val_acc: 0.9702 - val_auc: 0.9986 - val_f1_score: 0.9705 - val_loss: 0.0813 - learning_rate: 9.0250e-04\n",
            "\n",
            "Epoch 25: LearningRateScheduler setting learning rate to 0.0008573750033974647.\n",
            "Epoch 25/50\n",
            "\u001b[1m256/256\u001b[0m \u001b[32m━━━━━━━━━━━━━━━━━━━━\u001b[0m\u001b[37m\u001b[0m \u001b[1m41s\u001b[0m 127ms/step - acc: 0.9829 - auc: 0.9992 - f1_score: 0.9833 - loss: 0.0549 - val_acc: 0.9429 - val_auc: 0.9939 - val_f1_score: 0.9425 - val_loss: 0.1710 - learning_rate: 8.5737e-04\n",
            "\n",
            "Epoch 26: LearningRateScheduler setting learning rate to 0.0008573749801144004.\n",
            "Epoch 26/50\n",
            "\u001b[1m256/256\u001b[0m \u001b[32m━━━━━━━━━━━━━━━━━━━━\u001b[0m\u001b[37m\u001b[0m \u001b[1m32s\u001b[0m 126ms/step - acc: 0.9745 - auc: 0.9987 - f1_score: 0.9743 - loss: 0.0724 - val_acc: 0.9336 - val_auc: 0.9921 - val_f1_score: 0.9335 - val_loss: 0.2017 - learning_rate: 8.5737e-04\n",
            "\n",
            "Epoch 27: LearningRateScheduler setting learning rate to 0.0008145062311086804.\n",
            "Epoch 27/50\n",
            "\u001b[1m256/256\u001b[0m \u001b[32m━━━━━━━━━━━━━━━━━━━━\u001b[0m\u001b[37m\u001b[0m \u001b[1m32s\u001b[0m 126ms/step - acc: 0.9754 - auc: 0.9980 - f1_score: 0.9750 - loss: 0.0764 - val_acc: 0.9595 - val_auc: 0.9964 - val_f1_score: 0.9590 - val_loss: 0.1093 - learning_rate: 8.1451e-04\n",
            "\n",
            "Epoch 28: LearningRateScheduler setting learning rate to 0.0008145062020048499.\n",
            "Epoch 28/50\n",
            "\u001b[1m256/256\u001b[0m \u001b[32m━━━━━━━━━━━━━━━━━━━━\u001b[0m\u001b[37m\u001b[0m \u001b[1m41s\u001b[0m 127ms/step - acc: 0.9796 - auc: 0.9989 - f1_score: 0.9797 - loss: 0.0620 - val_acc: 0.9814 - val_auc: 0.9980 - val_f1_score: 0.9812 - val_loss: 0.0643 - learning_rate: 8.1451e-04\n",
            "\n",
            "Epoch 29: LearningRateScheduler setting learning rate to 0.0007737808919046074.\n",
            "Epoch 29/50\n",
            "\u001b[1m256/256\u001b[0m \u001b[32m━━━━━━━━━━━━━━━━━━━━\u001b[0m\u001b[37m\u001b[0m \u001b[1m32s\u001b[0m 126ms/step - acc: 0.9842 - auc: 0.9991 - f1_score: 0.9840 - loss: 0.0481 - val_acc: 0.9819 - val_auc: 0.9983 - val_f1_score: 0.9814 - val_loss: 0.0678 - learning_rate: 7.7378e-04\n",
            "\n",
            "Epoch 30: LearningRateScheduler setting learning rate to 0.000773780862800777.\n",
            "Epoch 30/50\n",
            "\u001b[1m256/256\u001b[0m \u001b[32m━━━━━━━━━━━━━━━━━━━━\u001b[0m\u001b[37m\u001b[0m \u001b[1m32s\u001b[0m 126ms/step - acc: 0.9803 - auc: 0.9985 - f1_score: 0.9798 - loss: 0.0621 - val_acc: 0.9346 - val_auc: 0.9916 - val_f1_score: 0.9348 - val_loss: 0.2137 - learning_rate: 7.7378e-04\n",
            "\n",
            "Epoch 31: LearningRateScheduler setting learning rate to 0.000735091819660738.\n",
            "Epoch 31/50\n",
            "\u001b[1m256/256\u001b[0m \u001b[32m━━━━━━━━━━━━━━━━━━━━\u001b[0m\u001b[37m\u001b[0m \u001b[1m32s\u001b[0m 126ms/step - acc: 0.9836 - auc: 0.9993 - f1_score: 0.9831 - loss: 0.0498 - val_acc: 0.9688 - val_auc: 0.9980 - val_f1_score: 0.9687 - val_loss: 0.0882 - learning_rate: 7.3509e-04\n",
            "\n",
            "Epoch 32: LearningRateScheduler setting learning rate to 0.0007350918021984398.\n",
            "Epoch 32/50\n",
            "\u001b[1m256/256\u001b[0m \u001b[32m━━━━━━━━━━━━━━━━━━━━\u001b[0m\u001b[37m\u001b[0m \u001b[1m32s\u001b[0m 126ms/step - acc: 0.9826 - auc: 0.9993 - f1_score: 0.9828 - loss: 0.0477 - val_acc: 0.9731 - val_auc: 0.9992 - val_f1_score: 0.9731 - val_loss: 0.0733 - learning_rate: 7.3509e-04\n",
            "\n",
            "Epoch 33: LearningRateScheduler setting learning rate to 0.0006983372120885178.\n",
            "Epoch 33/50\n",
            "\u001b[1m256/256\u001b[0m \u001b[32m━━━━━━━━━━━━━━━━━━━━\u001b[0m\u001b[37m\u001b[0m \u001b[1m32s\u001b[0m 126ms/step - acc: 0.9847 - auc: 0.9988 - f1_score: 0.9851 - loss: 0.0449 - val_acc: 0.9810 - val_auc: 0.9984 - val_f1_score: 0.9810 - val_loss: 0.0624 - learning_rate: 6.9834e-04\n",
            "\n",
            "Epoch 34: LearningRateScheduler setting learning rate to 0.0006983372149989009.\n",
            "Epoch 34/50\n",
            "\u001b[1m256/256\u001b[0m \u001b[32m━━━━━━━━━━━━━━━━━━━━\u001b[0m\u001b[37m\u001b[0m \u001b[1m32s\u001b[0m 126ms/step - acc: 0.9891 - auc: 0.9987 - f1_score: 0.9891 - loss: 0.0382 - val_acc: 0.9678 - val_auc: 0.9954 - val_f1_score: 0.9680 - val_loss: 0.1075 - learning_rate: 6.9834e-04\n",
            "\n",
            "Epoch 35: LearningRateScheduler setting learning rate to 0.0006634203542489559.\n",
            "Epoch 35/50\n",
            "\u001b[1m256/256\u001b[0m \u001b[32m━━━━━━━━━━━━━━━━━━━━\u001b[0m\u001b[37m\u001b[0m \u001b[1m32s\u001b[0m 126ms/step - acc: 0.9891 - auc: 0.9992 - f1_score: 0.9890 - loss: 0.0399 - val_acc: 0.9829 - val_auc: 0.9986 - val_f1_score: 0.9832 - val_loss: 0.0606 - learning_rate: 6.6342e-04\n",
            "\n",
            "Epoch 36: LearningRateScheduler setting learning rate to 0.0006634203600697219.\n",
            "Epoch 36/50\n",
            "\u001b[1m256/256\u001b[0m \u001b[32m━━━━━━━━━━━━━━━━━━━━\u001b[0m\u001b[37m\u001b[0m \u001b[1m32s\u001b[0m 126ms/step - acc: 0.9888 - auc: 0.9991 - f1_score: 0.9886 - loss: 0.0405 - val_acc: 0.9736 - val_auc: 0.9984 - val_f1_score: 0.9739 - val_loss: 0.0754 - learning_rate: 6.6342e-04\n",
            "\n",
            "Epoch 37: LearningRateScheduler setting learning rate to 0.0006302493420662358.\n",
            "Epoch 37/50\n",
            "\u001b[1m256/256\u001b[0m \u001b[32m━━━━━━━━━━━━━━━━━━━━\u001b[0m\u001b[37m\u001b[0m \u001b[1m32s\u001b[0m 126ms/step - acc: 0.9929 - auc: 0.9999 - f1_score: 0.9931 - loss: 0.0226 - val_acc: 0.9053 - val_auc: 0.9820 - val_f1_score: 0.9046 - val_loss: 0.3354 - learning_rate: 6.3025e-04\n",
            "\n",
            "Epoch 38: LearningRateScheduler setting learning rate to 0.0006302493275143206.\n",
            "Epoch 38/50\n",
            "\u001b[1m256/256\u001b[0m \u001b[32m━━━━━━━━━━━━━━━━━━━━\u001b[0m\u001b[37m\u001b[0m \u001b[1m32s\u001b[0m 126ms/step - acc: 0.9882 - auc: 0.9995 - f1_score: 0.9884 - loss: 0.0354 - val_acc: 0.9785 - val_auc: 0.9981 - val_f1_score: 0.9785 - val_loss: 0.0740 - learning_rate: 6.3025e-04\n",
            "\n",
            "Epoch 39: LearningRateScheduler setting learning rate to 0.0005987368611386045.\n",
            "Epoch 39/50\n",
            "\u001b[1m256/256\u001b[0m \u001b[32m━━━━━━━━━━━━━━━━━━━━\u001b[0m\u001b[37m\u001b[0m \u001b[1m32s\u001b[0m 126ms/step - acc: 0.9898 - auc: 0.9997 - f1_score: 0.9898 - loss: 0.0350 - val_acc: 0.9902 - val_auc: 0.9989 - val_f1_score: 0.9902 - val_loss: 0.0368 - learning_rate: 5.9874e-04\n",
            "\n",
            "Epoch 40: LearningRateScheduler setting learning rate to 0.0005987368640489876.\n",
            "Epoch 40/50\n",
            "\u001b[1m256/256\u001b[0m \u001b[32m━━━━━━━━━━━━━━━━━━━━\u001b[0m\u001b[37m\u001b[0m \u001b[1m32s\u001b[0m 126ms/step - acc: 0.9900 - auc: 0.9997 - f1_score: 0.9899 - loss: 0.0297 - val_acc: 0.9893 - val_auc: 0.9990 - val_f1_score: 0.9895 - val_loss: 0.0331 - learning_rate: 5.9874e-04\n",
            "\n",
            "Epoch 41: LearningRateScheduler setting learning rate to 0.0005688000208465382.\n",
            "Epoch 41/50\n",
            "\u001b[1m256/256\u001b[0m \u001b[32m━━━━━━━━━━━━━━━━━━━━\u001b[0m\u001b[37m\u001b[0m \u001b[1m32s\u001b[0m 126ms/step - acc: 0.9931 - auc: 0.9996 - f1_score: 0.9932 - loss: 0.0209 - val_acc: 0.9897 - val_auc: 0.9992 - val_f1_score: 0.9900 - val_loss: 0.0319 - learning_rate: 5.6880e-04\n",
            "\n",
            "Epoch 42: LearningRateScheduler setting learning rate to 0.0005688000237569213.\n",
            "Epoch 42/50\n",
            "\u001b[1m256/256\u001b[0m \u001b[32m━━━━━━━━━━━━━━━━━━━━\u001b[0m\u001b[37m\u001b[0m \u001b[1m32s\u001b[0m 126ms/step - acc: 0.9909 - auc: 0.9998 - f1_score: 0.9909 - loss: 0.0257 - val_acc: 0.9839 - val_auc: 0.9990 - val_f1_score: 0.9839 - val_loss: 0.0493 - learning_rate: 5.6880e-04\n",
            "\n",
            "Epoch 43: LearningRateScheduler setting learning rate to 0.0005403600225690752.\n",
            "Epoch 43/50\n",
            "\u001b[1m256/256\u001b[0m \u001b[32m━━━━━━━━━━━━━━━━━━━━\u001b[0m\u001b[37m\u001b[0m \u001b[1m32s\u001b[0m 126ms/step - acc: 0.9911 - auc: 0.9990 - f1_score: 0.9913 - loss: 0.0287 - val_acc: 0.9775 - val_auc: 0.9965 - val_f1_score: 0.9775 - val_loss: 0.0786 - learning_rate: 5.4036e-04\n",
            "\n",
            "Epoch 44: LearningRateScheduler setting learning rate to 0.0005403599934652448.\n",
            "Epoch 44/50\n",
            "\u001b[1m256/256\u001b[0m \u001b[32m━━━━━━━━━━━━━━━━━━━━\u001b[0m\u001b[37m\u001b[0m \u001b[1m32s\u001b[0m 126ms/step - acc: 0.9929 - auc: 0.9996 - f1_score: 0.9928 - loss: 0.0224 - val_acc: 0.9854 - val_auc: 0.9986 - val_f1_score: 0.9856 - val_loss: 0.0530 - learning_rate: 5.4036e-04\n",
            "\n",
            "Epoch 45: LearningRateScheduler setting learning rate to 0.0005133419937919825.\n",
            "Epoch 45/50\n",
            "\u001b[1m256/256\u001b[0m \u001b[32m━━━━━━━━━━━━━━━━━━━━\u001b[0m\u001b[37m\u001b[0m \u001b[1m32s\u001b[0m 126ms/step - acc: 0.9945 - auc: 0.9997 - f1_score: 0.9945 - loss: 0.0171 - val_acc: 0.9883 - val_auc: 0.9986 - val_f1_score: 0.9880 - val_loss: 0.0384 - learning_rate: 5.1334e-04\n",
            "\n",
            "Epoch 46: LearningRateScheduler setting learning rate to 0.0005133419763296843.\n",
            "Epoch 46/50\n",
            "\u001b[1m256/256\u001b[0m \u001b[32m━━━━━━━━━━━━━━━━━━━━\u001b[0m\u001b[37m\u001b[0m \u001b[1m32s\u001b[0m 126ms/step - acc: 0.9965 - auc: 0.9999 - f1_score: 0.9964 - loss: 0.0136 - val_acc: 0.9668 - val_auc: 0.9956 - val_f1_score: 0.9668 - val_loss: 0.1124 - learning_rate: 5.1334e-04\n",
            "\n",
            "Epoch 47: LearningRateScheduler setting learning rate to 0.0004876748775132.\n",
            "Epoch 47/50\n",
            "\u001b[1m256/256\u001b[0m \u001b[32m━━━━━━━━━━━━━━━━━━━━\u001b[0m\u001b[37m\u001b[0m \u001b[1m32s\u001b[0m 126ms/step - acc: 0.9931 - auc: 0.9998 - f1_score: 0.9931 - loss: 0.0193 - val_acc: 0.9834 - val_auc: 0.9972 - val_f1_score: 0.9834 - val_loss: 0.0525 - learning_rate: 4.8767e-04\n",
            "\n",
            "Epoch 48: LearningRateScheduler setting learning rate to 0.00048767487169243395.\n",
            "Epoch 48/50\n",
            "\u001b[1m256/256\u001b[0m \u001b[32m━━━━━━━━━━━━━━━━━━━━\u001b[0m\u001b[37m\u001b[0m \u001b[1m41s\u001b[0m 126ms/step - acc: 0.9940 - auc: 0.9999 - f1_score: 0.9939 - loss: 0.0161 - val_acc: 0.9883 - val_auc: 0.9984 - val_f1_score: 0.9883 - val_loss: 0.0415 - learning_rate: 4.8767e-04\n",
            "\n",
            "Epoch 49: LearningRateScheduler setting learning rate to 0.00046329112810781223.\n",
            "Epoch 49/50\n",
            "\u001b[1m256/256\u001b[0m \u001b[32m━━━━━━━━━━━━━━━━━━━━\u001b[0m\u001b[37m\u001b[0m \u001b[1m33s\u001b[0m 127ms/step - acc: 0.9907 - auc: 0.9995 - f1_score: 0.9907 - loss: 0.0238 - val_acc: 0.9893 - val_auc: 0.9991 - val_f1_score: 0.9893 - val_loss: 0.0392 - learning_rate: 4.6329e-04\n",
            "\n",
            "Epoch 50: LearningRateScheduler setting learning rate to 0.0004632911295630038.\n",
            "Epoch 50/50\n",
            "\u001b[1m256/256\u001b[0m \u001b[32m━━━━━━━━━━━━━━━━━━━━\u001b[0m\u001b[37m\u001b[0m \u001b[1m32s\u001b[0m 126ms/step - acc: 0.9919 - auc: 0.9990 - f1_score: 0.9919 - loss: 0.0270 - val_acc: 0.9829 - val_auc: 0.9984 - val_f1_score: 0.9834 - val_loss: 0.0557 - learning_rate: 4.6329e-04\n"
          ]
        }
      ],
      "source": [
        "EPOCHS = 50\n",
        "\n",
        "history = model.fit(train_images, train_labels_encoded, validation_data=(test_images, test_labels_encoded), callbacks=CALLBACKS, epochs=EPOCHS)"
      ]
    },
    {
      "cell_type": "code",
      "execution_count": null,
      "id": "016d2724",
      "metadata": {
        "execution": {
          "iopub.execute_input": "2024-04-18T03:07:39.272628Z",
          "iopub.status.busy": "2024-04-18T03:07:39.260146Z",
          "iopub.status.idle": "2024-04-18T03:07:39.277623Z",
          "shell.execute_reply": "2024-04-18T03:07:39.276474Z"
        },
        "id": "016d2724",
        "papermill": {
          "duration": 1.280311,
          "end_time": "2024-04-18T03:07:39.279925",
          "exception": false,
          "start_time": "2024-04-18T03:07:37.999614",
          "status": "completed"
        },
        "tags": []
      },
      "outputs": [],
      "source": [
        "\n",
        "\n",
        "# # Assuming train_images and test_images are your input image data\n",
        "\n",
        "\n",
        "# model = Sequential()\n",
        "# model.add(Input(shape=input_shape))\n",
        "# model.add(Conv2D(64, (3, 3), activation='relu'))\n",
        "# model.add(MaxPooling2D((2, 2)))\n",
        "# model.add(Conv2D(128, (3, 3), activation='relu'))\n",
        "# model.add(MaxPooling2D((2, 2)))\n",
        "# model.add(Conv2D(256, (3, 3), activation='relu'))\n",
        "# model.add(MaxPooling2D((2, 2)))\n",
        "# model.add(Dropout(0.2))\n",
        "# model.add(Flatten())\n",
        "# model.add(Dense(512, activation='relu'))\n",
        "# model.add(Dropout(0.5))\n",
        "# model.add(Dense(4, activation='softmax'))\n"
      ]
    },
    {
      "cell_type": "code",
      "execution_count": null,
      "id": "41b6eabd",
      "metadata": {
        "id": "41b6eabd",
        "papermill": {
          "duration": 1.226202,
          "end_time": "2024-04-18T03:07:41.803899",
          "exception": false,
          "start_time": "2024-04-18T03:07:40.577697",
          "status": "completed"
        },
        "tags": []
      },
      "outputs": [],
      "source": []
    },
    {
      "cell_type": "code",
      "execution_count": null,
      "id": "e16cb2ec",
      "metadata": {
        "execution": {
          "iopub.execute_input": "2024-04-18T03:07:44.471296Z",
          "iopub.status.busy": "2024-04-18T03:07:44.470536Z",
          "iopub.status.idle": "2024-04-18T03:07:44.475660Z",
          "shell.execute_reply": "2024-04-18T03:07:44.474566Z"
        },
        "id": "e16cb2ec",
        "papermill": {
          "duration": 1.304212,
          "end_time": "2024-04-18T03:07:44.478083",
          "exception": false,
          "start_time": "2024-04-18T03:07:43.173871",
          "status": "completed"
        },
        "tags": []
      },
      "outputs": [],
      "source": [
        "# import math\n",
        "# model.compile(optimizer=optimizer, loss='categorical_crossentropy', metrics=['accuracy'])\n",
        "\n",
        "# history = model.fit(train_images, train_labels_encoded,\n",
        "#                     steps_per_epoch = int(len(train_images) / 32),\n",
        "#                     epochs=50,\n",
        "#                     validation_data=(test_images, test_labels_encoded),\n",
        "#                     sample_weight=sample_weights,\n",
        "#                     callbacks=[lr_scheduler])"
      ]
    },
    {
      "cell_type": "code",
      "execution_count": null,
      "id": "0690a2ea",
      "metadata": {
        "execution": {
          "iopub.execute_input": "2024-04-18T03:07:46.928155Z",
          "iopub.status.busy": "2024-04-18T03:07:46.927762Z",
          "iopub.status.idle": "2024-04-18T03:07:54.398570Z",
          "shell.execute_reply": "2024-04-18T03:07:54.397281Z"
        },
        "id": "0690a2ea",
        "outputId": "a6c97217-ae85-4fa9-9dbb-66453758299a",
        "papermill": {
          "duration": 8.69827,
          "end_time": "2024-04-18T03:07:54.401234",
          "exception": false,
          "start_time": "2024-04-18T03:07:45.702964",
          "status": "completed"
        },
        "tags": []
      },
      "outputs": [
        {
          "name": "stdout",
          "output_type": "stream",
          "text": [
            "\u001b[1m 5/64\u001b[0m \u001b[32m━\u001b[0m\u001b[37m━━━━━━━━━━━━━━━━━━━\u001b[0m \u001b[1m2s\u001b[0m 36ms/step"
          ]
        },
        {
          "name": "stderr",
          "output_type": "stream",
          "text": [
            "W0000 00:00:1713409672.384326      72 graph_launch.cc:671] Fallback to op-by-op mode because memset node breaks graph update\n"
          ]
        },
        {
          "name": "stdout",
          "output_type": "stream",
          "text": [
            "\u001b[1m64/64\u001b[0m \u001b[32m━━━━━━━━━━━━━━━━━━━━\u001b[0m\u001b[37m\u001b[0m \u001b[1m3s\u001b[0m 28ms/step\n",
            "ROC AUC: 0.9994468326560391\n"
          ]
        }
      ],
      "source": [
        "import tensorflow as tf\n",
        "import numpy as np\n",
        "from sklearn.metrics import roc_auc_score\n",
        "\n",
        "y_prob = model.predict(test_images)\n",
        "y_prob = tf.nn.softmax(y_prob).numpy()\n",
        "\n",
        "# Compute ROC AUC for each class\n",
        "roc_auc = roc_auc_score(test_labels_encoded, y_prob, average='macro')\n",
        "\n",
        "print(\"ROC AUC:\", roc_auc)"
      ]
    },
    {
      "cell_type": "code",
      "execution_count": null,
      "id": "4604b74a",
      "metadata": {
        "execution": {
          "iopub.execute_input": "2024-04-18T03:07:56.980694Z",
          "iopub.status.busy": "2024-04-18T03:07:56.979801Z",
          "iopub.status.idle": "2024-04-18T03:07:57.105310Z",
          "shell.execute_reply": "2024-04-18T03:07:57.104321Z"
        },
        "id": "4604b74a",
        "outputId": "78eb29de-2ce9-4393-a4db-d7b849f30bf5",
        "papermill": {
          "duration": 1.357189,
          "end_time": "2024-04-18T03:07:57.107677",
          "exception": false,
          "start_time": "2024-04-18T03:07:55.750488",
          "status": "completed"
        },
        "tags": []
      },
      "outputs": [
        {
          "data": {
            "text/plain": [
              "1279"
            ]
          },
          "execution_count": 49,
          "metadata": {},
          "output_type": "execute_result"
        }
      ],
      "source": [
        "import os\n",
        "import numpy as np\n",
        "directory = '/kaggle/input/betterest-preproc/test'\n",
        "\n",
        "files = [file for file in os.listdir(directory) if file.endswith('.npy')]\n",
        "len(files)"
      ]
    },
    {
      "cell_type": "code",
      "execution_count": null,
      "id": "6c91e859",
      "metadata": {
        "execution": {
          "iopub.execute_input": "2024-04-18T03:07:59.788908Z",
          "iopub.status.busy": "2024-04-18T03:07:59.787966Z",
          "iopub.status.idle": "2024-04-18T03:07:59.795738Z",
          "shell.execute_reply": "2024-04-18T03:07:59.794687Z"
        },
        "id": "6c91e859",
        "outputId": "1d798d80-7117-4d28-d9d0-9a15e7d9b252",
        "papermill": {
          "duration": 1.334156,
          "end_time": "2024-04-18T03:07:59.798297",
          "exception": false,
          "start_time": "2024-04-18T03:07:58.464141",
          "status": "completed"
        },
        "tags": []
      },
      "outputs": [
        {
          "name": "stdout",
          "output_type": "stream",
          "text": [
            "179 12 640 448\n"
          ]
        }
      ],
      "source": [
        "mildDem = [i for i in files if i.startswith(\"MildDem\")]\n",
        "moderateDem = [i for i in files if \"ModerateDem\" in i]\n",
        "nonDem = [i for i in files if \"NonDem\" in i]\n",
        "veryMild = [i for i in files if \"VeryMildDem\" in i]\n",
        "print(len(mildDem), len(moderateDem), len(nonDem), len(veryMild))"
      ]
    },
    {
      "cell_type": "code",
      "execution_count": null,
      "id": "6189bde7",
      "metadata": {
        "execution": {
          "iopub.execute_input": "2024-04-18T03:08:02.325596Z",
          "iopub.status.busy": "2024-04-18T03:08:02.325143Z",
          "iopub.status.idle": "2024-04-18T03:08:02.355022Z",
          "shell.execute_reply": "2024-04-18T03:08:02.353833Z"
        },
        "id": "6189bde7",
        "outputId": "600c6f73-20c8-4423-b079-cfffcbc16536",
        "papermill": {
          "duration": 1.263531,
          "end_time": "2024-04-18T03:08:02.358311",
          "exception": false,
          "start_time": "2024-04-18T03:08:01.094780",
          "status": "completed"
        },
        "tags": []
      },
      "outputs": [
        {
          "data": {
            "text/plain": [
              "Class\n",
              "2    640\n",
              "3    448\n",
              "0    179\n",
              "1     12\n",
              "Name: count, dtype: int64"
            ]
          },
          "execution_count": 51,
          "metadata": {},
          "output_type": "execute_result"
        }
      ],
      "source": [
        "import pandas as pd\n",
        "l = [[mildDem, 0], [moderateDem, 1], [nonDem, 2], [veryMild, 3]]\n",
        "x = []\n",
        "for i in l:\n",
        "    for j in i[0]:\n",
        "        path = os.path.join(\"/kaggle/input/betterest-preproc/test\", j)\n",
        "        x.append([i[1], path])\n",
        "\n",
        "df = pd.DataFrame(x, columns=[\"Class\", \"Path\"])\n",
        "df[\"Class\"].value_counts()\n"
      ]
    },
    {
      "cell_type": "code",
      "execution_count": null,
      "id": "c2217ccc",
      "metadata": {
        "execution": {
          "iopub.execute_input": "2024-04-18T03:08:04.937083Z",
          "iopub.status.busy": "2024-04-18T03:08:04.936668Z",
          "iopub.status.idle": "2024-04-18T03:08:09.846150Z",
          "shell.execute_reply": "2024-04-18T03:08:09.845241Z"
        },
        "id": "c2217ccc",
        "papermill": {
          "duration": 6.146723,
          "end_time": "2024-04-18T03:08:09.849074",
          "exception": false,
          "start_time": "2024-04-18T03:08:03.702351",
          "status": "completed"
        },
        "tags": []
      },
      "outputs": [],
      "source": [
        "images = []\n",
        "for i in df[\"Path\"]:\n",
        "    images.append(np.load(i))\n",
        "images = np.array(images)"
      ]
    },
    {
      "cell_type": "code",
      "execution_count": null,
      "id": "fa20f042",
      "metadata": {
        "execution": {
          "iopub.execute_input": "2024-04-18T03:08:12.452363Z",
          "iopub.status.busy": "2024-04-18T03:08:12.451296Z",
          "iopub.status.idle": "2024-04-18T03:08:12.458221Z",
          "shell.execute_reply": "2024-04-18T03:08:12.457035Z"
        },
        "id": "fa20f042",
        "outputId": "2ce8d7b7-02bb-4732-ce0b-bd1af44e996d",
        "papermill": {
          "duration": 1.317023,
          "end_time": "2024-04-18T03:08:12.460593",
          "exception": false,
          "start_time": "2024-04-18T03:08:11.143570",
          "status": "completed"
        },
        "tags": []
      },
      "outputs": [
        {
          "name": "stdout",
          "output_type": "stream",
          "text": [
            "(1279, 4)\n"
          ]
        }
      ],
      "source": [
        "labels = df[\"Class\"]\n",
        "labels = to_categorical(labels, num_classes=4)\n",
        "print(labels.shape)"
      ]
    },
    {
      "cell_type": "code",
      "execution_count": null,
      "id": "82b0620e",
      "metadata": {
        "execution": {
          "iopub.execute_input": "2024-04-18T03:08:14.906410Z",
          "iopub.status.busy": "2024-04-18T03:08:14.905663Z",
          "iopub.status.idle": "2024-04-18T03:08:14.914085Z",
          "shell.execute_reply": "2024-04-18T03:08:14.913008Z"
        },
        "id": "82b0620e",
        "papermill": {
          "duration": 1.236415,
          "end_time": "2024-04-18T03:08:14.916566",
          "exception": false,
          "start_time": "2024-04-18T03:08:13.680151",
          "status": "completed"
        },
        "tags": []
      },
      "outputs": [],
      "source": [
        "l = []\n",
        "for i in labels:\n",
        "  for j in range(4):\n",
        "    if i[j] == 1:\n",
        "      l.append(j)\n"
      ]
    },
    {
      "cell_type": "code",
      "execution_count": null,
      "id": "db8c4623",
      "metadata": {
        "execution": {
          "iopub.execute_input": "2024-04-18T03:08:17.349809Z",
          "iopub.status.busy": "2024-04-18T03:08:17.349393Z",
          "iopub.status.idle": "2024-04-18T03:08:29.415610Z",
          "shell.execute_reply": "2024-04-18T03:08:29.414261Z"
        },
        "id": "db8c4623",
        "outputId": "13d0fabc-bc85-4107-f986-f80a12e537d2",
        "papermill": {
          "duration": 13.197809,
          "end_time": "2024-04-18T03:08:29.418184",
          "exception": false,
          "start_time": "2024-04-18T03:08:16.220375",
          "status": "completed"
        },
        "tags": []
      },
      "outputs": [
        {
          "name": "stdout",
          "output_type": "stream",
          "text": [
            "\u001b[1m 5/40\u001b[0m \u001b[32m━━\u001b[0m\u001b[37m━━━━━━━━━━━━━━━━━━\u001b[0m \u001b[1m1s\u001b[0m 35ms/step"
          ]
        },
        {
          "name": "stderr",
          "output_type": "stream",
          "text": [
            "W0000 00:00:1713409698.675831      72 graph_launch.cc:671] Fallback to op-by-op mode because memset node breaks graph update\n"
          ]
        },
        {
          "name": "stdout",
          "output_type": "stream",
          "text": [
            "\u001b[1m40/40\u001b[0m \u001b[32m━━━━━━━━━━━━━━━━━━━━\u001b[0m\u001b[37m\u001b[0m \u001b[1m12s\u001b[0m 274ms/step\n"
          ]
        },
        {
          "name": "stderr",
          "output_type": "stream",
          "text": [
            "W0000 00:00:1713409709.358367      72 graph_launch.cc:671] Fallback to op-by-op mode because memset node breaks graph update\n"
          ]
        }
      ],
      "source": [
        "y_prob = model.predict(images)\n",
        "\n",
        "# y_prob = tf.nn.softmax(y_prob).numpy()\n",
        "# Get the class with the highest probability for each prediction\n",
        "y_prob = np.argmax(y_prob, axis=1)  # Argmax gives index of max value\n",
        "# for i in range(len(labels)):\n",
        "#   print(l[i], y_prob[i])"
      ]
    },
    {
      "cell_type": "code",
      "execution_count": null,
      "id": "74b2d72c",
      "metadata": {
        "id": "74b2d72c",
        "papermill": {
          "duration": 1.303096,
          "end_time": "2024-04-18T03:08:32.019438",
          "exception": false,
          "start_time": "2024-04-18T03:08:30.716342",
          "status": "completed"
        },
        "tags": []
      },
      "outputs": [],
      "source": []
    },
    {
      "cell_type": "code",
      "execution_count": null,
      "id": "0abf8075",
      "metadata": {
        "execution": {
          "iopub.execute_input": "2024-04-18T03:08:34.545701Z",
          "iopub.status.busy": "2024-04-18T03:08:34.544772Z",
          "iopub.status.idle": "2024-04-18T03:08:34.560372Z",
          "shell.execute_reply": "2024-04-18T03:08:34.559266Z"
        },
        "id": "0abf8075",
        "outputId": "b58d3646-b9ba-44d2-be24-016c617430ce",
        "papermill": {
          "duration": 1.324106,
          "end_time": "2024-04-18T03:08:34.562917",
          "exception": false,
          "start_time": "2024-04-18T03:08:33.238811",
          "status": "completed"
        },
        "tags": []
      },
      "outputs": [
        {
          "name": "stdout",
          "output_type": "stream",
          "text": [
            "0 {'precision': 0.5865921787709497, 'recall': 0.5865921787709497, 'f1-score': 0.5865921787709497, 'support': 179}\n",
            "1 {'precision': 0.36363636363636365, 'recall': 0.3333333333333333, 'f1-score': 0.34782608695652173, 'support': 12}\n",
            "2 {'precision': 0.7984790874524715, 'recall': 0.65625, 'f1-score': 0.7204116638078903, 'support': 640}\n",
            "3 {'precision': 0.5950266429840142, 'recall': 0.7477678571428571, 'f1-score': 0.6627101879327398, 'support': 448}\n",
            "accuracy 0.6755277560594214\n",
            "macro avg {'precision': 0.5859335682109498, 'recall': 0.5809858423117851, 'f1-score': 0.5793850293670254, 'support': 1279}\n",
            "weighted avg {'precision': 0.6934809917045007, 'recall': 0.6755277560594214, 'f1-score': 0.6779761861410443, 'support': 1279}\n"
          ]
        }
      ],
      "source": [
        "from sklearn.metrics import classification_report\n",
        "\n",
        "# Assuming you have predicted labels (predicted_classes) and true labels (test_labels_encoded)\n",
        "report = classification_report(l, y_prob, output_dict=True)\n",
        "for i in report:\n",
        "  print(i, report[i])"
      ]
    },
    {
      "cell_type": "code",
      "execution_count": null,
      "id": "1a09552c",
      "metadata": {
        "execution": {
          "iopub.execute_input": "2024-04-18T03:08:37.105874Z",
          "iopub.status.busy": "2024-04-18T03:08:37.105175Z",
          "iopub.status.idle": "2024-04-18T03:08:41.421908Z",
          "shell.execute_reply": "2024-04-18T03:08:41.420800Z"
        },
        "id": "1a09552c",
        "outputId": "06e42a36-c108-4950-d57e-0a0bad14d8aa",
        "papermill": {
          "duration": 5.625384,
          "end_time": "2024-04-18T03:08:41.424266",
          "exception": false,
          "start_time": "2024-04-18T03:08:35.798882",
          "status": "completed"
        },
        "tags": []
      },
      "outputs": [
        {
          "name": "stdout",
          "output_type": "stream",
          "text": [
            "\u001b[1m 3/40\u001b[0m \u001b[32m━\u001b[0m\u001b[37m━━━━━━━━━━━━━━━━━━━\u001b[0m \u001b[1m1s\u001b[0m 41ms/step - acc: 0.5451 - auc: 0.7623 - f1_score: 0.5375 - loss: 2.2976"
          ]
        },
        {
          "name": "stderr",
          "output_type": "stream",
          "text": [
            "W0000 00:00:1713409719.249141      71 graph_launch.cc:671] Fallback to op-by-op mode because memset node breaks graph update\n"
          ]
        },
        {
          "name": "stdout",
          "output_type": "stream",
          "text": [
            "\u001b[1m40/40\u001b[0m \u001b[32m━━━━━━━━━━━━━━━━━━━━\u001b[0m\u001b[37m\u001b[0m \u001b[1m4s\u001b[0m 54ms/step - acc: 0.6288 - auc: 0.8325 - f1_score: 0.6261 - loss: 1.7303\n"
          ]
        },
        {
          "name": "stderr",
          "output_type": "stream",
          "text": [
            "W0000 00:00:1713409721.370268      73 graph_launch.cc:671] Fallback to op-by-op mode because memset node breaks graph update\n"
          ]
        },
        {
          "data": {
            "text/plain": [
              "[1.3874053955078125,\n",
              " 0.6755277514457703,\n",
              " 0.8722574710845947,\n",
              " 0.6758348941802979]"
            ]
          },
          "execution_count": 57,
          "metadata": {},
          "output_type": "execute_result"
        }
      ],
      "source": [
        "model.evaluate(images, labels)"
      ]
    },
    {
      "cell_type": "code",
      "execution_count": null,
      "id": "85d1a851",
      "metadata": {
        "id": "85d1a851",
        "papermill": {
          "duration": 1.276158,
          "end_time": "2024-04-18T03:08:43.923104",
          "exception": false,
          "start_time": "2024-04-18T03:08:42.646946",
          "status": "completed"
        },
        "tags": []
      },
      "outputs": [],
      "source": []
    }
  ],
  "metadata": {
    "accelerator": "GPU",
    "colab": {
      "gpuType": "T4",
      "provenance": []
    },
    "kaggle": {
      "accelerator": "nvidiaTeslaT4",
      "dataSources": [
        {
          "datasetId": 457093,
          "sourceId": 861496,
          "sourceType": "datasetVersion"
        },
        {
          "datasetId": 4817485,
          "sourceId": 8149433,
          "sourceType": "datasetVersion"
        }
      ],
      "dockerImageVersionId": 30684,
      "isGpuEnabled": true,
      "isInternetEnabled": false,
      "language": "python",
      "sourceType": "notebook"
    },
    "kernelspec": {
      "display_name": "Python 3",
      "language": "python",
      "name": "python3"
    },
    "language_info": {
      "codemirror_mode": {
        "name": "ipython",
        "version": 3
      },
      "file_extension": ".py",
      "mimetype": "text/x-python",
      "name": "python",
      "nbconvert_exporter": "python",
      "pygments_lexer": "ipython3",
      "version": "3.10.13"
    },
    "papermill": {
      "default_parameters": {},
      "duration": 1907.453629,
      "end_time": "2024-04-18T03:08:48.991988",
      "environment_variables": {},
      "exception": null,
      "input_path": "__notebook__.ipynb",
      "output_path": "__notebook__.ipynb",
      "parameters": {},
      "start_time": "2024-04-18T02:37:01.538359",
      "version": "2.5.0"
    }
  },
  "nbformat": 4,
  "nbformat_minor": 5
}