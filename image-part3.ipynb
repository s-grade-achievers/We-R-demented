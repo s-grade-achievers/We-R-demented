{
 "cells": [
  {
   "cell_type": "markdown",
   "id": "3ec39f10",
   "metadata": {
    "id": "7cac8631",
    "papermill": {
     "duration": 0.014803,
     "end_time": "2024-04-22T16:23:42.755061",
     "exception": false,
     "start_time": "2024-04-22T16:23:42.740258",
     "status": "completed"
    },
    "tags": []
   },
   "source": [
    "# Pre-processing\n",
    "### JPG TO NPY"
   ]
  },
  {
   "cell_type": "markdown",
   "id": "47a89ce9",
   "metadata": {
    "papermill": {
     "duration": 0.013561,
     "end_time": "2024-04-22T16:23:42.782896",
     "exception": false,
     "start_time": "2024-04-22T16:23:42.769335",
     "status": "completed"
    },
    "tags": []
   },
   "source": [
    "We convert all the JPG images to .npy format so that they can be loaded onto numpy array easily and the model can be trained using these .npy files. The image files are stored within labelled directories, hence the function recursively goes through each directory and converts all jpg files to npy"
   ]
  },
  {
   "cell_type": "code",
   "execution_count": 1,
   "id": "62f35048",
   "metadata": {
    "execution": {
     "iopub.execute_input": "2024-04-22T16:23:42.812048Z",
     "iopub.status.busy": "2024-04-22T16:23:42.811361Z",
     "iopub.status.idle": "2024-04-22T16:23:51.852011Z",
     "shell.execute_reply": "2024-04-22T16:23:51.851010Z"
    },
    "id": "Qk1z9nYFFLpb",
    "papermill": {
     "duration": 9.058,
     "end_time": "2024-04-22T16:23:51.854545",
     "exception": false,
     "start_time": "2024-04-22T16:23:42.796545",
     "status": "completed"
    },
    "tags": []
   },
   "outputs": [],
   "source": [
    "import os\n",
    "import cv2\n",
    "import numpy as np\n",
    "\n",
    "def jpg_to_npy_in_folders(input_folder, output_folder):\n",
    "    os.makedirs(output_folder, exist_ok=True)\n",
    "    for i, item in enumerate(os.listdir(input_folder)):\n",
    "        item_path = os.path.join(input_folder, item)\n",
    "        if os.path.isdir(item_path):\n",
    "            jpg_to_npy_in_folders(item_path, output_folder)\n",
    "        elif os.path.isfile(item_path) and item.endswith(\".jpg\"):\n",
    "            img = cv2.imread(item_path)\n",
    "            img = cv2.resize(img, (256, 256)) \n",
    "            img_array = np.array(img)\n",
    "            folder = input_folder.split(\"/\")[-1]\n",
    "            output_file_path = os.path.join(output_folder, f\"{folder}{i}.npy\")\n",
    "            np.save(output_file_path, img_array)\n",
    "\n",
    "input_folder_path = \"/kaggle/input/alzheimersdisease5classdatasetadni/Alzheimers-ADNI/train\"\n",
    "output_folder_path = \"/kaggle/working/train\"\n",
    "\n",
    "jpg_to_npy_in_folders(input_folder_path, output_folder_path)\n",
    "jpg_to_npy_in_folders(\"/kaggle/input/alzheimersdisease5classdatasetadni/Alzheimers-ADNI/test\", \"/kaggle/working/test\")\n"
   ]
  },
  {
   "cell_type": "code",
   "execution_count": 2,
   "id": "db153a17",
   "metadata": {
    "execution": {
     "iopub.execute_input": "2024-04-22T16:23:51.887107Z",
     "iopub.status.busy": "2024-04-22T16:23:51.886768Z",
     "iopub.status.idle": "2024-04-22T16:23:51.894999Z",
     "shell.execute_reply": "2024-04-22T16:23:51.894120Z"
    },
    "id": "10a3d79a",
    "outputId": "0786a7b1-1cb0-4836-d0c3-bd938085cea1",
    "papermill": {
     "duration": 0.025712,
     "end_time": "2024-04-22T16:23:51.896891",
     "exception": false,
     "start_time": "2024-04-22T16:23:51.871179",
     "status": "completed"
    },
    "tags": []
   },
   "outputs": [
    {
     "data": {
      "text/plain": [
       "1101"
      ]
     },
     "execution_count": 2,
     "metadata": {},
     "output_type": "execute_result"
    }
   ],
   "source": [
    "import os\n",
    "import numpy as np\n",
    "directory = '/kaggle/working/train'\n",
    "\n",
    "files = [file for file in os.listdir(directory) if file.endswith('.npy')]\n",
    "len(files)\n"
   ]
  },
  {
   "cell_type": "markdown",
   "id": "74f67091",
   "metadata": {
    "papermill": {
     "duration": 0.014172,
     "end_time": "2024-04-22T16:23:51.925511",
     "exception": false,
     "start_time": "2024-04-22T16:23:51.911339",
     "status": "completed"
    },
    "tags": []
   },
   "source": [
    "### Class separation\n",
    "\n",
    "All npy files are saved with the class name as part of the file name. Using this we can separate the files into different classes. Printing out the number of files for each class shows us that there is a slight imbalance."
   ]
  },
  {
   "cell_type": "markdown",
   "id": "6bf59c28",
   "metadata": {
    "papermill": {
     "duration": 0.015041,
     "end_time": "2024-04-22T16:23:51.955347",
     "exception": false,
     "start_time": "2024-04-22T16:23:51.940306",
     "status": "completed"
    },
    "tags": []
   },
   "source": [
    "The five classes that we will be able to detect with this dataset are\n",
    "\n",
    "* AD - Alzheimer's Disease\n",
    "* CN - Cognitively Normal\n",
    "* EMCI - Early Mild Cognitive Impairment\n",
    "* LMCI - Late Mild Cognitive Impairment\n",
    "* MCI - Mild Cognitive Impairment"
   ]
  },
  {
   "cell_type": "code",
   "execution_count": 3,
   "id": "84ebf35c",
   "metadata": {
    "execution": {
     "iopub.execute_input": "2024-04-22T16:23:51.986756Z",
     "iopub.status.busy": "2024-04-22T16:23:51.986458Z",
     "iopub.status.idle": "2024-04-22T16:23:51.993804Z",
     "shell.execute_reply": "2024-04-22T16:23:51.992872Z"
    },
    "id": "8426e2b0",
    "outputId": "33bd33e9-420e-4f14-fb28-169e9b52369d",
    "papermill": {
     "duration": 0.025875,
     "end_time": "2024-04-22T16:23:51.996139",
     "exception": false,
     "start_time": "2024-04-22T16:23:51.970264",
     "status": "completed"
    },
    "tags": []
   },
   "outputs": [
    {
     "name": "stdout",
     "output_type": "stream",
     "text": [
      "145 493 204 61 198\n"
     ]
    }
   ],
   "source": [
    "ad = [i for i in files if \"AD\" in i]\n",
    "cn = [i for i in files if \"CN\" in i]\n",
    "emci = [i for i in files if \"EMCI\" in i]\n",
    "lmci = [i for i in files if \"LMCI\" in i]\n",
    "mci = [i for i in files if \" MCI \" in i]\n",
    "print(len(ad), len(cn), len(emci), len(lmci), len(mci))"
   ]
  },
  {
   "cell_type": "markdown",
   "id": "51478f04",
   "metadata": {
    "papermill": {
     "duration": 0.0154,
     "end_time": "2024-04-22T16:23:52.026783",
     "exception": false,
     "start_time": "2024-04-22T16:23:52.011383",
     "status": "completed"
    },
    "tags": []
   },
   "source": [
    "We store all the file paths and their respective classes into a pandas dataframe for easy use in the future for processing tasks."
   ]
  },
  {
   "cell_type": "code",
   "execution_count": 4,
   "id": "c91fa768",
   "metadata": {
    "execution": {
     "iopub.execute_input": "2024-04-22T16:23:52.056398Z",
     "iopub.status.busy": "2024-04-22T16:23:52.056121Z",
     "iopub.status.idle": "2024-04-22T16:23:52.885477Z",
     "shell.execute_reply": "2024-04-22T16:23:52.884468Z"
    },
    "id": "6da1451b",
    "outputId": "1d39f7e2-d8a3-4381-e7a1-8441fa0702eb",
    "papermill": {
     "duration": 0.846819,
     "end_time": "2024-04-22T16:23:52.887940",
     "exception": false,
     "start_time": "2024-04-22T16:23:52.041121",
     "status": "completed"
    },
    "tags": []
   },
   "outputs": [
    {
     "data": {
      "text/plain": [
       "Class\n",
       "1    493\n",
       "2    204\n",
       "4    198\n",
       "0    145\n",
       "3     61\n",
       "Name: count, dtype: int64"
      ]
     },
     "execution_count": 4,
     "metadata": {},
     "output_type": "execute_result"
    }
   ],
   "source": [
    "import pandas as pd\n",
    "l = [[ad, 0], [cn, 1], [emci, 2], [lmci, 3], [mci, 4]]\n",
    "x = []\n",
    "for i in l:\n",
    "    for j in i[0]:\n",
    "        path = os.path.join(\"/kaggle/working/train\", j)\n",
    "        x.append([i[1], path])\n",
    "\n",
    "df = pd.DataFrame(x, columns=[\"Class\", \"Path\"])\n",
    "x = df[\"Class\"].value_counts()\n",
    "x"
   ]
  },
  {
   "cell_type": "markdown",
   "id": "d2a191c1",
   "metadata": {
    "papermill": {
     "duration": 0.014512,
     "end_time": "2024-04-22T16:23:52.918730",
     "exception": false,
     "start_time": "2024-04-22T16:23:52.904218",
     "status": "completed"
    },
    "tags": []
   },
   "source": [
    "The model takes an input shape of `(256, 256, 3)`. Our initial work into the dataset showed us that there were 50 images not having this shape. We reshaped the images before converting them to npy in the final version. This cell checks if there are any image that do not have the necessary shape."
   ]
  },
  {
   "cell_type": "code",
   "execution_count": 5,
   "id": "35e4fc74",
   "metadata": {
    "execution": {
     "iopub.execute_input": "2024-04-22T16:23:52.949508Z",
     "iopub.status.busy": "2024-04-22T16:23:52.949089Z",
     "iopub.status.idle": "2024-04-22T16:23:53.128253Z",
     "shell.execute_reply": "2024-04-22T16:23:53.127422Z"
    },
    "papermill": {
     "duration": 0.196957,
     "end_time": "2024-04-22T16:23:53.130521",
     "exception": false,
     "start_time": "2024-04-22T16:23:52.933564",
     "status": "completed"
    },
    "tags": []
   },
   "outputs": [],
   "source": [
    "for j, i in enumerate(df[\"Path\"]):\n",
    "    if np.load(i).shape != (256, 256, 3):\n",
    "        print(i)\n"
   ]
  },
  {
   "cell_type": "markdown",
   "id": "9210f42e",
   "metadata": {
    "papermill": {
     "duration": 0.01406,
     "end_time": "2024-04-22T16:23:53.160296",
     "exception": false,
     "start_time": "2024-04-22T16:23:53.146236",
     "status": "completed"
    },
    "tags": []
   },
   "source": [
    "# Handling imbalance\n"
   ]
  },
  {
   "cell_type": "markdown",
   "id": "42157df1",
   "metadata": {
    "papermill": {
     "duration": 0.013989,
     "end_time": "2024-04-22T16:23:53.189737",
     "exception": false,
     "start_time": "2024-04-22T16:23:53.175748",
     "status": "completed"
    },
    "tags": []
   },
   "source": [
    "Loading images into memory for processing"
   ]
  },
  {
   "cell_type": "code",
   "execution_count": 6,
   "id": "5210fd53",
   "metadata": {
    "execution": {
     "iopub.execute_input": "2024-04-22T16:23:53.220604Z",
     "iopub.status.busy": "2024-04-22T16:23:53.220022Z",
     "iopub.status.idle": "2024-04-22T16:23:53.574456Z",
     "shell.execute_reply": "2024-04-22T16:23:53.573405Z"
    },
    "papermill": {
     "duration": 0.372944,
     "end_time": "2024-04-22T16:23:53.577023",
     "exception": false,
     "start_time": "2024-04-22T16:23:53.204079",
     "status": "completed"
    },
    "tags": []
   },
   "outputs": [],
   "source": [
    "images = []\n",
    "for i in df[\"Path\"]:\n",
    "    images.append(np.load(i))\n",
    "images = np.array(images)"
   ]
  },
  {
   "cell_type": "code",
   "execution_count": 7,
   "id": "0ee33f2b",
   "metadata": {
    "execution": {
     "iopub.execute_input": "2024-04-22T16:23:53.608347Z",
     "iopub.status.busy": "2024-04-22T16:23:53.608073Z",
     "iopub.status.idle": "2024-04-22T16:23:53.612330Z",
     "shell.execute_reply": "2024-04-22T16:23:53.611482Z"
    },
    "papermill": {
     "duration": 0.021636,
     "end_time": "2024-04-22T16:23:53.614261",
     "exception": false,
     "start_time": "2024-04-22T16:23:53.592625",
     "status": "completed"
    },
    "tags": []
   },
   "outputs": [],
   "source": [
    "images = images.reshape((1101, 196608))"
   ]
  },
  {
   "cell_type": "markdown",
   "id": "d8bc77df",
   "metadata": {
    "papermill": {
     "duration": 0.014359,
     "end_time": "2024-04-22T16:23:53.642859",
     "exception": false,
     "start_time": "2024-04-22T16:23:53.628500",
     "status": "completed"
    },
    "tags": []
   },
   "source": [
    "Reshaping each image array into separate row"
   ]
  },
  {
   "cell_type": "markdown",
   "id": "28443527",
   "metadata": {
    "papermill": {
     "duration": 0.014685,
     "end_time": "2024-04-22T16:23:53.671849",
     "exception": false,
     "start_time": "2024-04-22T16:23:53.657164",
     "status": "completed"
    },
    "tags": []
   },
   "source": [
    "### SMOTE\n",
    "\n",
    "SMOTE for image data does not work effectively, since SMOTE essentially works by finding the K-Nearest Neighbours and taking the average of points between two clusters. The images obtained this way were very noisy and not close to the original images we had and only caused more problems in training the model. All forms of oversampling or undersampling imvolving average of points were ruled out because of the poor quality of images obtained. "
   ]
  },
  {
   "cell_type": "code",
   "execution_count": 8,
   "id": "ebf654b4",
   "metadata": {
    "execution": {
     "iopub.execute_input": "2024-04-22T16:23:53.701523Z",
     "iopub.status.busy": "2024-04-22T16:23:53.701256Z",
     "iopub.status.idle": "2024-04-22T16:23:58.498689Z",
     "shell.execute_reply": "2024-04-22T16:23:58.497900Z"
    },
    "papermill": {
     "duration": 4.814965,
     "end_time": "2024-04-22T16:23:58.500980",
     "exception": false,
     "start_time": "2024-04-22T16:23:53.686015",
     "status": "completed"
    },
    "tags": []
   },
   "outputs": [],
   "source": [
    "from imblearn.over_sampling import SMOTE\n",
    "import random\n",
    "import matplotlib.pyplot as plt\n",
    "\n",
    "smote = SMOTE()\n",
    "sm = SMOTE(random_state=42)\n",
    "images, labels = sm.fit_resample(images, df[\"Class\"])\n",
    "\n"
   ]
  },
  {
   "cell_type": "markdown",
   "id": "d2d339c5",
   "metadata": {
    "papermill": {
     "duration": 0.014265,
     "end_time": "2024-04-22T16:23:58.530441",
     "exception": false,
     "start_time": "2024-04-22T16:23:58.516176",
     "status": "completed"
    },
    "tags": []
   },
   "source": [
    "Majority of the images showed very poor quality and were not usable."
   ]
  },
  {
   "cell_type": "code",
   "execution_count": 9,
   "id": "a5a11393",
   "metadata": {
    "execution": {
     "iopub.execute_input": "2024-04-22T16:23:58.560686Z",
     "iopub.status.busy": "2024-04-22T16:23:58.560272Z",
     "iopub.status.idle": "2024-04-22T16:23:58.564483Z",
     "shell.execute_reply": "2024-04-22T16:23:58.563682Z"
    },
    "papermill": {
     "duration": 0.021609,
     "end_time": "2024-04-22T16:23:58.566336",
     "exception": false,
     "start_time": "2024-04-22T16:23:58.544727",
     "status": "completed"
    },
    "tags": []
   },
   "outputs": [],
   "source": [
    "images = images.reshape((2465, 256, 256, 3))"
   ]
  },
  {
   "cell_type": "code",
   "execution_count": 10,
   "id": "8a33cac0",
   "metadata": {
    "execution": {
     "iopub.execute_input": "2024-04-22T16:23:58.596629Z",
     "iopub.status.busy": "2024-04-22T16:23:58.596070Z",
     "iopub.status.idle": "2024-04-22T16:23:59.379401Z",
     "shell.execute_reply": "2024-04-22T16:23:59.378404Z"
    },
    "papermill": {
     "duration": 0.80296,
     "end_time": "2024-04-22T16:23:59.383673",
     "exception": false,
     "start_time": "2024-04-22T16:23:58.580713",
     "status": "completed"
    },
    "tags": []
   },
   "outputs": [
    {
     "data": {
      "image/png": "[encoded data removed]",
      "text/plain": [
       "<Figure size 1500x300 with 5 Axes>"
      ]
     },
     "metadata": {},
     "output_type": "display_data"
    }
   ],
   "source": [
    "import matplotlib.pyplot as plt\n",
    "import random\n",
    "\n",
    "fig, axs = plt.subplots(1, 5, figsize=(15, 3)) \n",
    "\n",
    "for i in range(5):\n",
    "    img = random.choice(images)\n",
    "    axs[i].imshow(img)\n",
    "\n",
    "plt.show()"
   ]
  },
  {
   "cell_type": "markdown",
   "id": "fdf5916f",
   "metadata": {
    "papermill": {
     "duration": 0.055733,
     "end_time": "2024-04-22T16:23:59.457349",
     "exception": false,
     "start_time": "2024-04-22T16:23:59.401616",
     "status": "completed"
    },
    "tags": []
   },
   "source": [
    "### Random oversampling\n",
    "\n",
    "Instead of using averaging imbalanced techniques, we used Random Oversampling to simply increase the number of samples of the imbalanced classes. This yielded big improvements in both the validation and test data."
   ]
  },
  {
   "cell_type": "code",
   "execution_count": 11,
   "id": "2aeaf428",
   "metadata": {
    "execution": {
     "iopub.execute_input": "2024-04-22T16:23:59.494346Z",
     "iopub.status.busy": "2024-04-22T16:23:59.493694Z",
     "iopub.status.idle": "2024-04-22T16:23:59.517916Z",
     "shell.execute_reply": "2024-04-22T16:23:59.516985Z"
    },
    "papermill": {
     "duration": 0.04463,
     "end_time": "2024-04-22T16:23:59.519830",
     "exception": false,
     "start_time": "2024-04-22T16:23:59.475200",
     "status": "completed"
    },
    "tags": []
   },
   "outputs": [
    {
     "data": {
      "text/html": [
       "<div>\n",
       "<style scoped>\n",
       "    .dataframe tbody tr th:only-of-type {\n",
       "        vertical-align: middle;\n",
       "    }\n",
       "\n",
       "    .dataframe tbody tr th {\n",
       "        vertical-align: top;\n",
       "    }\n",
       "\n",
       "    .dataframe thead th {\n",
       "        text-align: right;\n",
       "    }\n",
       "</style>\n",
       "<table border=\"1\" class=\"dataframe\">\n",
       "  <thead>\n",
       "    <tr style=\"text-align: right;\">\n",
       "      <th></th>\n",
       "      <th>Path</th>\n",
       "      <th>Class</th>\n",
       "    </tr>\n",
       "  </thead>\n",
       "  <tbody>\n",
       "    <tr>\n",
       "      <th>0</th>\n",
       "      <td>/kaggle/working/train/Final AD JPEG39.npy</td>\n",
       "      <td>0</td>\n",
       "    </tr>\n",
       "    <tr>\n",
       "      <th>1</th>\n",
       "      <td>/kaggle/working/train/Final AD JPEG17.npy</td>\n",
       "      <td>0</td>\n",
       "    </tr>\n",
       "    <tr>\n",
       "      <th>2</th>\n",
       "      <td>/kaggle/working/train/Final AD JPEG53.npy</td>\n",
       "      <td>0</td>\n",
       "    </tr>\n",
       "    <tr>\n",
       "      <th>3</th>\n",
       "      <td>/kaggle/working/train/Final AD JPEG127.npy</td>\n",
       "      <td>0</td>\n",
       "    </tr>\n",
       "    <tr>\n",
       "      <th>4</th>\n",
       "      <td>/kaggle/working/train/Final AD JPEG86.npy</td>\n",
       "      <td>0</td>\n",
       "    </tr>\n",
       "    <tr>\n",
       "      <th>...</th>\n",
       "      <td>...</td>\n",
       "      <td>...</td>\n",
       "    </tr>\n",
       "    <tr>\n",
       "      <th>2460</th>\n",
       "      <td>/kaggle/working/train/Final MCI JPEG112.npy</td>\n",
       "      <td>4</td>\n",
       "    </tr>\n",
       "    <tr>\n",
       "      <th>2461</th>\n",
       "      <td>/kaggle/working/train/Final MCI JPEG10.npy</td>\n",
       "      <td>4</td>\n",
       "    </tr>\n",
       "    <tr>\n",
       "      <th>2462</th>\n",
       "      <td>/kaggle/working/train/Final MCI JPEG177.npy</td>\n",
       "      <td>4</td>\n",
       "    </tr>\n",
       "    <tr>\n",
       "      <th>2463</th>\n",
       "      <td>/kaggle/working/train/Final MCI JPEG187.npy</td>\n",
       "      <td>4</td>\n",
       "    </tr>\n",
       "    <tr>\n",
       "      <th>2464</th>\n",
       "      <td>/kaggle/working/train/Final MCI JPEG50.npy</td>\n",
       "      <td>4</td>\n",
       "    </tr>\n",
       "  </tbody>\n",
       "</table>\n",
       "<p>2465 rows × 2 columns</p>\n",
       "</div>"
      ],
      "text/plain": [
       "                                             Path  Class\n",
       "0       /kaggle/working/train/Final AD JPEG39.npy      0\n",
       "1       /kaggle/working/train/Final AD JPEG17.npy      0\n",
       "2       /kaggle/working/train/Final AD JPEG53.npy      0\n",
       "3      /kaggle/working/train/Final AD JPEG127.npy      0\n",
       "4       /kaggle/working/train/Final AD JPEG86.npy      0\n",
       "...                                           ...    ...\n",
       "2460  /kaggle/working/train/Final MCI JPEG112.npy      4\n",
       "2461   /kaggle/working/train/Final MCI JPEG10.npy      4\n",
       "2462  /kaggle/working/train/Final MCI JPEG177.npy      4\n",
       "2463  /kaggle/working/train/Final MCI JPEG187.npy      4\n",
       "2464   /kaggle/working/train/Final MCI JPEG50.npy      4\n",
       "\n",
       "[2465 rows x 2 columns]"
      ]
     },
     "execution_count": 11,
     "metadata": {},
     "output_type": "execute_result"
    }
   ],
   "source": [
    "from imblearn.over_sampling import RandomOverSampler\n",
    "path = np.array(df[\"Path\"]).reshape(-1, 1)\n",
    "classes = np.array(df[\"Class\"]).reshape(-1, 1)\n",
    "ros = RandomOverSampler(random_state=42)\n",
    "paths, oversampled_labels = ros.fit_resample(path, classes)\n",
    "df = pd.DataFrame({\n",
    "    'Path': paths.flatten(),\n",
    "    'Class': oversampled_labels\n",
    "})\n",
    "df\n"
   ]
  },
  {
   "cell_type": "markdown",
   "id": "5e695051",
   "metadata": {
    "papermill": {
     "duration": 0.017944,
     "end_time": "2024-04-22T16:23:59.556134",
     "exception": false,
     "start_time": "2024-04-22T16:23:59.538190",
     "status": "completed"
    },
    "tags": []
   },
   "source": [
    "Loading images into memory for training"
   ]
  },
  {
   "cell_type": "code",
   "execution_count": 12,
   "id": "fd541d6f",
   "metadata": {
    "execution": {
     "iopub.execute_input": "2024-04-22T16:23:59.594073Z",
     "iopub.status.busy": "2024-04-22T16:23:59.593761Z",
     "iopub.status.idle": "2024-04-22T16:24:00.367101Z",
     "shell.execute_reply": "2024-04-22T16:24:00.366245Z"
    },
    "papermill": {
     "duration": 0.794945,
     "end_time": "2024-04-22T16:24:00.369458",
     "exception": false,
     "start_time": "2024-04-22T16:23:59.574513",
     "status": "completed"
    },
    "tags": []
   },
   "outputs": [],
   "source": [
    "images = []\n",
    "for i in df[\"Path\"]:\n",
    "    images.append(np.load(i))\n",
    "images = np.array(images)"
   ]
  },
  {
   "cell_type": "code",
   "execution_count": 13,
   "id": "0212b72f",
   "metadata": {
    "execution": {
     "iopub.execute_input": "2024-04-22T16:24:00.407267Z",
     "iopub.status.busy": "2024-04-22T16:24:00.406948Z",
     "iopub.status.idle": "2024-04-22T16:24:00.414349Z",
     "shell.execute_reply": "2024-04-22T16:24:00.413465Z"
    },
    "papermill": {
     "duration": 0.027587,
     "end_time": "2024-04-22T16:24:00.416311",
     "exception": false,
     "start_time": "2024-04-22T16:24:00.388724",
     "status": "completed"
    },
    "tags": []
   },
   "outputs": [
    {
     "data": {
      "text/plain": [
       "Class\n",
       "0    493\n",
       "1    493\n",
       "2    493\n",
       "3    493\n",
       "4    493\n",
       "Name: count, dtype: int64"
      ]
     },
     "execution_count": 13,
     "metadata": {},
     "output_type": "execute_result"
    }
   ],
   "source": [
    "x = df[\"Class\"].value_counts()\n",
    "x"
   ]
  },
  {
   "cell_type": "code",
   "execution_count": 14,
   "id": "27ab1500",
   "metadata": {
    "execution": {
     "iopub.execute_input": "2024-04-22T16:24:00.452115Z",
     "iopub.status.busy": "2024-04-22T16:24:00.451755Z",
     "iopub.status.idle": "2024-04-22T16:24:00.598044Z",
     "shell.execute_reply": "2024-04-22T16:24:00.597196Z"
    },
    "id": "b71f6071",
    "papermill": {
     "duration": 0.166788,
     "end_time": "2024-04-22T16:24:00.600432",
     "exception": false,
     "start_time": "2024-04-22T16:24:00.433644",
     "status": "completed"
    },
    "tags": []
   },
   "outputs": [],
   "source": [
    "from sklearn.model_selection import train_test_split\n",
    "labels = np.array(df[\"Class\"])\n",
    "train_images, val_images, train_labels, val_labels = train_test_split(images, labels, test_size=0.2, random_state=42)\n"
   ]
  },
  {
   "cell_type": "code",
   "execution_count": 15,
   "id": "99bca08a",
   "metadata": {
    "execution": {
     "iopub.execute_input": "2024-04-22T16:24:00.638602Z",
     "iopub.status.busy": "2024-04-22T16:24:00.637830Z",
     "iopub.status.idle": "2024-04-22T16:24:13.656520Z",
     "shell.execute_reply": "2024-04-22T16:24:13.655683Z"
    },
    "papermill": {
     "duration": 13.040144,
     "end_time": "2024-04-22T16:24:13.658909",
     "exception": false,
     "start_time": "2024-04-22T16:24:00.618765",
     "status": "completed"
    },
    "tags": []
   },
   "outputs": [
    {
     "name": "stderr",
     "output_type": "stream",
     "text": [
      "2024-04-22 16:24:02.827144: E external/local_xla/xla/stream_executor/cuda/cuda_dnn.cc:9261] Unable to register cuDNN factory: Attempting to register factory for plugin cuDNN when one has already been registered\n",
      "2024-04-22 16:24:02.827245: E external/local_xla/xla/stream_executor/cuda/cuda_fft.cc:607] Unable to register cuFFT factory: Attempting to register factory for plugin cuFFT when one has already been registered\n",
      "2024-04-22 16:24:02.974923: E external/local_xla/xla/stream_executor/cuda/cuda_blas.cc:1515] Unable to register cuBLAS factory: Attempting to register factory for plugin cuBLAS when one has already been registered\n"
     ]
    }
   ],
   "source": [
    "from keras.utils import to_categorical\n",
    "\n",
    "train_labels = to_categorical(train_labels, num_classes=5)\n",
    "val_labels = to_categorical(val_labels, num_classes=5)"
   ]
  },
  {
   "cell_type": "code",
   "execution_count": 16,
   "id": "02bfabe8",
   "metadata": {
    "execution": {
     "iopub.execute_input": "2024-04-22T16:24:13.703760Z",
     "iopub.status.busy": "2024-04-22T16:24:13.702727Z",
     "iopub.status.idle": "2024-04-22T16:24:13.708439Z",
     "shell.execute_reply": "2024-04-22T16:24:13.707463Z"
    },
    "id": "44d84028",
    "outputId": "918e6ba2-22a9-4534-fb86-c4248cc28470",
    "papermill": {
     "duration": 0.028107,
     "end_time": "2024-04-22T16:24:13.710535",
     "exception": false,
     "start_time": "2024-04-22T16:24:13.682428",
     "status": "completed"
    },
    "tags": []
   },
   "outputs": [
    {
     "name": "stdout",
     "output_type": "stream",
     "text": [
      "(1972, 256, 256, 3) (493, 256, 256, 3) (1972, 5) (493, 5)\n"
     ]
    }
   ],
   "source": [
    "print(train_images.shape, val_images.shape, train_labels.shape, val_labels.shape)"
   ]
  },
  {
   "cell_type": "markdown",
   "id": "623ceb9e",
   "metadata": {
    "papermill": {
     "duration": 0.017156,
     "end_time": "2024-04-22T16:24:13.745193",
     "exception": false,
     "start_time": "2024-04-22T16:24:13.728037",
     "status": "completed"
    },
    "tags": []
   },
   "source": [
    "# Training"
   ]
  },
  {
   "cell_type": "markdown",
   "id": "f0a12956",
   "metadata": {
    "papermill": {
     "duration": 0.018319,
     "end_time": "2024-04-22T16:24:13.781704",
     "exception": false,
     "start_time": "2024-04-22T16:24:13.763385",
     "status": "completed"
    },
    "tags": []
   },
   "source": [
    "We use CNNs for training because of their ability to recognise patterns in images. The convolutional and pooling layers makes it easy to reduce dimensions and prevent overfitting. Each layer can detect an increasing complexity in the pattern. The Dense layers are added at the end to globally interpret the local patterns extracted from the images by the convolutional layers. The final layer usually has a softmax activation which gives us the probabilities of an image belonging to each class."
   ]
  },
  {
   "cell_type": "markdown",
   "id": "7ac89ee7",
   "metadata": {
    "papermill": {
     "duration": 0.017372,
     "end_time": "2024-04-22T16:24:13.816741",
     "exception": false,
     "start_time": "2024-04-22T16:24:13.799369",
     "status": "completed"
    },
    "tags": []
   },
   "source": [
    "### The actual model\n",
    "\n",
    "In the model used by us, we have 3 hidden convolutional layers along with pooling layers. All of them use ReLU activation to learn the complex patterns by allowing non linear tranformations. We then add a flatten layer so that the 3 consequent Dense layers can reduce dimensionality one by one and finally interpret which of the five classes the image belongs to. The model summary shows the number of weights at each layer."
   ]
  },
  {
   "cell_type": "code",
   "execution_count": 17,
   "id": "dce92df3",
   "metadata": {
    "execution": {
     "iopub.execute_input": "2024-04-22T16:24:13.852861Z",
     "iopub.status.busy": "2024-04-22T16:24:13.852585Z",
     "iopub.status.idle": "2024-04-22T16:24:14.880201Z",
     "shell.execute_reply": "2024-04-22T16:24:14.879360Z"
    },
    "id": "58759ed5",
    "papermill": {
     "duration": 1.048073,
     "end_time": "2024-04-22T16:24:14.882282",
     "exception": false,
     "start_time": "2024-04-22T16:24:13.834209",
     "status": "completed"
    },
    "tags": []
   },
   "outputs": [
    {
     "data": {
      "text/html": [
       "<pre style=\"white-space:pre;overflow-x:auto;line-height:normal;font-family:Menlo,'DejaVu Sans Mono',consolas,'Courier New',monospace\"><span style=\"font-weight: bold\">Model: \"sequential\"</span>\n",
       "</pre>\n"
      ],
      "text/plain": [
       "\u001b[1mModel: \"sequential\"\u001b[0m\n"
      ]
     },
     "metadata": {},
     "output_type": "display_data"
    },
    {
     "data": {
      "text/html": [
       "<pre style=\"white-space:pre;overflow-x:auto;line-height:normal;font-family:Menlo,'DejaVu Sans Mono',consolas,'Courier New',monospace\">┏━━━━━━━━━━━━━━━━━━━━━━━━━━━━━━━━━┳━━━━━━━━━━━━━━━━━━━━━━━━┳━━━━━━━━━━━━━━━┓\n",
       "┃<span style=\"font-weight: bold\"> Layer (type)                    </span>┃<span style=\"font-weight: bold\"> Output Shape           </span>┃<span style=\"font-weight: bold\">       Param # </span>┃\n",
       "┡━━━━━━━━━━━━━━━━━━━━━━━━━━━━━━━━━╇━━━━━━━━━━━━━━━━━━━━━━━━╇━━━━━━━━━━━━━━━┩\n",
       "│ conv2d (<span style=\"color: #0087ff; text-decoration-color: #0087ff\">Conv2D</span>)                 │ (<span style=\"color: #00d7ff; text-decoration-color: #00d7ff\">None</span>, <span style=\"color: #00af00; text-decoration-color: #00af00\">254</span>, <span style=\"color: #00af00; text-decoration-color: #00af00\">254</span>, <span style=\"color: #00af00; text-decoration-color: #00af00\">64</span>)   │         <span style=\"color: #00af00; text-decoration-color: #00af00\">1,792</span> │\n",
       "├─────────────────────────────────┼────────────────────────┼───────────────┤\n",
       "│ max_pooling2d (<span style=\"color: #0087ff; text-decoration-color: #0087ff\">MaxPooling2D</span>)    │ (<span style=\"color: #00d7ff; text-decoration-color: #00d7ff\">None</span>, <span style=\"color: #00af00; text-decoration-color: #00af00\">127</span>, <span style=\"color: #00af00; text-decoration-color: #00af00\">127</span>, <span style=\"color: #00af00; text-decoration-color: #00af00\">64</span>)   │             <span style=\"color: #00af00; text-decoration-color: #00af00\">0</span> │\n",
       "├─────────────────────────────────┼────────────────────────┼───────────────┤\n",
       "│ conv2d_1 (<span style=\"color: #0087ff; text-decoration-color: #0087ff\">Conv2D</span>)               │ (<span style=\"color: #00d7ff; text-decoration-color: #00d7ff\">None</span>, <span style=\"color: #00af00; text-decoration-color: #00af00\">125</span>, <span style=\"color: #00af00; text-decoration-color: #00af00\">125</span>, <span style=\"color: #00af00; text-decoration-color: #00af00\">128</span>)  │        <span style=\"color: #00af00; text-decoration-color: #00af00\">73,856</span> │\n",
       "├─────────────────────────────────┼────────────────────────┼───────────────┤\n",
       "│ max_pooling2d_1 (<span style=\"color: #0087ff; text-decoration-color: #0087ff\">MaxPooling2D</span>)  │ (<span style=\"color: #00d7ff; text-decoration-color: #00d7ff\">None</span>, <span style=\"color: #00af00; text-decoration-color: #00af00\">62</span>, <span style=\"color: #00af00; text-decoration-color: #00af00\">62</span>, <span style=\"color: #00af00; text-decoration-color: #00af00\">128</span>)    │             <span style=\"color: #00af00; text-decoration-color: #00af00\">0</span> │\n",
       "├─────────────────────────────────┼────────────────────────┼───────────────┤\n",
       "│ conv2d_2 (<span style=\"color: #0087ff; text-decoration-color: #0087ff\">Conv2D</span>)               │ (<span style=\"color: #00d7ff; text-decoration-color: #00d7ff\">None</span>, <span style=\"color: #00af00; text-decoration-color: #00af00\">60</span>, <span style=\"color: #00af00; text-decoration-color: #00af00\">60</span>, <span style=\"color: #00af00; text-decoration-color: #00af00\">256</span>)    │       <span style=\"color: #00af00; text-decoration-color: #00af00\">295,168</span> │\n",
       "├─────────────────────────────────┼────────────────────────┼───────────────┤\n",
       "│ max_pooling2d_2 (<span style=\"color: #0087ff; text-decoration-color: #0087ff\">MaxPooling2D</span>)  │ (<span style=\"color: #00d7ff; text-decoration-color: #00d7ff\">None</span>, <span style=\"color: #00af00; text-decoration-color: #00af00\">30</span>, <span style=\"color: #00af00; text-decoration-color: #00af00\">30</span>, <span style=\"color: #00af00; text-decoration-color: #00af00\">256</span>)    │             <span style=\"color: #00af00; text-decoration-color: #00af00\">0</span> │\n",
       "├─────────────────────────────────┼────────────────────────┼───────────────┤\n",
       "│ dropout (<span style=\"color: #0087ff; text-decoration-color: #0087ff\">Dropout</span>)               │ (<span style=\"color: #00d7ff; text-decoration-color: #00d7ff\">None</span>, <span style=\"color: #00af00; text-decoration-color: #00af00\">30</span>, <span style=\"color: #00af00; text-decoration-color: #00af00\">30</span>, <span style=\"color: #00af00; text-decoration-color: #00af00\">256</span>)    │             <span style=\"color: #00af00; text-decoration-color: #00af00\">0</span> │\n",
       "├─────────────────────────────────┼────────────────────────┼───────────────┤\n",
       "│ flatten (<span style=\"color: #0087ff; text-decoration-color: #0087ff\">Flatten</span>)               │ (<span style=\"color: #00d7ff; text-decoration-color: #00d7ff\">None</span>, <span style=\"color: #00af00; text-decoration-color: #00af00\">230400</span>)         │             <span style=\"color: #00af00; text-decoration-color: #00af00\">0</span> │\n",
       "├─────────────────────────────────┼────────────────────────┼───────────────┤\n",
       "│ dense (<span style=\"color: #0087ff; text-decoration-color: #0087ff\">Dense</span>)                   │ (<span style=\"color: #00d7ff; text-decoration-color: #00d7ff\">None</span>, <span style=\"color: #00af00; text-decoration-color: #00af00\">512</span>)            │   <span style=\"color: #00af00; text-decoration-color: #00af00\">117,965,312</span> │\n",
       "├─────────────────────────────────┼────────────────────────┼───────────────┤\n",
       "│ dropout_1 (<span style=\"color: #0087ff; text-decoration-color: #0087ff\">Dropout</span>)             │ (<span style=\"color: #00d7ff; text-decoration-color: #00d7ff\">None</span>, <span style=\"color: #00af00; text-decoration-color: #00af00\">512</span>)            │             <span style=\"color: #00af00; text-decoration-color: #00af00\">0</span> │\n",
       "├─────────────────────────────────┼────────────────────────┼───────────────┤\n",
       "│ dense_1 (<span style=\"color: #0087ff; text-decoration-color: #0087ff\">Dense</span>)                 │ (<span style=\"color: #00d7ff; text-decoration-color: #00d7ff\">None</span>, <span style=\"color: #00af00; text-decoration-color: #00af00\">128</span>)            │        <span style=\"color: #00af00; text-decoration-color: #00af00\">65,664</span> │\n",
       "├─────────────────────────────────┼────────────────────────┼───────────────┤\n",
       "│ dropout_2 (<span style=\"color: #0087ff; text-decoration-color: #0087ff\">Dropout</span>)             │ (<span style=\"color: #00d7ff; text-decoration-color: #00d7ff\">None</span>, <span style=\"color: #00af00; text-decoration-color: #00af00\">128</span>)            │             <span style=\"color: #00af00; text-decoration-color: #00af00\">0</span> │\n",
       "├─────────────────────────────────┼────────────────────────┼───────────────┤\n",
       "│ dense_2 (<span style=\"color: #0087ff; text-decoration-color: #0087ff\">Dense</span>)                 │ (<span style=\"color: #00d7ff; text-decoration-color: #00d7ff\">None</span>, <span style=\"color: #00af00; text-decoration-color: #00af00\">5</span>)              │           <span style=\"color: #00af00; text-decoration-color: #00af00\">645</span> │\n",
       "└─────────────────────────────────┴────────────────────────┴───────────────┘\n",
       "</pre>\n"
      ],
      "text/plain": [
       "┏━━━━━━━━━━━━━━━━━━━━━━━━━━━━━━━━━┳━━━━━━━━━━━━━━━━━━━━━━━━┳━━━━━━━━━━━━━━━┓\n",
       "┃\u001b[1m \u001b[0m\u001b[1mLayer (type)                   \u001b[0m\u001b[1m \u001b[0m┃\u001b[1m \u001b[0m\u001b[1mOutput Shape          \u001b[0m\u001b[1m \u001b[0m┃\u001b[1m \u001b[0m\u001b[1m      Param #\u001b[0m\u001b[1m \u001b[0m┃\n",
       "┡━━━━━━━━━━━━━━━━━━━━━━━━━━━━━━━━━╇━━━━━━━━━━━━━━━━━━━━━━━━╇━━━━━━━━━━━━━━━┩\n",
       "│ conv2d (\u001b[38;5;33mConv2D\u001b[0m)                 │ (\u001b[38;5;45mNone\u001b[0m, \u001b[38;5;34m254\u001b[0m, \u001b[38;5;34m254\u001b[0m, \u001b[38;5;34m64\u001b[0m)   │         \u001b[38;5;34m1,792\u001b[0m │\n",
       "├─────────────────────────────────┼────────────────────────┼───────────────┤\n",
       "│ max_pooling2d (\u001b[38;5;33mMaxPooling2D\u001b[0m)    │ (\u001b[38;5;45mNone\u001b[0m, \u001b[38;5;34m127\u001b[0m, \u001b[38;5;34m127\u001b[0m, \u001b[38;5;34m64\u001b[0m)   │             \u001b[38;5;34m0\u001b[0m │\n",
       "├─────────────────────────────────┼────────────────────────┼───────────────┤\n",
       "│ conv2d_1 (\u001b[38;5;33mConv2D\u001b[0m)               │ (\u001b[38;5;45mNone\u001b[0m, \u001b[38;5;34m125\u001b[0m, \u001b[38;5;34m125\u001b[0m, \u001b[38;5;34m128\u001b[0m)  │        \u001b[38;5;34m73,856\u001b[0m │\n",
       "├─────────────────────────────────┼────────────────────────┼───────────────┤\n",
       "│ max_pooling2d_1 (\u001b[38;5;33mMaxPooling2D\u001b[0m)  │ (\u001b[38;5;45mNone\u001b[0m, \u001b[38;5;34m62\u001b[0m, \u001b[38;5;34m62\u001b[0m, \u001b[38;5;34m128\u001b[0m)    │             \u001b[38;5;34m0\u001b[0m │\n",
       "├─────────────────────────────────┼────────────────────────┼───────────────┤\n",
       "│ conv2d_2 (\u001b[38;5;33mConv2D\u001b[0m)               │ (\u001b[38;5;45mNone\u001b[0m, \u001b[38;5;34m60\u001b[0m, \u001b[38;5;34m60\u001b[0m, \u001b[38;5;34m256\u001b[0m)    │       \u001b[38;5;34m295,168\u001b[0m │\n",
       "├─────────────────────────────────┼────────────────────────┼───────────────┤\n",
       "│ max_pooling2d_2 (\u001b[38;5;33mMaxPooling2D\u001b[0m)  │ (\u001b[38;5;45mNone\u001b[0m, \u001b[38;5;34m30\u001b[0m, \u001b[38;5;34m30\u001b[0m, \u001b[38;5;34m256\u001b[0m)    │             \u001b[38;5;34m0\u001b[0m │\n",
       "├─────────────────────────────────┼────────────────────────┼───────────────┤\n",
       "│ dropout (\u001b[38;5;33mDropout\u001b[0m)               │ (\u001b[38;5;45mNone\u001b[0m, \u001b[38;5;34m30\u001b[0m, \u001b[38;5;34m30\u001b[0m, \u001b[38;5;34m256\u001b[0m)    │             \u001b[38;5;34m0\u001b[0m │\n",
       "├─────────────────────────────────┼────────────────────────┼───────────────┤\n",
       "│ flatten (\u001b[38;5;33mFlatten\u001b[0m)               │ (\u001b[38;5;45mNone\u001b[0m, \u001b[38;5;34m230400\u001b[0m)         │             \u001b[38;5;34m0\u001b[0m │\n",
       "├─────────────────────────────────┼────────────────────────┼───────────────┤\n",
       "│ dense (\u001b[38;5;33mDense\u001b[0m)                   │ (\u001b[38;5;45mNone\u001b[0m, \u001b[38;5;34m512\u001b[0m)            │   \u001b[38;5;34m117,965,312\u001b[0m │\n",
       "├─────────────────────────────────┼────────────────────────┼───────────────┤\n",
       "│ dropout_1 (\u001b[38;5;33mDropout\u001b[0m)             │ (\u001b[38;5;45mNone\u001b[0m, \u001b[38;5;34m512\u001b[0m)            │             \u001b[38;5;34m0\u001b[0m │\n",
       "├─────────────────────────────────┼────────────────────────┼───────────────┤\n",
       "│ dense_1 (\u001b[38;5;33mDense\u001b[0m)                 │ (\u001b[38;5;45mNone\u001b[0m, \u001b[38;5;34m128\u001b[0m)            │        \u001b[38;5;34m65,664\u001b[0m │\n",
       "├─────────────────────────────────┼────────────────────────┼───────────────┤\n",
       "│ dropout_2 (\u001b[38;5;33mDropout\u001b[0m)             │ (\u001b[38;5;45mNone\u001b[0m, \u001b[38;5;34m128\u001b[0m)            │             \u001b[38;5;34m0\u001b[0m │\n",
       "├─────────────────────────────────┼────────────────────────┼───────────────┤\n",
       "│ dense_2 (\u001b[38;5;33mDense\u001b[0m)                 │ (\u001b[38;5;45mNone\u001b[0m, \u001b[38;5;34m5\u001b[0m)              │           \u001b[38;5;34m645\u001b[0m │\n",
       "└─────────────────────────────────┴────────────────────────┴───────────────┘\n"
      ]
     },
     "metadata": {},
     "output_type": "display_data"
    },
    {
     "data": {
      "text/html": [
       "<pre style=\"white-space:pre;overflow-x:auto;line-height:normal;font-family:Menlo,'DejaVu Sans Mono',consolas,'Courier New',monospace\"><span style=\"font-weight: bold\"> Total params: </span><span style=\"color: #00af00; text-decoration-color: #00af00\">118,402,437</span> (451.67 MB)\n",
       "</pre>\n"
      ],
      "text/plain": [
       "\u001b[1m Total params: \u001b[0m\u001b[38;5;34m118,402,437\u001b[0m (451.67 MB)\n"
      ]
     },
     "metadata": {},
     "output_type": "display_data"
    },
    {
     "data": {
      "text/html": [
       "<pre style=\"white-space:pre;overflow-x:auto;line-height:normal;font-family:Menlo,'DejaVu Sans Mono',consolas,'Courier New',monospace\"><span style=\"font-weight: bold\"> Trainable params: </span><span style=\"color: #00af00; text-decoration-color: #00af00\">118,402,437</span> (451.67 MB)\n",
       "</pre>\n"
      ],
      "text/plain": [
       "\u001b[1m Trainable params: \u001b[0m\u001b[38;5;34m118,402,437\u001b[0m (451.67 MB)\n"
      ]
     },
     "metadata": {},
     "output_type": "display_data"
    },
    {
     "data": {
      "text/html": [
       "<pre style=\"white-space:pre;overflow-x:auto;line-height:normal;font-family:Menlo,'DejaVu Sans Mono',consolas,'Courier New',monospace\"><span style=\"font-weight: bold\"> Non-trainable params: </span><span style=\"color: #00af00; text-decoration-color: #00af00\">0</span> (0.00 B)\n",
       "</pre>\n"
      ],
      "text/plain": [
       "\u001b[1m Non-trainable params: \u001b[0m\u001b[38;5;34m0\u001b[0m (0.00 B)\n"
      ]
     },
     "metadata": {},
     "output_type": "display_data"
    }
   ],
   "source": [
    "from keras.models import Sequential\n",
    "from keras.layers import Conv2D, MaxPooling2D, Flatten, Dense, Dropout, Input\n",
    "from keras.callbacks import LearningRateScheduler\n",
    "import numpy as np\n",
    "\n",
    "input_shape = train_images[0].shape\n",
    "\n",
    "model = Sequential()\n",
    "model.add(Input(shape=input_shape))\n",
    "model.add(Conv2D(64, (3, 3), activation='relu'))\n",
    "model.add(MaxPooling2D((2, 2)))\n",
    "model.add(Conv2D(128, (3, 3), activation='relu'))\n",
    "model.add(MaxPooling2D((2, 2)))\n",
    "model.add(Conv2D(256, (3, 3), activation='relu'))\n",
    "model.add(MaxPooling2D((2, 2)))\n",
    "model.add(Dropout(0.2))\n",
    "model.add(Flatten())\n",
    "model.add(Dense(512, activation='relu'))\n",
    "model.add(Dropout(0.5))\n",
    "model.add(Dense(128, activation='relu'))\n",
    "model.add(Dropout(0.3))\n",
    "model.add(Dense(5, activation='softmax'))\n",
    "model.summary()"
   ]
  },
  {
   "cell_type": "markdown",
   "id": "e11b62b8",
   "metadata": {
    "papermill": {
     "duration": 0.018753,
     "end_time": "2024-04-22T16:24:14.920316",
     "exception": false,
     "start_time": "2024-04-22T16:24:14.901563",
     "status": "completed"
    },
    "tags": []
   },
   "source": [
    "### Optimiser and Learning Rate Scheduler\n",
    "\n",
    "The adam optimiser is used because it is very memory efficient, which is necessary while using image data, since the training data size can get very big. A custom learning rate scheduler is defined along with the optimiser to reduce the learning rate by 5% every two epochs after the 20th epoch. While training initially, we noticed the model overshot after the 20th epoch and wasnt able to train efficiently. Hence the scheduler helps to prevent overshooting and imporves the rate at which the model can converge. "
   ]
  },
  {
   "cell_type": "code",
   "execution_count": 18,
   "id": "c1e55789",
   "metadata": {
    "execution": {
     "iopub.execute_input": "2024-04-22T16:24:14.959651Z",
     "iopub.status.busy": "2024-04-22T16:24:14.958860Z",
     "iopub.status.idle": "2024-04-22T16:24:14.970706Z",
     "shell.execute_reply": "2024-04-22T16:24:14.969788Z"
    },
    "id": "cxW817Dz-Crh",
    "papermill": {
     "duration": 0.033303,
     "end_time": "2024-04-22T16:24:14.972694",
     "exception": false,
     "start_time": "2024-04-22T16:24:14.939391",
     "status": "completed"
    },
    "tags": []
   },
   "outputs": [],
   "source": [
    "from keras.optimizers import Adam\n",
    "def lr_schedule(epoch, learning_rate):\n",
    "    if epoch < 20:\n",
    "        return learning_rate\n",
    "    else:\n",
    "        if epoch % 2 == 0:\n",
    "            return learning_rate * 0.95\n",
    "        else:\n",
    "            return learning_rate\n",
    "\n",
    "lr_scheduler = LearningRateScheduler(lr_schedule, verbose=1)\n",
    "\n",
    "initial_learning_rate = 0.001\n",
    "optimizer = Adam(learning_rate=initial_learning_rate)"
   ]
  },
  {
   "cell_type": "markdown",
   "id": "52c90312",
   "metadata": {
    "papermill": {
     "duration": 0.018979,
     "end_time": "2024-04-22T16:24:15.011725",
     "exception": false,
     "start_time": "2024-04-22T16:24:14.992746",
     "status": "completed"
    },
    "tags": []
   },
   "source": [
    "### Metrics\n",
    "\n",
    "We have defined a custom F1 score metric since we couldn't find a reliable one on any library. It finds recall and precision and following tensorflow API requirements, there are `update_state` and `reset_state`methods that handle batching durinng training. The metrics we finally use while training to measure the performance of the model are Categorical Accuracy, ROC-AUC and F1 score."
   ]
  },
  {
   "cell_type": "code",
   "execution_count": 19,
   "id": "3a3b8be3",
   "metadata": {
    "execution": {
     "iopub.execute_input": "2024-04-22T16:24:15.051085Z",
     "iopub.status.busy": "2024-04-22T16:24:15.050662Z",
     "iopub.status.idle": "2024-04-22T16:24:15.076352Z",
     "shell.execute_reply": "2024-04-22T16:24:15.075635Z"
    },
    "papermill": {
     "duration": 0.048119,
     "end_time": "2024-04-22T16:24:15.078409",
     "exception": false,
     "start_time": "2024-04-22T16:24:15.030290",
     "status": "completed"
    },
    "tags": []
   },
   "outputs": [],
   "source": [
    "import tensorflow as tf\n",
    "\n",
    "class F1Score(tf.keras.metrics.Metric):\n",
    "    def __init__(self, **kwargs):\n",
    "        super(F1Score, self).__init__(**kwargs)\n",
    "        self.precision = tf.keras.metrics.Precision()\n",
    "        self.recall = tf.keras.metrics.Recall()\n",
    "\n",
    "    def update_state(self, y_true, y_pred, sample_weight=None):\n",
    "        self.precision.update_state(y_true, y_pred, sample_weight)\n",
    "        self.recall.update_state(y_true, y_pred, sample_weight)\n",
    "\n",
    "    def result(self):\n",
    "        precision = self.precision.result()\n",
    "        recall = self.recall.result()\n",
    "        return 2 * ((precision * recall) / (precision + recall + tf.keras.backend.epsilon()))\n",
    "\n",
    "    def reset_states(self):\n",
    "        self.precision.reset_states()\n",
    "        self.recall.reset_states()\n",
    "\n",
    "METRICS = [tf.keras.metrics.CategoricalAccuracy(name='acc'),\n",
    "           tf.keras.metrics.AUC(name='auc'),\n",
    "           F1Score()]\n"
   ]
  },
  {
   "cell_type": "markdown",
   "id": "acd3cb21",
   "metadata": {
    "papermill": {
     "duration": 0.018654,
     "end_time": "2024-04-22T16:24:15.116679",
     "exception": false,
     "start_time": "2024-04-22T16:24:15.098025",
     "status": "completed"
    },
    "tags": []
   },
   "source": [
    "### Threshold Callback\n",
    "\n",
    "To prevent overfitting and as a rule of thumb, we set validation accuracy of 0.995 to be the threshold at which convergence should've occured and stop the training of the model at that point. The threshold callback and the learning rate scheduler are the two callbacks we use for training. "
   ]
  },
  {
   "cell_type": "code",
   "execution_count": 20,
   "id": "ac85d852",
   "metadata": {
    "execution": {
     "iopub.execute_input": "2024-04-22T16:24:15.156722Z",
     "iopub.status.busy": "2024-04-22T16:24:15.156439Z",
     "iopub.status.idle": "2024-04-22T16:24:15.161848Z",
     "shell.execute_reply": "2024-04-22T16:24:15.161015Z"
    },
    "papermill": {
     "duration": 0.028148,
     "end_time": "2024-04-22T16:24:15.163797",
     "exception": false,
     "start_time": "2024-04-22T16:24:15.135649",
     "status": "completed"
    },
    "tags": []
   },
   "outputs": [],
   "source": [
    "class ThresholdCallBack(tf.keras.callbacks.Callback):\n",
    "    def on_epoch_end(self, epoch, logs={}):\n",
    "        if logs.get('val_acc') > 0.995:\n",
    "            print(\"\\nReached accuracy threshold\")\n",
    "            self.model.stop_training = True\n",
    "\n",
    "threshCallback = ThresholdCallBack()\n",
    "CALLBACKS = [lr_scheduler, threshCallback]"
   ]
  },
  {
   "cell_type": "markdown",
   "id": "437dc135",
   "metadata": {
    "papermill": {
     "duration": 0.019469,
     "end_time": "2024-04-22T16:24:15.202514",
     "exception": false,
     "start_time": "2024-04-22T16:24:15.183045",
     "status": "completed"
    },
    "tags": []
   },
   "source": [
    "### Model Fitting\n",
    "\n",
    "Finally we train the model for 60 epochs on 2 T4 GPUS using categorical cross entropy as a loss function, since our model is a classifier that needs to predict classes."
   ]
  },
  {
   "cell_type": "code",
   "execution_count": 21,
   "id": "bd3eccb9",
   "metadata": {
    "execution": {
     "iopub.execute_input": "2024-04-22T16:24:15.245417Z",
     "iopub.status.busy": "2024-04-22T16:24:15.244849Z",
     "iopub.status.idle": "2024-04-22T16:34:25.388309Z",
     "shell.execute_reply": "2024-04-22T16:34:25.387203Z"
    },
    "id": "vpk-HgOC-APP",
    "outputId": "008f7666-bb74-4f1e-9d9f-25e1112c5bed",
    "papermill": {
     "duration": 610.167265,
     "end_time": "2024-04-22T16:34:25.390661",
     "exception": false,
     "start_time": "2024-04-22T16:24:15.223396",
     "status": "completed"
    },
    "tags": []
   },
   "outputs": [
    {
     "name": "stdout",
     "output_type": "stream",
     "text": [
      "\n",
      "Epoch 1: LearningRateScheduler setting learning rate to 0.0010000000474974513.\n",
      "Epoch 1/60\n",
      "\u001b[1m 1/62\u001b[0m \u001b[37m━━━━━━━━━━━━━━━━━━━━\u001b[0m \u001b[1m29:37\u001b[0m 29s/step - acc: 0.1875 - auc: 0.4561 - f1_score: 0.1875 - loss: 13.5945"
     ]
    },
    {
     "name": "stderr",
     "output_type": "stream",
     "text": [
      "WARNING: All log messages before absl::InitializeLog() is called are written to STDERR\n",
      "I0000 00:00:1713803085.202233      77 device_compiler.h:186] Compiled cluster using XLA!  This line is logged at most once for the lifetime of the process.\n",
      "W0000 00:00:1713803085.220412      77 graph_launch.cc:671] Fallback to op-by-op mode because memset node breaks graph update\n"
     ]
    },
    {
     "name": "stdout",
     "output_type": "stream",
     "text": [
      "\u001b[1m62/62\u001b[0m \u001b[32m━━━━━━━━━━━━━━━━━━━━\u001b[0m\u001b[37m\u001b[0m \u001b[1m0s\u001b[0m 484ms/step - acc: 0.1950 - auc: 0.5021 - f1_score: 0.0847 - loss: 38.3990"
     ]
    },
    {
     "name": "stderr",
     "output_type": "stream",
     "text": [
      "W0000 00:00:1713803114.750642      77 graph_launch.cc:671] Fallback to op-by-op mode because memset node breaks graph update\n",
      "W0000 00:00:1713803116.438745      77 graph_launch.cc:671] Fallback to op-by-op mode because memset node breaks graph update\n"
     ]
    },
    {
     "name": "stdout",
     "output_type": "stream",
     "text": [
      "\u001b[1m62/62\u001b[0m \u001b[32m━━━━━━━━━━━━━━━━━━━━\u001b[0m\u001b[37m\u001b[0m \u001b[1m65s\u001b[0m 594ms/step - acc: 0.1951 - auc: 0.5023 - f1_score: 0.0839 - loss: 37.9838 - val_acc: 0.2961 - val_auc: 0.5836 - val_f1_score: 0.0000e+00 - val_loss: 1.5798 - learning_rate: 0.0010\n",
      "\n",
      "Epoch 2: LearningRateScheduler setting learning rate to 0.0010000000474974513.\n",
      "Epoch 2/60\n",
      "\u001b[1m 1/62\u001b[0m \u001b[37m━━━━━━━━━━━━━━━━━━━━\u001b[0m \u001b[1m9s\u001b[0m 159ms/step - acc: 0.1875 - auc: 0.5261 - f1_score: 0.0000e+00 - loss: 1.6026"
     ]
    },
    {
     "name": "stderr",
     "output_type": "stream",
     "text": [
      "W0000 00:00:1713803121.596313      76 graph_launch.cc:671] Fallback to op-by-op mode because memset node breaks graph update\n"
     ]
    },
    {
     "name": "stdout",
     "output_type": "stream",
     "text": [
      "\u001b[1m62/62\u001b[0m \u001b[32m━━━━━━━━━━━━━━━━━━━━\u001b[0m\u001b[37m\u001b[0m \u001b[1m9s\u001b[0m 145ms/step - acc: 0.2740 - auc: 0.5841 - f1_score: 0.0386 - loss: 1.5741 - val_acc: 0.3793 - val_auc: 0.6821 - val_f1_score: 0.0873 - val_loss: 1.4741 - learning_rate: 0.0010\n",
      "\n",
      "Epoch 3: LearningRateScheduler setting learning rate to 0.0010000000474974513.\n",
      "Epoch 3/60\n",
      "\u001b[1m62/62\u001b[0m \u001b[32m━━━━━━━━━━━━━━━━━━━━\u001b[0m\u001b[37m\u001b[0m \u001b[1m9s\u001b[0m 145ms/step - acc: 0.3403 - auc: 0.6688 - f1_score: 0.1553 - loss: 1.4699 - val_acc: 0.4645 - val_auc: 0.7889 - val_f1_score: 0.3148 - val_loss: 1.2746 - learning_rate: 0.0010\n",
      "\n",
      "Epoch 4: LearningRateScheduler setting learning rate to 0.0010000000474974513.\n",
      "Epoch 4/60\n",
      "\u001b[1m62/62\u001b[0m \u001b[32m━━━━━━━━━━━━━━━━━━━━\u001b[0m\u001b[37m\u001b[0m \u001b[1m9s\u001b[0m 146ms/step - acc: 0.4544 - auc: 0.7626 - f1_score: 0.3357 - loss: 1.2804 - val_acc: 0.5882 - val_auc: 0.8535 - val_f1_score: 0.4733 - val_loss: 1.0806 - learning_rate: 0.0010\n",
      "\n",
      "Epoch 5: LearningRateScheduler setting learning rate to 0.0010000000474974513.\n",
      "Epoch 5/60\n",
      "\u001b[1m62/62\u001b[0m \u001b[32m━━━━━━━━━━━━━━━━━━━━\u001b[0m\u001b[37m\u001b[0m \u001b[1m10s\u001b[0m 146ms/step - acc: 0.5552 - auc: 0.8461 - f1_score: 0.4739 - loss: 1.0876 - val_acc: 0.6937 - val_auc: 0.9156 - val_f1_score: 0.5523 - val_loss: 0.9025 - learning_rate: 0.0010\n",
      "\n",
      "Epoch 6: LearningRateScheduler setting learning rate to 0.0010000000474974513.\n",
      "Epoch 6/60\n",
      "\u001b[1m62/62\u001b[0m \u001b[32m━━━━━━━━━━━━━━━━━━━━\u001b[0m\u001b[37m\u001b[0m \u001b[1m9s\u001b[0m 148ms/step - acc: 0.6461 - auc: 0.8987 - f1_score: 0.5791 - loss: 0.9013 - val_acc: 0.7363 - val_auc: 0.9330 - val_f1_score: 0.6990 - val_loss: 0.7486 - learning_rate: 0.0010\n",
      "\n",
      "Epoch 7: LearningRateScheduler setting learning rate to 0.0010000000474974513.\n",
      "Epoch 7/60\n",
      "\u001b[1m62/62\u001b[0m \u001b[32m━━━━━━━━━━━━━━━━━━━━\u001b[0m\u001b[37m\u001b[0m \u001b[1m9s\u001b[0m 149ms/step - acc: 0.6934 - auc: 0.9278 - f1_score: 0.6756 - loss: 0.7574 - val_acc: 0.7262 - val_auc: 0.9453 - val_f1_score: 0.7021 - val_loss: 0.6781 - learning_rate: 0.0010\n",
      "\n",
      "Epoch 8: LearningRateScheduler setting learning rate to 0.0010000000474974513.\n",
      "Epoch 8/60\n",
      "\u001b[1m62/62\u001b[0m \u001b[32m━━━━━━━━━━━━━━━━━━━━\u001b[0m\u001b[37m\u001b[0m \u001b[1m9s\u001b[0m 149ms/step - acc: 0.7877 - auc: 0.9619 - f1_score: 0.7857 - loss: 0.5514 - val_acc: 0.7769 - val_auc: 0.9566 - val_f1_score: 0.7762 - val_loss: 0.5973 - learning_rate: 0.0010\n",
      "\n",
      "Epoch 9: LearningRateScheduler setting learning rate to 0.0010000000474974513.\n",
      "Epoch 9/60\n",
      "\u001b[1m62/62\u001b[0m \u001b[32m━━━━━━━━━━━━━━━━━━━━\u001b[0m\u001b[37m\u001b[0m \u001b[1m9s\u001b[0m 148ms/step - acc: 0.8490 - auc: 0.9770 - f1_score: 0.8484 - loss: 0.4182 - val_acc: 0.8235 - val_auc: 0.9698 - val_f1_score: 0.8170 - val_loss: 0.4946 - learning_rate: 0.0010\n",
      "\n",
      "Epoch 10: LearningRateScheduler setting learning rate to 0.0010000000474974513.\n",
      "Epoch 10/60\n",
      "\u001b[1m62/62\u001b[0m \u001b[32m━━━━━━━━━━━━━━━━━━━━\u001b[0m\u001b[37m\u001b[0m \u001b[1m9s\u001b[0m 148ms/step - acc: 0.8655 - auc: 0.9820 - f1_score: 0.8623 - loss: 0.3673 - val_acc: 0.8499 - val_auc: 0.9721 - val_f1_score: 0.8488 - val_loss: 0.4788 - learning_rate: 0.0010\n",
      "\n",
      "Epoch 11: LearningRateScheduler setting learning rate to 0.0010000000474974513.\n",
      "Epoch 11/60\n",
      "\u001b[1m62/62\u001b[0m \u001b[32m━━━━━━━━━━━━━━━━━━━━\u001b[0m\u001b[37m\u001b[0m \u001b[1m9s\u001b[0m 147ms/step - acc: 0.9010 - auc: 0.9908 - f1_score: 0.9002 - loss: 0.2529 - val_acc: 0.8458 - val_auc: 0.9681 - val_f1_score: 0.8548 - val_loss: 0.5086 - learning_rate: 0.0010\n",
      "\n",
      "Epoch 12: LearningRateScheduler setting learning rate to 0.0010000000474974513.\n",
      "Epoch 12/60\n",
      "\u001b[1m62/62\u001b[0m \u001b[32m━━━━━━━━━━━━━━━━━━━━\u001b[0m\u001b[37m\u001b[0m \u001b[1m9s\u001b[0m 147ms/step - acc: 0.9428 - auc: 0.9960 - f1_score: 0.9413 - loss: 0.1667 - val_acc: 0.8499 - val_auc: 0.9715 - val_f1_score: 0.8515 - val_loss: 0.5369 - learning_rate: 0.0010\n",
      "\n",
      "Epoch 13: LearningRateScheduler setting learning rate to 0.0010000000474974513.\n",
      "Epoch 13/60\n",
      "\u001b[1m62/62\u001b[0m \u001b[32m━━━━━━━━━━━━━━━━━━━━\u001b[0m\u001b[37m\u001b[0m \u001b[1m9s\u001b[0m 147ms/step - acc: 0.9485 - auc: 0.9950 - f1_score: 0.9493 - loss: 0.1773 - val_acc: 0.8337 - val_auc: 0.9628 - val_f1_score: 0.8361 - val_loss: 0.5826 - learning_rate: 0.0010\n",
      "\n",
      "Epoch 14: LearningRateScheduler setting learning rate to 0.0010000000474974513.\n",
      "Epoch 14/60\n",
      "\u001b[1m62/62\u001b[0m \u001b[32m━━━━━━━━━━━━━━━━━━━━\u001b[0m\u001b[37m\u001b[0m \u001b[1m9s\u001b[0m 147ms/step - acc: 0.9339 - auc: 0.9936 - f1_score: 0.9268 - loss: 0.2102 - val_acc: 0.8316 - val_auc: 0.9552 - val_f1_score: 0.8307 - val_loss: 0.6726 - learning_rate: 0.0010\n",
      "\n",
      "Epoch 15: LearningRateScheduler setting learning rate to 0.0010000000474974513.\n",
      "Epoch 15/60\n",
      "\u001b[1m62/62\u001b[0m \u001b[32m━━━━━━━━━━━━━━━━━━━━\u001b[0m\u001b[37m\u001b[0m \u001b[1m9s\u001b[0m 147ms/step - acc: 0.9512 - auc: 0.9952 - f1_score: 0.9487 - loss: 0.1648 - val_acc: 0.8438 - val_auc: 0.9614 - val_f1_score: 0.8462 - val_loss: 0.6676 - learning_rate: 0.0010\n",
      "\n",
      "Epoch 16: LearningRateScheduler setting learning rate to 0.0010000000474974513.\n",
      "Epoch 16/60\n",
      "\u001b[1m62/62\u001b[0m \u001b[32m━━━━━━━━━━━━━━━━━━━━\u001b[0m\u001b[37m\u001b[0m \u001b[1m9s\u001b[0m 147ms/step - acc: 0.9526 - auc: 0.9957 - f1_score: 0.9557 - loss: 0.1439 - val_acc: 0.8722 - val_auc: 0.9685 - val_f1_score: 0.8710 - val_loss: 0.5327 - learning_rate: 0.0010\n",
      "\n",
      "Epoch 17: LearningRateScheduler setting learning rate to 0.0010000000474974513.\n",
      "Epoch 17/60\n",
      "\u001b[1m62/62\u001b[0m \u001b[32m━━━━━━━━━━━━━━━━━━━━\u001b[0m\u001b[37m\u001b[0m \u001b[1m9s\u001b[0m 147ms/step - acc: 0.9626 - auc: 0.9975 - f1_score: 0.9644 - loss: 0.1198 - val_acc: 0.8702 - val_auc: 0.9711 - val_f1_score: 0.8665 - val_loss: 0.5514 - learning_rate: 0.0010\n",
      "\n",
      "Epoch 18: LearningRateScheduler setting learning rate to 0.0010000000474974513.\n",
      "Epoch 18/60\n",
      "\u001b[1m62/62\u001b[0m \u001b[32m━━━━━━━━━━━━━━━━━━━━\u001b[0m\u001b[37m\u001b[0m \u001b[1m10s\u001b[0m 147ms/step - acc: 0.9735 - auc: 0.9990 - f1_score: 0.9710 - loss: 0.0782 - val_acc: 0.8438 - val_auc: 0.9502 - val_f1_score: 0.8443 - val_loss: 0.9424 - learning_rate: 0.0010\n",
      "\n",
      "Epoch 19: LearningRateScheduler setting learning rate to 0.0010000000474974513.\n",
      "Epoch 19/60\n",
      "\u001b[1m62/62\u001b[0m \u001b[32m━━━━━━━━━━━━━━━━━━━━\u001b[0m\u001b[37m\u001b[0m \u001b[1m9s\u001b[0m 147ms/step - acc: 0.9690 - auc: 0.9971 - f1_score: 0.9692 - loss: 0.0888 - val_acc: 0.8560 - val_auc: 0.9553 - val_f1_score: 0.8557 - val_loss: 0.8600 - learning_rate: 0.0010\n",
      "\n",
      "Epoch 20: LearningRateScheduler setting learning rate to 0.0010000000474974513.\n",
      "Epoch 20/60\n",
      "\u001b[1m62/62\u001b[0m \u001b[32m━━━━━━━━━━━━━━━━━━━━\u001b[0m\u001b[37m\u001b[0m \u001b[1m10s\u001b[0m 147ms/step - acc: 0.9418 - auc: 0.9956 - f1_score: 0.9459 - loss: 0.1579 - val_acc: 0.8600 - val_auc: 0.9612 - val_f1_score: 0.8574 - val_loss: 0.7302 - learning_rate: 0.0010\n",
      "\n",
      "Epoch 21: LearningRateScheduler setting learning rate to 0.0009500000451225787.\n",
      "Epoch 21/60\n",
      "\u001b[1m62/62\u001b[0m \u001b[32m━━━━━━━━━━━━━━━━━━━━\u001b[0m\u001b[37m\u001b[0m \u001b[1m9s\u001b[0m 147ms/step - acc: 0.9611 - auc: 0.9961 - f1_score: 0.9614 - loss: 0.1528 - val_acc: 0.8661 - val_auc: 0.9673 - val_f1_score: 0.8645 - val_loss: 0.5892 - learning_rate: 9.5000e-04\n",
      "\n",
      "Epoch 22: LearningRateScheduler setting learning rate to 0.0009500000160187483.\n",
      "Epoch 22/60\n",
      "\u001b[1m62/62\u001b[0m \u001b[32m━━━━━━━━━━━━━━━━━━━━\u001b[0m\u001b[37m\u001b[0m \u001b[1m9s\u001b[0m 147ms/step - acc: 0.9743 - auc: 0.9979 - f1_score: 0.9742 - loss: 0.0914 - val_acc: 0.8661 - val_auc: 0.9679 - val_f1_score: 0.8653 - val_loss: 0.6782 - learning_rate: 9.5000e-04\n",
      "\n",
      "Epoch 23: LearningRateScheduler setting learning rate to 0.0009025000152178108.\n",
      "Epoch 23/60\n",
      "\u001b[1m62/62\u001b[0m \u001b[32m━━━━━━━━━━━━━━━━━━━━\u001b[0m\u001b[37m\u001b[0m \u001b[1m9s\u001b[0m 147ms/step - acc: 0.9701 - auc: 0.9960 - f1_score: 0.9713 - loss: 0.1305 - val_acc: 0.8600 - val_auc: 0.9663 - val_f1_score: 0.8668 - val_loss: 0.6111 - learning_rate: 9.0250e-04\n",
      "\n",
      "Epoch 24: LearningRateScheduler setting learning rate to 0.0009025000035762787.\n",
      "Epoch 24/60\n",
      "\u001b[1m62/62\u001b[0m \u001b[32m━━━━━━━━━━━━━━━━━━━━\u001b[0m\u001b[37m\u001b[0m \u001b[1m9s\u001b[0m 148ms/step - acc: 0.9783 - auc: 0.9986 - f1_score: 0.9785 - loss: 0.0583 - val_acc: 0.8641 - val_auc: 0.9696 - val_f1_score: 0.8635 - val_loss: 0.6014 - learning_rate: 9.0250e-04\n",
      "\n",
      "Epoch 25: LearningRateScheduler setting learning rate to 0.0008573750033974647.\n",
      "Epoch 25/60\n",
      "\u001b[1m62/62\u001b[0m \u001b[32m━━━━━━━━━━━━━━━━━━━━\u001b[0m\u001b[37m\u001b[0m \u001b[1m9s\u001b[0m 147ms/step - acc: 0.9865 - auc: 0.9998 - f1_score: 0.9866 - loss: 0.0379 - val_acc: 0.8641 - val_auc: 0.9636 - val_f1_score: 0.8662 - val_loss: 0.6890 - learning_rate: 8.5737e-04\n",
      "\n",
      "Epoch 26: LearningRateScheduler setting learning rate to 0.0008573749801144004.\n",
      "Epoch 26/60\n",
      "\u001b[1m62/62\u001b[0m \u001b[32m━━━━━━━━━━━━━━━━━━━━\u001b[0m\u001b[37m\u001b[0m \u001b[1m9s\u001b[0m 147ms/step - acc: 0.9811 - auc: 0.9995 - f1_score: 0.9806 - loss: 0.0517 - val_acc: 0.8742 - val_auc: 0.9656 - val_f1_score: 0.8782 - val_loss: 0.6102 - learning_rate: 8.5737e-04\n",
      "\n",
      "Epoch 27: LearningRateScheduler setting learning rate to 0.0008145062311086804.\n",
      "Epoch 27/60\n",
      "\u001b[1m62/62\u001b[0m \u001b[32m━━━━━━━━━━━━━━━━━━━━\u001b[0m\u001b[37m\u001b[0m \u001b[1m9s\u001b[0m 148ms/step - acc: 0.9866 - auc: 0.9983 - f1_score: 0.9856 - loss: 0.0726 - val_acc: 0.8682 - val_auc: 0.9616 - val_f1_score: 0.8680 - val_loss: 0.7116 - learning_rate: 8.1451e-04\n",
      "\n",
      "Epoch 28: LearningRateScheduler setting learning rate to 0.0008145062020048499.\n",
      "Epoch 28/60\n",
      "\u001b[1m62/62\u001b[0m \u001b[32m━━━━━━━━━━━━━━━━━━━━\u001b[0m\u001b[37m\u001b[0m \u001b[1m9s\u001b[0m 147ms/step - acc: 0.9809 - auc: 0.9994 - f1_score: 0.9816 - loss: 0.0504 - val_acc: 0.8580 - val_auc: 0.9573 - val_f1_score: 0.8566 - val_loss: 0.7233 - learning_rate: 8.1451e-04\n",
      "\n",
      "Epoch 29: LearningRateScheduler setting learning rate to 0.0007737808919046074.\n",
      "Epoch 29/60\n",
      "\u001b[1m62/62\u001b[0m \u001b[32m━━━━━━━━━━━━━━━━━━━━\u001b[0m\u001b[37m\u001b[0m \u001b[1m9s\u001b[0m 147ms/step - acc: 0.9929 - auc: 0.9994 - f1_score: 0.9927 - loss: 0.0359 - val_acc: 0.8682 - val_auc: 0.9762 - val_f1_score: 0.8677 - val_loss: 0.4825 - learning_rate: 7.7378e-04\n",
      "\n",
      "Epoch 30: LearningRateScheduler setting learning rate to 0.000773780862800777.\n",
      "Epoch 30/60\n",
      "\u001b[1m62/62\u001b[0m \u001b[32m━━━━━━━━━━━━━━━━━━━━\u001b[0m\u001b[37m\u001b[0m \u001b[1m9s\u001b[0m 147ms/step - acc: 0.9850 - auc: 0.9992 - f1_score: 0.9850 - loss: 0.0493 - val_acc: 0.8621 - val_auc: 0.9657 - val_f1_score: 0.8609 - val_loss: 0.6188 - learning_rate: 7.7378e-04\n",
      "\n",
      "Epoch 31: LearningRateScheduler setting learning rate to 0.000735091819660738.\n",
      "Epoch 31/60\n",
      "\u001b[1m62/62\u001b[0m \u001b[32m━━━━━━━━━━━━━━━━━━━━\u001b[0m\u001b[37m\u001b[0m \u001b[1m9s\u001b[0m 147ms/step - acc: 0.9809 - auc: 0.9977 - f1_score: 0.9820 - loss: 0.0755 - val_acc: 0.8641 - val_auc: 0.9724 - val_f1_score: 0.8612 - val_loss: 0.6039 - learning_rate: 7.3509e-04\n",
      "\n",
      "Epoch 32: LearningRateScheduler setting learning rate to 0.0007350918021984398.\n",
      "Epoch 32/60\n",
      "\u001b[1m62/62\u001b[0m \u001b[32m━━━━━━━━━━━━━━━━━━━━\u001b[0m\u001b[37m\u001b[0m \u001b[1m9s\u001b[0m 147ms/step - acc: 0.9853 - auc: 0.9993 - f1_score: 0.9865 - loss: 0.0432 - val_acc: 0.8702 - val_auc: 0.9751 - val_f1_score: 0.8680 - val_loss: 0.5521 - learning_rate: 7.3509e-04\n",
      "\n",
      "Epoch 33: LearningRateScheduler setting learning rate to 0.0006983372120885178.\n",
      "Epoch 33/60\n",
      "\u001b[1m62/62\u001b[0m \u001b[32m━━━━━━━━━━━━━━━━━━━━\u001b[0m\u001b[37m\u001b[0m \u001b[1m9s\u001b[0m 147ms/step - acc: 0.9947 - auc: 0.9999 - f1_score: 0.9946 - loss: 0.0214 - val_acc: 0.8763 - val_auc: 0.9747 - val_f1_score: 0.8762 - val_loss: 0.5141 - learning_rate: 6.9834e-04\n",
      "\n",
      "Epoch 34: LearningRateScheduler setting learning rate to 0.0006983372149989009.\n",
      "Epoch 34/60\n",
      "\u001b[1m62/62\u001b[0m \u001b[32m━━━━━━━━━━━━━━━━━━━━\u001b[0m\u001b[37m\u001b[0m \u001b[1m9s\u001b[0m 147ms/step - acc: 0.9926 - auc: 1.0000 - f1_score: 0.9930 - loss: 0.0202 - val_acc: 0.8742 - val_auc: 0.9685 - val_f1_score: 0.8735 - val_loss: 0.5758 - learning_rate: 6.9834e-04\n",
      "\n",
      "Epoch 35: LearningRateScheduler setting learning rate to 0.0006634203542489559.\n",
      "Epoch 35/60\n",
      "\u001b[1m62/62\u001b[0m \u001b[32m━━━━━━━━━━━━━━━━━━━━\u001b[0m\u001b[37m\u001b[0m \u001b[1m9s\u001b[0m 147ms/step - acc: 0.9936 - auc: 0.9999 - f1_score: 0.9935 - loss: 0.0238 - val_acc: 0.8560 - val_auc: 0.9717 - val_f1_score: 0.8551 - val_loss: 0.6142 - learning_rate: 6.6342e-04\n",
      "\n",
      "Epoch 36: LearningRateScheduler setting learning rate to 0.0006634203600697219.\n",
      "Epoch 36/60\n",
      "\u001b[1m62/62\u001b[0m \u001b[32m━━━━━━━━━━━━━━━━━━━━\u001b[0m\u001b[37m\u001b[0m \u001b[1m9s\u001b[0m 147ms/step - acc: 0.9919 - auc: 0.9992 - f1_score: 0.9909 - loss: 0.0271 - val_acc: 0.8621 - val_auc: 0.9669 - val_f1_score: 0.8644 - val_loss: 0.6212 - learning_rate: 6.6342e-04\n",
      "\n",
      "Epoch 37: LearningRateScheduler setting learning rate to 0.0006302493420662358.\n",
      "Epoch 37/60\n",
      "\u001b[1m62/62\u001b[0m \u001b[32m━━━━━━━━━━━━━━━━━━━━\u001b[0m\u001b[37m\u001b[0m \u001b[1m9s\u001b[0m 147ms/step - acc: 0.9953 - auc: 1.0000 - f1_score: 0.9949 - loss: 0.0134 - val_acc: 0.8742 - val_auc: 0.9714 - val_f1_score: 0.8721 - val_loss: 0.6130 - learning_rate: 6.3025e-04\n",
      "\n",
      "Epoch 38: LearningRateScheduler setting learning rate to 0.0006302493275143206.\n",
      "Epoch 38/60\n",
      "\u001b[1m62/62\u001b[0m \u001b[32m━━━━━━━━━━━━━━━━━━━━\u001b[0m\u001b[37m\u001b[0m \u001b[1m9s\u001b[0m 147ms/step - acc: 0.9930 - auc: 0.9997 - f1_score: 0.9935 - loss: 0.0205 - val_acc: 0.8641 - val_auc: 0.9644 - val_f1_score: 0.8633 - val_loss: 0.6777 - learning_rate: 6.3025e-04\n",
      "\n",
      "Epoch 39: LearningRateScheduler setting learning rate to 0.0005987368611386045.\n",
      "Epoch 39/60\n",
      "\u001b[1m62/62\u001b[0m \u001b[32m━━━━━━━━━━━━━━━━━━━━\u001b[0m\u001b[37m\u001b[0m \u001b[1m9s\u001b[0m 147ms/step - acc: 0.9905 - auc: 0.9998 - f1_score: 0.9891 - loss: 0.0310 - val_acc: 0.8600 - val_auc: 0.9639 - val_f1_score: 0.8603 - val_loss: 0.6983 - learning_rate: 5.9874e-04\n",
      "\n",
      "Epoch 40: LearningRateScheduler setting learning rate to 0.0005987368640489876.\n",
      "Epoch 40/60\n",
      "\u001b[1m62/62\u001b[0m \u001b[32m━━━━━━━━━━━━━━━━━━━━\u001b[0m\u001b[37m\u001b[0m \u001b[1m9s\u001b[0m 147ms/step - acc: 0.9934 - auc: 0.9999 - f1_score: 0.9931 - loss: 0.0155 - val_acc: 0.8621 - val_auc: 0.9621 - val_f1_score: 0.8603 - val_loss: 0.7096 - learning_rate: 5.9874e-04\n",
      "\n",
      "Epoch 41: LearningRateScheduler setting learning rate to 0.0005688000208465382.\n",
      "Epoch 41/60\n",
      "\u001b[1m62/62\u001b[0m \u001b[32m━━━━━━━━━━━━━━━━━━━━\u001b[0m\u001b[37m\u001b[0m \u001b[1m10s\u001b[0m 147ms/step - acc: 0.9959 - auc: 1.0000 - f1_score: 0.9951 - loss: 0.0138 - val_acc: 0.8682 - val_auc: 0.9696 - val_f1_score: 0.8735 - val_loss: 0.6245 - learning_rate: 5.6880e-04\n",
      "\n",
      "Epoch 42: LearningRateScheduler setting learning rate to 0.0005688000237569213.\n",
      "Epoch 42/60\n",
      "\u001b[1m62/62\u001b[0m \u001b[32m━━━━━━━━━━━━━━━━━━━━\u001b[0m\u001b[37m\u001b[0m \u001b[1m9s\u001b[0m 147ms/step - acc: 0.9920 - auc: 0.9999 - f1_score: 0.9918 - loss: 0.0246 - val_acc: 0.8722 - val_auc: 0.9714 - val_f1_score: 0.8746 - val_loss: 0.5466 - learning_rate: 5.6880e-04\n",
      "\n",
      "Epoch 43: LearningRateScheduler setting learning rate to 0.0005403600225690752.\n",
      "Epoch 43/60\n",
      "\u001b[1m62/62\u001b[0m \u001b[32m━━━━━━━━━━━━━━━━━━━━\u001b[0m\u001b[37m\u001b[0m \u001b[1m9s\u001b[0m 147ms/step - acc: 0.9935 - auc: 0.9991 - f1_score: 0.9930 - loss: 0.0297 - val_acc: 0.8783 - val_auc: 0.9689 - val_f1_score: 0.8750 - val_loss: 0.5922 - learning_rate: 5.4036e-04\n",
      "\n",
      "Epoch 44: LearningRateScheduler setting learning rate to 0.0005403599934652448.\n",
      "Epoch 44/60\n",
      "\u001b[1m62/62\u001b[0m \u001b[32m━━━━━━━━━━━━━━━━━━━━\u001b[0m\u001b[37m\u001b[0m \u001b[1m9s\u001b[0m 147ms/step - acc: 0.9904 - auc: 0.9999 - f1_score: 0.9899 - loss: 0.0244 - val_acc: 0.8682 - val_auc: 0.9596 - val_f1_score: 0.8682 - val_loss: 0.7304 - learning_rate: 5.4036e-04\n",
      "\n",
      "Epoch 45: LearningRateScheduler setting learning rate to 0.0005133419937919825.\n",
      "Epoch 45/60\n",
      "\u001b[1m62/62\u001b[0m \u001b[32m━━━━━━━━━━━━━━━━━━━━\u001b[0m\u001b[37m\u001b[0m \u001b[1m9s\u001b[0m 147ms/step - acc: 0.9963 - auc: 1.0000 - f1_score: 0.9969 - loss: 0.0096 - val_acc: 0.8824 - val_auc: 0.9699 - val_f1_score: 0.8850 - val_loss: 0.5706 - learning_rate: 5.1334e-04\n",
      "\n",
      "Epoch 46: LearningRateScheduler setting learning rate to 0.0005133419763296843.\n",
      "Epoch 46/60\n",
      "\u001b[1m62/62\u001b[0m \u001b[32m━━━━━━━━━━━━━━━━━━━━\u001b[0m\u001b[37m\u001b[0m \u001b[1m9s\u001b[0m 147ms/step - acc: 0.9939 - auc: 0.9997 - f1_score: 0.9936 - loss: 0.0158 - val_acc: 0.8722 - val_auc: 0.9658 - val_f1_score: 0.8711 - val_loss: 0.7002 - learning_rate: 5.1334e-04\n",
      "\n",
      "Epoch 47: LearningRateScheduler setting learning rate to 0.0004876748775132.\n",
      "Epoch 47/60\n",
      "\u001b[1m62/62\u001b[0m \u001b[32m━━━━━━━━━━━━━━━━━━━━\u001b[0m\u001b[37m\u001b[0m \u001b[1m9s\u001b[0m 147ms/step - acc: 0.9955 - auc: 0.9997 - f1_score: 0.9952 - loss: 0.0149 - val_acc: 0.8560 - val_auc: 0.9540 - val_f1_score: 0.8603 - val_loss: 0.9018 - learning_rate: 4.8767e-04\n",
      "\n",
      "Epoch 48: LearningRateScheduler setting learning rate to 0.00048767487169243395.\n",
      "Epoch 48/60\n",
      "\u001b[1m62/62\u001b[0m \u001b[32m━━━━━━━━━━━━━━━━━━━━\u001b[0m\u001b[37m\u001b[0m \u001b[1m9s\u001b[0m 147ms/step - acc: 0.9975 - auc: 1.0000 - f1_score: 0.9974 - loss: 0.0120 - val_acc: 0.8783 - val_auc: 0.9647 - val_f1_score: 0.8767 - val_loss: 0.6634 - learning_rate: 4.8767e-04\n",
      "\n",
      "Epoch 49: LearningRateScheduler setting learning rate to 0.00046329112810781223.\n",
      "Epoch 49/60\n",
      "\u001b[1m62/62\u001b[0m \u001b[32m━━━━━━━━━━━━━━━━━━━━\u001b[0m\u001b[37m\u001b[0m \u001b[1m9s\u001b[0m 147ms/step - acc: 0.9950 - auc: 1.0000 - f1_score: 0.9942 - loss: 0.0168 - val_acc: 0.8722 - val_auc: 0.9550 - val_f1_score: 0.8758 - val_loss: 0.7984 - learning_rate: 4.6329e-04\n",
      "\n",
      "Epoch 50: LearningRateScheduler setting learning rate to 0.0004632911295630038.\n",
      "Epoch 50/60\n",
      "\u001b[1m62/62\u001b[0m \u001b[32m━━━━━━━━━━━━━━━━━━━━\u001b[0m\u001b[37m\u001b[0m \u001b[1m9s\u001b[0m 147ms/step - acc: 0.9927 - auc: 1.0000 - f1_score: 0.9928 - loss: 0.0144 - val_acc: 0.8722 - val_auc: 0.9587 - val_f1_score: 0.8758 - val_loss: 0.7513 - learning_rate: 4.6329e-04\n",
      "\n",
      "Epoch 51: LearningRateScheduler setting learning rate to 0.00044012657308485355.\n",
      "Epoch 51/60\n",
      "\u001b[1m62/62\u001b[0m \u001b[32m━━━━━━━━━━━━━━━━━━━━\u001b[0m\u001b[37m\u001b[0m \u001b[1m9s\u001b[0m 147ms/step - acc: 0.9928 - auc: 0.9997 - f1_score: 0.9929 - loss: 0.0187 - val_acc: 0.8844 - val_auc: 0.9634 - val_f1_score: 0.8880 - val_loss: 0.6742 - learning_rate: 4.4013e-04\n",
      "\n",
      "Epoch 52: LearningRateScheduler setting learning rate to 0.00044012657599523664.\n",
      "Epoch 52/60\n",
      "\u001b[1m62/62\u001b[0m \u001b[32m━━━━━━━━━━━━━━━━━━━━\u001b[0m\u001b[37m\u001b[0m \u001b[1m9s\u001b[0m 147ms/step - acc: 0.9975 - auc: 0.9997 - f1_score: 0.9974 - loss: 0.0139 - val_acc: 0.8824 - val_auc: 0.9681 - val_f1_score: 0.8834 - val_loss: 0.6397 - learning_rate: 4.4013e-04\n",
      "\n",
      "Epoch 53: LearningRateScheduler setting learning rate to 0.00041812024719547477.\n",
      "Epoch 53/60\n",
      "\u001b[1m62/62\u001b[0m \u001b[32m━━━━━━━━━━━━━━━━━━━━\u001b[0m\u001b[37m\u001b[0m \u001b[1m9s\u001b[0m 147ms/step - acc: 0.9978 - auc: 0.9999 - f1_score: 0.9984 - loss: 0.0071 - val_acc: 0.8803 - val_auc: 0.9610 - val_f1_score: 0.8816 - val_loss: 0.7111 - learning_rate: 4.1812e-04\n",
      "\n",
      "Epoch 54: LearningRateScheduler setting learning rate to 0.00041812023846432567.\n",
      "Epoch 54/60\n",
      "\u001b[1m62/62\u001b[0m \u001b[32m━━━━━━━━━━━━━━━━━━━━\u001b[0m\u001b[37m\u001b[0m \u001b[1m9s\u001b[0m 147ms/step - acc: 0.9948 - auc: 1.0000 - f1_score: 0.9944 - loss: 0.0106 - val_acc: 0.8884 - val_auc: 0.9680 - val_f1_score: 0.8866 - val_loss: 0.6041 - learning_rate: 4.1812e-04\n",
      "\n",
      "Epoch 55: LearningRateScheduler setting learning rate to 0.00039721422654110934.\n",
      "Epoch 55/60\n",
      "\u001b[1m62/62\u001b[0m \u001b[32m━━━━━━━━━━━━━━━━━━━━\u001b[0m\u001b[37m\u001b[0m \u001b[1m9s\u001b[0m 147ms/step - acc: 0.9986 - auc: 1.0000 - f1_score: 0.9979 - loss: 0.0054 - val_acc: 0.8763 - val_auc: 0.9639 - val_f1_score: 0.8793 - val_loss: 0.6424 - learning_rate: 3.9721e-04\n",
      "\n",
      "Epoch 56: LearningRateScheduler setting learning rate to 0.00039721422945149243.\n",
      "Epoch 56/60\n",
      "\u001b[1m62/62\u001b[0m \u001b[32m━━━━━━━━━━━━━━━━━━━━\u001b[0m\u001b[37m\u001b[0m \u001b[1m9s\u001b[0m 147ms/step - acc: 0.9980 - auc: 1.0000 - f1_score: 0.9975 - loss: 0.0079 - val_acc: 0.8864 - val_auc: 0.9706 - val_f1_score: 0.8878 - val_loss: 0.5684 - learning_rate: 3.9721e-04\n",
      "\n",
      "Epoch 57: LearningRateScheduler setting learning rate to 0.00037735351797891776.\n",
      "Epoch 57/60\n",
      "\u001b[1m62/62\u001b[0m \u001b[32m━━━━━━━━━━━━━━━━━━━━\u001b[0m\u001b[37m\u001b[0m \u001b[1m9s\u001b[0m 147ms/step - acc: 0.9975 - auc: 1.0000 - f1_score: 0.9971 - loss: 0.0091 - val_acc: 0.8702 - val_auc: 0.9616 - val_f1_score: 0.8717 - val_loss: 0.6412 - learning_rate: 3.7735e-04\n",
      "\n",
      "Epoch 58: LearningRateScheduler setting learning rate to 0.00037735351361334324.\n",
      "Epoch 58/60\n",
      "\u001b[1m62/62\u001b[0m \u001b[32m━━━━━━━━━━━━━━━━━━━━\u001b[0m\u001b[37m\u001b[0m \u001b[1m9s\u001b[0m 147ms/step - acc: 0.9993 - auc: 1.0000 - f1_score: 0.9995 - loss: 0.0052 - val_acc: 0.8722 - val_auc: 0.9647 - val_f1_score: 0.8735 - val_loss: 0.6675 - learning_rate: 3.7735e-04\n",
      "\n",
      "Epoch 59: LearningRateScheduler setting learning rate to 0.00035848583793267607.\n",
      "Epoch 59/60\n",
      "\u001b[1m62/62\u001b[0m \u001b[32m━━━━━━━━━━━━━━━━━━━━\u001b[0m\u001b[37m\u001b[0m \u001b[1m9s\u001b[0m 147ms/step - acc: 0.9930 - auc: 0.9991 - f1_score: 0.9929 - loss: 0.0329 - val_acc: 0.8661 - val_auc: 0.9620 - val_f1_score: 0.8705 - val_loss: 0.7098 - learning_rate: 3.5849e-04\n",
      "\n",
      "Epoch 60: LearningRateScheduler setting learning rate to 0.00035848584957420826.\n",
      "Epoch 60/60\n",
      "\u001b[1m62/62\u001b[0m \u001b[32m━━━━━━━━━━━━━━━━━━━━\u001b[0m\u001b[37m\u001b[0m \u001b[1m9s\u001b[0m 147ms/step - acc: 0.9958 - auc: 0.9999 - f1_score: 0.9957 - loss: 0.0134 - val_acc: 0.8742 - val_auc: 0.9627 - val_f1_score: 0.8746 - val_loss: 0.6636 - learning_rate: 3.5849e-04\n"
     ]
    }
   ],
   "source": [
    "model.compile(optimizer=optimizer, loss='categorical_crossentropy', metrics=METRICS)\n",
    "\n",
    "history = model.fit(\n",
    "    train_images, train_labels,\n",
    "    epochs=60,\n",
    "    validation_data=(val_images, val_labels),\n",
    "    callbacks=CALLBACKS)  "
   ]
  },
  {
   "cell_type": "code",
   "execution_count": 22,
   "id": "f7e1701b",
   "metadata": {
    "execution": {
     "iopub.execute_input": "2024-04-22T16:34:26.080043Z",
     "iopub.status.busy": "2024-04-22T16:34:26.079367Z",
     "iopub.status.idle": "2024-04-22T16:34:27.581296Z",
     "shell.execute_reply": "2024-04-22T16:34:27.580015Z"
    },
    "id": "f26751b2",
    "outputId": "68d32aa4-5e7b-4125-89db-7b3ec64c5b72",
    "papermill": {
     "duration": 1.846076,
     "end_time": "2024-04-22T16:34:27.583627",
     "exception": false,
     "start_time": "2024-04-22T16:34:25.737551",
     "status": "completed"
    },
    "tags": []
   },
   "outputs": [
    {
     "name": "stdout",
     "output_type": "stream",
     "text": [
      "\u001b[1m 7/16\u001b[0m \u001b[32m━━━━━━━━\u001b[0m\u001b[37m━━━━━━━━━━━━\u001b[0m \u001b[1m0s\u001b[0m 31ms/step"
     ]
    },
    {
     "name": "stderr",
     "output_type": "stream",
     "text": [
      "W0000 00:00:1713803666.738412      77 graph_launch.cc:671] Fallback to op-by-op mode because memset node breaks graph update\n"
     ]
    },
    {
     "name": "stdout",
     "output_type": "stream",
     "text": [
      "\u001b[1m16/16\u001b[0m \u001b[32m━━━━━━━━━━━━━━━━━━━━\u001b[0m\u001b[37m\u001b[0m \u001b[1m1s\u001b[0m 53ms/step\n",
      "ROC AUC: 0.9895261004515495\n"
     ]
    },
    {
     "name": "stderr",
     "output_type": "stream",
     "text": [
      "W0000 00:00:1713803667.525610      77 graph_launch.cc:671] Fallback to op-by-op mode because memset node breaks graph update\n"
     ]
    }
   ],
   "source": [
    "import tensorflow as tf\n",
    "import numpy as np\n",
    "from sklearn.metrics import roc_auc_score\n",
    "\n",
    "y_prob = model.predict(val_images)\n",
    "roc_auc = roc_auc_score(val_labels, y_prob, average='macro')\n",
    "\n",
    "print(\"ROC AUC:\", roc_auc)"
   ]
  },
  {
   "cell_type": "markdown",
   "id": "2568fb7e",
   "metadata": {
    "papermill": {
     "duration": 0.343521,
     "end_time": "2024-04-22T16:34:28.270639",
     "exception": false,
     "start_time": "2024-04-22T16:34:27.927118",
     "status": "completed"
    },
    "tags": []
   },
   "source": [
    "### Saving the model\n",
    "\n",
    "The model is saved for the future so that it can be combined with the handwriting classifier later on"
   ]
  },
  {
   "cell_type": "code",
   "execution_count": 23,
   "id": "8aaf53df",
   "metadata": {
    "execution": {
     "iopub.execute_input": "2024-04-22T16:34:28.986424Z",
     "iopub.status.busy": "2024-04-22T16:34:28.985710Z",
     "iopub.status.idle": "2024-04-22T16:34:31.782306Z",
     "shell.execute_reply": "2024-04-22T16:34:31.781506Z"
    },
    "id": "ac3ed08e",
    "outputId": "e6a9891b-e633-4c66-c7f3-563344ad529f",
    "papermill": {
     "duration": 3.130831,
     "end_time": "2024-04-22T16:34:31.784547",
     "exception": false,
     "start_time": "2024-04-22T16:34:28.653716",
     "status": "completed"
    },
    "tags": []
   },
   "outputs": [],
   "source": [
    "model.save(\"my_cnn_model.h5\")\n"
   ]
  },
  {
   "cell_type": "markdown",
   "id": "f0166142",
   "metadata": {
    "papermill": {
     "duration": 0.343054,
     "end_time": "2024-04-22T16:34:32.468468",
     "exception": false,
     "start_time": "2024-04-22T16:34:32.125414",
     "status": "completed"
    },
    "tags": []
   },
   "source": [
    "# Testing"
   ]
  },
  {
   "cell_type": "code",
   "execution_count": 24,
   "id": "d39fa32f",
   "metadata": {
    "execution": {
     "iopub.execute_input": "2024-04-22T16:34:33.163767Z",
     "iopub.status.busy": "2024-04-22T16:34:33.163409Z",
     "iopub.status.idle": "2024-04-22T16:34:33.171647Z",
     "shell.execute_reply": "2024-04-22T16:34:33.170640Z"
    },
    "id": "CihNhxENChlt",
    "outputId": "fb5f119d-f55e-4bac-a9bd-f5ff11ba7507",
    "papermill": {
     "duration": 0.357004,
     "end_time": "2024-04-22T16:34:33.173739",
     "exception": false,
     "start_time": "2024-04-22T16:34:32.816735",
     "status": "completed"
    },
    "tags": []
   },
   "outputs": [
    {
     "data": {
      "text/plain": [
       "195"
      ]
     },
     "execution_count": 24,
     "metadata": {},
     "output_type": "execute_result"
    }
   ],
   "source": [
    "import os\n",
    "import numpy as np\n",
    "directory = '/kaggle/working/test'\n",
    "\n",
    "files = [file for file in os.listdir(directory) if file.endswith('.npy')]\n",
    "len(files)"
   ]
  },
  {
   "cell_type": "markdown",
   "id": "0ef36368",
   "metadata": {
    "papermill": {
     "duration": 0.345764,
     "end_time": "2024-04-22T16:34:33.901535",
     "exception": false,
     "start_time": "2024-04-22T16:34:33.555771",
     "status": "completed"
    },
    "tags": []
   },
   "source": [
    "### Data loading\n",
    "\n",
    "The test npy file paths are separated into lists for the purpose of classification. "
   ]
  },
  {
   "cell_type": "code",
   "execution_count": 25,
   "id": "44de5824",
   "metadata": {
    "execution": {
     "iopub.execute_input": "2024-04-22T16:34:34.605284Z",
     "iopub.status.busy": "2024-04-22T16:34:34.604915Z",
     "iopub.status.idle": "2024-04-22T16:34:34.611650Z",
     "shell.execute_reply": "2024-04-22T16:34:34.610780Z"
    },
    "id": "avj2hYL_Cp9p",
    "outputId": "573fc7df-d466-4585-f0db-b55ea39ed61a",
    "papermill": {
     "duration": 0.362214,
     "end_time": "2024-04-22T16:34:34.613576",
     "exception": false,
     "start_time": "2024-04-22T16:34:34.251362",
     "status": "completed"
    },
    "tags": []
   },
   "outputs": [
    {
     "name": "stdout",
     "output_type": "stream",
     "text": [
      "26 87 36 11 35\n"
     ]
    }
   ],
   "source": [
    "ad = [i for i in files if \"AD\" in i]\n",
    "cn = [i for i in files if \"CN\" in i]\n",
    "emci = [i for i in files if \"EMCI\" in i]\n",
    "lmci = [i for i in files if \"LMCI\" in i]\n",
    "mci = [i for i in files if \" MCI \" in i]\n",
    "print(len(ad), len(cn), len(emci), len(lmci), len(mci))"
   ]
  },
  {
   "cell_type": "markdown",
   "id": "7c1bcc54",
   "metadata": {
    "papermill": {
     "duration": 0.367438,
     "end_time": "2024-04-22T16:34:35.340739",
     "exception": false,
     "start_time": "2024-04-22T16:34:34.973301",
     "status": "completed"
    },
    "tags": []
   },
   "source": [
    "The paths are added into a dataframe with labels"
   ]
  },
  {
   "cell_type": "code",
   "execution_count": 26,
   "id": "cbdb1cbd",
   "metadata": {
    "execution": {
     "iopub.execute_input": "2024-04-22T16:34:36.032933Z",
     "iopub.status.busy": "2024-04-22T16:34:36.032569Z",
     "iopub.status.idle": "2024-04-22T16:34:36.044444Z",
     "shell.execute_reply": "2024-04-22T16:34:36.043486Z"
    },
    "id": "63L3eQx3Cs6g",
    "outputId": "9e45a2f9-8615-43d0-a370-278cdc04fa05",
    "papermill": {
     "duration": 0.363191,
     "end_time": "2024-04-22T16:34:36.046525",
     "exception": false,
     "start_time": "2024-04-22T16:34:35.683334",
     "status": "completed"
    },
    "tags": []
   },
   "outputs": [
    {
     "data": {
      "text/plain": [
       "Class\n",
       "1    87\n",
       "2    36\n",
       "4    35\n",
       "0    26\n",
       "3    11\n",
       "Name: count, dtype: int64"
      ]
     },
     "execution_count": 26,
     "metadata": {},
     "output_type": "execute_result"
    }
   ],
   "source": [
    "import pandas as pd\n",
    "l = [[ad, 0], [cn, 1], [emci, 2], [lmci, 3], [mci, 4]]\n",
    "x = []\n",
    "for i in l:\n",
    "    for j in i[0]:\n",
    "        path = os.path.join(\"/kaggle/working/train\", j)\n",
    "        x.append([i[1], path])\n",
    "\n",
    "df = pd.DataFrame(x, columns=[\"Class\", \"Path\"])\n",
    "x = df[\"Class\"].value_counts()\n",
    "x"
   ]
  },
  {
   "cell_type": "markdown",
   "id": "475201c6",
   "metadata": {
    "papermill": {
     "duration": 0.348111,
     "end_time": "2024-04-22T16:34:36.807653",
     "exception": false,
     "start_time": "2024-04-22T16:34:36.459542",
     "status": "completed"
    },
    "tags": []
   },
   "source": [
    "Checking the test data for images that do not fit the input size of the model"
   ]
  },
  {
   "cell_type": "code",
   "execution_count": 27,
   "id": "33981e5c",
   "metadata": {
    "execution": {
     "iopub.execute_input": "2024-04-22T16:34:37.487255Z",
     "iopub.status.busy": "2024-04-22T16:34:37.486235Z",
     "iopub.status.idle": "2024-04-22T16:34:37.522328Z",
     "shell.execute_reply": "2024-04-22T16:34:37.521382Z"
    },
    "papermill": {
     "duration": 0.372962,
     "end_time": "2024-04-22T16:34:37.524509",
     "exception": false,
     "start_time": "2024-04-22T16:34:37.151547",
     "status": "completed"
    },
    "tags": []
   },
   "outputs": [],
   "source": [
    "for j, i in enumerate(df[\"Path\"]):\n",
    "    if np.load(i).shape != (256, 256, 3):\n",
    "        print(i)"
   ]
  },
  {
   "cell_type": "markdown",
   "id": "bc60a3d1",
   "metadata": {
    "papermill": {
     "duration": 0.343261,
     "end_time": "2024-04-22T16:34:38.211458",
     "exception": false,
     "start_time": "2024-04-22T16:34:37.868197",
     "status": "completed"
    },
    "tags": []
   },
   "source": [
    "Loading the test images into memory for prediction"
   ]
  },
  {
   "cell_type": "code",
   "execution_count": 28,
   "id": "24fd0f98",
   "metadata": {
    "execution": {
     "iopub.execute_input": "2024-04-22T16:34:38.940583Z",
     "iopub.status.busy": "2024-04-22T16:34:38.939709Z",
     "iopub.status.idle": "2024-04-22T16:34:38.993515Z",
     "shell.execute_reply": "2024-04-22T16:34:38.992711Z"
    },
    "id": "QwkXDmRMCwlr",
    "papermill": {
     "duration": 0.402003,
     "end_time": "2024-04-22T16:34:38.995822",
     "exception": false,
     "start_time": "2024-04-22T16:34:38.593819",
     "status": "completed"
    },
    "tags": []
   },
   "outputs": [],
   "source": [
    "images = []\n",
    "for i in df[\"Path\"]:\n",
    "    images.append(np.load(i))\n",
    "images = np.array(images)"
   ]
  },
  {
   "cell_type": "markdown",
   "id": "821143dd",
   "metadata": {
    "papermill": {
     "duration": 0.337944,
     "end_time": "2024-04-22T16:34:39.666106",
     "exception": false,
     "start_time": "2024-04-22T16:34:39.328162",
     "status": "completed"
    },
    "tags": []
   },
   "source": [
    "### Prediction\n",
    "\n",
    "The model makes predictions based on the test images given to it. The predictions are in the form of a vector of size 5, where each element gives the probability of the image belonging to a certain class. We use the numpy `argmax` function to find the index of the element with the highest probability and conclude that the given image belongs to that class."
   ]
  },
  {
   "cell_type": "code",
   "execution_count": 29,
   "id": "b59aa703",
   "metadata": {
    "execution": {
     "iopub.execute_input": "2024-04-22T16:34:40.358479Z",
     "iopub.status.busy": "2024-04-22T16:34:40.358111Z",
     "iopub.status.idle": "2024-04-22T16:34:42.710894Z",
     "shell.execute_reply": "2024-04-22T16:34:42.709759Z"
    },
    "id": "I_42DXnvZVLB",
    "papermill": {
     "duration": 2.702667,
     "end_time": "2024-04-22T16:34:42.713122",
     "exception": false,
     "start_time": "2024-04-22T16:34:40.010455",
     "status": "completed"
    },
    "tags": []
   },
   "outputs": [
    {
     "name": "stdout",
     "output_type": "stream",
     "text": [
      "\u001b[1m7/7\u001b[0m \u001b[32m━━━━━━━━━━━━━━━━━━━━\u001b[0m\u001b[37m\u001b[0m \u001b[1m2s\u001b[0m 364ms/step\n"
     ]
    },
    {
     "name": "stderr",
     "output_type": "stream",
     "text": [
      "W0000 00:00:1713803682.688535      76 graph_launch.cc:671] Fallback to op-by-op mode because memset node breaks graph update\n"
     ]
    }
   ],
   "source": [
    "y_prob = model.predict(images)\n",
    "\n",
    "y_prob = np.argmax(y_prob, axis=1)  "
   ]
  },
  {
   "cell_type": "markdown",
   "id": "50c0e0b8",
   "metadata": {
    "papermill": {
     "duration": 0.341557,
     "end_time": "2024-04-22T16:34:43.406768",
     "exception": false,
     "start_time": "2024-04-22T16:34:43.065211",
     "status": "completed"
    },
    "tags": []
   },
   "source": [
    "# Results"
   ]
  },
  {
   "cell_type": "markdown",
   "id": "63937ebd",
   "metadata": {
    "papermill": {
     "duration": 0.338854,
     "end_time": "2024-04-22T16:34:44.136025",
     "exception": false,
     "start_time": "2024-04-22T16:34:43.797171",
     "status": "completed"
    },
    "tags": []
   },
   "source": [
    "Making use of the `classification_report` module in both sklearn and imblearn, we can plot the overall performance of the model against new, unseen test data and we can see that the model performs pretty well with an accuracy and F1 score of 0.97. We can thus conclude that the training has been pretty successful and the model can generalise well enough on any form of unseen data. "
   ]
  },
  {
   "cell_type": "code",
   "execution_count": 30,
   "id": "60609bb2",
   "metadata": {
    "execution": {
     "iopub.execute_input": "2024-04-22T16:34:44.815184Z",
     "iopub.status.busy": "2024-04-22T16:34:44.814834Z",
     "iopub.status.idle": "2024-04-22T16:34:44.829397Z",
     "shell.execute_reply": "2024-04-22T16:34:44.828355Z"
    },
    "id": "Whw0fiWMafyY",
    "outputId": "f6126497-412a-4edb-9965-396997e74a55",
    "papermill": {
     "duration": 0.355628,
     "end_time": "2024-04-22T16:34:44.831303",
     "exception": false,
     "start_time": "2024-04-22T16:34:44.475675",
     "status": "completed"
    },
    "tags": []
   },
   "outputs": [
    {
     "name": "stdout",
     "output_type": "stream",
     "text": [
      "                                 precision    recall  f1-score   support\n",
      "\n",
      "            Alzheimer's Disease       1.00      1.00      1.00        26\n",
      "             Cognitively Normal       0.93      0.99      0.96        82\n",
      "Early Mild Cognitive Impairment       0.97      0.95      0.96        37\n",
      "      Mild Cognitive Impairment       1.00      0.92      0.96        12\n",
      "  ate Mild Cognitive Impairment       1.00      0.92      0.96        38\n",
      "\n",
      "                       accuracy                           0.96       195\n",
      "                      macro avg       0.98      0.95      0.97       195\n",
      "                   weighted avg       0.97      0.96      0.96       195\n",
      "\n"
     ]
    }
   ],
   "source": [
    "from sklearn.metrics import classification_report\n",
    "l = df[\"Class\"]\n",
    "print(classification_report(y_prob, l, target_names=[\"Alzheimer's Disease\" , \"Cognitively Normal\",  \"Early Mild Cognitive Impairment\",\"Mild Cognitive Impairment\",\"ate Mild Cognitive Impairment\"]))"
   ]
  },
  {
   "cell_type": "code",
   "execution_count": 31,
   "id": "08bd1183",
   "metadata": {
    "execution": {
     "iopub.execute_input": "2024-04-22T16:34:45.522040Z",
     "iopub.status.busy": "2024-04-22T16:34:45.521274Z",
     "iopub.status.idle": "2024-04-22T16:34:45.538345Z",
     "shell.execute_reply": "2024-04-22T16:34:45.537326Z"
    },
    "papermill": {
     "duration": 0.369016,
     "end_time": "2024-04-22T16:34:45.540319",
     "exception": false,
     "start_time": "2024-04-22T16:34:45.171303",
     "status": "completed"
    },
    "tags": []
   },
   "outputs": [
    {
     "name": "stdout",
     "output_type": "stream",
     "text": [
      "                   pre       rec       spe        f1       geo       iba       sup\n",
      "\n",
      "          0       1.00      1.00      1.00      1.00      1.00      1.00        26\n",
      "          1       0.99      0.93      0.99      0.96      0.96      0.92        87\n",
      "          2       0.95      0.97      0.99      0.96      0.98      0.96        36\n",
      "          3       0.92      1.00      0.99      0.96      1.00      1.00        11\n",
      "          4       0.92      1.00      0.98      0.96      0.99      0.98        35\n",
      "\n",
      "avg / total       0.97      0.96      0.99      0.96      0.98      0.95       195\n",
      "\n"
     ]
    }
   ],
   "source": [
    "from imblearn.metrics import classification_report_imbalanced\n",
    "print(classification_report_imbalanced(l, y_prob))"
   ]
  },
  {
   "cell_type": "code",
   "execution_count": 32,
   "id": "54bbb574",
   "metadata": {
    "execution": {
     "iopub.execute_input": "2024-04-22T16:34:46.266825Z",
     "iopub.status.busy": "2024-04-22T16:34:46.265977Z",
     "iopub.status.idle": "2024-04-22T16:34:47.708845Z",
     "shell.execute_reply": "2024-04-22T16:34:47.707655Z"
    },
    "id": "QdaXXEvFDJKJ",
    "outputId": "f3c4dd51-486e-44cd-ff3d-5d6e7a9eb256",
    "papermill": {
     "duration": 1.826682,
     "end_time": "2024-04-22T16:34:47.711374",
     "exception": false,
     "start_time": "2024-04-22T16:34:45.884692",
     "status": "completed"
    },
    "tags": []
   },
   "outputs": [
    {
     "name": "stdout",
     "output_type": "stream",
     "text": [
      "\u001b[1m7/7\u001b[0m \u001b[32m━━━━━━━━━━━━━━━━━━━━\u001b[0m\u001b[37m\u001b[0m \u001b[1m1s\u001b[0m 153ms/step - acc: 0.9546 - auc: 0.9924 - f1_score: 0.9463 - loss: 0.2190\n"
     ]
    },
    {
     "name": "stderr",
     "output_type": "stream",
     "text": [
      "W0000 00:00:1713803687.384580      76 graph_launch.cc:671] Fallback to op-by-op mode because memset node breaks graph update\n"
     ]
    },
    {
     "data": {
      "text/plain": [
       "[0.18541263043880463, 0.964102566242218, 0.993096649646759, 0.9587628245353699]"
      ]
     },
     "execution_count": 32,
     "metadata": {},
     "output_type": "execute_result"
    }
   ],
   "source": [
    "from keras.utils import to_categorical\n",
    "labels = to_categorical(l)\n",
    "model.evaluate(images, labels)"
   ]
  },
  {
   "cell_type": "markdown",
   "id": "c72354d5",
   "metadata": {
    "papermill": {
     "duration": 0.359468,
     "end_time": "2024-04-22T16:34:48.445487",
     "exception": false,
     "start_time": "2024-04-22T16:34:48.086019",
     "status": "completed"
    },
    "tags": []
   },
   "source": [
    "\n",
    "### Confusion Matrix\n",
    "\n",
    "A confusion matrix to visualise the predictions of the model and show its performance."
   ]
  },
  {
   "cell_type": "code",
   "execution_count": 33,
   "id": "5acde159",
   "metadata": {
    "execution": {
     "iopub.execute_input": "2024-04-22T16:34:49.142807Z",
     "iopub.status.busy": "2024-04-22T16:34:49.142459Z",
     "iopub.status.idle": "2024-04-22T16:34:49.820903Z",
     "shell.execute_reply": "2024-04-22T16:34:49.819991Z"
    },
    "papermill": {
     "duration": 1.028812,
     "end_time": "2024-04-22T16:34:49.822934",
     "exception": false,
     "start_time": "2024-04-22T16:34:48.794122",
     "status": "completed"
    },
    "tags": []
   },
   "outputs": [
    {
     "data": {
      "image/png": "[encoded data removed]",
      "text/plain": [
       "<Figure size 1000x700 with 2 Axes>"
      ]
     },
     "metadata": {},
     "output_type": "display_data"
    }
   ],
   "source": [
    "import matplotlib.pyplot as plt\n",
    "from sklearn.metrics import confusion_matrix\n",
    "import seaborn as sns\n",
    "\n",
    "cm = confusion_matrix(l, y_prob)\n",
    "\n",
    "class_names = ['AD', 'CN', 'EMCI', 'LMCI', 'MCI']\n",
    "\n",
    "plt.figure(figsize=(10, 7))\n",
    "sns.heatmap(cm, annot=True, fmt='d', cmap='Blues', xticklabels=class_names, yticklabels=class_names)\n",
    "plt.xlabel('Predicted')\n",
    "plt.ylabel('Actual')\n",
    "plt.show()"
   ]
  }
 ],
 "metadata": {
  "accelerator": "GPU",
  "colab": {
   "gpuType": "T4",
   "provenance": []
  },
  "kaggle": {
   "accelerator": "nvidiaTeslaT4",
   "dataSources": [
    {
     "datasetId": 1161732,
     "sourceId": 1946782,
     "sourceType": "datasetVersion"
    }
   ],
   "dockerImageVersionId": 30699,
   "isGpuEnabled": true,
   "isInternetEnabled": false,
   "language": "python",
   "sourceType": "notebook"
  },
  "kernelspec": {
   "display_name": "Python 3",
   "language": "python",
   "name": "python3"
  },
  "language_info": {
   "codemirror_mode": {
    "name": "ipython",
    "version": 3
   },
   "file_extension": ".py",
   "mimetype": "text/x-python",
   "name": "python",
   "nbconvert_exporter": "python",
   "pygments_lexer": "ipython3",
   "version": "3.10.13"
  },
  "papermill": {
   "default_parameters": {},
   "duration": 673.975619,
   "end_time": "2024-04-22T16:34:53.613364",
   "environment_variables": {},
   "exception": null,
   "input_path": "__notebook__.ipynb",
   "output_path": "__notebook__.ipynb",
   "parameters": {},
   "start_time": "2024-04-22T16:23:39.637745",
   "version": "2.5.0"
  }
 },
 "nbformat": 4,
 "nbformat_minor": 5
}
