{
 "cells": [
  {
   "cell_type": "markdown",
   "id": "ed1f03ec",
   "metadata": {
    "id": "7cac8631",
    "papermill": {
     "duration": 0.014449,
     "end_time": "2024-04-22T15:29:37.925333",
     "exception": false,
     "start_time": "2024-04-22T15:29:37.910884",
     "status": "completed"
    },
    "tags": []
   },
   "source": [
    "# Pre-processing\n",
    "### JPG TO NPY"
   ]
  },
  {
   "cell_type": "markdown",
   "id": "dc3e0f75",
   "metadata": {
    "papermill": {
     "duration": 0.013274,
     "end_time": "2024-04-22T15:29:37.952697",
     "exception": false,
     "start_time": "2024-04-22T15:29:37.939423",
     "status": "completed"
    },
    "tags": []
   },
   "source": [
    "We convert all the JPG images to .npy format so that they can be loaded onto numpy array easily and the model can be trained using these .npy files. The image files are stored within labelled directories, hence the function recursively goes through each directory and converts all jpg files to npy"
   ]
  },
  {
   "cell_type": "code",
   "execution_count": 1,
   "id": "ce6dc2e4",
   "metadata": {
    "execution": {
     "iopub.execute_input": "2024-04-22T15:29:37.981681Z",
     "iopub.status.busy": "2024-04-22T15:29:37.980895Z",
     "iopub.status.idle": "2024-04-22T15:29:49.121384Z",
     "shell.execute_reply": "2024-04-22T15:29:49.120345Z"
    },
    "id": "Qk1z9nYFFLpb",
    "papermill": {
     "duration": 11.157753,
     "end_time": "2024-04-22T15:29:49.123925",
     "exception": false,
     "start_time": "2024-04-22T15:29:37.966172",
     "status": "completed"
    },
    "tags": []
   },
   "outputs": [],
   "source": [
    "import os\n",
    "import cv2\n",
    "import numpy as np\n",
    "\n",
    "def jpg_to_npy_in_folders(input_folder, output_folder):\n",
    "    os.makedirs(output_folder, exist_ok=True)\n",
    "    for i, item in enumerate(os.listdir(input_folder)):\n",
    "        item_path = os.path.join(input_folder, item)\n",
    "        if os.path.isdir(item_path):\n",
    "            jpg_to_npy_in_folders(item_path, output_folder)\n",
    "        elif os.path.isfile(item_path) and item.endswith(\".jpg\"):\n",
    "            img = cv2.imread(item_path)\n",
    "            img = cv2.resize(img, (256, 256)) \n",
    "            img_array = np.array(img)\n",
    "            folder = input_folder.split(\"/\")[-1]\n",
    "            output_file_path = os.path.join(output_folder, f\"{folder}{i}.npy\")\n",
    "            np.save(output_file_path, img_array)\n",
    "\n",
    "input_folder_path = \"/kaggle/input/alzheimersdisease5classdatasetadni/Alzheimers-ADNI/train\"\n",
    "output_folder_path = \"/kaggle/working/train\"\n",
    "\n",
    "jpg_to_npy_in_folders(input_folder_path, output_folder_path)\n",
    "jpg_to_npy_in_folders(\"/kaggle/input/alzheimersdisease5classdatasetadni/Alzheimers-ADNI/test\", \"/kaggle/working/test\")\n"
   ]
  },
  {
   "cell_type": "code",
   "execution_count": 2,
   "id": "01b3371b",
   "metadata": {
    "execution": {
     "iopub.execute_input": "2024-04-22T15:29:49.155110Z",
     "iopub.status.busy": "2024-04-22T15:29:49.154779Z",
     "iopub.status.idle": "2024-04-22T15:29:49.162986Z",
     "shell.execute_reply": "2024-04-22T15:29:49.162143Z"
    },
    "id": "10a3d79a",
    "outputId": "0786a7b1-1cb0-4836-d0c3-bd938085cea1",
    "papermill": {
     "duration": 0.025561,
     "end_time": "2024-04-22T15:29:49.164965",
     "exception": false,
     "start_time": "2024-04-22T15:29:49.139404",
     "status": "completed"
    },
    "tags": []
   },
   "outputs": [
    {
     "data": {
      "text/plain": [
       "1101"
      ]
     },
     "execution_count": 2,
     "metadata": {},
     "output_type": "execute_result"
    }
   ],
   "source": [
    "import os\n",
    "import numpy as np\n",
    "directory = '/kaggle/working/train'\n",
    "\n",
    "files = [file for file in os.listdir(directory) if file.endswith('.npy')]\n",
    "len(files)\n"
   ]
  },
  {
   "cell_type": "markdown",
   "id": "53ef1715",
   "metadata": {
    "papermill": {
     "duration": 0.014348,
     "end_time": "2024-04-22T15:29:49.193767",
     "exception": false,
     "start_time": "2024-04-22T15:29:49.179419",
     "status": "completed"
    },
    "tags": []
   },
   "source": [
    "### Class separation\n",
    "\n",
    "All npy files are saved with the class name as part of the file name. Using this we can separate the files into different classes. Printing out the number of files for each class shows us that there is a slight imbalance."
   ]
  },
  {
   "cell_type": "code",
   "execution_count": 3,
   "id": "c4c470b9",
   "metadata": {
    "execution": {
     "iopub.execute_input": "2024-04-22T15:29:49.224836Z",
     "iopub.status.busy": "2024-04-22T15:29:49.224152Z",
     "iopub.status.idle": "2024-04-22T15:29:49.231683Z",
     "shell.execute_reply": "2024-04-22T15:29:49.230769Z"
    },
    "id": "8426e2b0",
    "outputId": "33bd33e9-420e-4f14-fb28-169e9b52369d",
    "papermill": {
     "duration": 0.025465,
     "end_time": "2024-04-22T15:29:49.233857",
     "exception": false,
     "start_time": "2024-04-22T15:29:49.208392",
     "status": "completed"
    },
    "tags": []
   },
   "outputs": [
    {
     "name": "stdout",
     "output_type": "stream",
     "text": [
      "145 493 204 61 198\n"
     ]
    }
   ],
   "source": [
    "ad = [i for i in files if \"AD\" in i]\n",
    "cn = [i for i in files if \"CN\" in i]\n",
    "emci = [i for i in files if \"EMCI\" in i]\n",
    "lmci = [i for i in files if \"LMCI\" in i]\n",
    "mci = [i for i in files if \" MCI \" in i]\n",
    "print(len(ad), len(cn), len(emci), len(lmci), len(mci))"
   ]
  },
  {
   "cell_type": "markdown",
   "id": "dd949bbb",
   "metadata": {
    "papermill": {
     "duration": 0.014168,
     "end_time": "2024-04-22T15:29:49.262509",
     "exception": false,
     "start_time": "2024-04-22T15:29:49.248341",
     "status": "completed"
    },
    "tags": []
   },
   "source": [
    "We store all the file paths and their respective classes into a pandas dataframe for easy use in the future for processing tasks."
   ]
  },
  {
   "cell_type": "code",
   "execution_count": 4,
   "id": "dab626ff",
   "metadata": {
    "execution": {
     "iopub.execute_input": "2024-04-22T15:29:49.291913Z",
     "iopub.status.busy": "2024-04-22T15:29:49.291667Z",
     "iopub.status.idle": "2024-04-22T15:29:50.152065Z",
     "shell.execute_reply": "2024-04-22T15:29:50.151154Z"
    },
    "id": "6da1451b",
    "outputId": "1d39f7e2-d8a3-4381-e7a1-8441fa0702eb",
    "papermill": {
     "duration": 0.877324,
     "end_time": "2024-04-22T15:29:50.154211",
     "exception": false,
     "start_time": "2024-04-22T15:29:49.276887",
     "status": "completed"
    },
    "tags": []
   },
   "outputs": [
    {
     "data": {
      "text/plain": [
       "Class\n",
       "1    493\n",
       "2    204\n",
       "4    198\n",
       "0    145\n",
       "3     61\n",
       "Name: count, dtype: int64"
      ]
     },
     "execution_count": 4,
     "metadata": {},
     "output_type": "execute_result"
    }
   ],
   "source": [
    "import pandas as pd\n",
    "l = [[ad, 0], [cn, 1], [emci, 2], [lmci, 3], [mci, 4]]\n",
    "x = []\n",
    "for i in l:\n",
    "    for j in i[0]:\n",
    "        path = os.path.join(\"/kaggle/working/train\", j)\n",
    "        x.append([i[1], path])\n",
    "\n",
    "df = pd.DataFrame(x, columns=[\"Class\", \"Path\"])\n",
    "x = df[\"Class\"].value_counts()\n",
    "x"
   ]
  },
  {
   "cell_type": "markdown",
   "id": "e5fc7841",
   "metadata": {
    "papermill": {
     "duration": 0.013562,
     "end_time": "2024-04-22T15:29:50.181924",
     "exception": false,
     "start_time": "2024-04-22T15:29:50.168362",
     "status": "completed"
    },
    "tags": []
   },
   "source": [
    "The model takes an input shape of `(256, 256, 3)`. Our initial work into the dataset showed us that there were 50 images not having this shape. We reshaped the images before converting them to npy in the final version. This cell checks if there are any image that do not have the necessary shape."
   ]
  },
  {
   "cell_type": "code",
   "execution_count": 5,
   "id": "b5fc72e2",
   "metadata": {
    "execution": {
     "iopub.execute_input": "2024-04-22T15:29:50.210672Z",
     "iopub.status.busy": "2024-04-22T15:29:50.210318Z",
     "iopub.status.idle": "2024-04-22T15:29:50.374387Z",
     "shell.execute_reply": "2024-04-22T15:29:50.373560Z"
    },
    "papermill": {
     "duration": 0.180698,
     "end_time": "2024-04-22T15:29:50.376405",
     "exception": false,
     "start_time": "2024-04-22T15:29:50.195707",
     "status": "completed"
    },
    "tags": []
   },
   "outputs": [],
   "source": [
    "for j, i in enumerate(df[\"Path\"]):\n",
    "    if np.load(i).shape != (256, 256, 3):\n",
    "        print(i)\n"
   ]
  },
  {
   "cell_type": "markdown",
   "id": "63525417",
   "metadata": {
    "papermill": {
     "duration": 0.013866,
     "end_time": "2024-04-22T15:29:50.404707",
     "exception": false,
     "start_time": "2024-04-22T15:29:50.390841",
     "status": "completed"
    },
    "tags": []
   },
   "source": [
    "# Handling imbalance\n"
   ]
  },
  {
   "cell_type": "markdown",
   "id": "e1b1f479",
   "metadata": {
    "papermill": {
     "duration": 0.014115,
     "end_time": "2024-04-22T15:29:50.432616",
     "exception": false,
     "start_time": "2024-04-22T15:29:50.418501",
     "status": "completed"
    },
    "tags": []
   },
   "source": [
    "Loading images into memory for processing"
   ]
  },
  {
   "cell_type": "code",
   "execution_count": 6,
   "id": "e4020fab",
   "metadata": {
    "execution": {
     "iopub.execute_input": "2024-04-22T15:29:50.461389Z",
     "iopub.status.busy": "2024-04-22T15:29:50.460987Z",
     "iopub.status.idle": "2024-04-22T15:29:50.809871Z",
     "shell.execute_reply": "2024-04-22T15:29:50.808899Z"
    },
    "papermill": {
     "duration": 0.365898,
     "end_time": "2024-04-22T15:29:50.812310",
     "exception": false,
     "start_time": "2024-04-22T15:29:50.446412",
     "status": "completed"
    },
    "tags": []
   },
   "outputs": [],
   "source": [
    "images = []\n",
    "for i in df[\"Path\"]:\n",
    "    images.append(np.load(i))\n",
    "images = np.array(images)"
   ]
  },
  {
   "cell_type": "code",
   "execution_count": 7,
   "id": "1b59f2f8",
   "metadata": {
    "execution": {
     "iopub.execute_input": "2024-04-22T15:29:50.842929Z",
     "iopub.status.busy": "2024-04-22T15:29:50.842382Z",
     "iopub.status.idle": "2024-04-22T15:29:50.846692Z",
     "shell.execute_reply": "2024-04-22T15:29:50.845782Z"
    },
    "papermill": {
     "duration": 0.021471,
     "end_time": "2024-04-22T15:29:50.848560",
     "exception": false,
     "start_time": "2024-04-22T15:29:50.827089",
     "status": "completed"
    },
    "tags": []
   },
   "outputs": [],
   "source": [
    "images = images.reshape((1101, 196608))"
   ]
  },
  {
   "cell_type": "markdown",
   "id": "d8c300a0",
   "metadata": {
    "papermill": {
     "duration": 0.013636,
     "end_time": "2024-04-22T15:29:50.875866",
     "exception": false,
     "start_time": "2024-04-22T15:29:50.862230",
     "status": "completed"
    },
    "tags": []
   },
   "source": [
    "Reshaping each image array into separate row"
   ]
  },
  {
   "cell_type": "markdown",
   "id": "592dcf9a",
   "metadata": {
    "papermill": {
     "duration": 0.013397,
     "end_time": "2024-04-22T15:29:50.903000",
     "exception": false,
     "start_time": "2024-04-22T15:29:50.889603",
     "status": "completed"
    },
    "tags": []
   },
   "source": [
    "### SMOTE\n",
    "\n",
    "SMOTE for image data does not work effectively, since SMOTE essentially works by finding the K-Nearest Neighbours and taking the average of points between two clusters. The images obtained this way were very noisy and not close to the original images we had and only caused more problems in training the model. All forms of oversampling or undersampling imvolving average of points were ruled out because of the poor quality of images obtained. "
   ]
  },
  {
   "cell_type": "code",
   "execution_count": 8,
   "id": "13234522",
   "metadata": {
    "execution": {
     "iopub.execute_input": "2024-04-22T15:29:50.931316Z",
     "iopub.status.busy": "2024-04-22T15:29:50.931034Z",
     "iopub.status.idle": "2024-04-22T15:29:55.341489Z",
     "shell.execute_reply": "2024-04-22T15:29:55.340679Z"
    },
    "papermill": {
     "duration": 4.42713,
     "end_time": "2024-04-22T15:29:55.343716",
     "exception": false,
     "start_time": "2024-04-22T15:29:50.916586",
     "status": "completed"
    },
    "tags": []
   },
   "outputs": [],
   "source": [
    "from imblearn.over_sampling import SMOTE\n",
    "import random\n",
    "import matplotlib.pyplot as plt\n",
    "\n",
    "smote = SMOTE()\n",
    "sm = SMOTE(random_state=42)\n",
    "images, labels = sm.fit_resample(images, df[\"Class\"])\n",
    "\n"
   ]
  },
  {
   "cell_type": "markdown",
   "id": "3ecebe86",
   "metadata": {
    "papermill": {
     "duration": 0.013472,
     "end_time": "2024-04-22T15:29:55.371215",
     "exception": false,
     "start_time": "2024-04-22T15:29:55.357743",
     "status": "completed"
    },
    "tags": []
   },
   "source": [
    "Majority of the images showed very poor quality and were not usable."
   ]
  },
  {
   "cell_type": "code",
   "execution_count": 9,
   "id": "942bce05",
   "metadata": {
    "execution": {
     "iopub.execute_input": "2024-04-22T15:29:55.400675Z",
     "iopub.status.busy": "2024-04-22T15:29:55.399888Z",
     "iopub.status.idle": "2024-04-22T15:29:55.404190Z",
     "shell.execute_reply": "2024-04-22T15:29:55.403391Z"
    },
    "papermill": {
     "duration": 0.020656,
     "end_time": "2024-04-22T15:29:55.405912",
     "exception": false,
     "start_time": "2024-04-22T15:29:55.385256",
     "status": "completed"
    },
    "tags": []
   },
   "outputs": [],
   "source": [
    "images = images.reshape((2465, 256, 256, 3))"
   ]
  },
  {
   "cell_type": "code",
   "execution_count": 10,
   "id": "0453be0b",
   "metadata": {
    "execution": {
     "iopub.execute_input": "2024-04-22T15:29:55.434637Z",
     "iopub.status.busy": "2024-04-22T15:29:55.434377Z",
     "iopub.status.idle": "2024-04-22T15:29:56.107300Z",
     "shell.execute_reply": "2024-04-22T15:29:56.106399Z"
    },
    "papermill": {
     "duration": 0.691969,
     "end_time": "2024-04-22T15:29:56.111546",
     "exception": false,
     "start_time": "2024-04-22T15:29:55.419577",
     "status": "completed"
    },
    "tags": []
   },
   "outputs": [
    {
     "data": {
      "image/png": "[encoded data removed]",
      "text/plain": [
       "<Figure size 1500x300 with 5 Axes>"
      ]
     },
     "metadata": {},
     "output_type": "display_data"
    }
   ],
   "source": [
    "import matplotlib.pyplot as plt\n",
    "import random\n",
    "\n",
    "fig, axs = plt.subplots(1, 5, figsize=(15, 3)) \n",
    "\n",
    "for i in range(5):\n",
    "    img = random.choice(images)\n",
    "    axs[i].imshow(img)\n",
    "\n",
    "plt.show()"
   ]
  },
  {
   "cell_type": "markdown",
   "id": "f6001f61",
   "metadata": {
    "papermill": {
     "duration": 0.015904,
     "end_time": "2024-04-22T15:29:56.144438",
     "exception": false,
     "start_time": "2024-04-22T15:29:56.128534",
     "status": "completed"
    },
    "tags": []
   },
   "source": [
    "### Random oversampling\n",
    "\n",
    "Instead of using averaging imbalanced techniques, we used Random Oversampling to simply increase the number of samples of the imbalanced classes. This yielded big improvements in both the validation and test data."
   ]
  },
  {
   "cell_type": "code",
   "execution_count": 11,
   "id": "caa9f7e5",
   "metadata": {
    "execution": {
     "iopub.execute_input": "2024-04-22T15:29:56.217185Z",
     "iopub.status.busy": "2024-04-22T15:29:56.216806Z",
     "iopub.status.idle": "2024-04-22T15:29:56.240498Z",
     "shell.execute_reply": "2024-04-22T15:29:56.239635Z"
    },
    "papermill": {
     "duration": 0.082153,
     "end_time": "2024-04-22T15:29:56.242476",
     "exception": false,
     "start_time": "2024-04-22T15:29:56.160323",
     "status": "completed"
    },
    "tags": []
   },
   "outputs": [
    {
     "data": {
      "text/html": [
       "<div>\n",
       "<style scoped>\n",
       "    .dataframe tbody tr th:only-of-type {\n",
       "        vertical-align: middle;\n",
       "    }\n",
       "\n",
       "    .dataframe tbody tr th {\n",
       "        vertical-align: top;\n",
       "    }\n",
       "\n",
       "    .dataframe thead th {\n",
       "        text-align: right;\n",
       "    }\n",
       "</style>\n",
       "<table border=\"1\" class=\"dataframe\">\n",
       "  <thead>\n",
       "    <tr style=\"text-align: right;\">\n",
       "      <th></th>\n",
       "      <th>Path</th>\n",
       "      <th>Class</th>\n",
       "    </tr>\n",
       "  </thead>\n",
       "  <tbody>\n",
       "    <tr>\n",
       "      <th>0</th>\n",
       "      <td>/kaggle/working/train/Final AD JPEG44.npy</td>\n",
       "      <td>0</td>\n",
       "    </tr>\n",
       "    <tr>\n",
       "      <th>1</th>\n",
       "      <td>/kaggle/working/train/Final AD JPEG79.npy</td>\n",
       "      <td>0</td>\n",
       "    </tr>\n",
       "    <tr>\n",
       "      <th>2</th>\n",
       "      <td>/kaggle/working/train/Final AD JPEG35.npy</td>\n",
       "      <td>0</td>\n",
       "    </tr>\n",
       "    <tr>\n",
       "      <th>3</th>\n",
       "      <td>/kaggle/working/train/Final AD JPEG89.npy</td>\n",
       "      <td>0</td>\n",
       "    </tr>\n",
       "    <tr>\n",
       "      <th>4</th>\n",
       "      <td>/kaggle/working/train/Final AD JPEG106.npy</td>\n",
       "      <td>0</td>\n",
       "    </tr>\n",
       "    <tr>\n",
       "      <th>...</th>\n",
       "      <td>...</td>\n",
       "      <td>...</td>\n",
       "    </tr>\n",
       "    <tr>\n",
       "      <th>2460</th>\n",
       "      <td>/kaggle/working/train/Final MCI JPEG0.npy</td>\n",
       "      <td>4</td>\n",
       "    </tr>\n",
       "    <tr>\n",
       "      <th>2461</th>\n",
       "      <td>/kaggle/working/train/Final MCI JPEG82.npy</td>\n",
       "      <td>4</td>\n",
       "    </tr>\n",
       "    <tr>\n",
       "      <th>2462</th>\n",
       "      <td>/kaggle/working/train/Final MCI JPEG191.npy</td>\n",
       "      <td>4</td>\n",
       "    </tr>\n",
       "    <tr>\n",
       "      <th>2463</th>\n",
       "      <td>/kaggle/working/train/Final MCI JPEG110.npy</td>\n",
       "      <td>4</td>\n",
       "    </tr>\n",
       "    <tr>\n",
       "      <th>2464</th>\n",
       "      <td>/kaggle/working/train/Final MCI JPEG195.npy</td>\n",
       "      <td>4</td>\n",
       "    </tr>\n",
       "  </tbody>\n",
       "</table>\n",
       "<p>2465 rows × 2 columns</p>\n",
       "</div>"
      ],
      "text/plain": [
       "                                             Path  Class\n",
       "0       /kaggle/working/train/Final AD JPEG44.npy      0\n",
       "1       /kaggle/working/train/Final AD JPEG79.npy      0\n",
       "2       /kaggle/working/train/Final AD JPEG35.npy      0\n",
       "3       /kaggle/working/train/Final AD JPEG89.npy      0\n",
       "4      /kaggle/working/train/Final AD JPEG106.npy      0\n",
       "...                                           ...    ...\n",
       "2460    /kaggle/working/train/Final MCI JPEG0.npy      4\n",
       "2461   /kaggle/working/train/Final MCI JPEG82.npy      4\n",
       "2462  /kaggle/working/train/Final MCI JPEG191.npy      4\n",
       "2463  /kaggle/working/train/Final MCI JPEG110.npy      4\n",
       "2464  /kaggle/working/train/Final MCI JPEG195.npy      4\n",
       "\n",
       "[2465 rows x 2 columns]"
      ]
     },
     "execution_count": 11,
     "metadata": {},
     "output_type": "execute_result"
    }
   ],
   "source": [
    "from imblearn.over_sampling import RandomOverSampler\n",
    "path = np.array(df[\"Path\"]).reshape(-1, 1)\n",
    "classes = np.array(df[\"Class\"]).reshape(-1, 1)\n",
    "ros = RandomOverSampler(random_state=42)\n",
    "paths, oversampled_labels = ros.fit_resample(path, classes)\n",
    "df = pd.DataFrame({\n",
    "    'Path': paths.flatten(),\n",
    "    'Class': oversampled_labels\n",
    "})\n",
    "df\n"
   ]
  },
  {
   "cell_type": "markdown",
   "id": "799990e4",
   "metadata": {
    "papermill": {
     "duration": 0.016136,
     "end_time": "2024-04-22T15:29:56.274987",
     "exception": false,
     "start_time": "2024-04-22T15:29:56.258851",
     "status": "completed"
    },
    "tags": []
   },
   "source": [
    "Loading images into memory for training"
   ]
  },
  {
   "cell_type": "code",
   "execution_count": 12,
   "id": "0a228e87",
   "metadata": {
    "execution": {
     "iopub.execute_input": "2024-04-22T15:29:56.309274Z",
     "iopub.status.busy": "2024-04-22T15:29:56.308679Z",
     "iopub.status.idle": "2024-04-22T15:29:57.037727Z",
     "shell.execute_reply": "2024-04-22T15:29:57.036732Z"
    },
    "papermill": {
     "duration": 0.748697,
     "end_time": "2024-04-22T15:29:57.040098",
     "exception": false,
     "start_time": "2024-04-22T15:29:56.291401",
     "status": "completed"
    },
    "tags": []
   },
   "outputs": [],
   "source": [
    "images = []\n",
    "for i in df[\"Path\"]:\n",
    "    images.append(np.load(i))\n",
    "images = np.array(images)"
   ]
  },
  {
   "cell_type": "code",
   "execution_count": 13,
   "id": "6e3d0bf5",
   "metadata": {
    "execution": {
     "iopub.execute_input": "2024-04-22T15:29:57.075639Z",
     "iopub.status.busy": "2024-04-22T15:29:57.075334Z",
     "iopub.status.idle": "2024-04-22T15:29:57.082942Z",
     "shell.execute_reply": "2024-04-22T15:29:57.081906Z"
    },
    "papermill": {
     "duration": 0.027833,
     "end_time": "2024-04-22T15:29:57.085065",
     "exception": false,
     "start_time": "2024-04-22T15:29:57.057232",
     "status": "completed"
    },
    "tags": []
   },
   "outputs": [
    {
     "data": {
      "text/plain": [
       "Class\n",
       "0    493\n",
       "1    493\n",
       "2    493\n",
       "3    493\n",
       "4    493\n",
       "Name: count, dtype: int64"
      ]
     },
     "execution_count": 13,
     "metadata": {},
     "output_type": "execute_result"
    }
   ],
   "source": [
    "x = df[\"Class\"].value_counts()\n",
    "x"
   ]
  },
  {
   "cell_type": "code",
   "execution_count": 14,
   "id": "0328c08e",
   "metadata": {
    "execution": {
     "iopub.execute_input": "2024-04-22T15:29:57.121163Z",
     "iopub.status.busy": "2024-04-22T15:29:57.120825Z",
     "iopub.status.idle": "2024-04-22T15:29:57.264805Z",
     "shell.execute_reply": "2024-04-22T15:29:57.263982Z"
    },
    "id": "b71f6071",
    "papermill": {
     "duration": 0.164109,
     "end_time": "2024-04-22T15:29:57.267311",
     "exception": false,
     "start_time": "2024-04-22T15:29:57.103202",
     "status": "completed"
    },
    "tags": []
   },
   "outputs": [],
   "source": [
    "from sklearn.model_selection import train_test_split\n",
    "labels = np.array(df[\"Class\"])\n",
    "train_images, val_images, train_labels, val_labels = train_test_split(images, labels, test_size=0.2, random_state=42)\n"
   ]
  },
  {
   "cell_type": "code",
   "execution_count": 15,
   "id": "c7fe8b33",
   "metadata": {
    "execution": {
     "iopub.execute_input": "2024-04-22T15:29:57.302136Z",
     "iopub.status.busy": "2024-04-22T15:29:57.301820Z",
     "iopub.status.idle": "2024-04-22T15:30:10.019332Z",
     "shell.execute_reply": "2024-04-22T15:30:10.018368Z"
    },
    "papermill": {
     "duration": 12.737273,
     "end_time": "2024-04-22T15:30:10.021656",
     "exception": false,
     "start_time": "2024-04-22T15:29:57.284383",
     "status": "completed"
    },
    "tags": []
   },
   "outputs": [
    {
     "name": "stderr",
     "output_type": "stream",
     "text": [
      "2024-04-22 15:29:59.547164: E external/local_xla/xla/stream_executor/cuda/cuda_dnn.cc:9261] Unable to register cuDNN factory: Attempting to register factory for plugin cuDNN when one has already been registered\n",
      "2024-04-22 15:29:59.547258: E external/local_xla/xla/stream_executor/cuda/cuda_fft.cc:607] Unable to register cuFFT factory: Attempting to register factory for plugin cuFFT when one has already been registered\n",
      "2024-04-22 15:29:59.698889: E external/local_xla/xla/stream_executor/cuda/cuda_blas.cc:1515] Unable to register cuBLAS factory: Attempting to register factory for plugin cuBLAS when one has already been registered\n"
     ]
    }
   ],
   "source": [
    "from keras.utils import to_categorical\n",
    "\n",
    "train_labels = to_categorical(train_labels, num_classes=5)\n",
    "val_labels = to_categorical(val_labels, num_classes=5)"
   ]
  },
  {
   "cell_type": "code",
   "execution_count": 16,
   "id": "796a24ae",
   "metadata": {
    "execution": {
     "iopub.execute_input": "2024-04-22T15:30:10.057534Z",
     "iopub.status.busy": "2024-04-22T15:30:10.056538Z",
     "iopub.status.idle": "2024-04-22T15:30:10.061736Z",
     "shell.execute_reply": "2024-04-22T15:30:10.060886Z"
    },
    "id": "44d84028",
    "outputId": "918e6ba2-22a9-4534-fb86-c4248cc28470",
    "papermill": {
     "duration": 0.024933,
     "end_time": "2024-04-22T15:30:10.063803",
     "exception": false,
     "start_time": "2024-04-22T15:30:10.038870",
     "status": "completed"
    },
    "tags": []
   },
   "outputs": [
    {
     "name": "stdout",
     "output_type": "stream",
     "text": [
      "(1972, 256, 256, 3) (493, 256, 256, 3) (1972, 5) (493, 5)\n"
     ]
    }
   ],
   "source": [
    "print(train_images.shape, val_images.shape, train_labels.shape, val_labels.shape)"
   ]
  },
  {
   "cell_type": "markdown",
   "id": "621b0ac9",
   "metadata": {
    "papermill": {
     "duration": 0.017321,
     "end_time": "2024-04-22T15:30:10.098440",
     "exception": false,
     "start_time": "2024-04-22T15:30:10.081119",
     "status": "completed"
    },
    "tags": []
   },
   "source": [
    "# Training"
   ]
  },
  {
   "cell_type": "markdown",
   "id": "a86bf74a",
   "metadata": {
    "papermill": {
     "duration": 0.016955,
     "end_time": "2024-04-22T15:30:10.132290",
     "exception": false,
     "start_time": "2024-04-22T15:30:10.115335",
     "status": "completed"
    },
    "tags": []
   },
   "source": [
    "We use CNNs for training because of their ability to recognise patterns in images. The convolutional and pooling layers makes it easy to reduce dimensions and prevent overfitting. Each layer can detect an increasing complexity in the pattern. The Dense layers are added at the end to globally interpret the local patterns extracted from the images by the convolutional layers. The final layer usually has a softmax activation which gives us the probabilities of an image belonging to each class."
   ]
  },
  {
   "cell_type": "markdown",
   "id": "6d9bb98c",
   "metadata": {
    "papermill": {
     "duration": 0.016937,
     "end_time": "2024-04-22T15:30:10.166206",
     "exception": false,
     "start_time": "2024-04-22T15:30:10.149269",
     "status": "completed"
    },
    "tags": []
   },
   "source": [
    "### The actual model\n",
    "\n",
    "In the model used by us, we have 3 hidden convolutional layers along with pooling layers. All of them use ReLU activation to learn the complex patterns by allowing non linear tranformations. We then add a flatten layer so that the 3 consequent Dense layers can reduce dimensionality one by one and finally interpret which of the five classes the image belongs to. The model summary shows the number of weights at each layer."
   ]
  },
  {
   "cell_type": "code",
   "execution_count": 17,
   "id": "723390d0",
   "metadata": {
    "execution": {
     "iopub.execute_input": "2024-04-22T15:30:10.201137Z",
     "iopub.status.busy": "2024-04-22T15:30:10.200815Z",
     "iopub.status.idle": "2024-04-22T15:30:11.178742Z",
     "shell.execute_reply": "2024-04-22T15:30:11.177754Z"
    },
    "id": "58759ed5",
    "papermill": {
     "duration": 0.997429,
     "end_time": "2024-04-22T15:30:11.180616",
     "exception": false,
     "start_time": "2024-04-22T15:30:10.183187",
     "status": "completed"
    },
    "tags": []
   },
   "outputs": [
    {
     "data": {
      "text/html": [
       "<pre style=\"white-space:pre;overflow-x:auto;line-height:normal;font-family:Menlo,'DejaVu Sans Mono',consolas,'Courier New',monospace\"><span style=\"font-weight: bold\">Model: \"sequential\"</span>\n",
       "</pre>\n"
      ],
      "text/plain": [
       "\u001b[1mModel: \"sequential\"\u001b[0m\n"
      ]
     },
     "metadata": {},
     "output_type": "display_data"
    },
    {
     "data": {
      "text/html": [
       "<pre style=\"white-space:pre;overflow-x:auto;line-height:normal;font-family:Menlo,'DejaVu Sans Mono',consolas,'Courier New',monospace\">┏━━━━━━━━━━━━━━━━━━━━━━━━━━━━━━━━━┳━━━━━━━━━━━━━━━━━━━━━━━━┳━━━━━━━━━━━━━━━┓\n",
       "┃<span style=\"font-weight: bold\"> Layer (type)                    </span>┃<span style=\"font-weight: bold\"> Output Shape           </span>┃<span style=\"font-weight: bold\">       Param # </span>┃\n",
       "┡━━━━━━━━━━━━━━━━━━━━━━━━━━━━━━━━━╇━━━━━━━━━━━━━━━━━━━━━━━━╇━━━━━━━━━━━━━━━┩\n",
       "│ conv2d (<span style=\"color: #0087ff; text-decoration-color: #0087ff\">Conv2D</span>)                 │ (<span style=\"color: #00d7ff; text-decoration-color: #00d7ff\">None</span>, <span style=\"color: #00af00; text-decoration-color: #00af00\">254</span>, <span style=\"color: #00af00; text-decoration-color: #00af00\">254</span>, <span style=\"color: #00af00; text-decoration-color: #00af00\">64</span>)   │         <span style=\"color: #00af00; text-decoration-color: #00af00\">1,792</span> │\n",
       "├─────────────────────────────────┼────────────────────────┼───────────────┤\n",
       "│ max_pooling2d (<span style=\"color: #0087ff; text-decoration-color: #0087ff\">MaxPooling2D</span>)    │ (<span style=\"color: #00d7ff; text-decoration-color: #00d7ff\">None</span>, <span style=\"color: #00af00; text-decoration-color: #00af00\">127</span>, <span style=\"color: #00af00; text-decoration-color: #00af00\">127</span>, <span style=\"color: #00af00; text-decoration-color: #00af00\">64</span>)   │             <span style=\"color: #00af00; text-decoration-color: #00af00\">0</span> │\n",
       "├─────────────────────────────────┼────────────────────────┼───────────────┤\n",
       "│ conv2d_1 (<span style=\"color: #0087ff; text-decoration-color: #0087ff\">Conv2D</span>)               │ (<span style=\"color: #00d7ff; text-decoration-color: #00d7ff\">None</span>, <span style=\"color: #00af00; text-decoration-color: #00af00\">125</span>, <span style=\"color: #00af00; text-decoration-color: #00af00\">125</span>, <span style=\"color: #00af00; text-decoration-color: #00af00\">128</span>)  │        <span style=\"color: #00af00; text-decoration-color: #00af00\">73,856</span> │\n",
       "├─────────────────────────────────┼────────────────────────┼───────────────┤\n",
       "│ max_pooling2d_1 (<span style=\"color: #0087ff; text-decoration-color: #0087ff\">MaxPooling2D</span>)  │ (<span style=\"color: #00d7ff; text-decoration-color: #00d7ff\">None</span>, <span style=\"color: #00af00; text-decoration-color: #00af00\">62</span>, <span style=\"color: #00af00; text-decoration-color: #00af00\">62</span>, <span style=\"color: #00af00; text-decoration-color: #00af00\">128</span>)    │             <span style=\"color: #00af00; text-decoration-color: #00af00\">0</span> │\n",
       "├─────────────────────────────────┼────────────────────────┼───────────────┤\n",
       "│ conv2d_2 (<span style=\"color: #0087ff; text-decoration-color: #0087ff\">Conv2D</span>)               │ (<span style=\"color: #00d7ff; text-decoration-color: #00d7ff\">None</span>, <span style=\"color: #00af00; text-decoration-color: #00af00\">60</span>, <span style=\"color: #00af00; text-decoration-color: #00af00\">60</span>, <span style=\"color: #00af00; text-decoration-color: #00af00\">256</span>)    │       <span style=\"color: #00af00; text-decoration-color: #00af00\">295,168</span> │\n",
       "├─────────────────────────────────┼────────────────────────┼───────────────┤\n",
       "│ max_pooling2d_2 (<span style=\"color: #0087ff; text-decoration-color: #0087ff\">MaxPooling2D</span>)  │ (<span style=\"color: #00d7ff; text-decoration-color: #00d7ff\">None</span>, <span style=\"color: #00af00; text-decoration-color: #00af00\">30</span>, <span style=\"color: #00af00; text-decoration-color: #00af00\">30</span>, <span style=\"color: #00af00; text-decoration-color: #00af00\">256</span>)    │             <span style=\"color: #00af00; text-decoration-color: #00af00\">0</span> │\n",
       "├─────────────────────────────────┼────────────────────────┼───────────────┤\n",
       "│ dropout (<span style=\"color: #0087ff; text-decoration-color: #0087ff\">Dropout</span>)               │ (<span style=\"color: #00d7ff; text-decoration-color: #00d7ff\">None</span>, <span style=\"color: #00af00; text-decoration-color: #00af00\">30</span>, <span style=\"color: #00af00; text-decoration-color: #00af00\">30</span>, <span style=\"color: #00af00; text-decoration-color: #00af00\">256</span>)    │             <span style=\"color: #00af00; text-decoration-color: #00af00\">0</span> │\n",
       "├─────────────────────────────────┼────────────────────────┼───────────────┤\n",
       "│ flatten (<span style=\"color: #0087ff; text-decoration-color: #0087ff\">Flatten</span>)               │ (<span style=\"color: #00d7ff; text-decoration-color: #00d7ff\">None</span>, <span style=\"color: #00af00; text-decoration-color: #00af00\">230400</span>)         │             <span style=\"color: #00af00; text-decoration-color: #00af00\">0</span> │\n",
       "├─────────────────────────────────┼────────────────────────┼───────────────┤\n",
       "│ dense (<span style=\"color: #0087ff; text-decoration-color: #0087ff\">Dense</span>)                   │ (<span style=\"color: #00d7ff; text-decoration-color: #00d7ff\">None</span>, <span style=\"color: #00af00; text-decoration-color: #00af00\">512</span>)            │   <span style=\"color: #00af00; text-decoration-color: #00af00\">117,965,312</span> │\n",
       "├─────────────────────────────────┼────────────────────────┼───────────────┤\n",
       "│ dropout_1 (<span style=\"color: #0087ff; text-decoration-color: #0087ff\">Dropout</span>)             │ (<span style=\"color: #00d7ff; text-decoration-color: #00d7ff\">None</span>, <span style=\"color: #00af00; text-decoration-color: #00af00\">512</span>)            │             <span style=\"color: #00af00; text-decoration-color: #00af00\">0</span> │\n",
       "├─────────────────────────────────┼────────────────────────┼───────────────┤\n",
       "│ dense_1 (<span style=\"color: #0087ff; text-decoration-color: #0087ff\">Dense</span>)                 │ (<span style=\"color: #00d7ff; text-decoration-color: #00d7ff\">None</span>, <span style=\"color: #00af00; text-decoration-color: #00af00\">128</span>)            │        <span style=\"color: #00af00; text-decoration-color: #00af00\">65,664</span> │\n",
       "├─────────────────────────────────┼────────────────────────┼───────────────┤\n",
       "│ dropout_2 (<span style=\"color: #0087ff; text-decoration-color: #0087ff\">Dropout</span>)             │ (<span style=\"color: #00d7ff; text-decoration-color: #00d7ff\">None</span>, <span style=\"color: #00af00; text-decoration-color: #00af00\">128</span>)            │             <span style=\"color: #00af00; text-decoration-color: #00af00\">0</span> │\n",
       "├─────────────────────────────────┼────────────────────────┼───────────────┤\n",
       "│ dense_2 (<span style=\"color: #0087ff; text-decoration-color: #0087ff\">Dense</span>)                 │ (<span style=\"color: #00d7ff; text-decoration-color: #00d7ff\">None</span>, <span style=\"color: #00af00; text-decoration-color: #00af00\">5</span>)              │           <span style=\"color: #00af00; text-decoration-color: #00af00\">645</span> │\n",
       "└─────────────────────────────────┴────────────────────────┴───────────────┘\n",
       "</pre>\n"
      ],
      "text/plain": [
       "┏━━━━━━━━━━━━━━━━━━━━━━━━━━━━━━━━━┳━━━━━━━━━━━━━━━━━━━━━━━━┳━━━━━━━━━━━━━━━┓\n",
       "┃\u001b[1m \u001b[0m\u001b[1mLayer (type)                   \u001b[0m\u001b[1m \u001b[0m┃\u001b[1m \u001b[0m\u001b[1mOutput Shape          \u001b[0m\u001b[1m \u001b[0m┃\u001b[1m \u001b[0m\u001b[1m      Param #\u001b[0m\u001b[1m \u001b[0m┃\n",
       "┡━━━━━━━━━━━━━━━━━━━━━━━━━━━━━━━━━╇━━━━━━━━━━━━━━━━━━━━━━━━╇━━━━━━━━━━━━━━━┩\n",
       "│ conv2d (\u001b[38;5;33mConv2D\u001b[0m)                 │ (\u001b[38;5;45mNone\u001b[0m, \u001b[38;5;34m254\u001b[0m, \u001b[38;5;34m254\u001b[0m, \u001b[38;5;34m64\u001b[0m)   │         \u001b[38;5;34m1,792\u001b[0m │\n",
       "├─────────────────────────────────┼────────────────────────┼───────────────┤\n",
       "│ max_pooling2d (\u001b[38;5;33mMaxPooling2D\u001b[0m)    │ (\u001b[38;5;45mNone\u001b[0m, \u001b[38;5;34m127\u001b[0m, \u001b[38;5;34m127\u001b[0m, \u001b[38;5;34m64\u001b[0m)   │             \u001b[38;5;34m0\u001b[0m │\n",
       "├─────────────────────────────────┼────────────────────────┼───────────────┤\n",
       "│ conv2d_1 (\u001b[38;5;33mConv2D\u001b[0m)               │ (\u001b[38;5;45mNone\u001b[0m, \u001b[38;5;34m125\u001b[0m, \u001b[38;5;34m125\u001b[0m, \u001b[38;5;34m128\u001b[0m)  │        \u001b[38;5;34m73,856\u001b[0m │\n",
       "├─────────────────────────────────┼────────────────────────┼───────────────┤\n",
       "│ max_pooling2d_1 (\u001b[38;5;33mMaxPooling2D\u001b[0m)  │ (\u001b[38;5;45mNone\u001b[0m, \u001b[38;5;34m62\u001b[0m, \u001b[38;5;34m62\u001b[0m, \u001b[38;5;34m128\u001b[0m)    │             \u001b[38;5;34m0\u001b[0m │\n",
       "├─────────────────────────────────┼────────────────────────┼───────────────┤\n",
       "│ conv2d_2 (\u001b[38;5;33mConv2D\u001b[0m)               │ (\u001b[38;5;45mNone\u001b[0m, \u001b[38;5;34m60\u001b[0m, \u001b[38;5;34m60\u001b[0m, \u001b[38;5;34m256\u001b[0m)    │       \u001b[38;5;34m295,168\u001b[0m │\n",
       "├─────────────────────────────────┼────────────────────────┼───────────────┤\n",
       "│ max_pooling2d_2 (\u001b[38;5;33mMaxPooling2D\u001b[0m)  │ (\u001b[38;5;45mNone\u001b[0m, \u001b[38;5;34m30\u001b[0m, \u001b[38;5;34m30\u001b[0m, \u001b[38;5;34m256\u001b[0m)    │             \u001b[38;5;34m0\u001b[0m │\n",
       "├─────────────────────────────────┼────────────────────────┼───────────────┤\n",
       "│ dropout (\u001b[38;5;33mDropout\u001b[0m)               │ (\u001b[38;5;45mNone\u001b[0m, \u001b[38;5;34m30\u001b[0m, \u001b[38;5;34m30\u001b[0m, \u001b[38;5;34m256\u001b[0m)    │             \u001b[38;5;34m0\u001b[0m │\n",
       "├─────────────────────────────────┼────────────────────────┼───────────────┤\n",
       "│ flatten (\u001b[38;5;33mFlatten\u001b[0m)               │ (\u001b[38;5;45mNone\u001b[0m, \u001b[38;5;34m230400\u001b[0m)         │             \u001b[38;5;34m0\u001b[0m │\n",
       "├─────────────────────────────────┼────────────────────────┼───────────────┤\n",
       "│ dense (\u001b[38;5;33mDense\u001b[0m)                   │ (\u001b[38;5;45mNone\u001b[0m, \u001b[38;5;34m512\u001b[0m)            │   \u001b[38;5;34m117,965,312\u001b[0m │\n",
       "├─────────────────────────────────┼────────────────────────┼───────────────┤\n",
       "│ dropout_1 (\u001b[38;5;33mDropout\u001b[0m)             │ (\u001b[38;5;45mNone\u001b[0m, \u001b[38;5;34m512\u001b[0m)            │             \u001b[38;5;34m0\u001b[0m │\n",
       "├─────────────────────────────────┼────────────────────────┼───────────────┤\n",
       "│ dense_1 (\u001b[38;5;33mDense\u001b[0m)                 │ (\u001b[38;5;45mNone\u001b[0m, \u001b[38;5;34m128\u001b[0m)            │        \u001b[38;5;34m65,664\u001b[0m │\n",
       "├─────────────────────────────────┼────────────────────────┼───────────────┤\n",
       "│ dropout_2 (\u001b[38;5;33mDropout\u001b[0m)             │ (\u001b[38;5;45mNone\u001b[0m, \u001b[38;5;34m128\u001b[0m)            │             \u001b[38;5;34m0\u001b[0m │\n",
       "├─────────────────────────────────┼────────────────────────┼───────────────┤\n",
       "│ dense_2 (\u001b[38;5;33mDense\u001b[0m)                 │ (\u001b[38;5;45mNone\u001b[0m, \u001b[38;5;34m5\u001b[0m)              │           \u001b[38;5;34m645\u001b[0m │\n",
       "└─────────────────────────────────┴────────────────────────┴───────────────┘\n"
      ]
     },
     "metadata": {},
     "output_type": "display_data"
    },
    {
     "data": {
      "text/html": [
       "<pre style=\"white-space:pre;overflow-x:auto;line-height:normal;font-family:Menlo,'DejaVu Sans Mono',consolas,'Courier New',monospace\"><span style=\"font-weight: bold\"> Total params: </span><span style=\"color: #00af00; text-decoration-color: #00af00\">118,402,437</span> (451.67 MB)\n",
       "</pre>\n"
      ],
      "text/plain": [
       "\u001b[1m Total params: \u001b[0m\u001b[38;5;34m118,402,437\u001b[0m (451.67 MB)\n"
      ]
     },
     "metadata": {},
     "output_type": "display_data"
    },
    {
     "data": {
      "text/html": [
       "<pre style=\"white-space:pre;overflow-x:auto;line-height:normal;font-family:Menlo,'DejaVu Sans Mono',consolas,'Courier New',monospace\"><span style=\"font-weight: bold\"> Trainable params: </span><span style=\"color: #00af00; text-decoration-color: #00af00\">118,402,437</span> (451.67 MB)\n",
       "</pre>\n"
      ],
      "text/plain": [
       "\u001b[1m Trainable params: \u001b[0m\u001b[38;5;34m118,402,437\u001b[0m (451.67 MB)\n"
      ]
     },
     "metadata": {},
     "output_type": "display_data"
    },
    {
     "data": {
      "text/html": [
       "<pre style=\"white-space:pre;overflow-x:auto;line-height:normal;font-family:Menlo,'DejaVu Sans Mono',consolas,'Courier New',monospace\"><span style=\"font-weight: bold\"> Non-trainable params: </span><span style=\"color: #00af00; text-decoration-color: #00af00\">0</span> (0.00 B)\n",
       "</pre>\n"
      ],
      "text/plain": [
       "\u001b[1m Non-trainable params: \u001b[0m\u001b[38;5;34m0\u001b[0m (0.00 B)\n"
      ]
     },
     "metadata": {},
     "output_type": "display_data"
    }
   ],
   "source": [
    "from keras.models import Sequential\n",
    "from keras.layers import Conv2D, MaxPooling2D, Flatten, Dense, Dropout, Input\n",
    "from keras.callbacks import LearningRateScheduler\n",
    "import numpy as np\n",
    "\n",
    "input_shape = train_images[0].shape\n",
    "\n",
    "model = Sequential()\n",
    "model.add(Input(shape=input_shape))\n",
    "model.add(Conv2D(64, (3, 3), activation='relu'))\n",
    "model.add(MaxPooling2D((2, 2)))\n",
    "model.add(Conv2D(128, (3, 3), activation='relu'))\n",
    "model.add(MaxPooling2D((2, 2)))\n",
    "model.add(Conv2D(256, (3, 3), activation='relu'))\n",
    "model.add(MaxPooling2D((2, 2)))\n",
    "model.add(Dropout(0.2))\n",
    "model.add(Flatten())\n",
    "model.add(Dense(512, activation='relu'))\n",
    "model.add(Dropout(0.5))\n",
    "model.add(Dense(128, activation='relu'))\n",
    "model.add(Dropout(0.3))\n",
    "model.add(Dense(5, activation='softmax'))\n",
    "model.summary()"
   ]
  },
  {
   "cell_type": "markdown",
   "id": "0ee576da",
   "metadata": {
    "papermill": {
     "duration": 0.017632,
     "end_time": "2024-04-22T15:30:11.216714",
     "exception": false,
     "start_time": "2024-04-22T15:30:11.199082",
     "status": "completed"
    },
    "tags": []
   },
   "source": [
    "### Optimiser and Learning Rate Scheduler\n",
    "\n",
    "The adam optimiser is used because it is very memory efficient, which is necessary while using image data, since the training data size can get very big. A custom learning rate scheduler is defined along with the optimiser to reduce the learning rate by 5% every two epochs after the 20th epoch. While training initially, we noticed the model overshot after the 20th epoch and wasnt able to train efficiently. Hence the scheduler helps to prevent overshooting and imporves the rate at which the model can converge. "
   ]
  },
  {
   "cell_type": "code",
   "execution_count": 18,
   "id": "d1d25cec",
   "metadata": {
    "execution": {
     "iopub.execute_input": "2024-04-22T15:30:11.255886Z",
     "iopub.status.busy": "2024-04-22T15:30:11.255586Z",
     "iopub.status.idle": "2024-04-22T15:30:11.266372Z",
     "shell.execute_reply": "2024-04-22T15:30:11.265715Z"
    },
    "id": "cxW817Dz-Crh",
    "papermill": {
     "duration": 0.032635,
     "end_time": "2024-04-22T15:30:11.268215",
     "exception": false,
     "start_time": "2024-04-22T15:30:11.235580",
     "status": "completed"
    },
    "tags": []
   },
   "outputs": [],
   "source": [
    "from keras.optimizers import Adam\n",
    "def lr_schedule(epoch, learning_rate):\n",
    "    if epoch < 20:\n",
    "        return learning_rate\n",
    "    else:\n",
    "        if epoch % 2 == 0:\n",
    "            return learning_rate * 0.95\n",
    "        else:\n",
    "            return learning_rate\n",
    "\n",
    "lr_scheduler = LearningRateScheduler(lr_schedule, verbose=1)\n",
    "\n",
    "initial_learning_rate = 0.001\n",
    "optimizer = Adam(learning_rate=initial_learning_rate)"
   ]
  },
  {
   "cell_type": "markdown",
   "id": "86ae9a03",
   "metadata": {
    "papermill": {
     "duration": 0.017711,
     "end_time": "2024-04-22T15:30:11.307084",
     "exception": false,
     "start_time": "2024-04-22T15:30:11.289373",
     "status": "completed"
    },
    "tags": []
   },
   "source": [
    "### Metrics\n",
    "\n",
    "We have defined a custom F1 score metric since we couldn't find a reliable one on any library. It finds recall and precision and following tensorflow API requirements, there are `update_state` and `reset_state`methods that handle batching durinng training. The metrics we finally use while training to measure the performance of the model are Categorical Accuracy, ROC-AUC and F1 score."
   ]
  },
  {
   "cell_type": "code",
   "execution_count": 19,
   "id": "53c8d4a4",
   "metadata": {
    "execution": {
     "iopub.execute_input": "2024-04-22T15:30:11.343742Z",
     "iopub.status.busy": "2024-04-22T15:30:11.343430Z",
     "iopub.status.idle": "2024-04-22T15:30:11.367800Z",
     "shell.execute_reply": "2024-04-22T15:30:11.366977Z"
    },
    "papermill": {
     "duration": 0.044864,
     "end_time": "2024-04-22T15:30:11.369855",
     "exception": false,
     "start_time": "2024-04-22T15:30:11.324991",
     "status": "completed"
    },
    "tags": []
   },
   "outputs": [],
   "source": [
    "import tensorflow as tf\n",
    "\n",
    "class F1Score(tf.keras.metrics.Metric):\n",
    "    def __init__(self, **kwargs):\n",
    "        super(F1Score, self).__init__(**kwargs)\n",
    "        self.precision = tf.keras.metrics.Precision()\n",
    "        self.recall = tf.keras.metrics.Recall()\n",
    "\n",
    "    def update_state(self, y_true, y_pred, sample_weight=None):\n",
    "        self.precision.update_state(y_true, y_pred, sample_weight)\n",
    "        self.recall.update_state(y_true, y_pred, sample_weight)\n",
    "\n",
    "    def result(self):\n",
    "        precision = self.precision.result()\n",
    "        recall = self.recall.result()\n",
    "        return 2 * ((precision * recall) / (precision + recall + tf.keras.backend.epsilon()))\n",
    "\n",
    "    def reset_states(self):\n",
    "        self.precision.reset_states()\n",
    "        self.recall.reset_states()\n",
    "\n",
    "METRICS = [tf.keras.metrics.CategoricalAccuracy(name='acc'),\n",
    "           tf.keras.metrics.AUC(name='auc'),\n",
    "           F1Score()]\n"
   ]
  },
  {
   "cell_type": "markdown",
   "id": "a128fb9c",
   "metadata": {
    "papermill": {
     "duration": 0.017534,
     "end_time": "2024-04-22T15:30:11.405098",
     "exception": false,
     "start_time": "2024-04-22T15:30:11.387564",
     "status": "completed"
    },
    "tags": []
   },
   "source": [
    "### Threshold Callback\n",
    "\n",
    "To prevent overfitting and as a rule of thumb, we set validation accuracy of 0.995 to be the threshold at which convergence should've occured and stop the training of the model at that point. The threshold callback and the learning rate scheduler are the two callbacks we use for training. "
   ]
  },
  {
   "cell_type": "code",
   "execution_count": 20,
   "id": "327b60d7",
   "metadata": {
    "execution": {
     "iopub.execute_input": "2024-04-22T15:30:11.442179Z",
     "iopub.status.busy": "2024-04-22T15:30:11.441434Z",
     "iopub.status.idle": "2024-04-22T15:30:11.446756Z",
     "shell.execute_reply": "2024-04-22T15:30:11.446046Z"
    },
    "papermill": {
     "duration": 0.025615,
     "end_time": "2024-04-22T15:30:11.448535",
     "exception": false,
     "start_time": "2024-04-22T15:30:11.422920",
     "status": "completed"
    },
    "tags": []
   },
   "outputs": [],
   "source": [
    "class ThresholdCallBack(tf.keras.callbacks.Callback):\n",
    "    def on_epoch_end(self, epoch, logs={}):\n",
    "        if logs.get('val_acc') > 0.995:\n",
    "            print(\"\\nReached accuracy threshold\")\n",
    "            self.model.stop_training = True\n",
    "\n",
    "threshCallback = ThresholdCallBack()\n",
    "CALLBACKS = [lr_scheduler, threshCallback]"
   ]
  },
  {
   "cell_type": "markdown",
   "id": "55062b0e",
   "metadata": {
    "papermill": {
     "duration": 0.017372,
     "end_time": "2024-04-22T15:30:11.483619",
     "exception": false,
     "start_time": "2024-04-22T15:30:11.466247",
     "status": "completed"
    },
    "tags": []
   },
   "source": [
    "### Model Fitting\n",
    "\n",
    "Finally we train the model for 60 epochs on 2 T4 GPUS using categorical cross entropy as a loss function, since our model is a classifier that needs to predict classes."
   ]
  },
  {
   "cell_type": "code",
   "execution_count": 21,
   "id": "fbd7dd3d",
   "metadata": {
    "execution": {
     "iopub.execute_input": "2024-04-22T15:30:11.520506Z",
     "iopub.status.busy": "2024-04-22T15:30:11.519983Z",
     "iopub.status.idle": "2024-04-22T15:40:04.371437Z",
     "shell.execute_reply": "2024-04-22T15:40:04.370466Z"
    },
    "id": "vpk-HgOC-APP",
    "outputId": "008f7666-bb74-4f1e-9d9f-25e1112c5bed",
    "papermill": {
     "duration": 592.872362,
     "end_time": "2024-04-22T15:40:04.373755",
     "exception": false,
     "start_time": "2024-04-22T15:30:11.501393",
     "status": "completed"
    },
    "tags": []
   },
   "outputs": [
    {
     "name": "stdout",
     "output_type": "stream",
     "text": [
      "\n",
      "Epoch 1: LearningRateScheduler setting learning rate to 0.0010000000474974513.\n",
      "Epoch 1/60\n",
      "\u001b[1m 1/62\u001b[0m \u001b[37m━━━━━━━━━━━━━━━━━━━━\u001b[0m \u001b[1m28:49\u001b[0m 28s/step - acc: 0.1562 - auc: 0.4403 - f1_score: 0.1562 - loss: 17.1135"
     ]
    },
    {
     "name": "stderr",
     "output_type": "stream",
     "text": [
      "WARNING: All log messages before absl::InitializeLog() is called are written to STDERR\n",
      "I0000 00:00:1713799840.623508      76 device_compiler.h:186] Compiled cluster using XLA!  This line is logged at most once for the lifetime of the process.\n",
      "W0000 00:00:1713799840.641651      76 graph_launch.cc:671] Fallback to op-by-op mode because memset node breaks graph update\n"
     ]
    },
    {
     "name": "stdout",
     "output_type": "stream",
     "text": [
      "\u001b[1m62/62\u001b[0m \u001b[32m━━━━━━━━━━━━━━━━━━━━\u001b[0m\u001b[37m\u001b[0m \u001b[1m0s\u001b[0m 459ms/step - acc: 0.2348 - auc: 0.5243 - f1_score: 0.0986 - loss: 61.5347"
     ]
    },
    {
     "name": "stderr",
     "output_type": "stream",
     "text": [
      "W0000 00:00:1713799868.679593      77 graph_launch.cc:671] Fallback to op-by-op mode because memset node breaks graph update\n",
      "W0000 00:00:1713799870.272034      76 graph_launch.cc:671] Fallback to op-by-op mode because memset node breaks graph update\n"
     ]
    },
    {
     "name": "stdout",
     "output_type": "stream",
     "text": [
      "\u001b[1m62/62\u001b[0m \u001b[32m━━━━━━━━━━━━━━━━━━━━\u001b[0m\u001b[37m\u001b[0m \u001b[1m63s\u001b[0m 563ms/step - acc: 0.2352 - auc: 0.5248 - f1_score: 0.0978 - loss: 60.8656 - val_acc: 0.2434 - val_auc: 0.5640 - val_f1_score: 0.0708 - val_loss: 1.6141 - learning_rate: 0.0010\n",
      "\n",
      "Epoch 2: LearningRateScheduler setting learning rate to 0.0010000000474974513.\n",
      "Epoch 2/60\n"
     ]
    },
    {
     "name": "stderr",
     "output_type": "stream",
     "text": [
      "W0000 00:00:1713799875.106820      75 graph_launch.cc:671] Fallback to op-by-op mode because memset node breaks graph update\n"
     ]
    },
    {
     "name": "stdout",
     "output_type": "stream",
     "text": [
      "\u001b[1m62/62\u001b[0m \u001b[32m━━━━━━━━━━━━━━━━━━━━\u001b[0m\u001b[37m\u001b[0m \u001b[1m9s\u001b[0m 142ms/step - acc: 0.3049 - auc: 0.6332 - f1_score: 0.0910 - loss: 1.5295 - val_acc: 0.4807 - val_auc: 0.7660 - val_f1_score: 0.3132 - val_loss: 1.3120 - learning_rate: 0.0010\n",
      "\n",
      "Epoch 3: LearningRateScheduler setting learning rate to 0.0010000000474974513.\n",
      "Epoch 3/60\n",
      "\u001b[1m62/62\u001b[0m \u001b[32m━━━━━━━━━━━━━━━━━━━━\u001b[0m\u001b[37m\u001b[0m \u001b[1m9s\u001b[0m 142ms/step - acc: 0.4410 - auc: 0.7552 - f1_score: 0.2934 - loss: 1.3373 - val_acc: 0.5659 - val_auc: 0.8491 - val_f1_score: 0.5000 - val_loss: 1.0886 - learning_rate: 0.0010\n",
      "\n",
      "Epoch 4: LearningRateScheduler setting learning rate to 0.0010000000474974513.\n",
      "Epoch 4/60\n",
      "\u001b[1m62/62\u001b[0m \u001b[32m━━━━━━━━━━━━━━━━━━━━\u001b[0m\u001b[37m\u001b[0m \u001b[1m9s\u001b[0m 142ms/step - acc: 0.5790 - auc: 0.8588 - f1_score: 0.5044 - loss: 1.0437 - val_acc: 0.6491 - val_auc: 0.8987 - val_f1_score: 0.6103 - val_loss: 0.9130 - learning_rate: 0.0010\n",
      "\n",
      "Epoch 5: LearningRateScheduler setting learning rate to 0.0010000000474974513.\n",
      "Epoch 5/60\n",
      "\u001b[1m62/62\u001b[0m \u001b[32m━━━━━━━━━━━━━━━━━━━━\u001b[0m\u001b[37m\u001b[0m \u001b[1m9s\u001b[0m 142ms/step - acc: 0.6485 - auc: 0.8903 - f1_score: 0.5986 - loss: 0.9197 - val_acc: 0.7343 - val_auc: 0.9326 - val_f1_score: 0.7214 - val_loss: 0.7346 - learning_rate: 0.0010\n",
      "\n",
      "Epoch 6: LearningRateScheduler setting learning rate to 0.0010000000474974513.\n",
      "Epoch 6/60\n",
      "\u001b[1m62/62\u001b[0m \u001b[32m━━━━━━━━━━━━━━━━━━━━\u001b[0m\u001b[37m\u001b[0m \u001b[1m9s\u001b[0m 142ms/step - acc: 0.7756 - auc: 0.9539 - f1_score: 0.7578 - loss: 0.6113 - val_acc: 0.7911 - val_auc: 0.9553 - val_f1_score: 0.7890 - val_loss: 0.5944 - learning_rate: 0.0010\n",
      "\n",
      "Epoch 7: LearningRateScheduler setting learning rate to 0.0010000000474974513.\n",
      "Epoch 7/60\n",
      "\u001b[1m62/62\u001b[0m \u001b[32m━━━━━━━━━━━━━━━━━━━━\u001b[0m\u001b[37m\u001b[0m \u001b[1m9s\u001b[0m 142ms/step - acc: 0.8260 - auc: 0.9746 - f1_score: 0.8280 - loss: 0.4456 - val_acc: 0.8073 - val_auc: 0.9544 - val_f1_score: 0.7978 - val_loss: 0.6182 - learning_rate: 0.0010\n",
      "\n",
      "Epoch 8: LearningRateScheduler setting learning rate to 0.0010000000474974513.\n",
      "Epoch 8/60\n",
      "\u001b[1m62/62\u001b[0m \u001b[32m━━━━━━━━━━━━━━━━━━━━\u001b[0m\u001b[37m\u001b[0m \u001b[1m9s\u001b[0m 142ms/step - acc: 0.8660 - auc: 0.9779 - f1_score: 0.8583 - loss: 0.4140 - val_acc: 0.8073 - val_auc: 0.9542 - val_f1_score: 0.8013 - val_loss: 0.6329 - learning_rate: 0.0010\n",
      "\n",
      "Epoch 9: LearningRateScheduler setting learning rate to 0.0010000000474974513.\n",
      "Epoch 9/60\n",
      "\u001b[1m62/62\u001b[0m \u001b[32m━━━━━━━━━━━━━━━━━━━━\u001b[0m\u001b[37m\u001b[0m \u001b[1m9s\u001b[0m 142ms/step - acc: 0.8944 - auc: 0.9846 - f1_score: 0.8869 - loss: 0.3245 - val_acc: 0.8519 - val_auc: 0.9716 - val_f1_score: 0.8562 - val_loss: 0.4984 - learning_rate: 0.0010\n",
      "\n",
      "Epoch 10: LearningRateScheduler setting learning rate to 0.0010000000474974513.\n",
      "Epoch 10/60\n",
      "\u001b[1m62/62\u001b[0m \u001b[32m━━━━━━━━━━━━━━━━━━━━\u001b[0m\u001b[37m\u001b[0m \u001b[1m9s\u001b[0m 143ms/step - acc: 0.9348 - auc: 0.9916 - f1_score: 0.9325 - loss: 0.2154 - val_acc: 0.8540 - val_auc: 0.9719 - val_f1_score: 0.8592 - val_loss: 0.5317 - learning_rate: 0.0010\n",
      "\n",
      "Epoch 11: LearningRateScheduler setting learning rate to 0.0010000000474974513.\n",
      "Epoch 11/60\n",
      "\u001b[1m62/62\u001b[0m \u001b[32m━━━━━━━━━━━━━━━━━━━━\u001b[0m\u001b[37m\u001b[0m \u001b[1m9s\u001b[0m 143ms/step - acc: 0.9252 - auc: 0.9914 - f1_score: 0.9287 - loss: 0.2290 - val_acc: 0.8560 - val_auc: 0.9674 - val_f1_score: 0.8666 - val_loss: 0.5564 - learning_rate: 0.0010\n",
      "\n",
      "Epoch 12: LearningRateScheduler setting learning rate to 0.0010000000474974513.\n",
      "Epoch 12/60\n",
      "\u001b[1m62/62\u001b[0m \u001b[32m━━━━━━━━━━━━━━━━━━━━\u001b[0m\u001b[37m\u001b[0m \u001b[1m9s\u001b[0m 143ms/step - acc: 0.9407 - auc: 0.9952 - f1_score: 0.9391 - loss: 0.1768 - val_acc: 0.8296 - val_auc: 0.9628 - val_f1_score: 0.8320 - val_loss: 0.6696 - learning_rate: 0.0010\n",
      "\n",
      "Epoch 13: LearningRateScheduler setting learning rate to 0.0010000000474974513.\n",
      "Epoch 13/60\n",
      "\u001b[1m62/62\u001b[0m \u001b[32m━━━━━━━━━━━━━━━━━━━━\u001b[0m\u001b[37m\u001b[0m \u001b[1m9s\u001b[0m 143ms/step - acc: 0.9306 - auc: 0.9943 - f1_score: 0.9296 - loss: 0.1880 - val_acc: 0.8682 - val_auc: 0.9743 - val_f1_score: 0.8695 - val_loss: 0.5398 - learning_rate: 0.0010\n",
      "\n",
      "Epoch 14: LearningRateScheduler setting learning rate to 0.0010000000474974513.\n",
      "Epoch 14/60\n",
      "\u001b[1m62/62\u001b[0m \u001b[32m━━━━━━━━━━━━━━━━━━━━\u001b[0m\u001b[37m\u001b[0m \u001b[1m9s\u001b[0m 143ms/step - acc: 0.9504 - auc: 0.9951 - f1_score: 0.9486 - loss: 0.1558 - val_acc: 0.8661 - val_auc: 0.9745 - val_f1_score: 0.8719 - val_loss: 0.5229 - learning_rate: 0.0010\n",
      "\n",
      "Epoch 15: LearningRateScheduler setting learning rate to 0.0010000000474974513.\n",
      "Epoch 15/60\n",
      "\u001b[1m62/62\u001b[0m \u001b[32m━━━━━━━━━━━━━━━━━━━━\u001b[0m\u001b[37m\u001b[0m \u001b[1m9s\u001b[0m 143ms/step - acc: 0.9627 - auc: 0.9968 - f1_score: 0.9626 - loss: 0.1186 - val_acc: 0.8925 - val_auc: 0.9777 - val_f1_score: 0.8925 - val_loss: 0.4960 - learning_rate: 0.0010\n",
      "\n",
      "Epoch 16: LearningRateScheduler setting learning rate to 0.0010000000474974513.\n",
      "Epoch 16/60\n",
      "\u001b[1m62/62\u001b[0m \u001b[32m━━━━━━━━━━━━━━━━━━━━\u001b[0m\u001b[37m\u001b[0m \u001b[1m9s\u001b[0m 143ms/step - acc: 0.9610 - auc: 0.9977 - f1_score: 0.9621 - loss: 0.1101 - val_acc: 0.8438 - val_auc: 0.9667 - val_f1_score: 0.8485 - val_loss: 0.6265 - learning_rate: 0.0010\n",
      "\n",
      "Epoch 17: LearningRateScheduler setting learning rate to 0.0010000000474974513.\n",
      "Epoch 17/60\n",
      "\u001b[1m62/62\u001b[0m \u001b[32m━━━━━━━━━━━━━━━━━━━━\u001b[0m\u001b[37m\u001b[0m \u001b[1m9s\u001b[0m 143ms/step - acc: 0.9546 - auc: 0.9968 - f1_score: 0.9562 - loss: 0.1281 - val_acc: 0.8763 - val_auc: 0.9654 - val_f1_score: 0.8787 - val_loss: 0.6200 - learning_rate: 0.0010\n",
      "\n",
      "Epoch 18: LearningRateScheduler setting learning rate to 0.0010000000474974513.\n",
      "Epoch 18/60\n",
      "\u001b[1m62/62\u001b[0m \u001b[32m━━━━━━━━━━━━━━━━━━━━\u001b[0m\u001b[37m\u001b[0m \u001b[1m9s\u001b[0m 143ms/step - acc: 0.9673 - auc: 0.9967 - f1_score: 0.9670 - loss: 0.1059 - val_acc: 0.8621 - val_auc: 0.9659 - val_f1_score: 0.8686 - val_loss: 0.6537 - learning_rate: 0.0010\n",
      "\n",
      "Epoch 19: LearningRateScheduler setting learning rate to 0.0010000000474974513.\n",
      "Epoch 19/60\n",
      "\u001b[1m62/62\u001b[0m \u001b[32m━━━━━━━━━━━━━━━━━━━━\u001b[0m\u001b[37m\u001b[0m \u001b[1m9s\u001b[0m 143ms/step - acc: 0.9729 - auc: 0.9970 - f1_score: 0.9720 - loss: 0.0872 - val_acc: 0.8763 - val_auc: 0.9714 - val_f1_score: 0.8841 - val_loss: 0.5624 - learning_rate: 0.0010\n",
      "\n",
      "Epoch 20: LearningRateScheduler setting learning rate to 0.0010000000474974513.\n",
      "Epoch 20/60\n",
      "\u001b[1m62/62\u001b[0m \u001b[32m━━━━━━━━━━━━━━━━━━━━\u001b[0m\u001b[37m\u001b[0m \u001b[1m9s\u001b[0m 143ms/step - acc: 0.9769 - auc: 0.9987 - f1_score: 0.9754 - loss: 0.0752 - val_acc: 0.8682 - val_auc: 0.9669 - val_f1_score: 0.8684 - val_loss: 0.6850 - learning_rate: 0.0010\n",
      "\n",
      "Epoch 21: LearningRateScheduler setting learning rate to 0.0009500000451225787.\n",
      "Epoch 21/60\n",
      "\u001b[1m62/62\u001b[0m \u001b[32m━━━━━━━━━━━━━━━━━━━━\u001b[0m\u001b[37m\u001b[0m \u001b[1m9s\u001b[0m 143ms/step - acc: 0.9817 - auc: 0.9986 - f1_score: 0.9808 - loss: 0.0637 - val_acc: 0.8722 - val_auc: 0.9693 - val_f1_score: 0.8760 - val_loss: 0.6245 - learning_rate: 9.5000e-04\n",
      "\n",
      "Epoch 22: LearningRateScheduler setting learning rate to 0.0009500000160187483.\n",
      "Epoch 22/60\n",
      "\u001b[1m62/62\u001b[0m \u001b[32m━━━━━━━━━━━━━━━━━━━━\u001b[0m\u001b[37m\u001b[0m \u001b[1m9s\u001b[0m 144ms/step - acc: 0.9757 - auc: 0.9979 - f1_score: 0.9765 - loss: 0.0816 - val_acc: 0.8560 - val_auc: 0.9684 - val_f1_score: 0.8625 - val_loss: 0.6572 - learning_rate: 9.5000e-04\n",
      "\n",
      "Epoch 23: LearningRateScheduler setting learning rate to 0.0009025000152178108.\n",
      "Epoch 23/60\n",
      "\u001b[1m62/62\u001b[0m \u001b[32m━━━━━━━━━━━━━━━━━━━━\u001b[0m\u001b[37m\u001b[0m \u001b[1m9s\u001b[0m 143ms/step - acc: 0.9849 - auc: 0.9988 - f1_score: 0.9834 - loss: 0.0671 - val_acc: 0.8438 - val_auc: 0.9661 - val_f1_score: 0.8471 - val_loss: 0.6708 - learning_rate: 9.0250e-04\n",
      "\n",
      "Epoch 24: LearningRateScheduler setting learning rate to 0.0009025000035762787.\n",
      "Epoch 24/60\n",
      "\u001b[1m62/62\u001b[0m \u001b[32m━━━━━━━━━━━━━━━━━━━━\u001b[0m\u001b[37m\u001b[0m \u001b[1m9s\u001b[0m 144ms/step - acc: 0.9797 - auc: 0.9994 - f1_score: 0.9811 - loss: 0.0607 - val_acc: 0.8945 - val_auc: 0.9638 - val_f1_score: 0.8948 - val_loss: 0.7594 - learning_rate: 9.0250e-04\n",
      "\n",
      "Epoch 25: LearningRateScheduler setting learning rate to 0.0008573750033974647.\n",
      "Epoch 25/60\n",
      "\u001b[1m62/62\u001b[0m \u001b[32m━━━━━━━━━━━━━━━━━━━━\u001b[0m\u001b[37m\u001b[0m \u001b[1m9s\u001b[0m 144ms/step - acc: 0.9849 - auc: 0.9986 - f1_score: 0.9844 - loss: 0.0508 - val_acc: 0.8661 - val_auc: 0.9727 - val_f1_score: 0.8700 - val_loss: 0.6719 - learning_rate: 8.5737e-04\n",
      "\n",
      "Epoch 26: LearningRateScheduler setting learning rate to 0.0008573749801144004.\n",
      "Epoch 26/60\n",
      "\u001b[1m62/62\u001b[0m \u001b[32m━━━━━━━━━━━━━━━━━━━━\u001b[0m\u001b[37m\u001b[0m \u001b[1m9s\u001b[0m 144ms/step - acc: 0.9856 - auc: 0.9987 - f1_score: 0.9852 - loss: 0.0538 - val_acc: 0.8986 - val_auc: 0.9788 - val_f1_score: 0.9053 - val_loss: 0.5180 - learning_rate: 8.5737e-04\n",
      "\n",
      "Epoch 27: LearningRateScheduler setting learning rate to 0.0008145062311086804.\n",
      "Epoch 27/60\n",
      "\u001b[1m62/62\u001b[0m \u001b[32m━━━━━━━━━━━━━━━━━━━━\u001b[0m\u001b[37m\u001b[0m \u001b[1m9s\u001b[0m 144ms/step - acc: 0.9854 - auc: 0.9995 - f1_score: 0.9849 - loss: 0.0440 - val_acc: 0.8580 - val_auc: 0.9762 - val_f1_score: 0.8622 - val_loss: 0.5804 - learning_rate: 8.1451e-04\n",
      "\n",
      "Epoch 28: LearningRateScheduler setting learning rate to 0.0008145062020048499.\n",
      "Epoch 28/60\n",
      "\u001b[1m62/62\u001b[0m \u001b[32m━━━━━━━━━━━━━━━━━━━━\u001b[0m\u001b[37m\u001b[0m \u001b[1m9s\u001b[0m 144ms/step - acc: 0.9873 - auc: 0.9994 - f1_score: 0.9871 - loss: 0.0376 - val_acc: 0.8621 - val_auc: 0.9773 - val_f1_score: 0.8671 - val_loss: 0.6237 - learning_rate: 8.1451e-04\n",
      "\n",
      "Epoch 29: LearningRateScheduler setting learning rate to 0.0007737808919046074.\n",
      "Epoch 29/60\n",
      "\u001b[1m62/62\u001b[0m \u001b[32m━━━━━━━━━━━━━━━━━━━━\u001b[0m\u001b[37m\u001b[0m \u001b[1m9s\u001b[0m 144ms/step - acc: 0.9838 - auc: 0.9989 - f1_score: 0.9825 - loss: 0.0523 - val_acc: 0.8560 - val_auc: 0.9748 - val_f1_score: 0.8607 - val_loss: 0.6691 - learning_rate: 7.7378e-04\n",
      "\n",
      "Epoch 30: LearningRateScheduler setting learning rate to 0.000773780862800777.\n",
      "Epoch 30/60\n",
      "\u001b[1m62/62\u001b[0m \u001b[32m━━━━━━━━━━━━━━━━━━━━\u001b[0m\u001b[37m\u001b[0m \u001b[1m9s\u001b[0m 144ms/step - acc: 0.9937 - auc: 0.9999 - f1_score: 0.9929 - loss: 0.0221 - val_acc: 0.8641 - val_auc: 0.9702 - val_f1_score: 0.8648 - val_loss: 0.7213 - learning_rate: 7.7378e-04\n",
      "\n",
      "Epoch 31: LearningRateScheduler setting learning rate to 0.000735091819660738.\n",
      "Epoch 31/60\n",
      "\u001b[1m62/62\u001b[0m \u001b[32m━━━━━━━━━━━━━━━━━━━━\u001b[0m\u001b[37m\u001b[0m \u001b[1m9s\u001b[0m 144ms/step - acc: 0.9918 - auc: 0.9992 - f1_score: 0.9918 - loss: 0.0378 - val_acc: 0.8560 - val_auc: 0.9706 - val_f1_score: 0.8595 - val_loss: 0.6907 - learning_rate: 7.3509e-04\n",
      "\n",
      "Epoch 32: LearningRateScheduler setting learning rate to 0.0007350918021984398.\n",
      "Epoch 32/60\n",
      "\u001b[1m62/62\u001b[0m \u001b[32m━━━━━━━━━━━━━━━━━━━━\u001b[0m\u001b[37m\u001b[0m \u001b[1m9s\u001b[0m 144ms/step - acc: 0.9902 - auc: 0.9998 - f1_score: 0.9897 - loss: 0.0365 - val_acc: 0.8763 - val_auc: 0.9691 - val_f1_score: 0.8784 - val_loss: 0.6607 - learning_rate: 7.3509e-04\n",
      "\n",
      "Epoch 33: LearningRateScheduler setting learning rate to 0.0006983372120885178.\n",
      "Epoch 33/60\n",
      "\u001b[1m62/62\u001b[0m \u001b[32m━━━━━━━━━━━━━━━━━━━━\u001b[0m\u001b[37m\u001b[0m \u001b[1m9s\u001b[0m 144ms/step - acc: 0.9849 - auc: 0.9981 - f1_score: 0.9841 - loss: 0.0524 - val_acc: 0.8661 - val_auc: 0.9718 - val_f1_score: 0.8648 - val_loss: 0.6623 - learning_rate: 6.9834e-04\n",
      "\n",
      "Epoch 34: LearningRateScheduler setting learning rate to 0.0006983372149989009.\n",
      "Epoch 34/60\n",
      "\u001b[1m62/62\u001b[0m \u001b[32m━━━━━━━━━━━━━━━━━━━━\u001b[0m\u001b[37m\u001b[0m \u001b[1m9s\u001b[0m 144ms/step - acc: 0.9895 - auc: 0.9995 - f1_score: 0.9899 - loss: 0.0343 - val_acc: 0.8763 - val_auc: 0.9654 - val_f1_score: 0.8726 - val_loss: 0.6621 - learning_rate: 6.9834e-04\n",
      "\n",
      "Epoch 35: LearningRateScheduler setting learning rate to 0.0006634203542489559.\n",
      "Epoch 35/60\n",
      "\u001b[1m62/62\u001b[0m \u001b[32m━━━━━━━━━━━━━━━━━━━━\u001b[0m\u001b[37m\u001b[0m \u001b[1m9s\u001b[0m 144ms/step - acc: 0.9917 - auc: 0.9999 - f1_score: 0.9915 - loss: 0.0265 - val_acc: 0.8682 - val_auc: 0.9723 - val_f1_score: 0.8645 - val_loss: 0.6292 - learning_rate: 6.6342e-04\n",
      "\n",
      "Epoch 36: LearningRateScheduler setting learning rate to 0.0006634203600697219.\n",
      "Epoch 36/60\n",
      "\u001b[1m62/62\u001b[0m \u001b[32m━━━━━━━━━━━━━━━━━━━━\u001b[0m\u001b[37m\u001b[0m \u001b[1m9s\u001b[0m 144ms/step - acc: 0.9917 - auc: 0.9999 - f1_score: 0.9919 - loss: 0.0243 - val_acc: 0.8621 - val_auc: 0.9643 - val_f1_score: 0.8633 - val_loss: 0.7346 - learning_rate: 6.6342e-04\n",
      "\n",
      "Epoch 37: LearningRateScheduler setting learning rate to 0.0006302493420662358.\n",
      "Epoch 37/60\n",
      "\u001b[1m62/62\u001b[0m \u001b[32m━━━━━━━━━━━━━━━━━━━━\u001b[0m\u001b[37m\u001b[0m \u001b[1m9s\u001b[0m 144ms/step - acc: 0.9878 - auc: 0.9999 - f1_score: 0.9871 - loss: 0.0316 - val_acc: 0.8600 - val_auc: 0.9701 - val_f1_score: 0.8589 - val_loss: 0.7249 - learning_rate: 6.3025e-04\n",
      "\n",
      "Epoch 38: LearningRateScheduler setting learning rate to 0.0006302493275143206.\n",
      "Epoch 38/60\n",
      "\u001b[1m62/62\u001b[0m \u001b[32m━━━━━━━━━━━━━━━━━━━━\u001b[0m\u001b[37m\u001b[0m \u001b[1m10s\u001b[0m 144ms/step - acc: 0.9882 - auc: 0.9996 - f1_score: 0.9879 - loss: 0.0375 - val_acc: 0.8418 - val_auc: 0.9579 - val_f1_score: 0.8463 - val_loss: 0.9076 - learning_rate: 6.3025e-04\n",
      "\n",
      "Epoch 39: LearningRateScheduler setting learning rate to 0.0005987368611386045.\n",
      "Epoch 39/60\n",
      "\u001b[1m62/62\u001b[0m \u001b[32m━━━━━━━━━━━━━━━━━━━━\u001b[0m\u001b[37m\u001b[0m \u001b[1m9s\u001b[0m 144ms/step - acc: 0.9784 - auc: 0.9988 - f1_score: 0.9798 - loss: 0.0597 - val_acc: 0.8641 - val_auc: 0.9637 - val_f1_score: 0.8639 - val_loss: 0.9241 - learning_rate: 5.9874e-04\n",
      "\n",
      "Epoch 40: LearningRateScheduler setting learning rate to 0.0005987368640489876.\n",
      "Epoch 40/60\n",
      "\u001b[1m62/62\u001b[0m \u001b[32m━━━━━━━━━━━━━━━━━━━━\u001b[0m\u001b[37m\u001b[0m \u001b[1m9s\u001b[0m 144ms/step - acc: 0.9875 - auc: 0.9985 - f1_score: 0.9874 - loss: 0.0406 - val_acc: 0.8580 - val_auc: 0.9634 - val_f1_score: 0.8645 - val_loss: 0.7635 - learning_rate: 5.9874e-04\n",
      "\n",
      "Epoch 41: LearningRateScheduler setting learning rate to 0.0005688000208465382.\n",
      "Epoch 41/60\n",
      "\u001b[1m62/62\u001b[0m \u001b[32m━━━━━━━━━━━━━━━━━━━━\u001b[0m\u001b[37m\u001b[0m \u001b[1m9s\u001b[0m 144ms/step - acc: 0.9901 - auc: 0.9987 - f1_score: 0.9903 - loss: 0.0302 - val_acc: 0.8621 - val_auc: 0.9627 - val_f1_score: 0.8630 - val_loss: 0.7983 - learning_rate: 5.6880e-04\n",
      "\n",
      "Epoch 42: LearningRateScheduler setting learning rate to 0.0005688000237569213.\n",
      "Epoch 42/60\n",
      "\u001b[1m62/62\u001b[0m \u001b[32m━━━━━━━━━━━━━━━━━━━━\u001b[0m\u001b[37m\u001b[0m \u001b[1m10s\u001b[0m 144ms/step - acc: 0.9942 - auc: 0.9998 - f1_score: 0.9948 - loss: 0.0151 - val_acc: 0.8763 - val_auc: 0.9695 - val_f1_score: 0.8773 - val_loss: 0.7423 - learning_rate: 5.6880e-04\n",
      "\n",
      "Epoch 43: LearningRateScheduler setting learning rate to 0.0005403600225690752.\n",
      "Epoch 43/60\n",
      "\u001b[1m62/62\u001b[0m \u001b[32m━━━━━━━━━━━━━━━━━━━━\u001b[0m\u001b[37m\u001b[0m \u001b[1m9s\u001b[0m 144ms/step - acc: 0.9944 - auc: 1.0000 - f1_score: 0.9951 - loss: 0.0158 - val_acc: 0.8742 - val_auc: 0.9672 - val_f1_score: 0.8691 - val_loss: 0.7667 - learning_rate: 5.4036e-04\n",
      "\n",
      "Epoch 44: LearningRateScheduler setting learning rate to 0.0005403599934652448.\n",
      "Epoch 44/60\n",
      "\u001b[1m62/62\u001b[0m \u001b[32m━━━━━━━━━━━━━━━━━━━━\u001b[0m\u001b[37m\u001b[0m \u001b[1m9s\u001b[0m 144ms/step - acc: 0.9976 - auc: 0.9998 - f1_score: 0.9973 - loss: 0.0081 - val_acc: 0.8580 - val_auc: 0.9624 - val_f1_score: 0.8668 - val_loss: 0.8182 - learning_rate: 5.4036e-04\n",
      "\n",
      "Epoch 45: LearningRateScheduler setting learning rate to 0.0005133419937919825.\n",
      "Epoch 45/60\n",
      "\u001b[1m62/62\u001b[0m \u001b[32m━━━━━━━━━━━━━━━━━━━━\u001b[0m\u001b[37m\u001b[0m \u001b[1m9s\u001b[0m 144ms/step - acc: 0.9949 - auc: 0.9986 - f1_score: 0.9949 - loss: 0.0241 - val_acc: 0.8398 - val_auc: 0.9578 - val_f1_score: 0.8428 - val_loss: 0.9337 - learning_rate: 5.1334e-04\n",
      "\n",
      "Epoch 46: LearningRateScheduler setting learning rate to 0.0005133419763296843.\n",
      "Epoch 46/60\n",
      "\u001b[1m62/62\u001b[0m \u001b[32m━━━━━━━━━━━━━━━━━━━━\u001b[0m\u001b[37m\u001b[0m \u001b[1m9s\u001b[0m 144ms/step - acc: 0.9930 - auc: 0.9999 - f1_score: 0.9927 - loss: 0.0201 - val_acc: 0.8600 - val_auc: 0.9627 - val_f1_score: 0.8648 - val_loss: 0.8581 - learning_rate: 5.1334e-04\n",
      "\n",
      "Epoch 47: LearningRateScheduler setting learning rate to 0.0004876748775132.\n",
      "Epoch 47/60\n",
      "\u001b[1m62/62\u001b[0m \u001b[32m━━━━━━━━━━━━━━━━━━━━\u001b[0m\u001b[37m\u001b[0m \u001b[1m9s\u001b[0m 144ms/step - acc: 0.9949 - auc: 0.9997 - f1_score: 0.9952 - loss: 0.0150 - val_acc: 0.8702 - val_auc: 0.9636 - val_f1_score: 0.8706 - val_loss: 0.8763 - learning_rate: 4.8767e-04\n",
      "\n",
      "Epoch 48: LearningRateScheduler setting learning rate to 0.00048767487169243395.\n",
      "Epoch 48/60\n",
      "\u001b[1m62/62\u001b[0m \u001b[32m━━━━━━━━━━━━━━━━━━━━\u001b[0m\u001b[37m\u001b[0m \u001b[1m9s\u001b[0m 144ms/step - acc: 0.9908 - auc: 0.9996 - f1_score: 0.9924 - loss: 0.0253 - val_acc: 0.8621 - val_auc: 0.9665 - val_f1_score: 0.8665 - val_loss: 0.8063 - learning_rate: 4.8767e-04\n",
      "\n",
      "Epoch 49: LearningRateScheduler setting learning rate to 0.00046329112810781223.\n",
      "Epoch 49/60\n",
      "\u001b[1m62/62\u001b[0m \u001b[32m━━━━━━━━━━━━━━━━━━━━\u001b[0m\u001b[37m\u001b[0m \u001b[1m9s\u001b[0m 144ms/step - acc: 0.9972 - auc: 1.0000 - f1_score: 0.9971 - loss: 0.0115 - val_acc: 0.8580 - val_auc: 0.9661 - val_f1_score: 0.8607 - val_loss: 0.8008 - learning_rate: 4.6329e-04\n",
      "\n",
      "Epoch 50: LearningRateScheduler setting learning rate to 0.0004632911295630038.\n",
      "Epoch 50/60\n",
      "\u001b[1m62/62\u001b[0m \u001b[32m━━━━━━━━━━━━━━━━━━━━\u001b[0m\u001b[37m\u001b[0m \u001b[1m9s\u001b[0m 144ms/step - acc: 0.9958 - auc: 0.9997 - f1_score: 0.9955 - loss: 0.0153 - val_acc: 0.8621 - val_auc: 0.9613 - val_f1_score: 0.8697 - val_loss: 0.7904 - learning_rate: 4.6329e-04\n",
      "\n",
      "Epoch 51: LearningRateScheduler setting learning rate to 0.00044012657308485355.\n",
      "Epoch 51/60\n",
      "\u001b[1m62/62\u001b[0m \u001b[32m━━━━━━━━━━━━━━━━━━━━\u001b[0m\u001b[37m\u001b[0m \u001b[1m9s\u001b[0m 144ms/step - acc: 0.9980 - auc: 1.0000 - f1_score: 0.9984 - loss: 0.0075 - val_acc: 0.8742 - val_auc: 0.9742 - val_f1_score: 0.8807 - val_loss: 0.6612 - learning_rate: 4.4013e-04\n",
      "\n",
      "Epoch 52: LearningRateScheduler setting learning rate to 0.00044012657599523664.\n",
      "Epoch 52/60\n",
      "\u001b[1m62/62\u001b[0m \u001b[32m━━━━━━━━━━━━━━━━━━━━\u001b[0m\u001b[37m\u001b[0m \u001b[1m9s\u001b[0m 144ms/step - acc: 0.9997 - auc: 0.9999 - f1_score: 0.9994 - loss: 0.0067 - val_acc: 0.8702 - val_auc: 0.9690 - val_f1_score: 0.8789 - val_loss: 0.7031 - learning_rate: 4.4013e-04\n",
      "\n",
      "Epoch 53: LearningRateScheduler setting learning rate to 0.00041812024719547477.\n",
      "Epoch 53/60\n",
      "\u001b[1m62/62\u001b[0m \u001b[32m━━━━━━━━━━━━━━━━━━━━\u001b[0m\u001b[37m\u001b[0m \u001b[1m9s\u001b[0m 144ms/step - acc: 0.9989 - auc: 0.9999 - f1_score: 0.9984 - loss: 0.0073 - val_acc: 0.8783 - val_auc: 0.9714 - val_f1_score: 0.8816 - val_loss: 0.7236 - learning_rate: 4.1812e-04\n",
      "\n",
      "Epoch 54: LearningRateScheduler setting learning rate to 0.00041812023846432567.\n",
      "Epoch 54/60\n",
      "\u001b[1m62/62\u001b[0m \u001b[32m━━━━━━━━━━━━━━━━━━━━\u001b[0m\u001b[37m\u001b[0m \u001b[1m9s\u001b[0m 144ms/step - acc: 0.9986 - auc: 1.0000 - f1_score: 0.9985 - loss: 0.0059 - val_acc: 0.8803 - val_auc: 0.9731 - val_f1_score: 0.8866 - val_loss: 0.7329 - learning_rate: 4.1812e-04\n",
      "\n",
      "Epoch 55: LearningRateScheduler setting learning rate to 0.00039721422654110934.\n",
      "Epoch 55/60\n",
      "\u001b[1m62/62\u001b[0m \u001b[32m━━━━━━━━━━━━━━━━━━━━\u001b[0m\u001b[37m\u001b[0m \u001b[1m9s\u001b[0m 144ms/step - acc: 0.9987 - auc: 1.0000 - f1_score: 0.9990 - loss: 0.0051 - val_acc: 0.8844 - val_auc: 0.9754 - val_f1_score: 0.8850 - val_loss: 0.7051 - learning_rate: 3.9721e-04\n",
      "\n",
      "Epoch 56: LearningRateScheduler setting learning rate to 0.00039721422945149243.\n",
      "Epoch 56/60\n",
      "\u001b[1m62/62\u001b[0m \u001b[32m━━━━━━━━━━━━━━━━━━━━\u001b[0m\u001b[37m\u001b[0m \u001b[1m9s\u001b[0m 144ms/step - acc: 0.9989 - auc: 1.0000 - f1_score: 0.9986 - loss: 0.0063 - val_acc: 0.8722 - val_auc: 0.9628 - val_f1_score: 0.8741 - val_loss: 0.8331 - learning_rate: 3.9721e-04\n",
      "\n",
      "Epoch 57: LearningRateScheduler setting learning rate to 0.00037735351797891776.\n",
      "Epoch 57/60\n",
      "\u001b[1m62/62\u001b[0m \u001b[32m━━━━━━━━━━━━━━━━━━━━\u001b[0m\u001b[37m\u001b[0m \u001b[1m9s\u001b[0m 144ms/step - acc: 0.9984 - auc: 0.9999 - f1_score: 0.9976 - loss: 0.0081 - val_acc: 0.8661 - val_auc: 0.9634 - val_f1_score: 0.8703 - val_loss: 0.8112 - learning_rate: 3.7735e-04\n",
      "\n",
      "Epoch 58: LearningRateScheduler setting learning rate to 0.00037735351361334324.\n",
      "Epoch 58/60\n",
      "\u001b[1m62/62\u001b[0m \u001b[32m━━━━━━━━━━━━━━━━━━━━\u001b[0m\u001b[37m\u001b[0m \u001b[1m9s\u001b[0m 144ms/step - acc: 0.9955 - auc: 0.9999 - f1_score: 0.9956 - loss: 0.0175 - val_acc: 0.8722 - val_auc: 0.9695 - val_f1_score: 0.8753 - val_loss: 0.6894 - learning_rate: 3.7735e-04\n",
      "\n",
      "Epoch 59: LearningRateScheduler setting learning rate to 0.00035848583793267607.\n",
      "Epoch 59/60\n",
      "\u001b[1m62/62\u001b[0m \u001b[32m━━━━━━━━━━━━━━━━━━━━\u001b[0m\u001b[37m\u001b[0m \u001b[1m9s\u001b[0m 144ms/step - acc: 0.9954 - auc: 0.9996 - f1_score: 0.9950 - loss: 0.0157 - val_acc: 0.8884 - val_auc: 0.9763 - val_f1_score: 0.8898 - val_loss: 0.6570 - learning_rate: 3.5849e-04\n",
      "\n",
      "Epoch 60: LearningRateScheduler setting learning rate to 0.00035848584957420826.\n",
      "Epoch 60/60\n",
      "\u001b[1m62/62\u001b[0m \u001b[32m━━━━━━━━━━━━━━━━━━━━\u001b[0m\u001b[37m\u001b[0m \u001b[1m9s\u001b[0m 144ms/step - acc: 0.9953 - auc: 0.9988 - f1_score: 0.9952 - loss: 0.0190 - val_acc: 0.8783 - val_auc: 0.9715 - val_f1_score: 0.8778 - val_loss: 0.6983 - learning_rate: 3.5849e-04\n"
     ]
    }
   ],
   "source": [
    "model.compile(optimizer=optimizer, loss='categorical_crossentropy', metrics=METRICS)\n",
    "\n",
    "history = model.fit(\n",
    "    train_images, train_labels,\n",
    "    epochs=60,\n",
    "    validation_data=(val_images, val_labels),\n",
    "    callbacks=CALLBACKS)  "
   ]
  },
  {
   "cell_type": "code",
   "execution_count": 22,
   "id": "d4303ea2",
   "metadata": {
    "execution": {
     "iopub.execute_input": "2024-04-22T15:40:05.038807Z",
     "iopub.status.busy": "2024-04-22T15:40:05.038431Z",
     "iopub.status.idle": "2024-04-22T15:40:06.492955Z",
     "shell.execute_reply": "2024-04-22T15:40:06.491929Z"
    },
    "id": "f26751b2",
    "outputId": "68d32aa4-5e7b-4125-89db-7b3ec64c5b72",
    "papermill": {
     "duration": 1.790305,
     "end_time": "2024-04-22T15:40:06.495248",
     "exception": false,
     "start_time": "2024-04-22T15:40:04.704943",
     "status": "completed"
    },
    "tags": []
   },
   "outputs": [
    {
     "name": "stdout",
     "output_type": "stream",
     "text": [
      "\u001b[1m 7/16\u001b[0m \u001b[32m━━━━━━━━\u001b[0m\u001b[37m━━━━━━━━━━━━\u001b[0m \u001b[1m0s\u001b[0m 31ms/step"
     ]
    },
    {
     "name": "stderr",
     "output_type": "stream",
     "text": [
      "W0000 00:00:1713800405.660035      76 graph_launch.cc:671] Fallback to op-by-op mode because memset node breaks graph update\n"
     ]
    },
    {
     "name": "stdout",
     "output_type": "stream",
     "text": [
      "\u001b[1m16/16\u001b[0m \u001b[32m━━━━━━━━━━━━━━━━━━━━\u001b[0m\u001b[37m\u001b[0m \u001b[1m1s\u001b[0m 52ms/step\n",
      "ROC AUC: 0.9847723477838173\n"
     ]
    },
    {
     "name": "stderr",
     "output_type": "stream",
     "text": [
      "W0000 00:00:1713800406.442802      77 graph_launch.cc:671] Fallback to op-by-op mode because memset node breaks graph update\n"
     ]
    }
   ],
   "source": [
    "import tensorflow as tf\n",
    "import numpy as np\n",
    "from sklearn.metrics import roc_auc_score\n",
    "\n",
    "y_prob = model.predict(val_images)\n",
    "roc_auc = roc_auc_score(val_labels, y_prob, average='macro')\n",
    "\n",
    "print(\"ROC AUC:\", roc_auc)"
   ]
  },
  {
   "cell_type": "markdown",
   "id": "9f3b1413",
   "metadata": {
    "papermill": {
     "duration": 0.328943,
     "end_time": "2024-04-22T15:40:07.151576",
     "exception": false,
     "start_time": "2024-04-22T15:40:06.822633",
     "status": "completed"
    },
    "tags": []
   },
   "source": [
    "### Saving the model\n",
    "\n",
    "The model is saved for the future so that it can be combined with the handwriting classifier later on"
   ]
  },
  {
   "cell_type": "code",
   "execution_count": 23,
   "id": "1b3e6eeb",
   "metadata": {
    "execution": {
     "iopub.execute_input": "2024-04-22T15:40:07.854874Z",
     "iopub.status.busy": "2024-04-22T15:40:07.854474Z",
     "iopub.status.idle": "2024-04-22T15:40:10.606877Z",
     "shell.execute_reply": "2024-04-22T15:40:10.606064Z"
    },
    "id": "ac3ed08e",
    "outputId": "e6a9891b-e633-4c66-c7f3-563344ad529f",
    "papermill": {
     "duration": 3.085253,
     "end_time": "2024-04-22T15:40:10.609111",
     "exception": false,
     "start_time": "2024-04-22T15:40:07.523858",
     "status": "completed"
    },
    "tags": []
   },
   "outputs": [],
   "source": [
    "model.save(\"my_cnn_model.h5\")\n"
   ]
  },
  {
   "cell_type": "markdown",
   "id": "eba160f8",
   "metadata": {
    "papermill": {
     "duration": 0.330491,
     "end_time": "2024-04-22T15:40:11.278771",
     "exception": false,
     "start_time": "2024-04-22T15:40:10.948280",
     "status": "completed"
    },
    "tags": []
   },
   "source": [
    "# Testing"
   ]
  },
  {
   "cell_type": "code",
   "execution_count": 24,
   "id": "bb1d21b2",
   "metadata": {
    "execution": {
     "iopub.execute_input": "2024-04-22T15:40:11.933772Z",
     "iopub.status.busy": "2024-04-22T15:40:11.933397Z",
     "iopub.status.idle": "2024-04-22T15:40:11.940761Z",
     "shell.execute_reply": "2024-04-22T15:40:11.939906Z"
    },
    "id": "CihNhxENChlt",
    "outputId": "fb5f119d-f55e-4bac-a9bd-f5ff11ba7507",
    "papermill": {
     "duration": 0.340219,
     "end_time": "2024-04-22T15:40:11.942700",
     "exception": false,
     "start_time": "2024-04-22T15:40:11.602481",
     "status": "completed"
    },
    "tags": []
   },
   "outputs": [
    {
     "data": {
      "text/plain": [
       "195"
      ]
     },
     "execution_count": 24,
     "metadata": {},
     "output_type": "execute_result"
    }
   ],
   "source": [
    "import os\n",
    "import numpy as np\n",
    "directory = '/kaggle/working/test'\n",
    "\n",
    "files = [file for file in os.listdir(directory) if file.endswith('.npy')]\n",
    "len(files)"
   ]
  },
  {
   "cell_type": "markdown",
   "id": "89ee6559",
   "metadata": {
    "papermill": {
     "duration": 0.327492,
     "end_time": "2024-04-22T15:40:12.602592",
     "exception": false,
     "start_time": "2024-04-22T15:40:12.275100",
     "status": "completed"
    },
    "tags": []
   },
   "source": [
    "### Data loading\n",
    "\n",
    "The test npy file paths are separated into lists for the purpose of classification. "
   ]
  },
  {
   "cell_type": "code",
   "execution_count": 25,
   "id": "47ce59f5",
   "metadata": {
    "execution": {
     "iopub.execute_input": "2024-04-22T15:40:13.322809Z",
     "iopub.status.busy": "2024-04-22T15:40:13.321939Z",
     "iopub.status.idle": "2024-04-22T15:40:13.328598Z",
     "shell.execute_reply": "2024-04-22T15:40:13.327797Z"
    },
    "id": "avj2hYL_Cp9p",
    "outputId": "573fc7df-d466-4585-f0db-b55ea39ed61a",
    "papermill": {
     "duration": 0.380275,
     "end_time": "2024-04-22T15:40:13.330560",
     "exception": false,
     "start_time": "2024-04-22T15:40:12.950285",
     "status": "completed"
    },
    "tags": []
   },
   "outputs": [
    {
     "name": "stdout",
     "output_type": "stream",
     "text": [
      "26 87 36 11 35\n"
     ]
    }
   ],
   "source": [
    "ad = [i for i in files if \"AD\" in i]\n",
    "cn = [i for i in files if \"CN\" in i]\n",
    "emci = [i for i in files if \"EMCI\" in i]\n",
    "lmci = [i for i in files if \"LMCI\" in i]\n",
    "mci = [i for i in files if \" MCI \" in i]\n",
    "print(len(ad), len(cn), len(emci), len(lmci), len(mci))"
   ]
  },
  {
   "cell_type": "markdown",
   "id": "a099692b",
   "metadata": {
    "papermill": {
     "duration": 0.327833,
     "end_time": "2024-04-22T15:40:13.985059",
     "exception": false,
     "start_time": "2024-04-22T15:40:13.657226",
     "status": "completed"
    },
    "tags": []
   },
   "source": [
    "The paths are added into a dataframe with labels"
   ]
  },
  {
   "cell_type": "code",
   "execution_count": 26,
   "id": "b6348cb8",
   "metadata": {
    "execution": {
     "iopub.execute_input": "2024-04-22T15:40:14.643103Z",
     "iopub.status.busy": "2024-04-22T15:40:14.642695Z",
     "iopub.status.idle": "2024-04-22T15:40:14.655223Z",
     "shell.execute_reply": "2024-04-22T15:40:14.654240Z"
    },
    "id": "63L3eQx3Cs6g",
    "outputId": "9e45a2f9-8615-43d0-a370-278cdc04fa05",
    "papermill": {
     "duration": 0.341666,
     "end_time": "2024-04-22T15:40:14.657309",
     "exception": false,
     "start_time": "2024-04-22T15:40:14.315643",
     "status": "completed"
    },
    "tags": []
   },
   "outputs": [
    {
     "data": {
      "text/plain": [
       "Class\n",
       "1    87\n",
       "2    36\n",
       "4    35\n",
       "0    26\n",
       "3    11\n",
       "Name: count, dtype: int64"
      ]
     },
     "execution_count": 26,
     "metadata": {},
     "output_type": "execute_result"
    }
   ],
   "source": [
    "import pandas as pd\n",
    "l = [[ad, 0], [cn, 1], [emci, 2], [lmci, 3], [mci, 4]]\n",
    "x = []\n",
    "for i in l:\n",
    "    for j in i[0]:\n",
    "        path = os.path.join(\"/kaggle/working/train\", j)\n",
    "        x.append([i[1], path])\n",
    "\n",
    "df = pd.DataFrame(x, columns=[\"Class\", \"Path\"])\n",
    "x = df[\"Class\"].value_counts()\n",
    "x"
   ]
  },
  {
   "cell_type": "markdown",
   "id": "eca2a0c9",
   "metadata": {
    "papermill": {
     "duration": 0.373741,
     "end_time": "2024-04-22T15:40:15.379308",
     "exception": false,
     "start_time": "2024-04-22T15:40:15.005567",
     "status": "completed"
    },
    "tags": []
   },
   "source": [
    "Checking the test data for images that do not fit the input size of the model"
   ]
  },
  {
   "cell_type": "code",
   "execution_count": 27,
   "id": "b8ce2988",
   "metadata": {
    "execution": {
     "iopub.execute_input": "2024-04-22T15:40:16.037495Z",
     "iopub.status.busy": "2024-04-22T15:40:16.037152Z",
     "iopub.status.idle": "2024-04-22T15:40:16.070237Z",
     "shell.execute_reply": "2024-04-22T15:40:16.069460Z"
    },
    "papermill": {
     "duration": 0.364025,
     "end_time": "2024-04-22T15:40:16.072184",
     "exception": false,
     "start_time": "2024-04-22T15:40:15.708159",
     "status": "completed"
    },
    "tags": []
   },
   "outputs": [],
   "source": [
    "for j, i in enumerate(df[\"Path\"]):\n",
    "    if np.load(i).shape != (256, 256, 3):\n",
    "        print(i)"
   ]
  },
  {
   "cell_type": "markdown",
   "id": "557732d7",
   "metadata": {
    "papermill": {
     "duration": 0.327817,
     "end_time": "2024-04-22T15:40:16.731613",
     "exception": false,
     "start_time": "2024-04-22T15:40:16.403796",
     "status": "completed"
    },
    "tags": []
   },
   "source": [
    "Loading the test images into memory for prediction"
   ]
  },
  {
   "cell_type": "code",
   "execution_count": 28,
   "id": "a6b5dc00",
   "metadata": {
    "execution": {
     "iopub.execute_input": "2024-04-22T15:40:17.391935Z",
     "iopub.status.busy": "2024-04-22T15:40:17.391220Z",
     "iopub.status.idle": "2024-04-22T15:40:17.442398Z",
     "shell.execute_reply": "2024-04-22T15:40:17.441564Z"
    },
    "id": "QwkXDmRMCwlr",
    "papermill": {
     "duration": 0.385551,
     "end_time": "2024-04-22T15:40:17.444657",
     "exception": false,
     "start_time": "2024-04-22T15:40:17.059106",
     "status": "completed"
    },
    "tags": []
   },
   "outputs": [],
   "source": [
    "images = []\n",
    "for i in df[\"Path\"]:\n",
    "    images.append(np.load(i))\n",
    "images = np.array(images)"
   ]
  },
  {
   "cell_type": "markdown",
   "id": "8cae2a91",
   "metadata": {
    "papermill": {
     "duration": 0.330801,
     "end_time": "2024-04-22T15:40:18.105672",
     "exception": false,
     "start_time": "2024-04-22T15:40:17.774871",
     "status": "completed"
    },
    "tags": []
   },
   "source": [
    "### Prediction\n",
    "\n",
    "The model makes predictions based on the test images given to it. The predictions are in the form of a vector of size 5, where each element gives the probability of the image belonging to a certain class. We use the numpy `argmax` function to find the index of the element with the highest probability and conclude that the given image belongs to that class."
   ]
  },
  {
   "cell_type": "code",
   "execution_count": 29,
   "id": "fe1e8194",
   "metadata": {
    "execution": {
     "iopub.execute_input": "2024-04-22T15:40:18.805915Z",
     "iopub.status.busy": "2024-04-22T15:40:18.805042Z",
     "iopub.status.idle": "2024-04-22T15:40:21.140696Z",
     "shell.execute_reply": "2024-04-22T15:40:21.139464Z"
    },
    "id": "I_42DXnvZVLB",
    "papermill": {
     "duration": 2.666134,
     "end_time": "2024-04-22T15:40:21.142831",
     "exception": false,
     "start_time": "2024-04-22T15:40:18.476697",
     "status": "completed"
    },
    "tags": []
   },
   "outputs": [
    {
     "name": "stdout",
     "output_type": "stream",
     "text": [
      "\u001b[1m7/7\u001b[0m \u001b[32m━━━━━━━━━━━━━━━━━━━━\u001b[0m\u001b[37m\u001b[0m \u001b[1m2s\u001b[0m 362ms/step\n"
     ]
    },
    {
     "name": "stderr",
     "output_type": "stream",
     "text": [
      "W0000 00:00:1713800421.121168      75 graph_launch.cc:671] Fallback to op-by-op mode because memset node breaks graph update\n"
     ]
    }
   ],
   "source": [
    "y_prob = model.predict(images)\n",
    "\n",
    "y_prob = np.argmax(y_prob, axis=1)  "
   ]
  },
  {
   "cell_type": "markdown",
   "id": "0e2ac4be",
   "metadata": {
    "papermill": {
     "duration": 0.326734,
     "end_time": "2024-04-22T15:40:21.806250",
     "exception": false,
     "start_time": "2024-04-22T15:40:21.479516",
     "status": "completed"
    },
    "tags": []
   },
   "source": [
    "# Results"
   ]
  },
  {
   "cell_type": "code",
   "execution_count": 30,
   "id": "f19fdbbf",
   "metadata": {
    "execution": {
     "iopub.execute_input": "2024-04-22T15:40:22.472852Z",
     "iopub.status.busy": "2024-04-22T15:40:22.471983Z",
     "iopub.status.idle": "2024-04-22T15:40:22.486915Z",
     "shell.execute_reply": "2024-04-22T15:40:22.485879Z"
    },
    "id": "Whw0fiWMafyY",
    "outputId": "f6126497-412a-4edb-9965-396997e74a55",
    "papermill": {
     "duration": 0.355266,
     "end_time": "2024-04-22T15:40:22.489418",
     "exception": false,
     "start_time": "2024-04-22T15:40:22.134152",
     "status": "completed"
    },
    "tags": []
   },
   "outputs": [
    {
     "name": "stdout",
     "output_type": "stream",
     "text": [
      "                 precision    recall  f1-score   support\n",
      "\n",
      "  Final AD JPEG       1.00      0.96      0.98        27\n",
      "  Final CN JPEG       0.94      0.98      0.96        84\n",
      "Final EMCI JPEG       0.97      0.97      0.97        36\n",
      "Final LMCI JPEG       1.00      1.00      1.00        11\n",
      " Final MCI JPEG       0.97      0.92      0.94        37\n",
      "\n",
      "       accuracy                           0.96       195\n",
      "      macro avg       0.98      0.97      0.97       195\n",
      "   weighted avg       0.96      0.96      0.96       195\n",
      "\n"
     ]
    }
   ],
   "source": [
    "from sklearn.metrics import classification_report\n",
    "l = df[\"Class\"]\n",
    "print(classification_report(y_prob, l, target_names=[\"Final AD JPEG\" , \"Final CN JPEG\",  \"Final EMCI JPEG\",\"Final LMCI JPEG\",\"Final MCI JPEG\"]))"
   ]
  },
  {
   "cell_type": "code",
   "execution_count": 31,
   "id": "60a2c547",
   "metadata": {
    "execution": {
     "iopub.execute_input": "2024-04-22T15:40:23.229794Z",
     "iopub.status.busy": "2024-04-22T15:40:23.229414Z",
     "iopub.status.idle": "2024-04-22T15:40:23.243830Z",
     "shell.execute_reply": "2024-04-22T15:40:23.242685Z"
    },
    "papermill": {
     "duration": 0.3486,
     "end_time": "2024-04-22T15:40:23.246041",
     "exception": false,
     "start_time": "2024-04-22T15:40:22.897441",
     "status": "completed"
    },
    "tags": []
   },
   "outputs": [
    {
     "name": "stdout",
     "output_type": "stream",
     "text": [
      "                   pre       rec       spe        f1       geo       iba       sup\n",
      "\n",
      "          0       0.96      1.00      0.99      0.98      1.00      0.99        26\n",
      "          1       0.98      0.94      0.98      0.96      0.96      0.92        87\n",
      "          2       0.97      0.97      0.99      0.97      0.98      0.96        36\n",
      "          3       1.00      1.00      1.00      1.00      1.00      1.00        11\n",
      "          4       0.92      0.97      0.98      0.94      0.98      0.95        35\n",
      "\n",
      "avg / total       0.96      0.96      0.99      0.96      0.98      0.95       195\n",
      "\n"
     ]
    }
   ],
   "source": [
    "from imblearn.metrics import classification_report_imbalanced\n",
    "print(classification_report_imbalanced(l, y_prob))"
   ]
  },
  {
   "cell_type": "code",
   "execution_count": 32,
   "id": "35f12c57",
   "metadata": {
    "execution": {
     "iopub.execute_input": "2024-04-22T15:40:23.900471Z",
     "iopub.status.busy": "2024-04-22T15:40:23.900118Z",
     "iopub.status.idle": "2024-04-22T15:40:25.038459Z",
     "shell.execute_reply": "2024-04-22T15:40:25.037511Z"
    },
    "id": "QdaXXEvFDJKJ",
    "outputId": "f3c4dd51-486e-44cd-ff3d-5d6e7a9eb256",
    "papermill": {
     "duration": 1.46952,
     "end_time": "2024-04-22T15:40:25.040420",
     "exception": false,
     "start_time": "2024-04-22T15:40:23.570900",
     "status": "completed"
    },
    "tags": []
   },
   "outputs": [
    {
     "name": "stdout",
     "output_type": "stream",
     "text": [
      "\u001b[1m7/7\u001b[0m \u001b[32m━━━━━━━━━━━━━━━━━━━━\u001b[0m\u001b[37m\u001b[0m \u001b[1m1s\u001b[0m 154ms/step - acc: 0.9733 - auc: 0.9972 - f1_score: 0.9757 - loss: 0.0690\n"
     ]
    },
    {
     "name": "stderr",
     "output_type": "stream",
     "text": [
      "W0000 00:00:1713800425.011742      74 graph_launch.cc:671] Fallback to op-by-op mode because memset node breaks graph update\n"
     ]
    },
    {
     "data": {
      "text/plain": [
       "[0.09717544913291931,\n",
       " 0.964102566242218,\n",
       " 0.9961603879928589,\n",
       " 0.9665809273719788]"
      ]
     },
     "execution_count": 32,
     "metadata": {},
     "output_type": "execute_result"
    }
   ],
   "source": [
    "from keras.utils import to_categorical\n",
    "labels = to_categorical(l)\n",
    "model.evaluate(images, labels)"
   ]
  },
  {
   "cell_type": "code",
   "execution_count": 33,
   "id": "78694389",
   "metadata": {
    "execution": {
     "iopub.execute_input": "2024-04-22T15:40:25.702193Z",
     "iopub.status.busy": "2024-04-22T15:40:25.701432Z",
     "iopub.status.idle": "2024-04-22T15:40:26.801888Z",
     "shell.execute_reply": "2024-04-22T15:40:26.800720Z"
    },
    "id": "XREPQZ-SE05_",
    "papermill": {
     "duration": 1.42968,
     "end_time": "2024-04-22T15:40:26.804165",
     "exception": false,
     "start_time": "2024-04-22T15:40:25.374485",
     "status": "completed"
    },
    "tags": []
   },
   "outputs": [],
   "source": [
    "!rm -rf /kaggle/working/train /kaggle/working/test"
   ]
  },
  {
   "cell_type": "code",
   "execution_count": null,
   "id": "73482062",
   "metadata": {
    "papermill": {
     "duration": 0.328223,
     "end_time": "2024-04-22T15:40:27.464942",
     "exception": false,
     "start_time": "2024-04-22T15:40:27.136719",
     "status": "completed"
    },
    "tags": []
   },
   "outputs": [],
   "source": []
  }
 ],
 "metadata": {
  "accelerator": "GPU",
  "colab": {
   "gpuType": "T4",
   "provenance": []
  },
  "kaggle": {
   "accelerator": "nvidiaTeslaT4",
   "dataSources": [
    {
     "datasetId": 1161732,
     "sourceId": 1946782,
     "sourceType": "datasetVersion"
    }
   ],
   "dockerImageVersionId": 30699,
   "isGpuEnabled": true,
   "isInternetEnabled": false,
   "language": "python",
   "sourceType": "notebook"
  },
  "kernelspec": {
   "display_name": "Python 3",
   "language": "python",
   "name": "python3"
  },
  "language_info": {
   "codemirror_mode": {
    "name": "ipython",
    "version": 3
   },
   "file_extension": ".py",
   "mimetype": "text/x-python",
   "name": "python",
   "nbconvert_exporter": "python",
   "pygments_lexer": "ipython3",
   "version": "3.10.13"
  },
  "papermill": {
   "default_parameters": {},
   "duration": 655.760694,
   "end_time": "2024-04-22T15:40:30.789312",
   "environment_variables": {},
   "exception": null,
   "input_path": "__notebook__.ipynb",
   "output_path": "__notebook__.ipynb",
   "parameters": {},
   "start_time": "2024-04-22T15:29:35.028618",
   "version": "2.5.0"
  }
 },
 "nbformat": 4,
 "nbformat_minor": 5
}
