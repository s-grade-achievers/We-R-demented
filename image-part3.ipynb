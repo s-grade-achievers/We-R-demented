{
 "cells": [
  {
   "cell_type": "markdown",
   "id": "2f44492f",
   "metadata": {
    "id": "tSxMywSSAqoZ",
    "papermill": {
     "duration": 0.009936,
     "end_time": "2024-04-22T08:14:43.615776",
     "exception": false,
     "start_time": "2024-04-22T08:14:43.605840",
     "status": "completed"
    },
    "tags": []
   },
   "source": [
    "<a href=\"https://www.kaggle.com/code/pes1ug22am164/image-part?scriptVersionId=171996997\" target=\"_blank\"><img align=\"left\" alt=\"Kaggle\" title=\"Open in Kaggle\" src=\"https://kaggle.com/static/images/open-in-kaggle.svg\"></a>"
   ]
  },
  {
   "cell_type": "markdown",
   "id": "50eda990",
   "metadata": {
    "papermill": {
     "duration": 0.009291,
     "end_time": "2024-04-22T08:14:43.634737",
     "exception": false,
     "start_time": "2024-04-22T08:14:43.625446",
     "status": "completed"
    },
    "tags": []
   },
   "source": [
    "# uncomment on google colab, comment on kaggle."
   ]
  },
  {
   "cell_type": "code",
   "execution_count": 1,
   "id": "33f2c10a",
   "metadata": {
    "execution": {
     "iopub.execute_input": "2024-04-22T08:14:43.655225Z",
     "iopub.status.busy": "2024-04-22T08:14:43.654937Z",
     "iopub.status.idle": "2024-04-22T08:14:43.659354Z",
     "shell.execute_reply": "2024-04-22T08:14:43.658548Z"
    },
    "id": "c3OgJ45kAsP5",
    "outputId": "c0aef9b0-7577-4008-8523-b47d17d564fc",
    "papermill": {
     "duration": 0.017008,
     "end_time": "2024-04-22T08:14:43.661314",
     "exception": false,
     "start_time": "2024-04-22T08:14:43.644306",
     "status": "completed"
    },
    "tags": []
   },
   "outputs": [],
   "source": [
    "# !mkdir ~/.kaggle\n",
    "# from google.colab import files\n",
    "# files.upload()\n",
    "# !cp kaggle.json ~/.kaggle/\n",
    "# !chmod 600 ~/.kaggle/kaggle.json\n",
    "# !kaggle datasets download -d shusrith/betterer-preproc"
   ]
  },
  {
   "cell_type": "code",
   "execution_count": 2,
   "id": "caa25304",
   "metadata": {
    "execution": {
     "iopub.execute_input": "2024-04-22T08:14:43.681443Z",
     "iopub.status.busy": "2024-04-22T08:14:43.681176Z",
     "iopub.status.idle": "2024-04-22T08:14:43.684842Z",
     "shell.execute_reply": "2024-04-22T08:14:43.683992Z"
    },
    "id": "b5JdvvdFBNgq",
    "papermill": {
     "duration": 0.015877,
     "end_time": "2024-04-22T08:14:43.686791",
     "exception": false,
     "start_time": "2024-04-22T08:14:43.670914",
     "status": "completed"
    },
    "tags": []
   },
   "outputs": [],
   "source": [
    "# !unzip /content/betterer-preproc.zip"
   ]
  },
  {
   "cell_type": "code",
   "execution_count": 3,
   "id": "1c85bb21",
   "metadata": {
    "execution": {
     "iopub.execute_input": "2024-04-22T08:14:43.707109Z",
     "iopub.status.busy": "2024-04-22T08:14:43.706659Z",
     "iopub.status.idle": "2024-04-22T08:14:43.710213Z",
     "shell.execute_reply": "2024-04-22T08:14:43.709397Z"
    },
    "id": "AHRAoMKxDcX_",
    "outputId": "90c913aa-c653-459a-f009-7785fd86635b",
    "papermill": {
     "duration": 0.015801,
     "end_time": "2024-04-22T08:14:43.712071",
     "exception": false,
     "start_time": "2024-04-22T08:14:43.696270",
     "status": "completed"
    },
    "tags": []
   },
   "outputs": [],
   "source": [
    "# !kaggle datasets download -d tourist55/alzheimers-dataset-4-class-of-images"
   ]
  },
  {
   "cell_type": "code",
   "execution_count": 4,
   "id": "9dbfca80",
   "metadata": {
    "execution": {
     "iopub.execute_input": "2024-04-22T08:14:43.732744Z",
     "iopub.status.busy": "2024-04-22T08:14:43.732216Z",
     "iopub.status.idle": "2024-04-22T08:14:43.736222Z",
     "shell.execute_reply": "2024-04-22T08:14:43.735479Z"
    },
    "id": "ekFksVJEDeKl",
    "outputId": "e334ae0c-df10-4cb2-8db1-9ca48bc7c42c",
    "papermill": {
     "duration": 0.016415,
     "end_time": "2024-04-22T08:14:43.738078",
     "exception": false,
     "start_time": "2024-04-22T08:14:43.721663",
     "status": "completed"
    },
    "tags": []
   },
   "outputs": [],
   "source": [
    "# !unzip /content/alzheimers-dataset-4-class-of-images.zip"
   ]
  },
  {
   "cell_type": "code",
   "execution_count": 5,
   "id": "cf8c31db",
   "metadata": {
    "execution": {
     "iopub.execute_input": "2024-04-22T08:14:43.758684Z",
     "iopub.status.busy": "2024-04-22T08:14:43.758408Z",
     "iopub.status.idle": "2024-04-22T08:14:43.761759Z",
     "shell.execute_reply": "2024-04-22T08:14:43.760964Z"
    },
    "papermill": {
     "duration": 0.016081,
     "end_time": "2024-04-22T08:14:43.763650",
     "exception": false,
     "start_time": "2024-04-22T08:14:43.747569",
     "status": "completed"
    },
    "tags": []
   },
   "outputs": [],
   "source": [
    "# !rm -rf /kaggle/working/test"
   ]
  },
  {
   "cell_type": "markdown",
   "id": "279a2959",
   "metadata": {
    "id": "7cac8631",
    "papermill": {
     "duration": 0.009301,
     "end_time": "2024-04-22T08:14:43.782330",
     "exception": false,
     "start_time": "2024-04-22T08:14:43.773029",
     "status": "completed"
    },
    "tags": []
   },
   "source": [
    "# PRE PROCESS\n",
    ".JPG TO .NPY"
   ]
  },
  {
   "cell_type": "code",
   "execution_count": 6,
   "id": "befd03ea",
   "metadata": {
    "execution": {
     "iopub.execute_input": "2024-04-22T08:14:43.801407Z",
     "iopub.status.busy": "2024-04-22T08:14:43.801166Z",
     "iopub.status.idle": "2024-04-22T08:14:51.067813Z",
     "shell.execute_reply": "2024-04-22T08:14:51.066953Z"
    },
    "id": "Qk1z9nYFFLpb",
    "papermill": {
     "duration": 7.278742,
     "end_time": "2024-04-22T08:14:51.070100",
     "exception": false,
     "start_time": "2024-04-22T08:14:43.791358",
     "status": "completed"
    },
    "tags": []
   },
   "outputs": [],
   "source": [
    "import os\n",
    "import cv2\n",
    "import numpy as np\n",
    "\n",
    "def jpg_to_npy_in_folders(input_folder, output_folder):\n",
    "    os.makedirs(output_folder, exist_ok=True)\n",
    "    for i, item in enumerate(os.listdir(input_folder)):\n",
    "        item_path = os.path.join(input_folder, item)\n",
    "        if os.path.isdir(item_path):\n",
    "            jpg_to_npy_in_folders(item_path, output_folder)\n",
    "        elif os.path.isfile(item_path) and item.endswith(\".jpg\"):\n",
    "            img = cv2.imread(item_path)\n",
    "            img = cv2.resize(img, (256, 256)) \n",
    "            img_array = np.array(img)\n",
    "            folder = input_folder.split(\"/\")[-1]\n",
    "            output_file_path = os.path.join(output_folder, f\"{folder}{i}.npy\")\n",
    "            np.save(output_file_path, img_array)\n",
    "\n",
    "input_folder_path = \"/kaggle/input/alzheimersdisease5classdatasetadni/Alzheimers-ADNI/train\"\n",
    "output_folder_path = \"/kaggle/working/train\"\n",
    "\n",
    "jpg_to_npy_in_folders(input_folder_path, output_folder_path)\n",
    "\n"
   ]
  },
  {
   "cell_type": "code",
   "execution_count": 7,
   "id": "e8899ba5",
   "metadata": {
    "_cell_guid": "b1076dfc-b9ad-4769-8c92-a6c4dae69d19",
    "_uuid": "8f2839f25d086af736a60e9eeb907d3b93b6e0e5",
    "execution": {
     "iopub.execute_input": "2024-04-22T08:14:51.090688Z",
     "iopub.status.busy": "2024-04-22T08:14:51.090363Z",
     "iopub.status.idle": "2024-04-22T08:14:52.301381Z",
     "shell.execute_reply": "2024-04-22T08:14:52.300655Z"
    },
    "id": "098412aa",
    "papermill": {
     "duration": 1.22377,
     "end_time": "2024-04-22T08:14:52.303755",
     "exception": false,
     "start_time": "2024-04-22T08:14:51.079985",
     "status": "completed"
    },
    "tags": []
   },
   "outputs": [],
   "source": [
    "import os\n",
    "import cv2\n",
    "import numpy as np\n",
    "\n",
    "def jpg_to_npy_in_folders(input_folder, output_folder):\n",
    "    os.makedirs(output_folder, exist_ok=True)\n",
    "    for i, item in enumerate(os.listdir(input_folder)):\n",
    "        item_path = os.path.join(input_folder, item)\n",
    "        if os.path.isdir(item_path):\n",
    "            jpg_to_npy_in_folders(item_path, output_folder)\n",
    "        elif os.path.isfile(item_path) and item.endswith(\".jpg\"):\n",
    "            img = cv2.imread(item_path)\n",
    "            img = cv2.resize(img, (256, 256))\n",
    "            img_array = np.array(img)\n",
    "            folder = input_folder.split(\"/\")[-1]\n",
    "            output_file_path = os.path.join(output_folder, f\"{folder}{i}.npy\")\n",
    "            np.save(output_file_path, img_array)\n",
    "\n",
    "jpg_to_npy_in_folders(\"/kaggle/input/alzheimersdisease5classdatasetadni/Alzheimers-ADNI/test\", \"/kaggle/working/test\")\n",
    "\n"
   ]
  },
  {
   "cell_type": "code",
   "execution_count": 8,
   "id": "933c2fc0",
   "metadata": {
    "execution": {
     "iopub.execute_input": "2024-04-22T08:14:52.324283Z",
     "iopub.status.busy": "2024-04-22T08:14:52.324004Z",
     "iopub.status.idle": "2024-04-22T08:14:52.332842Z",
     "shell.execute_reply": "2024-04-22T08:14:52.331924Z"
    },
    "id": "10a3d79a",
    "outputId": "0786a7b1-1cb0-4836-d0c3-bd938085cea1",
    "papermill": {
     "duration": 0.021732,
     "end_time": "2024-04-22T08:14:52.335132",
     "exception": false,
     "start_time": "2024-04-22T08:14:52.313400",
     "status": "completed"
    },
    "tags": []
   },
   "outputs": [
    {
     "data": {
      "text/plain": [
       "1101"
      ]
     },
     "execution_count": 8,
     "metadata": {},
     "output_type": "execute_result"
    }
   ],
   "source": [
    "import os\n",
    "import numpy as np\n",
    "directory = '/kaggle/working/train'\n",
    "\n",
    "files = [file for file in os.listdir(directory) if file.endswith('.npy')]\n",
    "len(files)\n"
   ]
  },
  {
   "cell_type": "code",
   "execution_count": 9,
   "id": "9dde1d50",
   "metadata": {
    "execution": {
     "iopub.execute_input": "2024-04-22T08:14:52.356008Z",
     "iopub.status.busy": "2024-04-22T08:14:52.355201Z",
     "iopub.status.idle": "2024-04-22T08:14:52.362455Z",
     "shell.execute_reply": "2024-04-22T08:14:52.361526Z"
    },
    "id": "8426e2b0",
    "outputId": "33bd33e9-420e-4f14-fb28-169e9b52369d",
    "papermill": {
     "duration": 0.019612,
     "end_time": "2024-04-22T08:14:52.364335",
     "exception": false,
     "start_time": "2024-04-22T08:14:52.344723",
     "status": "completed"
    },
    "tags": []
   },
   "outputs": [
    {
     "name": "stdout",
     "output_type": "stream",
     "text": [
      "145 493 204 61 198\n"
     ]
    }
   ],
   "source": [
    "ad = [i for i in files if \"AD\" in i]\n",
    "cn = [i for i in files if \"CN\" in i]\n",
    "emci = [i for i in files if \"EMCI\" in i]\n",
    "lmci = [i for i in files if \"LMCI\" in i]\n",
    "mci = [i for i in files if \" MCI \" in i]\n",
    "print(len(ad), len(cn), len(emci), len(lmci), len(mci))"
   ]
  },
  {
   "cell_type": "code",
   "execution_count": 10,
   "id": "b3a515bd",
   "metadata": {
    "execution": {
     "iopub.execute_input": "2024-04-22T08:14:52.385102Z",
     "iopub.status.busy": "2024-04-22T08:14:52.384846Z",
     "iopub.status.idle": "2024-04-22T08:14:53.236285Z",
     "shell.execute_reply": "2024-04-22T08:14:53.235371Z"
    },
    "id": "6da1451b",
    "outputId": "1d39f7e2-d8a3-4381-e7a1-8441fa0702eb",
    "papermill": {
     "duration": 0.864314,
     "end_time": "2024-04-22T08:14:53.238665",
     "exception": false,
     "start_time": "2024-04-22T08:14:52.374351",
     "status": "completed"
    },
    "tags": []
   },
   "outputs": [],
   "source": [
    "import pandas as pd\n",
    "l = [[ad, 0], [cn, 1], [emci, 2], [lmci, 3], [mci, 4]]\n",
    "x = []\n",
    "for i in l:\n",
    "    for j in i[0]:\n",
    "        path = os.path.join(\"/kaggle/working/train\", j)\n",
    "        x.append([i[1], path])\n",
    "\n",
    "df = pd.DataFrame(x, columns=[\"Class\", \"Path\"])\n"
   ]
  },
  {
   "cell_type": "code",
   "execution_count": 11,
   "id": "94339cad",
   "metadata": {
    "execution": {
     "iopub.execute_input": "2024-04-22T08:14:53.258889Z",
     "iopub.status.busy": "2024-04-22T08:14:53.258492Z",
     "iopub.status.idle": "2024-04-22T08:14:53.428365Z",
     "shell.execute_reply": "2024-04-22T08:14:53.427527Z"
    },
    "papermill": {
     "duration": 0.182014,
     "end_time": "2024-04-22T08:14:53.430422",
     "exception": false,
     "start_time": "2024-04-22T08:14:53.248408",
     "status": "completed"
    },
    "tags": []
   },
   "outputs": [
    {
     "data": {
      "text/plain": [
       "[]"
      ]
     },
     "execution_count": 11,
     "metadata": {},
     "output_type": "execute_result"
    }
   ],
   "source": [
    "toreshape = []\n",
    "for j, i in enumerate(df[\"Path\"]):\n",
    "    if np.load(i).shape != (256, 256, 3):\n",
    "        toreshape.append(j)\n",
    "toreshape"
   ]
  },
  {
   "cell_type": "code",
   "execution_count": 12,
   "id": "35e5b192",
   "metadata": {
    "execution": {
     "iopub.execute_input": "2024-04-22T08:14:53.451609Z",
     "iopub.status.busy": "2024-04-22T08:14:53.450913Z",
     "iopub.status.idle": "2024-04-22T08:14:55.141988Z",
     "shell.execute_reply": "2024-04-22T08:14:55.140945Z"
    },
    "papermill": {
     "duration": 1.703993,
     "end_time": "2024-04-22T08:14:55.144254",
     "exception": false,
     "start_time": "2024-04-22T08:14:53.440261",
     "status": "completed"
    },
    "tags": []
   },
   "outputs": [
    {
     "data": {
      "text/html": [
       "<div>\n",
       "<style scoped>\n",
       "    .dataframe tbody tr th:only-of-type {\n",
       "        vertical-align: middle;\n",
       "    }\n",
       "\n",
       "    .dataframe tbody tr th {\n",
       "        vertical-align: top;\n",
       "    }\n",
       "\n",
       "    .dataframe thead th {\n",
       "        text-align: right;\n",
       "    }\n",
       "</style>\n",
       "<table border=\"1\" class=\"dataframe\">\n",
       "  <thead>\n",
       "    <tr style=\"text-align: right;\">\n",
       "      <th></th>\n",
       "      <th>Path</th>\n",
       "      <th>Class</th>\n",
       "    </tr>\n",
       "  </thead>\n",
       "  <tbody>\n",
       "    <tr>\n",
       "      <th>0</th>\n",
       "      <td>/kaggle/working/train/Final AD JPEG48.npy</td>\n",
       "      <td>0</td>\n",
       "    </tr>\n",
       "    <tr>\n",
       "      <th>1</th>\n",
       "      <td>/kaggle/working/train/Final AD JPEG95.npy</td>\n",
       "      <td>0</td>\n",
       "    </tr>\n",
       "    <tr>\n",
       "      <th>2</th>\n",
       "      <td>/kaggle/working/train/Final AD JPEG113.npy</td>\n",
       "      <td>0</td>\n",
       "    </tr>\n",
       "    <tr>\n",
       "      <th>3</th>\n",
       "      <td>/kaggle/working/train/Final AD JPEG117.npy</td>\n",
       "      <td>0</td>\n",
       "    </tr>\n",
       "    <tr>\n",
       "      <th>4</th>\n",
       "      <td>/kaggle/working/train/Final AD JPEG31.npy</td>\n",
       "      <td>0</td>\n",
       "    </tr>\n",
       "    <tr>\n",
       "      <th>...</th>\n",
       "      <td>...</td>\n",
       "      <td>...</td>\n",
       "    </tr>\n",
       "    <tr>\n",
       "      <th>2460</th>\n",
       "      <td>/kaggle/working/train/Final MCI JPEG89.npy</td>\n",
       "      <td>4</td>\n",
       "    </tr>\n",
       "    <tr>\n",
       "      <th>2461</th>\n",
       "      <td>/kaggle/working/train/Final MCI JPEG11.npy</td>\n",
       "      <td>4</td>\n",
       "    </tr>\n",
       "    <tr>\n",
       "      <th>2462</th>\n",
       "      <td>/kaggle/working/train/Final MCI JPEG166.npy</td>\n",
       "      <td>4</td>\n",
       "    </tr>\n",
       "    <tr>\n",
       "      <th>2463</th>\n",
       "      <td>/kaggle/working/train/Final MCI JPEG123.npy</td>\n",
       "      <td>4</td>\n",
       "    </tr>\n",
       "    <tr>\n",
       "      <th>2464</th>\n",
       "      <td>/kaggle/working/train/Final MCI JPEG26.npy</td>\n",
       "      <td>4</td>\n",
       "    </tr>\n",
       "  </tbody>\n",
       "</table>\n",
       "<p>2465 rows × 2 columns</p>\n",
       "</div>"
      ],
      "text/plain": [
       "                                             Path  Class\n",
       "0       /kaggle/working/train/Final AD JPEG48.npy      0\n",
       "1       /kaggle/working/train/Final AD JPEG95.npy      0\n",
       "2      /kaggle/working/train/Final AD JPEG113.npy      0\n",
       "3      /kaggle/working/train/Final AD JPEG117.npy      0\n",
       "4       /kaggle/working/train/Final AD JPEG31.npy      0\n",
       "...                                           ...    ...\n",
       "2460   /kaggle/working/train/Final MCI JPEG89.npy      4\n",
       "2461   /kaggle/working/train/Final MCI JPEG11.npy      4\n",
       "2462  /kaggle/working/train/Final MCI JPEG166.npy      4\n",
       "2463  /kaggle/working/train/Final MCI JPEG123.npy      4\n",
       "2464   /kaggle/working/train/Final MCI JPEG26.npy      4\n",
       "\n",
       "[2465 rows x 2 columns]"
      ]
     },
     "execution_count": 12,
     "metadata": {},
     "output_type": "execute_result"
    }
   ],
   "source": [
    "from imblearn.over_sampling import RandomOverSampler\n",
    "path = np.array(df[\"Path\"]).reshape(-1, 1)\n",
    "classes = np.array(df[\"Class\"]).reshape(-1, 1)\n",
    "ros = RandomOverSampler(random_state=42)\n",
    "paths, oversampled_labels = ros.fit_resample(path, classes)\n",
    "df = pd.DataFrame({\n",
    "    'Path': paths.flatten(),\n",
    "    'Class': oversampled_labels\n",
    "})\n",
    "df\n"
   ]
  },
  {
   "cell_type": "code",
   "execution_count": 13,
   "id": "0161cb58",
   "metadata": {
    "execution": {
     "iopub.execute_input": "2024-04-22T08:14:55.166471Z",
     "iopub.status.busy": "2024-04-22T08:14:55.166092Z",
     "iopub.status.idle": "2024-04-22T08:43:27.403421Z",
     "shell.execute_reply": "2024-04-22T08:43:27.402645Z"
    },
    "id": "70413197",
    "papermill": {
     "duration": 1712.250517,
     "end_time": "2024-04-22T08:43:27.405692",
     "exception": false,
     "start_time": "2024-04-22T08:14:55.155175",
     "status": "completed"
    },
    "tags": []
   },
   "outputs": [
    {
     "name": "stdout",
     "output_type": "stream",
     "text": [
      "0\n",
      "50\n",
      "100\n",
      "150\n",
      "200\n",
      "250\n",
      "300\n",
      "350\n",
      "400\n",
      "450\n",
      "500\n",
      "550\n",
      "600\n",
      "650\n",
      "700\n",
      "750\n",
      "800\n",
      "850\n",
      "900\n",
      "950\n",
      "1000\n",
      "1050\n",
      "1100\n",
      "1150\n",
      "1200\n",
      "1250\n",
      "1300\n",
      "1350\n",
      "1400\n",
      "1450\n",
      "1500\n",
      "1550\n",
      "1600\n",
      "1650\n",
      "1700\n",
      "1750\n",
      "1800\n",
      "1850\n",
      "1900\n",
      "1950\n",
      "2000\n",
      "2050\n",
      "2100\n",
      "2150\n",
      "2200\n",
      "2250\n",
      "2300\n",
      "2350\n",
      "2400\n",
      "2450\n"
     ]
    }
   ],
   "source": [
    "import numpy as np\n",
    "\n",
    "images = np.array([])  \n",
    "for j, i in enumerate(df[\"Path\"]):\n",
    "    loaded_array = np.load(i)\n",
    "    if j % 50 == 0:\n",
    "        print(j)\n",
    "    images = np.append(images, loaded_array)  \n"
   ]
  },
  {
   "cell_type": "code",
   "execution_count": 14,
   "id": "ae8158b7",
   "metadata": {
    "execution": {
     "iopub.execute_input": "2024-04-22T08:43:27.434409Z",
     "iopub.status.busy": "2024-04-22T08:43:27.434136Z",
     "iopub.status.idle": "2024-04-22T08:43:27.447745Z",
     "shell.execute_reply": "2024-04-22T08:43:27.446916Z"
    },
    "papermill": {
     "duration": 0.030065,
     "end_time": "2024-04-22T08:43:27.449681",
     "exception": false,
     "start_time": "2024-04-22T08:43:27.419616",
     "status": "completed"
    },
    "tags": []
   },
   "outputs": [
    {
     "data": {
      "text/plain": [
       "Class\n",
       "0    493\n",
       "1    493\n",
       "2    493\n",
       "3    493\n",
       "4    493\n",
       "Name: count, dtype: int64"
      ]
     },
     "execution_count": 14,
     "metadata": {},
     "output_type": "execute_result"
    }
   ],
   "source": [
    "x = df[\"Class\"].value_counts()\n",
    "x"
   ]
  },
  {
   "cell_type": "code",
   "execution_count": 15,
   "id": "8cfc6f0b",
   "metadata": {
    "execution": {
     "iopub.execute_input": "2024-04-22T08:43:27.479337Z",
     "iopub.status.busy": "2024-04-22T08:43:27.479098Z",
     "iopub.status.idle": "2024-04-22T08:43:27.482917Z",
     "shell.execute_reply": "2024-04-22T08:43:27.482093Z"
    },
    "papermill": {
     "duration": 0.020613,
     "end_time": "2024-04-22T08:43:27.484765",
     "exception": false,
     "start_time": "2024-04-22T08:43:27.464152",
     "status": "completed"
    },
    "tags": []
   },
   "outputs": [],
   "source": [
    "images = images.reshape((2465, 256, 256, 3))"
   ]
  },
  {
   "cell_type": "code",
   "execution_count": 16,
   "id": "aba3b885",
   "metadata": {
    "execution": {
     "iopub.execute_input": "2024-04-22T08:43:27.513124Z",
     "iopub.status.busy": "2024-04-22T08:43:27.512677Z",
     "iopub.status.idle": "2024-04-22T08:43:28.612228Z",
     "shell.execute_reply": "2024-04-22T08:43:28.611410Z"
    },
    "id": "b71f6071",
    "papermill": {
     "duration": 1.116431,
     "end_time": "2024-04-22T08:43:28.614728",
     "exception": false,
     "start_time": "2024-04-22T08:43:27.498297",
     "status": "completed"
    },
    "tags": []
   },
   "outputs": [],
   "source": [
    "from sklearn.model_selection import train_test_split\n",
    "labels = np.array(df[\"Class\"])\n",
    "train_images, test_images, train_labels, test_labels = train_test_split(images, labels, test_size=0.2, random_state=42)\n"
   ]
  },
  {
   "cell_type": "code",
   "execution_count": 17,
   "id": "ee71d8bd",
   "metadata": {
    "execution": {
     "iopub.execute_input": "2024-04-22T08:43:28.644752Z",
     "iopub.status.busy": "2024-04-22T08:43:28.644445Z",
     "iopub.status.idle": "2024-04-22T08:43:28.649120Z",
     "shell.execute_reply": "2024-04-22T08:43:28.648234Z"
    },
    "id": "44d84028",
    "outputId": "918e6ba2-22a9-4534-fb86-c4248cc28470",
    "papermill": {
     "duration": 0.021729,
     "end_time": "2024-04-22T08:43:28.651191",
     "exception": false,
     "start_time": "2024-04-22T08:43:28.629462",
     "status": "completed"
    },
    "tags": []
   },
   "outputs": [
    {
     "name": "stdout",
     "output_type": "stream",
     "text": [
      "(1972, 256, 256, 3) (493, 256, 256, 3) (1972,) (493,)\n"
     ]
    }
   ],
   "source": [
    "print(train_images.shape, test_images.shape, train_labels.shape, test_labels.shape)"
   ]
  },
  {
   "cell_type": "code",
   "execution_count": 18,
   "id": "1270ea4c",
   "metadata": {
    "execution": {
     "iopub.execute_input": "2024-04-22T08:43:28.681697Z",
     "iopub.status.busy": "2024-04-22T08:43:28.680826Z",
     "iopub.status.idle": "2024-04-22T08:43:42.382857Z",
     "shell.execute_reply": "2024-04-22T08:43:42.381951Z"
    },
    "id": "58759ed5",
    "papermill": {
     "duration": 13.71937,
     "end_time": "2024-04-22T08:43:42.384926",
     "exception": false,
     "start_time": "2024-04-22T08:43:28.665556",
     "status": "completed"
    },
    "tags": []
   },
   "outputs": [
    {
     "name": "stderr",
     "output_type": "stream",
     "text": [
      "2024-04-22 08:43:30.835619: E external/local_xla/xla/stream_executor/cuda/cuda_dnn.cc:9261] Unable to register cuDNN factory: Attempting to register factory for plugin cuDNN when one has already been registered\n",
      "2024-04-22 08:43:30.835750: E external/local_xla/xla/stream_executor/cuda/cuda_fft.cc:607] Unable to register cuFFT factory: Attempting to register factory for plugin cuFFT when one has already been registered\n",
      "2024-04-22 08:43:30.994809: E external/local_xla/xla/stream_executor/cuda/cuda_blas.cc:1515] Unable to register cuBLAS factory: Attempting to register factory for plugin cuBLAS when one has already been registered\n"
     ]
    },
    {
     "data": {
      "text/html": [
       "<pre style=\"white-space:pre;overflow-x:auto;line-height:normal;font-family:Menlo,'DejaVu Sans Mono',consolas,'Courier New',monospace\"><span style=\"font-weight: bold\">Model: \"sequential\"</span>\n",
       "</pre>\n"
      ],
      "text/plain": [
       "\u001b[1mModel: \"sequential\"\u001b[0m\n"
      ]
     },
     "metadata": {},
     "output_type": "display_data"
    },
    {
     "data": {
      "text/html": [
       "<pre style=\"white-space:pre;overflow-x:auto;line-height:normal;font-family:Menlo,'DejaVu Sans Mono',consolas,'Courier New',monospace\">┏━━━━━━━━━━━━━━━━━━━━━━━━━━━━━━━━━┳━━━━━━━━━━━━━━━━━━━━━━━━┳━━━━━━━━━━━━━━━┓\n",
       "┃<span style=\"font-weight: bold\"> Layer (type)                    </span>┃<span style=\"font-weight: bold\"> Output Shape           </span>┃<span style=\"font-weight: bold\">       Param # </span>┃\n",
       "┡━━━━━━━━━━━━━━━━━━━━━━━━━━━━━━━━━╇━━━━━━━━━━━━━━━━━━━━━━━━╇━━━━━━━━━━━━━━━┩\n",
       "│ conv2d (<span style=\"color: #0087ff; text-decoration-color: #0087ff\">Conv2D</span>)                 │ (<span style=\"color: #00d7ff; text-decoration-color: #00d7ff\">None</span>, <span style=\"color: #00af00; text-decoration-color: #00af00\">254</span>, <span style=\"color: #00af00; text-decoration-color: #00af00\">254</span>, <span style=\"color: #00af00; text-decoration-color: #00af00\">64</span>)   │         <span style=\"color: #00af00; text-decoration-color: #00af00\">1,792</span> │\n",
       "├─────────────────────────────────┼────────────────────────┼───────────────┤\n",
       "│ max_pooling2d (<span style=\"color: #0087ff; text-decoration-color: #0087ff\">MaxPooling2D</span>)    │ (<span style=\"color: #00d7ff; text-decoration-color: #00d7ff\">None</span>, <span style=\"color: #00af00; text-decoration-color: #00af00\">127</span>, <span style=\"color: #00af00; text-decoration-color: #00af00\">127</span>, <span style=\"color: #00af00; text-decoration-color: #00af00\">64</span>)   │             <span style=\"color: #00af00; text-decoration-color: #00af00\">0</span> │\n",
       "├─────────────────────────────────┼────────────────────────┼───────────────┤\n",
       "│ conv2d_1 (<span style=\"color: #0087ff; text-decoration-color: #0087ff\">Conv2D</span>)               │ (<span style=\"color: #00d7ff; text-decoration-color: #00d7ff\">None</span>, <span style=\"color: #00af00; text-decoration-color: #00af00\">125</span>, <span style=\"color: #00af00; text-decoration-color: #00af00\">125</span>, <span style=\"color: #00af00; text-decoration-color: #00af00\">128</span>)  │        <span style=\"color: #00af00; text-decoration-color: #00af00\">73,856</span> │\n",
       "├─────────────────────────────────┼────────────────────────┼───────────────┤\n",
       "│ max_pooling2d_1 (<span style=\"color: #0087ff; text-decoration-color: #0087ff\">MaxPooling2D</span>)  │ (<span style=\"color: #00d7ff; text-decoration-color: #00d7ff\">None</span>, <span style=\"color: #00af00; text-decoration-color: #00af00\">62</span>, <span style=\"color: #00af00; text-decoration-color: #00af00\">62</span>, <span style=\"color: #00af00; text-decoration-color: #00af00\">128</span>)    │             <span style=\"color: #00af00; text-decoration-color: #00af00\">0</span> │\n",
       "├─────────────────────────────────┼────────────────────────┼───────────────┤\n",
       "│ conv2d_2 (<span style=\"color: #0087ff; text-decoration-color: #0087ff\">Conv2D</span>)               │ (<span style=\"color: #00d7ff; text-decoration-color: #00d7ff\">None</span>, <span style=\"color: #00af00; text-decoration-color: #00af00\">60</span>, <span style=\"color: #00af00; text-decoration-color: #00af00\">60</span>, <span style=\"color: #00af00; text-decoration-color: #00af00\">256</span>)    │       <span style=\"color: #00af00; text-decoration-color: #00af00\">295,168</span> │\n",
       "├─────────────────────────────────┼────────────────────────┼───────────────┤\n",
       "│ max_pooling2d_2 (<span style=\"color: #0087ff; text-decoration-color: #0087ff\">MaxPooling2D</span>)  │ (<span style=\"color: #00d7ff; text-decoration-color: #00d7ff\">None</span>, <span style=\"color: #00af00; text-decoration-color: #00af00\">30</span>, <span style=\"color: #00af00; text-decoration-color: #00af00\">30</span>, <span style=\"color: #00af00; text-decoration-color: #00af00\">256</span>)    │             <span style=\"color: #00af00; text-decoration-color: #00af00\">0</span> │\n",
       "├─────────────────────────────────┼────────────────────────┼───────────────┤\n",
       "│ dropout (<span style=\"color: #0087ff; text-decoration-color: #0087ff\">Dropout</span>)               │ (<span style=\"color: #00d7ff; text-decoration-color: #00d7ff\">None</span>, <span style=\"color: #00af00; text-decoration-color: #00af00\">30</span>, <span style=\"color: #00af00; text-decoration-color: #00af00\">30</span>, <span style=\"color: #00af00; text-decoration-color: #00af00\">256</span>)    │             <span style=\"color: #00af00; text-decoration-color: #00af00\">0</span> │\n",
       "├─────────────────────────────────┼────────────────────────┼───────────────┤\n",
       "│ flatten (<span style=\"color: #0087ff; text-decoration-color: #0087ff\">Flatten</span>)               │ (<span style=\"color: #00d7ff; text-decoration-color: #00d7ff\">None</span>, <span style=\"color: #00af00; text-decoration-color: #00af00\">230400</span>)         │             <span style=\"color: #00af00; text-decoration-color: #00af00\">0</span> │\n",
       "├─────────────────────────────────┼────────────────────────┼───────────────┤\n",
       "│ dense (<span style=\"color: #0087ff; text-decoration-color: #0087ff\">Dense</span>)                   │ (<span style=\"color: #00d7ff; text-decoration-color: #00d7ff\">None</span>, <span style=\"color: #00af00; text-decoration-color: #00af00\">512</span>)            │   <span style=\"color: #00af00; text-decoration-color: #00af00\">117,965,312</span> │\n",
       "├─────────────────────────────────┼────────────────────────┼───────────────┤\n",
       "│ dropout_1 (<span style=\"color: #0087ff; text-decoration-color: #0087ff\">Dropout</span>)             │ (<span style=\"color: #00d7ff; text-decoration-color: #00d7ff\">None</span>, <span style=\"color: #00af00; text-decoration-color: #00af00\">512</span>)            │             <span style=\"color: #00af00; text-decoration-color: #00af00\">0</span> │\n",
       "├─────────────────────────────────┼────────────────────────┼───────────────┤\n",
       "│ dense_1 (<span style=\"color: #0087ff; text-decoration-color: #0087ff\">Dense</span>)                 │ (<span style=\"color: #00d7ff; text-decoration-color: #00d7ff\">None</span>, <span style=\"color: #00af00; text-decoration-color: #00af00\">128</span>)            │        <span style=\"color: #00af00; text-decoration-color: #00af00\">65,664</span> │\n",
       "├─────────────────────────────────┼────────────────────────┼───────────────┤\n",
       "│ dropout_2 (<span style=\"color: #0087ff; text-decoration-color: #0087ff\">Dropout</span>)             │ (<span style=\"color: #00d7ff; text-decoration-color: #00d7ff\">None</span>, <span style=\"color: #00af00; text-decoration-color: #00af00\">128</span>)            │             <span style=\"color: #00af00; text-decoration-color: #00af00\">0</span> │\n",
       "├─────────────────────────────────┼────────────────────────┼───────────────┤\n",
       "│ dense_2 (<span style=\"color: #0087ff; text-decoration-color: #0087ff\">Dense</span>)                 │ (<span style=\"color: #00d7ff; text-decoration-color: #00d7ff\">None</span>, <span style=\"color: #00af00; text-decoration-color: #00af00\">5</span>)              │           <span style=\"color: #00af00; text-decoration-color: #00af00\">645</span> │\n",
       "└─────────────────────────────────┴────────────────────────┴───────────────┘\n",
       "</pre>\n"
      ],
      "text/plain": [
       "┏━━━━━━━━━━━━━━━━━━━━━━━━━━━━━━━━━┳━━━━━━━━━━━━━━━━━━━━━━━━┳━━━━━━━━━━━━━━━┓\n",
       "┃\u001b[1m \u001b[0m\u001b[1mLayer (type)                   \u001b[0m\u001b[1m \u001b[0m┃\u001b[1m \u001b[0m\u001b[1mOutput Shape          \u001b[0m\u001b[1m \u001b[0m┃\u001b[1m \u001b[0m\u001b[1m      Param #\u001b[0m\u001b[1m \u001b[0m┃\n",
       "┡━━━━━━━━━━━━━━━━━━━━━━━━━━━━━━━━━╇━━━━━━━━━━━━━━━━━━━━━━━━╇━━━━━━━━━━━━━━━┩\n",
       "│ conv2d (\u001b[38;5;33mConv2D\u001b[0m)                 │ (\u001b[38;5;45mNone\u001b[0m, \u001b[38;5;34m254\u001b[0m, \u001b[38;5;34m254\u001b[0m, \u001b[38;5;34m64\u001b[0m)   │         \u001b[38;5;34m1,792\u001b[0m │\n",
       "├─────────────────────────────────┼────────────────────────┼───────────────┤\n",
       "│ max_pooling2d (\u001b[38;5;33mMaxPooling2D\u001b[0m)    │ (\u001b[38;5;45mNone\u001b[0m, \u001b[38;5;34m127\u001b[0m, \u001b[38;5;34m127\u001b[0m, \u001b[38;5;34m64\u001b[0m)   │             \u001b[38;5;34m0\u001b[0m │\n",
       "├─────────────────────────────────┼────────────────────────┼───────────────┤\n",
       "│ conv2d_1 (\u001b[38;5;33mConv2D\u001b[0m)               │ (\u001b[38;5;45mNone\u001b[0m, \u001b[38;5;34m125\u001b[0m, \u001b[38;5;34m125\u001b[0m, \u001b[38;5;34m128\u001b[0m)  │        \u001b[38;5;34m73,856\u001b[0m │\n",
       "├─────────────────────────────────┼────────────────────────┼───────────────┤\n",
       "│ max_pooling2d_1 (\u001b[38;5;33mMaxPooling2D\u001b[0m)  │ (\u001b[38;5;45mNone\u001b[0m, \u001b[38;5;34m62\u001b[0m, \u001b[38;5;34m62\u001b[0m, \u001b[38;5;34m128\u001b[0m)    │             \u001b[38;5;34m0\u001b[0m │\n",
       "├─────────────────────────────────┼────────────────────────┼───────────────┤\n",
       "│ conv2d_2 (\u001b[38;5;33mConv2D\u001b[0m)               │ (\u001b[38;5;45mNone\u001b[0m, \u001b[38;5;34m60\u001b[0m, \u001b[38;5;34m60\u001b[0m, \u001b[38;5;34m256\u001b[0m)    │       \u001b[38;5;34m295,168\u001b[0m │\n",
       "├─────────────────────────────────┼────────────────────────┼───────────────┤\n",
       "│ max_pooling2d_2 (\u001b[38;5;33mMaxPooling2D\u001b[0m)  │ (\u001b[38;5;45mNone\u001b[0m, \u001b[38;5;34m30\u001b[0m, \u001b[38;5;34m30\u001b[0m, \u001b[38;5;34m256\u001b[0m)    │             \u001b[38;5;34m0\u001b[0m │\n",
       "├─────────────────────────────────┼────────────────────────┼───────────────┤\n",
       "│ dropout (\u001b[38;5;33mDropout\u001b[0m)               │ (\u001b[38;5;45mNone\u001b[0m, \u001b[38;5;34m30\u001b[0m, \u001b[38;5;34m30\u001b[0m, \u001b[38;5;34m256\u001b[0m)    │             \u001b[38;5;34m0\u001b[0m │\n",
       "├─────────────────────────────────┼────────────────────────┼───────────────┤\n",
       "│ flatten (\u001b[38;5;33mFlatten\u001b[0m)               │ (\u001b[38;5;45mNone\u001b[0m, \u001b[38;5;34m230400\u001b[0m)         │             \u001b[38;5;34m0\u001b[0m │\n",
       "├─────────────────────────────────┼────────────────────────┼───────────────┤\n",
       "│ dense (\u001b[38;5;33mDense\u001b[0m)                   │ (\u001b[38;5;45mNone\u001b[0m, \u001b[38;5;34m512\u001b[0m)            │   \u001b[38;5;34m117,965,312\u001b[0m │\n",
       "├─────────────────────────────────┼────────────────────────┼───────────────┤\n",
       "│ dropout_1 (\u001b[38;5;33mDropout\u001b[0m)             │ (\u001b[38;5;45mNone\u001b[0m, \u001b[38;5;34m512\u001b[0m)            │             \u001b[38;5;34m0\u001b[0m │\n",
       "├─────────────────────────────────┼────────────────────────┼───────────────┤\n",
       "│ dense_1 (\u001b[38;5;33mDense\u001b[0m)                 │ (\u001b[38;5;45mNone\u001b[0m, \u001b[38;5;34m128\u001b[0m)            │        \u001b[38;5;34m65,664\u001b[0m │\n",
       "├─────────────────────────────────┼────────────────────────┼───────────────┤\n",
       "│ dropout_2 (\u001b[38;5;33mDropout\u001b[0m)             │ (\u001b[38;5;45mNone\u001b[0m, \u001b[38;5;34m128\u001b[0m)            │             \u001b[38;5;34m0\u001b[0m │\n",
       "├─────────────────────────────────┼────────────────────────┼───────────────┤\n",
       "│ dense_2 (\u001b[38;5;33mDense\u001b[0m)                 │ (\u001b[38;5;45mNone\u001b[0m, \u001b[38;5;34m5\u001b[0m)              │           \u001b[38;5;34m645\u001b[0m │\n",
       "└─────────────────────────────────┴────────────────────────┴───────────────┘\n"
      ]
     },
     "metadata": {},
     "output_type": "display_data"
    },
    {
     "data": {
      "text/html": [
       "<pre style=\"white-space:pre;overflow-x:auto;line-height:normal;font-family:Menlo,'DejaVu Sans Mono',consolas,'Courier New',monospace\"><span style=\"font-weight: bold\"> Total params: </span><span style=\"color: #00af00; text-decoration-color: #00af00\">118,402,437</span> (451.67 MB)\n",
       "</pre>\n"
      ],
      "text/plain": [
       "\u001b[1m Total params: \u001b[0m\u001b[38;5;34m118,402,437\u001b[0m (451.67 MB)\n"
      ]
     },
     "metadata": {},
     "output_type": "display_data"
    },
    {
     "data": {
      "text/html": [
       "<pre style=\"white-space:pre;overflow-x:auto;line-height:normal;font-family:Menlo,'DejaVu Sans Mono',consolas,'Courier New',monospace\"><span style=\"font-weight: bold\"> Trainable params: </span><span style=\"color: #00af00; text-decoration-color: #00af00\">118,402,437</span> (451.67 MB)\n",
       "</pre>\n"
      ],
      "text/plain": [
       "\u001b[1m Trainable params: \u001b[0m\u001b[38;5;34m118,402,437\u001b[0m (451.67 MB)\n"
      ]
     },
     "metadata": {},
     "output_type": "display_data"
    },
    {
     "data": {
      "text/html": [
       "<pre style=\"white-space:pre;overflow-x:auto;line-height:normal;font-family:Menlo,'DejaVu Sans Mono',consolas,'Courier New',monospace\"><span style=\"font-weight: bold\"> Non-trainable params: </span><span style=\"color: #00af00; text-decoration-color: #00af00\">0</span> (0.00 B)\n",
       "</pre>\n"
      ],
      "text/plain": [
       "\u001b[1m Non-trainable params: \u001b[0m\u001b[38;5;34m0\u001b[0m (0.00 B)\n"
      ]
     },
     "metadata": {},
     "output_type": "display_data"
    }
   ],
   "source": [
    "from keras.models import Sequential\n",
    "from keras.layers import Conv2D, MaxPooling2D, Flatten, Dense, Dropout, Input\n",
    "from keras.callbacks import EarlyStopping, LearningRateScheduler\n",
    "from keras.utils import to_categorical\n",
    "from sklearn.utils.class_weight import compute_sample_weight\n",
    "from sklearn.model_selection import train_test_split\n",
    "import numpy as np\n",
    "\n",
    "input_shape = train_images[0].shape\n",
    "\n",
    "train_labels_encoded = to_categorical(train_labels, num_classes=5)\n",
    "test_labels_encoded = to_categorical(test_labels, num_classes=5)\n",
    "\n",
    "\n",
    "model = Sequential()\n",
    "model.add(Input(shape=input_shape))\n",
    "model.add(Conv2D(64, (3, 3), activation='relu'))\n",
    "model.add(MaxPooling2D((2, 2)))\n",
    "model.add(Conv2D(128, (3, 3), activation='relu'))\n",
    "model.add(MaxPooling2D((2, 2)))\n",
    "model.add(Conv2D(256, (3, 3), activation='relu'))\n",
    "model.add(MaxPooling2D((2, 2)))\n",
    "model.add(Dropout(0.2))\n",
    "model.add(Flatten())\n",
    "model.add(Dense(512, activation='relu'))\n",
    "model.add(Dropout(0.5))\n",
    "model.add(Dense(128, activation='relu'))\n",
    "model.add(Dropout(0.3))\n",
    "model.add(Dense(5, activation='softmax'))\n",
    "model.summary()"
   ]
  },
  {
   "cell_type": "code",
   "execution_count": 19,
   "id": "0e645157",
   "metadata": {
    "execution": {
     "iopub.execute_input": "2024-04-22T08:43:42.417016Z",
     "iopub.status.busy": "2024-04-22T08:43:42.416507Z",
     "iopub.status.idle": "2024-04-22T08:43:42.428250Z",
     "shell.execute_reply": "2024-04-22T08:43:42.427527Z"
    },
    "id": "cxW817Dz-Crh",
    "papermill": {
     "duration": 0.030007,
     "end_time": "2024-04-22T08:43:42.430220",
     "exception": false,
     "start_time": "2024-04-22T08:43:42.400213",
     "status": "completed"
    },
    "tags": []
   },
   "outputs": [],
   "source": [
    "from keras.optimizers import Adam\n",
    "def lr_schedule(epoch, learning_rate):\n",
    "    if epoch < 20:\n",
    "        return learning_rate\n",
    "    else:\n",
    "        if epoch % 2 == 0:\n",
    "          return learning_rate * 0.95\n",
    "        else:\n",
    "          return learning_rate\n",
    "\n",
    "lr_scheduler = LearningRateScheduler(lr_schedule, verbose=1)\n",
    "\n",
    "initial_learning_rate = 0.001\n",
    "optimizer = Adam(learning_rate=initial_learning_rate)"
   ]
  },
  {
   "cell_type": "code",
   "execution_count": 20,
   "id": "6f750a70",
   "metadata": {
    "execution": {
     "iopub.execute_input": "2024-04-22T08:43:42.466633Z",
     "iopub.status.busy": "2024-04-22T08:43:42.466341Z",
     "iopub.status.idle": "2024-04-22T08:52:43.823384Z",
     "shell.execute_reply": "2024-04-22T08:52:43.822570Z"
    },
    "id": "vpk-HgOC-APP",
    "outputId": "008f7666-bb74-4f1e-9d9f-25e1112c5bed",
    "papermill": {
     "duration": 541.376528,
     "end_time": "2024-04-22T08:52:43.825887",
     "exception": false,
     "start_time": "2024-04-22T08:43:42.449359",
     "status": "completed"
    },
    "tags": []
   },
   "outputs": [
    {
     "name": "stdout",
     "output_type": "stream",
     "text": [
      "\n",
      "Epoch 1: LearningRateScheduler setting learning rate to 0.0010000000474974513.\n",
      "Epoch 1/50\n",
      "\u001b[1m 1/62\u001b[0m \u001b[37m━━━━━━━━━━━━━━━━━━━━\u001b[0m \u001b[1m28:57\u001b[0m 28s/step - accuracy: 0.2188 - loss: 12.0945"
     ]
    },
    {
     "name": "stderr",
     "output_type": "stream",
     "text": [
      "WARNING: All log messages before absl::InitializeLog() is called are written to STDERR\n",
      "I0000 00:00:1713775454.801548      72 device_compiler.h:186] Compiled cluster using XLA!  This line is logged at most once for the lifetime of the process.\n",
      "W0000 00:00:1713775454.820094      72 graph_launch.cc:671] Fallback to op-by-op mode because memset node breaks graph update\n"
     ]
    },
    {
     "name": "stdout",
     "output_type": "stream",
     "text": [
      "\u001b[1m62/62\u001b[0m \u001b[32m━━━━━━━━━━━━━━━━━━━━\u001b[0m\u001b[37m\u001b[0m \u001b[1m0s\u001b[0m 480ms/step - accuracy: 0.2280 - loss: 74.7283"
     ]
    },
    {
     "name": "stderr",
     "output_type": "stream",
     "text": [
      "W0000 00:00:1713775484.141168      74 graph_launch.cc:671] Fallback to op-by-op mode because memset node breaks graph update\n",
      "W0000 00:00:1713775485.998969      74 graph_launch.cc:671] Fallback to op-by-op mode because memset node breaks graph update\n"
     ]
    },
    {
     "name": "stdout",
     "output_type": "stream",
     "text": [
      "\u001b[1m62/62\u001b[0m \u001b[32m━━━━━━━━━━━━━━━━━━━━\u001b[0m\u001b[37m\u001b[0m \u001b[1m64s\u001b[0m 588ms/step - accuracy: 0.2287 - loss: 73.8983 - val_accuracy: 0.3996 - val_loss: 1.4230 - learning_rate: 0.0010\n",
      "\n",
      "Epoch 2: LearningRateScheduler setting learning rate to 0.0010000000474974513.\n",
      "Epoch 2/50\n"
     ]
    },
    {
     "name": "stderr",
     "output_type": "stream",
     "text": [
      "W0000 00:00:1713775490.866751      72 graph_launch.cc:671] Fallback to op-by-op mode because memset node breaks graph update\n"
     ]
    },
    {
     "name": "stdout",
     "output_type": "stream",
     "text": [
      "\u001b[1m62/62\u001b[0m \u001b[32m━━━━━━━━━━━━━━━━━━━━\u001b[0m\u001b[37m\u001b[0m \u001b[1m9s\u001b[0m 151ms/step - accuracy: 0.4129 - loss: 1.3965 - val_accuracy: 0.5112 - val_loss: 1.2321 - learning_rate: 0.0010\n",
      "\n",
      "Epoch 3: LearningRateScheduler setting learning rate to 0.0010000000474974513.\n",
      "Epoch 3/50\n",
      "\u001b[1m62/62\u001b[0m \u001b[32m━━━━━━━━━━━━━━━━━━━━\u001b[0m\u001b[37m\u001b[0m \u001b[1m9s\u001b[0m 152ms/step - accuracy: 0.5524 - loss: 1.1581 - val_accuracy: 0.6329 - val_loss: 1.0683 - learning_rate: 0.0010\n",
      "\n",
      "Epoch 4: LearningRateScheduler setting learning rate to 0.0010000000474974513.\n",
      "Epoch 4/50\n",
      "\u001b[1m62/62\u001b[0m \u001b[32m━━━━━━━━━━━━━━━━━━━━\u001b[0m\u001b[37m\u001b[0m \u001b[1m9s\u001b[0m 152ms/step - accuracy: 0.6925 - loss: 0.8524 - val_accuracy: 0.7383 - val_loss: 0.7086 - learning_rate: 0.0010\n",
      "\n",
      "Epoch 5: LearningRateScheduler setting learning rate to 0.0010000000474974513.\n",
      "Epoch 5/50\n",
      "\u001b[1m62/62\u001b[0m \u001b[32m━━━━━━━━━━━━━━━━━━━━\u001b[0m\u001b[37m\u001b[0m \u001b[1m10s\u001b[0m 153ms/step - accuracy: 0.7610 - loss: 0.6522 - val_accuracy: 0.7769 - val_loss: 0.5993 - learning_rate: 0.0010\n",
      "\n",
      "Epoch 6: LearningRateScheduler setting learning rate to 0.0010000000474974513.\n",
      "Epoch 6/50\n",
      "\u001b[1m62/62\u001b[0m \u001b[32m━━━━━━━━━━━━━━━━━━━━\u001b[0m\u001b[37m\u001b[0m \u001b[1m10s\u001b[0m 154ms/step - accuracy: 0.8382 - loss: 0.4751 - val_accuracy: 0.8195 - val_loss: 0.5016 - learning_rate: 0.0010\n",
      "\n",
      "Epoch 7: LearningRateScheduler setting learning rate to 0.0010000000474974513.\n",
      "Epoch 7/50\n",
      "\u001b[1m62/62\u001b[0m \u001b[32m━━━━━━━━━━━━━━━━━━━━\u001b[0m\u001b[37m\u001b[0m \u001b[1m10s\u001b[0m 155ms/step - accuracy: 0.8611 - loss: 0.3898 - val_accuracy: 0.8357 - val_loss: 0.5555 - learning_rate: 0.0010\n",
      "\n",
      "Epoch 8: LearningRateScheduler setting learning rate to 0.0010000000474974513.\n",
      "Epoch 8/50\n",
      "\u001b[1m62/62\u001b[0m \u001b[32m━━━━━━━━━━━━━━━━━━━━\u001b[0m\u001b[37m\u001b[0m \u001b[1m10s\u001b[0m 156ms/step - accuracy: 0.8991 - loss: 0.3053 - val_accuracy: 0.8418 - val_loss: 0.4923 - learning_rate: 0.0010\n",
      "\n",
      "Epoch 9: LearningRateScheduler setting learning rate to 0.0010000000474974513.\n",
      "Epoch 9/50\n",
      "\u001b[1m62/62\u001b[0m \u001b[32m━━━━━━━━━━━━━━━━━━━━\u001b[0m\u001b[37m\u001b[0m \u001b[1m10s\u001b[0m 156ms/step - accuracy: 0.9136 - loss: 0.2441 - val_accuracy: 0.8357 - val_loss: 0.6357 - learning_rate: 0.0010\n",
      "\n",
      "Epoch 10: LearningRateScheduler setting learning rate to 0.0010000000474974513.\n",
      "Epoch 10/50\n",
      "\u001b[1m62/62\u001b[0m \u001b[32m━━━━━━━━━━━━━━━━━━━━\u001b[0m\u001b[37m\u001b[0m \u001b[1m10s\u001b[0m 156ms/step - accuracy: 0.9076 - loss: 0.2454 - val_accuracy: 0.8884 - val_loss: 0.4532 - learning_rate: 0.0010\n",
      "\n",
      "Epoch 11: LearningRateScheduler setting learning rate to 0.0010000000474974513.\n",
      "Epoch 11/50\n",
      "\u001b[1m62/62\u001b[0m \u001b[32m━━━━━━━━━━━━━━━━━━━━\u001b[0m\u001b[37m\u001b[0m \u001b[1m10s\u001b[0m 155ms/step - accuracy: 0.9391 - loss: 0.1771 - val_accuracy: 0.8824 - val_loss: 0.4527 - learning_rate: 0.0010\n",
      "\n",
      "Epoch 12: LearningRateScheduler setting learning rate to 0.0010000000474974513.\n",
      "Epoch 12/50\n",
      "\u001b[1m62/62\u001b[0m \u001b[32m━━━━━━━━━━━━━━━━━━━━\u001b[0m\u001b[37m\u001b[0m \u001b[1m10s\u001b[0m 155ms/step - accuracy: 0.9534 - loss: 0.1432 - val_accuracy: 0.8742 - val_loss: 0.4841 - learning_rate: 0.0010\n",
      "\n",
      "Epoch 13: LearningRateScheduler setting learning rate to 0.0010000000474974513.\n",
      "Epoch 13/50\n",
      "\u001b[1m62/62\u001b[0m \u001b[32m━━━━━━━━━━━━━━━━━━━━\u001b[0m\u001b[37m\u001b[0m \u001b[1m10s\u001b[0m 154ms/step - accuracy: 0.9470 - loss: 0.1711 - val_accuracy: 0.8661 - val_loss: 0.5594 - learning_rate: 0.0010\n",
      "\n",
      "Epoch 14: LearningRateScheduler setting learning rate to 0.0010000000474974513.\n",
      "Epoch 14/50\n",
      "\u001b[1m62/62\u001b[0m \u001b[32m━━━━━━━━━━━━━━━━━━━━\u001b[0m\u001b[37m\u001b[0m \u001b[1m10s\u001b[0m 154ms/step - accuracy: 0.9586 - loss: 0.1237 - val_accuracy: 0.8763 - val_loss: 0.5489 - learning_rate: 0.0010\n",
      "\n",
      "Epoch 15: LearningRateScheduler setting learning rate to 0.0010000000474974513.\n",
      "Epoch 15/50\n",
      "\u001b[1m62/62\u001b[0m \u001b[32m━━━━━━━━━━━━━━━━━━━━\u001b[0m\u001b[37m\u001b[0m \u001b[1m10s\u001b[0m 154ms/step - accuracy: 0.9659 - loss: 0.0955 - val_accuracy: 0.8803 - val_loss: 0.5172 - learning_rate: 0.0010\n",
      "\n",
      "Epoch 16: LearningRateScheduler setting learning rate to 0.0010000000474974513.\n",
      "Epoch 16/50\n",
      "\u001b[1m62/62\u001b[0m \u001b[32m━━━━━━━━━━━━━━━━━━━━\u001b[0m\u001b[37m\u001b[0m \u001b[1m10s\u001b[0m 155ms/step - accuracy: 0.9630 - loss: 0.1203 - val_accuracy: 0.8844 - val_loss: 0.6389 - learning_rate: 0.0010\n",
      "\n",
      "Epoch 17: LearningRateScheduler setting learning rate to 0.0010000000474974513.\n",
      "Epoch 17/50\n",
      "\u001b[1m62/62\u001b[0m \u001b[32m━━━━━━━━━━━━━━━━━━━━\u001b[0m\u001b[37m\u001b[0m \u001b[1m10s\u001b[0m 155ms/step - accuracy: 0.9690 - loss: 0.1088 - val_accuracy: 0.8722 - val_loss: 0.6515 - learning_rate: 0.0010\n",
      "\n",
      "Epoch 18: LearningRateScheduler setting learning rate to 0.0010000000474974513.\n",
      "Epoch 18/50\n",
      "\u001b[1m62/62\u001b[0m \u001b[32m━━━━━━━━━━━━━━━━━━━━\u001b[0m\u001b[37m\u001b[0m \u001b[1m10s\u001b[0m 155ms/step - accuracy: 0.9596 - loss: 0.1222 - val_accuracy: 0.8722 - val_loss: 0.6000 - learning_rate: 0.0010\n",
      "\n",
      "Epoch 19: LearningRateScheduler setting learning rate to 0.0010000000474974513.\n",
      "Epoch 19/50\n",
      "\u001b[1m62/62\u001b[0m \u001b[32m━━━━━━━━━━━━━━━━━━━━\u001b[0m\u001b[37m\u001b[0m \u001b[1m10s\u001b[0m 155ms/step - accuracy: 0.9810 - loss: 0.0549 - val_accuracy: 0.8763 - val_loss: 0.6351 - learning_rate: 0.0010\n",
      "\n",
      "Epoch 20: LearningRateScheduler setting learning rate to 0.0010000000474974513.\n",
      "Epoch 20/50\n",
      "\u001b[1m62/62\u001b[0m \u001b[32m━━━━━━━━━━━━━━━━━━━━\u001b[0m\u001b[37m\u001b[0m \u001b[1m10s\u001b[0m 154ms/step - accuracy: 0.9778 - loss: 0.0742 - val_accuracy: 0.8641 - val_loss: 0.6021 - learning_rate: 0.0010\n",
      "\n",
      "Epoch 21: LearningRateScheduler setting learning rate to 0.0009500000451225787.\n",
      "Epoch 21/50\n",
      "\u001b[1m62/62\u001b[0m \u001b[32m━━━━━━━━━━━━━━━━━━━━\u001b[0m\u001b[37m\u001b[0m \u001b[1m10s\u001b[0m 155ms/step - accuracy: 0.9704 - loss: 0.0809 - val_accuracy: 0.8540 - val_loss: 0.6771 - learning_rate: 9.5000e-04\n",
      "\n",
      "Epoch 22: LearningRateScheduler setting learning rate to 0.0009500000160187483.\n",
      "Epoch 22/50\n",
      "\u001b[1m62/62\u001b[0m \u001b[32m━━━━━━━━━━━━━━━━━━━━\u001b[0m\u001b[37m\u001b[0m \u001b[1m10s\u001b[0m 155ms/step - accuracy: 0.9807 - loss: 0.0582 - val_accuracy: 0.8844 - val_loss: 0.6763 - learning_rate: 9.5000e-04\n",
      "\n",
      "Epoch 23: LearningRateScheduler setting learning rate to 0.0009025000152178108.\n",
      "Epoch 23/50\n",
      "\u001b[1m62/62\u001b[0m \u001b[32m━━━━━━━━━━━━━━━━━━━━\u001b[0m\u001b[37m\u001b[0m \u001b[1m10s\u001b[0m 155ms/step - accuracy: 0.9814 - loss: 0.0517 - val_accuracy: 0.8621 - val_loss: 0.7417 - learning_rate: 9.0250e-04\n",
      "\n",
      "Epoch 24: LearningRateScheduler setting learning rate to 0.0009025000035762787.\n",
      "Epoch 24/50\n",
      "\u001b[1m62/62\u001b[0m \u001b[32m━━━━━━━━━━━━━━━━━━━━\u001b[0m\u001b[37m\u001b[0m \u001b[1m10s\u001b[0m 154ms/step - accuracy: 0.9770 - loss: 0.0744 - val_accuracy: 0.8763 - val_loss: 0.6588 - learning_rate: 9.0250e-04\n",
      "\n",
      "Epoch 25: LearningRateScheduler setting learning rate to 0.0008573750033974647.\n",
      "Epoch 25/50\n",
      "\u001b[1m62/62\u001b[0m \u001b[32m━━━━━━━━━━━━━━━━━━━━\u001b[0m\u001b[37m\u001b[0m \u001b[1m10s\u001b[0m 155ms/step - accuracy: 0.9793 - loss: 0.0609 - val_accuracy: 0.8722 - val_loss: 0.7248 - learning_rate: 8.5737e-04\n",
      "\n",
      "Epoch 26: LearningRateScheduler setting learning rate to 0.0008573749801144004.\n",
      "Epoch 26/50\n",
      "\u001b[1m62/62\u001b[0m \u001b[32m━━━━━━━━━━━━━━━━━━━━\u001b[0m\u001b[37m\u001b[0m \u001b[1m10s\u001b[0m 155ms/step - accuracy: 0.9851 - loss: 0.0535 - val_accuracy: 0.8600 - val_loss: 0.7712 - learning_rate: 8.5737e-04\n",
      "\n",
      "Epoch 27: LearningRateScheduler setting learning rate to 0.0008145062311086804.\n",
      "Epoch 27/50\n",
      "\u001b[1m62/62\u001b[0m \u001b[32m━━━━━━━━━━━━━━━━━━━━\u001b[0m\u001b[37m\u001b[0m \u001b[1m10s\u001b[0m 155ms/step - accuracy: 0.9900 - loss: 0.0377 - val_accuracy: 0.8682 - val_loss: 0.7078 - learning_rate: 8.1451e-04\n",
      "\n",
      "Epoch 28: LearningRateScheduler setting learning rate to 0.0008145062020048499.\n",
      "Epoch 28/50\n",
      "\u001b[1m62/62\u001b[0m \u001b[32m━━━━━━━━━━━━━━━━━━━━\u001b[0m\u001b[37m\u001b[0m \u001b[1m10s\u001b[0m 155ms/step - accuracy: 0.9870 - loss: 0.0390 - val_accuracy: 0.8702 - val_loss: 0.7965 - learning_rate: 8.1451e-04\n",
      "\n",
      "Epoch 29: LearningRateScheduler setting learning rate to 0.0007737808919046074.\n",
      "Epoch 29/50\n",
      "\u001b[1m62/62\u001b[0m \u001b[32m━━━━━━━━━━━━━━━━━━━━\u001b[0m\u001b[37m\u001b[0m \u001b[1m10s\u001b[0m 155ms/step - accuracy: 0.9863 - loss: 0.0553 - val_accuracy: 0.8803 - val_loss: 0.6772 - learning_rate: 7.7378e-04\n",
      "\n",
      "Epoch 30: LearningRateScheduler setting learning rate to 0.000773780862800777.\n",
      "Epoch 30/50\n",
      "\u001b[1m62/62\u001b[0m \u001b[32m━━━━━━━━━━━━━━━━━━━━\u001b[0m\u001b[37m\u001b[0m \u001b[1m10s\u001b[0m 155ms/step - accuracy: 0.9920 - loss: 0.0330 - val_accuracy: 0.8925 - val_loss: 0.7321 - learning_rate: 7.7378e-04\n",
      "\n",
      "Epoch 31: LearningRateScheduler setting learning rate to 0.000735091819660738.\n",
      "Epoch 31/50\n",
      "\u001b[1m62/62\u001b[0m \u001b[32m━━━━━━━━━━━━━━━━━━━━\u001b[0m\u001b[37m\u001b[0m \u001b[1m10s\u001b[0m 155ms/step - accuracy: 0.9886 - loss: 0.0370 - val_accuracy: 0.8722 - val_loss: 0.8162 - learning_rate: 7.3509e-04\n",
      "\n",
      "Epoch 32: LearningRateScheduler setting learning rate to 0.0007350918021984398.\n",
      "Epoch 32/50\n",
      "\u001b[1m62/62\u001b[0m \u001b[32m━━━━━━━━━━━━━━━━━━━━\u001b[0m\u001b[37m\u001b[0m \u001b[1m10s\u001b[0m 154ms/step - accuracy: 0.9870 - loss: 0.0387 - val_accuracy: 0.8803 - val_loss: 0.8878 - learning_rate: 7.3509e-04\n",
      "\n",
      "Epoch 33: LearningRateScheduler setting learning rate to 0.0006983372120885178.\n",
      "Epoch 33/50\n",
      "\u001b[1m62/62\u001b[0m \u001b[32m━━━━━━━━━━━━━━━━━━━━\u001b[0m\u001b[37m\u001b[0m \u001b[1m10s\u001b[0m 155ms/step - accuracy: 0.9929 - loss: 0.0286 - val_accuracy: 0.8661 - val_loss: 0.7381 - learning_rate: 6.9834e-04\n",
      "\n",
      "Epoch 34: LearningRateScheduler setting learning rate to 0.0006983372149989009.\n",
      "Epoch 34/50\n",
      "\u001b[1m62/62\u001b[0m \u001b[32m━━━━━━━━━━━━━━━━━━━━\u001b[0m\u001b[37m\u001b[0m \u001b[1m10s\u001b[0m 155ms/step - accuracy: 0.9857 - loss: 0.0503 - val_accuracy: 0.8702 - val_loss: 0.7653 - learning_rate: 6.9834e-04\n",
      "\n",
      "Epoch 35: LearningRateScheduler setting learning rate to 0.0006634203542489559.\n",
      "Epoch 35/50\n",
      "\u001b[1m62/62\u001b[0m \u001b[32m━━━━━━━━━━━━━━━━━━━━\u001b[0m\u001b[37m\u001b[0m \u001b[1m10s\u001b[0m 155ms/step - accuracy: 0.9928 - loss: 0.0495 - val_accuracy: 0.8763 - val_loss: 0.8255 - learning_rate: 6.6342e-04\n",
      "\n",
      "Epoch 36: LearningRateScheduler setting learning rate to 0.0006634203600697219.\n",
      "Epoch 36/50\n",
      "\u001b[1m62/62\u001b[0m \u001b[32m━━━━━━━━━━━━━━━━━━━━\u001b[0m\u001b[37m\u001b[0m \u001b[1m10s\u001b[0m 155ms/step - accuracy: 0.9951 - loss: 0.0257 - val_accuracy: 0.8742 - val_loss: 0.8273 - learning_rate: 6.6342e-04\n",
      "\n",
      "Epoch 37: LearningRateScheduler setting learning rate to 0.0006302493420662358.\n",
      "Epoch 37/50\n",
      "\u001b[1m62/62\u001b[0m \u001b[32m━━━━━━━━━━━━━━━━━━━━\u001b[0m\u001b[37m\u001b[0m \u001b[1m10s\u001b[0m 155ms/step - accuracy: 0.9926 - loss: 0.0215 - val_accuracy: 0.8661 - val_loss: 0.9862 - learning_rate: 6.3025e-04\n",
      "\n",
      "Epoch 38: LearningRateScheduler setting learning rate to 0.0006302493275143206.\n",
      "Epoch 38/50\n",
      "\u001b[1m62/62\u001b[0m \u001b[32m━━━━━━━━━━━━━━━━━━━━\u001b[0m\u001b[37m\u001b[0m \u001b[1m10s\u001b[0m 155ms/step - accuracy: 0.9928 - loss: 0.0244 - val_accuracy: 0.8682 - val_loss: 0.8946 - learning_rate: 6.3025e-04\n",
      "\n",
      "Epoch 39: LearningRateScheduler setting learning rate to 0.0005987368611386045.\n",
      "Epoch 39/50\n",
      "\u001b[1m62/62\u001b[0m \u001b[32m━━━━━━━━━━━━━━━━━━━━\u001b[0m\u001b[37m\u001b[0m \u001b[1m10s\u001b[0m 155ms/step - accuracy: 0.9963 - loss: 0.0155 - val_accuracy: 0.8722 - val_loss: 1.1195 - learning_rate: 5.9874e-04\n",
      "\n",
      "Epoch 40: LearningRateScheduler setting learning rate to 0.0005987368640489876.\n",
      "Epoch 40/50\n",
      "\u001b[1m62/62\u001b[0m \u001b[32m━━━━━━━━━━━━━━━━━━━━\u001b[0m\u001b[37m\u001b[0m \u001b[1m10s\u001b[0m 155ms/step - accuracy: 0.9895 - loss: 0.0198 - val_accuracy: 0.8824 - val_loss: 1.1483 - learning_rate: 5.9874e-04\n",
      "\n",
      "Epoch 41: LearningRateScheduler setting learning rate to 0.0005688000208465382.\n",
      "Epoch 41/50\n",
      "\u001b[1m62/62\u001b[0m \u001b[32m━━━━━━━━━━━━━━━━━━━━\u001b[0m\u001b[37m\u001b[0m \u001b[1m10s\u001b[0m 155ms/step - accuracy: 0.9906 - loss: 0.0234 - val_accuracy: 0.8702 - val_loss: 1.1308 - learning_rate: 5.6880e-04\n",
      "\n",
      "Epoch 42: LearningRateScheduler setting learning rate to 0.0005688000237569213.\n",
      "Epoch 42/50\n",
      "\u001b[1m62/62\u001b[0m \u001b[32m━━━━━━━━━━━━━━━━━━━━\u001b[0m\u001b[37m\u001b[0m \u001b[1m10s\u001b[0m 155ms/step - accuracy: 0.9905 - loss: 0.0378 - val_accuracy: 0.8783 - val_loss: 0.9008 - learning_rate: 5.6880e-04\n",
      "\n",
      "Epoch 43: LearningRateScheduler setting learning rate to 0.0005403600225690752.\n",
      "Epoch 43/50\n",
      "\u001b[1m62/62\u001b[0m \u001b[32m━━━━━━━━━━━━━━━━━━━━\u001b[0m\u001b[37m\u001b[0m \u001b[1m10s\u001b[0m 155ms/step - accuracy: 0.9925 - loss: 0.0259 - val_accuracy: 0.8702 - val_loss: 0.8952 - learning_rate: 5.4036e-04\n",
      "\n",
      "Epoch 44: LearningRateScheduler setting learning rate to 0.0005403599934652448.\n",
      "Epoch 44/50\n",
      "\u001b[1m62/62\u001b[0m \u001b[32m━━━━━━━━━━━━━━━━━━━━\u001b[0m\u001b[37m\u001b[0m \u001b[1m10s\u001b[0m 155ms/step - accuracy: 0.9953 - loss: 0.0142 - val_accuracy: 0.8621 - val_loss: 1.1408 - learning_rate: 5.4036e-04\n",
      "\n",
      "Epoch 45: LearningRateScheduler setting learning rate to 0.0005133419937919825.\n",
      "Epoch 45/50\n",
      "\u001b[1m62/62\u001b[0m \u001b[32m━━━━━━━━━━━━━━━━━━━━\u001b[0m\u001b[37m\u001b[0m \u001b[1m10s\u001b[0m 155ms/step - accuracy: 0.9959 - loss: 0.0190 - val_accuracy: 0.8641 - val_loss: 1.0876 - learning_rate: 5.1334e-04\n",
      "\n",
      "Epoch 46: LearningRateScheduler setting learning rate to 0.0005133419763296843.\n",
      "Epoch 46/50\n",
      "\u001b[1m62/62\u001b[0m \u001b[32m━━━━━━━━━━━━━━━━━━━━\u001b[0m\u001b[37m\u001b[0m \u001b[1m10s\u001b[0m 155ms/step - accuracy: 0.9948 - loss: 0.0137 - val_accuracy: 0.8682 - val_loss: 0.9596 - learning_rate: 5.1334e-04\n",
      "\n",
      "Epoch 47: LearningRateScheduler setting learning rate to 0.0004876748775132.\n",
      "Epoch 47/50\n",
      "\u001b[1m62/62\u001b[0m \u001b[32m━━━━━━━━━━━━━━━━━━━━\u001b[0m\u001b[37m\u001b[0m \u001b[1m10s\u001b[0m 155ms/step - accuracy: 0.9940 - loss: 0.0155 - val_accuracy: 0.8661 - val_loss: 1.0120 - learning_rate: 4.8767e-04\n",
      "\n",
      "Epoch 48: LearningRateScheduler setting learning rate to 0.00048767487169243395.\n",
      "Epoch 48/50\n",
      "\u001b[1m62/62\u001b[0m \u001b[32m━━━━━━━━━━━━━━━━━━━━\u001b[0m\u001b[37m\u001b[0m \u001b[1m10s\u001b[0m 155ms/step - accuracy: 0.9991 - loss: 0.0070 - val_accuracy: 0.8722 - val_loss: 1.0181 - learning_rate: 4.8767e-04\n",
      "\n",
      "Epoch 49: LearningRateScheduler setting learning rate to 0.00046329112810781223.\n",
      "Epoch 49/50\n",
      "\u001b[1m62/62\u001b[0m \u001b[32m━━━━━━━━━━━━━━━━━━━━\u001b[0m\u001b[37m\u001b[0m \u001b[1m10s\u001b[0m 155ms/step - accuracy: 0.9954 - loss: 0.0114 - val_accuracy: 0.8722 - val_loss: 1.0475 - learning_rate: 4.6329e-04\n",
      "\n",
      "Epoch 50: LearningRateScheduler setting learning rate to 0.0004632911295630038.\n",
      "Epoch 50/50\n",
      "\u001b[1m62/62\u001b[0m \u001b[32m━━━━━━━━━━━━━━━━━━━━\u001b[0m\u001b[37m\u001b[0m \u001b[1m10s\u001b[0m 155ms/step - accuracy: 0.9971 - loss: 0.0092 - val_accuracy: 0.8560 - val_loss: 1.1325 - learning_rate: 4.6329e-04\n"
     ]
    }
   ],
   "source": [
    "import math\n",
    "model.compile(optimizer=optimizer, loss='categorical_crossentropy', metrics=['accuracy'])\n",
    "\n",
    "history = model.fit(train_images, train_labels_encoded,\n",
    "                    epochs=50,\n",
    "                    validation_data=(test_images, test_labels_encoded),\n",
    "                    callbacks=[lr_scheduler])"
   ]
  },
  {
   "cell_type": "code",
   "execution_count": 21,
   "id": "84507c6a",
   "metadata": {
    "execution": {
     "iopub.execute_input": "2024-04-22T08:52:44.390621Z",
     "iopub.status.busy": "2024-04-22T08:52:44.390211Z",
     "iopub.status.idle": "2024-04-22T08:52:46.772684Z",
     "shell.execute_reply": "2024-04-22T08:52:46.771572Z"
    },
    "id": "f26751b2",
    "outputId": "68d32aa4-5e7b-4125-89db-7b3ec64c5b72",
    "papermill": {
     "duration": 2.671597,
     "end_time": "2024-04-22T08:52:46.774982",
     "exception": false,
     "start_time": "2024-04-22T08:52:44.103385",
     "status": "completed"
    },
    "tags": []
   },
   "outputs": [
    {
     "name": "stdout",
     "output_type": "stream",
     "text": [
      "\u001b[1m 5/16\u001b[0m \u001b[32m━━━━━━\u001b[0m\u001b[37m━━━━━━━━━━━━━━\u001b[0m \u001b[1m0s\u001b[0m 36ms/step"
     ]
    },
    {
     "name": "stderr",
     "output_type": "stream",
     "text": [
      "W0000 00:00:1713775965.861015      73 graph_launch.cc:671] Fallback to op-by-op mode because memset node breaks graph update\n"
     ]
    },
    {
     "name": "stdout",
     "output_type": "stream",
     "text": [
      "\u001b[1m16/16\u001b[0m \u001b[32m━━━━━━━━━━━━━━━━━━━━\u001b[0m\u001b[37m\u001b[0m \u001b[1m1s\u001b[0m 56ms/step\n",
      "ROC AUC: 0.9796250652085263\n"
     ]
    },
    {
     "name": "stderr",
     "output_type": "stream",
     "text": [
      "W0000 00:00:1713775966.696957      72 graph_launch.cc:671] Fallback to op-by-op mode because memset node breaks graph update\n"
     ]
    }
   ],
   "source": [
    "import tensorflow as tf\n",
    "import numpy as np\n",
    "from sklearn.metrics import roc_auc_score\n",
    "\n",
    "y_prob = model.predict(test_images)\n",
    "roc_auc = roc_auc_score(test_labels_encoded, y_prob, average='macro')\n",
    "\n",
    "print(\"ROC AUC:\", roc_auc)"
   ]
  },
  {
   "cell_type": "code",
   "execution_count": 22,
   "id": "7632d0c8",
   "metadata": {
    "execution": {
     "iopub.execute_input": "2024-04-22T08:52:47.333063Z",
     "iopub.status.busy": "2024-04-22T08:52:47.329054Z",
     "iopub.status.idle": "2024-04-22T08:52:50.075804Z",
     "shell.execute_reply": "2024-04-22T08:52:50.074951Z"
    },
    "id": "ac3ed08e",
    "outputId": "e6a9891b-e633-4c66-c7f3-563344ad529f",
    "papermill": {
     "duration": 3.021756,
     "end_time": "2024-04-22T08:52:50.078105",
     "exception": false,
     "start_time": "2024-04-22T08:52:47.056349",
     "status": "completed"
    },
    "tags": []
   },
   "outputs": [],
   "source": [
    "model.save(\"my_cnn_model.h5\")\n"
   ]
  },
  {
   "cell_type": "code",
   "execution_count": 23,
   "id": "14f461b5",
   "metadata": {
    "execution": {
     "iopub.execute_input": "2024-04-22T08:52:50.633064Z",
     "iopub.status.busy": "2024-04-22T08:52:50.629902Z",
     "iopub.status.idle": "2024-04-22T08:52:50.639590Z",
     "shell.execute_reply": "2024-04-22T08:52:50.638828Z"
    },
    "id": "CihNhxENChlt",
    "outputId": "fb5f119d-f55e-4bac-a9bd-f5ff11ba7507",
    "papermill": {
     "duration": 0.288676,
     "end_time": "2024-04-22T08:52:50.641364",
     "exception": false,
     "start_time": "2024-04-22T08:52:50.352688",
     "status": "completed"
    },
    "tags": []
   },
   "outputs": [
    {
     "data": {
      "text/plain": [
       "195"
      ]
     },
     "execution_count": 23,
     "metadata": {},
     "output_type": "execute_result"
    }
   ],
   "source": [
    "import os\n",
    "import numpy as np\n",
    "directory = '/kaggle/working/test'\n",
    "\n",
    "files = [file for file in os.listdir(directory) if file.endswith('.npy')]\n",
    "len(files)"
   ]
  },
  {
   "cell_type": "code",
   "execution_count": 24,
   "id": "64486df5",
   "metadata": {
    "execution": {
     "iopub.execute_input": "2024-04-22T08:52:51.204818Z",
     "iopub.status.busy": "2024-04-22T08:52:51.204111Z",
     "iopub.status.idle": "2024-04-22T08:52:51.210528Z",
     "shell.execute_reply": "2024-04-22T08:52:51.209628Z"
    },
    "id": "avj2hYL_Cp9p",
    "outputId": "573fc7df-d466-4585-f0db-b55ea39ed61a",
    "papermill": {
     "duration": 0.285134,
     "end_time": "2024-04-22T08:52:51.212712",
     "exception": false,
     "start_time": "2024-04-22T08:52:50.927578",
     "status": "completed"
    },
    "tags": []
   },
   "outputs": [
    {
     "name": "stdout",
     "output_type": "stream",
     "text": [
      "26 87 36 11 35\n"
     ]
    }
   ],
   "source": [
    "ad = [i for i in files if \"AD\" in i]\n",
    "cn = [i for i in files if \"CN\" in i]\n",
    "emci = [i for i in files if \"EMCI\" in i]\n",
    "lmci = [i for i in files if \"LMCI\" in i]\n",
    "mci = [i for i in files if \" MCI \" in i]\n",
    "print(len(ad), len(cn), len(emci), len(lmci), len(mci))"
   ]
  },
  {
   "cell_type": "code",
   "execution_count": 25,
   "id": "2c28c5a3",
   "metadata": {
    "execution": {
     "iopub.execute_input": "2024-04-22T08:52:51.805991Z",
     "iopub.status.busy": "2024-04-22T08:52:51.805642Z",
     "iopub.status.idle": "2024-04-22T08:52:51.817742Z",
     "shell.execute_reply": "2024-04-22T08:52:51.816814Z"
    },
    "id": "63L3eQx3Cs6g",
    "outputId": "9e45a2f9-8615-43d0-a370-278cdc04fa05",
    "papermill": {
     "duration": 0.337208,
     "end_time": "2024-04-22T08:52:51.819848",
     "exception": false,
     "start_time": "2024-04-22T08:52:51.482640",
     "status": "completed"
    },
    "tags": []
   },
   "outputs": [
    {
     "data": {
      "text/plain": [
       "Class\n",
       "1    87\n",
       "2    36\n",
       "4    35\n",
       "0    26\n",
       "3    11\n",
       "Name: count, dtype: int64"
      ]
     },
     "execution_count": 25,
     "metadata": {},
     "output_type": "execute_result"
    }
   ],
   "source": [
    "import pandas as pd\n",
    "l = [[ad, 0], [cn, 1], [emci, 2], [lmci, 3], [mci, 4]]\n",
    "x = []\n",
    "for i in l:\n",
    "    for j in i[0]:\n",
    "        path = os.path.join(\"/kaggle/working/train\", j)\n",
    "        x.append([i[1], path])\n",
    "\n",
    "df = pd.DataFrame(x, columns=[\"Class\", \"Path\"])\n",
    "x = df[\"Class\"].value_counts()\n",
    "x"
   ]
  },
  {
   "cell_type": "code",
   "execution_count": 26,
   "id": "fd287d4a",
   "metadata": {
    "execution": {
     "iopub.execute_input": "2024-04-22T08:52:52.395856Z",
     "iopub.status.busy": "2024-04-22T08:52:52.395174Z",
     "iopub.status.idle": "2024-04-22T08:52:52.430360Z",
     "shell.execute_reply": "2024-04-22T08:52:52.429567Z"
    },
    "papermill": {
     "duration": 0.313362,
     "end_time": "2024-04-22T08:52:52.432310",
     "exception": false,
     "start_time": "2024-04-22T08:52:52.118948",
     "status": "completed"
    },
    "tags": []
   },
   "outputs": [],
   "source": [
    "for j, i in enumerate(df[\"Path\"]):\n",
    "    if np.load(i).shape != (256, 256, 3):\n",
    "        df.drop(index=j, inplace=True)"
   ]
  },
  {
   "cell_type": "code",
   "execution_count": 27,
   "id": "88c79c6c",
   "metadata": {
    "execution": {
     "iopub.execute_input": "2024-04-22T08:52:52.990367Z",
     "iopub.status.busy": "2024-04-22T08:52:52.989550Z",
     "iopub.status.idle": "2024-04-22T08:52:53.045325Z",
     "shell.execute_reply": "2024-04-22T08:52:53.044510Z"
    },
    "id": "QwkXDmRMCwlr",
    "papermill": {
     "duration": 0.342988,
     "end_time": "2024-04-22T08:52:53.047476",
     "exception": false,
     "start_time": "2024-04-22T08:52:52.704488",
     "status": "completed"
    },
    "tags": []
   },
   "outputs": [],
   "source": [
    "images = []\n",
    "for i in df[\"Path\"]:\n",
    "    images.append(np.load(i))\n",
    "images = np.array(images)"
   ]
  },
  {
   "cell_type": "code",
   "execution_count": 28,
   "id": "3af54f80",
   "metadata": {
    "execution": {
     "iopub.execute_input": "2024-04-22T08:52:53.600969Z",
     "iopub.status.busy": "2024-04-22T08:52:53.600320Z",
     "iopub.status.idle": "2024-04-22T08:52:53.605867Z",
     "shell.execute_reply": "2024-04-22T08:52:53.604984Z"
    },
    "id": "N6jxb1FwC2bj",
    "outputId": "75b6f37b-e8fd-49a4-86ad-dd44c30beb62",
    "papermill": {
     "duration": 0.284226,
     "end_time": "2024-04-22T08:52:53.608190",
     "exception": false,
     "start_time": "2024-04-22T08:52:53.323964",
     "status": "completed"
    },
    "tags": []
   },
   "outputs": [
    {
     "name": "stdout",
     "output_type": "stream",
     "text": [
      "(195, 5)\n"
     ]
    }
   ],
   "source": [
    "labels = df[\"Class\"]\n",
    "labels = to_categorical(labels, num_classes=5)\n",
    "# Verify the encoded labels\n",
    "print(labels.shape)"
   ]
  },
  {
   "cell_type": "code",
   "execution_count": 29,
   "id": "a6405d58",
   "metadata": {
    "execution": {
     "iopub.execute_input": "2024-04-22T08:52:54.163832Z",
     "iopub.status.busy": "2024-04-22T08:52:54.163465Z",
     "iopub.status.idle": "2024-04-22T08:52:54.168703Z",
     "shell.execute_reply": "2024-04-22T08:52:54.167825Z"
    },
    "id": "pa815UOO8N0j",
    "papermill": {
     "duration": 0.287761,
     "end_time": "2024-04-22T08:52:54.170549",
     "exception": false,
     "start_time": "2024-04-22T08:52:53.882788",
     "status": "completed"
    },
    "tags": []
   },
   "outputs": [],
   "source": [
    "l = []\n",
    "for i in labels:\n",
    "  for j in range(5):\n",
    "    if i[j] == 1:\n",
    "      l.append(j)\n"
   ]
  },
  {
   "cell_type": "code",
   "execution_count": 30,
   "id": "6b1009bd",
   "metadata": {
    "execution": {
     "iopub.execute_input": "2024-04-22T08:52:54.774457Z",
     "iopub.status.busy": "2024-04-22T08:52:54.773438Z",
     "iopub.status.idle": "2024-04-22T08:52:57.621495Z",
     "shell.execute_reply": "2024-04-22T08:52:57.620760Z"
    },
    "id": "I_42DXnvZVLB",
    "papermill": {
     "duration": 3.181791,
     "end_time": "2024-04-22T08:52:57.624470",
     "exception": false,
     "start_time": "2024-04-22T08:52:54.442679",
     "status": "completed"
    },
    "tags": []
   },
   "outputs": [
    {
     "name": "stdout",
     "output_type": "stream",
     "text": [
      "\u001b[1m5/7\u001b[0m \u001b[32m━━━━━━━━━━━━━━\u001b[0m\u001b[37m━━━━━━\u001b[0m \u001b[1m0s\u001b[0m 37ms/step"
     ]
    },
    {
     "name": "stderr",
     "output_type": "stream",
     "text": [
      "W0000 00:00:1713775975.275670      73 graph_launch.cc:671] Fallback to op-by-op mode because memset node breaks graph update\n"
     ]
    },
    {
     "name": "stdout",
     "output_type": "stream",
     "text": [
      "\u001b[1m7/7\u001b[0m \u001b[32m━━━━━━━━━━━━━━━━━━━━\u001b[0m\u001b[37m\u001b[0m \u001b[1m3s\u001b[0m 388ms/step\n"
     ]
    },
    {
     "name": "stderr",
     "output_type": "stream",
     "text": [
      "W0000 00:00:1713775977.599999      72 graph_launch.cc:671] Fallback to op-by-op mode because memset node breaks graph update\n"
     ]
    }
   ],
   "source": [
    "y_prob = model.predict(images)\n",
    "\n",
    "y_prob = np.argmax(y_prob, axis=1)  "
   ]
  },
  {
   "cell_type": "code",
   "execution_count": 31,
   "id": "3e989849",
   "metadata": {
    "execution": {
     "iopub.execute_input": "2024-04-22T08:52:58.214958Z",
     "iopub.status.busy": "2024-04-22T08:52:58.214606Z",
     "iopub.status.idle": "2024-04-22T08:52:58.228703Z",
     "shell.execute_reply": "2024-04-22T08:52:58.227631Z"
    },
    "id": "Whw0fiWMafyY",
    "outputId": "f6126497-412a-4edb-9965-396997e74a55",
    "papermill": {
     "duration": 0.296993,
     "end_time": "2024-04-22T08:52:58.230599",
     "exception": false,
     "start_time": "2024-04-22T08:52:57.933606",
     "status": "completed"
    },
    "tags": []
   },
   "outputs": [
    {
     "name": "stdout",
     "output_type": "stream",
     "text": [
      "                 precision    recall  f1-score   support\n",
      "\n",
      "  Final AD JPEG       0.96      1.00      0.98        25\n",
      "  Final CN JPEG       0.97      0.98      0.97        86\n",
      "Final EMCI JPEG       0.97      0.97      0.97        36\n",
      "Final LMCI JPEG       1.00      0.92      0.96        12\n",
      " Final MCI JPEG       1.00      0.97      0.99        36\n",
      "\n",
      "       accuracy                           0.97       195\n",
      "      macro avg       0.98      0.97      0.97       195\n",
      "   weighted avg       0.97      0.97      0.97       195\n",
      "\n"
     ]
    }
   ],
   "source": [
    "from sklearn.metrics import classification_report\n",
    "\n",
    "print(classification_report(y_prob, l, target_names=[\"Final AD JPEG\" , \"Final CN JPEG\",  \"Final EMCI JPEG\",\"Final LMCI JPEG\",\"Final MCI JPEG\"]))"
   ]
  },
  {
   "cell_type": "code",
   "execution_count": 32,
   "id": "cc76a232",
   "metadata": {
    "execution": {
     "iopub.execute_input": "2024-04-22T08:52:58.789022Z",
     "iopub.status.busy": "2024-04-22T08:52:58.788387Z",
     "iopub.status.idle": "2024-04-22T08:52:58.801765Z",
     "shell.execute_reply": "2024-04-22T08:52:58.800763Z"
    },
    "papermill": {
     "duration": 0.295469,
     "end_time": "2024-04-22T08:52:58.803586",
     "exception": false,
     "start_time": "2024-04-22T08:52:58.508117",
     "status": "completed"
    },
    "tags": []
   },
   "outputs": [
    {
     "name": "stdout",
     "output_type": "stream",
     "text": [
      "                   pre       rec       spe        f1       geo       iba       sup\n",
      "\n",
      "          0       1.00      0.96      1.00      0.98      0.98      0.96        26\n",
      "          1       0.98      0.97      0.98      0.97      0.97      0.95        87\n",
      "          2       0.97      0.97      0.99      0.97      0.98      0.96        36\n",
      "          3       0.92      1.00      0.99      0.96      1.00      1.00        11\n",
      "          4       0.97      1.00      0.99      0.99      1.00      0.99        35\n",
      "\n",
      "avg / total       0.97      0.97      0.99      0.97      0.98      0.96       195\n",
      "\n"
     ]
    }
   ],
   "source": [
    "from imblearn.metrics import classification_report_imbalanced\n",
    "print(classification_report_imbalanced(l, y_prob))"
   ]
  },
  {
   "cell_type": "code",
   "execution_count": 33,
   "id": "72503531",
   "metadata": {
    "execution": {
     "iopub.execute_input": "2024-04-22T08:52:59.372313Z",
     "iopub.status.busy": "2024-04-22T08:52:59.371961Z",
     "iopub.status.idle": "2024-04-22T08:53:00.695141Z",
     "shell.execute_reply": "2024-04-22T08:53:00.694119Z"
    },
    "id": "QdaXXEvFDJKJ",
    "outputId": "f3c4dd51-486e-44cd-ff3d-5d6e7a9eb256",
    "papermill": {
     "duration": 1.608692,
     "end_time": "2024-04-22T08:53:00.697498",
     "exception": false,
     "start_time": "2024-04-22T08:52:59.088806",
     "status": "completed"
    },
    "tags": []
   },
   "outputs": [
    {
     "name": "stdout",
     "output_type": "stream",
     "text": [
      "\u001b[1m5/7\u001b[0m \u001b[32m━━━━━━━━━━━━━━\u001b[0m\u001b[37m━━━━━━\u001b[0m \u001b[1m0s\u001b[0m 40ms/step - accuracy: 0.9667 - loss: 0.1373"
     ]
    },
    {
     "name": "stderr",
     "output_type": "stream",
     "text": [
      "W0000 00:00:1713775980.069625      73 graph_launch.cc:671] Fallback to op-by-op mode because memset node breaks graph update\n"
     ]
    },
    {
     "name": "stdout",
     "output_type": "stream",
     "text": [
      "\u001b[1m7/7\u001b[0m \u001b[32m━━━━━━━━━━━━━━━━━━━━\u001b[0m\u001b[37m\u001b[0m \u001b[1m1s\u001b[0m 97ms/step - accuracy: 0.9695 - loss: 0.1314\n"
     ]
    },
    {
     "name": "stderr",
     "output_type": "stream",
     "text": [
      "W0000 00:00:1713775980.677918      75 graph_launch.cc:671] Fallback to op-by-op mode because memset node breaks graph update\n"
     ]
    },
    {
     "data": {
      "text/plain": [
       "[0.12097194045782089, 0.9743589758872986]"
      ]
     },
     "execution_count": 33,
     "metadata": {},
     "output_type": "execute_result"
    }
   ],
   "source": [
    "model.evaluate(images, labels)"
   ]
  },
  {
   "cell_type": "code",
   "execution_count": null,
   "id": "c096c9c6",
   "metadata": {
    "id": "XREPQZ-SE05_",
    "papermill": {
     "duration": 0.284227,
     "end_time": "2024-04-22T08:53:01.277603",
     "exception": false,
     "start_time": "2024-04-22T08:53:00.993376",
     "status": "completed"
    },
    "tags": []
   },
   "outputs": [],
   "source": []
  }
 ],
 "metadata": {
  "accelerator": "GPU",
  "colab": {
   "gpuType": "T4",
   "provenance": []
  },
  "kaggle": {
   "accelerator": "nvidiaTeslaT4",
   "dataSources": [
    {
     "datasetId": 1161732,
     "sourceId": 1946782,
     "sourceType": "datasetVersion"
    }
   ],
   "dockerImageVersionId": 30699,
   "isGpuEnabled": true,
   "isInternetEnabled": false,
   "language": "python",
   "sourceType": "notebook"
  },
  "kernelspec": {
   "display_name": "Python 3",
   "language": "python",
   "name": "python3"
  },
  "language_info": {
   "codemirror_mode": {
    "name": "ipython",
    "version": 3
   },
   "file_extension": ".py",
   "mimetype": "text/x-python",
   "name": "python",
   "nbconvert_exporter": "python",
   "pygments_lexer": "ipython3",
   "version": "3.10.13"
  },
  "papermill": {
   "default_parameters": {},
   "duration": 2303.40301,
   "end_time": "2024-04-22T08:53:04.083968",
   "environment_variables": {},
   "exception": null,
   "input_path": "__notebook__.ipynb",
   "output_path": "__notebook__.ipynb",
   "parameters": {},
   "start_time": "2024-04-22T08:14:40.680958",
   "version": "2.5.0"
  }
 },
 "nbformat": 4,
 "nbformat_minor": 5
}
