{
 "cells": [
  {
   "cell_type": "code",
   "execution_count": 1,
   "id": "df1b2da1",
   "metadata": {
    "_cell_guid": "b1076dfc-b9ad-4769-8c92-a6c4dae69d19",
    "_uuid": "8f2839f25d086af736a60e9eeb907d3b93b6e0e5",
    "execution": {
     "iopub.execute_input": "2024-04-19T04:49:40.001464Z",
     "iopub.status.busy": "2024-04-19T04:49:40.001112Z",
     "iopub.status.idle": "2024-04-19T04:49:40.006701Z",
     "shell.execute_reply": "2024-04-19T04:49:40.005551Z"
    },
    "papermill": {
     "duration": 0.015335,
     "end_time": "2024-04-19T04:49:40.008789",
     "exception": false,
     "start_time": "2024-04-19T04:49:39.993454",
     "status": "completed"
    },
    "tags": []
   },
   "outputs": [],
   "source": [
    "# import os\n",
    "# import cv2\n",
    "# import numpy as np\n",
    "\n",
    "# def jpg_to_npy_in_folders(input_folder, output_folder):\n",
    "#     os.makedirs(output_folder, exist_ok=True)\n",
    "#     for i, item in enumerate(os.listdir(input_folder)):\n",
    "#         item_path = os.path.join(input_folder, item)\n",
    "#         if os.path.isdir(item_path):\n",
    "#             jpg_to_npy_in_folders(item_path, output_folder)\n",
    "#         elif os.path.isfile(item_path) and item.endswith(\".jpg\"):\n",
    "#             img = cv2.imread(item_path)\n",
    "#             img_array = np.array(img)\n",
    "#             output_file_path = os.path.join(output_folder, os.path.splitext(item)[0] + '.npy')\n",
    "#             np.save(output_file_path, img_array)\n",
    "\n",
    "# input_folder_path = \"/kaggle/input/alzheimers-dataset-4-class-of-images/Alzheimer_s Dataset/train\"\n",
    "# output_folder_path = \"/kaggle/working/train\"\n",
    "\n",
    "# jpg_to_npy_in_folders(input_folder_path, output_folder_path)\n",
    "\n"
   ]
  },
  {
   "cell_type": "code",
   "execution_count": 2,
   "id": "98807190",
   "metadata": {
    "execution": {
     "iopub.execute_input": "2024-04-19T04:49:40.021735Z",
     "iopub.status.busy": "2024-04-19T04:49:40.021360Z",
     "iopub.status.idle": "2024-04-19T04:49:40.026200Z",
     "shell.execute_reply": "2024-04-19T04:49:40.025215Z"
    },
    "papermill": {
     "duration": 0.013805,
     "end_time": "2024-04-19T04:49:40.028164",
     "exception": false,
     "start_time": "2024-04-19T04:49:40.014359",
     "status": "completed"
    },
    "tags": []
   },
   "outputs": [],
   "source": [
    "# import os\n",
    "# import cv2\n",
    "# import numpy as np\n",
    "\n",
    "# def jpg_to_npy_in_folders(input_folder, output_folder):\n",
    "#     os.makedirs(output_folder, exist_ok=True)\n",
    "#     for i, item in enumerate(os.listdir(input_folder)):\n",
    "#         item_path = os.path.join(input_folder, item)\n",
    "#         if os.path.isdir(item_path):\n",
    "#             jpg_to_npy_in_folders(item_path, output_folder)\n",
    "#         elif os.path.isfile(item_path) and item.endswith(\".jpg\"):\n",
    "#             img = cv2.imread(item_path)\n",
    "#             img_array = np.array(img)\n",
    "#             folder = input_folder.split(\"/\")[-1]\n",
    "#             output_file_path = os.path.join(output_folder, f\"{folder}{i}.npy\")\n",
    "#             np.save(output_file_path, img_array)\n",
    "\n",
    "\n",
    "# jpg_to_npy_in_folders(\"/kaggle/input/alzheimers-dataset-4-class-of-images/Alzheimer_s Dataset/test\", \"/kaggle/working/test\")\n",
    "\n"
   ]
  },
  {
   "cell_type": "code",
   "execution_count": 3,
   "id": "225ecf50",
   "metadata": {
    "execution": {
     "iopub.execute_input": "2024-04-19T04:49:40.041647Z",
     "iopub.status.busy": "2024-04-19T04:49:40.041023Z",
     "iopub.status.idle": "2024-04-19T04:49:40.044702Z",
     "shell.execute_reply": "2024-04-19T04:49:40.043905Z"
    },
    "papermill": {
     "duration": 0.01267,
     "end_time": "2024-04-19T04:49:40.046893",
     "exception": false,
     "start_time": "2024-04-19T04:49:40.034223",
     "status": "completed"
    },
    "tags": []
   },
   "outputs": [],
   "source": [
    "# import os\n",
    "# import numpy as np\n",
    "# directory = '/kaggle/working/train'\n",
    "\n",
    "# files = [file for file in os.listdir(directory) if file.endswith('.npy')]\n",
    "# len(files)"
   ]
  },
  {
   "cell_type": "code",
   "execution_count": null,
   "id": "8171e95d",
   "metadata": {
    "execution": {
     "iopub.execute_input": "2024-04-19T04:40:11.905199Z",
     "iopub.status.busy": "2024-04-19T04:40:11.904794Z",
     "iopub.status.idle": "2024-04-19T04:40:11.918009Z",
     "shell.execute_reply": "2024-04-19T04:40:11.916913Z",
     "shell.execute_reply.started": "2024-04-19T04:40:11.905148Z"
    },
    "papermill": {
     "duration": 0.00515,
     "end_time": "2024-04-19T04:49:40.057561",
     "exception": false,
     "start_time": "2024-04-19T04:49:40.052411",
     "status": "completed"
    },
    "tags": []
   },
   "outputs": [],
   "source": []
  },
  {
   "cell_type": "code",
   "execution_count": 4,
   "id": "cde582eb",
   "metadata": {
    "execution": {
     "iopub.execute_input": "2024-04-19T04:49:40.070504Z",
     "iopub.status.busy": "2024-04-19T04:49:40.069854Z",
     "iopub.status.idle": "2024-04-19T04:49:40.074065Z",
     "shell.execute_reply": "2024-04-19T04:49:40.073157Z"
    },
    "papermill": {
     "duration": 0.013339,
     "end_time": "2024-04-19T04:49:40.076271",
     "exception": false,
     "start_time": "2024-04-19T04:49:40.062932",
     "status": "completed"
    },
    "tags": []
   },
   "outputs": [],
   "source": [
    "# import pandas as pd\n",
    "# l = [[mildDem, 0], [moderateDem, 1], [nonDem, 2], [veryMild, 3]]\n",
    "# x = []\n",
    "# for i in l:\n",
    "#     for j in i[0]:\n",
    "#         path = os.path.join(\"/kaggle/working/train\", j)\n",
    "#         x.append([i[1], path])\n",
    "\n",
    "# df = pd.DataFrame(x, columns=[\"Class\", \"Path\"])\n",
    "# x = df[\"Class\"].value_counts()\n",
    "# x"
   ]
  },
  {
   "cell_type": "code",
   "execution_count": 5,
   "id": "9de29af3",
   "metadata": {
    "execution": {
     "iopub.execute_input": "2024-04-19T04:49:40.089198Z",
     "iopub.status.busy": "2024-04-19T04:49:40.088831Z",
     "iopub.status.idle": "2024-04-19T04:49:40.092978Z",
     "shell.execute_reply": "2024-04-19T04:49:40.091827Z"
    },
    "papermill": {
     "duration": 0.01298,
     "end_time": "2024-04-19T04:49:40.094936",
     "exception": false,
     "start_time": "2024-04-19T04:49:40.081956",
     "status": "completed"
    },
    "tags": []
   },
   "outputs": [],
   "source": [
    "# images = []\n",
    "# for i in df[\"Path\"]:\n",
    "#     images.append(np.load(i))\n",
    "# images = np.array(images)"
   ]
  },
  {
   "cell_type": "code",
   "execution_count": 6,
   "id": "080ebd81",
   "metadata": {
    "execution": {
     "iopub.execute_input": "2024-04-19T04:49:40.107938Z",
     "iopub.status.busy": "2024-04-19T04:49:40.106983Z",
     "iopub.status.idle": "2024-04-19T04:49:40.112051Z",
     "shell.execute_reply": "2024-04-19T04:49:40.110782Z"
    },
    "papermill": {
     "duration": 0.013741,
     "end_time": "2024-04-19T04:49:40.114122",
     "exception": false,
     "start_time": "2024-04-19T04:49:40.100381",
     "status": "completed"
    },
    "tags": []
   },
   "outputs": [],
   "source": [
    "# from imblearn.over_sampling import RandomOverSampler\n",
    "# image_shape = images[0].shape\n",
    "# print(image_shape)\n",
    "# ros = RandomOverSampler(random_state=42)\n",
    "# flattened_images = [image.flatten() for image in images]\n",
    "# X_res, y_res = ros.fit_resample(flattened_images, np.array(df[\"Class\"]))\n",
    "# images_over = np.reshape(X_res, (-1, *image_shape))\n",
    "# images_over.shape"
   ]
  },
  {
   "cell_type": "code",
   "execution_count": 7,
   "id": "c18a6382",
   "metadata": {
    "execution": {
     "iopub.execute_input": "2024-04-19T04:49:40.127340Z",
     "iopub.status.busy": "2024-04-19T04:49:40.126287Z",
     "iopub.status.idle": "2024-04-19T04:49:40.131156Z",
     "shell.execute_reply": "2024-04-19T04:49:40.130356Z"
    },
    "papermill": {
     "duration": 0.013639,
     "end_time": "2024-04-19T04:49:40.133223",
     "exception": false,
     "start_time": "2024-04-19T04:49:40.119584",
     "status": "completed"
    },
    "tags": []
   },
   "outputs": [],
   "source": [
    "# images_over"
   ]
  },
  {
   "cell_type": "code",
   "execution_count": 8,
   "id": "7469e2f4",
   "metadata": {
    "execution": {
     "iopub.execute_input": "2024-04-19T04:49:40.146573Z",
     "iopub.status.busy": "2024-04-19T04:49:40.145638Z",
     "iopub.status.idle": "2024-04-19T04:49:40.150158Z",
     "shell.execute_reply": "2024-04-19T04:49:40.149165Z"
    },
    "papermill": {
     "duration": 0.013296,
     "end_time": "2024-04-19T04:49:40.152443",
     "exception": false,
     "start_time": "2024-04-19T04:49:40.139147",
     "status": "completed"
    },
    "tags": []
   },
   "outputs": [],
   "source": [
    "# images_over.shape"
   ]
  },
  {
   "cell_type": "code",
   "execution_count": 9,
   "id": "cb3607e1",
   "metadata": {
    "execution": {
     "iopub.execute_input": "2024-04-19T04:49:40.166150Z",
     "iopub.status.busy": "2024-04-19T04:49:40.165753Z",
     "iopub.status.idle": "2024-04-19T04:49:40.169916Z",
     "shell.execute_reply": "2024-04-19T04:49:40.168714Z"
    },
    "papermill": {
     "duration": 0.013183,
     "end_time": "2024-04-19T04:49:40.172137",
     "exception": false,
     "start_time": "2024-04-19T04:49:40.158954",
     "status": "completed"
    },
    "tags": []
   },
   "outputs": [],
   "source": [
    "# !rm -rf /kaggle/working/train"
   ]
  },
  {
   "cell_type": "code",
   "execution_count": 10,
   "id": "d815ac4b",
   "metadata": {
    "execution": {
     "iopub.execute_input": "2024-04-19T04:49:40.185300Z",
     "iopub.status.busy": "2024-04-19T04:49:40.184679Z",
     "iopub.status.idle": "2024-04-19T04:49:40.188317Z",
     "shell.execute_reply": "2024-04-19T04:49:40.187533Z"
    },
    "papermill": {
     "duration": 0.01265,
     "end_time": "2024-04-19T04:49:40.190281",
     "exception": false,
     "start_time": "2024-04-19T04:49:40.177631",
     "status": "completed"
    },
    "tags": []
   },
   "outputs": [],
   "source": [
    "# import os\n",
    "\n",
    "# names = {0:\"milDem\", 1:\"moderateDim\", 2:\"nonDem\", 3:\"veryMildDem\"}\n",
    "\n",
    "# os.makedirs(\"/kaggle/working/train/\", exist_ok=True)\n",
    "\n",
    "# for i in range(len(y_res)):\n",
    "#     np.save(f\"/kaggle/working/train/{names[y_res[i]]}{i}.npy\", images_over[i])"
   ]
  },
  {
   "cell_type": "code",
   "execution_count": 11,
   "id": "5632254e",
   "metadata": {
    "execution": {
     "iopub.execute_input": "2024-04-19T04:49:40.203502Z",
     "iopub.status.busy": "2024-04-19T04:49:40.202446Z",
     "iopub.status.idle": "2024-04-19T04:49:40.207304Z",
     "shell.execute_reply": "2024-04-19T04:49:40.206339Z"
    },
    "papermill": {
     "duration": 0.013655,
     "end_time": "2024-04-19T04:49:40.209369",
     "exception": false,
     "start_time": "2024-04-19T04:49:40.195714",
     "status": "completed"
    },
    "tags": []
   },
   "outputs": [],
   "source": [
    "# import os\n",
    "# import numpy as np\n",
    "# directory = '/kaggle/input/betterest-preproc/train'\n",
    "\n",
    "# files = [file for file in os.listdir(directory) if file.endswith('.npy')]\n",
    "# len(files)"
   ]
  },
  {
   "cell_type": "code",
   "execution_count": 12,
   "id": "389adfd2",
   "metadata": {
    "execution": {
     "iopub.execute_input": "2024-04-19T04:49:40.222517Z",
     "iopub.status.busy": "2024-04-19T04:49:40.221866Z",
     "iopub.status.idle": "2024-04-19T04:49:40.226480Z",
     "shell.execute_reply": "2024-04-19T04:49:40.225622Z"
    },
    "papermill": {
     "duration": 0.013619,
     "end_time": "2024-04-19T04:49:40.228563",
     "exception": false,
     "start_time": "2024-04-19T04:49:40.214944",
     "status": "completed"
    },
    "tags": []
   },
   "outputs": [],
   "source": [
    "# from PIL import Image\n",
    "\n",
    "# # Open an image file\n",
    "# img = Image.open('/kaggle/input/alzheimers-dataset-4-class-of-images/Alzheimer_s Dataset/train/MildDemented/mildDem0.jpg')\n",
    "\n",
    "# # Get the image size\n",
    "# width, height = img.size\n",
    "\n",
    "# print(f\"The image width is {width} and the height is {height}\")"
   ]
  },
  {
   "cell_type": "code",
   "execution_count": 13,
   "id": "47463eeb",
   "metadata": {
    "execution": {
     "iopub.execute_input": "2024-04-19T04:49:40.241760Z",
     "iopub.status.busy": "2024-04-19T04:49:40.241396Z",
     "iopub.status.idle": "2024-04-19T04:49:40.245717Z",
     "shell.execute_reply": "2024-04-19T04:49:40.244570Z"
    },
    "papermill": {
     "duration": 0.013931,
     "end_time": "2024-04-19T04:49:40.248064",
     "exception": false,
     "start_time": "2024-04-19T04:49:40.234133",
     "status": "completed"
    },
    "tags": []
   },
   "outputs": [],
   "source": [
    "# import matplotlib.pyplot as plt\n",
    "\n",
    "# # Assuming 'img' is a valid image loaded by PIL or matplotlib\n",
    "# img = img.resize((130, 110))\n",
    "\n",
    "# plt.imshow(img)\n",
    "# plt.show()"
   ]
  },
  {
   "cell_type": "code",
   "execution_count": 14,
   "id": "74b1cd49",
   "metadata": {
    "execution": {
     "iopub.execute_input": "2024-04-19T04:49:40.261157Z",
     "iopub.status.busy": "2024-04-19T04:49:40.260382Z",
     "iopub.status.idle": "2024-04-19T04:49:40.265178Z",
     "shell.execute_reply": "2024-04-19T04:49:40.264131Z"
    },
    "papermill": {
     "duration": 0.01385,
     "end_time": "2024-04-19T04:49:40.267523",
     "exception": false,
     "start_time": "2024-04-19T04:49:40.253673",
     "status": "completed"
    },
    "tags": []
   },
   "outputs": [],
   "source": [
    "# img.save(\"img1.jpg\", \"JPEG\")\n"
   ]
  },
  {
   "cell_type": "code",
   "execution_count": 15,
   "id": "76da0430",
   "metadata": {
    "execution": {
     "iopub.execute_input": "2024-04-19T04:49:40.281075Z",
     "iopub.status.busy": "2024-04-19T04:49:40.279860Z",
     "iopub.status.idle": "2024-04-19T04:49:40.285160Z",
     "shell.execute_reply": "2024-04-19T04:49:40.284344Z"
    },
    "papermill": {
     "duration": 0.014129,
     "end_time": "2024-04-19T04:49:40.287122",
     "exception": false,
     "start_time": "2024-04-19T04:49:40.272993",
     "status": "completed"
    },
    "tags": []
   },
   "outputs": [],
   "source": [
    "# import os\n",
    "\n",
    "# # Specify the path to your image file\n",
    "# image_path = '/kaggle/input/betterest-preproc/train/milDem0.npy'\n",
    "\n",
    "# # Get the size of the image file in bytes\n",
    "# size_in_bytes = os.path.getsize(image_path)\n",
    "\n",
    "# # Convert the size to kilobytes\n",
    "# size_in_kb = size_in_bytes / 1024\n",
    "\n",
    "# # Convert the size to megabytes\n",
    "# size_in_mb = size_in_kb / 1024\n",
    "\n",
    "# print(f\"The image size is {size_in_bytes} bytes, {size_in_kb} KB, or {size_in_mb} MB.\")"
   ]
  },
  {
   "cell_type": "code",
   "execution_count": 16,
   "id": "e23347c6",
   "metadata": {
    "execution": {
     "iopub.execute_input": "2024-04-19T04:49:40.300298Z",
     "iopub.status.busy": "2024-04-19T04:49:40.299653Z",
     "iopub.status.idle": "2024-04-19T04:51:46.749126Z",
     "shell.execute_reply": "2024-04-19T04:51:46.747123Z"
    },
    "papermill": {
     "duration": 126.461673,
     "end_time": "2024-04-19T04:51:46.754374",
     "exception": false,
     "start_time": "2024-04-19T04:49:40.292701",
     "status": "completed"
    },
    "tags": []
   },
   "outputs": [],
   "source": [
    "import os\n",
    "import numpy as np\n",
    "from PIL import Image\n",
    "\n",
    "# Define the directory containing your .npy files\n",
    "npy_dir = '/kaggle/input/betterest-preproc/train'\n",
    "\n",
    "# Define the directory to save the resized .jpg files\n",
    "jpg_dir = '/kaggle/working/train'\n",
    "os.makedirs(jpg_dir, exist_ok=True)\n",
    "\n",
    "# Define the new size\n",
    "new_size = (130, 110)\n",
    "\n",
    "# Iterate over the .npy files\n",
    "for npy_file in os.listdir(npy_dir):\n",
    "    if npy_file.endswith('.npy'):\n",
    "        # Load the .npy file\n",
    "        npy_path = os.path.join(npy_dir, npy_file)\n",
    "        image_array = np.load(npy_path)\n",
    "\n",
    "        # Convert the array to an image\n",
    "        image_array = image_array.astype(np.uint8)\n",
    "        image = Image.fromarray(image_array)\n",
    "\n",
    "        # Resize the image\n",
    "        resized_image = image.resize(new_size)\n",
    "\n",
    "        # Save the image as a .jpg file\n",
    "        jpg_file = os.path.splitext(npy_file)[0] + '.jpg'\n",
    "        jpg_path = os.path.join(jpg_dir, jpg_file)\n",
    "        resized_image.save(jpg_path, 'JPEG')"
   ]
  },
  {
   "cell_type": "code",
   "execution_count": 17,
   "id": "d3380b8c",
   "metadata": {
    "execution": {
     "iopub.execute_input": "2024-04-19T04:51:46.771219Z",
     "iopub.status.busy": "2024-04-19T04:51:46.770463Z",
     "iopub.status.idle": "2024-04-19T04:51:53.875206Z",
     "shell.execute_reply": "2024-04-19T04:51:53.874022Z"
    },
    "papermill": {
     "duration": 7.115439,
     "end_time": "2024-04-19T04:51:53.877781",
     "exception": false,
     "start_time": "2024-04-19T04:51:46.762342",
     "status": "completed"
    },
    "tags": []
   },
   "outputs": [],
   "source": [
    "import os\n",
    "import numpy as np\n",
    "from PIL import Image\n",
    "\n",
    "# Define the directory containing your .npy files\n",
    "npy_dir = '/kaggle/input/betterest-preproc/test'\n",
    "\n",
    "# Define the directory to save the resized .jpg files\n",
    "jpg_dir = '/kaggle/working/test'\n",
    "os.makedirs(jpg_dir, exist_ok=True)\n",
    "\n",
    "# Define the new size\n",
    "new_size = (130, 110)\n",
    "\n",
    "# Iterate over the .npy files\n",
    "for npy_file in os.listdir(npy_dir):\n",
    "    if npy_file.endswith('.npy'):\n",
    "        # Load the .npy file\n",
    "        npy_path = os.path.join(npy_dir, npy_file)\n",
    "        image_array = np.load(npy_path)\n",
    "\n",
    "        # Convert the array to an image\n",
    "        image = Image.fromarray(image_array)\n",
    "\n",
    "        # Resize the image\n",
    "        resized_image = image.resize(new_size)\n",
    "\n",
    "        # Save the image as a .jpg file\n",
    "        jpg_file = os.path.splitext(npy_file)[0] + '.jpg'\n",
    "        jpg_path = os.path.join(jpg_dir, jpg_file)\n",
    "        resized_image.save(jpg_path, 'JPEG')"
   ]
  },
  {
   "cell_type": "code",
   "execution_count": 18,
   "id": "f1f7367c",
   "metadata": {
    "execution": {
     "iopub.execute_input": "2024-04-19T04:51:53.891654Z",
     "iopub.status.busy": "2024-04-19T04:51:53.890850Z",
     "iopub.status.idle": "2024-04-19T04:51:53.909839Z",
     "shell.execute_reply": "2024-04-19T04:51:53.908625Z"
    },
    "papermill": {
     "duration": 0.029511,
     "end_time": "2024-04-19T04:51:53.913112",
     "exception": false,
     "start_time": "2024-04-19T04:51:53.883601",
     "status": "completed"
    },
    "tags": []
   },
   "outputs": [
    {
     "data": {
      "text/plain": [
       "10240"
      ]
     },
     "execution_count": 18,
     "metadata": {},
     "output_type": "execute_result"
    }
   ],
   "source": [
    "import os\n",
    "import numpy as np\n",
    "directory = '/kaggle/working/train'\n",
    "\n",
    "files = os.listdir(directory)\n",
    "len(files)"
   ]
  },
  {
   "cell_type": "code",
   "execution_count": 19,
   "id": "fd4bada0",
   "metadata": {
    "execution": {
     "iopub.execute_input": "2024-04-19T04:51:53.926169Z",
     "iopub.status.busy": "2024-04-19T04:51:53.925776Z",
     "iopub.status.idle": "2024-04-19T04:51:53.930513Z",
     "shell.execute_reply": "2024-04-19T04:51:53.929298Z"
    },
    "papermill": {
     "duration": 0.013456,
     "end_time": "2024-04-19T04:51:53.932410",
     "exception": false,
     "start_time": "2024-04-19T04:51:53.918954",
     "status": "completed"
    },
    "tags": []
   },
   "outputs": [],
   "source": [
    "# files.sort()\n",
    "# for i in files:\n",
    "#     print(i)"
   ]
  },
  {
   "cell_type": "code",
   "execution_count": 20,
   "id": "ab4420be",
   "metadata": {
    "execution": {
     "iopub.execute_input": "2024-04-19T04:51:53.946334Z",
     "iopub.status.busy": "2024-04-19T04:51:53.945362Z",
     "iopub.status.idle": "2024-04-19T04:51:53.961154Z",
     "shell.execute_reply": "2024-04-19T04:51:53.959844Z"
    },
    "papermill": {
     "duration": 0.025608,
     "end_time": "2024-04-19T04:51:53.963893",
     "exception": false,
     "start_time": "2024-04-19T04:51:53.938285",
     "status": "completed"
    },
    "tags": []
   },
   "outputs": [
    {
     "name": "stdout",
     "output_type": "stream",
     "text": [
      "2560 2560 2560 2560\n"
     ]
    }
   ],
   "source": [
    "mildDem = [i for i in files if i.startswith(\"milDem\")]\n",
    "moderateDem = [i for i in files if \"moderateDim\" in i]\n",
    "nonDem = [i for i in files if \"nonDem\" in i]\n",
    "veryMild = [i for i in files if \"veryMildDem\" in i]\n",
    "print(len(mildDem), len(moderateDem), len(nonDem), len(veryMild))"
   ]
  },
  {
   "cell_type": "code",
   "execution_count": null,
   "id": "72f5b33e",
   "metadata": {
    "papermill": {
     "duration": 0.008015,
     "end_time": "2024-04-19T04:51:53.980251",
     "exception": false,
     "start_time": "2024-04-19T04:51:53.972236",
     "status": "completed"
    },
    "tags": []
   },
   "outputs": [],
   "source": []
  }
 ],
 "metadata": {
  "kaggle": {
   "accelerator": "none",
   "dataSources": [
    {
     "datasetId": 457093,
     "sourceId": 861496,
     "sourceType": "datasetVersion"
    },
    {
     "datasetId": 4817485,
     "sourceId": 8157605,
     "sourceType": "datasetVersion"
    }
   ],
   "dockerImageVersionId": 30684,
   "isGpuEnabled": false,
   "isInternetEnabled": true,
   "language": "python",
   "sourceType": "notebook"
  },
  "kernelspec": {
   "display_name": "Python 3",
   "language": "python",
   "name": "python3"
  },
  "language_info": {
   "codemirror_mode": {
    "name": "ipython",
    "version": 3
   },
   "file_extension": ".py",
   "mimetype": "text/x-python",
   "name": "python",
   "nbconvert_exporter": "python",
   "pygments_lexer": "ipython3",
   "version": "3.10.13"
  },
  "papermill": {
   "default_parameters": {},
   "duration": 137.201794,
   "end_time": "2024-04-19T04:51:54.411659",
   "environment_variables": {},
   "exception": null,
   "input_path": "__notebook__.ipynb",
   "output_path": "__notebook__.ipynb",
   "parameters": {},
   "start_time": "2024-04-19T04:49:37.209865",
   "version": "2.5.0"
  }
 },
 "nbformat": 4,
 "nbformat_minor": 5
}
