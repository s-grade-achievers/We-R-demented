{
 "cells": [
  {
   "cell_type": "code",
   "execution_count": 1,
   "id": "fffb5a04",
   "metadata": {
    "_cell_guid": "b1076dfc-b9ad-4769-8c92-a6c4dae69d19",
    "_uuid": "8f2839f25d086af736a60e9eeb907d3b93b6e0e5",
    "execution": {
     "iopub.execute_input": "2024-04-17T13:09:35.465093Z",
     "iopub.status.busy": "2024-04-17T13:09:35.464660Z",
     "iopub.status.idle": "2024-04-17T13:10:15.349295Z",
     "shell.execute_reply": "2024-04-17T13:10:15.348032Z"
    },
    "papermill": {
     "duration": 39.894727,
     "end_time": "2024-04-17T13:10:15.352782",
     "exception": false,
     "start_time": "2024-04-17T13:09:35.458055",
     "status": "completed"
    },
    "tags": []
   },
   "outputs": [],
   "source": [
    "import os\n",
    "import cv2\n",
    "import numpy as np\n",
    "\n",
    "def jpg_to_npy_in_folders(input_folder, output_folder):\n",
    "    os.makedirs(output_folder, exist_ok=True)\n",
    "    for i, item in enumerate(os.listdir(input_folder)):\n",
    "        item_path = os.path.join(input_folder, item)\n",
    "        if os.path.isdir(item_path):\n",
    "            jpg_to_npy_in_folders(item_path, output_folder)\n",
    "        elif os.path.isfile(item_path) and item.endswith(\".jpg\"):\n",
    "            img = cv2.imread(item_path)\n",
    "            img_array = np.array(img)\n",
    "            output_file_path = os.path.join(output_folder, os.path.splitext(item)[0] + '.npy')\n",
    "            np.save(output_file_path, img_array)\n",
    "\n",
    "# input_folder_path = \"/content/Alzheimer_s Dataset/train\"\n",
    "input_folder_path = \"/kaggle/input/alzheimers-dataset-4-class-of-images/Alzheimer_s Dataset/train\"\n",
    "output_folder_path = \"/kaggle/working/train\"\n",
    "\n",
    "jpg_to_npy_in_folders(input_folder_path, output_folder_path)\n",
    "\n"
   ]
  },
  {
   "cell_type": "code",
   "execution_count": 2,
   "id": "d27e6f1f",
   "metadata": {
    "execution": {
     "iopub.execute_input": "2024-04-17T13:10:15.362915Z",
     "iopub.status.busy": "2024-04-17T13:10:15.362519Z",
     "iopub.status.idle": "2024-04-17T13:10:24.280292Z",
     "shell.execute_reply": "2024-04-17T13:10:24.278738Z"
    },
    "papermill": {
     "duration": 8.926211,
     "end_time": "2024-04-17T13:10:24.283362",
     "exception": false,
     "start_time": "2024-04-17T13:10:15.357151",
     "status": "completed"
    },
    "tags": []
   },
   "outputs": [],
   "source": [
    "import os\n",
    "import cv2\n",
    "import numpy as np\n",
    "\n",
    "def jpg_to_npy_in_folders(input_folder, output_folder):\n",
    "    os.makedirs(output_folder, exist_ok=True)\n",
    "    for i, item in enumerate(os.listdir(input_folder)):\n",
    "        item_path = os.path.join(input_folder, item)\n",
    "        if os.path.isdir(item_path):\n",
    "            jpg_to_npy_in_folders(item_path, output_folder)\n",
    "        elif os.path.isfile(item_path) and item.endswith(\".jpg\"):\n",
    "            img = cv2.imread(item_path)\n",
    "            img_array = np.array(img)\n",
    "            folder = input_folder.split(\"/\")[-1]\n",
    "            output_file_path = os.path.join(output_folder, f\"{folder}{i}.npy\")\n",
    "            np.save(output_file_path, img_array)\n",
    "\n",
    "# input_folder_path = \"/kaggle/input/alzheimers-dataset-4-class-of-images/Alzheimer_s Dataset/train\"\n",
    "# output_folder_path = \"/kaggle/working/train\"\n",
    "\n",
    "# jpg_to_npy_in_folders(input_folder_path, output_folder_path)\n",
    "jpg_to_npy_in_folders(\"/kaggle/input/alzheimers-dataset-4-class-of-images/Alzheimer_s Dataset/test\", \"/kaggle/working/test\")\n",
    "# jpg_to_npy_in_folders(\"/content/Alzheimer_s Dataset/test\", \"/kaggle/working/test\")\n",
    "\n"
   ]
  },
  {
   "cell_type": "code",
   "execution_count": 3,
   "id": "285b70aa",
   "metadata": {
    "execution": {
     "iopub.execute_input": "2024-04-17T13:10:24.295456Z",
     "iopub.status.busy": "2024-04-17T13:10:24.293784Z",
     "iopub.status.idle": "2024-04-17T13:10:24.311147Z",
     "shell.execute_reply": "2024-04-17T13:10:24.309702Z"
    },
    "papermill": {
     "duration": 0.026216,
     "end_time": "2024-04-17T13:10:24.314160",
     "exception": false,
     "start_time": "2024-04-17T13:10:24.287944",
     "status": "completed"
    },
    "tags": []
   },
   "outputs": [
    {
     "data": {
      "text/plain": [
       "5121"
      ]
     },
     "execution_count": 3,
     "metadata": {},
     "output_type": "execute_result"
    }
   ],
   "source": [
    "import os\n",
    "import numpy as np\n",
    "directory = '/kaggle/working/train'\n",
    "\n",
    "files = [file for file in os.listdir(directory) if file.endswith('.npy')]\n",
    "len(files)"
   ]
  },
  {
   "cell_type": "code",
   "execution_count": 4,
   "id": "50931db9",
   "metadata": {
    "execution": {
     "iopub.execute_input": "2024-04-17T13:10:24.325196Z",
     "iopub.status.busy": "2024-04-17T13:10:24.324749Z",
     "iopub.status.idle": "2024-04-17T13:10:24.336374Z",
     "shell.execute_reply": "2024-04-17T13:10:24.334938Z"
    },
    "papermill": {
     "duration": 0.020132,
     "end_time": "2024-04-17T13:10:24.338909",
     "exception": false,
     "start_time": "2024-04-17T13:10:24.318777",
     "status": "completed"
    },
    "tags": []
   },
   "outputs": [
    {
     "name": "stdout",
     "output_type": "stream",
     "text": [
      "717 52 2560 1792\n"
     ]
    }
   ],
   "source": [
    "mildDem = [i for i in files if i.startswith(\"mildDem\")]\n",
    "moderateDem = [i for i in files if \"moderateDem\" in i]\n",
    "nonDem = [i for i in files if \"nonDem\" in i]\n",
    "veryMild = [i for i in files if \"verymildDem\" in i]\n",
    "print(len(mildDem), len(moderateDem), len(nonDem), len(veryMild))"
   ]
  },
  {
   "cell_type": "code",
   "execution_count": 5,
   "id": "3abb16b7",
   "metadata": {
    "execution": {
     "iopub.execute_input": "2024-04-17T13:10:24.349807Z",
     "iopub.status.busy": "2024-04-17T13:10:24.349318Z",
     "iopub.status.idle": "2024-04-17T13:10:25.452257Z",
     "shell.execute_reply": "2024-04-17T13:10:25.450751Z"
    },
    "papermill": {
     "duration": 1.111473,
     "end_time": "2024-04-17T13:10:25.454816",
     "exception": false,
     "start_time": "2024-04-17T13:10:24.343343",
     "status": "completed"
    },
    "tags": []
   },
   "outputs": [
    {
     "data": {
      "text/plain": [
       "Class\n",
       "2    2560\n",
       "3    1792\n",
       "0     717\n",
       "1      52\n",
       "Name: count, dtype: int64"
      ]
     },
     "execution_count": 5,
     "metadata": {},
     "output_type": "execute_result"
    }
   ],
   "source": [
    "import pandas as pd\n",
    "l = [[mildDem, 0], [moderateDem, 1], [nonDem, 2], [veryMild, 3]]\n",
    "x = []\n",
    "for i in l:\n",
    "    for j in i[0]:\n",
    "        path = os.path.join(\"/kaggle/working/train\", j)\n",
    "        x.append([i[1], path])\n",
    "\n",
    "df = pd.DataFrame(x, columns=[\"Class\", \"Path\"])\n",
    "x = df[\"Class\"].value_counts()\n",
    "x"
   ]
  },
  {
   "cell_type": "code",
   "execution_count": 6,
   "id": "c9ba7056",
   "metadata": {
    "execution": {
     "iopub.execute_input": "2024-04-17T13:10:25.465864Z",
     "iopub.status.busy": "2024-04-17T13:10:25.465313Z",
     "iopub.status.idle": "2024-04-17T13:10:27.165386Z",
     "shell.execute_reply": "2024-04-17T13:10:27.164037Z"
    },
    "papermill": {
     "duration": 1.709003,
     "end_time": "2024-04-17T13:10:27.168339",
     "exception": false,
     "start_time": "2024-04-17T13:10:25.459336",
     "status": "completed"
    },
    "tags": []
   },
   "outputs": [],
   "source": [
    "images = []\n",
    "for i in df[\"Path\"]:\n",
    "    images.append(np.load(i))\n",
    "images = np.array(images)"
   ]
  },
  {
   "cell_type": "code",
   "execution_count": 7,
   "id": "92cc1656",
   "metadata": {
    "execution": {
     "iopub.execute_input": "2024-04-17T13:10:27.179770Z",
     "iopub.status.busy": "2024-04-17T13:10:27.179341Z",
     "iopub.status.idle": "2024-04-17T13:11:23.773311Z",
     "shell.execute_reply": "2024-04-17T13:11:23.772166Z"
    },
    "papermill": {
     "duration": 56.603031,
     "end_time": "2024-04-17T13:11:23.776230",
     "exception": false,
     "start_time": "2024-04-17T13:10:27.173199",
     "status": "completed"
    },
    "tags": []
   },
   "outputs": [],
   "source": [
    "from imblearn.over_sampling import SMOTE\n",
    "\n",
    "sm = SMOTE(random_state=42)\n",
    "flattened_images = [image.flatten() for image in images]\n",
    "image_shape = images[0].shape\n",
    "X_res, y_res = sm.fit_resample(flattened_images, np.array(df[\"Class\"]))  # `labels` should be your list of class labels\n"
   ]
  },
  {
   "cell_type": "code",
   "execution_count": 8,
   "id": "e81b7893",
   "metadata": {
    "execution": {
     "iopub.execute_input": "2024-04-17T13:11:23.788714Z",
     "iopub.status.busy": "2024-04-17T13:11:23.787281Z",
     "iopub.status.idle": "2024-04-17T13:13:20.750565Z",
     "shell.execute_reply": "2024-04-17T13:13:20.749003Z"
    },
    "papermill": {
     "duration": 116.972593,
     "end_time": "2024-04-17T13:13:20.753610",
     "exception": false,
     "start_time": "2024-04-17T13:11:23.781017",
     "status": "completed"
    },
    "tags": []
   },
   "outputs": [],
   "source": [
    "res_images = [np.array(x).reshape(image_shape) for x in X_res]"
   ]
  },
  {
   "cell_type": "code",
   "execution_count": 9,
   "id": "c0601ccb",
   "metadata": {
    "execution": {
     "iopub.execute_input": "2024-04-17T13:13:20.766078Z",
     "iopub.status.busy": "2024-04-17T13:13:20.765626Z",
     "iopub.status.idle": "2024-04-17T13:13:22.557030Z",
     "shell.execute_reply": "2024-04-17T13:13:22.555193Z"
    },
    "papermill": {
     "duration": 1.801267,
     "end_time": "2024-04-17T13:13:22.560500",
     "exception": false,
     "start_time": "2024-04-17T13:13:20.759233",
     "status": "completed"
    },
    "tags": []
   },
   "outputs": [],
   "source": [
    "!rm -rf /kaggle/working/train"
   ]
  },
  {
   "cell_type": "code",
   "execution_count": 10,
   "id": "76ac9f5c",
   "metadata": {
    "execution": {
     "iopub.execute_input": "2024-04-17T13:13:22.573205Z",
     "iopub.status.busy": "2024-04-17T13:13:22.572771Z",
     "iopub.status.idle": "2024-04-17T13:13:52.665635Z",
     "shell.execute_reply": "2024-04-17T13:13:52.663591Z"
    },
    "papermill": {
     "duration": 30.103326,
     "end_time": "2024-04-17T13:13:52.669059",
     "exception": false,
     "start_time": "2024-04-17T13:13:22.565733",
     "status": "completed"
    },
    "tags": []
   },
   "outputs": [],
   "source": [
    "import os\n",
    "\n",
    "names = {0:\"milDem\", 1:\"moderateDim\", 2:\"nonDem\", 3:\"veryMildDem\"}\n",
    "\n",
    "# Create the directory if it doesn't exist\n",
    "os.makedirs(\"/kaggle/working/train/\", exist_ok=True)\n",
    "\n",
    "for i in range(len(y_res)):\n",
    "    np.save(f\"/kaggle/working/train/{names[y_res[i]]}{i}.npy\", res_images[i])"
   ]
  }
 ],
 "metadata": {
  "kaggle": {
   "accelerator": "none",
   "dataSources": [
    {
     "datasetId": 457093,
     "sourceId": 861496,
     "sourceType": "datasetVersion"
    }
   ],
   "dockerImageVersionId": 30684,
   "isGpuEnabled": false,
   "isInternetEnabled": true,
   "language": "python",
   "sourceType": "notebook"
  },
  "kernelspec": {
   "display_name": "Python 3",
   "language": "python",
   "name": "python3"
  },
  "language_info": {
   "codemirror_mode": {
    "name": "ipython",
    "version": 3
   },
   "file_extension": ".py",
   "mimetype": "text/x-python",
   "name": "python",
   "nbconvert_exporter": "python",
   "pygments_lexer": "ipython3",
   "version": "3.10.13"
  },
  "papermill": {
   "default_parameters": {},
   "duration": 273.488465,
   "end_time": "2024-04-17T13:14:05.646796",
   "environment_variables": {},
   "exception": null,
   "input_path": "__notebook__.ipynb",
   "output_path": "__notebook__.ipynb",
   "parameters": {},
   "start_time": "2024-04-17T13:09:32.158331",
   "version": "2.5.0"
  }
 },
 "nbformat": 4,
 "nbformat_minor": 5
}
