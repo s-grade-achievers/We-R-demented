{
 "cells": [
  {
   "cell_type": "code",
   "execution_count": 1,
   "id": "5978a910",
   "metadata": {
    "_cell_guid": "b1076dfc-b9ad-4769-8c92-a6c4dae69d19",
    "_uuid": "8f2839f25d086af736a60e9eeb907d3b93b6e0e5",
    "execution": {
     "iopub.execute_input": "2024-04-18T15:33:16.938662Z",
     "iopub.status.busy": "2024-04-18T15:33:16.938152Z",
     "iopub.status.idle": "2024-04-18T15:33:52.499133Z",
     "shell.execute_reply": "2024-04-18T15:33:52.497688Z"
    },
    "papermill": {
     "duration": 35.570621,
     "end_time": "2024-04-18T15:33:52.502143",
     "exception": false,
     "start_time": "2024-04-18T15:33:16.931522",
     "status": "completed"
    },
    "tags": []
   },
   "outputs": [],
   "source": [
    "import os\n",
    "import cv2\n",
    "import numpy as np\n",
    "\n",
    "def jpg_to_npy_in_folders(input_folder, output_folder):\n",
    "    os.makedirs(output_folder, exist_ok=True)\n",
    "    for i, item in enumerate(os.listdir(input_folder)):\n",
    "        item_path = os.path.join(input_folder, item)\n",
    "        if os.path.isdir(item_path):\n",
    "            jpg_to_npy_in_folders(item_path, output_folder)\n",
    "        elif os.path.isfile(item_path) and item.endswith(\".jpg\"):\n",
    "            img = cv2.imread(item_path)\n",
    "            img_array = np.array(img)\n",
    "            output_file_path = os.path.join(output_folder, os.path.splitext(item)[0] + '.npy')\n",
    "            np.save(output_file_path, img_array)\n",
    "\n",
    "input_folder_path = \"/kaggle/input/alzheimers-dataset-4-class-of-images/Alzheimer_s Dataset/train\"\n",
    "output_folder_path = \"/kaggle/working/train\"\n",
    "\n",
    "jpg_to_npy_in_folders(input_folder_path, output_folder_path)\n",
    "\n"
   ]
  },
  {
   "cell_type": "code",
   "execution_count": 2,
   "id": "b464eb9f",
   "metadata": {
    "execution": {
     "iopub.execute_input": "2024-04-18T15:33:52.512047Z",
     "iopub.status.busy": "2024-04-18T15:33:52.511649Z",
     "iopub.status.idle": "2024-04-18T15:34:01.166009Z",
     "shell.execute_reply": "2024-04-18T15:34:01.164738Z"
    },
    "papermill": {
     "duration": 8.66249,
     "end_time": "2024-04-18T15:34:01.168919",
     "exception": false,
     "start_time": "2024-04-18T15:33:52.506429",
     "status": "completed"
    },
    "tags": []
   },
   "outputs": [],
   "source": [
    "import os\n",
    "import cv2\n",
    "import numpy as np\n",
    "\n",
    "def jpg_to_npy_in_folders(input_folder, output_folder):\n",
    "    os.makedirs(output_folder, exist_ok=True)\n",
    "    for i, item in enumerate(os.listdir(input_folder)):\n",
    "        item_path = os.path.join(input_folder, item)\n",
    "        if os.path.isdir(item_path):\n",
    "            jpg_to_npy_in_folders(item_path, output_folder)\n",
    "        elif os.path.isfile(item_path) and item.endswith(\".jpg\"):\n",
    "            img = cv2.imread(item_path)\n",
    "            img_array = np.array(img)\n",
    "            folder = input_folder.split(\"/\")[-1]\n",
    "            output_file_path = os.path.join(output_folder, f\"{folder}{i}.npy\")\n",
    "            np.save(output_file_path, img_array)\n",
    "\n",
    "\n",
    "jpg_to_npy_in_folders(\"/kaggle/input/alzheimers-dataset-4-class-of-images/Alzheimer_s Dataset/test\", \"/kaggle/working/test\")\n",
    "\n"
   ]
  },
  {
   "cell_type": "code",
   "execution_count": 3,
   "id": "bcf3f648",
   "metadata": {
    "execution": {
     "iopub.execute_input": "2024-04-18T15:34:01.179094Z",
     "iopub.status.busy": "2024-04-18T15:34:01.178174Z",
     "iopub.status.idle": "2024-04-18T15:34:01.193004Z",
     "shell.execute_reply": "2024-04-18T15:34:01.191718Z"
    },
    "papermill": {
     "duration": 0.022633,
     "end_time": "2024-04-18T15:34:01.195539",
     "exception": false,
     "start_time": "2024-04-18T15:34:01.172906",
     "status": "completed"
    },
    "tags": []
   },
   "outputs": [
    {
     "data": {
      "text/plain": [
       "5121"
      ]
     },
     "execution_count": 3,
     "metadata": {},
     "output_type": "execute_result"
    }
   ],
   "source": [
    "import os\n",
    "import numpy as np\n",
    "directory = '/kaggle/working/train'\n",
    "\n",
    "files = [file for file in os.listdir(directory) if file.endswith('.npy')]\n",
    "len(files)"
   ]
  },
  {
   "cell_type": "code",
   "execution_count": 4,
   "id": "97a9304a",
   "metadata": {
    "execution": {
     "iopub.execute_input": "2024-04-18T15:34:01.206036Z",
     "iopub.status.busy": "2024-04-18T15:34:01.205575Z",
     "iopub.status.idle": "2024-04-18T15:34:01.215811Z",
     "shell.execute_reply": "2024-04-18T15:34:01.214388Z"
    },
    "papermill": {
     "duration": 0.018479,
     "end_time": "2024-04-18T15:34:01.218172",
     "exception": false,
     "start_time": "2024-04-18T15:34:01.199693",
     "status": "completed"
    },
    "tags": []
   },
   "outputs": [
    {
     "name": "stdout",
     "output_type": "stream",
     "text": [
      "717 52 2560 1792\n"
     ]
    }
   ],
   "source": [
    "mildDem = [i for i in files if i.startswith(\"mildDem\")]\n",
    "moderateDem = [i for i in files if \"moderateDem\" in i]\n",
    "nonDem = [i for i in files if \"nonDem\" in i]\n",
    "veryMild = [i for i in files if \"verymildDem\" in i]\n",
    "print(len(mildDem), len(moderateDem), len(nonDem), len(veryMild))"
   ]
  },
  {
   "cell_type": "code",
   "execution_count": 5,
   "id": "0206b9a3",
   "metadata": {
    "execution": {
     "iopub.execute_input": "2024-04-18T15:34:01.228474Z",
     "iopub.status.busy": "2024-04-18T15:34:01.227997Z",
     "iopub.status.idle": "2024-04-18T15:34:02.339572Z",
     "shell.execute_reply": "2024-04-18T15:34:02.338421Z"
    },
    "papermill": {
     "duration": 1.119638,
     "end_time": "2024-04-18T15:34:02.342231",
     "exception": false,
     "start_time": "2024-04-18T15:34:01.222593",
     "status": "completed"
    },
    "tags": []
   },
   "outputs": [
    {
     "data": {
      "text/plain": [
       "Class\n",
       "2    2560\n",
       "3    1792\n",
       "0     717\n",
       "1      52\n",
       "Name: count, dtype: int64"
      ]
     },
     "execution_count": 5,
     "metadata": {},
     "output_type": "execute_result"
    }
   ],
   "source": [
    "import pandas as pd\n",
    "l = [[mildDem, 0], [moderateDem, 1], [nonDem, 2], [veryMild, 3]]\n",
    "x = []\n",
    "for i in l:\n",
    "    for j in i[0]:\n",
    "        path = os.path.join(\"/kaggle/working/train\", j)\n",
    "        x.append([i[1], path])\n",
    "\n",
    "df = pd.DataFrame(x, columns=[\"Class\", \"Path\"])\n",
    "x = df[\"Class\"].value_counts()\n",
    "x"
   ]
  },
  {
   "cell_type": "code",
   "execution_count": 6,
   "id": "6d210148",
   "metadata": {
    "execution": {
     "iopub.execute_input": "2024-04-18T15:34:02.356967Z",
     "iopub.status.busy": "2024-04-18T15:34:02.356392Z",
     "iopub.status.idle": "2024-04-18T15:34:04.617837Z",
     "shell.execute_reply": "2024-04-18T15:34:04.616604Z"
    },
    "papermill": {
     "duration": 2.270858,
     "end_time": "2024-04-18T15:34:04.620596",
     "exception": false,
     "start_time": "2024-04-18T15:34:02.349738",
     "status": "completed"
    },
    "tags": []
   },
   "outputs": [],
   "source": [
    "images = []\n",
    "for i in df[\"Path\"]:\n",
    "    images.append(np.load(i))\n",
    "images = np.array(images)"
   ]
  },
  {
   "cell_type": "code",
   "execution_count": 7,
   "id": "0ac839eb",
   "metadata": {
    "execution": {
     "iopub.execute_input": "2024-04-18T15:34:04.630941Z",
     "iopub.status.busy": "2024-04-18T15:34:04.630534Z",
     "iopub.status.idle": "2024-04-18T15:35:46.778060Z",
     "shell.execute_reply": "2024-04-18T15:35:46.776919Z"
    },
    "papermill": {
     "duration": 102.159788,
     "end_time": "2024-04-18T15:35:46.784627",
     "exception": false,
     "start_time": "2024-04-18T15:34:04.624839",
     "status": "completed"
    },
    "tags": []
   },
   "outputs": [
    {
     "name": "stdout",
     "output_type": "stream",
     "text": [
      "(208, 176, 3)\n"
     ]
    },
    {
     "data": {
      "text/plain": [
       "(10240, 208, 176, 3)"
      ]
     },
     "execution_count": 7,
     "metadata": {},
     "output_type": "execute_result"
    }
   ],
   "source": [
    "from imblearn.over_sampling import RandomOverSampler\n",
    "image_shape = images[0].shape\n",
    "print(image_shape)\n",
    "ros = RandomOverSampler(random_state=42)\n",
    "flattened_images = [image.flatten() for image in images]\n",
    "X_res, y_res = ros.fit_resample(flattened_images, np.array(df[\"Class\"]))\n",
    "images_over = np.reshape(X_res, (-1, *image_shape))\n",
    "images_over.shape"
   ]
  },
  {
   "cell_type": "code",
   "execution_count": 8,
   "id": "83947630",
   "metadata": {
    "execution": {
     "iopub.execute_input": "2024-04-18T15:35:46.795313Z",
     "iopub.status.busy": "2024-04-18T15:35:46.794738Z",
     "iopub.status.idle": "2024-04-18T15:35:46.806666Z",
     "shell.execute_reply": "2024-04-18T15:35:46.805318Z"
    },
    "papermill": {
     "duration": 0.020271,
     "end_time": "2024-04-18T15:35:46.809055",
     "exception": false,
     "start_time": "2024-04-18T15:35:46.788784",
     "status": "completed"
    },
    "tags": []
   },
   "outputs": [
    {
     "data": {
      "text/plain": [
       "array([[[[0, 0, 0],\n",
       "         [0, 0, 0],\n",
       "         [0, 0, 0],\n",
       "         ...,\n",
       "         [0, 0, 0],\n",
       "         [0, 0, 0],\n",
       "         [0, 0, 0]],\n",
       "\n",
       "        [[0, 0, 0],\n",
       "         [0, 0, 0],\n",
       "         [0, 0, 0],\n",
       "         ...,\n",
       "         [0, 0, 0],\n",
       "         [0, 0, 0],\n",
       "         [0, 0, 0]],\n",
       "\n",
       "        [[0, 0, 0],\n",
       "         [0, 0, 0],\n",
       "         [0, 0, 0],\n",
       "         ...,\n",
       "         [0, 0, 0],\n",
       "         [0, 0, 0],\n",
       "         [0, 0, 0]],\n",
       "\n",
       "        ...,\n",
       "\n",
       "        [[0, 0, 0],\n",
       "         [0, 0, 0],\n",
       "         [0, 0, 0],\n",
       "         ...,\n",
       "         [0, 0, 0],\n",
       "         [0, 0, 0],\n",
       "         [0, 0, 0]],\n",
       "\n",
       "        [[0, 0, 0],\n",
       "         [0, 0, 0],\n",
       "         [0, 0, 0],\n",
       "         ...,\n",
       "         [0, 0, 0],\n",
       "         [0, 0, 0],\n",
       "         [0, 0, 0]],\n",
       "\n",
       "        [[0, 0, 0],\n",
       "         [0, 0, 0],\n",
       "         [0, 0, 0],\n",
       "         ...,\n",
       "         [0, 0, 0],\n",
       "         [0, 0, 0],\n",
       "         [0, 0, 0]]],\n",
       "\n",
       "\n",
       "       [[[0, 0, 0],\n",
       "         [0, 0, 0],\n",
       "         [0, 0, 0],\n",
       "         ...,\n",
       "         [0, 0, 0],\n",
       "         [0, 0, 0],\n",
       "         [0, 0, 0]],\n",
       "\n",
       "        [[0, 0, 0],\n",
       "         [0, 0, 0],\n",
       "         [0, 0, 0],\n",
       "         ...,\n",
       "         [0, 0, 0],\n",
       "         [0, 0, 0],\n",
       "         [0, 0, 0]],\n",
       "\n",
       "        [[0, 0, 0],\n",
       "         [0, 0, 0],\n",
       "         [0, 0, 0],\n",
       "         ...,\n",
       "         [0, 0, 0],\n",
       "         [0, 0, 0],\n",
       "         [0, 0, 0]],\n",
       "\n",
       "        ...,\n",
       "\n",
       "        [[0, 0, 0],\n",
       "         [0, 0, 0],\n",
       "         [0, 0, 0],\n",
       "         ...,\n",
       "         [0, 0, 0],\n",
       "         [0, 0, 0],\n",
       "         [0, 0, 0]],\n",
       "\n",
       "        [[0, 0, 0],\n",
       "         [0, 0, 0],\n",
       "         [0, 0, 0],\n",
       "         ...,\n",
       "         [0, 0, 0],\n",
       "         [0, 0, 0],\n",
       "         [0, 0, 0]],\n",
       "\n",
       "        [[0, 0, 0],\n",
       "         [0, 0, 0],\n",
       "         [0, 0, 0],\n",
       "         ...,\n",
       "         [0, 0, 0],\n",
       "         [0, 0, 0],\n",
       "         [0, 0, 0]]],\n",
       "\n",
       "\n",
       "       [[[0, 0, 0],\n",
       "         [0, 0, 0],\n",
       "         [0, 0, 0],\n",
       "         ...,\n",
       "         [0, 0, 0],\n",
       "         [0, 0, 0],\n",
       "         [0, 0, 0]],\n",
       "\n",
       "        [[0, 0, 0],\n",
       "         [0, 0, 0],\n",
       "         [0, 0, 0],\n",
       "         ...,\n",
       "         [0, 0, 0],\n",
       "         [0, 0, 0],\n",
       "         [0, 0, 0]],\n",
       "\n",
       "        [[0, 0, 0],\n",
       "         [0, 0, 0],\n",
       "         [0, 0, 0],\n",
       "         ...,\n",
       "         [0, 0, 0],\n",
       "         [0, 0, 0],\n",
       "         [0, 0, 0]],\n",
       "\n",
       "        ...,\n",
       "\n",
       "        [[0, 0, 0],\n",
       "         [0, 0, 0],\n",
       "         [0, 0, 0],\n",
       "         ...,\n",
       "         [0, 0, 0],\n",
       "         [0, 0, 0],\n",
       "         [0, 0, 0]],\n",
       "\n",
       "        [[0, 0, 0],\n",
       "         [0, 0, 0],\n",
       "         [0, 0, 0],\n",
       "         ...,\n",
       "         [0, 0, 0],\n",
       "         [0, 0, 0],\n",
       "         [0, 0, 0]],\n",
       "\n",
       "        [[0, 0, 0],\n",
       "         [0, 0, 0],\n",
       "         [0, 0, 0],\n",
       "         ...,\n",
       "         [0, 0, 0],\n",
       "         [0, 0, 0],\n",
       "         [0, 0, 0]]],\n",
       "\n",
       "\n",
       "       ...,\n",
       "\n",
       "\n",
       "       [[[0, 0, 0],\n",
       "         [0, 0, 0],\n",
       "         [0, 0, 0],\n",
       "         ...,\n",
       "         [0, 0, 0],\n",
       "         [0, 0, 0],\n",
       "         [0, 0, 0]],\n",
       "\n",
       "        [[0, 0, 0],\n",
       "         [0, 0, 0],\n",
       "         [0, 0, 0],\n",
       "         ...,\n",
       "         [0, 0, 0],\n",
       "         [0, 0, 0],\n",
       "         [0, 0, 0]],\n",
       "\n",
       "        [[0, 0, 0],\n",
       "         [0, 0, 0],\n",
       "         [0, 0, 0],\n",
       "         ...,\n",
       "         [0, 0, 0],\n",
       "         [0, 0, 0],\n",
       "         [0, 0, 0]],\n",
       "\n",
       "        ...,\n",
       "\n",
       "        [[0, 0, 0],\n",
       "         [0, 0, 0],\n",
       "         [0, 0, 0],\n",
       "         ...,\n",
       "         [0, 0, 0],\n",
       "         [0, 0, 0],\n",
       "         [0, 0, 0]],\n",
       "\n",
       "        [[0, 0, 0],\n",
       "         [0, 0, 0],\n",
       "         [0, 0, 0],\n",
       "         ...,\n",
       "         [0, 0, 0],\n",
       "         [0, 0, 0],\n",
       "         [0, 0, 0]],\n",
       "\n",
       "        [[0, 0, 0],\n",
       "         [0, 0, 0],\n",
       "         [0, 0, 0],\n",
       "         ...,\n",
       "         [0, 0, 0],\n",
       "         [0, 0, 0],\n",
       "         [0, 0, 0]]],\n",
       "\n",
       "\n",
       "       [[[0, 0, 0],\n",
       "         [0, 0, 0],\n",
       "         [0, 0, 0],\n",
       "         ...,\n",
       "         [0, 0, 0],\n",
       "         [0, 0, 0],\n",
       "         [0, 0, 0]],\n",
       "\n",
       "        [[0, 0, 0],\n",
       "         [0, 0, 0],\n",
       "         [0, 0, 0],\n",
       "         ...,\n",
       "         [0, 0, 0],\n",
       "         [0, 0, 0],\n",
       "         [0, 0, 0]],\n",
       "\n",
       "        [[0, 0, 0],\n",
       "         [0, 0, 0],\n",
       "         [0, 0, 0],\n",
       "         ...,\n",
       "         [0, 0, 0],\n",
       "         [0, 0, 0],\n",
       "         [0, 0, 0]],\n",
       "\n",
       "        ...,\n",
       "\n",
       "        [[0, 0, 0],\n",
       "         [0, 0, 0],\n",
       "         [0, 0, 0],\n",
       "         ...,\n",
       "         [0, 0, 0],\n",
       "         [0, 0, 0],\n",
       "         [0, 0, 0]],\n",
       "\n",
       "        [[0, 0, 0],\n",
       "         [0, 0, 0],\n",
       "         [0, 0, 0],\n",
       "         ...,\n",
       "         [0, 0, 0],\n",
       "         [0, 0, 0],\n",
       "         [0, 0, 0]],\n",
       "\n",
       "        [[0, 0, 0],\n",
       "         [0, 0, 0],\n",
       "         [0, 0, 0],\n",
       "         ...,\n",
       "         [0, 0, 0],\n",
       "         [0, 0, 0],\n",
       "         [0, 0, 0]]],\n",
       "\n",
       "\n",
       "       [[[0, 0, 0],\n",
       "         [0, 0, 0],\n",
       "         [0, 0, 0],\n",
       "         ...,\n",
       "         [0, 0, 0],\n",
       "         [0, 0, 0],\n",
       "         [0, 0, 0]],\n",
       "\n",
       "        [[0, 0, 0],\n",
       "         [0, 0, 0],\n",
       "         [0, 0, 0],\n",
       "         ...,\n",
       "         [0, 0, 0],\n",
       "         [0, 0, 0],\n",
       "         [0, 0, 0]],\n",
       "\n",
       "        [[0, 0, 0],\n",
       "         [0, 0, 0],\n",
       "         [0, 0, 0],\n",
       "         ...,\n",
       "         [0, 0, 0],\n",
       "         [0, 0, 0],\n",
       "         [0, 0, 0]],\n",
       "\n",
       "        ...,\n",
       "\n",
       "        [[0, 0, 0],\n",
       "         [0, 0, 0],\n",
       "         [0, 0, 0],\n",
       "         ...,\n",
       "         [0, 0, 0],\n",
       "         [0, 0, 0],\n",
       "         [0, 0, 0]],\n",
       "\n",
       "        [[0, 0, 0],\n",
       "         [0, 0, 0],\n",
       "         [0, 0, 0],\n",
       "         ...,\n",
       "         [0, 0, 0],\n",
       "         [0, 0, 0],\n",
       "         [0, 0, 0]],\n",
       "\n",
       "        [[0, 0, 0],\n",
       "         [0, 0, 0],\n",
       "         [0, 0, 0],\n",
       "         ...,\n",
       "         [0, 0, 0],\n",
       "         [0, 0, 0],\n",
       "         [0, 0, 0]]]])"
      ]
     },
     "execution_count": 8,
     "metadata": {},
     "output_type": "execute_result"
    }
   ],
   "source": [
    "images_over"
   ]
  },
  {
   "cell_type": "code",
   "execution_count": 9,
   "id": "b4e072cf",
   "metadata": {
    "execution": {
     "iopub.execute_input": "2024-04-18T15:35:46.820294Z",
     "iopub.status.busy": "2024-04-18T15:35:46.819477Z",
     "iopub.status.idle": "2024-04-18T15:35:46.826492Z",
     "shell.execute_reply": "2024-04-18T15:35:46.825483Z"
    },
    "papermill": {
     "duration": 0.014959,
     "end_time": "2024-04-18T15:35:46.828690",
     "exception": false,
     "start_time": "2024-04-18T15:35:46.813731",
     "status": "completed"
    },
    "tags": []
   },
   "outputs": [
    {
     "data": {
      "text/plain": [
       "(10240, 208, 176, 3)"
      ]
     },
     "execution_count": 9,
     "metadata": {},
     "output_type": "execute_result"
    }
   ],
   "source": [
    "images_over.shape"
   ]
  },
  {
   "cell_type": "code",
   "execution_count": 10,
   "id": "91fa6d36",
   "metadata": {
    "execution": {
     "iopub.execute_input": "2024-04-18T15:35:46.839931Z",
     "iopub.status.busy": "2024-04-18T15:35:46.839548Z",
     "iopub.status.idle": "2024-04-18T15:35:48.289707Z",
     "shell.execute_reply": "2024-04-18T15:35:48.287896Z"
    },
    "papermill": {
     "duration": 1.45909,
     "end_time": "2024-04-18T15:35:48.292463",
     "exception": false,
     "start_time": "2024-04-18T15:35:46.833373",
     "status": "completed"
    },
    "tags": []
   },
   "outputs": [],
   "source": [
    "!rm -rf /kaggle/working/train"
   ]
  },
  {
   "cell_type": "code",
   "execution_count": 11,
   "id": "f11643d8",
   "metadata": {
    "execution": {
     "iopub.execute_input": "2024-04-18T15:35:48.304236Z",
     "iopub.status.busy": "2024-04-18T15:35:48.303781Z",
     "iopub.status.idle": "2024-04-18T15:36:19.861830Z",
     "shell.execute_reply": "2024-04-18T15:36:19.854605Z"
    },
    "papermill": {
     "duration": 31.579496,
     "end_time": "2024-04-18T15:36:19.876782",
     "exception": false,
     "start_time": "2024-04-18T15:35:48.297286",
     "status": "completed"
    },
    "tags": []
   },
   "outputs": [],
   "source": [
    "import os\n",
    "\n",
    "names = {0:\"milDem\", 1:\"moderateDim\", 2:\"nonDem\", 3:\"veryMildDem\"}\n",
    "\n",
    "os.makedirs(\"/kaggle/working/train/\", exist_ok=True)\n",
    "\n",
    "for i in range(len(y_res)):\n",
    "    np.save(f\"/kaggle/working/train/{names[y_res[i]]}{i}.npy\", images_over[i])"
   ]
  },
  {
   "cell_type": "code",
   "execution_count": null,
   "id": "7e33a9e9",
   "metadata": {
    "papermill": {
     "duration": 0.025657,
     "end_time": "2024-04-18T15:36:23.595930",
     "exception": false,
     "start_time": "2024-04-18T15:36:23.570273",
     "status": "completed"
    },
    "tags": []
   },
   "outputs": [],
   "source": []
  }
 ],
 "metadata": {
  "kaggle": {
   "accelerator": "none",
   "dataSources": [
    {
     "databundleVersionId": 888049,
     "datasetId": 457093,
     "sourceId": 861496,
     "sourceType": "datasetVersion"
    }
   ],
   "dockerImageVersionId": 30684,
   "isGpuEnabled": false,
   "isInternetEnabled": true,
   "language": "python",
   "sourceType": "notebook"
  },
  "kernelspec": {
   "display_name": "Python 3",
   "language": "python",
   "name": "python3"
  },
  "language_info": {
   "codemirror_mode": {
    "name": "ipython",
    "version": 3
   },
   "file_extension": ".py",
   "mimetype": "text/x-python",
   "name": "python",
   "nbconvert_exporter": "python",
   "pygments_lexer": "ipython3",
   "version": "3.10.13"
  },
  "papermill": {
   "default_parameters": {},
   "duration": 192.757679,
   "end_time": "2024-04-18T15:36:26.761347",
   "environment_variables": {},
   "exception": null,
   "input_path": "__notebook__.ipynb",
   "output_path": "__notebook__.ipynb",
   "parameters": {},
   "start_time": "2024-04-18T15:33:14.003668",
   "version": "2.5.0"
  }
 },
 "nbformat": 4,
 "nbformat_minor": 5
}
