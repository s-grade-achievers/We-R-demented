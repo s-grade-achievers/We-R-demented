{
 "cells": [
  {
   "cell_type": "code",
   "execution_count": 1,
   "id": "a3807647",
   "metadata": {
    "_cell_guid": "b1076dfc-b9ad-4769-8c92-a6c4dae69d19",
    "_uuid": "8f2839f25d086af736a60e9eeb907d3b93b6e0e5",
    "execution": {
     "iopub.execute_input": "2024-04-17T19:10:05.034562Z",
     "iopub.status.busy": "2024-04-17T19:10:05.032965Z",
     "iopub.status.idle": "2024-04-17T19:12:27.923828Z",
     "shell.execute_reply": "2024-04-17T19:12:27.922246Z"
    },
    "papermill": {
     "duration": 142.900985,
     "end_time": "2024-04-17T19:12:27.927012",
     "exception": false,
     "start_time": "2024-04-17T19:10:05.026027",
     "status": "completed"
    },
    "tags": []
   },
   "outputs": [],
   "source": [
    "import os\n",
    "import cv2\n",
    "import numpy as np\n",
    "\n",
    "def jpg_to_npy_in_folders(input_folder, output_folder):\n",
    "    os.makedirs(output_folder, exist_ok=True)\n",
    "    for i, item in enumerate(os.listdir(input_folder)):\n",
    "        item_path = os.path.join(input_folder, item)\n",
    "        if os.path.isdir(item_path):\n",
    "            jpg_to_npy_in_folders(item_path, output_folder)\n",
    "        elif os.path.isfile(item_path) and item.endswith(\".jpg\"):\n",
    "            img = cv2.imread(item_path)\n",
    "            img_array = np.array(img)\n",
    "            output_file_path = os.path.join(output_folder, os.path.splitext(item)[0] + '.npy')\n",
    "            np.save(output_file_path, img_array)\n",
    "\n",
    "# input_folder_path = \"/content/Alzheimer_s Dataset/train\"\n",
    "input_folder_path = \"/kaggle/input/alzheimers-dataset-4-class-of-images/Alzheimer_s Dataset/train\"\n",
    "output_folder_path = \"/kaggle/working/train\"\n",
    "\n",
    "jpg_to_npy_in_folders(input_folder_path, output_folder_path)\n",
    "\n"
   ]
  },
  {
   "cell_type": "code",
   "execution_count": 2,
   "id": "20ef8684",
   "metadata": {
    "execution": {
     "iopub.execute_input": "2024-04-17T19:12:27.935968Z",
     "iopub.status.busy": "2024-04-17T19:12:27.935512Z",
     "iopub.status.idle": "2024-04-17T19:12:43.090871Z",
     "shell.execute_reply": "2024-04-17T19:12:43.089710Z"
    },
    "papermill": {
     "duration": 15.162811,
     "end_time": "2024-04-17T19:12:43.093695",
     "exception": false,
     "start_time": "2024-04-17T19:12:27.930884",
     "status": "completed"
    },
    "tags": []
   },
   "outputs": [],
   "source": [
    "import os\n",
    "import cv2\n",
    "import numpy as np\n",
    "\n",
    "def jpg_to_npy_in_folders(input_folder, output_folder):\n",
    "    os.makedirs(output_folder, exist_ok=True)\n",
    "    for i, item in enumerate(os.listdir(input_folder)):\n",
    "        item_path = os.path.join(input_folder, item)\n",
    "        if os.path.isdir(item_path):\n",
    "            jpg_to_npy_in_folders(item_path, output_folder)\n",
    "        elif os.path.isfile(item_path) and item.endswith(\".jpg\"):\n",
    "            img = cv2.imread(item_path)\n",
    "            img_array = np.array(img)\n",
    "            folder = input_folder.split(\"/\")[-1]\n",
    "            output_file_path = os.path.join(output_folder, f\"{folder}{i}.npy\")\n",
    "            np.save(output_file_path, img_array)\n",
    "\n",
    "# input_folder_path = \"/kaggle/input/alzheimers-dataset-4-class-of-images/Alzheimer_s Dataset/train\"\n",
    "# output_folder_path = \"/kaggle/working/train\"\n",
    "\n",
    "# jpg_to_npy_in_folders(input_folder_path, output_folder_path)\n",
    "jpg_to_npy_in_folders(\"/kaggle/input/alzheimers-dataset-4-class-of-images/Alzheimer_s Dataset/test\", \"/kaggle/working/test\")\n",
    "# jpg_to_npy_in_folders(\"/content/Alzheimer_s Dataset/test\", \"/kaggle/working/test\")\n",
    "\n"
   ]
  },
  {
   "cell_type": "code",
   "execution_count": 3,
   "id": "d0e47116",
   "metadata": {
    "execution": {
     "iopub.execute_input": "2024-04-17T19:12:43.101750Z",
     "iopub.status.busy": "2024-04-17T19:12:43.101371Z",
     "iopub.status.idle": "2024-04-17T19:12:43.116799Z",
     "shell.execute_reply": "2024-04-17T19:12:43.115380Z"
    },
    "papermill": {
     "duration": 0.023027,
     "end_time": "2024-04-17T19:12:43.119867",
     "exception": false,
     "start_time": "2024-04-17T19:12:43.096840",
     "status": "completed"
    },
    "tags": []
   },
   "outputs": [
    {
     "data": {
      "text/plain": [
       "5121"
      ]
     },
     "execution_count": 3,
     "metadata": {},
     "output_type": "execute_result"
    }
   ],
   "source": [
    "import os\n",
    "import numpy as np\n",
    "directory = '/kaggle/working/train'\n",
    "\n",
    "files = [file for file in os.listdir(directory) if file.endswith('.npy')]\n",
    "len(files)"
   ]
  },
  {
   "cell_type": "code",
   "execution_count": 4,
   "id": "0b68a430",
   "metadata": {
    "execution": {
     "iopub.execute_input": "2024-04-17T19:12:43.128816Z",
     "iopub.status.busy": "2024-04-17T19:12:43.128382Z",
     "iopub.status.idle": "2024-04-17T19:12:43.137076Z",
     "shell.execute_reply": "2024-04-17T19:12:43.136164Z"
    },
    "papermill": {
     "duration": 0.015978,
     "end_time": "2024-04-17T19:12:43.139380",
     "exception": false,
     "start_time": "2024-04-17T19:12:43.123402",
     "status": "completed"
    },
    "tags": []
   },
   "outputs": [
    {
     "name": "stdout",
     "output_type": "stream",
     "text": [
      "717 52 2560 1792\n"
     ]
    }
   ],
   "source": [
    "mildDem = [i for i in files if i.startswith(\"mildDem\")]\n",
    "moderateDem = [i for i in files if \"moderateDem\" in i]\n",
    "nonDem = [i for i in files if \"nonDem\" in i]\n",
    "veryMild = [i for i in files if \"verymildDem\" in i]\n",
    "print(len(mildDem), len(moderateDem), len(nonDem), len(veryMild))"
   ]
  },
  {
   "cell_type": "code",
   "execution_count": 5,
   "id": "a253cf9f",
   "metadata": {
    "execution": {
     "iopub.execute_input": "2024-04-17T19:12:43.150544Z",
     "iopub.status.busy": "2024-04-17T19:12:43.149726Z",
     "iopub.status.idle": "2024-04-17T19:12:44.259328Z",
     "shell.execute_reply": "2024-04-17T19:12:44.257926Z"
    },
    "papermill": {
     "duration": 1.118332,
     "end_time": "2024-04-17T19:12:44.262342",
     "exception": false,
     "start_time": "2024-04-17T19:12:43.144010",
     "status": "completed"
    },
    "tags": []
   },
   "outputs": [
    {
     "data": {
      "text/plain": [
       "Class\n",
       "2    2560\n",
       "3    1792\n",
       "0     717\n",
       "1      52\n",
       "Name: count, dtype: int64"
      ]
     },
     "execution_count": 5,
     "metadata": {},
     "output_type": "execute_result"
    }
   ],
   "source": [
    "import pandas as pd\n",
    "l = [[mildDem, 0], [moderateDem, 1], [nonDem, 2], [veryMild, 3]]\n",
    "x = []\n",
    "for i in l:\n",
    "    for j in i[0]:\n",
    "        path = os.path.join(\"/kaggle/working/train\", j)\n",
    "        x.append([i[1], path])\n",
    "\n",
    "df = pd.DataFrame(x, columns=[\"Class\", \"Path\"])\n",
    "x = df[\"Class\"].value_counts()\n",
    "x"
   ]
  },
  {
   "cell_type": "code",
   "execution_count": 6,
   "id": "b3363ee4",
   "metadata": {
    "execution": {
     "iopub.execute_input": "2024-04-17T19:12:44.272283Z",
     "iopub.status.busy": "2024-04-17T19:12:44.271654Z",
     "iopub.status.idle": "2024-04-17T19:12:46.196371Z",
     "shell.execute_reply": "2024-04-17T19:12:46.194881Z"
    },
    "papermill": {
     "duration": 1.932866,
     "end_time": "2024-04-17T19:12:46.199068",
     "exception": false,
     "start_time": "2024-04-17T19:12:44.266202",
     "status": "completed"
    },
    "tags": []
   },
   "outputs": [],
   "source": [
    "images = []\n",
    "for i in df[\"Path\"]:\n",
    "    images.append(np.load(i))\n",
    "images = np.array(images)"
   ]
  },
  {
   "cell_type": "code",
   "execution_count": 7,
   "id": "bdd5ac30",
   "metadata": {
    "execution": {
     "iopub.execute_input": "2024-04-17T19:12:46.209916Z",
     "iopub.status.busy": "2024-04-17T19:12:46.208993Z",
     "iopub.status.idle": "2024-04-17T19:16:58.157035Z",
     "shell.execute_reply": "2024-04-17T19:16:58.155235Z"
    },
    "papermill": {
     "duration": 251.956726,
     "end_time": "2024-04-17T19:16:58.160400",
     "exception": false,
     "start_time": "2024-04-17T19:12:46.203674",
     "status": "completed"
    },
    "tags": []
   },
   "outputs": [],
   "source": [
    "from imblearn.combine import SMOTETomek\n",
    "\n",
    "sm = SMOTETomek(random_state=42)\n",
    "flattened_images = [image.flatten() for image in images]\n",
    "image_shape = images[0].shape\n",
    "X_res, y_res = sm.fit_resample(flattened_images, np.array(df[\"Class\"]))  # `labels` should be your list of class labels"
   ]
  },
  {
   "cell_type": "code",
   "execution_count": 8,
   "id": "a527a78a",
   "metadata": {
    "execution": {
     "iopub.execute_input": "2024-04-17T19:16:58.171554Z",
     "iopub.status.busy": "2024-04-17T19:16:58.170881Z",
     "iopub.status.idle": "2024-04-17T19:18:12.319716Z",
     "shell.execute_reply": "2024-04-17T19:18:12.318109Z"
    },
    "papermill": {
     "duration": 74.157984,
     "end_time": "2024-04-17T19:18:12.322879",
     "exception": false,
     "start_time": "2024-04-17T19:16:58.164895",
     "status": "completed"
    },
    "tags": []
   },
   "outputs": [],
   "source": [
    "res_images = [np.array(x).reshape(image_shape) for x in X_res]"
   ]
  },
  {
   "cell_type": "code",
   "execution_count": 9,
   "id": "4eaed46e",
   "metadata": {
    "execution": {
     "iopub.execute_input": "2024-04-17T19:18:12.332476Z",
     "iopub.status.busy": "2024-04-17T19:18:12.331897Z",
     "iopub.status.idle": "2024-04-17T19:18:14.007730Z",
     "shell.execute_reply": "2024-04-17T19:18:14.005713Z"
    },
    "papermill": {
     "duration": 1.684302,
     "end_time": "2024-04-17T19:18:14.011049",
     "exception": false,
     "start_time": "2024-04-17T19:18:12.326747",
     "status": "completed"
    },
    "tags": []
   },
   "outputs": [],
   "source": [
    "!rm -rf /kaggle/working/train"
   ]
  },
  {
   "cell_type": "code",
   "execution_count": 10,
   "id": "b864cfa0",
   "metadata": {
    "execution": {
     "iopub.execute_input": "2024-04-17T19:18:14.020977Z",
     "iopub.status.busy": "2024-04-17T19:18:14.020457Z",
     "iopub.status.idle": "2024-04-17T19:18:44.214802Z",
     "shell.execute_reply": "2024-04-17T19:18:44.213021Z"
    },
    "papermill": {
     "duration": 30.203022,
     "end_time": "2024-04-17T19:18:44.217866",
     "exception": false,
     "start_time": "2024-04-17T19:18:14.014844",
     "status": "completed"
    },
    "tags": []
   },
   "outputs": [],
   "source": [
    "import os\n",
    "\n",
    "names = {0:\"milDem\", 1:\"moderateDim\", 2:\"nonDem\", 3:\"veryMildDem\"}\n",
    "\n",
    "# Create the directory if it doesn't exist\n",
    "os.makedirs(\"/kaggle/working/train/\", exist_ok=True)\n",
    "\n",
    "for i in range(len(y_res)):\n",
    "    np.save(f\"/kaggle/working/train/{names[y_res[i]]}{i}.npy\", res_images[i])"
   ]
  }
 ],
 "metadata": {
  "kaggle": {
   "accelerator": "none",
   "dataSources": [
    {
     "datasetId": 457093,
     "sourceId": 861496,
     "sourceType": "datasetVersion"
    }
   ],
   "dockerImageVersionId": 30684,
   "isGpuEnabled": false,
   "isInternetEnabled": true,
   "language": "python",
   "sourceType": "notebook"
  },
  "kernelspec": {
   "display_name": "Python 3",
   "language": "python",
   "name": "python3"
  },
  "language_info": {
   "codemirror_mode": {
    "name": "ipython",
    "version": 3
   },
   "file_extension": ".py",
   "mimetype": "text/x-python",
   "name": "python",
   "nbconvert_exporter": "python",
   "pygments_lexer": "ipython3",
   "version": "3.10.13"
  },
  "papermill": {
   "default_parameters": {},
   "duration": 533.844067,
   "end_time": "2024-04-17T19:18:55.761887",
   "environment_variables": {},
   "exception": null,
   "input_path": "__notebook__.ipynb",
   "output_path": "__notebook__.ipynb",
   "parameters": {},
   "start_time": "2024-04-17T19:10:01.917820",
   "version": "2.5.0"
  }
 },
 "nbformat": 4,
 "nbformat_minor": 5
}
