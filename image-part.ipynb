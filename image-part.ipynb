{
 "cells": [
  {
   "cell_type": "markdown",
   "id": "a7ff34cb",
   "metadata": {
    "id": "tSxMywSSAqoZ",
    "papermill": {
     "duration": 0.013811,
     "end_time": "2024-04-16T17:20:15.166413",
     "exception": false,
     "start_time": "2024-04-16T17:20:15.152602",
     "status": "completed"
    },
    "tags": []
   },
   "source": [
    "<a href=\"https://www.kaggle.com/code/pes1ug22am164/image-part?scriptVersionId=171996997\" target=\"_blank\"><img align=\"left\" alt=\"Kaggle\" title=\"Open in Kaggle\" src=\"https://kaggle.com/static/images/open-in-kaggle.svg\"></a>"
   ]
  },
  {
   "cell_type": "markdown",
   "id": "222a0f8e",
   "metadata": {
    "papermill": {
     "duration": 0.012305,
     "end_time": "2024-04-16T17:20:15.192283",
     "exception": false,
     "start_time": "2024-04-16T17:20:15.179978",
     "status": "completed"
    },
    "tags": []
   },
   "source": [
    "# uncomment on google colab, comment on kaggle."
   ]
  },
  {
   "cell_type": "code",
   "execution_count": 1,
   "id": "730ebdb2",
   "metadata": {
    "execution": {
     "iopub.execute_input": "2024-04-16T17:20:15.219605Z",
     "iopub.status.busy": "2024-04-16T17:20:15.218627Z",
     "iopub.status.idle": "2024-04-16T17:20:15.224308Z",
     "shell.execute_reply": "2024-04-16T17:20:15.223461Z"
    },
    "id": "c3OgJ45kAsP5",
    "outputId": "c0aef9b0-7577-4008-8523-b47d17d564fc",
    "papermill": {
     "duration": 0.021618,
     "end_time": "2024-04-16T17:20:15.226440",
     "exception": false,
     "start_time": "2024-04-16T17:20:15.204822",
     "status": "completed"
    },
    "tags": []
   },
   "outputs": [],
   "source": [
    "# !mkdir ~/.kaggle\n",
    "# from google.colab import files\n",
    "# files.upload()\n",
    "# !cp kaggle.json ~/.kaggle/\n",
    "# !chmod 600 ~/.kaggle/kaggle.json\n",
    "# !kaggle datasets download -d shusrith/betterer-preproc"
   ]
  },
  {
   "cell_type": "code",
   "execution_count": 2,
   "id": "d02ab8ba",
   "metadata": {
    "execution": {
     "iopub.execute_input": "2024-04-16T17:20:15.253250Z",
     "iopub.status.busy": "2024-04-16T17:20:15.252913Z",
     "iopub.status.idle": "2024-04-16T17:20:15.257091Z",
     "shell.execute_reply": "2024-04-16T17:20:15.256146Z"
    },
    "id": "b5JdvvdFBNgq",
    "papermill": {
     "duration": 0.019594,
     "end_time": "2024-04-16T17:20:15.259161",
     "exception": false,
     "start_time": "2024-04-16T17:20:15.239567",
     "status": "completed"
    },
    "tags": []
   },
   "outputs": [],
   "source": [
    "# !unzip /content/betterer-preproc.zip"
   ]
  },
  {
   "cell_type": "code",
   "execution_count": 3,
   "id": "729247b8",
   "metadata": {
    "execution": {
     "iopub.execute_input": "2024-04-16T17:20:15.286220Z",
     "iopub.status.busy": "2024-04-16T17:20:15.285863Z",
     "iopub.status.idle": "2024-04-16T17:20:15.289970Z",
     "shell.execute_reply": "2024-04-16T17:20:15.289005Z"
    },
    "id": "AHRAoMKxDcX_",
    "outputId": "90c913aa-c653-459a-f009-7785fd86635b",
    "papermill": {
     "duration": 0.020512,
     "end_time": "2024-04-16T17:20:15.292253",
     "exception": false,
     "start_time": "2024-04-16T17:20:15.271741",
     "status": "completed"
    },
    "tags": []
   },
   "outputs": [],
   "source": [
    "# !kaggle datasets download -d tourist55/alzheimers-dataset-4-class-of-images"
   ]
  },
  {
   "cell_type": "code",
   "execution_count": 4,
   "id": "de92906d",
   "metadata": {
    "execution": {
     "iopub.execute_input": "2024-04-16T17:20:15.319875Z",
     "iopub.status.busy": "2024-04-16T17:20:15.319552Z",
     "iopub.status.idle": "2024-04-16T17:20:15.323797Z",
     "shell.execute_reply": "2024-04-16T17:20:15.322858Z"
    },
    "id": "ekFksVJEDeKl",
    "outputId": "e334ae0c-df10-4cb2-8db1-9ca48bc7c42c",
    "papermill": {
     "duration": 0.020272,
     "end_time": "2024-04-16T17:20:15.325883",
     "exception": false,
     "start_time": "2024-04-16T17:20:15.305611",
     "status": "completed"
    },
    "tags": []
   },
   "outputs": [],
   "source": [
    "# !unzip /content/alzheimers-dataset-4-class-of-images.zip"
   ]
  },
  {
   "cell_type": "markdown",
   "id": "beabf59f",
   "metadata": {
    "id": "7cac8631",
    "papermill": {
     "duration": 0.012583,
     "end_time": "2024-04-16T17:20:15.351469",
     "exception": false,
     "start_time": "2024-04-16T17:20:15.338886",
     "status": "completed"
    },
    "tags": []
   },
   "source": [
    "# PRE PROCESS\n",
    ".JPG TO .NPY"
   ]
  },
  {
   "cell_type": "code",
   "execution_count": 5,
   "id": "9f788ed4",
   "metadata": {
    "execution": {
     "iopub.execute_input": "2024-04-16T17:20:15.378626Z",
     "iopub.status.busy": "2024-04-16T17:20:15.378264Z",
     "iopub.status.idle": "2024-04-16T17:20:44.197916Z",
     "shell.execute_reply": "2024-04-16T17:20:44.197000Z"
    },
    "id": "Qk1z9nYFFLpb",
    "papermill": {
     "duration": 28.836468,
     "end_time": "2024-04-16T17:20:44.200647",
     "exception": false,
     "start_time": "2024-04-16T17:20:15.364179",
     "status": "completed"
    },
    "tags": []
   },
   "outputs": [],
   "source": [
    "import os\n",
    "import cv2\n",
    "import numpy as np\n",
    "\n",
    "def jpg_to_npy_in_folders(input_folder, output_folder):\n",
    "    os.makedirs(output_folder, exist_ok=True)\n",
    "    for i, item in enumerate(os.listdir(input_folder)):\n",
    "        item_path = os.path.join(input_folder, item)\n",
    "        if os.path.isdir(item_path):\n",
    "            jpg_to_npy_in_folders(item_path, output_folder)\n",
    "        elif os.path.isfile(item_path) and item.endswith(\".jpg\"):\n",
    "            img = cv2.imread(item_path)\n",
    "            img_array = np.array(img)\n",
    "            output_file_path = os.path.join(output_folder, os.path.splitext(item)[0] + '.npy')\n",
    "            np.save(output_file_path, img_array)\n",
    "\n",
    "input_folder_path = \"/kaggle/input/alzheimers-dataset-4-class-of-images/Alzheimer_s Dataset/train\"\n",
    "output_folder_path = \"/kaggle/working/train\"\n",
    "\n",
    "jpg_to_npy_in_folders(input_folder_path, output_folder_path)\n",
    "\n"
   ]
  },
  {
   "cell_type": "code",
   "execution_count": 6,
   "id": "cc57fffe",
   "metadata": {
    "_cell_guid": "b1076dfc-b9ad-4769-8c92-a6c4dae69d19",
    "_uuid": "8f2839f25d086af736a60e9eeb907d3b93b6e0e5",
    "execution": {
     "iopub.execute_input": "2024-04-16T17:20:44.229384Z",
     "iopub.status.busy": "2024-04-16T17:20:44.228810Z",
     "iopub.status.idle": "2024-04-16T17:20:51.140811Z",
     "shell.execute_reply": "2024-04-16T17:20:51.139899Z"
    },
    "id": "098412aa",
    "papermill": {
     "duration": 6.928932,
     "end_time": "2024-04-16T17:20:51.143470",
     "exception": false,
     "start_time": "2024-04-16T17:20:44.214538",
     "status": "completed"
    },
    "tags": []
   },
   "outputs": [],
   "source": [
    "import os\n",
    "import cv2\n",
    "import numpy as np\n",
    "\n",
    "def jpg_to_npy_in_folders(input_folder, output_folder):\n",
    "    os.makedirs(output_folder, exist_ok=True)\n",
    "    for i, item in enumerate(os.listdir(input_folder)):\n",
    "        item_path = os.path.join(input_folder, item)\n",
    "        if os.path.isdir(item_path):\n",
    "            jpg_to_npy_in_folders(item_path, output_folder)\n",
    "        elif os.path.isfile(item_path) and item.endswith(\".jpg\"):\n",
    "            img = cv2.imread(item_path)\n",
    "            img_array = np.array(img)\n",
    "            folder = input_folder.split(\"/\")[-1]\n",
    "            output_file_path = os.path.join(output_folder, f\"{folder}{i}.npy\")\n",
    "            np.save(output_file_path, img_array)\n",
    "\n",
    "# input_folder_path = \"/kaggle/input/alzheimers-dataset-4-class-of-images/Alzheimer_s Dataset/train\"\n",
    "# output_folder_path = \"/kaggle/working/train\"\n",
    "\n",
    "# jpg_to_npy_in_folders(input_folder_path, output_folder_path)\n",
    "jpg_to_npy_in_folders(\"/kaggle/input/alzheimers-dataset-4-class-of-images/Alzheimer_s Dataset/test\", \"/kaggle/working/test\")\n",
    "\n"
   ]
  },
  {
   "cell_type": "code",
   "execution_count": 7,
   "id": "45ed7ce8",
   "metadata": {
    "execution": {
     "iopub.execute_input": "2024-04-16T17:20:51.172260Z",
     "iopub.status.busy": "2024-04-16T17:20:51.171869Z",
     "iopub.status.idle": "2024-04-16T17:20:51.185376Z",
     "shell.execute_reply": "2024-04-16T17:20:51.184379Z"
    },
    "id": "10a3d79a",
    "outputId": "0786a7b1-1cb0-4836-d0c3-bd938085cea1",
    "papermill": {
     "duration": 0.030291,
     "end_time": "2024-04-16T17:20:51.187757",
     "exception": false,
     "start_time": "2024-04-16T17:20:51.157466",
     "status": "completed"
    },
    "tags": []
   },
   "outputs": [
    {
     "data": {
      "text/plain": [
       "5121"
      ]
     },
     "execution_count": 7,
     "metadata": {},
     "output_type": "execute_result"
    }
   ],
   "source": [
    "import os\n",
    "import numpy as np\n",
    "directory = '/kaggle/working/train'\n",
    "\n",
    "files = [file for file in os.listdir(directory) if file.endswith('.npy')]\n",
    "len(files)\n"
   ]
  },
  {
   "cell_type": "code",
   "execution_count": 8,
   "id": "641639b4",
   "metadata": {
    "execution": {
     "iopub.execute_input": "2024-04-16T17:20:51.215724Z",
     "iopub.status.busy": "2024-04-16T17:20:51.214920Z",
     "iopub.status.idle": "2024-04-16T17:20:51.223736Z",
     "shell.execute_reply": "2024-04-16T17:20:51.222762Z"
    },
    "id": "8426e2b0",
    "outputId": "33bd33e9-420e-4f14-fb28-169e9b52369d",
    "papermill": {
     "duration": 0.025567,
     "end_time": "2024-04-16T17:20:51.226239",
     "exception": false,
     "start_time": "2024-04-16T17:20:51.200672",
     "status": "completed"
    },
    "tags": []
   },
   "outputs": [
    {
     "name": "stdout",
     "output_type": "stream",
     "text": [
      "717 52 2560 1792\n"
     ]
    }
   ],
   "source": [
    "mildDem = [i for i in files if i.startswith(\"mildDem\")]\n",
    "moderateDem = [i for i in files if \"moderateDem\" in i]\n",
    "nonDem = [i for i in files if \"nonDem\" in i]\n",
    "veryMild = [i for i in files if \"verymildDem\" in i]\n",
    "print(len(mildDem), len(moderateDem), len(nonDem), len(veryMild))"
   ]
  },
  {
   "cell_type": "code",
   "execution_count": 9,
   "id": "dce546ff",
   "metadata": {
    "execution": {
     "iopub.execute_input": "2024-04-16T17:20:51.253980Z",
     "iopub.status.busy": "2024-04-16T17:20:51.253628Z",
     "iopub.status.idle": "2024-04-16T17:21:01.685688Z",
     "shell.execute_reply": "2024-04-16T17:21:01.684631Z"
    },
    "id": "e5cb58b8",
    "papermill": {
     "duration": 10.449112,
     "end_time": "2024-04-16T17:21:01.688380",
     "exception": false,
     "start_time": "2024-04-16T17:20:51.239268",
     "status": "completed"
    },
    "tags": []
   },
   "outputs": [],
   "source": [
    "import imgaug.augmenters as iaa\n",
    "\n",
    "# Define the augmenter\n",
    "augmenter = iaa.Sequential([\n",
    "    iaa.Affine(rotate=(-10, 10)),  # Rotate the image by -10 to 10 degrees\n",
    "    iaa.GaussianBlur(sigma=(0.0, 1.0)),  # Apply Gaussian blur with a sigma ranging from 0.0 to 1.0\n",
    "    iaa.AdditiveGaussianNoise(scale=(0, 0.05*255)),  # Add Gaussian noise with a scale of 0 to 0.05 times 255\n",
    "    iaa.Multiply((0.9, 1.1)),\n",
    "    iaa.LinearContrast((0.9, 1.1)),\n",
    "])\n",
    "\n",
    "augmented_images = []\n",
    "\n",
    "for path in moderateDem:\n",
    "    path = os.path.join(\"/kaggle/working/train\", path)\n",
    "    image = np.load(path)\n",
    "\n",
    "    for _ in range(35):\n",
    "        augmented_image = augmenter.augment_image(image)\n",
    "        augmented_images.append(augmented_image)\n",
    "augmented_images = np.array(augmented_images)"
   ]
  },
  {
   "cell_type": "code",
   "execution_count": 10,
   "id": "82cf94d7",
   "metadata": {
    "execution": {
     "iopub.execute_input": "2024-04-16T17:21:01.717050Z",
     "iopub.status.busy": "2024-04-16T17:21:01.716574Z",
     "iopub.status.idle": "2024-04-16T17:21:01.722974Z",
     "shell.execute_reply": "2024-04-16T17:21:01.722064Z"
    },
    "id": "416711f7",
    "outputId": "db4b9966-5f06-44b3-e701-c8d359e47930",
    "papermill": {
     "duration": 0.023054,
     "end_time": "2024-04-16T17:21:01.725232",
     "exception": false,
     "start_time": "2024-04-16T17:21:01.702178",
     "status": "completed"
    },
    "tags": []
   },
   "outputs": [
    {
     "data": {
      "text/plain": [
       "1820"
      ]
     },
     "execution_count": 10,
     "metadata": {},
     "output_type": "execute_result"
    }
   ],
   "source": [
    "len(augmented_images)"
   ]
  },
  {
   "cell_type": "code",
   "execution_count": 11,
   "id": "23bca643",
   "metadata": {
    "execution": {
     "iopub.execute_input": "2024-04-16T17:21:01.754065Z",
     "iopub.status.busy": "2024-04-16T17:21:01.753715Z",
     "iopub.status.idle": "2024-04-16T17:21:02.106311Z",
     "shell.execute_reply": "2024-04-16T17:21:02.105152Z"
    },
    "id": "08a3b5e6",
    "outputId": "cc5e1c78-b2c8-4233-a04f-f60ac9bef978",
    "papermill": {
     "duration": 0.370036,
     "end_time": "2024-04-16T17:21:02.108837",
     "exception": false,
     "start_time": "2024-04-16T17:21:01.738801",
     "status": "completed"
    },
    "tags": []
   },
   "outputs": [
    {
     "name": "stdout",
     "output_type": "stream",
     "text": [
      "Augmented images saved successfully.\n"
     ]
    }
   ],
   "source": [
    "import cv2\n",
    "import os\n",
    "\n",
    "\n",
    "output_directory = \"/kaggle/working/train\"\n",
    "\n",
    "os.makedirs(output_directory, exist_ok=True)\n",
    "\n",
    "for i, image in enumerate(augmented_images):\n",
    "    output_path = os.path.join(output_directory, f\"moderateDem{i+53}.npy\")\n",
    "    np.save(output_path, image)\n",
    "\n",
    "\n",
    "print(\"Augmented images saved successfully.\")\n"
   ]
  },
  {
   "cell_type": "code",
   "execution_count": 12,
   "id": "7e6179eb",
   "metadata": {
    "execution": {
     "iopub.execute_input": "2024-04-16T17:21:02.137646Z",
     "iopub.status.busy": "2024-04-16T17:21:02.136820Z",
     "iopub.status.idle": "2024-04-16T17:21:13.477358Z",
     "shell.execute_reply": "2024-04-16T17:21:13.476409Z"
    },
    "id": "nT592ZsTr_mV",
    "papermill": {
     "duration": 11.357323,
     "end_time": "2024-04-16T17:21:13.479924",
     "exception": false,
     "start_time": "2024-04-16T17:21:02.122601",
     "status": "completed"
    },
    "tags": []
   },
   "outputs": [],
   "source": [
    "augmented_images = []\n",
    "\n",
    "for path in mildDem:\n",
    "    path = os.path.join(\"/kaggle/working/train\", path)\n",
    "    image = np.load(path)\n",
    "\n",
    "    for _ in range(3):\n",
    "        augmented_image = augmenter.augment_image(image)\n",
    "        augmented_images.append(augmented_image)\n",
    "augmented_images = np.array(augmented_images)"
   ]
  },
  {
   "cell_type": "code",
   "execution_count": 13,
   "id": "1bd61403",
   "metadata": {
    "execution": {
     "iopub.execute_input": "2024-04-16T17:21:13.510064Z",
     "iopub.status.busy": "2024-04-16T17:21:13.509263Z",
     "iopub.status.idle": "2024-04-16T17:21:13.515586Z",
     "shell.execute_reply": "2024-04-16T17:21:13.514664Z"
    },
    "id": "Bm-LQ6NosVrl",
    "outputId": "a8e09728-92a0-4790-ce18-b2b7e553726b",
    "papermill": {
     "duration": 0.023796,
     "end_time": "2024-04-16T17:21:13.518133",
     "exception": false,
     "start_time": "2024-04-16T17:21:13.494337",
     "status": "completed"
    },
    "tags": []
   },
   "outputs": [
    {
     "data": {
      "text/plain": [
       "2151"
      ]
     },
     "execution_count": 13,
     "metadata": {},
     "output_type": "execute_result"
    }
   ],
   "source": [
    "len(augmented_images)"
   ]
  },
  {
   "cell_type": "code",
   "execution_count": 14,
   "id": "0052f02c",
   "metadata": {
    "execution": {
     "iopub.execute_input": "2024-04-16T17:21:13.546513Z",
     "iopub.status.busy": "2024-04-16T17:21:13.545952Z",
     "iopub.status.idle": "2024-04-16T17:21:13.953403Z",
     "shell.execute_reply": "2024-04-16T17:21:13.952317Z"
    },
    "id": "suTb2iQMsXom",
    "outputId": "204d7efa-5c86-40e7-83a3-f6ab8e0ecccb",
    "papermill": {
     "duration": 0.42422,
     "end_time": "2024-04-16T17:21:13.955795",
     "exception": false,
     "start_time": "2024-04-16T17:21:13.531575",
     "status": "completed"
    },
    "tags": []
   },
   "outputs": [
    {
     "name": "stdout",
     "output_type": "stream",
     "text": [
      "Augmented images saved successfully.\n"
     ]
    }
   ],
   "source": [
    "output_directory = \"/kaggle/working/train\"\n",
    "\n",
    "os.makedirs(output_directory, exist_ok=True)\n",
    "\n",
    "for i, image in enumerate(augmented_images):\n",
    "    output_path = os.path.join(output_directory, f\"mildDem{i+718}.npy\")\n",
    "    np.save(output_path, image)\n",
    "\n",
    "\n",
    "print(\"Augmented images saved successfully.\")"
   ]
  },
  {
   "cell_type": "code",
   "execution_count": 15,
   "id": "23ddd520",
   "metadata": {
    "execution": {
     "iopub.execute_input": "2024-04-16T17:21:13.984102Z",
     "iopub.status.busy": "2024-04-16T17:21:13.983491Z",
     "iopub.status.idle": "2024-04-16T17:21:13.998557Z",
     "shell.execute_reply": "2024-04-16T17:21:13.997665Z"
    },
    "id": "7cb3aede",
    "outputId": "37c5009b-0e34-4d50-9fe1-e00967d439cf",
    "papermill": {
     "duration": 0.031173,
     "end_time": "2024-04-16T17:21:14.000601",
     "exception": false,
     "start_time": "2024-04-16T17:21:13.969428",
     "status": "completed"
    },
    "tags": []
   },
   "outputs": [
    {
     "data": {
      "text/plain": [
       "9092"
      ]
     },
     "execution_count": 15,
     "metadata": {},
     "output_type": "execute_result"
    }
   ],
   "source": [
    "import os\n",
    "import numpy as np\n",
    "directory = '/kaggle/working/train'\n",
    "\n",
    "files = [file for file in os.listdir(directory) if file.endswith('.npy')]\n",
    "len(files)"
   ]
  },
  {
   "cell_type": "code",
   "execution_count": 16,
   "id": "a16db2fd",
   "metadata": {
    "execution": {
     "iopub.execute_input": "2024-04-16T17:21:14.029166Z",
     "iopub.status.busy": "2024-04-16T17:21:14.028608Z",
     "iopub.status.idle": "2024-04-16T17:21:14.039263Z",
     "shell.execute_reply": "2024-04-16T17:21:14.038052Z"
    },
    "id": "5a3922a7",
    "outputId": "edb3b387-6cda-4164-b607-eb56611b7a82",
    "papermill": {
     "duration": 0.027484,
     "end_time": "2024-04-16T17:21:14.041576",
     "exception": false,
     "start_time": "2024-04-16T17:21:14.014092",
     "status": "completed"
    },
    "tags": []
   },
   "outputs": [
    {
     "name": "stdout",
     "output_type": "stream",
     "text": [
      "2868 1872 2560 1792\n"
     ]
    }
   ],
   "source": [
    "mildDem = [i for i in files if i.startswith(\"mildDem\")]\n",
    "moderateDem = [i for i in files if \"moderateDem\" in i]\n",
    "nonDem = [i for i in files if \"nonDem\" in i]\n",
    "veryMild = [i for i in files if \"verymildDem\" in i]\n",
    "print(len(mildDem), len(moderateDem), len(nonDem), len(veryMild))"
   ]
  },
  {
   "cell_type": "code",
   "execution_count": 17,
   "id": "0c4848ad",
   "metadata": {
    "execution": {
     "iopub.execute_input": "2024-04-16T17:21:14.072452Z",
     "iopub.status.busy": "2024-04-16T17:21:14.071877Z",
     "iopub.status.idle": "2024-04-16T17:21:14.856389Z",
     "shell.execute_reply": "2024-04-16T17:21:14.855262Z"
    },
    "id": "6da1451b",
    "outputId": "1d39f7e2-d8a3-4381-e7a1-8441fa0702eb",
    "papermill": {
     "duration": 0.802352,
     "end_time": "2024-04-16T17:21:14.858733",
     "exception": false,
     "start_time": "2024-04-16T17:21:14.056381",
     "status": "completed"
    },
    "tags": []
   },
   "outputs": [
    {
     "data": {
      "text/plain": [
       "Class\n",
       "0    2868\n",
       "2    2560\n",
       "1    1872\n",
       "3    1792\n",
       "Name: count, dtype: int64"
      ]
     },
     "execution_count": 17,
     "metadata": {},
     "output_type": "execute_result"
    }
   ],
   "source": [
    "import pandas as pd\n",
    "l = [[mildDem, 0], [moderateDem, 1], [nonDem, 2], [veryMild, 3]]\n",
    "x = []\n",
    "for i in l:\n",
    "    for j in i[0]:\n",
    "        path = os.path.join(\"/kaggle/working/train\", j)\n",
    "        x.append([i[1], path])\n",
    "\n",
    "df = pd.DataFrame(x, columns=[\"Class\", \"Path\"])\n",
    "x = df[\"Class\"].value_counts()\n",
    "x"
   ]
  },
  {
   "cell_type": "code",
   "execution_count": 18,
   "id": "a0d2912b",
   "metadata": {
    "execution": {
     "iopub.execute_input": "2024-04-16T17:21:14.888954Z",
     "iopub.status.busy": "2024-04-16T17:21:14.888381Z",
     "iopub.status.idle": "2024-04-16T17:21:16.974846Z",
     "shell.execute_reply": "2024-04-16T17:21:16.973842Z"
    },
    "id": "70413197",
    "papermill": {
     "duration": 2.104529,
     "end_time": "2024-04-16T17:21:16.977341",
     "exception": false,
     "start_time": "2024-04-16T17:21:14.872812",
     "status": "completed"
    },
    "tags": []
   },
   "outputs": [],
   "source": [
    "images = []\n",
    "for i in df[\"Path\"]:\n",
    "    images.append(np.load(i))\n",
    "images = np.array(images)"
   ]
  },
  {
   "cell_type": "code",
   "execution_count": 19,
   "id": "42bc232c",
   "metadata": {
    "execution": {
     "iopub.execute_input": "2024-04-16T17:21:17.011367Z",
     "iopub.status.busy": "2024-04-16T17:21:17.010985Z",
     "iopub.status.idle": "2024-04-16T17:21:17.475567Z",
     "shell.execute_reply": "2024-04-16T17:21:17.474645Z"
    },
    "id": "b71f6071",
    "papermill": {
     "duration": 0.487016,
     "end_time": "2024-04-16T17:21:17.478150",
     "exception": false,
     "start_time": "2024-04-16T17:21:16.991134",
     "status": "completed"
    },
    "tags": []
   },
   "outputs": [],
   "source": [
    "from sklearn.model_selection import train_test_split\n",
    "labels = np.array(df[\"Class\"])\n",
    "train_images, test_images, train_labels, test_labels = train_test_split(images, labels, test_size=0.2, random_state=42)\n"
   ]
  },
  {
   "cell_type": "code",
   "execution_count": 20,
   "id": "4b2c9685",
   "metadata": {
    "execution": {
     "iopub.execute_input": "2024-04-16T17:21:17.507149Z",
     "iopub.status.busy": "2024-04-16T17:21:17.506708Z",
     "iopub.status.idle": "2024-04-16T17:21:17.515642Z",
     "shell.execute_reply": "2024-04-16T17:21:17.514481Z"
    },
    "id": "eec25512",
    "outputId": "09243bb1-01a2-4635-9aa2-5162dcc44f5b",
    "papermill": {
     "duration": 0.025671,
     "end_time": "2024-04-16T17:21:17.518017",
     "exception": false,
     "start_time": "2024-04-16T17:21:17.492346",
     "status": "completed"
    },
    "tags": []
   },
   "outputs": [
    {
     "name": "stdout",
     "output_type": "stream",
     "text": [
      "[3 2 2 ... 2 0 2]\n",
      "[2 0 0 ... 3 1 0]\n"
     ]
    }
   ],
   "source": [
    "from sklearn.preprocessing import LabelEncoder\n",
    "label_encoder = LabelEncoder()\n",
    "train_labels_encoded = label_encoder.fit_transform(train_labels)\n",
    "test_labels_encoded = label_encoder.transform(test_labels)\n",
    "\n",
    "# Verify the encoded labels\n",
    "print(train_labels_encoded)\n",
    "print(test_labels_encoded)"
   ]
  },
  {
   "cell_type": "code",
   "execution_count": 21,
   "id": "57bb9b57",
   "metadata": {
    "execution": {
     "iopub.execute_input": "2024-04-16T17:21:17.547317Z",
     "iopub.status.busy": "2024-04-16T17:21:17.547027Z",
     "iopub.status.idle": "2024-04-16T17:21:17.551803Z",
     "shell.execute_reply": "2024-04-16T17:21:17.550976Z"
    },
    "id": "44d84028",
    "outputId": "918e6ba2-22a9-4534-fb86-c4248cc28470",
    "papermill": {
     "duration": 0.021989,
     "end_time": "2024-04-16T17:21:17.554389",
     "exception": false,
     "start_time": "2024-04-16T17:21:17.532400",
     "status": "completed"
    },
    "tags": []
   },
   "outputs": [
    {
     "name": "stdout",
     "output_type": "stream",
     "text": [
      "(7273, 208, 176, 3) (1819, 208, 176, 3) (7273,) (1819,)\n"
     ]
    }
   ],
   "source": [
    "print(train_images.shape, test_images.shape, train_labels_encoded.shape, test_labels_encoded.shape)"
   ]
  },
  {
   "cell_type": "code",
   "execution_count": 22,
   "id": "798b1b57",
   "metadata": {
    "execution": {
     "iopub.execute_input": "2024-04-16T17:21:17.582988Z",
     "iopub.status.busy": "2024-04-16T17:21:17.582655Z",
     "iopub.status.idle": "2024-04-16T17:21:17.589917Z",
     "shell.execute_reply": "2024-04-16T17:21:17.588761Z"
    },
    "id": "4505c50f",
    "outputId": "f927e28f-82b0-4112-b722-1cc810709a30",
    "papermill": {
     "duration": 0.024631,
     "end_time": "2024-04-16T17:21:17.593021",
     "exception": false,
     "start_time": "2024-04-16T17:21:17.568390",
     "status": "completed"
    },
    "tags": []
   },
   "outputs": [
    {
     "name": "stdout",
     "output_type": "stream",
     "text": [
      "[2 0 0 ... 3 1 0]\n"
     ]
    },
    {
     "data": {
      "text/plain": [
       "array([2, 0, 0, ..., 3, 1, 0])"
      ]
     },
     "execution_count": 22,
     "metadata": {},
     "output_type": "execute_result"
    }
   ],
   "source": [
    "print(test_labels)\n",
    "test_labels_encoded"
   ]
  },
  {
   "cell_type": "code",
   "execution_count": 23,
   "id": "9edfb12a",
   "metadata": {
    "execution": {
     "iopub.execute_input": "2024-04-16T17:21:17.623995Z",
     "iopub.status.busy": "2024-04-16T17:21:17.623679Z",
     "iopub.status.idle": "2024-04-16T17:21:17.628862Z",
     "shell.execute_reply": "2024-04-16T17:21:17.627838Z"
    },
    "id": "zCrx36ILpQUC",
    "outputId": "d6bcb712-2275-49b5-943c-b4c5f2f7671d",
    "papermill": {
     "duration": 0.022896,
     "end_time": "2024-04-16T17:21:17.631504",
     "exception": false,
     "start_time": "2024-04-16T17:21:17.608608",
     "status": "completed"
    },
    "tags": []
   },
   "outputs": [
    {
     "name": "stdout",
     "output_type": "stream",
     "text": [
      "Index([0, 2, 1, 3], dtype='int64', name='Class') [2868 2560 1872 1792] <NumpyExtensionArray>\n",
      "[2868, 2560, 1872, 1792]\n",
      "Length: 4, dtype: int64\n"
     ]
    }
   ],
   "source": [
    "print(x.index, x.values, x.array)"
   ]
  },
  {
   "cell_type": "code",
   "execution_count": 24,
   "id": "3bcf626e",
   "metadata": {
    "execution": {
     "iopub.execute_input": "2024-04-16T17:21:17.661544Z",
     "iopub.status.busy": "2024-04-16T17:21:17.661257Z",
     "iopub.status.idle": "2024-04-16T17:21:17.668238Z",
     "shell.execute_reply": "2024-04-16T17:21:17.667311Z"
    },
    "id": "R_7PFG8knr-v",
    "outputId": "481c33ea-469e-4bc2-94d1-1821fda9cb03",
    "papermill": {
     "duration": 0.024422,
     "end_time": "2024-04-16T17:21:17.670437",
     "exception": false,
     "start_time": "2024-04-16T17:21:17.646015",
     "status": "completed"
    },
    "tags": []
   },
   "outputs": [
    {
     "data": {
      "text/plain": [
       "{0: 0.31544214694236694,\n",
       " 2: 0.28156621205455346,\n",
       " 1: 0.20589529256489222,\n",
       " 3: 0.1970963484381874}"
      ]
     },
     "execution_count": 24,
     "metadata": {},
     "output_type": "execute_result"
    }
   ],
   "source": [
    "s = x / len(files)\n",
    "class_weights = {i:j for i, j in zip(s.index, s.values)}\n",
    "\n",
    "class_weights\n",
    "# Optional normalization (weights sum to 1)\n",
    "# total_weight = sum(class_weights.values())\n",
    "# class_weights = {class_label: weight / total_weight for class_label, weight in class_weights.items()}\n"
   ]
  },
  {
   "cell_type": "code",
   "execution_count": 25,
   "id": "e7251e1c",
   "metadata": {
    "execution": {
     "iopub.execute_input": "2024-04-16T17:21:17.700732Z",
     "iopub.status.busy": "2024-04-16T17:21:17.700439Z",
     "iopub.status.idle": "2024-04-16T17:21:29.892883Z",
     "shell.execute_reply": "2024-04-16T17:21:29.891991Z"
    },
    "id": "58759ed5",
    "papermill": {
     "duration": 12.210551,
     "end_time": "2024-04-16T17:21:29.895500",
     "exception": false,
     "start_time": "2024-04-16T17:21:17.684949",
     "status": "completed"
    },
    "tags": []
   },
   "outputs": [
    {
     "name": "stderr",
     "output_type": "stream",
     "text": [
      "2024-04-16 17:21:19.383018: E external/local_xla/xla/stream_executor/cuda/cuda_dnn.cc:9261] Unable to register cuDNN factory: Attempting to register factory for plugin cuDNN when one has already been registered\n",
      "2024-04-16 17:21:19.383159: E external/local_xla/xla/stream_executor/cuda/cuda_fft.cc:607] Unable to register cuFFT factory: Attempting to register factory for plugin cuFFT when one has already been registered\n",
      "2024-04-16 17:21:19.492066: E external/local_xla/xla/stream_executor/cuda/cuda_blas.cc:1515] Unable to register cuBLAS factory: Attempting to register factory for plugin cuBLAS when one has already been registered\n"
     ]
    }
   ],
   "source": [
    "from keras.models import Sequential\n",
    "from keras.layers import Conv2D, MaxPooling2D, Flatten, Dense, Dropout, Input\n",
    "from keras.callbacks import EarlyStopping, LearningRateScheduler\n",
    "from keras.utils import to_categorical\n",
    "from sklearn.utils.class_weight import compute_sample_weight\n",
    "from sklearn.model_selection import train_test_split\n",
    "import numpy as np\n",
    "\n",
    "# Assuming train_images and test_images are your input image data\n",
    "input_shape = train_images[0].shape\n",
    "\n",
    "train_labels_encoded = to_categorical(train_labels, num_classes=4)\n",
    "test_labels_encoded = to_categorical(test_labels, num_classes=4)\n",
    "\n",
    "sample_weights = compute_sample_weight(class_weight='balanced', y=np.argmax(train_labels_encoded, axis=1))\n",
    "\n",
    "model = Sequential()\n",
    "model.add(Input(shape=input_shape))\n",
    "model.add(Conv2D(64, (3, 3), activation='relu'))\n",
    "model.add(MaxPooling2D((2, 2)))\n",
    "model.add(Conv2D(128, (3, 3), activation='relu'))\n",
    "model.add(MaxPooling2D((2, 2)))\n",
    "model.add(Conv2D(256, (3, 3), activation='relu'))\n",
    "model.add(MaxPooling2D((2, 2)))\n",
    "model.add(Dropout(0.2))\n",
    "model.add(Flatten())\n",
    "model.add(Dense(512, activation='relu'))\n",
    "model.add(Dropout(0.5))\n",
    "model.add(Dense(4, activation='softmax'))\n"
   ]
  },
  {
   "cell_type": "code",
   "execution_count": 26,
   "id": "6a21f88e",
   "metadata": {
    "execution": {
     "iopub.execute_input": "2024-04-16T17:21:29.933009Z",
     "iopub.status.busy": "2024-04-16T17:21:29.932077Z",
     "iopub.status.idle": "2024-04-16T17:21:29.945755Z",
     "shell.execute_reply": "2024-04-16T17:21:29.944971Z"
    },
    "id": "cxW817Dz-Crh",
    "papermill": {
     "duration": 0.032957,
     "end_time": "2024-04-16T17:21:29.947818",
     "exception": false,
     "start_time": "2024-04-16T17:21:29.914861",
     "status": "completed"
    },
    "tags": []
   },
   "outputs": [],
   "source": [
    "from keras.optimizers import Adam\n",
    "def lr_schedule(epoch, learning_rate):\n",
    "    if epoch < 20:\n",
    "        return learning_rate\n",
    "    else:\n",
    "        if epoch % 2 == 0:\n",
    "          return learning_rate * 0.95\n",
    "        else:\n",
    "          return learning_rate\n",
    "\n",
    "lr_scheduler = LearningRateScheduler(lr_schedule, verbose=1)\n",
    "\n",
    "initial_learning_rate = 0.001\n",
    "optimizer = Adam(learning_rate=initial_learning_rate)"
   ]
  },
  {
   "cell_type": "code",
   "execution_count": 27,
   "id": "743ad80f",
   "metadata": {
    "execution": {
     "iopub.execute_input": "2024-04-16T17:21:29.985614Z",
     "iopub.status.busy": "2024-04-16T17:21:29.985094Z",
     "iopub.status.idle": "2024-04-16T17:39:10.366082Z",
     "shell.execute_reply": "2024-04-16T17:39:10.365133Z"
    },
    "id": "vpk-HgOC-APP",
    "outputId": "008f7666-bb74-4f1e-9d9f-25e1112c5bed",
    "papermill": {
     "duration": 1060.40561,
     "end_time": "2024-04-16T17:39:10.368468",
     "exception": false,
     "start_time": "2024-04-16T17:21:29.962858",
     "status": "completed"
    },
    "tags": []
   },
   "outputs": [
    {
     "name": "stdout",
     "output_type": "stream",
     "text": [
      "\n",
      "Epoch 1: LearningRateScheduler setting learning rate to 0.0010000000474974513.\n",
      "Epoch 1/50\n",
      "\u001b[1m  1/227\u001b[0m \u001b[37m━━━━━━━━━━━━━━━━━━━━\u001b[0m \u001b[1m1:11:15\u001b[0m 19s/step - accuracy: 0.2424 - loss: 34.0162"
     ]
    },
    {
     "name": "stderr",
     "output_type": "stream",
     "text": [
      "WARNING: All log messages before absl::InitializeLog() is called are written to STDERR\n",
      "I0000 00:00:1713288110.767854      77 device_compiler.h:186] Compiled cluster using XLA!  This line is logged at most once for the lifetime of the process.\n",
      "W0000 00:00:1713288110.789794      77 graph_launch.cc:671] Fallback to op-by-op mode because memset node breaks graph update\n"
     ]
    },
    {
     "name": "stdout",
     "output_type": "stream",
     "text": [
      "\u001b[1m221/227\u001b[0m \u001b[32m━━━━━━━━━━━━━━━━━━━\u001b[0m\u001b[37m━\u001b[0m \u001b[1m0s\u001b[0m 134ms/step - accuracy: 0.4513 - loss: 68.2142"
     ]
    },
    {
     "name": "stderr",
     "output_type": "stream",
     "text": [
      "W0000 00:00:1713288140.362241      75 graph_launch.cc:671] Fallback to op-by-op mode because memset node breaks graph update\n",
      "/opt/conda/lib/python3.10/contextlib.py:153: UserWarning: Your input ran out of data; interrupting training. Make sure that your dataset or generator can generate at least `steps_per_epoch * epochs` batches. You may need to use the `.repeat()` function when building your dataset.\n",
      "  self.gen.throw(typ, value, traceback)\n",
      "W0000 00:00:1713288146.479534      75 graph_launch.cc:671] Fallback to op-by-op mode because memset node breaks graph update\n"
     ]
    },
    {
     "name": "stdout",
     "output_type": "stream",
     "text": [
      "\u001b[1m227/227\u001b[0m \u001b[32m━━━━━━━━━━━━━━━━━━━━\u001b[0m\u001b[37m\u001b[0m \u001b[1m60s\u001b[0m 182ms/step - accuracy: 0.4525 - loss: 66.8096 - val_accuracy: 0.5003 - val_loss: 0.9895 - learning_rate: 0.0010\n",
      "\n",
      "Epoch 2: LearningRateScheduler setting learning rate to 0.0010000000474974513.\n",
      "Epoch 2/50\n"
     ]
    },
    {
     "name": "stderr",
     "output_type": "stream",
     "text": [
      "W0000 00:00:1713288152.127078      77 graph_launch.cc:671] Fallback to op-by-op mode because memset node breaks graph update\n"
     ]
    },
    {
     "name": "stdout",
     "output_type": "stream",
     "text": [
      "\u001b[1m227/227\u001b[0m \u001b[32m━━━━━━━━━━━━━━━━━━━━\u001b[0m\u001b[37m\u001b[0m \u001b[1m43s\u001b[0m 85ms/step - accuracy: 0.5042 - loss: 0.9153 - val_accuracy: 0.4926 - val_loss: 0.8926 - learning_rate: 0.0010\n",
      "\n",
      "Epoch 3: LearningRateScheduler setting learning rate to 0.0010000000474974513.\n",
      "Epoch 3/50\n",
      "\u001b[1m227/227\u001b[0m \u001b[32m━━━━━━━━━━━━━━━━━━━━\u001b[0m\u001b[37m\u001b[0m \u001b[1m20s\u001b[0m 86ms/step - accuracy: 0.4955 - loss: 0.8647 - val_accuracy: 0.4651 - val_loss: 0.8720 - learning_rate: 0.0010\n",
      "\n",
      "Epoch 4: LearningRateScheduler setting learning rate to 0.0010000000474974513.\n",
      "Epoch 4/50\n",
      "\u001b[1m227/227\u001b[0m \u001b[32m━━━━━━━━━━━━━━━━━━━━\u001b[0m\u001b[37m\u001b[0m \u001b[1m20s\u001b[0m 87ms/step - accuracy: 0.5021 - loss: 0.8339 - val_accuracy: 0.5382 - val_loss: 0.8099 - learning_rate: 0.0010\n",
      "\n",
      "Epoch 5: LearningRateScheduler setting learning rate to 0.0010000000474974513.\n",
      "Epoch 5/50\n",
      "\u001b[1m227/227\u001b[0m \u001b[32m━━━━━━━━━━━━━━━━━━━━\u001b[0m\u001b[37m\u001b[0m \u001b[1m20s\u001b[0m 88ms/step - accuracy: 0.5514 - loss: 0.8112 - val_accuracy: 0.5542 - val_loss: 0.8032 - learning_rate: 0.0010\n",
      "\n",
      "Epoch 6: LearningRateScheduler setting learning rate to 0.0010000000474974513.\n",
      "Epoch 6/50\n",
      "\u001b[1m227/227\u001b[0m \u001b[32m━━━━━━━━━━━━━━━━━━━━\u001b[0m\u001b[37m\u001b[0m \u001b[1m20s\u001b[0m 88ms/step - accuracy: 0.5790 - loss: 0.7731 - val_accuracy: 0.5657 - val_loss: 0.7863 - learning_rate: 0.0010\n",
      "\n",
      "Epoch 7: LearningRateScheduler setting learning rate to 0.0010000000474974513.\n",
      "Epoch 7/50\n",
      "\u001b[1m227/227\u001b[0m \u001b[32m━━━━━━━━━━━━━━━━━━━━\u001b[0m\u001b[37m\u001b[0m \u001b[1m20s\u001b[0m 87ms/step - accuracy: 0.6132 - loss: 0.7412 - val_accuracy: 0.6685 - val_loss: 0.7131 - learning_rate: 0.0010\n",
      "\n",
      "Epoch 8: LearningRateScheduler setting learning rate to 0.0010000000474974513.\n",
      "Epoch 8/50\n",
      "\u001b[1m227/227\u001b[0m \u001b[32m━━━━━━━━━━━━━━━━━━━━\u001b[0m\u001b[37m\u001b[0m \u001b[1m20s\u001b[0m 87ms/step - accuracy: 0.6767 - loss: 0.6746 - val_accuracy: 0.6822 - val_loss: 0.6472 - learning_rate: 0.0010\n",
      "\n",
      "Epoch 9: LearningRateScheduler setting learning rate to 0.0010000000474974513.\n",
      "Epoch 9/50\n",
      "\u001b[1m227/227\u001b[0m \u001b[32m━━━━━━━━━━━━━━━━━━━━\u001b[0m\u001b[37m\u001b[0m \u001b[1m20s\u001b[0m 88ms/step - accuracy: 0.7363 - loss: 0.5795 - val_accuracy: 0.6729 - val_loss: 0.6835 - learning_rate: 0.0010\n",
      "\n",
      "Epoch 10: LearningRateScheduler setting learning rate to 0.0010000000474974513.\n",
      "Epoch 10/50\n",
      "\u001b[1m227/227\u001b[0m \u001b[32m━━━━━━━━━━━━━━━━━━━━\u001b[0m\u001b[37m\u001b[0m \u001b[1m20s\u001b[0m 88ms/step - accuracy: 0.6626 - loss: 0.6831 - val_accuracy: 0.7867 - val_loss: 0.4720 - learning_rate: 0.0010\n",
      "\n",
      "Epoch 11: LearningRateScheduler setting learning rate to 0.0010000000474974513.\n",
      "Epoch 11/50\n",
      "\u001b[1m227/227\u001b[0m \u001b[32m━━━━━━━━━━━━━━━━━━━━\u001b[0m\u001b[37m\u001b[0m \u001b[1m20s\u001b[0m 87ms/step - accuracy: 0.7892 - loss: 0.4832 - val_accuracy: 0.7883 - val_loss: 0.5210 - learning_rate: 0.0010\n",
      "\n",
      "Epoch 12: LearningRateScheduler setting learning rate to 0.0010000000474974513.\n",
      "Epoch 12/50\n",
      "\u001b[1m227/227\u001b[0m \u001b[32m━━━━━━━━━━━━━━━━━━━━\u001b[0m\u001b[37m\u001b[0m \u001b[1m20s\u001b[0m 87ms/step - accuracy: 0.7952 - loss: 0.4817 - val_accuracy: 0.6800 - val_loss: 0.6486 - learning_rate: 0.0010\n",
      "\n",
      "Epoch 13: LearningRateScheduler setting learning rate to 0.0010000000474974513.\n",
      "Epoch 13/50\n",
      "\u001b[1m227/227\u001b[0m \u001b[32m━━━━━━━━━━━━━━━━━━━━\u001b[0m\u001b[37m\u001b[0m \u001b[1m20s\u001b[0m 87ms/step - accuracy: 0.7341 - loss: 0.5613 - val_accuracy: 0.7812 - val_loss: 0.5000 - learning_rate: 0.0010\n",
      "\n",
      "Epoch 14: LearningRateScheduler setting learning rate to 0.0010000000474974513.\n",
      "Epoch 14/50\n",
      "\u001b[1m227/227\u001b[0m \u001b[32m━━━━━━━━━━━━━━━━━━━━\u001b[0m\u001b[37m\u001b[0m \u001b[1m20s\u001b[0m 88ms/step - accuracy: 0.8267 - loss: 0.4168 - val_accuracy: 0.8631 - val_loss: 0.3283 - learning_rate: 0.0010\n",
      "\n",
      "Epoch 15: LearningRateScheduler setting learning rate to 0.0010000000474974513.\n",
      "Epoch 15/50\n",
      "\u001b[1m227/227\u001b[0m \u001b[32m━━━━━━━━━━━━━━━━━━━━\u001b[0m\u001b[37m\u001b[0m \u001b[1m20s\u001b[0m 88ms/step - accuracy: 0.8527 - loss: 0.3493 - val_accuracy: 0.8560 - val_loss: 0.3759 - learning_rate: 0.0010\n",
      "\n",
      "Epoch 16: LearningRateScheduler setting learning rate to 0.0010000000474974513.\n",
      "Epoch 16/50\n",
      "\u001b[1m227/227\u001b[0m \u001b[32m━━━━━━━━━━━━━━━━━━━━\u001b[0m\u001b[37m\u001b[0m \u001b[1m20s\u001b[0m 88ms/step - accuracy: 0.8742 - loss: 0.3180 - val_accuracy: 0.9109 - val_loss: 0.2203 - learning_rate: 0.0010\n",
      "\n",
      "Epoch 17: LearningRateScheduler setting learning rate to 0.0010000000474974513.\n",
      "Epoch 17/50\n",
      "\u001b[1m227/227\u001b[0m \u001b[32m━━━━━━━━━━━━━━━━━━━━\u001b[0m\u001b[37m\u001b[0m \u001b[1m20s\u001b[0m 88ms/step - accuracy: 0.8998 - loss: 0.2519 - val_accuracy: 0.9131 - val_loss: 0.2275 - learning_rate: 0.0010\n",
      "\n",
      "Epoch 18: LearningRateScheduler setting learning rate to 0.0010000000474974513.\n",
      "Epoch 18/50\n",
      "\u001b[1m227/227\u001b[0m \u001b[32m━━━━━━━━━━━━━━━━━━━━\u001b[0m\u001b[37m\u001b[0m \u001b[1m20s\u001b[0m 88ms/step - accuracy: 0.9033 - loss: 0.2362 - val_accuracy: 0.9263 - val_loss: 0.1872 - learning_rate: 0.0010\n",
      "\n",
      "Epoch 19: LearningRateScheduler setting learning rate to 0.0010000000474974513.\n",
      "Epoch 19/50\n",
      "\u001b[1m227/227\u001b[0m \u001b[32m━━━━━━━━━━━━━━━━━━━━\u001b[0m\u001b[37m\u001b[0m \u001b[1m20s\u001b[0m 87ms/step - accuracy: 0.9237 - loss: 0.1957 - val_accuracy: 0.9439 - val_loss: 0.1431 - learning_rate: 0.0010\n",
      "\n",
      "Epoch 20: LearningRateScheduler setting learning rate to 0.0010000000474974513.\n",
      "Epoch 20/50\n",
      "\u001b[1m227/227\u001b[0m \u001b[32m━━━━━━━━━━━━━━━━━━━━\u001b[0m\u001b[37m\u001b[0m \u001b[1m20s\u001b[0m 88ms/step - accuracy: 0.9314 - loss: 0.1768 - val_accuracy: 0.9296 - val_loss: 0.1682 - learning_rate: 0.0010\n",
      "\n",
      "Epoch 21: LearningRateScheduler setting learning rate to 0.0009500000451225787.\n",
      "Epoch 21/50\n",
      "\u001b[1m227/227\u001b[0m \u001b[32m━━━━━━━━━━━━━━━━━━━━\u001b[0m\u001b[37m\u001b[0m \u001b[1m20s\u001b[0m 88ms/step - accuracy: 0.9450 - loss: 0.1515 - val_accuracy: 0.9423 - val_loss: 0.1606 - learning_rate: 9.5000e-04\n",
      "\n",
      "Epoch 22: LearningRateScheduler setting learning rate to 0.0009500000160187483.\n",
      "Epoch 22/50\n",
      "\u001b[1m227/227\u001b[0m \u001b[32m━━━━━━━━━━━━━━━━━━━━\u001b[0m\u001b[37m\u001b[0m \u001b[1m20s\u001b[0m 88ms/step - accuracy: 0.9438 - loss: 0.1602 - val_accuracy: 0.9522 - val_loss: 0.1394 - learning_rate: 9.5000e-04\n",
      "\n",
      "Epoch 23: LearningRateScheduler setting learning rate to 0.0009025000152178108.\n",
      "Epoch 23/50\n",
      "\u001b[1m227/227\u001b[0m \u001b[32m━━━━━━━━━━━━━━━━━━━━\u001b[0m\u001b[37m\u001b[0m \u001b[1m20s\u001b[0m 88ms/step - accuracy: 0.9487 - loss: 0.1480 - val_accuracy: 0.9654 - val_loss: 0.0969 - learning_rate: 9.0250e-04\n",
      "\n",
      "Epoch 24: LearningRateScheduler setting learning rate to 0.0009025000035762787.\n",
      "Epoch 24/50\n",
      "\u001b[1m227/227\u001b[0m \u001b[32m━━━━━━━━━━━━━━━━━━━━\u001b[0m\u001b[37m\u001b[0m \u001b[1m20s\u001b[0m 88ms/step - accuracy: 0.9621 - loss: 0.1021 - val_accuracy: 0.9555 - val_loss: 0.1175 - learning_rate: 9.0250e-04\n",
      "\n",
      "Epoch 25: LearningRateScheduler setting learning rate to 0.0008573750033974647.\n",
      "Epoch 25/50\n",
      "\u001b[1m227/227\u001b[0m \u001b[32m━━━━━━━━━━━━━━━━━━━━\u001b[0m\u001b[37m\u001b[0m \u001b[1m20s\u001b[0m 88ms/step - accuracy: 0.9481 - loss: 0.1399 - val_accuracy: 0.9654 - val_loss: 0.0950 - learning_rate: 8.5737e-04\n",
      "\n",
      "Epoch 26: LearningRateScheduler setting learning rate to 0.0008573749801144004.\n",
      "Epoch 26/50\n",
      "\u001b[1m227/227\u001b[0m \u001b[32m━━━━━━━━━━━━━━━━━━━━\u001b[0m\u001b[37m\u001b[0m \u001b[1m20s\u001b[0m 87ms/step - accuracy: 0.9635 - loss: 0.1011 - val_accuracy: 0.9720 - val_loss: 0.0814 - learning_rate: 8.5737e-04\n",
      "\n",
      "Epoch 27: LearningRateScheduler setting learning rate to 0.0008145062311086804.\n",
      "Epoch 27/50\n",
      "\u001b[1m227/227\u001b[0m \u001b[32m━━━━━━━━━━━━━━━━━━━━\u001b[0m\u001b[37m\u001b[0m \u001b[1m20s\u001b[0m 88ms/step - accuracy: 0.9709 - loss: 0.0783 - val_accuracy: 0.9736 - val_loss: 0.0784 - learning_rate: 8.1451e-04\n",
      "\n",
      "Epoch 28: LearningRateScheduler setting learning rate to 0.0008145062020048499.\n",
      "Epoch 28/50\n",
      "\u001b[1m227/227\u001b[0m \u001b[32m━━━━━━━━━━━━━━━━━━━━\u001b[0m\u001b[37m\u001b[0m \u001b[1m20s\u001b[0m 87ms/step - accuracy: 0.9707 - loss: 0.1051 - val_accuracy: 0.9736 - val_loss: 0.0797 - learning_rate: 8.1451e-04\n",
      "\n",
      "Epoch 29: LearningRateScheduler setting learning rate to 0.0007737808919046074.\n",
      "Epoch 29/50\n",
      "\u001b[1m227/227\u001b[0m \u001b[32m━━━━━━━━━━━━━━━━━━━━\u001b[0m\u001b[37m\u001b[0m \u001b[1m20s\u001b[0m 87ms/step - accuracy: 0.9716 - loss: 0.0824 - val_accuracy: 0.9654 - val_loss: 0.0994 - learning_rate: 7.7378e-04\n",
      "\n",
      "Epoch 30: LearningRateScheduler setting learning rate to 0.000773780862800777.\n",
      "Epoch 30/50\n",
      "\u001b[1m227/227\u001b[0m \u001b[32m━━━━━━━━━━━━━━━━━━━━\u001b[0m\u001b[37m\u001b[0m \u001b[1m20s\u001b[0m 87ms/step - accuracy: 0.9771 - loss: 0.0651 - val_accuracy: 0.9681 - val_loss: 0.0940 - learning_rate: 7.7378e-04\n",
      "\n",
      "Epoch 31: LearningRateScheduler setting learning rate to 0.000735091819660738.\n",
      "Epoch 31/50\n",
      "\u001b[1m227/227\u001b[0m \u001b[32m━━━━━━━━━━━━━━━━━━━━\u001b[0m\u001b[37m\u001b[0m \u001b[1m20s\u001b[0m 87ms/step - accuracy: 0.9735 - loss: 0.0695 - val_accuracy: 0.9819 - val_loss: 0.0523 - learning_rate: 7.3509e-04\n",
      "\n",
      "Epoch 32: LearningRateScheduler setting learning rate to 0.0007350918021984398.\n",
      "Epoch 32/50\n",
      "\u001b[1m227/227\u001b[0m \u001b[32m━━━━━━━━━━━━━━━━━━━━\u001b[0m\u001b[37m\u001b[0m \u001b[1m20s\u001b[0m 88ms/step - accuracy: 0.9776 - loss: 0.0673 - val_accuracy: 0.9373 - val_loss: 0.1854 - learning_rate: 7.3509e-04\n",
      "\n",
      "Epoch 33: LearningRateScheduler setting learning rate to 0.0006983372120885178.\n",
      "Epoch 33/50\n",
      "\u001b[1m227/227\u001b[0m \u001b[32m━━━━━━━━━━━━━━━━━━━━\u001b[0m\u001b[37m\u001b[0m \u001b[1m20s\u001b[0m 87ms/step - accuracy: 0.9641 - loss: 0.1070 - val_accuracy: 0.9824 - val_loss: 0.0505 - learning_rate: 6.9834e-04\n",
      "\n",
      "Epoch 34: LearningRateScheduler setting learning rate to 0.0006983372149989009.\n",
      "Epoch 34/50\n",
      "\u001b[1m227/227\u001b[0m \u001b[32m━━━━━━━━━━━━━━━━━━━━\u001b[0m\u001b[37m\u001b[0m \u001b[1m20s\u001b[0m 88ms/step - accuracy: 0.9791 - loss: 0.0641 - val_accuracy: 0.9786 - val_loss: 0.0633 - learning_rate: 6.9834e-04\n",
      "\n",
      "Epoch 35: LearningRateScheduler setting learning rate to 0.0006634203542489559.\n",
      "Epoch 35/50\n",
      "\u001b[1m227/227\u001b[0m \u001b[32m━━━━━━━━━━━━━━━━━━━━\u001b[0m\u001b[37m\u001b[0m \u001b[1m20s\u001b[0m 88ms/step - accuracy: 0.9760 - loss: 0.0727 - val_accuracy: 0.9852 - val_loss: 0.0546 - learning_rate: 6.6342e-04\n",
      "\n",
      "Epoch 36: LearningRateScheduler setting learning rate to 0.0006634203600697219.\n",
      "Epoch 36/50\n",
      "\u001b[1m227/227\u001b[0m \u001b[32m━━━━━━━━━━━━━━━━━━━━\u001b[0m\u001b[37m\u001b[0m \u001b[1m20s\u001b[0m 88ms/step - accuracy: 0.9839 - loss: 0.0485 - val_accuracy: 0.9758 - val_loss: 0.0819 - learning_rate: 6.6342e-04\n",
      "\n",
      "Epoch 37: LearningRateScheduler setting learning rate to 0.0006302493420662358.\n",
      "Epoch 37/50\n",
      "\u001b[1m227/227\u001b[0m \u001b[32m━━━━━━━━━━━━━━━━━━━━\u001b[0m\u001b[37m\u001b[0m \u001b[1m20s\u001b[0m 87ms/step - accuracy: 0.9782 - loss: 0.0577 - val_accuracy: 0.9819 - val_loss: 0.0530 - learning_rate: 6.3025e-04\n",
      "\n",
      "Epoch 38: LearningRateScheduler setting learning rate to 0.0006302493275143206.\n",
      "Epoch 38/50\n",
      "\u001b[1m227/227\u001b[0m \u001b[32m━━━━━━━━━━━━━━━━━━━━\u001b[0m\u001b[37m\u001b[0m \u001b[1m20s\u001b[0m 87ms/step - accuracy: 0.9821 - loss: 0.0522 - val_accuracy: 0.9841 - val_loss: 0.0442 - learning_rate: 6.3025e-04\n",
      "\n",
      "Epoch 39: LearningRateScheduler setting learning rate to 0.0005987368611386045.\n",
      "Epoch 39/50\n",
      "\u001b[1m227/227\u001b[0m \u001b[32m━━━━━━━━━━━━━━━━━━━━\u001b[0m\u001b[37m\u001b[0m \u001b[1m20s\u001b[0m 88ms/step - accuracy: 0.9799 - loss: 0.0647 - val_accuracy: 0.9797 - val_loss: 0.0760 - learning_rate: 5.9874e-04\n",
      "\n",
      "Epoch 40: LearningRateScheduler setting learning rate to 0.0005987368640489876.\n",
      "Epoch 40/50\n",
      "\u001b[1m227/227\u001b[0m \u001b[32m━━━━━━━━━━━━━━━━━━━━\u001b[0m\u001b[37m\u001b[0m \u001b[1m20s\u001b[0m 87ms/step - accuracy: 0.9838 - loss: 0.0423 - val_accuracy: 0.9813 - val_loss: 0.0572 - learning_rate: 5.9874e-04\n",
      "\n",
      "Epoch 41: LearningRateScheduler setting learning rate to 0.0005688000208465382.\n",
      "Epoch 41/50\n",
      "\u001b[1m227/227\u001b[0m \u001b[32m━━━━━━━━━━━━━━━━━━━━\u001b[0m\u001b[37m\u001b[0m \u001b[1m20s\u001b[0m 87ms/step - accuracy: 0.9855 - loss: 0.0527 - val_accuracy: 0.9841 - val_loss: 0.0418 - learning_rate: 5.6880e-04\n",
      "\n",
      "Epoch 42: LearningRateScheduler setting learning rate to 0.0005688000237569213.\n",
      "Epoch 42/50\n",
      "\u001b[1m227/227\u001b[0m \u001b[32m━━━━━━━━━━━━━━━━━━━━\u001b[0m\u001b[37m\u001b[0m \u001b[1m20s\u001b[0m 87ms/step - accuracy: 0.9856 - loss: 0.0424 - val_accuracy: 0.9780 - val_loss: 0.0713 - learning_rate: 5.6880e-04\n",
      "\n",
      "Epoch 43: LearningRateScheduler setting learning rate to 0.0005403600225690752.\n",
      "Epoch 43/50\n",
      "\u001b[1m227/227\u001b[0m \u001b[32m━━━━━━━━━━━━━━━━━━━━\u001b[0m\u001b[37m\u001b[0m \u001b[1m20s\u001b[0m 88ms/step - accuracy: 0.9832 - loss: 0.0489 - val_accuracy: 0.9813 - val_loss: 0.0585 - learning_rate: 5.4036e-04\n",
      "\n",
      "Epoch 44: LearningRateScheduler setting learning rate to 0.0005403599934652448.\n",
      "Epoch 44/50\n",
      "\u001b[1m227/227\u001b[0m \u001b[32m━━━━━━━━━━━━━━━━━━━━\u001b[0m\u001b[37m\u001b[0m \u001b[1m20s\u001b[0m 87ms/step - accuracy: 0.9859 - loss: 0.0494 - val_accuracy: 0.9824 - val_loss: 0.0584 - learning_rate: 5.4036e-04\n",
      "\n",
      "Epoch 45: LearningRateScheduler setting learning rate to 0.0005133419937919825.\n",
      "Epoch 45/50\n",
      "\u001b[1m227/227\u001b[0m \u001b[32m━━━━━━━━━━━━━━━━━━━━\u001b[0m\u001b[37m\u001b[0m \u001b[1m20s\u001b[0m 88ms/step - accuracy: 0.9875 - loss: 0.0309 - val_accuracy: 0.9824 - val_loss: 0.0498 - learning_rate: 5.1334e-04\n",
      "\n",
      "Epoch 46: LearningRateScheduler setting learning rate to 0.0005133419763296843.\n",
      "Epoch 46/50\n",
      "\u001b[1m227/227\u001b[0m \u001b[32m━━━━━━━━━━━━━━━━━━━━\u001b[0m\u001b[37m\u001b[0m \u001b[1m20s\u001b[0m 88ms/step - accuracy: 0.9883 - loss: 0.0376 - val_accuracy: 0.9896 - val_loss: 0.0442 - learning_rate: 5.1334e-04\n",
      "\n",
      "Epoch 47: LearningRateScheduler setting learning rate to 0.0004876748775132.\n",
      "Epoch 47/50\n",
      "\u001b[1m227/227\u001b[0m \u001b[32m━━━━━━━━━━━━━━━━━━━━\u001b[0m\u001b[37m\u001b[0m \u001b[1m20s\u001b[0m 88ms/step - accuracy: 0.9877 - loss: 0.0357 - val_accuracy: 0.9835 - val_loss: 0.0489 - learning_rate: 4.8767e-04\n",
      "\n",
      "Epoch 48: LearningRateScheduler setting learning rate to 0.00048767487169243395.\n",
      "Epoch 48/50\n",
      "\u001b[1m227/227\u001b[0m \u001b[32m━━━━━━━━━━━━━━━━━━━━\u001b[0m\u001b[37m\u001b[0m \u001b[1m20s\u001b[0m 88ms/step - accuracy: 0.9869 - loss: 0.0385 - val_accuracy: 0.9874 - val_loss: 0.0388 - learning_rate: 4.8767e-04\n",
      "\n",
      "Epoch 49: LearningRateScheduler setting learning rate to 0.00046329112810781223.\n",
      "Epoch 49/50\n",
      "\u001b[1m227/227\u001b[0m \u001b[32m━━━━━━━━━━━━━━━━━━━━\u001b[0m\u001b[37m\u001b[0m \u001b[1m20s\u001b[0m 87ms/step - accuracy: 0.9887 - loss: 0.0327 - val_accuracy: 0.9868 - val_loss: 0.0463 - learning_rate: 4.6329e-04\n",
      "\n",
      "Epoch 50: LearningRateScheduler setting learning rate to 0.0004632911295630038.\n",
      "Epoch 50/50\n",
      "\u001b[1m227/227\u001b[0m \u001b[32m━━━━━━━━━━━━━━━━━━━━\u001b[0m\u001b[37m\u001b[0m \u001b[1m20s\u001b[0m 87ms/step - accuracy: 0.9880 - loss: 0.0364 - val_accuracy: 0.9896 - val_loss: 0.0322 - learning_rate: 4.6329e-04\n"
     ]
    }
   ],
   "source": [
    "import math\n",
    "model.compile(optimizer=optimizer, loss='categorical_crossentropy', metrics=['accuracy'])\n",
    "\n",
    "history = model.fit(train_images, train_labels_encoded,\n",
    "                    steps_per_epoch = int(len(train_images) / 32),\n",
    "                    epochs=50,\n",
    "                    validation_data=(test_images, test_labels_encoded),\n",
    "                    sample_weight=sample_weights,\n",
    "                    callbacks=[lr_scheduler])"
   ]
  },
  {
   "cell_type": "code",
   "execution_count": 28,
   "id": "1dbe1778",
   "metadata": {
    "execution": {
     "iopub.execute_input": "2024-04-16T17:39:12.463051Z",
     "iopub.status.busy": "2024-04-16T17:39:12.462327Z",
     "iopub.status.idle": "2024-04-16T17:39:14.847443Z",
     "shell.execute_reply": "2024-04-16T17:39:14.846342Z"
    },
    "id": "f26751b2",
    "outputId": "68d32aa4-5e7b-4125-89db-7b3ec64c5b72",
    "papermill": {
     "duration": 3.401025,
     "end_time": "2024-04-16T17:39:14.850159",
     "exception": false,
     "start_time": "2024-04-16T17:39:11.449134",
     "status": "completed"
    },
    "tags": []
   },
   "outputs": [
    {
     "name": "stdout",
     "output_type": "stream",
     "text": [
      "\u001b[1m10/57\u001b[0m \u001b[32m━━━\u001b[0m\u001b[37m━━━━━━━━━━━━━━━━━\u001b[0m \u001b[1m0s\u001b[0m 21ms/step"
     ]
    },
    {
     "name": "stderr",
     "output_type": "stream",
     "text": [
      "W0000 00:00:1713289153.405822      74 graph_launch.cc:671] Fallback to op-by-op mode because memset node breaks graph update\n"
     ]
    },
    {
     "name": "stdout",
     "output_type": "stream",
     "text": [
      "\u001b[1m57/57\u001b[0m \u001b[32m━━━━━━━━━━━━━━━━━━━━\u001b[0m\u001b[37m\u001b[0m \u001b[1m2s\u001b[0m 24ms/step\n",
      "ROC AUC: 0.999615352385477\n"
     ]
    },
    {
     "name": "stderr",
     "output_type": "stream",
     "text": [
      "W0000 00:00:1713289154.750851      77 graph_launch.cc:671] Fallback to op-by-op mode because memset node breaks graph update\n"
     ]
    }
   ],
   "source": [
    "import tensorflow as tf\n",
    "import numpy as np\n",
    "from sklearn.metrics import roc_auc_score\n",
    "\n",
    "y_prob = model.predict(test_images)\n",
    "y_prob = tf.nn.softmax(y_prob).numpy()\n",
    "\n",
    "# Compute ROC AUC for each class\n",
    "roc_auc = roc_auc_score(test_labels_encoded, y_prob, average='macro')\n",
    "\n",
    "print(\"ROC AUC:\", roc_auc)"
   ]
  },
  {
   "cell_type": "code",
   "execution_count": 29,
   "id": "748371f9",
   "metadata": {
    "execution": {
     "iopub.execute_input": "2024-04-16T17:39:16.994395Z",
     "iopub.status.busy": "2024-04-16T17:39:16.993265Z",
     "iopub.status.idle": "2024-04-16T17:39:18.597653Z",
     "shell.execute_reply": "2024-04-16T17:39:18.596762Z"
    },
    "id": "ac3ed08e",
    "outputId": "e6a9891b-e633-4c66-c7f3-563344ad529f",
    "papermill": {
     "duration": 2.612626,
     "end_time": "2024-04-16T17:39:18.600243",
     "exception": false,
     "start_time": "2024-04-16T17:39:15.987617",
     "status": "completed"
    },
    "tags": []
   },
   "outputs": [],
   "source": [
    "# Save the model\n",
    "model.save(\"my_cnn_model.h5\")\n"
   ]
  },
  {
   "cell_type": "code",
   "execution_count": 30,
   "id": "2bfe3e43",
   "metadata": {
    "execution": {
     "iopub.execute_input": "2024-04-16T17:39:20.797763Z",
     "iopub.status.busy": "2024-04-16T17:39:20.797350Z",
     "iopub.status.idle": "2024-04-16T17:39:20.807158Z",
     "shell.execute_reply": "2024-04-16T17:39:20.805978Z"
    },
    "id": "CihNhxENChlt",
    "outputId": "fb5f119d-f55e-4bac-a9bd-f5ff11ba7507",
    "papermill": {
     "duration": 1.073248,
     "end_time": "2024-04-16T17:39:20.809527",
     "exception": false,
     "start_time": "2024-04-16T17:39:19.736279",
     "status": "completed"
    },
    "tags": []
   },
   "outputs": [
    {
     "data": {
      "text/plain": [
       "1279"
      ]
     },
     "execution_count": 30,
     "metadata": {},
     "output_type": "execute_result"
    }
   ],
   "source": [
    "import os\n",
    "import numpy as np\n",
    "directory = '/kaggle/working/test'\n",
    "\n",
    "files = [file for file in os.listdir(directory) if file.endswith('.npy')]\n",
    "len(files)"
   ]
  },
  {
   "cell_type": "code",
   "execution_count": 31,
   "id": "46171fd0",
   "metadata": {
    "execution": {
     "iopub.execute_input": "2024-04-16T17:39:22.963847Z",
     "iopub.status.busy": "2024-04-16T17:39:22.963035Z",
     "iopub.status.idle": "2024-04-16T17:39:22.970920Z",
     "shell.execute_reply": "2024-04-16T17:39:22.969988Z"
    },
    "id": "avj2hYL_Cp9p",
    "outputId": "573fc7df-d466-4585-f0db-b55ea39ed61a",
    "papermill": {
     "duration": 1.065183,
     "end_time": "2024-04-16T17:39:22.973391",
     "exception": false,
     "start_time": "2024-04-16T17:39:21.908208",
     "status": "completed"
    },
    "tags": []
   },
   "outputs": [
    {
     "name": "stdout",
     "output_type": "stream",
     "text": [
      "179 12 640 448\n"
     ]
    }
   ],
   "source": [
    "mildDem = [i for i in files if i.startswith(\"MildDem\")]\n",
    "moderateDem = [i for i in files if \"ModerateDem\" in i]\n",
    "nonDem = [i for i in files if \"NonDem\" in i]\n",
    "veryMild = [i for i in files if \"VeryMildDem\" in i]\n",
    "print(len(mildDem), len(moderateDem), len(nonDem), len(veryMild))"
   ]
  },
  {
   "cell_type": "code",
   "execution_count": 32,
   "id": "e5d590d6",
   "metadata": {
    "execution": {
     "iopub.execute_input": "2024-04-16T17:39:25.079272Z",
     "iopub.status.busy": "2024-04-16T17:39:25.078554Z",
     "iopub.status.idle": "2024-04-16T17:39:25.095545Z",
     "shell.execute_reply": "2024-04-16T17:39:25.094509Z"
    },
    "id": "63L3eQx3Cs6g",
    "outputId": "9e45a2f9-8615-43d0-a370-278cdc04fa05",
    "papermill": {
     "duration": 1.098865,
     "end_time": "2024-04-16T17:39:25.097861",
     "exception": false,
     "start_time": "2024-04-16T17:39:23.998996",
     "status": "completed"
    },
    "tags": []
   },
   "outputs": [
    {
     "data": {
      "text/plain": [
       "Class\n",
       "2    640\n",
       "3    448\n",
       "0    179\n",
       "1     12\n",
       "Name: count, dtype: int64"
      ]
     },
     "execution_count": 32,
     "metadata": {},
     "output_type": "execute_result"
    }
   ],
   "source": [
    "import pandas as pd\n",
    "l = [[mildDem, 0], [moderateDem, 1], [nonDem, 2], [veryMild, 3]]\n",
    "x = []\n",
    "for i in l:\n",
    "    for j in i[0]:\n",
    "        path = os.path.join(\"/kaggle/working/test\", j)\n",
    "        x.append([i[1], path])\n",
    "\n",
    "df = pd.DataFrame(x, columns=[\"Class\", \"Path\"])\n",
    "df[\"Class\"].value_counts()\n"
   ]
  },
  {
   "cell_type": "code",
   "execution_count": 33,
   "id": "e8bf69dd",
   "metadata": {
    "execution": {
     "iopub.execute_input": "2024-04-16T17:39:27.227175Z",
     "iopub.status.busy": "2024-04-16T17:39:27.226318Z",
     "iopub.status.idle": "2024-04-16T17:39:27.478422Z",
     "shell.execute_reply": "2024-04-16T17:39:27.476993Z"
    },
    "id": "QwkXDmRMCwlr",
    "papermill": {
     "duration": 1.338383,
     "end_time": "2024-04-16T17:39:27.481412",
     "exception": false,
     "start_time": "2024-04-16T17:39:26.143029",
     "status": "completed"
    },
    "tags": []
   },
   "outputs": [],
   "source": [
    "images = []\n",
    "for i in df[\"Path\"]:\n",
    "    images.append(np.load(i))\n",
    "images = np.array(images)"
   ]
  },
  {
   "cell_type": "code",
   "execution_count": 34,
   "id": "c76f8fe5",
   "metadata": {
    "execution": {
     "iopub.execute_input": "2024-04-16T17:39:29.559501Z",
     "iopub.status.busy": "2024-04-16T17:39:29.559102Z",
     "iopub.status.idle": "2024-04-16T17:39:29.565365Z",
     "shell.execute_reply": "2024-04-16T17:39:29.564332Z"
    },
    "id": "N6jxb1FwC2bj",
    "outputId": "75b6f37b-e8fd-49a4-86ad-dd44c30beb62",
    "papermill": {
     "duration": 1.073303,
     "end_time": "2024-04-16T17:39:29.567606",
     "exception": false,
     "start_time": "2024-04-16T17:39:28.494303",
     "status": "completed"
    },
    "tags": []
   },
   "outputs": [
    {
     "name": "stdout",
     "output_type": "stream",
     "text": [
      "(1279, 4)\n"
     ]
    }
   ],
   "source": [
    "labels = df[\"Class\"]\n",
    "labels = to_categorical(labels, num_classes=4)\n",
    "# Verify the encoded labels\n",
    "print(labels.shape)"
   ]
  },
  {
   "cell_type": "code",
   "execution_count": 35,
   "id": "455f8eba",
   "metadata": {
    "execution": {
     "iopub.execute_input": "2024-04-16T17:39:31.669213Z",
     "iopub.status.busy": "2024-04-16T17:39:31.668781Z",
     "iopub.status.idle": "2024-04-16T17:39:31.677247Z",
     "shell.execute_reply": "2024-04-16T17:39:31.676227Z"
    },
    "id": "pa815UOO8N0j",
    "papermill": {
     "duration": 1.097339,
     "end_time": "2024-04-16T17:39:31.679432",
     "exception": false,
     "start_time": "2024-04-16T17:39:30.582093",
     "status": "completed"
    },
    "tags": []
   },
   "outputs": [],
   "source": [
    "l = []\n",
    "for i in labels:\n",
    "  for j in range(4):\n",
    "    if i[j] == 1:\n",
    "      l.append(j)\n"
   ]
  },
  {
   "cell_type": "code",
   "execution_count": 36,
   "id": "7d699874",
   "metadata": {
    "execution": {
     "iopub.execute_input": "2024-04-16T17:39:33.728882Z",
     "iopub.status.busy": "2024-04-16T17:39:33.728474Z",
     "iopub.status.idle": "2024-04-16T17:39:40.245573Z",
     "shell.execute_reply": "2024-04-16T17:39:40.244437Z"
    },
    "id": "I_42DXnvZVLB",
    "papermill": {
     "duration": 7.534324,
     "end_time": "2024-04-16T17:39:40.248052",
     "exception": false,
     "start_time": "2024-04-16T17:39:32.713728",
     "status": "completed"
    },
    "tags": []
   },
   "outputs": [
    {
     "name": "stdout",
     "output_type": "stream",
     "text": [
      "\u001b[1m40/40\u001b[0m \u001b[32m━━━━━━━━━━━━━━━━━━━━\u001b[0m\u001b[37m\u001b[0m \u001b[1m6s\u001b[0m 155ms/step\n"
     ]
    },
    {
     "name": "stderr",
     "output_type": "stream",
     "text": [
      "W0000 00:00:1713289180.198886      74 graph_launch.cc:671] Fallback to op-by-op mode because memset node breaks graph update\n"
     ]
    }
   ],
   "source": [
    "y_prob = model.predict(images)\n",
    "\n",
    "# y_prob = tf.nn.softmax(y_prob).numpy()\n",
    "# Get the class with the highest probability for each prediction\n",
    "y_prob = np.argmax(y_prob, axis=1)  # Argmax gives index of max value\n",
    "# for i in range(len(labels)):\n",
    "#   print(l[i], y_prob[i])"
   ]
  },
  {
   "cell_type": "code",
   "execution_count": null,
   "id": "41441148",
   "metadata": {
    "id": "QFRjRjLZKuv4",
    "papermill": {
     "duration": 1.017901,
     "end_time": "2024-04-16T17:39:42.357144",
     "exception": false,
     "start_time": "2024-04-16T17:39:41.339243",
     "status": "completed"
    },
    "tags": []
   },
   "outputs": [],
   "source": []
  },
  {
   "cell_type": "code",
   "execution_count": 37,
   "id": "155be648",
   "metadata": {
    "execution": {
     "iopub.execute_input": "2024-04-16T17:39:44.416490Z",
     "iopub.status.busy": "2024-04-16T17:39:44.416082Z",
     "iopub.status.idle": "2024-04-16T17:39:44.432416Z",
     "shell.execute_reply": "2024-04-16T17:39:44.431286Z"
    },
    "id": "Whw0fiWMafyY",
    "outputId": "f6126497-412a-4edb-9965-396997e74a55",
    "papermill": {
     "duration": 1.014604,
     "end_time": "2024-04-16T17:39:44.434644",
     "exception": false,
     "start_time": "2024-04-16T17:39:43.420040",
     "status": "completed"
    },
    "tags": []
   },
   "outputs": [
    {
     "name": "stdout",
     "output_type": "stream",
     "text": [
      "0 {'precision': 0.44727272727272727, 'recall': 0.6871508379888268, 'f1-score': 0.5418502202643173, 'support': 179}\n",
      "1 {'precision': 0.2222222222222222, 'recall': 0.5, 'f1-score': 0.30769230769230765, 'support': 12}\n",
      "2 {'precision': 0.7339971550497866, 'recall': 0.80625, 'f1-score': 0.7684288905435591, 'support': 640}\n",
      "3 {'precision': 0.7700729927007299, 'recall': 0.47098214285714285, 'f1-score': 0.5844875346260389, 'support': 448}\n",
      "accuracy 0.6692728694292416\n",
      "macro avg {'precision': 0.5433912743113665, 'recall': 0.6160957452114924, 'f1-score': 0.5506147382815557, 'support': 1279}\n",
      "weighted avg {'precision': 0.7017039599767595, 'recall': 0.6692728694292416, 'f1-score': 0.6679659128850381, 'support': 1279}\n"
     ]
    }
   ],
   "source": [
    "from sklearn.metrics import classification_report\n",
    "\n",
    "# Assuming you have predicted labels (predicted_classes) and true labels (test_labels_encoded)\n",
    "report = classification_report(l, y_prob, output_dict=True)\n",
    "for i in report:\n",
    "  print(i, report[i])"
   ]
  },
  {
   "cell_type": "code",
   "execution_count": 38,
   "id": "073a1d9c",
   "metadata": {
    "execution": {
     "iopub.execute_input": "2024-04-16T17:39:46.565515Z",
     "iopub.status.busy": "2024-04-16T17:39:46.565110Z",
     "iopub.status.idle": "2024-04-16T17:39:48.199234Z",
     "shell.execute_reply": "2024-04-16T17:39:48.198134Z"
    },
    "id": "QdaXXEvFDJKJ",
    "outputId": "f3c4dd51-486e-44cd-ff3d-5d6e7a9eb256",
    "papermill": {
     "duration": 2.695718,
     "end_time": "2024-04-16T17:39:48.201841",
     "exception": false,
     "start_time": "2024-04-16T17:39:45.506123",
     "status": "completed"
    },
    "tags": []
   },
   "outputs": [
    {
     "name": "stdout",
     "output_type": "stream",
     "text": [
      "\u001b[1m40/40\u001b[0m \u001b[32m━━━━━━━━━━━━━━━━━━━━\u001b[0m\u001b[37m\u001b[0m \u001b[1m1s\u001b[0m 31ms/step - accuracy: 0.7153 - loss: 1.9972\n"
     ]
    },
    {
     "name": "stderr",
     "output_type": "stream",
     "text": [
      "W0000 00:00:1713289188.161135      77 graph_launch.cc:671] Fallback to op-by-op mode because memset node breaks graph update\n"
     ]
    },
    {
     "data": {
      "text/plain": [
       "[2.5136075019836426, 0.6692728400230408]"
      ]
     },
     "execution_count": 38,
     "metadata": {},
     "output_type": "execute_result"
    }
   ],
   "source": [
    "model.evaluate(images, labels)"
   ]
  },
  {
   "cell_type": "code",
   "execution_count": null,
   "id": "6a5b0112",
   "metadata": {
    "id": "XREPQZ-SE05_",
    "papermill": {
     "duration": 1.027321,
     "end_time": "2024-04-16T17:39:50.292072",
     "exception": false,
     "start_time": "2024-04-16T17:39:49.264751",
     "status": "completed"
    },
    "tags": []
   },
   "outputs": [],
   "source": []
  }
 ],
 "metadata": {
  "accelerator": "GPU",
  "colab": {
   "gpuType": "T4",
   "provenance": []
  },
  "kaggle": {
   "accelerator": "nvidiaTeslaT4",
   "dataSources": [
    {
     "datasetId": 457093,
     "sourceId": 861496,
     "sourceType": "datasetVersion"
    },
    {
     "datasetId": 4792690,
     "sourceId": 8112894,
     "sourceType": "datasetVersion"
    }
   ],
   "dockerImageVersionId": 30684,
   "isGpuEnabled": true,
   "isInternetEnabled": false,
   "language": "python",
   "sourceType": "notebook"
  },
  "kernelspec": {
   "display_name": "Python 3",
   "language": "python",
   "name": "python3"
  },
  "language_info": {
   "codemirror_mode": {
    "name": "ipython",
    "version": 3
   },
   "file_extension": ".py",
   "mimetype": "text/x-python",
   "name": "python",
   "nbconvert_exporter": "python",
   "pygments_lexer": "ipython3",
   "version": "3.10.13"
  },
  "papermill": {
   "default_parameters": {},
   "duration": 1182.305042,
   "end_time": "2024-04-16T17:39:54.651853",
   "environment_variables": {},
   "exception": null,
   "input_path": "__notebook__.ipynb",
   "output_path": "__notebook__.ipynb",
   "parameters": {},
   "start_time": "2024-04-16T17:20:12.346811",
   "version": "2.5.0"
  }
 },
 "nbformat": 4,
 "nbformat_minor": 5
}
