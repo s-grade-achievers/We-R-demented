{
  "cells": [
    {
      "source": [
        "<a href=\"https://www.kaggle.com/code/pes1ug22am164/image-part?scriptVersionId=171996997\" target=\"_blank\"><img align=\"left\" alt=\"Kaggle\" title=\"Open in Kaggle\" src=\"https://kaggle.com/static/images/open-in-kaggle.svg\"></a>"
      ],
      "metadata": {
        "id": "tSxMywSSAqoZ"
      },
      "cell_type": "markdown",
      "id": "tSxMywSSAqoZ"
    },
    {
      "cell_type": "code",
      "source": [
        "!mkdir ~/.kaggle\n",
        "from google.colab import files\n",
        "files.upload()\n",
        "!cp kaggle.json ~/.kaggle/\n",
        "!chmod 600 ~/.kaggle/kaggle.json\n",
        "!kaggle datasets download -d shusrith/betterer-preproc"
      ],
      "metadata": {
        "id": "c3OgJ45kAsP5",
        "outputId": "d0a921a9-d2e0-492c-b110-4b2fc133f10f",
        "colab": {
          "base_uri": "https://localhost:8080/",
          "height": 126
        }
      },
      "id": "c3OgJ45kAsP5",
      "execution_count": 1,
      "outputs": [
        {
          "output_type": "display_data",
          "data": {
            "text/plain": [
              "<IPython.core.display.HTML object>"
            ],
            "text/html": [
              "\n",
              "     <input type=\"file\" id=\"files-8f677306-5299-4d13-9bfd-0cb1ac305686\" name=\"files[]\" multiple disabled\n",
              "        style=\"border:none\" />\n",
              "     <output id=\"result-8f677306-5299-4d13-9bfd-0cb1ac305686\">\n",
              "      Upload widget is only available when the cell has been executed in the\n",
              "      current browser session. Please rerun this cell to enable.\n",
              "      </output>\n",
              "      <script>// Copyright 2017 Google LLC\n",
              "//\n",
              "// Licensed under the Apache License, Version 2.0 (the \"License\");\n",
              "// you may not use this file except in compliance with the License.\n",
              "// You may obtain a copy of the License at\n",
              "//\n",
              "//      http://www.apache.org/licenses/LICENSE-2.0\n",
              "//\n",
              "// Unless required by applicable law or agreed to in writing, software\n",
              "// distributed under the License is distributed on an \"AS IS\" BASIS,\n",
              "// WITHOUT WARRANTIES OR CONDITIONS OF ANY KIND, either express or implied.\n",
              "// See the License for the specific language governing permissions and\n",
              "// limitations under the License.\n",
              "\n",
              "/**\n",
              " * @fileoverview Helpers for google.colab Python module.\n",
              " */\n",
              "(function(scope) {\n",
              "function span(text, styleAttributes = {}) {\n",
              "  const element = document.createElement('span');\n",
              "  element.textContent = text;\n",
              "  for (const key of Object.keys(styleAttributes)) {\n",
              "    element.style[key] = styleAttributes[key];\n",
              "  }\n",
              "  return element;\n",
              "}\n",
              "\n",
              "// Max number of bytes which will be uploaded at a time.\n",
              "const MAX_PAYLOAD_SIZE = 100 * 1024;\n",
              "\n",
              "function _uploadFiles(inputId, outputId) {\n",
              "  const steps = uploadFilesStep(inputId, outputId);\n",
              "  const outputElement = document.getElementById(outputId);\n",
              "  // Cache steps on the outputElement to make it available for the next call\n",
              "  // to uploadFilesContinue from Python.\n",
              "  outputElement.steps = steps;\n",
              "\n",
              "  return _uploadFilesContinue(outputId);\n",
              "}\n",
              "\n",
              "// This is roughly an async generator (not supported in the browser yet),\n",
              "// where there are multiple asynchronous steps and the Python side is going\n",
              "// to poll for completion of each step.\n",
              "// This uses a Promise to block the python side on completion of each step,\n",
              "// then passes the result of the previous step as the input to the next step.\n",
              "function _uploadFilesContinue(outputId) {\n",
              "  const outputElement = document.getElementById(outputId);\n",
              "  const steps = outputElement.steps;\n",
              "\n",
              "  const next = steps.next(outputElement.lastPromiseValue);\n",
              "  return Promise.resolve(next.value.promise).then((value) => {\n",
              "    // Cache the last promise value to make it available to the next\n",
              "    // step of the generator.\n",
              "    outputElement.lastPromiseValue = value;\n",
              "    return next.value.response;\n",
              "  });\n",
              "}\n",
              "\n",
              "/**\n",
              " * Generator function which is called between each async step of the upload\n",
              " * process.\n",
              " * @param {string} inputId Element ID of the input file picker element.\n",
              " * @param {string} outputId Element ID of the output display.\n",
              " * @return {!Iterable<!Object>} Iterable of next steps.\n",
              " */\n",
              "function* uploadFilesStep(inputId, outputId) {\n",
              "  const inputElement = document.getElementById(inputId);\n",
              "  inputElement.disabled = false;\n",
              "\n",
              "  const outputElement = document.getElementById(outputId);\n",
              "  outputElement.innerHTML = '';\n",
              "\n",
              "  const pickedPromise = new Promise((resolve) => {\n",
              "    inputElement.addEventListener('change', (e) => {\n",
              "      resolve(e.target.files);\n",
              "    });\n",
              "  });\n",
              "\n",
              "  const cancel = document.createElement('button');\n",
              "  inputElement.parentElement.appendChild(cancel);\n",
              "  cancel.textContent = 'Cancel upload';\n",
              "  const cancelPromise = new Promise((resolve) => {\n",
              "    cancel.onclick = () => {\n",
              "      resolve(null);\n",
              "    };\n",
              "  });\n",
              "\n",
              "  // Wait for the user to pick the files.\n",
              "  const files = yield {\n",
              "    promise: Promise.race([pickedPromise, cancelPromise]),\n",
              "    response: {\n",
              "      action: 'starting',\n",
              "    }\n",
              "  };\n",
              "\n",
              "  cancel.remove();\n",
              "\n",
              "  // Disable the input element since further picks are not allowed.\n",
              "  inputElement.disabled = true;\n",
              "\n",
              "  if (!files) {\n",
              "    return {\n",
              "      response: {\n",
              "        action: 'complete',\n",
              "      }\n",
              "    };\n",
              "  }\n",
              "\n",
              "  for (const file of files) {\n",
              "    const li = document.createElement('li');\n",
              "    li.append(span(file.name, {fontWeight: 'bold'}));\n",
              "    li.append(span(\n",
              "        `(${file.type || 'n/a'}) - ${file.size} bytes, ` +\n",
              "        `last modified: ${\n",
              "            file.lastModifiedDate ? file.lastModifiedDate.toLocaleDateString() :\n",
              "                                    'n/a'} - `));\n",
              "    const percent = span('0% done');\n",
              "    li.appendChild(percent);\n",
              "\n",
              "    outputElement.appendChild(li);\n",
              "\n",
              "    const fileDataPromise = new Promise((resolve) => {\n",
              "      const reader = new FileReader();\n",
              "      reader.onload = (e) => {\n",
              "        resolve(e.target.result);\n",
              "      };\n",
              "      reader.readAsArrayBuffer(file);\n",
              "    });\n",
              "    // Wait for the data to be ready.\n",
              "    let fileData = yield {\n",
              "      promise: fileDataPromise,\n",
              "      response: {\n",
              "        action: 'continue',\n",
              "      }\n",
              "    };\n",
              "\n",
              "    // Use a chunked sending to avoid message size limits. See b/62115660.\n",
              "    let position = 0;\n",
              "    do {\n",
              "      const length = Math.min(fileData.byteLength - position, MAX_PAYLOAD_SIZE);\n",
              "      const chunk = new Uint8Array(fileData, position, length);\n",
              "      position += length;\n",
              "\n",
              "      const base64 = btoa(String.fromCharCode.apply(null, chunk));\n",
              "      yield {\n",
              "        response: {\n",
              "          action: 'append',\n",
              "          file: file.name,\n",
              "          data: base64,\n",
              "        },\n",
              "      };\n",
              "\n",
              "      let percentDone = fileData.byteLength === 0 ?\n",
              "          100 :\n",
              "          Math.round((position / fileData.byteLength) * 100);\n",
              "      percent.textContent = `${percentDone}% done`;\n",
              "\n",
              "    } while (position < fileData.byteLength);\n",
              "  }\n",
              "\n",
              "  // All done.\n",
              "  yield {\n",
              "    response: {\n",
              "      action: 'complete',\n",
              "    }\n",
              "  };\n",
              "}\n",
              "\n",
              "scope.google = scope.google || {};\n",
              "scope.google.colab = scope.google.colab || {};\n",
              "scope.google.colab._files = {\n",
              "  _uploadFiles,\n",
              "  _uploadFilesContinue,\n",
              "};\n",
              "})(self);\n",
              "</script> "
            ]
          },
          "metadata": {}
        },
        {
          "output_type": "stream",
          "name": "stdout",
          "text": [
            "Saving kaggle.json to kaggle.json\n",
            "Downloading betterer-preproc.zip to /content\n",
            " 98% 201M/206M [00:01<00:00, 132MB/s]\n",
            "100% 206M/206M [00:01<00:00, 140MB/s]\n"
          ]
        }
      ]
    },
    {
      "cell_type": "code",
      "source": [
        "!unzip /content/betterer-preproc.zip"
      ],
      "metadata": {
        "id": "b5JdvvdFBNgq"
      },
      "id": "b5JdvvdFBNgq",
      "execution_count": null,
      "outputs": []
    },
    {
      "cell_type": "code",
      "source": [
        "!kaggle datasets download -d tourist55/alzheimers-dataset-4-class-of-images"
      ],
      "metadata": {
        "id": "AHRAoMKxDcX_",
        "outputId": "60cc2185-b019-4c3c-b322-a79f72954210",
        "colab": {
          "base_uri": "https://localhost:8080/"
        }
      },
      "id": "AHRAoMKxDcX_",
      "execution_count": 2,
      "outputs": [
        {
          "output_type": "stream",
          "name": "stdout",
          "text": [
            "Downloading alzheimers-dataset-4-class-of-images.zip to /content\n",
            " 94% 32.0M/34.1M [00:00<00:00, 57.8MB/s]\n",
            "100% 34.1M/34.1M [00:00<00:00, 57.3MB/s]\n"
          ]
        }
      ]
    },
    {
      "cell_type": "code",
      "source": [
        "!unzip /content/alzheimers-dataset-4-class-of-images.zip"
      ],
      "metadata": {
        "id": "ekFksVJEDeKl"
      },
      "id": "ekFksVJEDeKl",
      "execution_count": null,
      "outputs": []
    },
    {
      "cell_type": "markdown",
      "id": "7cac8631",
      "metadata": {
        "papermill": {
          "duration": 0.007217,
          "end_time": "2024-04-14T16:20:49.614017",
          "exception": false,
          "start_time": "2024-04-14T16:20:49.6068",
          "status": "completed"
        },
        "tags": [],
        "id": "7cac8631"
      },
      "source": [
        "# PRE PROCESS\n",
        ".JPG TO .NPY"
      ]
    },
    {
      "cell_type": "code",
      "source": [
        "import os\n",
        "import cv2\n",
        "import numpy as np\n",
        "\n",
        "def jpg_to_npy_in_folders(input_folder, output_folder):\n",
        "    os.makedirs(output_folder, exist_ok=True)\n",
        "    for i, item in enumerate(os.listdir(input_folder)):\n",
        "        item_path = os.path.join(input_folder, item)\n",
        "        if os.path.isdir(item_path):\n",
        "            jpg_to_npy_in_folders(item_path, output_folder)\n",
        "        elif os.path.isfile(item_path) and item.endswith(\".jpg\"):\n",
        "            img = cv2.imread(item_path)\n",
        "            img_array = np.array(img)\n",
        "            output_file_path = os.path.join(output_folder, os.path.splitext(item)[0] + '.npy')\n",
        "            np.save(output_file_path, img_array)\n",
        "\n",
        "input_folder_path = \"/content/Alzheimer_s Dataset/train\"\n",
        "output_folder_path = \"/kaggle/working/train\"\n",
        "\n",
        "jpg_to_npy_in_folders(input_folder_path, output_folder_path)\n",
        "\n"
      ],
      "metadata": {
        "id": "Qk1z9nYFFLpb"
      },
      "id": "Qk1z9nYFFLpb",
      "execution_count": 4,
      "outputs": []
    },
    {
      "cell_type": "code",
      "execution_count": 5,
      "id": "098412aa",
      "metadata": {
        "_cell_guid": "b1076dfc-b9ad-4769-8c92-a6c4dae69d19",
        "_uuid": "8f2839f25d086af736a60e9eeb907d3b93b6e0e5",
        "execution": {
          "iopub.execute_input": "2024-04-14T16:20:49.629016Z",
          "iopub.status.busy": "2024-04-14T16:20:49.628342Z",
          "iopub.status.idle": "2024-04-14T16:20:49.634328Z",
          "shell.execute_reply": "2024-04-14T16:20:49.633512Z"
        },
        "papermill": {
          "duration": 0.016127,
          "end_time": "2024-04-14T16:20:49.636538",
          "exception": false,
          "start_time": "2024-04-14T16:20:49.620411",
          "status": "completed"
        },
        "tags": [],
        "id": "098412aa"
      },
      "outputs": [],
      "source": [
        "import os\n",
        "import cv2\n",
        "import numpy as np\n",
        "\n",
        "def jpg_to_npy_in_folders(input_folder, output_folder):\n",
        "    os.makedirs(output_folder, exist_ok=True)\n",
        "    for i, item in enumerate(os.listdir(input_folder)):\n",
        "        item_path = os.path.join(input_folder, item)\n",
        "        if os.path.isdir(item_path):\n",
        "            jpg_to_npy_in_folders(item_path, output_folder)\n",
        "        elif os.path.isfile(item_path) and item.endswith(\".jpg\"):\n",
        "            img = cv2.imread(item_path)\n",
        "            img_array = np.array(img)\n",
        "            output_file_path = os.path.join(output_folder, f\"{input_folder}{i}.npy\")\n",
        "            np.save(output_file_path, img_array)\n",
        "\n",
        "# input_folder_path = \"/kaggle/input/alzheimers-dataset-4-class-of-images/Alzheimer_s Dataset/train\"\n",
        "# output_folder_path = \"/kaggle/working/train\"\n",
        "\n",
        "# jpg_to_npy_in_folders(input_folder_path, output_folder_path)\n",
        "jpg_to_npy_in_folders(\"/content/Alzheimer_s Dataset/test\", \"/kaggle/working/test\")\n",
        "\n"
      ]
    },
    {
      "cell_type": "code",
      "execution_count": 6,
      "id": "10a3d79a",
      "metadata": {
        "execution": {
          "iopub.execute_input": "2024-04-14T16:20:49.65172Z",
          "iopub.status.busy": "2024-04-14T16:20:49.651113Z",
          "iopub.status.idle": "2024-04-14T16:20:49.655819Z",
          "shell.execute_reply": "2024-04-14T16:20:49.654972Z"
        },
        "papermill": {
          "duration": 0.015258,
          "end_time": "2024-04-14T16:20:49.658145",
          "exception": false,
          "start_time": "2024-04-14T16:20:49.642887",
          "status": "completed"
        },
        "tags": [],
        "id": "10a3d79a",
        "outputId": "ad68271b-2d06-400e-9645-186b8a5cd0d1",
        "colab": {
          "base_uri": "https://localhost:8080/"
        }
      },
      "outputs": [
        {
          "output_type": "execute_result",
          "data": {
            "text/plain": [
              "5121"
            ]
          },
          "metadata": {},
          "execution_count": 6
        }
      ],
      "source": [
        "import os\n",
        "import numpy as np\n",
        "directory = '/kaggle/working/train'\n",
        "\n",
        "files = [file for file in os.listdir(directory) if file.endswith('.npy')]\n",
        "len(files)\n"
      ]
    },
    {
      "cell_type": "code",
      "execution_count": 7,
      "id": "8426e2b0",
      "metadata": {
        "execution": {
          "iopub.execute_input": "2024-04-14T16:20:49.67459Z",
          "iopub.status.busy": "2024-04-14T16:20:49.67395Z",
          "iopub.status.idle": "2024-04-14T16:20:49.678643Z",
          "shell.execute_reply": "2024-04-14T16:20:49.677698Z"
        },
        "papermill": {
          "duration": 0.014867,
          "end_time": "2024-04-14T16:20:49.680924",
          "exception": false,
          "start_time": "2024-04-14T16:20:49.666057",
          "status": "completed"
        },
        "tags": [],
        "id": "8426e2b0",
        "outputId": "798756e7-a303-4aba-9287-84ab36a0781a",
        "colab": {
          "base_uri": "https://localhost:8080/"
        }
      },
      "outputs": [
        {
          "output_type": "stream",
          "name": "stdout",
          "text": [
            "717 52 2560 1792\n"
          ]
        }
      ],
      "source": [
        "mildDem = [i for i in files if i.startswith(\"mildDem\")]\n",
        "moderateDem = [i for i in files if \"moderateDem\" in i]\n",
        "nonDem = [i for i in files if \"nonDem\" in i]\n",
        "veryMild = [i for i in files if \"verymildDem\" in i]\n",
        "print(len(mildDem), len(moderateDem), len(nonDem), len(veryMild))"
      ]
    },
    {
      "cell_type": "code",
      "execution_count": 8,
      "id": "e5cb58b8",
      "metadata": {
        "execution": {
          "iopub.execute_input": "2024-04-14T16:20:49.695726Z",
          "iopub.status.busy": "2024-04-14T16:20:49.695107Z",
          "iopub.status.idle": "2024-04-14T16:20:49.700006Z",
          "shell.execute_reply": "2024-04-14T16:20:49.69919Z"
        },
        "papermill": {
          "duration": 0.014924,
          "end_time": "2024-04-14T16:20:49.702263",
          "exception": false,
          "start_time": "2024-04-14T16:20:49.687339",
          "status": "completed"
        },
        "tags": [],
        "id": "e5cb58b8"
      },
      "outputs": [],
      "source": [
        "import imgaug.augmenters as iaa\n",
        "\n",
        "# Define the augmenter\n",
        "augmenter = iaa.Sequential([\n",
        "    iaa.Multiply((0.8, 1.2)),\n",
        "    iaa.LinearContrast((0.8, 1.2)),\n",
        "])\n",
        "\n",
        "augmented_images = []\n",
        "\n",
        "for path in moderateDem:\n",
        "    path = os.path.join(\"/kaggle/working/train\", path)\n",
        "    image = np.load(path)\n",
        "\n",
        "    for _ in range(20):\n",
        "        augmented_image = augmenter.augment_image(image)\n",
        "        augmented_images.append(augmented_image)\n",
        "augmented_images = np.array(augmented_images)"
      ]
    },
    {
      "cell_type": "code",
      "execution_count": 9,
      "id": "416711f7",
      "metadata": {
        "execution": {
          "iopub.execute_input": "2024-04-14T16:20:49.716713Z",
          "iopub.status.busy": "2024-04-14T16:20:49.716333Z",
          "iopub.status.idle": "2024-04-14T16:20:49.720675Z",
          "shell.execute_reply": "2024-04-14T16:20:49.719592Z"
        },
        "papermill": {
          "duration": 0.014268,
          "end_time": "2024-04-14T16:20:49.72296",
          "exception": false,
          "start_time": "2024-04-14T16:20:49.708692",
          "status": "completed"
        },
        "tags": [],
        "id": "416711f7",
        "outputId": "ff4b2c1d-a18b-470b-8b6a-54bc1a96e701",
        "colab": {
          "base_uri": "https://localhost:8080/"
        }
      },
      "outputs": [
        {
          "output_type": "execute_result",
          "data": {
            "text/plain": [
              "1040"
            ]
          },
          "metadata": {},
          "execution_count": 9
        }
      ],
      "source": [
        "len(augmented_images)"
      ]
    },
    {
      "cell_type": "code",
      "execution_count": 10,
      "id": "08a3b5e6",
      "metadata": {
        "execution": {
          "iopub.execute_input": "2024-04-14T16:20:49.737416Z",
          "iopub.status.busy": "2024-04-14T16:20:49.737037Z",
          "iopub.status.idle": "2024-04-14T16:20:49.74207Z",
          "shell.execute_reply": "2024-04-14T16:20:49.740826Z"
        },
        "papermill": {
          "duration": 0.015078,
          "end_time": "2024-04-14T16:20:49.744409",
          "exception": false,
          "start_time": "2024-04-14T16:20:49.729331",
          "status": "completed"
        },
        "tags": [],
        "id": "08a3b5e6",
        "outputId": "76280e45-ee8e-474d-88d0-8bf1cae1059e",
        "colab": {
          "base_uri": "https://localhost:8080/"
        }
      },
      "outputs": [
        {
          "output_type": "stream",
          "name": "stdout",
          "text": [
            "Augmented images saved successfully.\n"
          ]
        }
      ],
      "source": [
        "import cv2\n",
        "import os\n",
        "\n",
        "\n",
        "output_directory = \"/kaggle/working/train\"\n",
        "\n",
        "os.makedirs(output_directory, exist_ok=True)\n",
        "\n",
        "for i, image in enumerate(augmented_images):\n",
        "    output_path = os.path.join(output_directory, f\"moderateDem{i+53}.npy\")\n",
        "    np.save(output_path, image)\n",
        "\n",
        "\n",
        "print(\"Augmented images saved successfully.\")\n"
      ]
    },
    {
      "cell_type": "code",
      "execution_count": 11,
      "id": "7cb3aede",
      "metadata": {
        "execution": {
          "iopub.execute_input": "2024-04-14T16:20:49.759359Z",
          "iopub.status.busy": "2024-04-14T16:20:49.758993Z",
          "iopub.status.idle": "2024-04-14T16:20:50.102257Z",
          "shell.execute_reply": "2024-04-14T16:20:50.101064Z"
        },
        "papermill": {
          "duration": 0.353741,
          "end_time": "2024-04-14T16:20:50.104738",
          "exception": false,
          "start_time": "2024-04-14T16:20:49.750997",
          "status": "completed"
        },
        "tags": [],
        "id": "7cb3aede",
        "outputId": "71bd9edc-c8df-47a8-83f1-51eb4343abcc",
        "colab": {
          "base_uri": "https://localhost:8080/"
        }
      },
      "outputs": [
        {
          "output_type": "execute_result",
          "data": {
            "text/plain": [
              "6161"
            ]
          },
          "metadata": {},
          "execution_count": 11
        }
      ],
      "source": [
        "import os\n",
        "import numpy as np\n",
        "directory = '/kaggle/working/train'\n",
        "\n",
        "files = [file for file in os.listdir(directory) if file.endswith('.npy')]\n",
        "len(files)"
      ]
    },
    {
      "cell_type": "code",
      "execution_count": 12,
      "id": "5a3922a7",
      "metadata": {
        "execution": {
          "iopub.execute_input": "2024-04-14T16:20:50.120669Z",
          "iopub.status.busy": "2024-04-14T16:20:50.119628Z",
          "iopub.status.idle": "2024-04-14T16:20:50.130387Z",
          "shell.execute_reply": "2024-04-14T16:20:50.129179Z"
        },
        "papermill": {
          "duration": 0.021561,
          "end_time": "2024-04-14T16:20:50.133115",
          "exception": false,
          "start_time": "2024-04-14T16:20:50.111554",
          "status": "completed"
        },
        "tags": [],
        "id": "5a3922a7",
        "outputId": "aa9aee92-789f-422c-dd50-7b61031c4376",
        "colab": {
          "base_uri": "https://localhost:8080/"
        }
      },
      "outputs": [
        {
          "output_type": "stream",
          "name": "stdout",
          "text": [
            "717 1092 2560 1792\n"
          ]
        }
      ],
      "source": [
        "mildDem = [i for i in files if i.startswith(\"mildDem\")]\n",
        "moderateDem = [i for i in files if \"moderateDem\" in i]\n",
        "nonDem = [i for i in files if \"nonDem\" in i]\n",
        "veryMild = [i for i in files if \"verymildDem\" in i]\n",
        "print(len(mildDem), len(moderateDem), len(nonDem), len(veryMild))"
      ]
    },
    {
      "cell_type": "code",
      "execution_count": 13,
      "id": "6da1451b",
      "metadata": {
        "execution": {
          "iopub.execute_input": "2024-04-14T16:20:50.148553Z",
          "iopub.status.busy": "2024-04-14T16:20:50.148202Z",
          "iopub.status.idle": "2024-04-14T16:20:51.165537Z",
          "shell.execute_reply": "2024-04-14T16:20:51.164204Z"
        },
        "papermill": {
          "duration": 1.028328,
          "end_time": "2024-04-14T16:20:51.168289",
          "exception": false,
          "start_time": "2024-04-14T16:20:50.139961",
          "status": "completed"
        },
        "tags": [],
        "id": "6da1451b",
        "outputId": "9ade0db0-b754-4cd1-8383-93e0ead73d94",
        "colab": {
          "base_uri": "https://localhost:8080/"
        }
      },
      "outputs": [
        {
          "output_type": "execute_result",
          "data": {
            "text/plain": [
              "Class\n",
              "2    2560\n",
              "3    1792\n",
              "1    1092\n",
              "0     717\n",
              "Name: count, dtype: int64"
            ]
          },
          "metadata": {},
          "execution_count": 13
        }
      ],
      "source": [
        "import pandas as pd\n",
        "l = [[mildDem, 0], [moderateDem, 1], [nonDem, 2], [veryMild, 3]]\n",
        "x = []\n",
        "for i in l:\n",
        "    for j in i[0]:\n",
        "        path = os.path.join(\"/kaggle/working/train\", j)\n",
        "        x.append([i[1], path])\n",
        "\n",
        "df = pd.DataFrame(x, columns=[\"Class\", \"Path\"])\n",
        "x = df[\"Class\"].value_counts()\n",
        "x"
      ]
    },
    {
      "cell_type": "code",
      "execution_count": 14,
      "id": "70413197",
      "metadata": {
        "execution": {
          "iopub.execute_input": "2024-04-14T16:20:51.184307Z",
          "iopub.status.busy": "2024-04-14T16:20:51.183792Z",
          "iopub.status.idle": "2024-04-14T16:21:46.241149Z",
          "shell.execute_reply": "2024-04-14T16:21:46.239821Z"
        },
        "papermill": {
          "duration": 55.068765,
          "end_time": "2024-04-14T16:21:46.244167",
          "exception": false,
          "start_time": "2024-04-14T16:20:51.175402",
          "status": "completed"
        },
        "tags": [],
        "id": "70413197"
      },
      "outputs": [],
      "source": [
        "images = []\n",
        "for i in df[\"Path\"]:\n",
        "    images.append(np.load(i))\n",
        "images = np.array(images)"
      ]
    },
    {
      "cell_type": "code",
      "execution_count": 15,
      "id": "b71f6071",
      "metadata": {
        "execution": {
          "iopub.execute_input": "2024-04-14T16:21:46.261075Z",
          "iopub.status.busy": "2024-04-14T16:21:46.26062Z",
          "iopub.status.idle": "2024-04-14T16:21:48.297763Z",
          "shell.execute_reply": "2024-04-14T16:21:48.296481Z"
        },
        "papermill": {
          "duration": 2.048503,
          "end_time": "2024-04-14T16:21:48.300808",
          "exception": false,
          "start_time": "2024-04-14T16:21:46.252305",
          "status": "completed"
        },
        "tags": [],
        "id": "b71f6071"
      },
      "outputs": [],
      "source": [
        "from sklearn.model_selection import train_test_split\n",
        "labels = np.array(df[\"Class\"])\n",
        "train_images, test_images, train_labels, test_labels = train_test_split(images, labels, test_size=0.2, random_state=42)\n"
      ]
    },
    {
      "cell_type": "code",
      "execution_count": 16,
      "id": "eec25512",
      "metadata": {
        "execution": {
          "iopub.execute_input": "2024-04-14T16:21:48.318855Z",
          "iopub.status.busy": "2024-04-14T16:21:48.318439Z",
          "iopub.status.idle": "2024-04-14T16:21:48.330268Z",
          "shell.execute_reply": "2024-04-14T16:21:48.328899Z"
        },
        "papermill": {
          "duration": 0.024009,
          "end_time": "2024-04-14T16:21:48.332932",
          "exception": false,
          "start_time": "2024-04-14T16:21:48.308923",
          "status": "completed"
        },
        "tags": [],
        "id": "eec25512",
        "outputId": "83b8eb47-c6e6-4f37-cad9-034e47245850",
        "colab": {
          "base_uri": "https://localhost:8080/"
        }
      },
      "outputs": [
        {
          "output_type": "stream",
          "name": "stdout",
          "text": [
            "[1 3 0 ... 3 3 1]\n",
            "[1 0 2 ... 3 3 2]\n"
          ]
        }
      ],
      "source": [
        "from sklearn.preprocessing import LabelEncoder\n",
        "label_encoder = LabelEncoder()\n",
        "train_labels_encoded = label_encoder.fit_transform(train_labels)\n",
        "test_labels_encoded = label_encoder.transform(test_labels)\n",
        "\n",
        "# Verify the encoded labels\n",
        "print(train_labels_encoded)\n",
        "print(test_labels_encoded)"
      ]
    },
    {
      "cell_type": "code",
      "execution_count": 17,
      "id": "44d84028",
      "metadata": {
        "execution": {
          "iopub.execute_input": "2024-04-14T16:21:48.350234Z",
          "iopub.status.busy": "2024-04-14T16:21:48.349832Z",
          "iopub.status.idle": "2024-04-14T16:21:48.355824Z",
          "shell.execute_reply": "2024-04-14T16:21:48.354656Z"
        },
        "papermill": {
          "duration": 0.018315,
          "end_time": "2024-04-14T16:21:48.358485",
          "exception": false,
          "start_time": "2024-04-14T16:21:48.34017",
          "status": "completed"
        },
        "tags": [],
        "id": "44d84028",
        "outputId": "38133242-70a9-4149-d640-aa8fddfaba4b",
        "colab": {
          "base_uri": "https://localhost:8080/"
        }
      },
      "outputs": [
        {
          "output_type": "stream",
          "name": "stdout",
          "text": [
            "(4928, 208, 176, 3) (1233, 208, 176, 3) (4928,) (1233,)\n"
          ]
        }
      ],
      "source": [
        "print(train_images.shape, test_images.shape, train_labels_encoded.shape, test_labels_encoded.shape)"
      ]
    },
    {
      "cell_type": "code",
      "execution_count": 18,
      "id": "4505c50f",
      "metadata": {
        "execution": {
          "iopub.execute_input": "2024-04-14T16:21:48.375027Z",
          "iopub.status.busy": "2024-04-14T16:21:48.374609Z",
          "iopub.status.idle": "2024-04-14T16:21:48.382271Z",
          "shell.execute_reply": "2024-04-14T16:21:48.380985Z"
        },
        "papermill": {
          "duration": 0.019563,
          "end_time": "2024-04-14T16:21:48.385184",
          "exception": false,
          "start_time": "2024-04-14T16:21:48.365621",
          "status": "completed"
        },
        "tags": [],
        "id": "4505c50f",
        "outputId": "1ecdccf7-3d05-4d3f-fd14-2dade9ca9806",
        "colab": {
          "base_uri": "https://localhost:8080/"
        }
      },
      "outputs": [
        {
          "output_type": "stream",
          "name": "stdout",
          "text": [
            "[1 0 2 ... 3 3 2]\n"
          ]
        },
        {
          "output_type": "execute_result",
          "data": {
            "text/plain": [
              "array([1, 0, 2, ..., 3, 3, 2])"
            ]
          },
          "metadata": {},
          "execution_count": 18
        }
      ],
      "source": [
        "print(test_labels)\n",
        "test_labels_encoded"
      ]
    },
    {
      "cell_type": "code",
      "source": [
        "print(x.index, x.values, x.array)"
      ],
      "metadata": {
        "id": "zCrx36ILpQUC",
        "outputId": "0f5530de-d1e2-4e3d-e444-ea370e961ce9",
        "colab": {
          "base_uri": "https://localhost:8080/"
        }
      },
      "id": "zCrx36ILpQUC",
      "execution_count": 19,
      "outputs": [
        {
          "output_type": "stream",
          "name": "stdout",
          "text": [
            "Index([2, 3, 1, 0], dtype='int64', name='Class') [2560 1792 1092  717] <PandasArray>\n",
            "[2560, 1792, 1092, 717]\n",
            "Length: 4, dtype: int64\n"
          ]
        }
      ]
    },
    {
      "cell_type": "code",
      "source": [
        "s = x / len(files)\n",
        "class_weights = {i:j for i, j in zip(s.index, s.values)}\n",
        "\n",
        "class_weights\n",
        "# Optional normalization (weights sum to 1)\n",
        "# total_weight = sum(class_weights.values())\n",
        "# class_weights = {class_label: weight / total_weight for class_label, weight in class_weights.items()}\n"
      ],
      "metadata": {
        "id": "R_7PFG8knr-v",
        "outputId": "77811b42-ca8f-4cf7-fac8-98d82920b48f",
        "colab": {
          "base_uri": "https://localhost:8080/"
        }
      },
      "id": "R_7PFG8knr-v",
      "execution_count": 20,
      "outputs": [
        {
          "output_type": "execute_result",
          "data": {
            "text/plain": [
              "{2: 0.4155169615322188,\n",
              " 3: 0.2908618730725532,\n",
              " 1: 0.17724395390358708,\n",
              " 0: 0.11637721149164097}"
            ]
          },
          "metadata": {},
          "execution_count": 20
        }
      ]
    },
    {
      "cell_type": "code",
      "execution_count": 28,
      "id": "58759ed5",
      "metadata": {
        "execution": {
          "iopub.execute_input": "2024-04-14T16:21:48.402167Z",
          "iopub.status.busy": "2024-04-14T16:21:48.401759Z",
          "iopub.status.idle": "2024-04-14T17:05:01.48518Z",
          "shell.execute_reply": "2024-04-14T17:05:01.483863Z"
        },
        "papermill": {
          "duration": 2593.224621,
          "end_time": "2024-04-14T17:05:01.617242",
          "exception": false,
          "start_time": "2024-04-14T16:21:48.392621",
          "status": "completed"
        },
        "tags": [],
        "id": "58759ed5",
        "outputId": "95dd7633-2c37-4191-f607-aabf16895f26",
        "colab": {
          "base_uri": "https://localhost:8080/"
        }
      },
      "outputs": [
        {
          "output_type": "stream",
          "name": "stdout",
          "text": [
            "Epoch 1/50\n",
            "154/154 [==============================] - 11s 44ms/step - loss: 15.3462 - accuracy: 0.5310 - val_loss: 0.7022 - val_accuracy: 0.6707\n",
            "Epoch 2/50\n",
            "154/154 [==============================] - 7s 43ms/step - loss: 0.6654 - accuracy: 0.6660 - val_loss: 0.6738 - val_accuracy: 0.6796\n",
            "Epoch 3/50\n",
            "154/154 [==============================] - 6s 40ms/step - loss: 0.5353 - accuracy: 0.7350 - val_loss: 0.6429 - val_accuracy: 0.7161\n",
            "Epoch 4/50\n",
            "154/154 [==============================] - 7s 42ms/step - loss: 0.4433 - accuracy: 0.7764 - val_loss: 0.4965 - val_accuracy: 0.7875\n",
            "Epoch 5/50\n",
            "154/154 [==============================] - 7s 44ms/step - loss: 0.3419 - accuracy: 0.8330 - val_loss: 0.4304 - val_accuracy: 0.8159\n",
            "Epoch 6/50\n",
            "154/154 [==============================] - 6s 41ms/step - loss: 0.2633 - accuracy: 0.8748 - val_loss: 0.3002 - val_accuracy: 0.8848\n",
            "Epoch 7/50\n",
            "154/154 [==============================] - 6s 40ms/step - loss: 0.1941 - accuracy: 0.9083 - val_loss: 0.3152 - val_accuracy: 0.8678\n",
            "Epoch 8/50\n",
            "154/154 [==============================] - 6s 41ms/step - loss: 0.1719 - accuracy: 0.9160 - val_loss: 0.2141 - val_accuracy: 0.9221\n",
            "Epoch 9/50\n",
            "154/154 [==============================] - 6s 42ms/step - loss: 0.2498 - accuracy: 0.8827 - val_loss: 0.3377 - val_accuracy: 0.8613\n",
            "Epoch 10/50\n",
            "154/154 [==============================] - 7s 43ms/step - loss: 0.1802 - accuracy: 0.9160 - val_loss: 0.2717 - val_accuracy: 0.9002\n",
            "Epoch 11/50\n",
            "154/154 [==============================] - 7s 42ms/step - loss: 0.1162 - accuracy: 0.9456 - val_loss: 0.2079 - val_accuracy: 0.9230\n",
            "Epoch 12/50\n",
            "154/154 [==============================] - 6s 40ms/step - loss: 0.1052 - accuracy: 0.9517 - val_loss: 0.1550 - val_accuracy: 0.9408\n",
            "Epoch 13/50\n",
            "154/154 [==============================] - 6s 41ms/step - loss: 0.0861 - accuracy: 0.9602 - val_loss: 0.1391 - val_accuracy: 0.9465\n",
            "Epoch 14/50\n",
            "154/154 [==============================] - 7s 42ms/step - loss: 0.0834 - accuracy: 0.9653 - val_loss: 0.2217 - val_accuracy: 0.9270\n",
            "Epoch 15/50\n",
            "154/154 [==============================] - 7s 43ms/step - loss: 0.0941 - accuracy: 0.9606 - val_loss: 0.1367 - val_accuracy: 0.9530\n",
            "Epoch 16/50\n",
            "154/154 [==============================] - 6s 40ms/step - loss: 0.0981 - accuracy: 0.9600 - val_loss: 0.1613 - val_accuracy: 0.9359\n",
            "Epoch 17/50\n",
            "154/154 [==============================] - 7s 43ms/step - loss: 0.1010 - accuracy: 0.9562 - val_loss: 0.1159 - val_accuracy: 0.9619\n",
            "Epoch 18/50\n",
            "154/154 [==============================] - 6s 42ms/step - loss: 0.0547 - accuracy: 0.9791 - val_loss: 0.1516 - val_accuracy: 0.9546\n",
            "Epoch 19/50\n",
            "154/154 [==============================] - 7s 47ms/step - loss: 0.0750 - accuracy: 0.9690 - val_loss: 0.1736 - val_accuracy: 0.9359\n",
            "Epoch 20/50\n",
            "154/154 [==============================] - 7s 47ms/step - loss: 0.0708 - accuracy: 0.9712 - val_loss: 0.1278 - val_accuracy: 0.9619\n",
            "Epoch 21/50\n",
            "154/154 [==============================] - 7s 47ms/step - loss: 0.0594 - accuracy: 0.9748 - val_loss: 0.1290 - val_accuracy: 0.9594\n",
            "Epoch 22/50\n",
            "154/154 [==============================] - 6s 41ms/step - loss: 0.0805 - accuracy: 0.9669 - val_loss: 0.1936 - val_accuracy: 0.9384\n",
            "Epoch 23/50\n",
            "154/154 [==============================] - 7s 43ms/step - loss: 0.0865 - accuracy: 0.9685 - val_loss: 0.1083 - val_accuracy: 0.9611\n",
            "Epoch 24/50\n",
            "154/154 [==============================] - 7s 42ms/step - loss: 0.0516 - accuracy: 0.9783 - val_loss: 0.1228 - val_accuracy: 0.9611\n",
            "Epoch 25/50\n",
            "154/154 [==============================] - 6s 40ms/step - loss: 0.1303 - accuracy: 0.9485 - val_loss: 0.2307 - val_accuracy: 0.9262\n",
            "Epoch 26/50\n",
            "154/154 [==============================] - 7s 43ms/step - loss: 0.0805 - accuracy: 0.9653 - val_loss: 0.1286 - val_accuracy: 0.9546\n",
            "Epoch 27/50\n",
            "154/154 [==============================] - 7s 43ms/step - loss: 0.0928 - accuracy: 0.9621 - val_loss: 0.1148 - val_accuracy: 0.9562\n",
            "Epoch 28/50\n",
            "154/154 [==============================] - 6s 41ms/step - loss: 0.0891 - accuracy: 0.9663 - val_loss: 0.1781 - val_accuracy: 0.9351\n",
            "Epoch 29/50\n",
            "154/154 [==============================] - 7s 42ms/step - loss: 0.0599 - accuracy: 0.9722 - val_loss: 0.1947 - val_accuracy: 0.9359\n",
            "Epoch 30/50\n",
            "154/154 [==============================] - 6s 41ms/step - loss: 0.0360 - accuracy: 0.9848 - val_loss: 0.1300 - val_accuracy: 0.9740\n",
            "Epoch 31/50\n",
            "154/154 [==============================] - 7s 42ms/step - loss: 0.0622 - accuracy: 0.9726 - val_loss: 0.0936 - val_accuracy: 0.9724\n",
            "Epoch 32/50\n",
            "154/154 [==============================] - 7s 43ms/step - loss: 0.0435 - accuracy: 0.9817 - val_loss: 0.0840 - val_accuracy: 0.9749\n",
            "Epoch 33/50\n",
            "154/154 [==============================] - 6s 40ms/step - loss: 0.0308 - accuracy: 0.9878 - val_loss: 0.0818 - val_accuracy: 0.9813\n",
            "Epoch 34/50\n",
            "154/154 [==============================] - 7s 43ms/step - loss: 0.0826 - accuracy: 0.9667 - val_loss: 0.1020 - val_accuracy: 0.9635\n",
            "Epoch 35/50\n",
            "154/154 [==============================] - 6s 40ms/step - loss: 0.0480 - accuracy: 0.9809 - val_loss: 0.0807 - val_accuracy: 0.9789\n",
            "Epoch 36/50\n",
            "154/154 [==============================] - 6s 41ms/step - loss: 0.0264 - accuracy: 0.9882 - val_loss: 0.1276 - val_accuracy: 0.9635\n",
            "Epoch 37/50\n",
            "154/154 [==============================] - 6s 40ms/step - loss: 0.0445 - accuracy: 0.9815 - val_loss: 0.1059 - val_accuracy: 0.9692\n",
            "Epoch 38/50\n",
            "154/154 [==============================] - 7s 45ms/step - loss: 0.0736 - accuracy: 0.9704 - val_loss: 0.1088 - val_accuracy: 0.9619\n",
            "Epoch 39/50\n",
            "154/154 [==============================] - 6s 42ms/step - loss: 0.0531 - accuracy: 0.9769 - val_loss: 0.1050 - val_accuracy: 0.9700\n",
            "Epoch 40/50\n",
            "154/154 [==============================] - 6s 40ms/step - loss: 0.0677 - accuracy: 0.9736 - val_loss: 0.0891 - val_accuracy: 0.9724\n",
            "Epoch 41/50\n",
            "154/154 [==============================] - 6s 40ms/step - loss: 0.3987 - accuracy: 0.9359 - val_loss: 0.7167 - val_accuracy: 0.7981\n",
            "Epoch 42/50\n",
            "154/154 [==============================] - 6s 42ms/step - loss: 0.2940 - accuracy: 0.8894 - val_loss: 0.1246 - val_accuracy: 0.9513\n",
            "Epoch 43/50\n",
            "154/154 [==============================] - 6s 42ms/step - loss: 0.0840 - accuracy: 0.9623 - val_loss: 0.0898 - val_accuracy: 0.9684\n",
            "Epoch 44/50\n",
            "154/154 [==============================] - 6s 42ms/step - loss: 0.0510 - accuracy: 0.9809 - val_loss: 0.0604 - val_accuracy: 0.9757\n",
            "Epoch 45/50\n",
            "154/154 [==============================] - 6s 42ms/step - loss: 0.0391 - accuracy: 0.9854 - val_loss: 0.0798 - val_accuracy: 0.9740\n",
            "Epoch 46/50\n",
            "154/154 [==============================] - 6s 40ms/step - loss: 0.0448 - accuracy: 0.9821 - val_loss: 0.0865 - val_accuracy: 0.9765\n",
            "Epoch 47/50\n",
            "154/154 [==============================] - 6s 41ms/step - loss: 0.0550 - accuracy: 0.9793 - val_loss: 0.0691 - val_accuracy: 0.9773\n",
            "Epoch 48/50\n",
            "154/154 [==============================] - 6s 40ms/step - loss: 0.0286 - accuracy: 0.9874 - val_loss: 0.0757 - val_accuracy: 0.9797\n",
            "Epoch 49/50\n",
            "154/154 [==============================] - 6s 40ms/step - loss: 0.0367 - accuracy: 0.9848 - val_loss: 0.0757 - val_accuracy: 0.9757\n",
            "Epoch 50/50\n",
            "154/154 [==============================] - 6s 42ms/step - loss: 0.0547 - accuracy: 0.9807 - val_loss: 0.0781 - val_accuracy: 0.9740\n"
          ]
        }
      ],
      "source": [
        "from keras.models import Sequential\n",
        "from keras.layers import Conv2D, MaxPooling2D, Flatten, Dense, Dropout\n",
        "from keras.preprocessing.image import ImageDataGenerator\n",
        "from keras.callbacks import EarlyStopping\n",
        "from keras.utils import to_categorical\n",
        "from sklearn.utils.class_weight import compute_sample_weight\n",
        "from sklearn.model_selection import train_test_split\n",
        "import numpy as np\n",
        "\n",
        "# Assuming you have loaded your MRI images into numpy arrays\n",
        "# X is your image data, y are your labels\n",
        "\n",
        "# Convert labels to one-hot encoding with 4 categories\n",
        "train_labels_encoded = to_categorical(train_labels, num_classes=4)\n",
        "test_labels_encoded = to_categorical(test_labels, num_classes=4)\n",
        "\n",
        "# Calculate sample weights to handle imbalance\n",
        "sample_weights = compute_sample_weight(class_weight='balanced', y=np.argmax(train_labels_encoded, axis=1))\n",
        "\n",
        "# Define the model\n",
        "model = Sequential()\n",
        "model.add(Conv2D(32, (3, 3), activation='relu', input_shape=(208, 176, 3)))\n",
        "model.add(MaxPooling2D((2, 2)))\n",
        "model.add(Conv2D(64, (3, 3), activation='relu'))\n",
        "model.add(MaxPooling2D((2, 2)))\n",
        "model.add(Conv2D(128, (3, 3), activation='relu'))\n",
        "model.add(MaxPooling2D((2, 2)))\n",
        "model.add(Flatten())\n",
        "model.add(Dense(512, activation='relu'))\n",
        "model.add(Dropout(0.5))\n",
        "model.add(Dense(4, activation='softmax'))  # 4 classes for Alzheimer's detection\n",
        "\n",
        "# Compile the model\n",
        "model.compile(optimizer='adam', loss='categorical_crossentropy', metrics=['accuracy'])\n",
        "\n",
        "# Fit the model\n",
        "history = model.fit(train_images, train_labels_encoded,\n",
        "                    steps_per_epoch=len(train_images) / 32,\n",
        "                    epochs=50,\n",
        "                    validation_data=(test_images, test_labels_encoded),\n",
        "                    sample_weight=sample_weights)"
      ]
    },
    {
      "cell_type": "code",
      "execution_count": 31,
      "id": "f26751b2",
      "metadata": {
        "execution": {
          "iopub.execute_input": "2024-04-14T17:05:02.053212Z",
          "iopub.status.busy": "2024-04-14T17:05:02.051535Z",
          "iopub.status.idle": "2024-04-14T17:05:19.835728Z",
          "shell.execute_reply": "2024-04-14T17:05:19.834478Z"
        },
        "papermill": {
          "duration": 18.00706,
          "end_time": "2024-04-14T17:05:19.838422",
          "exception": false,
          "start_time": "2024-04-14T17:05:01.831362",
          "status": "completed"
        },
        "tags": [],
        "id": "f26751b2",
        "outputId": "94b91156-e7ac-44c6-9dab-ee5bafe014ce",
        "colab": {
          "base_uri": "https://localhost:8080/"
        }
      },
      "outputs": [
        {
          "output_type": "stream",
          "name": "stdout",
          "text": [
            "39/39 [==============================] - 0s 10ms/step\n",
            "ROC AUC: 0.9987596892400434\n"
          ]
        }
      ],
      "source": [
        "import numpy as np\n",
        "from sklearn.metrics import roc_auc_score\n",
        "\n",
        "y_prob = model.predict(test_images)\n",
        "y_prob = tf.nn.softmax(y_prob).numpy()\n",
        "\n",
        "# Compute ROC AUC for each class\n",
        "roc_auc = roc_auc_score(test_labels_encoded, y_prob, average='macro')\n",
        "\n",
        "print(\"ROC AUC:\", roc_auc)"
      ]
    },
    {
      "cell_type": "code",
      "execution_count": null,
      "id": "ac3ed08e",
      "metadata": {
        "execution": {
          "iopub.execute_input": "2024-04-14T17:05:20.292038Z",
          "iopub.status.busy": "2024-04-14T17:05:20.291618Z",
          "iopub.status.idle": "2024-04-14T17:05:20.44734Z",
          "shell.execute_reply": "2024-04-14T17:05:20.445546Z"
        },
        "papermill": {
          "duration": 0.387138,
          "end_time": "2024-04-14T17:05:20.450268",
          "exception": false,
          "start_time": "2024-04-14T17:05:20.06313",
          "status": "completed"
        },
        "tags": [],
        "id": "ac3ed08e",
        "outputId": "e6a9891b-e633-4c66-c7f3-563344ad529f",
        "colab": {
          "base_uri": "https://localhost:8080/"
        }
      },
      "outputs": [
        {
          "output_type": "stream",
          "name": "stderr",
          "text": [
            "/usr/local/lib/python3.10/dist-packages/keras/src/engine/training.py:3103: UserWarning: You are saving your model as an HDF5 file via `model.save()`. This file format is considered legacy. We recommend using instead the native Keras format, e.g. `model.save('my_model.keras')`.\n",
            "  saving_api.save_model(\n"
          ]
        }
      ],
      "source": [
        "# Save the model\n",
        "model.save(\"my_cnn_model.h5\")\n"
      ]
    },
    {
      "cell_type": "code",
      "source": [
        "import os\n",
        "import numpy as np\n",
        "directory = '/content/Alzheimer_s Dataset/test'\n",
        "\n",
        "files = [file for file in os.listdir(directory) if file.endswith('.npy')]\n",
        "len(files)"
      ],
      "metadata": {
        "id": "CihNhxENChlt",
        "outputId": "3023248a-549b-4fbb-cc42-84b8df9e6249",
        "colab": {
          "base_uri": "https://localhost:8080/"
        }
      },
      "id": "CihNhxENChlt",
      "execution_count": 32,
      "outputs": [
        {
          "output_type": "execute_result",
          "data": {
            "text/plain": [
              "1279"
            ]
          },
          "metadata": {},
          "execution_count": 32
        }
      ]
    },
    {
      "cell_type": "code",
      "source": [
        "mildDem = [i for i in files if i.startswith(\"MildDem\")]\n",
        "moderateDem = [i for i in files if \"ModerateDem\" in i]\n",
        "nonDem = [i for i in files if \"NonDem\" in i]\n",
        "veryMild = [i for i in files if \"VeryMildDem\" in i]\n",
        "print(len(mildDem), len(moderateDem), len(nonDem), len(veryMild))"
      ],
      "metadata": {
        "id": "avj2hYL_Cp9p",
        "outputId": "5f54f8bc-c282-429d-b4f9-bed6bc7ba750",
        "colab": {
          "base_uri": "https://localhost:8080/"
        }
      },
      "id": "avj2hYL_Cp9p",
      "execution_count": 33,
      "outputs": [
        {
          "output_type": "stream",
          "name": "stdout",
          "text": [
            "179 12 640 448\n"
          ]
        }
      ]
    },
    {
      "cell_type": "code",
      "source": [
        "import pandas as pd\n",
        "l = [[mildDem, 0], [moderateDem, 1], [nonDem, 2], [veryMild, 3]]\n",
        "x = []\n",
        "for i in l:\n",
        "    for j in i[0]:\n",
        "        path = os.path.join(\"/content/Alzheimer_s Dataset/test\", j)\n",
        "        x.append([i[1], path])\n",
        "\n",
        "df = pd.DataFrame(x, columns=[\"Class\", \"Path\"])\n",
        "df[\"Class\"].value_counts()\n"
      ],
      "metadata": {
        "id": "63L3eQx3Cs6g",
        "outputId": "c131d3a3-ee58-4cfd-a12c-6d6a08cf485a",
        "colab": {
          "base_uri": "https://localhost:8080/"
        }
      },
      "id": "63L3eQx3Cs6g",
      "execution_count": 34,
      "outputs": [
        {
          "output_type": "execute_result",
          "data": {
            "text/plain": [
              "Class\n",
              "2    640\n",
              "3    448\n",
              "0    179\n",
              "1     12\n",
              "Name: count, dtype: int64"
            ]
          },
          "metadata": {},
          "execution_count": 34
        }
      ]
    },
    {
      "cell_type": "code",
      "source": [
        "images = []\n",
        "for i in df[\"Path\"]:\n",
        "    images.append(np.load(i))\n",
        "images = np.array(images)"
      ],
      "metadata": {
        "id": "QwkXDmRMCwlr"
      },
      "id": "QwkXDmRMCwlr",
      "execution_count": 35,
      "outputs": []
    },
    {
      "cell_type": "code",
      "source": [
        "labels = df[\"Class\"]\n",
        "labels = to_categorical(labels, num_classes=4)\n",
        "# Verify the encoded labels\n",
        "print(labels.shape)"
      ],
      "metadata": {
        "id": "N6jxb1FwC2bj",
        "outputId": "9e13f474-d1fa-42a8-cacb-b7dc2555137d",
        "colab": {
          "base_uri": "https://localhost:8080/"
        }
      },
      "id": "N6jxb1FwC2bj",
      "execution_count": 37,
      "outputs": [
        {
          "output_type": "stream",
          "name": "stdout",
          "text": [
            "(1279, 4)\n"
          ]
        }
      ]
    },
    {
      "cell_type": "code",
      "source": [
        "l = []\n",
        "for i in labels:\n",
        "  for j in range(4):\n",
        "    if i[j] == 1:\n",
        "      l.append(j)\n"
      ],
      "metadata": {
        "id": "pa815UOO8N0j"
      },
      "id": "pa815UOO8N0j",
      "execution_count": 43,
      "outputs": []
    },
    {
      "cell_type": "code",
      "source": [
        "y_prob = model.predict(images)\n",
        "\n",
        "# y_prob = tf.nn.softmax(y_prob).numpy()\n",
        "# Get the class with the highest probability for each prediction\n",
        "y_prob = np.argmax(y_prob, axis=1)  # Argmax gives index of max value\n",
        "for i in range(len(labels)):\n",
        "  print(l[i], y_prob[i])"
      ],
      "metadata": {
        "id": "I_42DXnvZVLB"
      },
      "id": "I_42DXnvZVLB",
      "execution_count": null,
      "outputs": []
    },
    {
      "cell_type": "code",
      "source": [
        "from sklearn.metrics import classification_report\n",
        "\n",
        "# Assuming you have predicted labels (predicted_classes) and true labels (test_labels_encoded)\n",
        "report = classification_report(l, y_prob, output_dict=True)\n",
        "for i in report:\n",
        "  print(i, report[i])"
      ],
      "metadata": {
        "id": "Whw0fiWMafyY",
        "outputId": "b59a206d-356d-4aec-b098-2401889cccb0",
        "colab": {
          "base_uri": "https://localhost:8080/"
        }
      },
      "id": "Whw0fiWMafyY",
      "execution_count": 45,
      "outputs": [
        {
          "output_type": "stream",
          "name": "stdout",
          "text": [
            "0 {'precision': 0.8695652173913043, 'recall': 0.22346368715083798, 'f1-score': 0.3555555555555555, 'support': 179}\n",
            "1 {'precision': 1.0, 'recall': 0.4166666666666667, 'f1-score': 0.5882352941176471, 'support': 12}\n",
            "2 {'precision': 0.6036585365853658, 'recall': 0.928125, 'f1-score': 0.731527093596059, 'support': 640}\n",
            "3 {'precision': 0.7090163934426229, 'recall': 0.3861607142857143, 'f1-score': 0.5, 'support': 448}\n",
            "accuracy 0.6348709929632526\n",
            "macro avg {'precision': 0.7955600368548232, 'recall': 0.4886040170258048, 'f1-score': 0.5438294858173154, 'support': 1279}\n",
            "weighted avg {'precision': 0.6814956853713625, 'recall': 0.6348709929632526, 'f1-score': 0.5964664643278609, 'support': 1279}\n"
          ]
        }
      ]
    },
    {
      "cell_type": "code",
      "source": [
        "model.evaluate(images, labels)"
      ],
      "metadata": {
        "id": "QdaXXEvFDJKJ",
        "outputId": "f3c4dd51-486e-44cd-ff3d-5d6e7a9eb256",
        "colab": {
          "base_uri": "https://localhost:8080/"
        }
      },
      "id": "QdaXXEvFDJKJ",
      "execution_count": null,
      "outputs": [
        {
          "output_type": "stream",
          "name": "stdout",
          "text": [
            "40/40 [==============================] - 1s 22ms/step - loss: 2.8566 - sparse_categorical_accuracy: 0.4949 - f1_score: nan\n"
          ]
        },
        {
          "output_type": "execute_result",
          "data": {
            "text/plain": [
              "[2.8566365242004395, 0.4949178993701935, nan]"
            ]
          },
          "metadata": {},
          "execution_count": 29
        }
      ]
    },
    {
      "cell_type": "code",
      "source": [],
      "metadata": {
        "id": "XREPQZ-SE05_"
      },
      "id": "XREPQZ-SE05_",
      "execution_count": null,
      "outputs": []
    }
  ],
  "metadata": {
    "kaggle": {
      "accelerator": "none",
      "dataSources": [
        {
          "datasetId": 457093,
          "sourceId": 861496,
          "sourceType": "datasetVersion"
        },
        {
          "datasetId": 4792690,
          "sourceId": 8112894,
          "sourceType": "datasetVersion"
        }
      ],
      "dockerImageVersionId": 30684,
      "isGpuEnabled": false,
      "isInternetEnabled": false,
      "language": "python",
      "sourceType": "notebook"
    },
    "kernelspec": {
      "display_name": "Python 3",
      "name": "python3"
    },
    "language_info": {
      "codemirror_mode": {
        "name": "ipython",
        "version": 3
      },
      "file_extension": ".py",
      "mimetype": "text/x-python",
      "name": "python",
      "nbconvert_exporter": "python",
      "pygments_lexer": "ipython3",
      "version": "3.10.13"
    },
    "papermill": {
      "default_parameters": {},
      "duration": 2677.012088,
      "end_time": "2024-04-14T17:05:23.465438",
      "environment_variables": {},
      "exception": null,
      "input_path": "__notebook__.ipynb",
      "output_path": "__notebook__.ipynb",
      "parameters": {},
      "start_time": "2024-04-14T16:20:46.45335",
      "version": "2.5.0"
    },
    "colab": {
      "provenance": [],
      "gpuType": "T4"
    },
    "accelerator": "GPU"
  },
  "nbformat": 4,
  "nbformat_minor": 5
}