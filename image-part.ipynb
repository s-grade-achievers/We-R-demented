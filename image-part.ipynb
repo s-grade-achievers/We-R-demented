{
 "cells": [
  {
   "cell_type": "markdown",
   "id": "10b48718",
   "metadata": {
    "papermill": {
     "duration": 0.003678,
     "end_time": "2024-04-14T02:15:41.762149",
     "exception": false,
     "start_time": "2024-04-14T02:15:41.758471",
     "status": "completed"
    },
    "tags": []
   },
   "source": [
    "# PRE PROCESS\n",
    ".JPG TO .NPY"
   ]
  },
  {
   "cell_type": "code",
   "execution_count": 1,
   "id": "7a241873",
   "metadata": {
    "_cell_guid": "b1076dfc-b9ad-4769-8c92-a6c4dae69d19",
    "_uuid": "8f2839f25d086af736a60e9eeb907d3b93b6e0e5",
    "execution": {
     "iopub.execute_input": "2024-04-14T02:15:41.769950Z",
     "iopub.status.busy": "2024-04-14T02:15:41.769565Z",
     "iopub.status.idle": "2024-04-14T02:16:27.215289Z",
     "shell.execute_reply": "2024-04-14T02:16:27.214018Z"
    },
    "papermill": {
     "duration": 45.453454,
     "end_time": "2024-04-14T02:16:27.218583",
     "exception": false,
     "start_time": "2024-04-14T02:15:41.765129",
     "status": "completed"
    },
    "tags": []
   },
   "outputs": [],
   "source": [
    "import os\n",
    "import cv2\n",
    "import numpy as np\n",
    "\n",
    "def jpg_to_npy_in_folders(input_folder, output_folder):\n",
    "    os.makedirs(output_folder, exist_ok=True)\n",
    "    for item in os.listdir(input_folder):\n",
    "        item_path = os.path.join(input_folder, item)\n",
    "        if os.path.isdir(item_path):\n",
    "            jpg_to_npy_in_folders(item_path, output_folder)\n",
    "        elif os.path.isfile(item_path) and item.endswith(\".jpg\"):\n",
    "            img = cv2.imread(item_path)\n",
    "            img_array = np.array(img)\n",
    "            output_file_path = os.path.join(output_folder, os.path.splitext(item)[0] + '.npy')\n",
    "            np.save(output_file_path, img_array)\n",
    "\n",
    "input_folder_path = \"/kaggle/input/alzheimers-dataset-4-class-of-images/Alzheimer_s Dataset/train\"\n",
    "output_folder_path = \"/kaggle/working/train\"\n",
    "\n",
    "jpg_to_npy_in_folders(input_folder_path, output_folder_path)\n",
    "jpg_to_npy_in_folders(\"/kaggle/input/alzheimers-dataset-4-class-of-images/Alzheimer_s Dataset/test\", \"/kaggle/working/test\")\n",
    "\n"
   ]
  },
  {
   "cell_type": "code",
   "execution_count": 2,
   "id": "ec4efa6a",
   "metadata": {
    "execution": {
     "iopub.execute_input": "2024-04-14T02:16:27.226347Z",
     "iopub.status.busy": "2024-04-14T02:16:27.225959Z",
     "iopub.status.idle": "2024-04-14T02:16:27.346111Z",
     "shell.execute_reply": "2024-04-14T02:16:27.345273Z"
    },
    "papermill": {
     "duration": 0.126846,
     "end_time": "2024-04-14T02:16:27.348557",
     "exception": false,
     "start_time": "2024-04-14T02:16:27.221711",
     "status": "completed"
    },
    "tags": []
   },
   "outputs": [
    {
     "data": {
      "text/plain": [
       "5121"
      ]
     },
     "execution_count": 2,
     "metadata": {},
     "output_type": "execute_result"
    }
   ],
   "source": [
    "import os\n",
    "\n",
    "directory = '/kaggle/input/preprocessed-images'\n",
    "\n",
    "files = [file for file in os.listdir(directory) if file.endswith('.npy')]\n",
    "len(files)\n"
   ]
  },
  {
   "cell_type": "code",
   "execution_count": 3,
   "id": "cb487391",
   "metadata": {
    "execution": {
     "iopub.execute_input": "2024-04-14T02:16:27.357756Z",
     "iopub.status.busy": "2024-04-14T02:16:27.355796Z",
     "iopub.status.idle": "2024-04-14T02:16:27.366193Z",
     "shell.execute_reply": "2024-04-14T02:16:27.365223Z"
    },
    "papermill": {
     "duration": 0.0177,
     "end_time": "2024-04-14T02:16:27.369353",
     "exception": false,
     "start_time": "2024-04-14T02:16:27.351653",
     "status": "completed"
    },
    "tags": []
   },
   "outputs": [
    {
     "name": "stdout",
     "output_type": "stream",
     "text": [
      "2509 52 2560 1792\n"
     ]
    }
   ],
   "source": [
    "mildDem = [i for i in files if \"mildDem\" in i]\n",
    "moderateDem = [i for i in files if \"moderateDem\" in i]\n",
    "nonDem = [i for i in files if \"nonDem\" in i]\n",
    "veryMild = [i for i in files if \"verymildDem\" in i]\n",
    "print(len(mildDem), len(moderateDem), len(nonDem), len(veryMild))"
   ]
  },
  {
   "cell_type": "code",
   "execution_count": null,
   "id": "1a7224f5",
   "metadata": {
    "papermill": {
     "duration": 0.002829,
     "end_time": "2024-04-14T02:16:27.376019",
     "exception": false,
     "start_time": "2024-04-14T02:16:27.373190",
     "status": "completed"
    },
    "tags": []
   },
   "outputs": [],
   "source": []
  }
 ],
 "metadata": {
  "kaggle": {
   "accelerator": "none",
   "dataSources": [
    {
     "datasetId": 457093,
     "sourceId": 861496,
     "sourceType": "datasetVersion"
    },
    {
     "datasetId": 4781579,
     "sourceId": 8097820,
     "sourceType": "datasetVersion"
    }
   ],
   "dockerImageVersionId": 30684,
   "isGpuEnabled": false,
   "isInternetEnabled": true,
   "language": "python",
   "sourceType": "notebook"
  },
  "kernelspec": {
   "display_name": "Python 3",
   "language": "python",
   "name": "python3"
  },
  "language_info": {
   "codemirror_mode": {
    "name": "ipython",
    "version": 3
   },
   "file_extension": ".py",
   "mimetype": "text/x-python",
   "name": "python",
   "nbconvert_exporter": "python",
   "pygments_lexer": "ipython3",
   "version": "3.10.13"
  },
  "papermill": {
   "default_parameters": {},
   "duration": 49.14947,
   "end_time": "2024-04-14T02:16:27.800394",
   "environment_variables": {},
   "exception": null,
   "input_path": "__notebook__.ipynb",
   "output_path": "__notebook__.ipynb",
   "parameters": {},
   "start_time": "2024-04-14T02:15:38.650924",
   "version": "2.5.0"
  }
 },
 "nbformat": 4,
 "nbformat_minor": 5
}
