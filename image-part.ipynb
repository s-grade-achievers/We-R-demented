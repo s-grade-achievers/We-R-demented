{
 "cells": [
  {
   "cell_type": "markdown",
   "id": "7245de21",
   "metadata": {
    "papermill": {
     "duration": 0.003609,
     "end_time": "2024-04-14T03:12:24.567596",
     "exception": false,
     "start_time": "2024-04-14T03:12:24.563987",
     "status": "completed"
    },
    "tags": []
   },
   "source": [
    "# PRE PROCESS\n",
    ".JPG TO .NPY"
   ]
  },
  {
   "cell_type": "code",
   "execution_count": 1,
   "id": "57e87d38",
   "metadata": {
    "_cell_guid": "b1076dfc-b9ad-4769-8c92-a6c4dae69d19",
    "_uuid": "8f2839f25d086af736a60e9eeb907d3b93b6e0e5",
    "execution": {
     "iopub.execute_input": "2024-04-14T03:12:24.576082Z",
     "iopub.status.busy": "2024-04-14T03:12:24.575360Z",
     "iopub.status.idle": "2024-04-14T03:12:24.581019Z",
     "shell.execute_reply": "2024-04-14T03:12:24.579806Z"
    },
    "papermill": {
     "duration": 0.012829,
     "end_time": "2024-04-14T03:12:24.583622",
     "exception": false,
     "start_time": "2024-04-14T03:12:24.570793",
     "status": "completed"
    },
    "tags": []
   },
   "outputs": [],
   "source": [
    "# import os\n",
    "# import cv2\n",
    "# import numpy as np\n",
    "\n",
    "# def jpg_to_npy_in_folders(input_folder, output_folder):\n",
    "#     os.makedirs(output_folder, exist_ok=True)\n",
    "#     for item in os.listdir(input_folder):\n",
    "#         item_path = os.path.join(input_folder, item)\n",
    "#         if os.path.isdir(item_path):\n",
    "#             jpg_to_npy_in_folders(item_path, output_folder)\n",
    "#         elif os.path.isfile(item_path) and item.endswith(\".jpg\"):\n",
    "#             img = cv2.imread(item_path)\n",
    "#             img_array = np.array(img)\n",
    "#             output_file_path = os.path.join(output_folder, os.path.splitext(item)[0] + '.npy')\n",
    "#             np.save(output_file_path, img_array)\n",
    "\n",
    "# input_folder_path = \"/kaggle/input/alzheimers-dataset-4-class-of-images/Alzheimer_s Dataset/train\"\n",
    "# output_folder_path = \"/kaggle/working/train\"\n",
    "\n",
    "# jpg_to_npy_in_folders(input_folder_path, output_folder_path)\n",
    "# jpg_to_npy_in_folders(\"/kaggle/input/alzheimers-dataset-4-class-of-images/Alzheimer_s Dataset/test\", \"/kaggle/working/test\")\n",
    "\n"
   ]
  },
  {
   "cell_type": "code",
   "execution_count": 2,
   "id": "ac3fdcce",
   "metadata": {
    "execution": {
     "iopub.execute_input": "2024-04-14T03:12:24.592096Z",
     "iopub.status.busy": "2024-04-14T03:12:24.591429Z",
     "iopub.status.idle": "2024-04-14T03:12:24.741054Z",
     "shell.execute_reply": "2024-04-14T03:12:24.739864Z"
    },
    "papermill": {
     "duration": 0.156671,
     "end_time": "2024-04-14T03:12:24.743404",
     "exception": false,
     "start_time": "2024-04-14T03:12:24.586733",
     "status": "completed"
    },
    "tags": []
   },
   "outputs": [
    {
     "data": {
      "text/plain": [
       "5121"
      ]
     },
     "execution_count": 2,
     "metadata": {},
     "output_type": "execute_result"
    }
   ],
   "source": [
    "import os\n",
    "import numpy as np\n",
    "directory = '/kaggle/input/better-preproc/train'\n",
    "\n",
    "files = [file for file in os.listdir(directory) if file.endswith('.npy')]\n",
    "len(files)\n"
   ]
  },
  {
   "cell_type": "code",
   "execution_count": 3,
   "id": "80342ff5",
   "metadata": {
    "execution": {
     "iopub.execute_input": "2024-04-14T03:12:24.751151Z",
     "iopub.status.busy": "2024-04-14T03:12:24.750769Z",
     "iopub.status.idle": "2024-04-14T03:12:24.760381Z",
     "shell.execute_reply": "2024-04-14T03:12:24.759084Z"
    },
    "papermill": {
     "duration": 0.016383,
     "end_time": "2024-04-14T03:12:24.762903",
     "exception": false,
     "start_time": "2024-04-14T03:12:24.746520",
     "status": "completed"
    },
    "tags": []
   },
   "outputs": [
    {
     "name": "stdout",
     "output_type": "stream",
     "text": [
      "2509 52 2560 1792\n"
     ]
    }
   ],
   "source": [
    "mildDem = [i for i in files if \"mildDem\" in i]\n",
    "moderateDem = [i for i in files if \"moderateDem\" in i]\n",
    "nonDem = [i for i in files if \"nonDem\" in i]\n",
    "veryMild = [i for i in files if \"verymildDem\" in i]\n",
    "print(len(mildDem), len(moderateDem), len(nonDem), len(veryMild))"
   ]
  },
  {
   "cell_type": "code",
   "execution_count": 4,
   "id": "2107eee3",
   "metadata": {
    "execution": {
     "iopub.execute_input": "2024-04-14T03:12:24.771630Z",
     "iopub.status.busy": "2024-04-14T03:12:24.770596Z",
     "iopub.status.idle": "2024-04-14T03:12:28.545557Z",
     "shell.execute_reply": "2024-04-14T03:12:28.544177Z"
    },
    "papermill": {
     "duration": 3.781966,
     "end_time": "2024-04-14T03:12:28.548164",
     "exception": false,
     "start_time": "2024-04-14T03:12:24.766198",
     "status": "completed"
    },
    "tags": []
   },
   "outputs": [],
   "source": [
    "import imgaug.augmenters as iaa\n",
    "\n",
    "# Define the augmenter\n",
    "augmenter = iaa.Sequential([\n",
    "    iaa.Multiply((0.8, 1.2)),  \n",
    "    iaa.LinearContrast((0.8, 1.2)),  \n",
    "])\n",
    "\n",
    "augmented_images = []\n",
    "\n",
    "for path in moderateDem:\n",
    "    path = os.path.join(\"/kaggle/input/better-preproc/train\", path)\n",
    "    image = np.load(path)\n",
    "    \n",
    "    for _ in range(30):\n",
    "        augmented_image = augmenter.augment_image(image)\n",
    "        augmented_images.append(augmented_image)\n",
    "augmented_images = np.array(augmented_images)"
   ]
  },
  {
   "cell_type": "code",
   "execution_count": 5,
   "id": "4f236310",
   "metadata": {
    "execution": {
     "iopub.execute_input": "2024-04-14T03:12:28.556352Z",
     "iopub.status.busy": "2024-04-14T03:12:28.555838Z",
     "iopub.status.idle": "2024-04-14T03:12:28.563402Z",
     "shell.execute_reply": "2024-04-14T03:12:28.561627Z"
    },
    "papermill": {
     "duration": 0.014832,
     "end_time": "2024-04-14T03:12:28.566248",
     "exception": false,
     "start_time": "2024-04-14T03:12:28.551416",
     "status": "completed"
    },
    "tags": []
   },
   "outputs": [
    {
     "data": {
      "text/plain": [
       "1560"
      ]
     },
     "execution_count": 5,
     "metadata": {},
     "output_type": "execute_result"
    }
   ],
   "source": [
    "len(augmented_images)"
   ]
  },
  {
   "cell_type": "code",
   "execution_count": 6,
   "id": "2ebdc758",
   "metadata": {
    "execution": {
     "iopub.execute_input": "2024-04-14T03:12:28.575614Z",
     "iopub.status.busy": "2024-04-14T03:12:28.574752Z",
     "iopub.status.idle": "2024-04-14T03:12:28.918895Z",
     "shell.execute_reply": "2024-04-14T03:12:28.917570Z"
    },
    "papermill": {
     "duration": 0.351369,
     "end_time": "2024-04-14T03:12:28.921428",
     "exception": false,
     "start_time": "2024-04-14T03:12:28.570059",
     "status": "completed"
    },
    "tags": []
   },
   "outputs": [
    {
     "name": "stdout",
     "output_type": "stream",
     "text": [
      "Augmented images saved successfully.\n"
     ]
    }
   ],
   "source": [
    "import cv2\n",
    "import os\n",
    "\n",
    "\n",
    "output_directory = \"/kaggle/working\"\n",
    "\n",
    "os.makedirs(output_directory, exist_ok=True)\n",
    "\n",
    "for i, image in enumerate(augmented_images):\n",
    "    output_path = os.path.join(output_directory, f\"moderateDem{i+53}.npy\")\n",
    "    np.save(output_path, image)\n",
    "    \n",
    "\n",
    "print(\"Augmented images saved successfully.\")\n"
   ]
  },
  {
   "cell_type": "code",
   "execution_count": null,
   "id": "9bb31acb",
   "metadata": {
    "papermill": {
     "duration": 0.00313,
     "end_time": "2024-04-14T03:12:28.928087",
     "exception": false,
     "start_time": "2024-04-14T03:12:28.924957",
     "status": "completed"
    },
    "tags": []
   },
   "outputs": [],
   "source": []
  }
 ],
 "metadata": {
  "kaggle": {
   "accelerator": "none",
   "dataSources": [
    {
     "datasetId": 457093,
     "sourceId": 861496,
     "sourceType": "datasetVersion"
    },
    {
     "datasetId": 4792489,
     "sourceId": 8112610,
     "sourceType": "datasetVersion"
    }
   ],
   "dockerImageVersionId": 30684,
   "isGpuEnabled": false,
   "isInternetEnabled": true,
   "language": "python",
   "sourceType": "notebook"
  },
  "kernelspec": {
   "display_name": "Python 3",
   "language": "python",
   "name": "python3"
  },
  "language_info": {
   "codemirror_mode": {
    "name": "ipython",
    "version": 3
   },
   "file_extension": ".py",
   "mimetype": "text/x-python",
   "name": "python",
   "nbconvert_exporter": "python",
   "pygments_lexer": "ipython3",
   "version": "3.10.13"
  },
  "papermill": {
   "default_parameters": {},
   "duration": 7.838745,
   "end_time": "2024-04-14T03:12:29.453212",
   "environment_variables": {},
   "exception": null,
   "input_path": "__notebook__.ipynb",
   "output_path": "__notebook__.ipynb",
   "parameters": {},
   "start_time": "2024-04-14T03:12:21.614467",
   "version": "2.5.0"
  }
 },
 "nbformat": 4,
 "nbformat_minor": 5
}
